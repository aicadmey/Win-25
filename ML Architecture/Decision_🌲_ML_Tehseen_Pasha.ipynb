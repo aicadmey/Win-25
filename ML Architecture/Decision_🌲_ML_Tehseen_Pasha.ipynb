{
  "nbformat": 4,
  "nbformat_minor": 0,
  "metadata": {
    "colab": {
      "provenance": []
    },
    "kernelspec": {
      "name": "python3",
      "display_name": "Python 3"
    },
    "language_info": {
      "name": "python"
    }
  },
  "cells": [
    {
      "cell_type": "code",
      "source": [
        "\n",
        "from sklearn.tree import DecisionTreeClassifier, export_text\n",
        "from sklearn.model_selection import train_test_split\n",
        "from sklearn.metrics import accuracy_score\n",
        "import pandas as pd\n",
        "\n",
        "# Sample medical dataset\n",
        "# Each row represents a patient. Columns are: Age, Blood Pressure, Glucose Level, and Diabetes (Target: 1 = Yes, 0 = No)\n",
        "data = {\n",
        "    \"Age\": [25, 35, 45, 50, 23, 40, 60, 65, 70, 75],\n",
        "    \"BloodPressure\": [120, 140, 130, 150, 115, 135, 160, 155, 145, 170],\n",
        "    \"GlucoseLevel\": [85, 90, 200, 180, 95, 160, 220, 190, 210, 240],\n",
        "    \"Diabetes\": [0, 0, 1, 1, 0, 1, 1, 1, 1, 1]\n",
        "}\n",
        "\n",
        "\n",
        "df = pd.DataFrame(data)\n",
        "\n",
        "\n",
        "X = df[[\"Age\", \"BloodPressure\", \"GlucoseLevel\"]]  # Features\n",
        "y = df[\"Diabetes\"]\n",
        "\n",
        "\n",
        "X_train, X_test, y_train, y_test = train_test_split(X, y, test_size=0.3, random_state=43)\n",
        "\n",
        "\n",
        "clf = DecisionTreeClassifier(criterion=\"gini\", max_depth=3, random_state=43)\n",
        "\n",
        "\n",
        "clf.fit(X_train, y_train)\n",
        "\n",
        "# Predict on the test\n",
        "y_pred = clf.predict(X_test)\n",
        "\n",
        "\n",
        "accuracy = accuracy_score(y_test, y_pred)\n",
        "print(f\"Model Accuracy: {accuracy * 100:.2f}%\")\n",
        "\n",
        "\n",
        "tree_rules = export_text(clf, feature_names=list(X.columns))\n",
        "print(\"\\nDecision Tree Rules:\")\n",
        "print(tree_rules)"
      ],
      "metadata": {
        "colab": {
          "base_uri": "https://localhost:8080/"
        },
        "id": "OMcUTuXIfW4i",
        "outputId": "91568ec2-6595-4197-a5bd-19f5f2192753"
      },
      "execution_count": null,
      "outputs": [
        {
          "output_type": "stream",
          "name": "stdout",
          "text": [
            "Model Accuracy: 100.00%\n",
            "\n",
            "Decision Tree Rules:\n",
            "|--- Age <= 37.50\n",
            "|   |--- class: 0\n",
            "|--- Age >  37.50\n",
            "|   |--- class: 1\n",
            "\n"
          ]
        }
      ]
    }
  ]
}