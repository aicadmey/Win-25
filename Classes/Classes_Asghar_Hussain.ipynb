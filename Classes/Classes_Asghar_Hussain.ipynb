{
  "nbformat": 4,
  "nbformat_minor": 0,
  "metadata": {
    "colab": {
      "provenance": []
    },
    "kernelspec": {
      "name": "python3",
      "display_name": "Python 3"
    },
    "language_info": {
      "name": "python"
    }
  },
  "cells": [
    {
      "cell_type": "markdown",
      "source": [
        "Examples of Classes"
      ],
      "metadata": {
        "id": "AXSo8WQxKOEy"
      }
    },
    {
      "cell_type": "code",
      "execution_count": null,
      "metadata": {
        "colab": {
          "base_uri": "https://localhost:8080/"
        },
        "id": "1ISPAXqHKI9S",
        "outputId": "5568c657-2b40-492d-b129-05688a68cb08"
      },
      "outputs": [
        {
          "output_type": "stream",
          "name": "stdout",
          "text": [
            "The shape of this Moon is  Round\n",
            "The size of this Moon is  1738 km\n",
            "The distance of this Moon is  384000 km\n",
            "The gravity of this Moon is  6.9ms**-2\n"
          ]
        }
      ],
      "source": [
        "class Moon :\n",
        "    def __init__(self, shape , size, distance , gavity):\n",
        "        self.shape = shape\n",
        "        self.size = size\n",
        "        self.distance = distance\n",
        "        self.gavity = gavity\n",
        "\n",
        "    def set_attributes(self, shape , size, distance , gravity):\n",
        "        self.shape = shape\n",
        "        self.size = size\n",
        "        self.distance = distance\n",
        "        self.gravity = gravity\n",
        "\n",
        "    def print_attributes(self):\n",
        "        print(f\"The shape of this Moon is \", self.shape)\n",
        "        print(f\"The size of this Moon is \", self.size)\n",
        "        print(f\"The distance of this Moon is \", self.distance)\n",
        "        print(f\"The gravity of this Moon is \", self.gravity)\n",
        "\n",
        "Moon.set_attributes(Moon,\"Round\",\"1738 km\",\"384000 km\" , \"6.9ms**-2\")\n",
        "Moon.print_attributes(Moon)\n",
        "\n",
        "\n",
        "\n",
        "\n"
      ]
    },
    {
      "cell_type": "code",
      "source": [
        "class Sun :\n",
        "    def __init__(self, shape , size, distance , mass , gravity):\n",
        "        self.shape = shape\n",
        "        self.size = size\n",
        "        self.distance = distance\n",
        "        self.mass = mass\n",
        "        self.gravity = gravity\n",
        "\n",
        "    def set_attributes(self, shape , size, distance , mass , gravity):\n",
        "        self.shape = shape\n",
        "        self.size = size\n",
        "        self.distance = distance\n",
        "        self.mass = mass\n",
        "        self.gravity = gravity\n",
        "\n",
        "    def print_attributes(self):\n",
        "        print(f\"The shape of this Sun is \", self.shape)\n",
        "        print(f\"The size of this Sun is \", self.size)\n",
        "        print(f\"The distance of this Sun is \", self.distance)\n",
        "        print(f\"The mass of this Sun is \", self.mass)\n",
        "        print(f\"The gravity of this Sun is \", self.gravity)\n",
        "\n",
        "\n",
        "s1 = Sun\n",
        "s2 = Sun\n",
        "s1.set_attributes(Sun,\"Round\",\"1,391,000 km\", \"150000000 km\", \" 1.98892 x 10**30 kg\",\" 27.94 gms**-2\")\n",
        "s1.print_attributes(Sun)"
      ],
      "metadata": {
        "colab": {
          "base_uri": "https://localhost:8080/"
        },
        "id": "n5n_UuDdOe-H",
        "outputId": "1eeb1208-4563-4175-e9b9-a3a0c0a03b93"
      },
      "execution_count": null,
      "outputs": [
        {
          "output_type": "stream",
          "name": "stdout",
          "text": [
            "The shape of this Sun is  Round\n",
            "The size of this Sun is  1,391,000 km\n",
            "The distance of this Sun is  150000000 km\n",
            "The mass of this Sun is   1.98892 x 10**30 kg\n",
            "The gravity of this Sun is   27.94 gms**-2\n"
          ]
        }
      ]
    },
    {
      "cell_type": "code",
      "source": [
        "class CelestialBody:\n",
        "    def __init__(self, name, mass, radius, orbital_period):\n",
        "        self.name = name\n",
        "        self.mass = mass\n",
        "        self.radius = radius\n",
        "        self.orbital_period = orbital_period\n",
        "\n",
        "    def calculate_gravity(self, distance):\n",
        "        # Calculate gravitational force using Newton's law of universal gravitation\n",
        "        pass\n",
        "\n",
        "    def orbit(self):\n",
        "        # Simulate orbital motion\n",
        "        pass\n",
        "\n",
        "class Star(CelestialBody):\n",
        "    def __init__(self, name, mass, radius, orbital_period, spectral_type):\n",
        "        super().__init__(name, mass, radius, orbital_period)\n",
        "        self.spectral_type = spectral_type\n",
        "\n",
        "    def fusion(self):\n",
        "        # Simulate nuclear fusion\n",
        "        pass\n",
        "\n",
        "class Planet(CelestialBody):\n",
        "    def __init__(self, name, mass, radius, orbital_period, atmosphere_composition):\n",
        "        super().__init__(name, mass, radius, orbital_period)\n",
        "        self.atmosphere_composition = atmosphere_composition\n",
        "\n",
        "    def climate_simulation(self):\n",
        "        # Simulate climate conditions\n",
        "        pass\n",
        "\n",
        "class Moon(CelestialBody):\n",
        "    def __init__(self, name, mass, radius, orbital_period, parent_planet):\n",
        "        super().__init__(name, mass, radius, orbital_period)\n",
        "        self.parent_planet = parent_planet\n",
        "\n",
        "    def tidal_forces(self):\n",
        "        # Calculate tidal forces on the parent planet\n",
        "        pass\n",
        "\n",
        "class Asteroid(CelestialBody):\n",
        "    def __init__(self, name, mass, radius, orbital_period, impact_velocity):\n",
        "        super().__init__(name, mass, radius, orbital_period)\n",
        "        self.impact_velocity = impact_velocity\n",
        "\n",
        "    def impact_simulation(self):\n",
        "        # Simulate the impact of the asteroid on the Earth's atmosphere\n",
        "        pass\n",
        "\n",
        "# Example usage:\n",
        "sun = Star(\"Sun\", 1.98892e30, 696340, 0, \"G2V\")\n",
        "earth = Planet(\"Earth\", 5.972e24, 6371, 365.256, \"Nitrogen, Oxygen\")\n",
        "moon = Moon(\"Moon\", 7.342e22, 1737, 27.3216, earth)\n",
        "\n",
        "print(f\"{sun.name} is a {sun.spectral_type} star with a mass of {sun.mass} kg.\")\n",
        "print(f\"{earth.name} is a planet with a radius of {earth.radius} km and an orbital period of {earth.orbital_period} days.\")\n",
        "print(f\"{moon.name} is a moon of {moon.parent_planet.name} with a radius of {moon.radius} km.\")\n",
        "\n"
      ],
      "metadata": {
        "colab": {
          "base_uri": "https://localhost:8080/"
        },
        "id": "CX82_GTeSfKV",
        "outputId": "45f35fcf-b320-4f97-f226-d395cc9723aa"
      },
      "execution_count": null,
      "outputs": [
        {
          "output_type": "stream",
          "name": "stdout",
          "text": [
            "Sun is a G2V star with a mass of 1.98892e+30 kg.\n",
            "Earth is a planet with a radius of 6371 km and an orbital period of 365.256 days.\n",
            "Moon is a moon of Earth with a radius of 1737 km.\n"
          ]
        }
      ]
    },
    {
      "cell_type": "code",
      "source": [
        "class Spacecraft:\n",
        "    def __init__(self, name, mass, propulsion_system, payload):\n",
        "        self.name = name\n",
        "        self.mass = mass\n",
        "        self.propulsion_system = propulsion_system\n",
        "        self.payload = payload\n",
        "\n",
        "    def launch(self):\n",
        "        # Simulate launch sequence\n",
        "        pass\n",
        "\n",
        "    def maneuver(self):\n",
        "        # Simulate orbital maneuvers\n",
        "        pass\n",
        "\n",
        "    def landing(self):\n",
        "        # Simulate landing sequence\n",
        "        pass\n",
        "\n",
        "    def docking(self):\n",
        "        # Simulate docking sequence\n",
        "        pass\n",
        "\n",
        "    def diagnostics(self):\n",
        "        # Simulate diagnostic checks\n",
        "        pass\n",
        "\n",
        "    def maintenance(self):\n",
        "        # Simulate maintenance activities\n",
        "        pass\n",
        "\n",
        "\n",
        "    def flight_recorder(self):\n",
        "        # Simulate flight recording\n",
        "\n",
        "        pass\n",
        "\n",
        "class Rocket(Spacecraft):\n",
        "    def __init__(self, name, mass, propulsion_system, payload, rocket_type):\n",
        "        super().__init__(name, mass, propulsion_system, payload)\n",
        "        self.rocket_type = rocket_type\n",
        "\n",
        "\n",
        "class Satellite(Spacecraft):\n",
        "    def __init__(self, name, mass, propulsion_system, payload, orbit_type):\n",
        "        super().__init__(name, mass, propulsion_system, payload)\n",
        "        self.orbit_type = orbit_type\n",
        "\n",
        "\n",
        "class SpaceStation(Spacecraft):\n",
        "    def __init__(self, name, mass, propulsion_system, payload, station_type):\n",
        "        super().__init__(name, mass, propulsion_system, payload)\n",
        "        self.station_type = station_type\n",
        "\n",
        "\n",
        "#Example usage\n",
        "# rocket = Rocket()"
      ],
      "metadata": {
        "id": "LDTt2UCUSw_P"
      },
      "execution_count": null,
      "outputs": []
    }
  ]
}