{
  "nbformat": 4,
  "nbformat_minor": 0,
  "metadata": {
    "colab": {
      "provenance": []
    },
    "kernelspec": {
      "name": "python3",
      "display_name": "Python 3"
    },
    "language_info": {
      "name": "python"
    }
  },
  "cells": [
    {
      "cell_type": "markdown",
      "source": [
        "One Class with one sub Class"
      ],
      "metadata": {
        "id": "dIM4efcTsZTB"
      }
    },
    {
      "cell_type": "code",
      "execution_count": null,
      "metadata": {
        "colab": {
          "base_uri": "https://localhost:8080/"
        },
        "id": "Q74hrOKgrern",
        "outputId": "683c3b55-7c40-4469-c2eb-813860a7aafa"
      },
      "outputs": [
        {
          "output_type": "stream",
          "name": "stdout",
          "text": [
            "triw ! triw !\n"
          ]
        }
      ],
      "source": [
        "class Bird:\n",
        "    def __init__(self, name):\n",
        "        self.name = name\n",
        "\n",
        "    def sound(self):\n",
        "        print(\"Overall Bird sound\")\n",
        "\n",
        "class Sparrow(Bird):\n",
        "    def sound(self):\n",
        "        print(\"triw ! triw !\")\n",
        "\n",
        "# instance of the Dog class\n",
        "my_sparrow = Sparrow(\"sweeti\")\n",
        "my_sparrow.sound()"
      ]
    },
    {
      "cell_type": "markdown",
      "source": [
        "Class with two subclasses"
      ],
      "metadata": {
        "id": "tzULtwMYsnlv"
      }
    },
    {
      "cell_type": "code",
      "source": [
        "class Shape:\n",
        "    def __init__(self, color):\n",
        "        self.color = color\n",
        "\n",
        "class Circle(Shape):\n",
        "    def __init__(self, color, radius):\n",
        "        super().__init__(color)  # Calling the parent attributes in child throug super()\n",
        "        self.radius = radius\n",
        "\n",
        "class Square(Shape):\n",
        "    def __init__(self, color, side):\n",
        "        super().__init__(color)\n",
        "        self.side = side\n",
        "\n",
        "# Create instances\n",
        "my_circle = Circle(\"Red\", 5)\n",
        "my_square = Square(\"Blue\", 4)\n",
        "\n",
        "# Access and print attributes\n",
        "print(f\"Circle - Color: {my_circle.color}, Radius: {my_circle.radius}\")\n",
        "print(f\"Square - Color: {my_square.color}, Side: {my_square.side}\")"
      ],
      "metadata": {
        "colab": {
          "base_uri": "https://localhost:8080/"
        },
        "id": "91nVtzO0srYV",
        "outputId": "80c460af-e47d-453d-ebd5-c8a6b97d24b5"
      },
      "execution_count": null,
      "outputs": [
        {
          "output_type": "stream",
          "name": "stdout",
          "text": [
            "Circle - Color: Red, Radius: 5\n",
            "Square - Color: Blue, Side: 4\n"
          ]
        }
      ]
    },
    {
      "cell_type": "markdown",
      "source": [
        "Class with 3 subclasses\n"
      ],
      "metadata": {
        "id": "r4TjmQfGsYJJ"
      }
    },
    {
      "cell_type": "code",
      "source": [
        "class Vehicle:\n",
        "    def __init__(self, brand):\n",
        "        self.brand = brand\n",
        "\n",
        "class Car(Vehicle):\n",
        "    def __init__(self, brand, model):\n",
        "        super().__init__(brand)\n",
        "        self.model = model\n",
        "\n",
        "class Truck(Vehicle):\n",
        "    def __init__(self, brand, load_capacity):\n",
        "        super().__init__(brand)\n",
        "        self.load_capacity = load_capacity\n",
        "\n",
        "class Motorcycle(Vehicle):\n",
        "    def __init__(self, brand, engine_size):\n",
        "        super().__init__(brand)\n",
        "        self.engine_size = engine_size\n",
        "\n",
        "# instances\n",
        "my_car = Car(\"Toyota\", \"Camry\")\n",
        "my_truck = Truck(\"Ford\", 10000)\n",
        "my_motorcycle = Motorcycle(\"Harley-Davidson\", 250)\n",
        "\n",
        "# printing\n",
        "print(f\"Car - Brand: {my_car.brand}, Model: {my_car.model}\")\n",
        "print(f\"Truck - Brand: {my_truck.brand}, Load Capacity: {my_truck.load_capacity}\")\n",
        "print(f\"Motorcycle - Brand: {my_motorcycle.brand}, Engine Size: {my_motorcycle.engine_size}\")\n",
        "\n"
      ],
      "metadata": {
        "colab": {
          "base_uri": "https://localhost:8080/"
        },
        "id": "EIRL3TZkt4z5",
        "outputId": "5677440a-e5a2-42fa-9f6b-13e0c48cce77"
      },
      "execution_count": null,
      "outputs": [
        {
          "output_type": "stream",
          "name": "stdout",
          "text": [
            "Car - Brand: Toyota, Model: Camry\n",
            "Truck - Brand: Ford, Load Capacity: 10000\n",
            "Motorcycle - Brand: Harley-Davidson, Engine Size: 250\n"
          ]
        }
      ]
    },
    {
      "cell_type": "markdown",
      "source": [
        "Class with 4 subclasses"
      ],
      "metadata": {
        "id": "_upvKty5uWAX"
      }
    },
    {
      "cell_type": "code",
      "source": [
        "class Spacecraft:\n",
        "    def __init__(self, name, purpose):\n",
        "        self.name = name\n",
        "        self.purpose = purpose\n",
        "\n",
        "class SpaceProbe(Spacecraft):\n",
        "    def __init__(self, name, purpose, destination):\n",
        "        super().__init__(name, purpose)\n",
        "        self.destination = destination\n",
        "\n",
        "class SpaceStation(Spacecraft):\n",
        "    def __init__(self, name, purpose, orbit):\n",
        "        super().__init__(name, purpose)\n",
        "        self.orbit = orbit\n",
        "\n",
        "class Rocket(Spacecraft):\n",
        "    def __init__(self, name, purpose, payload_capacity):\n",
        "        super().__init__(name, purpose)\n",
        "        self.payload_capacity = payload_capacity\n",
        "\n",
        "#instances\n",
        "my_SpaceProbe = SpaceProbe(\"Envy6\",\"Explore and study celestial objects\",\"Jupyter's Moon\")\n",
        "my_SpaceStation = SpaceStation(\"Hedudes1\",\"Host space tourists\",\"Altitude of 400 kilometres (250 mi) \\nand circles the Earth in roughly 93 minutes, \\ncompleting 15.5 orbits per day.\")\n",
        "my_Rocket  = Rocket(\"Xeroin3\",\"Space exploration\",\" Can carry 20,000 to 50,000 kilograms\")\n",
        "\n",
        "# Printing\n",
        "print(f\"My SpaceProbe - name: {my_SpaceProbe.name}, purpose: {my_SpaceProbe.purpose}, destination: {my_SpaceProbe.destination}\")\n",
        "print(f\"My SpaceStation - name: {my_SpaceStation.name}, purpose: {my_SpaceStation.purpose}, orbit: {my_SpaceStation.orbit}\")\n",
        "print(f\"My Rocket - name: {my_Rocket.name}, purpose: {my_Rocket.purpose}, payload_capacity: {my_Rocket.payload_capacity}\")"
      ],
      "metadata": {
        "colab": {
          "base_uri": "https://localhost:8080/"
        },
        "id": "do9O4Acqu7A8",
        "outputId": "018e926f-95f2-49c7-a4ee-5eb385762971"
      },
      "execution_count": null,
      "outputs": [
        {
          "output_type": "stream",
          "name": "stdout",
          "text": [
            "My SpaceProbe - name: Envy6, purpose: Explore and study celestial objects, destination: Jupyter's Moon\n",
            "My SpaceStation - name: Hedudes1, purpose: Host space tourists, orbit: Altitude of 400 kilometres (250 mi) \n",
            "and circles the Earth in roughly 93 minutes, \n",
            "completing 15.5 orbits per day.\n",
            "My Rocket - name: Xeroin3, purpose: Space exploration, payload_capacity:  Can carry 20,000 to 50,000 kilograms\n"
          ]
        }
      ]
    },
    {
      "cell_type": "markdown",
      "source": [
        "Class with 5 subclasses"
      ],
      "metadata": {
        "id": "UX5BXG38xc6K"
      }
    },
    {
      "cell_type": "code",
      "source": [
        "class Organism:\n",
        "    def __init__(self, name):\n",
        "        self.name = name\n",
        "\n",
        "class Kingdom(Organism):\n",
        "    def __init__(self, name, kingdom):\n",
        "        super().__init__(name)\n",
        "        self.kingdom = kingdom\n",
        "\n",
        "class Phylum(Kingdom):\n",
        "    def __init__(self, name, kingdom, phylum):\n",
        "        super().__init__(name, kingdom)\n",
        "        self.phylum = phylum\n",
        "\n",
        "class Class(Phylum):\n",
        "    def __init__(self, name, kingdom, phylum, class_name):\n",
        "        super().__init__(name, kingdom, phylum)\n",
        "        self.class_name = class_name\n",
        "\n",
        "class Order(Class):\n",
        "    def __init__(self, name, kingdom, phylum, class_name, order):\n",
        "        super().__init__(name, kingdom, phylum, class_name)\n",
        "        self.order = order\n",
        "\n",
        "class Family(Order):\n",
        "    def __init__(self, name, kingdom, phylum, class_name, order, family):\n",
        "        super().__init__(name, kingdom, phylum, class_name, order)\n",
        "        self.family = family\n",
        "\n",
        "class Genus(Family):\n",
        "    def __init__(self, name, kingdom, phylum, class_name, order, family, genus):\n",
        "        super().__init__(name, kingdom, phylum, class_name, order, family)\n",
        "        self.genus = genus\n",
        "\n",
        "class Specie(Genus):\n",
        "    def __init__(self, name, kingdom, phylum, class_name, order, family, genus, species):\n",
        "        super().__init__(name, kingdom, phylum, class_name, order, family, genus)\n",
        "        self.species = species\n",
        "\n",
        "#instance\n",
        "\n",
        "Human = Specie(\"Homo Sapiens\", \"Animalia\", \"Chordata\", \"Mammalia\", \"Primates\", \"Hominidae\", \"Homo\", \"Sapiens\")\n",
        "Hen = Specie(\"Drosophila\", \"Animalia\", \"Chordata\", \"Aves\", \"Passeriformes\", \"Passeridae\", \"Drosophila\", \"melanogester\")\n",
        "\n",
        "#printing\n",
        "print(f\"Human - name: {Human.name}, kingdom: {Human.kingdom}, phylum: {Human.phylum}, class_name: {Human.class_name}, order: {Human.order}, family: {Human.family}, genus: {Human.genus}, species: {Human.species}\")\n",
        "print(f\"Hen - name: {Hen.name}, kingdom: {Hen.kingdom}, phylum: {Hen.phylum}, class_name: {Hen.class_name}, order: {Hen.order}, family: {Hen.family}, genus: {Hen.genus}, species: {Hen.species}\")\n",
        "\n",
        "\n"
      ],
      "metadata": {
        "colab": {
          "base_uri": "https://localhost:8080/"
        },
        "id": "F3w5Cftkxhxz",
        "outputId": "bb158de5-b73c-47f0-dd9e-97c2021ccd96"
      },
      "execution_count": null,
      "outputs": [
        {
          "output_type": "stream",
          "name": "stdout",
          "text": [
            "Human - name: Homo Sapiens, kingdom: Animalia, phylum: Chordata, class_name: Mammalia, order: Primates, family: Hominidae, genus: Homo, species: Sapiens\n",
            "Hen - name: Drosophila, kingdom: Animalia, phylum: Chordata, class_name: Aves, order: Passeriformes, family: Passeridae, genus: Drosophila, species: melanogester\n"
          ]
        }
      ]
    }
  ]
}