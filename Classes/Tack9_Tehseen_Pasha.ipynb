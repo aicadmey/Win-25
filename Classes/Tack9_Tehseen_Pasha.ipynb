{
  "nbformat": 4,
  "nbformat_minor": 0,
  "metadata": {
    "colab": {
      "provenance": [],
      "gpuType": "T4"
    },
    "kernelspec": {
      "name": "python3",
      "display_name": "Python 3"
    },
    "language_info": {
      "name": "python"
    },
    "accelerator": "GPU"
  },
  "cells": [
    {
      "cell_type": "code",
      "source": [
        "# 1. Class representing a Laptop\n",
        "class Laptop:\n",
        "    def __init__(self):\n",
        "        self.brand = None\n",
        "        self.processor = None\n",
        "\n",
        "    def set_specs(self, brand, processor):\n",
        "        self.brand = brand\n",
        "        self.processor = processor\n",
        "\n",
        "    def show_specs(self):\n",
        "        return f\"{self.brand} mobile with a {self.processor} processor.\"\n",
        "\n",
        "# Creating objects for Laptop\n",
        "mobile1 = Laptop()\n",
        "mobile2 = Laptop()\n",
        "\n",
        "mobile1.set_specs(\"Blackbarry\", \"snapdragon xi\")\n",
        "mobile2.set_specs(\"nokia\", \"rtx1w\")\n",
        "\n",
        "print(mobile1.show_specs())\n",
        "print(mobile2.show_specs())"
      ],
      "metadata": {
        "colab": {
          "base_uri": "https://localhost:8080/"
        },
        "id": "B5oR_0FRSdXK",
        "outputId": "9b4433ae-e624-4ade-f038-ae9a148ff8c0"
      },
      "execution_count": null,
      "outputs": [
        {
          "output_type": "stream",
          "name": "stdout",
          "text": [
            "Blackbarry mobile with a snapdragon xi processor.\n",
            "nokia mobile with a rtx1w processor.\n"
          ]
        }
      ]
    },
    {
      "cell_type": "code",
      "source": [
        "# 2. Class representing a City\n",
        "class City:\n",
        "    def __init__(self):\n",
        "        self.name = None\n",
        "        self.country = None\n",
        "\n",
        "    def set_info(self, name, country):\n",
        "        self.name = name\n",
        "        self.country = country\n",
        "\n",
        "    def describe(self):\n",
        "        return f\"{self.name} is in {self.country}.\"\n",
        "\n",
        "# Creating objects for City\n",
        "city1 = City()\n",
        "city2 = City()\n",
        "\n",
        "city1.set_info(\"Lahore\", \"pakistan\")\n",
        "city2.set_info(\"London\", \"Uk\")\n",
        "\n",
        "print(city1.describe())\n",
        "print(city2.describe())"
      ],
      "metadata": {
        "id": "hPrEM28EHZYk",
        "colab": {
          "base_uri": "https://localhost:8080/"
        },
        "outputId": "74e20a71-9e02-483c-acbf-35c381c0db0e"
      },
      "execution_count": null,
      "outputs": [
        {
          "output_type": "stream",
          "name": "stdout",
          "text": [
            "Lahore is in pakistan.\n",
            "London is in Uk.\n"
          ]
        }
      ]
    },
    {
      "cell_type": "code",
      "source": [
        "\n",
        "# 3. Human information.\n",
        "class Human:\n",
        "    def __init__(self):\n",
        "        self.name = None\n",
        "        self.age = None\n",
        "        self.height = None\n",
        "        self.gender = None\n",
        "        self.education = None\n",
        "        self.field = None\n",
        "\n",
        "    def identity(self):\n",
        "        name = self.name\n",
        "        gender = self.gender\n",
        "        result = str(name) + \" is a \" + str(gender)\n",
        "        return result\n",
        "\n",
        "\n",
        "# Create instances\n",
        "Kumail = Human()\n",
        "Kumail = Human()\n",
        "\n",
        "# Assign values\n",
        "Kumail.name = \"Kumail\"\n",
        "Kumail.gender = \"Male\"\n",
        "\n",
        "# Print result\n",
        "print(Kumail.identity())"
      ],
      "metadata": {
        "colab": {
          "base_uri": "https://localhost:8080/"
        },
        "id": "006N9Rc-mn0y",
        "outputId": "7515a2b8-08d0-45b1-f093-a24a11428eca"
      },
      "execution_count": null,
      "outputs": [
        {
          "output_type": "stream",
          "name": "stdout",
          "text": [
            "Kumail is a Male\n"
          ]
        }
      ]
    },
    {
      "cell_type": "code",
      "source": [
        "# 4. Class representing a Laptop\n",
        "class Laptop:\n",
        "    def __init__(self):\n",
        "        self.brand = None\n",
        "        self.processor = None\n",
        "\n",
        "    def set_specs(self, brand, processor):\n",
        "        self.brand = brand\n",
        "        self.processor = processor\n",
        "\n",
        "    def show_specs(self):\n",
        "        return f\"{self.brand} laptop with a {self.processor} processor.\"\n",
        "\n",
        "# Creating objects for Laptop\n",
        "laptop1 = Laptop()\n",
        "laptop2 = Laptop()\n",
        "\n",
        "laptop1.set_specs(\"Dell\", \"Intel i7\")\n",
        "laptop2.set_specs(\"HP\", \"AMD Ryzen 5\")\n",
        "\n",
        "print(laptop1.show_specs())\n",
        "print(laptop2.show_specs())"
      ],
      "metadata": {
        "colab": {
          "base_uri": "https://localhost:8080/"
        },
        "id": "EiBrg_aKS1uu",
        "outputId": "f65be414-c692-4857-f16c-d043990b183f"
      },
      "execution_count": null,
      "outputs": [
        {
          "output_type": "stream",
          "name": "stdout",
          "text": [
            "Dell laptop with a Intel i7 processor.\n",
            "HP laptop with a AMD Ryzen 5 processor.\n"
          ]
        }
      ]
    },
    {
      "cell_type": "code",
      "source": [
        "# 5. Class representing a Painter for printing style.\n",
        "class Painter:\n",
        "    def __init__(self):\n",
        "        self.name = None\n",
        "        self.style = None\n",
        "\n",
        "    def set_info(self, name, style):\n",
        "        self.name = name\n",
        "        self.style = style\n",
        "\n",
        "    def paint(self):\n",
        "        return f\"{self.name} paints in {self.style} style.\"\n",
        "\n",
        "# Creating objects for Painter\n",
        "painter1 = Painter()\n",
        "painter2 = Painter()\n",
        "\n",
        "painter1.set_info(\"Leonardo\", \"Renaissance\")\n",
        "painter2.set_info(\"Van Gogh\", \"Post-Impressionist\")\n",
        "\n",
        "print(painter1.paint())\n",
        "print(painter2.paint())"
      ],
      "metadata": {
        "colab": {
          "base_uri": "https://localhost:8080/"
        },
        "id": "x82AF6m7nFGA",
        "outputId": "e11a57b7-3c94-43ef-8d18-1d66f35ceb44"
      },
      "execution_count": null,
      "outputs": [
        {
          "output_type": "stream",
          "name": "stdout",
          "text": [
            "Leonardo paints in Renaissance style.\n",
            "Van Gogh paints in Post-Impressionist style.\n"
          ]
        }
      ]
    },
    {
      "cell_type": "code",
      "source": [
        "# 6. Class representing a Scientist\n",
        "class Scientist:\n",
        "    def __init__(self):\n",
        "        self.name = None\n",
        "        self.field = None\n",
        "\n",
        "    def set_info(self, name, field):\n",
        "        self.name = name\n",
        "        self.field = field\n",
        "\n",
        "    def describe(self):\n",
        "        return f\"{self.name} is a scientist in the field of {self.field}.\"\n",
        "\n",
        "# Creating objects for Scientist\n",
        "scientist1 = Scientist()\n",
        "scientist2 = Scientist()\n",
        "\n",
        "scientist1.set_info(\"Marie Curie\", \"Physics and Chemistry\")\n",
        "scientist2.set_info(\"Albert Einstein\", \"Theoretical Physics\")\n",
        "\n",
        "print(scientist1.describe())\n",
        "print(scientist2.describe())"
      ],
      "metadata": {
        "colab": {
          "base_uri": "https://localhost:8080/"
        },
        "id": "uWjBsg2snnfs",
        "outputId": "d77404e2-a8a7-4a4b-8970-edbb93e3d177"
      },
      "execution_count": null,
      "outputs": [
        {
          "output_type": "stream",
          "name": "stdout",
          "text": [
            "Marie Curie is a scientist in the field of Physics and Chemistry.\n",
            "Albert Einstein is a scientist in the field of Theoretical Physics.\n"
          ]
        }
      ]
    },
    {
      "cell_type": "code",
      "source": [
        "# 7. Class representing a Book\n",
        "class Book:\n",
        "    def __init__(self, title, author):\n",
        "        self.title = title\n",
        "        self.author = author\n",
        "\n",
        "    def get_details(self):\n",
        "        return f\"'{self.title}' by {self.author}\"\n",
        "\n",
        "\n",
        "book1 = Book(\"1984\", \"George Orwell\")\n",
        "book2 = Book(\"To Kill a Mockingbird\", \"Harper Lee\")\n",
        "print(book1.get_details())\n",
        "print(book2.get_details())"
      ],
      "metadata": {
        "colab": {
          "base_uri": "https://localhost:8080/"
        },
        "id": "aDsx4UUSn0i_",
        "outputId": "7ee1245e-ac96-4273-de24-e29c8b9ef777"
      },
      "execution_count": null,
      "outputs": [
        {
          "output_type": "stream",
          "name": "stdout",
          "text": [
            "'1984' by George Orwell\n",
            "'To Kill a Mockingbird' by Harper Lee\n"
          ]
        }
      ]
    },
    {
      "cell_type": "code",
      "source": [
        "# 8. Class representing a Car\n",
        "class Car:\n",
        "    def __init__(self, make, model):\n",
        "        self.make = make\n",
        "        self.model = model\n",
        "\n",
        "    def display_info(self):\n",
        "        return f\"{self.make} {self.model}\"\n",
        "\n",
        "\n",
        "car1 = Car(\"Toyota\", \"Corolla\")\n",
        "car2 = Car(\"Honda\", \"Civic\")\n",
        "print(car1.display_info())\n",
        "print(car2.display_info())"
      ],
      "metadata": {
        "colab": {
          "base_uri": "https://localhost:8080/"
        },
        "id": "VIEMdmzUn_Vi",
        "outputId": "ba40b2a9-481f-4f41-a2d2-55a48fe6d981"
      },
      "execution_count": null,
      "outputs": [
        {
          "output_type": "stream",
          "name": "stdout",
          "text": [
            "Toyota Corolla\n",
            "Honda Civic\n"
          ]
        }
      ]
    },
    {
      "cell_type": "code",
      "source": [
        "# 9. Class representing a Planet\n",
        "class Planet:\n",
        "    def __init__(self, name, diameter):\n",
        "        self.name = name\n",
        "        self.diameter = diameter\n",
        "\n",
        "    def description(self):\n",
        "        return f\"Planet {self.name} has a diameter of {self.diameter} km.\"\n",
        "\n",
        "\n",
        "planet1 = Planet(\"Earth\", 12742)\n",
        "planet2 = Planet(\"Mars\", 6779)\n",
        "print(planet1.description())\n",
        "print(planet2.description())"
      ],
      "metadata": {
        "colab": {
          "base_uri": "https://localhost:8080/"
        },
        "id": "CEABbTn0oKFc",
        "outputId": "3c3e342e-ab45-426e-eb08-2b99ac66f422"
      },
      "execution_count": null,
      "outputs": [
        {
          "output_type": "stream",
          "name": "stdout",
          "text": [
            "Planet Earth has a diameter of 12742 km.\n",
            "Planet Mars has a diameter of 6779 km.\n"
          ]
        }
      ]
    },
    {
      "cell_type": "code",
      "source": [
        "# 10. Class representing a Smartphone\n",
        "class Smartphone:\n",
        "    def __init__(self, brand, model):\n",
        "        self.brand = brand\n",
        "        self.model = model\n",
        "\n",
        "    def specs(self):\n",
        "        return f\"{self.brand} {self.model}\"\n",
        "\n",
        "\n",
        "phone1 = Smartphone(\"Apple\", \"iPhone 14\")\n",
        "phone2 = Smartphone(\"Samsung\", \"Galaxy S23\")\n",
        "print(phone1.specs())\n",
        "print(phone2.specs())"
      ],
      "metadata": {
        "colab": {
          "base_uri": "https://localhost:8080/"
        },
        "id": "m1wvbS0OoexN",
        "outputId": "853cf0bd-885a-4768-8657-00978c70da7c"
      },
      "execution_count": null,
      "outputs": [
        {
          "output_type": "stream",
          "name": "stdout",
          "text": [
            "Apple iPhone 14\n",
            "Samsung Galaxy S23\n"
          ]
        }
      ]
    }
  ]
}