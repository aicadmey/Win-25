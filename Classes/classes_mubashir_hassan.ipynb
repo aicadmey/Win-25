{
  "cells": [
    {
      "cell_type": "markdown",
      "source": [
        "10 Classes with 2 objects each"
      ],
      "metadata": {
        "id": "KNPE40eVQedy"
      }
    },
    {
      "cell_type": "code",
      "source": [
        "class Person:\n",
        "    def __init__(self, name, age):\n",
        "        self.name = name\n",
        "        self.age = age\n",
        "\n",
        "    def introduce(self):\n",
        "        print(\"Hello, my name is {self.name} and I am {self.age} yearsold.\")\n",
        "\n",
        "# Objects\n",
        "person1 = Person(\"Mubashir\", 24)\n",
        "person2 = Person(\"hassan\", 25)"
      ],
      "metadata": {
        "id": "6qO_fCg0QqTU"
      },
      "execution_count": null,
      "outputs": []
    },
    {
      "cell_type": "code",
      "source": [
        "class Car:\n",
        "    def __init__(self, brand, model):\n",
        "        self.brand = brand\n",
        "        self.model = model\n",
        "\n",
        "    def describe(self):\n",
        "        print(f\"This is a {self.brand} {self.model}.\")\n",
        "\n",
        "# Objects\n",
        "car1 = Car(\"Toyota\", \"Camry\")\n",
        "car2 = Car(\"Honda\", \"Civic\")"
      ],
      "metadata": {
        "id": "UAD1V2IcRGfu"
      },
      "execution_count": null,
      "outputs": []
    },
    {
      "cell_type": "code",
      "source": [
        "class Animal:\n",
        "    def __init__(self, species, sound):\n",
        "        self.species = species\n",
        "        self.sound = sound\n",
        "\n",
        "    def make_sound(self):\n",
        "        print(f\"{self.species} says: {self.sound}\")\n",
        "\n",
        "# Objects\n",
        "animal1 = Animal(\"Dog\", \"Woof\")\n",
        "animal2 = Animal(\"Cat\", \"Meow\")"
      ],
      "metadata": {
        "id": "TsTTKR7_RTMB"
      },
      "execution_count": null,
      "outputs": []
    },
    {
      "cell_type": "code",
      "source": [
        "class Phone:\n",
        "    def __init__(self, brand, model):\n",
        "        self.brand = brand\n",
        "        self.model = model\n",
        "\n",
        "    def call(self, number):\n",
        "        print(f\"Calling {number} from {self.brand} {self.model}\")\n",
        "\n",
        "# Objects\n",
        "phone1 = Phone(\"Apple\", \"iPhone 14\")\n",
        "phone2 = Phone(\"Samsung\", \"Galaxy S23\")\n"
      ],
      "metadata": {
        "id": "WzKCqW_CRT5L"
      },
      "execution_count": null,
      "outputs": []
    },
    {
      "cell_type": "code",
      "source": [
        "class Computer:\n",
        "    def __init__(self, brand, processor):\n",
        "        self.brand = brand\n",
        "        self.processor = processor\n",
        "\n",
        "    def specs(self):\n",
        "        print(f\"Brand: {self.brand}\")\n",
        "        print(f\"Processor: {self.processor}\")\n",
        "\n",
        "# Objects\n",
        "computer1 = Computer(\"Dell\", \"Intel Core i7\")\n",
        "computer2 = Computer(\"HP\", \"AMD Ryzen 7\")"
      ],
      "metadata": {
        "id": "1kPm81xmRUN6"
      },
      "execution_count": null,
      "outputs": []
    },
    {
      "cell_type": "code",
      "source": [
        "class House:\n",
        "    def __init__(self, address, rooms):\n",
        "        self.address = address\n",
        "        self.rooms = rooms\n",
        "\n",
        "    def describe(self):\n",
        "        print(f\"House Address: {self.address}\")\n",
        "        print(f\"Number of Rooms: {self.rooms}\")\n",
        "\n",
        "# Objects\n",
        "house1 = House(\"satellite town\", 4)\n",
        "house2 = House(\"model town\", 3)"
      ],
      "metadata": {
        "id": "f8BpnW_4R34D"
      },
      "execution_count": null,
      "outputs": []
    },
    {
      "cell_type": "code",
      "source": [
        "class Movie:\n",
        "    def __init__(self, title, genre):\n",
        "        self.title = title\n",
        "        self.genre = genre\n",
        "\n",
        "    def details(self):\n",
        "        print(f\"Movie Title: {self.title}\")\n",
        "        print(f\"Genre: {self.genre}\")\n",
        "\n",
        "# Objects\n",
        "movie1 = Movie(\"3 idiots\", \"drama\")\n",
        "movie2 = Movie(\"the iub\", \"comedy\")"
      ],
      "metadata": {
        "id": "eORfQ0XER4KU"
      },
      "execution_count": null,
      "outputs": []
    },
    {
      "cell_type": "code",
      "source": [
        "class Student:\n",
        "    def __init__(self, name, roll_no, grade):\n",
        "        self.name = name\n",
        "        self.roll_no = roll_no\n",
        "        self.grade = grade\n",
        "\n",
        "    def display_details(self):\n",
        "        print(f\"Name: {self.name}\")\n",
        "        print(f\"Roll No: {self.roll_no}\")\n",
        "        print(f\"Grade: {self.grade}\")\n",
        "\n",
        "# Objects\n",
        "student1 = Student(\"mobi\", 101, \"A\")\n",
        "student2 = Student(\"ali\", 102, \"B\")"
      ],
      "metadata": {
        "id": "G4GFaZHiR4Ur"
      },
      "execution_count": null,
      "outputs": []
    },
    {
      "cell_type": "code",
      "source": [
        "class Fruit:\n",
        "    def __init__(self, name, color):\n",
        "        self.name = name\n",
        "        self.color = color\n",
        "\n",
        "    def describe(self):\n",
        "        print(f\"This is a {self.color} {self.name}.\")\n",
        "\n",
        "# Objects\n",
        "apple = Fruit(\"apple\", \"red\")\n",
        "banana = Fruit(\"banana\", \"yellow\")"
      ],
      "metadata": {
        "id": "tbgnTRCUR4e1"
      },
      "execution_count": null,
      "outputs": []
    },
    {
      "cell_type": "code",
      "source": [
        "class Vehicle:\n",
        "    def __init__(self, type, color):\n",
        "        self.type = type\n",
        "        self.color = color\n",
        "\n",
        "    def describe(self):\n",
        "        print(f\"This is a {self.color} {self.type}.\")\n",
        "\n",
        "# Objects\n",
        "car = Vehicle(\"car\", \"blue\")\n",
        "bike = Vehicle(\"bike\", \"black\")"
      ],
      "metadata": {
        "id": "fHdvm9h6R4oI"
      },
      "execution_count": null,
      "outputs": []
    }
  ],
  "metadata": {
    "colab": {
      "toc_visible": true,
      "provenance": []
    },
    "kernelspec": {
      "display_name": "Python 3",
      "name": "python3"
    }
  },
  "nbformat": 4,
  "nbformat_minor": 0
}