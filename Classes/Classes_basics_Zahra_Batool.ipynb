{
  "cells": [
    {
      "cell_type": "markdown",
      "id": "881800c2-02ea-4b4c-a6b8-35b23231750f",
      "metadata": {
        "id": "881800c2-02ea-4b4c-a6b8-35b23231750f"
      },
      "source": [
        "CLASSES WITH FUNCTION AND OBJECTS"
      ]
    },
    {
      "cell_type": "code",
      "execution_count": null,
      "id": "2c8c99c1-efff-4db9-8bbf-6148bc3145b2",
      "metadata": {
        "id": "2c8c99c1-efff-4db9-8bbf-6148bc3145b2",
        "outputId": "fd80f887-261f-42c2-e4eb-1c3c6cb1b596"
      },
      "outputs": [
        {
          "name": "stdout",
          "output_type": "stream",
          "text": [
            "Balochi\n",
            "Biya shatk aye\n"
          ]
        }
      ],
      "source": [
        "class Aicademy:\n",
        "    def _init_(self):\n",
        "        self.language = None\n",
        "        self.greeting = None\n",
        "    def greetings(self):\n",
        "        self.language= \"Balochi\"\n",
        "        self.greeting=\"Biya shatk aye\"\n",
        "        print(self.language)\n",
        "        print(self.greeting)\n",
        "balochi = Aicademy()\n",
        "punjabi = Aicademy()\n",
        "saraiki = Aicademy()\n",
        "balochi.greetings()"
      ]
    },
    {
      "cell_type": "code",
      "execution_count": null,
      "id": "8e11840a-64f3-4fb3-8807-f0b8b1146f20",
      "metadata": {
        "id": "8e11840a-64f3-4fb3-8807-f0b8b1146f20",
        "outputId": "2ac50483-f912-4e3c-de7e-c8fa2903dd82"
      },
      "outputs": [
        {
          "name": "stdout",
          "output_type": "stream",
          "text": [
            "HomoSapiens\n"
          ]
        }
      ],
      "source": [
        "class Organism:\n",
        "    def _init_(self):\n",
        "      self.kingdom = None\n",
        "      self.phylum = None\n",
        "      self.Class = None\n",
        "      self.order = None\n",
        "      self.family = None\n",
        "      self.genera = None\n",
        "      self.specie = None\n",
        "    def taxonomy(self):\n",
        "        self.genera = \"Homo\"\n",
        "        self.specie = \"Sapiens\"\n",
        "\n",
        "        print(self.genera + self.specie)\n",
        "\n",
        "human = Organism()\n",
        "pea = Organism()\n",
        "frog = Organism()\n",
        "\n",
        "human.taxonomy()\n"
      ]
    },
    {
      "cell_type": "code",
      "execution_count": null,
      "id": "2d8929bd-3ab6-496a-973c-ef7d019bcf14",
      "metadata": {
        "id": "2d8929bd-3ab6-496a-973c-ef7d019bcf14",
        "outputId": "e33487ef-4cf0-4dc4-b6a0-d5f78ac298db"
      },
      "outputs": [
        {
          "name": "stdout",
          "output_type": "stream",
          "text": [
            "6378000\n",
            "Moderate\n"
          ]
        }
      ],
      "source": [
        "class Milkyway:\n",
        "    def _init_(self):\n",
        "      self.radius = None\n",
        "      self.distance_sun = None\n",
        "      self.mass = None\n",
        "      self.hot_cold = None\n",
        "    def planets(self):\n",
        "        self.radius = 6378000\n",
        "        self.hot_cold = \"Moderate\"\n",
        "        print(self.radius)\n",
        "        print(self.hot_cold)\n",
        "\n",
        "earth = Milkyway()\n",
        "mars = Milkyway()\n",
        "jupiter = Milkyway()\n",
        "earth.planets()"
      ]
    },
    {
      "cell_type": "code",
      "execution_count": null,
      "id": "a8c957f6-e911-4ee8-9fdd-8a75b2edfc84",
      "metadata": {
        "id": "a8c957f6-e911-4ee8-9fdd-8a75b2edfc84",
        "outputId": "d3863193-dae8-43d5-c683-e9efe0943773"
      },
      "outputs": [
        {
          "name": "stdout",
          "output_type": "stream",
          "text": [
            "Fly\n",
            "Child\n"
          ]
        }
      ],
      "source": [
        "class Population:\n",
        "    def _init_(self):\n",
        "      self.fly_walk = None\n",
        "      self.egg_child = None\n",
        "      self.color = None\n",
        "    def birds(self):\n",
        "        self.fly_walk = \"Fly\"\n",
        "        self.egg_child = \"Child\"\n",
        "\n",
        "        print(self.fly_walk)\n",
        "        print(self.egg_child)\n",
        "\n",
        "owl = Population()\n",
        "sparrow = Population()\n",
        "ostrich = Population()\n",
        "\n",
        "owl.birds()\n"
      ]
    },
    {
      "cell_type": "code",
      "execution_count": null,
      "id": "11e2c5f2-41d7-4c38-ad1c-bb580ffa9218",
      "metadata": {
        "id": "11e2c5f2-41d7-4c38-ad1c-bb580ffa9218",
        "outputId": "4487ce68-8bff-432e-c6d0-7d859b13c77f"
      },
      "outputs": [
        {
          "name": "stdout",
          "output_type": "stream",
          "text": [
            "Civic\n",
            "Black\n"
          ]
        }
      ],
      "source": [
        "class Vehicles:\n",
        "    def _init_(self):\n",
        "      self.name = None\n",
        "      self.plateno = None\n",
        "      self.color = None\n",
        "    def car(self):\n",
        "        self.name = \"Civic\"\n",
        "        self.color = \"Black\"\n",
        "\n",
        "        print(self.name)\n",
        "        print(self.color)\n",
        "\n",
        "civic = Vehicles()\n",
        "ferrari = Vehicles()\n",
        "coupe = Vehicles()\n",
        "civic.car()\n"
      ]
    },
    {
      "cell_type": "code",
      "execution_count": null,
      "id": "7d84ec0f-da3c-4962-b833-18bf0481ef25",
      "metadata": {
        "id": "7d84ec0f-da3c-4962-b833-18bf0481ef25",
        "outputId": "efd03516-a793-4104-ef02-42425fad3a10"
      },
      "outputs": [
        {
          "name": "stdout",
          "output_type": "stream",
          "text": [
            "Bubble sort\n",
            "1\n"
          ]
        }
      ],
      "source": [
        "class Algorithms:\n",
        "    def _init_(self):\n",
        "      self.name = None\n",
        "      self.complexity = None\n",
        "    def sorting(self):\n",
        "        self.name = \"Bubble sort\"\n",
        "        n=1\n",
        "        self.complexity = n\n",
        "        print(self.name)\n",
        "        print(self.complexity)\n",
        "\n",
        "bubble = Algorithms()\n",
        "redix = Algorithms()\n",
        "merge = Algorithms()\n",
        "bubble.sorting()\n"
      ]
    },
    {
      "cell_type": "code",
      "execution_count": null,
      "id": "714af282-6cab-46e8-8250-20ce35237357",
      "metadata": {
        "id": "714af282-6cab-46e8-8250-20ce35237357",
        "outputId": "8f7c7aa7-06c9-4e81-ecfe-d5a0b5d6a8ea"
      },
      "outputs": [
        {
          "name": "stdout",
          "output_type": "stream",
          "text": [
            "Goat has mouth.\n",
            "Goat has both small and large intestine.\n"
          ]
        }
      ],
      "source": [
        "class Animals:\n",
        "    def _init_(self):\n",
        "      self.mouth = None\n",
        "      self.esophagus = None\n",
        "      self.stomach = None\n",
        "      self.intestine = None\n",
        "    def digestive_system(self):\n",
        "        self.mouth = \"Goat has mouth.\"\n",
        "        self.intestine = \"Goat has both small and large intestine.\"\n",
        "\n",
        "        print(self.mouth)\n",
        "        print(self.intestine)\n",
        "\n",
        "human = Animals()\n",
        "Goat = Animals()\n",
        "frog = Animals()\n",
        "\n",
        "Goat.digestive_system()\n"
      ]
    },
    {
      "cell_type": "code",
      "execution_count": null,
      "id": "bca93957-8cd6-415c-96c2-9aa1761e8342",
      "metadata": {
        "id": "bca93957-8cd6-415c-96c2-9aa1761e8342",
        "outputId": "b39b730f-c563-4a12-ac4c-e8d11528995d"
      },
      "outputs": [
        {
          "name": "stdout",
          "output_type": "stream",
          "text": [
            "Oppo\n",
            "256\n"
          ]
        }
      ],
      "source": [
        "class Technology:\n",
        "    def _init_(self):\n",
        "      self.name = None\n",
        "      self.version = None\n",
        "      self.memory = None\n",
        "      self.camera = None\n",
        "    def mobile(self):\n",
        "        self.name = \"Oppo\"\n",
        "        self.memory = 256\n",
        "\n",
        "        print(self.name)\n",
        "        print(self.memory)\n",
        "\n",
        "oppo = Technology()\n",
        "redme = Technology()\n",
        "samsung = Technology()\n",
        "oppo.mobile()\n"
      ]
    },
    {
      "cell_type": "code",
      "execution_count": null,
      "id": "fc6ba28c-e43e-4f49-85f4-72dbe6a1d3b9",
      "metadata": {
        "id": "fc6ba28c-e43e-4f49-85f4-72dbe6a1d3b9",
        "outputId": "c74ad6e8-2351-40d4-add9-8c5102753239"
      },
      "outputs": [
        {
          "name": "stdout",
          "output_type": "stream",
          "text": [
            "air pollution\n",
            "vehicles, factories etc\n"
          ]
        }
      ],
      "source": [
        "class Pollution:\n",
        "    def _init_(self):\n",
        "      self.name = None\n",
        "      self.causes = None\n",
        "      self.effects = None\n",
        "      self.prevention = None\n",
        "    def types(self):\n",
        "        self.name = \"air pollution\"\n",
        "        self.causes = \"vehicles, factories etc\"\n",
        "\n",
        "        print(self.name)\n",
        "        print(self.causes)\n",
        "\n",
        "water = Pollution()\n",
        "soil = Pollution()\n",
        "noise= Pollution()\n",
        "air = Pollution()\n",
        "air.types()\n"
      ]
    },
    {
      "cell_type": "code",
      "execution_count": null,
      "id": "01cf4a5e-9b4a-408b-8738-2527206ac36c",
      "metadata": {
        "id": "01cf4a5e-9b4a-408b-8738-2527206ac36c",
        "outputId": "aa582729-50eb-41ca-d09f-3a279b67e645"
      },
      "outputs": [
        {
          "name": "stdout",
          "output_type": "stream",
          "text": [
            "Oven\n",
            "Black\n"
          ]
        }
      ],
      "source": [
        "class Appliances:\n",
        "    def _init_(self):\n",
        "        self.name = None\n",
        "        self.shape = None\n",
        "        self.size = None\n",
        "    def electronics(self):\n",
        "        self.name = \"Oven\"\n",
        "        self.color = \"Black\"\n",
        "        print(self.name)\n",
        "        print(self.color)\n",
        "\n",
        "oven = Appliances()\n",
        "washing_machine = Appliances()\n",
        "refrigerator = Appliances()\n",
        "\n",
        "oven.electronics()\n",
        ""
      ]
    },
    {
      "cell_type": "code",
      "execution_count": null,
      "id": "7ae0b4c1-cd96-4a11-80b1-0548c381e5a0",
      "metadata": {
        "id": "7ae0b4c1-cd96-4a11-80b1-0548c381e5a0"
      },
      "outputs": [],
      "source": []
    }
  ],
  "metadata": {
    "kernelspec": {
      "display_name": "Python 3 (ipykernel)",
      "language": "python",
      "name": "python3"
    },
    "language_info": {
      "codemirror_mode": {
        "name": "ipython",
        "version": 3
      },
      "file_extension": ".py",
      "mimetype": "text/x-python",
      "name": "python",
      "nbconvert_exporter": "python",
      "pygments_lexer": "ipython3",
      "version": "3.11.7"
    },
    "colab": {
      "provenance": []
    }
  },
  "nbformat": 4,
  "nbformat_minor": 5
}