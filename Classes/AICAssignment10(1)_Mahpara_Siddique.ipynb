{
  "nbformat": 4,
  "nbformat_minor": 0,
  "metadata": {
    "colab": {
      "provenance": []
    },
    "kernelspec": {
      "name": "python3",
      "display_name": "Python 3"
    },
    "language_info": {
      "name": "python"
    }
  },
  "cells": [
    {
      "cell_type": "markdown",
      "source": [
        "**Classes and subclasses**"
      ],
      "metadata": {
        "id": "_20cjDbckOL2"
      }
    },
    {
      "cell_type": "markdown",
      "source": [
        "**Once class with one subclass**"
      ],
      "metadata": {
        "id": "K12BM1xWt1Lo"
      }
    },
    {
      "cell_type": "code",
      "source": [
        "# class1\n",
        "# defie class\n",
        "class Evolution:\n",
        "  def __init__(self):\n",
        "    self.Evolution = \"Evolution cause changes\"\n",
        "\n",
        "  def show_Evolution(self):\n",
        "    print(self.Evolution)\n",
        "# Define a subclass that inherits from the parent class\n",
        "class Mutation(Evolution):\n",
        "  def __init__(self):\n",
        "    super().__init__()\n",
        "    self.Mutation = \"Mutation is one of the cause of evolution\"\n",
        "  def show_Mutation(self):\n",
        "    print(self.Mutation)\n",
        "\n",
        "# Create an object of the subclass\n",
        "gene = Mutation()\n",
        "# Assign a value to the parent variable through the subclass instance\n",
        "gene.Evolution = \"evolution involve change over time\"\n",
        "# Assign a value to the child variable\n",
        "gene.MUtation = \"Mutations are source of genetic variations\"\n",
        "# Call and print the variables\n",
        "gene.show_Evolution()\n",
        "gene.show_Mutation()"
      ],
      "metadata": {
        "colab": {
          "base_uri": "https://localhost:8080/"
        },
        "id": "kSdjNmcnk_1z",
        "outputId": "18cc78c2-af95-4be8-e32a-add2da5deef1"
      },
      "execution_count": null,
      "outputs": [
        {
          "output_type": "stream",
          "name": "stdout",
          "text": [
            "evolution involve change over time\n",
            "Mutation is one of the cause of evolution\n"
          ]
        }
      ]
    }
  ]
}