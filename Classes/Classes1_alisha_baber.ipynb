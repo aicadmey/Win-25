{
  "nbformat": 4,
  "nbformat_minor": 0,
  "metadata": {
    "colab": {
      "provenance": []
    },
    "kernelspec": {
      "name": "python3",
      "display_name": "Python 3"
    },
    "language_info": {
      "name": "python"
    }
  },
  "cells": [
    {
      "cell_type": "markdown",
      "source": [
        "# 10 PROGRAMS (\" CLASSES\")"
      ],
      "metadata": {
        "id": "7IIhbmIr6TCd"
      }
    },
    {
      "cell_type": "code",
      "source": [
        "class Human :\n",
        " def __init__ (self ):\n",
        "  self.name = \" none\"  # attributes\n",
        "  self.age = \" none \"\n",
        "  self. gender = \" female\"\n",
        "def identity(self):  # function\n",
        "   name= name.self\n",
        "   gender= gender.self\n",
        "# result = self.name + \" \" + self.gender + \" \" + self.age\n",
        "   #return result\n",
        "Alisha=Human()  # object\n",
        "laiba=Human()\n",
        "print (\" you are a such a pretty girl\")\n",
        "print(Alisha.name)\n",
        "print(laiba.age)\n",
        "\n",
        "\n"
      ],
      "metadata": {
        "colab": {
          "base_uri": "https://localhost:8080/"
        },
        "id": "Ixqbwgt66rW1",
        "outputId": "9e512ec6-5800-4b02-c127-ac1b57fbbe3b"
      },
      "execution_count": null,
      "outputs": [
        {
          "output_type": "stream",
          "name": "stdout",
          "text": [
            " you are a such a pretty girl\n",
            " none\n",
            " none \n"
          ]
        }
      ]
    },
    {
      "cell_type": "code",
      "source": [
        "class wish :\n",
        "  def __init__(self):\n",
        "    self.name = \" Alisha\"\n",
        "    self. birthday= 20\n",
        "    def birthday(self) :\n",
        "     name=self.name\n",
        "     birthday=self.birthday\n",
        "wish=wish()\n",
        "birthday=wish()\n",
        "#print(\"wish you a happy birthday\")\n",
        "\n",
        "print(wish.name)\n",
        "print(wish.birthday)\n",
        "print(\"wishing you a happy birthday issue:\")\n",
        "\n"
      ],
      "metadata": {
        "colab": {
          "base_uri": "https://localhost:8080/"
        },
        "id": "XJlVpW9UUcOo",
        "outputId": "64f492d1-2cde-4a96-c9b9-b30a8212db41"
      },
      "execution_count": null,
      "outputs": [
        {
          "output_type": "stream",
          "name": "stdout",
          "text": [
            " Alisha\n",
            "13\n",
            "wishing you a happy birthday issue:\n"
          ]
        }
      ]
    },
    {
      "cell_type": "code",
      "source": [
        "class car:\n",
        "\n",
        " def __init__(self):  #constructor\n",
        "  self.modle=\"civic\"\n",
        "  self.year=\" 2023\"     #attributes\n",
        "  self.color=\"black\"\n",
        "\n",
        "def start_engin(self) :   # method / function\n",
        "  modle=self.modle\n",
        "  color=self.color\n",
        "def stop_engin(self):\n",
        "  modle=self.modle\n",
        "  print(civic.model)\n",
        "  print(civic.color)\n",
        "  print(civic.year)\n",
        "\n",
        "  color=self.color\n",
        "def accelerate(self):\n",
        "  modle=self.modle\n",
        "  color=self.color\n",
        "def brake(self):\n",
        "  ciciv=car()             #object\n",
        "  engin=car()\n",
        "\n",
        "\n",
        "\n"
      ],
      "metadata": {
        "id": "SfdDiiO-ZXT1"
      },
      "execution_count": null,
      "outputs": []
    },
    {
      "cell_type": "code",
      "source": [
        "class student:\n",
        "\n",
        "   def__init__(self):\n",
        "   self.garde=\"A\"   #attributes\n",
        "   self.personality=\" cool\"\n",
        "   def intoduce(self) :  # function\n",
        "  # return f\"My grade is {self.grade} and my personality is {self.personality}.\"\n",
        "    grade=self.grade\n",
        "   personality=self.personality\n",
        "\n",
        "\n",
        "student1= student()   #object\n",
        "student2=student()\n",
        "\n",
        "print(self.grade)\n",
        "print(self.personality)\n",
        "\n",
        "print(student1.grade)\n",
        "print(student1.personality)\n",
        "print(student2.grade)\n",
        "print(student2.personality)\n",
        "\n",
        "\n",
        "\n"
      ],
      "metadata": {
        "colab": {
          "base_uri": "https://localhost:8080/",
          "height": 106
        },
        "id": "BVXHCz_DBf_B",
        "outputId": "4fcee4ce-fab0-4240-bd34-1d62201082dd"
      },
      "execution_count": null,
      "outputs": [
        {
          "output_type": "error",
          "ename": "SyntaxError",
          "evalue": "invalid syntax (<ipython-input-10-9b89c44678d1>, line 3)",
          "traceback": [
            "\u001b[0;36m  File \u001b[0;32m\"<ipython-input-10-9b89c44678d1>\"\u001b[0;36m, line \u001b[0;32m3\u001b[0m\n\u001b[0;31m    def__init__(self):\u001b[0m\n\u001b[0m                     ^\u001b[0m\n\u001b[0;31mSyntaxError\u001b[0m\u001b[0;31m:\u001b[0m invalid syntax\n"
          ]
        }
      ]
    },
    {
      "cell_type": "code",
      "source": [
        "class bankAccount :\n",
        "   def__init__(self )\n",
        "   self.balance=10000    # attributes\n",
        "   self.interest_rate=0.05\n",
        "\n",
        "   def deposit() # fnction\n",
        "\n",
        "   balance=self.balance\n",
        "   interest_rate=self.interest_rate\n",
        "\n",
        "   bankAccount1=bankAccount()\n",
        "   bankAccount2=bankAccount()\n",
        "\n",
        "   print(bankAccount1.balance)\n",
        "   print(bankAccount1.interest_rate)\n",
        "   print(bankAccount2.balance)\n",
        "   print(bankAccount2.interest_rate)"
      ],
      "metadata": {
        "id": "vTL1eCGlGRW_"
      },
      "execution_count": null,
      "outputs": []
    },
    {
      "cell_type": "code",
      "source": [
        "class library:\n",
        "  def __init__(self):\n",
        "    self.name=\" oxford engish\"\n",
        "    self.quantity= 12\n",
        "\n",
        "    def borrow(self):\n",
        "     name= self.name\n",
        "    quantity=self.quantity\n",
        "\n",
        "    library1=library()\n",
        "    library2=library()\n",
        "\n",
        "    print(library1.name)\n",
        "    print(library1.quantity)\n",
        "    print(library2.name)\n",
        "    print(library2.quantity)\n",
        "\n",
        "\n",
        "\n",
        "\n"
      ],
      "metadata": {
        "id": "riaC4whSKJtP"
      },
      "execution_count": null,
      "outputs": []
    },
    {
      "cell_type": "code",
      "source": [
        "class Dog:\n",
        "    def __init__(self, name, breed, age):  #  attributes\n",
        "        self.name = name  # Attribute for the dog's name\n",
        "        self.breed = breed  # Attribute for the dog's breed\n",
        "        self.age = age  # Attribute for the dog's age\n",
        "\n",
        "    def bark(self):  # Method for the dog to bark\n",
        "        return f\"{self.name} says: Woof! Woof!\"\n",
        "\n",
        "\n",
        "\n",
        "# Creating two objects of the Dog class\n",
        "    dog1 = Dog(\"Buddy\", \"Golden Retriever\")\n",
        "dog2 = Dog(\"Bella\", \"German Shepherd\")\n",
        "\n",
        "# Accessing attributes and methods for dog1\n",
        "print(f\"Dog 1 Name: {dog1.name}\")\n",
        "print(f\"Dog 1 Breed: {dog1.breed}\")\n",
        "print(dog1.bark())\n",
        "\n",
        "\n",
        "# Accessing attributes and methods for dog2\n",
        "print(f\"Dog 2 Name: {dog2.name}\")\n",
        "print(f\"Dog 2 Breed: {dog2.breed}\")\n",
        "\n"
      ],
      "metadata": {
        "colab": {
          "base_uri": "https://localhost:8080/",
          "height": 211
        },
        "id": "XYWeUZNuLncz",
        "outputId": "7f788e5a-a531-4557-babb-7e48591de4b1"
      },
      "execution_count": null,
      "outputs": [
        {
          "output_type": "error",
          "ename": "TypeError",
          "evalue": "Dog.__init__() missing 1 required positional argument: 'age'",
          "traceback": [
            "\u001b[0;31m---------------------------------------------------------------------------\u001b[0m",
            "\u001b[0;31mTypeError\u001b[0m                                 Traceback (most recent call last)",
            "\u001b[0;32m<ipython-input-7-2520156c7cc7>\u001b[0m in \u001b[0;36m<cell line: 13>\u001b[0;34m()\u001b[0m\n\u001b[1;32m     11\u001b[0m \u001b[0;34m\u001b[0m\u001b[0m\n\u001b[1;32m     12\u001b[0m \u001b[0;31m# Creating two objects of the Dog class\u001b[0m\u001b[0;34m\u001b[0m\u001b[0;34m\u001b[0m\u001b[0m\n\u001b[0;32m---> 13\u001b[0;31m \u001b[0mdog1\u001b[0m \u001b[0;34m=\u001b[0m \u001b[0mDog\u001b[0m\u001b[0;34m(\u001b[0m\u001b[0;34m\"Buddy\"\u001b[0m\u001b[0;34m,\u001b[0m \u001b[0;34m\"Golden Retriever\"\u001b[0m\u001b[0;34m)\u001b[0m\u001b[0;34m\u001b[0m\u001b[0;34m\u001b[0m\u001b[0m\n\u001b[0m\u001b[1;32m     14\u001b[0m \u001b[0mdog2\u001b[0m \u001b[0;34m=\u001b[0m \u001b[0mDog\u001b[0m\u001b[0;34m(\u001b[0m\u001b[0;34m\"Bella\"\u001b[0m\u001b[0;34m,\u001b[0m \u001b[0;34m\"German Shepherd\"\u001b[0m\u001b[0;34m)\u001b[0m\u001b[0;34m\u001b[0m\u001b[0;34m\u001b[0m\u001b[0m\n\u001b[1;32m     15\u001b[0m \u001b[0;34m\u001b[0m\u001b[0m\n",
            "\u001b[0;31mTypeError\u001b[0m: Dog.__init__() missing 1 required positional argument: 'age'"
          ]
        }
      ]
    },
    {
      "cell_type": "code",
      "source": [
        "class smartphone:\n",
        "  def __init__(self):\n",
        "   self.modle=\"iphone\"\n",
        "   self.storage= 128\n",
        "\n",
        "   def call(self):\n",
        "    modle=self.name\n",
        "    storage=self.storage\n",
        "\n",
        "\n",
        "    def installApp(self):\n",
        "        modle=self.model\n",
        "        storage=self.storage\n",
        "\n",
        "    smartphone1=smartphone()\n",
        "    smartphone2=smartphone()\n",
        "    smartphone3=smartphone()\n",
        "\n",
        "    print(smartphone1.modle)\n",
        "    print(smartphone2.modle)\n",
        "    print(smartphone3.modle)\n"
      ],
      "metadata": {
        "id": "F7J_q5EiL-aw"
      },
      "execution_count": null,
      "outputs": []
    },
    {
      "cell_type": "code",
      "source": [
        "class birthdayMonth:\n",
        "     def __init__ (self):\n",
        "      self.day= \"friday\"\n",
        "      self.time=12\n",
        "      self.date=13             # attributes\n",
        "      self.month= \"december\"\n",
        "\n",
        "      def birthday(self):     # function\n",
        "        day=self.day\n",
        "        time=self.time\n",
        "        date=self.date\n",
        "        month=self.month\n",
        "\n",
        "      def nextyear(self):    #method\n",
        "        day=self.day\n",
        "        time=self.time\n",
        "        date=self.date\n",
        "        month=self.month\n",
        "\n",
        "        Alisha=birthdayMonth()       # object\n",
        "        issue=birthdayMonth()\n",
        "\n",
        "      print(Alisha.day)\n",
        "      print(Alisha.time)\n",
        "      print(Alisha.date)\n",
        "      print(Alisha.month)\n"
      ],
      "metadata": {
        "id": "Im9KSn_JQoOw"
      },
      "execution_count": null,
      "outputs": []
    },
    {
      "cell_type": "code",
      "source": [
        "class organism:\n",
        "  def __init__(self):\n",
        "    self.specie=\"Panthera leo\"\n",
        "    self. name = \"Lion\"\n",
        "    self.age= 5\n",
        "\n",
        "    def eat(self):\n",
        "      specie=self.specie\n",
        "      name=self.name\n",
        "      age=self.age\n",
        "\n",
        "    def grow(self):\n",
        "      specie=self.specie\n",
        "      name=self.name\n",
        "      age=self.age\n",
        "\n",
        "      organism1=organism()\n",
        "      organism2=organism()\n",
        "\n",
        "      print(organism1.specie)\n",
        "      print(organism1.name)\n",
        "      print(organism1.age)\n",
        "      print(organism2.specie)\n",
        "      print(organism2.name)\n",
        "      print(organism2.age)\n",
        "\n",
        "\n",
        "\n",
        "\n",
        "\n"
      ],
      "metadata": {
        "id": "aDN2YjtmSaQd"
      },
      "execution_count": null,
      "outputs": []
    },
    {
      "cell_type": "markdown",
      "source": [
        "# finish\n"
      ],
      "metadata": {
        "id": "-YcwPCfDWn28"
      }
    }
  ]
}