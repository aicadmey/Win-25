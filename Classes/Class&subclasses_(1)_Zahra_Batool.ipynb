{
  "cells": [
    {
      "cell_type": "code",
      "execution_count": null,
      "id": "fb3f2e5a-a1ca-4b4f-82d1-1ab0844c11ff",
      "metadata": {
        "id": "fb3f2e5a-a1ca-4b4f-82d1-1ab0844c11ff"
      },
      "outputs": [],
      "source": [
        "class Vision:\n",
        "    def __init__(self):\n",
        "        self.color=None\n",
        "        self.size=None\n",
        "    class Eyes:\n",
        "        def __init__(self):\n",
        "            self.color=None\n",
        "            self.shape=None\n",
        "\n"
      ]
    },
    {
      "cell_type": "code",
      "execution_count": null,
      "id": "ee88bbd4-bafa-43d2-ae2a-c426d63de012",
      "metadata": {
        "id": "ee88bbd4-bafa-43d2-ae2a-c426d63de012"
      },
      "outputs": [],
      "source": [
        "class Dinning_room:\n",
        "    class Dishes:\n",
        "    class Dinning_table:\n",
        "class Study_room:\n",
        "    class Study_table:\n",
        "    class Books:"
      ]
    },
    {
      "cell_type": "code",
      "execution_count": null,
      "id": "e74b8c47-b7c7-43c9-900f-c76a8f63a044",
      "metadata": {
        "id": "e74b8c47-b7c7-43c9-900f-c76a8f63a044"
      },
      "outputs": [],
      "source": [
        "class Fruits:\n",
        "    class Pineapple:\n",
        "    class Orange:\n",
        "    class Strawberry:\n",
        "class Vegetables:\n",
        "    class spinach:\n",
        "    class Potato:\n",
        "    class cucumber:\n",
        "class Animals:\n",
        "    class Goat:\n",
        "    class Sheep:\n",
        "    class Cow:"
      ]
    },
    {
      "cell_type": "code",
      "execution_count": null,
      "id": "7e510a3a-767a-4815-8171-dfbc8b484cef",
      "metadata": {
        "id": "7e510a3a-767a-4815-8171-dfbc8b484cef"
      },
      "outputs": [],
      "source": [
        "class Electronic_device:\n",
        "    class Smartphone:\n",
        "    class Laptop:\n",
        "    class Smartwatches:\n",
        "    class Tablets:\n",
        "class Shapes:\n",
        "    class Cicle:\n",
        "    class Rectangle:\n",
        "    class Cone:\n",
        "    class Cylinder:\n",
        "class Employees:\n",
        "    class Manager:\n",
        "    class Doctor:\n",
        "    class Developer:\n",
        "    class Designer:\n",
        "class Vehicles:\n",
        "    class Car:\n",
        "    class Bike:\n",
        "    class Truck:\n",
        "    class Cycle:\n"
      ]
    },
    {
      "cell_type": "code",
      "execution_count": null,
      "id": "41c47a4d-587c-42a5-ad58-cca0d098a746",
      "metadata": {
        "id": "41c47a4d-587c-42a5-ad58-cca0d098a746"
      },
      "outputs": [],
      "source": [
        "class Monera:\n",
        "    class Cell_structure:\n",
        "    class Nutrition:\n",
        "    class Habitat:\n",
        "    class Locomotion:\n",
        "    class Reproduction:\n",
        "class Protista:\n",
        "    class Struture:\n",
        "    class Mode_Nutrition:\n",
        "    class Motile_nonmotile:\n",
        "    class Adaptation:\n",
        "    class Reproduction:\n",
        "class Fungi:\n",
        "    class cell_type:\n",
        "    class Habitat:\n",
        "    class Locomotion:\n",
        "    class Food_storage:\n",
        "    class Reproduction:\n",
        "class Animalia:\n",
        "    class Nervous_system:\n",
        "    class Digestive_system:\n",
        "    class Respiratory_system:\n",
        "    class Endocrine_system:\n",
        "    class Circulatory_system:\n",
        "class Plantae:\n",
        "    class Cell_type:\n",
        "    class Photosynthesis:\n",
        "    class Adaptations:\n",
        "    class Alternation_generation:\n",
        "    class Reproduction:"
      ]
    },
    {
      "cell_type": "code",
      "execution_count": null,
      "id": "29379564-d89e-4c74-adff-c06eaaa6885f",
      "metadata": {
        "id": "29379564-d89e-4c74-adff-c06eaaa6885f",
        "outputId": "bb22c3f4-6386-45e4-9ee9-8dc3b7861570"
      },
      "outputs": [
        {
          "name": "stdout",
          "output_type": "stream",
          "text": [
            "Black\n"
          ]
        }
      ],
      "source": [
        "asad=Vision.Eyes()\n",
        "asad.color=\"Black\"\n",
        "print(asad.color)"
      ]
    },
    {
      "cell_type": "code",
      "execution_count": null,
      "id": "6d39df5f-2a53-4f0a-b19a-7b7d7ef1cc9d",
      "metadata": {
        "id": "6d39df5f-2a53-4f0a-b19a-7b7d7ef1cc9d"
      },
      "outputs": [],
      "source": []
    }
  ],
  "metadata": {
    "kernelspec": {
      "display_name": "Python 3 (ipykernel)",
      "language": "python",
      "name": "python3"
    },
    "language_info": {
      "codemirror_mode": {
        "name": "ipython",
        "version": 3
      },
      "file_extension": ".py",
      "mimetype": "text/x-python",
      "name": "python",
      "nbconvert_exporter": "python",
      "pygments_lexer": "ipython3",
      "version": "3.11.7"
    },
    "colab": {
      "provenance": []
    }
  },
  "nbformat": 4,
  "nbformat_minor": 5
}