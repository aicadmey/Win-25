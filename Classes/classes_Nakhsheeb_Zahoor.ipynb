{
  "nbformat": 4,
  "nbformat_minor": 0,
  "metadata": {
    "colab": {
      "provenance": []
    },
    "kernelspec": {
      "name": "python3",
      "display_name": "Python 3"
    },
    "language_info": {
      "name": "python"
    }
  },
  "cells": [
    {
      "cell_type": "code",
      "execution_count": null,
      "metadata": {
        "colab": {
          "base_uri": "https://localhost:8080/"
        },
        "id": "6L5g2vtuCvyG",
        "outputId": "f8fc1346-8005-4fa3-f986-c39fb548b704"
      },
      "outputs": [
        {
          "output_type": "stream",
          "name": "stdout",
          "text": [
            "Milky Way\n",
            "100,000 light-years\n",
            "2.537 light-years\n",
            "Universe\n"
          ]
        }
      ],
      "source": [
        "class Galaxy:\n",
        "    def __init__(self):\n",
        "        #Creating Attributes\n",
        "        self.name=\"None\"\n",
        "        self.diameter=\"None\"\n",
        "        self.distance=\"None\"\n",
        "        self.part_of=\"Universe\"\n",
        "\n",
        "    # MAKING A FUNCTION INSIDE THE CLASS\n",
        "    def info(self, name, diameter, distance, part_of):\n",
        "        self.name = name  # Assign the provided name to the object's name attribute\n",
        "        self.diameter = diameter\n",
        "        self.distance = distance\n",
        "        self.part_of = part_of\n",
        "        return self.name, self.diameter, self.distance, self.part_of\n",
        "\n",
        "    #creating objects\n",
        "Milky_way=Galaxy()\n",
        "Andromeda= Galaxy()\n",
        "\n",
        "name = \"Milky Way\"\n",
        "diameter = \"100,000 light-years\"\n",
        "distance = \"2.537 light-years\"\n",
        "part_of = \"Universe\"\n",
        "\n",
        "Milky_way.info(name, diameter, distance, part_of)\n",
        "\n",
        "print(Milky_way.name)\n",
        "print(Milky_way.diameter)\n",
        "print(Milky_way.distance)\n",
        "print(Milky_way.part_of)\n"
      ]
    },
    {
      "cell_type": "code",
      "source": [
        "class Specie:\n",
        "    def __init__(self):\n",
        "        #Creating Attributes\n",
        "        self.name=\"None\"\n",
        "        self.gender=\"None\"\n",
        "        self.genus=\"None\"\n",
        "        self.part_of=\"Living Circle\"\n",
        "\n",
        "    def info(self, name, gender, genus, part_of):\n",
        "        self.name = name\n",
        "        self.gender = gender\n",
        "        self.genus = genus\n",
        "        self.part_of = part_of\n",
        "        return self.name, self.gender, self.genus, self.part_of\n",
        "\n",
        "#creating objects\n",
        "Nakhsheeb=Specie()\n",
        "Zahoor= Specie()\n",
        "\n",
        "name = \"Nakhsheeb\"\n",
        "gender = \"female\"\n",
        "genus = \"homo\"\n",
        "part_of = \"living circle\"\n",
        "\n",
        "\n",
        "Nakhsheeb.info(name, gender,genus, part_of)\n",
        "\n",
        "print(Nakhsheeb.name)\n",
        "print(Nakhsheeb.gender)\n",
        "print(Nakhsheeb.genus)\n",
        "print(Nakhsheeb.part_of)"
      ],
      "metadata": {
        "colab": {
          "base_uri": "https://localhost:8080/"
        },
        "id": "3wK7P0a7IJd2",
        "outputId": "9f5b2b3a-2430-4213-92a0-7c3903df3bb2"
      },
      "execution_count": null,
      "outputs": [
        {
          "output_type": "stream",
          "name": "stdout",
          "text": [
            "Nakhsheeb\n",
            "female\n",
            "homo\n",
            "living circle\n"
          ]
        }
      ]
    },
    {
      "cell_type": "code",
      "source": [
        "\n",
        "class Computer:\n",
        "    def __init__(self):\n",
        "        #Creating Attributes\n",
        "        self.name=\"None\"\n",
        "        self.depart=\"None\"\n",
        "        self.part_of=\"Education\"\n",
        "    def info(self, name, depart, part_of):\n",
        "        self.name = \"Computer education\"\n",
        "        self.depart = \"AI\"\n",
        "        self.part_of = \"Education\"\n",
        "\n",
        "\n",
        "        return self.name, self.depart, self.part_of\n",
        "\n",
        "#creating objects\n",
        "AI= Computer()\n",
        "IT= Computer()\n",
        "\n",
        "\n",
        "\n",
        "name = \"Artifical intelligence\"\n",
        "depart = \"CS & IT\"\n",
        "part_of = \"Education\"\n",
        "\n",
        "\n",
        "AI.info(name,depart, part_of)\n",
        "print(AI.name)\n",
        "print(AI.depart)\n",
        "print(AI.part_of)\n"
      ],
      "metadata": {
        "colab": {
          "base_uri": "https://localhost:8080/"
        },
        "id": "96OGsYNlNpkg",
        "outputId": "6e9bf613-455e-46b7-ce6f-d66fcbae0c3f"
      },
      "execution_count": null,
      "outputs": [
        {
          "output_type": "stream",
          "name": "stdout",
          "text": [
            "Computer education\n",
            "AI\n",
            "Education\n"
          ]
        }
      ]
    },
    {
      "cell_type": "code",
      "source": [
        "class Books:\n",
        "    def __init__(self):\n",
        "        # Creating Attributes\n",
        "        self.name = \"None\"\n",
        "        self.author = \"None\"\n",
        "        self.part_of = \"Education\"\n",
        "\n",
        "    # Function to set book information\n",
        "    def info(self, name, author, part_of):\n",
        "        self.name = name\n",
        "        self.author = author\n",
        "        self.part_of = part_of\n",
        "        return self.name, self.author, self.part_of\n",
        "\n",
        "# Creating objects\n",
        "Hamlet = Books()\n",
        "Heal_your_Heart = Books()\n",
        "\n",
        "\n",
        "Hamlet.info(\"Hamlet\", \"William Shakespeare\", \"Literature\")\n",
        "\n",
        "\n",
        "Heal_your_Heart.info(\"Heal Your Heart\", \"Dr. Michelle Bengtson\", \"Self-Help\")\n",
        "\n",
        "\n",
        "print(\"Book 1:\")\n",
        "print(\"Name:\", Hamlet.name)\n",
        "print(\"Author:\", Hamlet.author)\n",
        "print(\"Part of:\", Hamlet.part_of)\n",
        "\n",
        "print(\"\\nBook 2:\")\n",
        "print(\"Name:\", Heal_your_Heart.name)\n",
        "print(\"Author:\", Heal_your_Heart.author)\n",
        "print(\"Part of:\", Heal_your_Heart.part_of)\n"
      ],
      "metadata": {
        "id": "bcu5Z5PlUU0s",
        "colab": {
          "base_uri": "https://localhost:8080/"
        },
        "outputId": "3c8eb772-366c-431a-823e-c9777e8ee3d7"
      },
      "execution_count": null,
      "outputs": [
        {
          "output_type": "stream",
          "name": "stdout",
          "text": [
            "Book 1:\n",
            "Name: Hamlet\n",
            "Author: William Shakespeare\n",
            "Part of: Literature\n",
            "\n",
            "Book 2:\n",
            "Name: Heal Your Heart\n",
            "Author: Dr. Michelle Bengtson\n",
            "Part of: Self-Help\n"
          ]
        }
      ]
    },
    {
      "cell_type": "code",
      "source": [
        "class Cars:\n",
        "    def __init__(self):\n",
        "        # Attribute\n",
        "        self.name = \"None\"\n",
        "        self.model = \"None\"\n",
        "        self.color = \"None\"\n",
        "\n",
        "    # Creating function to set car attributes\n",
        "    def specialization(self, name, model, color):\n",
        "        self.name = name\n",
        "        self.model = model\n",
        "        self.color = color\n",
        "        return self.name, self.model, self.color\n",
        "\n",
        "# Creating objects\n",
        "honda = Cars()\n",
        "bmw = Cars()\n",
        "toyota = Cars()\n",
        "\n",
        "# Setting specializations for each car\n",
        "honda.specialization(\"Honda\", \"Civic 17\", \"Metallic Silver\")\n",
        "bmw.specialization(\"BMW\", \"X5\", \"Black\")\n",
        "toyota.specialization(\"Toyota\", \"Corolla\", \"White\")\n",
        "\n",
        "# Printing information for Honda\n",
        "print(\"Car 1:\")\n",
        "print(\"Name:\", honda.name)\n",
        "print(\"Model:\", honda.model)\n",
        "print(\"Color:\", honda.color)\n",
        "\n",
        "# Printing information for BMW\n",
        "print(\"\\nCar 2:\")\n",
        "print(\"Name:\", bmw.name)\n",
        "print(\"Model:\", bmw.model)\n",
        "print(\"Color:\", bmw.color)\n",
        "\n",
        "# Printing information for Toyota\n",
        "print(\"\\nCar 3:\")\n",
        "print(\"Name:\", toyota.name)\n",
        "print(\"Model:\", toyota.model)\n",
        "print(\"Color:\", toyota.color)\n",
        "\n",
        "\n",
        "\n",
        "\n",
        "\n"
      ],
      "metadata": {
        "id": "keIyXWI-VMbj",
        "colab": {
          "base_uri": "https://localhost:8080/"
        },
        "outputId": "31bd4a90-70b3-4ecb-e158-396cb74e9eea"
      },
      "execution_count": null,
      "outputs": [
        {
          "output_type": "stream",
          "name": "stdout",
          "text": [
            "Car 1:\n",
            "Name: Honda\n",
            "Model: Civic 17\n",
            "Color: Metallic Silver\n",
            "\n",
            "Car 2:\n",
            "Name: BMW\n",
            "Model: X5\n",
            "Color: Black\n",
            "\n",
            "Car 3:\n",
            "Name: Toyota\n",
            "Model: Corolla\n",
            "Color: White\n"
          ]
        }
      ]
    },
    {
      "cell_type": "code",
      "source": [
        "class Mobile:\n",
        "    def __init__(self):\n",
        "        # Attribute\n",
        "        self.name = \"None\"\n",
        "        self.model = \"None\"\n",
        "        self.color = \"None\"\n",
        "\n",
        "    # Creating function to set mobile attributes\n",
        "    def specialization(self, name, model, color):\n",
        "        self.name = name\n",
        "        self.model = model\n",
        "        self.color = color\n",
        "        return self.name, self.model, self.color\n",
        "\n",
        "# Creating objects for mobiles\n",
        "samsung = Mobile()\n",
        "oppo = Mobile()\n",
        "iphone = Mobile()\n",
        "\n",
        "# Setting specializations for each mobile\n",
        "samsung.specialization(\"Samsung\", \"Galaxy S21\", \"Phantom Gray\")\n",
        "oppo.specialization(\"Oppo\", \"Reno 6\", \"Aurora\")\n",
        "iphone.specialization(\"iPhone\", \"13 Pro\", \"Silver\")\n",
        "\n",
        "# Printing information for Samsung\n",
        "print(\"Mobile 1:\")\n",
        "print(\"Name:\", samsung.name)\n",
        "print(\"Model:\", samsung.model)\n",
        "print(\"Color:\", samsung.color)\n",
        "\n",
        "# Printing information for Oppo\n",
        "print(\"\\nMobile 2:\")\n",
        "print(\"Name:\", oppo.name)\n",
        "print(\"Model:\", oppo.model)\n",
        "print(\"Color:\", oppo.color)\n",
        "\n",
        "# Printing information for iPhone\n",
        "print(\"\\nMobile 3:\")\n",
        "print(\"Name:\", iphone.name)\n",
        "print(\"Model:\", iphone.model)\n",
        "print(\"Color:\", iphone.color)\n"
      ],
      "metadata": {
        "colab": {
          "base_uri": "https://localhost:8080/"
        },
        "id": "nmzDBgY7cfsi",
        "outputId": "e46082a0-7402-498d-ecca-af289b412afc"
      },
      "execution_count": null,
      "outputs": [
        {
          "output_type": "stream",
          "name": "stdout",
          "text": [
            "Mobile 1:\n",
            "Name: Samsung\n",
            "Model: Galaxy S21\n",
            "Color: Phantom Gray\n",
            "\n",
            "Mobile 2:\n",
            "Name: Oppo\n",
            "Model: Reno 6\n",
            "Color: Aurora\n",
            "\n",
            "Mobile 3:\n",
            "Name: iPhone\n",
            "Model: 13 Pro\n",
            "Color: Silver\n"
          ]
        }
      ]
    },
    {
      "cell_type": "code",
      "source": [
        "class Person:\n",
        "    def __init__(self, name=\"None\", age=\"None\", gender=\"None\"):\n",
        "        # Attributes\n",
        "        self.name = name\n",
        "        self.age = age\n",
        "        self.gender = gender\n",
        "\n",
        "    # Function to set person attributes\n",
        "    def set_attributes(self, name, age, gender):\n",
        "        self.name = name\n",
        "        self.age = age\n",
        "        self.gender = gender\n",
        "        return self.name, self.age, self.gender\n",
        "\n",
        "    def display(self):\n",
        "        print(f\"Name: {self.name}, Age: {self.age}, Gender: {self.gender}\")\n",
        "\n",
        "class Mobile:\n",
        "    def __init__(self, name=\"None\", model=\"None\", color=\"None\"):\n",
        "        # Attributes\n",
        "        self.name = name\n",
        "        self.model = model\n",
        "        self.color = color\n",
        "\n",
        "    # Function to set mobile attributes\n",
        "    def specialization(self, name, model, color):\n",
        "        self.name = name\n",
        "        self.model = model\n",
        "        self.color = color\n",
        "        return self.name, self.model, self.color\n",
        "\n",
        "    def display(self):\n",
        "        print(f\"Name: {self.name}, Model: {self.model}, Color: {self.color}\")\n",
        "\n",
        "# Creating objects for persons\n",
        "john = Person(\"John Doe\", 30, \"Male\")\n",
        "jane = Person(\"Jane Smith\", 28, \"Female\")\n",
        "\n",
        "# Displaying person information\n",
        "print(\"Person 1:\")\n",
        "john.display()\n",
        "\n",
        "print(\"\\nPerson 2:\")\n",
        "jane.display()\n",
        "\n",
        "# Creating objects for mobiles\n",
        "samsung = Mobile()\n",
        "oppo = Mobile()\n",
        "iphone = Mobile()\n",
        "\n",
        "# Setting specializations for each mobile\n",
        "samsung.specialization(\"Samsung\", \"Galaxy S21\", \"Phantom Gray\")\n",
        "oppo.specialization(\"Oppo\", \"Reno 6\", \"Aurora\")\n",
        "iphone.specialization(\"iPhone\", \"13 Pro\", \"Silver\")\n",
        "\n",
        "# Printing information for Samsung\n",
        "print(\"\\nMobile 1:\")\n",
        "samsung.display()\n",
        "\n",
        "# Printing information for Oppo\n",
        "print(\"\\nMobile 2:\")\n",
        "oppo.display()\n",
        "\n",
        "# Printing information for iPhone\n",
        "print(\"\\nMobile 3:\")\n",
        "iphone.display()\n"
      ],
      "metadata": {
        "colab": {
          "base_uri": "https://localhost:8080/"
        },
        "id": "SuyXSL9jddT-",
        "outputId": "04fac22f-2f8b-4e6d-a8e9-ce165051e60b"
      },
      "execution_count": null,
      "outputs": [
        {
          "output_type": "stream",
          "name": "stdout",
          "text": [
            "Person 1:\n",
            "Name: John Doe, Age: 30, Gender: Male\n",
            "\n",
            "Person 2:\n",
            "Name: Jane Smith, Age: 28, Gender: Female\n",
            "\n",
            "Mobile 1:\n",
            "Name: Samsung, Model: Galaxy S21, Color: Phantom Gray\n",
            "\n",
            "Mobile 2:\n",
            "Name: Oppo, Model: Reno 6, Color: Aurora\n",
            "\n",
            "Mobile 3:\n",
            "Name: iPhone, Model: 13 Pro, Color: Silver\n"
          ]
        }
      ]
    },
    {
      "cell_type": "code",
      "source": [
        "class Room:\n",
        "    def __init__(self):\n",
        "        # Creating Attributes\n",
        "        self.name = \"None\"\n",
        "        self.size = \"None\"\n",
        "        self.distance = \"None\"\n",
        "        self.part_of = \"School\"\n",
        "\n",
        "    # Making a function inside the class\n",
        "    def info(self, name, size, distance, part_of):\n",
        "        self.name = name\n",
        "        self.size = size\n",
        "        self.distance = distance\n",
        "        self.part_of = part_of\n",
        "        return self.name, self.size, self.distance, self.part_of\n",
        "\n",
        "# Creating objects\n",
        "lab = Room()\n",
        "classroom = Room()\n",
        "\n",
        "lab.info(\"Physics Lab\", \"Large\", \"First Floor\", \"Science Department\")\n",
        "\n",
        "\n",
        "classroom.info(\"Room 101\", \"Medium\", \"Ground Floor\", \"Primary School\")\n",
        "\n",
        "\n",
        "print(\"Lab Info:\")\n",
        "print(\"Name:\", lab.name)\n",
        "print(\"Size:\", lab.size)\n",
        "print(\"Distance:\", lab.distance)\n",
        "print(\"Part of:\", lab.part_of)\n",
        "\n",
        "print(\"\\nClassroom Info:\")\n",
        "print(\"Name:\", classroom.name)\n",
        "print(\"Size:\", classroom.size)\n",
        "print(\"Distance:\", classroom.distance)\n",
        "print(\"Part of:\", classroom.part_of)\n"
      ],
      "metadata": {
        "colab": {
          "base_uri": "https://localhost:8080/"
        },
        "id": "GzlvAFnleDnR",
        "outputId": "73651464-5388-4397-e4bb-4bce2d503361"
      },
      "execution_count": null,
      "outputs": [
        {
          "output_type": "stream",
          "name": "stdout",
          "text": [
            "Lab Info:\n",
            "Name: Physics Lab\n",
            "Size: Large\n",
            "Distance: First Floor\n",
            "Part of: Science Department\n",
            "\n",
            "Classroom Info:\n",
            "Name: Room 101\n",
            "Size: Medium\n",
            "Distance: Ground Floor\n",
            "Part of: Primary School\n"
          ]
        }
      ]
    },
    {
      "cell_type": "code",
      "source": [
        "class Person:\n",
        "    def __init__(self):\n",
        "        # Creating Attributes\n",
        "        self.name = \"None\"\n",
        "        self.age = \"None\"\n",
        "        self.gender = \"None\"\n",
        "        self.part_of = \"Community\"\n",
        "\n",
        "    # Making a function inside the class\n",
        "    def info(self, name, age, gender, part_of):\n",
        "        self.name = name\n",
        "        self.age = age\n",
        "        self.gender = gender\n",
        "        self.part_of = part_of\n",
        "        return self.name, self.age, self.gender, self.part_of\n",
        "\n",
        "# Creating objects\n",
        "john = Person()\n",
        "jane = Person()\n",
        "\n",
        "\n",
        "john.info(\"John Doe\", \"30\", \"Male\", \"Sports Club\")\n",
        "\n",
        "\n",
        "jane.info(\"Jane Smith\", \"28\", \"Female\", \"Book Club\")\n",
        "\n",
        "\n",
        "print(\"Person 1:\")\n",
        "print(\"Name:\", john.name)\n",
        "print(\"Age:\", john.age)\n",
        "print(\"Gender:\", john.gender)\n",
        "print(\"Part of:\", john.part_of)\n",
        "\n",
        "\n",
        "print(\"\\nPerson 2:\")\n",
        "print(\"Name:\", jane.name)\n",
        "print(\"Age:\", jane.age)\n",
        "print(\"Gender:\", jane.gender)\n",
        "print(\"Part of:\", jane.part_of)\n"
      ],
      "metadata": {
        "colab": {
          "base_uri": "https://localhost:8080/"
        },
        "id": "3xw_LI5xgBf-",
        "outputId": "71967b82-e1ed-4f99-edf0-02f4cdbd1e3d"
      },
      "execution_count": null,
      "outputs": [
        {
          "output_type": "stream",
          "name": "stdout",
          "text": [
            "Person 1:\n",
            "Name: John Doe\n",
            "Age: 30\n",
            "Gender: Male\n",
            "Part of: Sports Club\n",
            "\n",
            "Person 2:\n",
            "Name: Jane Smith\n",
            "Age: 28\n",
            "Gender: Female\n",
            "Part of: Book Club\n"
          ]
        }
      ]
    },
    {
      "cell_type": "code",
      "source": [
        "class Cloth:\n",
        "    def __init__(self):\n",
        "        # Creating Attributes\n",
        "        self.name = \"None\"\n",
        "        self.size = \"None\"\n",
        "        self.color = \"None\"\n",
        "        self.material = \"None\"\n",
        "\n",
        "    # Making a function inside the class\n",
        "    def info(self, name, size, color, material):\n",
        "        self.name = name\n",
        "        self.size = size\n",
        "        self.color = color\n",
        "        self.material = material\n",
        "        return self.name, self.size, self.color, self.material\n",
        "\n",
        "# Creating objects\n",
        "shirt = Cloth()\n",
        "pants = Cloth()\n",
        "\n",
        "\n",
        "shirt.info(\"Casual Shirt\", \"Medium\", \"Blue\", \"Cotton\")\n",
        "\n",
        "\n",
        "pants.info(\"Jeans\", \"32\", \"Black\", \"Denim\")\n",
        "\n",
        "\n",
        "print(\"Cloth 1:\")\n",
        "print(\"Name:\", shirt.name)\n",
        "print(\"Size:\", shirt.size)\n",
        "print(\"Color:\", shirt.color)\n",
        "print(\"Material:\", shirt.material)\n",
        "\n",
        "\n",
        "print(\"\\nCloth 2:\")\n",
        "print(\"Name:\", pants.name)\n",
        "print(\"Size:\", pants.size)\n",
        "print(\"Color:\", pants.color)\n",
        "print(\"Material:\", pants.material)\n"
      ],
      "metadata": {
        "colab": {
          "base_uri": "https://localhost:8080/"
        },
        "id": "0dIkwcNlgoIK",
        "outputId": "f5a0c6b5-aa44-452d-d16e-fa963b1455b4"
      },
      "execution_count": null,
      "outputs": [
        {
          "output_type": "stream",
          "name": "stdout",
          "text": [
            "Cloth 1:\n",
            "Name: Casual Shirt\n",
            "Size: Medium\n",
            "Color: Blue\n",
            "Material: Cotton\n",
            "\n",
            "Cloth 2:\n",
            "Name: Jeans\n",
            "Size: 32\n",
            "Color: Black\n",
            "Material: Denim\n"
          ]
        }
      ]
    }
  ]
}