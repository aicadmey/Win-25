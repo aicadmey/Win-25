{
  "nbformat": 4,
  "nbformat_minor": 0,
  "metadata": {
    "colab": {
      "provenance": []
    },
    "kernelspec": {
      "name": "python3",
      "display_name": "Python 3"
    },
    "language_info": {
      "name": "python"
    }
  },
  "cells": [
    {
      "cell_type": "code",
      "execution_count": null,
      "metadata": {
        "colab": {
          "base_uri": "https://localhost:8080/"
        },
        "id": "qEz_ewoqejMU",
        "outputId": "e240ea35-8dc6-479b-a799-0928a2216949"
      },
      "outputs": [
        {
          "output_type": "stream",
          "name": "stdout",
          "text": [
            "Buddy is a Golden Retriever Dog\n"
          ]
        }
      ],
      "source": [
        "# Base class # code from net as a reference\n",
        "class Animal:   #Parent class\n",
        "    def __init__(self, name, species):\n",
        "        self.name = name\n",
        "        self.species = species\n",
        "\n",
        "    def info(self):\n",
        "        return f\"{self.name} is a {self.species}\"\n",
        "\n",
        "# Subclass that inherits from Animal # sub class1\n",
        "class Dog(Animal):\n",
        "    def __init__(self, name, breed):\n",
        "        # Calling the constructor of the base class\n",
        "        super().__init__(name, \"Dog\")\n",
        "        self.breed = breed\n",
        "\n",
        "    def info(self):\n",
        "        return f\"{self.name} is a {self.breed} {self.species}\"\n",
        "\n",
        "# Creating an object of the Dog subclass\n",
        "buddy = Dog(\"Buddy\", \"Golden Retriever\")\n",
        "\n",
        "# Getting and printing information about the dog\n",
        "print(buddy.info())\n",
        "\n"
      ]
    },
    {
      "cell_type": "code",
      "source": [
        "# Base class\n",
        "class Animal:   # Parent class\n",
        "    def __init__(self, name, species):\n",
        "        self.name = name\n",
        "        self.species = species\n",
        "\n",
        "    def info(self):\n",
        "        return f\"{self.name} is a {self.species}\"\n",
        "\n",
        "# Subclass that inherits from Animal #sub class 1\n",
        "class Dog(Animal):\n",
        "    def __init__(self, name, breed):\n",
        "        # Calling the constructor of the base class\n",
        "        super().__init__(name, \"Dog\")\n",
        "        self.breed = breed\n",
        "\n",
        "    def info(self):\n",
        "        return f\"{self.name} is a {self.breed} {self.species}\"\n",
        "\n",
        "# Subclass that inherits from Animal #sub class2\n",
        "class Cat(Animal):\n",
        "    def __init__(self, name, breed):\n",
        "        # Calling the constructor of the base class\n",
        "        super().__init__(name, \"Cat\")\n",
        "        self.breed = breed\n",
        "\n",
        "    def info(self):\n",
        "        return f\"{self.name} is a {self.breed} {self.species}\"\n",
        "\n",
        "# Creating objects of the Dog and Cat subclasses\n",
        "buddy = Dog(\"Buddy\", \"Golden Retriever\")\n",
        "kitty = Cat(\"Kitty\", \"Siamese\")\n",
        "\n",
        "# Getting and printing information about the dog and cat\n",
        "print(buddy.info())\n",
        "print(kitty.info())\n"
      ],
      "metadata": {
        "colab": {
          "base_uri": "https://localhost:8080/"
        },
        "id": "LBENTJULk_28",
        "outputId": "e512972a-87ea-4e55-f2e6-db89d26f048d"
      },
      "execution_count": null,
      "outputs": [
        {
          "output_type": "stream",
          "name": "stdout",
          "text": [
            "Buddy is a Golden Retriever Dog\n",
            "Kitty is a Siamese Cat\n"
          ]
        }
      ]
    },
    {
      "cell_type": "code",
      "source": [
        "# Base class\n",
        "class Gender:\n",
        "    def __init__(self, name, gender):\n",
        "        self.name = name\n",
        "        self.gender = gender\n",
        "\n",
        "    def info(self):\n",
        "        return f\"{self.name} is {self.gender}\"\n",
        "\n",
        "# Subclass that inherits from Gender 1\n",
        "class Male(Gender):\n",
        "    def __init__(self, name, breed):\n",
        "        # Calling the constructor of the base class\n",
        "        super().__init__(name, \"Male\")\n",
        "        self.breed = breed\n",
        "\n",
        "    def info(self):\n",
        "        return f\"{self.name} is a {self.breed} {self.gender}\"\n",
        "\n",
        "# Another Subclass that inherits from Gender 2\n",
        "class Female(Gender):\n",
        "    def __init__(self, name, breed):\n",
        "        # Calling the constructor of the base class\n",
        "        super().__init__(name, \"Female\")\n",
        "        self.breed = breed\n",
        "\n",
        "    def info(self):\n",
        "        return f\"{self.name} is a {self.breed} {self.gender}\"\n",
        "# Another Subclass that inherits from Gender 3\n",
        "class transgender(Gender):\n",
        "    def __init__(self, name, breed):\n",
        "        # Calling the constructor of the base class\n",
        "        super().__init__(name, \"transgenger\")\n",
        "        self.breed = breed\n",
        "\n",
        "    def info(self):\n",
        "        return f\"{self.name} is a {self.breed} {self.gender}\"\n",
        "\n",
        "# Creating objects of the subclasses\n",
        "boy = Male(\"Zahoor\", \"Homo sapien\")\n",
        "girl = Female(\"Nakhsheeb\", \"Homo sapien\")\n",
        "dolly = transgender(\"Dolly\", \"Homo sapien\")\n",
        "# Getting and printing information about the objects\n",
        "print(boy.info())\n",
        "print(girl.info())\n",
        "print(dolly.info())"
      ],
      "metadata": {
        "colab": {
          "base_uri": "https://localhost:8080/"
        },
        "id": "lQAjxOPLhkK8",
        "outputId": "5e0eccc3-7761-48d6-a311-cd0f67317d63"
      },
      "execution_count": null,
      "outputs": [
        {
          "output_type": "stream",
          "name": "stdout",
          "text": [
            "Zahoor is a Homo sapien Male\n",
            "Nakhsheeb is a Homo sapien Female\n",
            "Dolly is a Homo sapien transgenger\n"
          ]
        }
      ]
    },
    {
      "cell_type": "code",
      "source": [
        "# Base class\n",
        "class Girl:\n",
        "    def __init__(self, name, gender):\n",
        "        self.name = name\n",
        "        self.gender = gender\n",
        "\n",
        "    def info(self):\n",
        "        return f\"{self.name} is {self.gender}\"\n",
        "\n",
        "# Subclass that inherits from Gender #1\n",
        "class Arneeb(Gender):\n",
        "    def __init__(self, name, breed):\n",
        "        # Calling the constructor of the base class\n",
        "        super().__init__(name, \"Arneeb\")\n",
        "        self.breed = breed\n",
        "\n",
        "    def info(self):\n",
        "        return f\"{self.name} is a {self.breed} {self.gender}\"\n",
        "\n",
        "# Another Subclass that inherits from Gender #2\n",
        "class Wadifa(Gender):\n",
        "    def __init__(self, name, breed):\n",
        "        # Calling the constructor of the base class\n",
        "        super().__init__(name, \"Wadifa\")\n",
        "        self.breed = breed\n",
        "\n",
        "    def info(self):\n",
        "        return f\"{self.name} is a {self.breed} {self.gender}\"\n",
        "\n",
        "# Another Subclass that inherits from Gender  # 3\n",
        "class Merub(Gender):\n",
        "    def __init__(self, name, breed):\n",
        "        # Calling the constructor of the base class\n",
        "        super().__init__(name, \"Merub\")\n",
        "        self.breed = breed\n",
        "\n",
        "    def info(self):\n",
        "        return f\"{self.name} is a {self.breed} {self.gender}\"\n",
        "        # Another Subclass that inherits from Gender #4\n",
        "class Nakhsheeb(Gender):\n",
        "    def __init__(self, name, breed):\n",
        "        # Calling the constructor of the base class\n",
        "        super().__init__(name, \"Nakhsheeb\")\n",
        "        self.breed = breed\n",
        "\n",
        "    def info(self):\n",
        "        return f\"{self.name} is a {self.breed} {self.gender}\"\n",
        "\n",
        "# Creating objects of the subclasses\n",
        "Girl1 = Arneeb(\"Arneeb\", \"Homo sapien\")\n",
        "Girl2 = Wadifa(\"Wadifa\", \"Homo sapien\")\n",
        "Girl3 = Merub(\"Merub\", \"Homo sapien\")\n",
        "Girl4 = Nakhsheeb(\"Nakhsheeb\", \"Homo sapien\")\n",
        "# Getting and printing information about the objects\n",
        "print(Girl1.info())\n",
        "print(Girl2.info())\n",
        "print(Girl3.info())\n",
        "print(Girl4.info())\n"
      ],
      "metadata": {
        "colab": {
          "base_uri": "https://localhost:8080/"
        },
        "id": "kU-2J4KUl_Z4",
        "outputId": "2495d00d-9069-48ec-bb91-22229f5ea367"
      },
      "execution_count": null,
      "outputs": [
        {
          "output_type": "stream",
          "name": "stdout",
          "text": [
            "Arneeb is a Homo sapien Arneeb\n",
            "Wadifa is a Homo sapien Wadifa\n",
            "Merub is a Homo sapien Merub\n",
            "Nakhsheeb is a Homo sapien Nakhsheeb\n"
          ]
        }
      ]
    },
    {
      "cell_type": "code",
      "source": [
        "# Main class\n",
        "class Food:\n",
        "    def __init__(self, name, calories):\n",
        "        self.name = name\n",
        "        self.calories = calories\n",
        "\n",
        "    def info(self):\n",
        "        return f\"{self.name} contains {self.calories} calories.\"\n",
        "\n",
        "# Subclass for Fruit #1\n",
        "class Fruit(Food):\n",
        "    def __init__(self, name, calories, sweetness_level):\n",
        "        super().__init__(name, calories)\n",
        "        self.sweetness_level = sweetness_level\n",
        "\n",
        "    def info(self):\n",
        "        return f\"{self.name} is a fruit with a sweetness level of {self.sweetness_level} and contains {self.calories} calories.\"\n",
        "\n",
        "# Subclass for Vegetable #2\n",
        "class Vegetable(Food):\n",
        "    def __init__(self, name, calories, vitamin_content):\n",
        "        super().__init__(name, calories)\n",
        "        self.vitamin_content = vitamin_content\n",
        "\n",
        "    def info(self):\n",
        "        return f\"{self.name} is a vegetable rich in {self.vitamin_content} and contains {self.calories} calories.\"\n",
        "\n",
        "# Subclass for Grain #3\n",
        "class Grain(Food):\n",
        "    def __init__(self, name, calories, fiber_content):\n",
        "        super().__init__(name, calories)\n",
        "        self.fiber_content = fiber_content\n",
        "\n",
        "    def info(self):\n",
        "        return f\"{self.name} is a grain with {self.fiber_content} fiber content and contains {self.calories} calories.\"\n",
        "\n",
        "# Subclass for Protein #4\n",
        "class Protein(Food):\n",
        "    def __init__(self, name, calories, protein_content):\n",
        "        super().__init__(name, calories)\n",
        "        self.protein_content = protein_content\n",
        "\n",
        "    def info(self):\n",
        "        return f\"{self.name} is a protein source with {self.protein_content} protein content and contains {self.calories} calories.\"\n",
        "\n",
        "# Subclass for Dairy#5\n",
        "class Dairy(Food):\n",
        "    def __init__(self, name, calories, fat_content):\n",
        "        super().__init__(name, calories)\n",
        "        self.fat_content = fat_content\n",
        "\n",
        "    def info(self):\n",
        "        return f\"{self.name} is a dairy product with {self.fat_content} fat content and contains {self.calories} calories.\"\n",
        "\n",
        "# Creating objects of the subclasses\n",
        "apple = Fruit(\"Apple\", 95, \"High\")\n",
        "carrot = Vegetable(\"Carrot\", 25, \"Vitamin A\")\n",
        "rice = Grain(\"Rice\", 130, \"High\")\n",
        "chicken = Protein(\"Chicken\", 165, \"High\")\n",
        "milk = Dairy(\"Milk\", 150, \"Low\")\n",
        "\n",
        "# Getting and printing information about the objects\n",
        "print(apple.info())\n",
        "print(carrot.info())\n",
        "print(rice.info())\n",
        "print(chicken.info())\n",
        "print(milk.info())\n"
      ],
      "metadata": {
        "colab": {
          "base_uri": "https://localhost:8080/"
        },
        "id": "ku-ngIk1oqbM",
        "outputId": "1dc65a39-a64c-4e57-e902-4d6807ac134d"
      },
      "execution_count": null,
      "outputs": [
        {
          "output_type": "stream",
          "name": "stdout",
          "text": [
            "Apple is a fruit with a sweetness level of High and contains 95 calories.\n",
            "Carrot is a vegetable rich in Vitamin A and contains 25 calories.\n",
            "Rice is a grain with High fiber content and contains 130 calories.\n",
            "Chicken is a protein source with High protein content and contains 165 calories.\n",
            "Milk is a dairy product with Low fat content and contains 150 calories.\n"
          ]
        }
      ]
    }
  ]
}