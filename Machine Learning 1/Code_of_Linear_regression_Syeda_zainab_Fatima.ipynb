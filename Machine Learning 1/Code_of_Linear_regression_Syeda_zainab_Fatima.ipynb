{
  "nbformat": 4,
  "nbformat_minor": 0,
  "metadata": {
    "colab": {
      "provenance": []
    },
    "kernelspec": {
      "name": "python3",
      "display_name": "Python 3"
    },
    "language_info": {
      "name": "python"
    }
  },
  "cells": [
    {
      "cell_type": "code",
      "execution_count": null,
      "metadata": {
        "id": "gtte0L6fYPjB"
      },
      "outputs": [],
      "source": [
        "# SYEDA ZAINAB FATIMA"
      ]
    },
    {
      "cell_type": "code",
      "source": [
        "# W25-PAK-INP-AI-01\n",
        "# CODE OF LINEAR REGRESSION"
      ],
      "metadata": {
        "id": "2VwuzY8jhZvT"
      },
      "execution_count": null,
      "outputs": []
    },
    {
      "cell_type": "code",
      "source": [
        "X = [1,2,3,] # Independent variable\n",
        "Y = [2,5,6]  # Dependent variable\n",
        "\n",
        "# Calculate the slope(m)\n",
        "X_mean = sum(X)/len(X)\n",
        "Y_mean = sum(Y)/len(Y)\n",
        "m = sum((Xi - X_mean) * (Yi - Y_mean) for Xi, Yi in zip(X, Y)) / sum((Xi - X_mean) ** 2 for Xi in X)\n",
        "\n",
        "# Calculate the intercept(b)\n",
        "b = Y_mean - m * X_mean\n",
        "print(f\"Equation: Y = {m}X + {b}\")\n"
      ],
      "metadata": {
        "colab": {
          "base_uri": "https://localhost:8080/"
        },
        "id": "-sNvSmIMYR1s",
        "outputId": "cb8cd81a-48a3-44d3-f2db-8849c2160cb5"
      },
      "execution_count": null,
      "outputs": [
        {
          "output_type": "stream",
          "name": "stdout",
          "text": [
            "Equation: Y = 2.0X + 0.33333333333333304\n"
          ]
        }
      ]
    }
  ]
}