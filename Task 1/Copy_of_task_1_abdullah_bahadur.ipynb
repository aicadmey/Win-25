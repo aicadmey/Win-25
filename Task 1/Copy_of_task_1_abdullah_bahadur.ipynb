{
  "nbformat": 4,
  "nbformat_minor": 0,
  "metadata": {
    "colab": {
      "provenance": []
    },
    "kernelspec": {
      "name": "python3",
      "display_name": "Python 3"
    },
    "language_info": {
      "name": "python"
    }
  },
  "cells": [
    {
      "cell_type": "code",
      "execution_count": null,
      "metadata": {
        "id": "wNxq-Yaj5v8Q"
      },
      "outputs": [],
      "source": []
    },
    {
      "cell_type": "code",
      "source": [
        "age = 20\n",
        "year = 2024\n",
        "month = 11\n",
        "date = 14\n",
        "roll_num = 18\n",
        "height_cm = 168\n",
        "weight_kg = 62\n",
        "session = 25\n",
        "batch_num = 3\n",
        "num_mob = 3\n",
        "num_laptop = 2\n",
        "pair_shoes = 7\n",
        "num_chargers = 4\n",
        "new_year = 2025\n",
        "num_cars = 2\n",
        "num_bikes = 3\n",
        "num_homes = 2\n",
        "num_brothers = 3\n",
        "num_watches = 3\n",
        "num_airpods = 2\n",
        "\n",
        "\n"
      ],
      "metadata": {
        "id": "aZm3paBN51gj"
      },
      "execution_count": null,
      "outputs": []
    },
    {
      "cell_type": "code",
      "source": [],
      "metadata": {
        "id": "CnRV_TEqtGNu"
      },
      "execution_count": null,
      "outputs": []
    },
    {
      "cell_type": "code",
      "source": [
        "temp = 69.9\n",
        "cgpa = 3.10\n",
        "persentage = 79.9\n",
        "scgpa = 2.4\n",
        "degree = 37.8\n",
        "ferenhite = 98.6\n",
        "pi = 3.14\n",
        "kelvin = 277.7\n",
        "deminsion = 88.2\n",
        "width = 69\n",
        "height = 5.8\n",
        "area = 6.9\n",
        "number = 804.0\n",
        "num_plate = 4184.4093\n",
        "atm_pin = 56.83\n",
        "mob_pin = 0.001\n",
        "laptop_pin = 87.64\n",
        "ram = 16.0\n",
        "hard_drive = 1.0\n",
        "ssd = 256.0\n",
        "\n"
      ],
      "metadata": {
        "id": "uQQ1qdNV5rvx"
      },
      "execution_count": null,
      "outputs": []
    },
    {
      "cell_type": "code",
      "source": [
        "first_name = \"ABDULLAH\"\n",
        "last_name = \"BAHADUR\"\n",
        "father_first_name = \"GHULAM\"\n",
        "father_middle_name = \"MOHY-UD\"\n",
        "father_last_name = \"UD-DIN\"\n",
        "school_name = \"THE-SCHOLARS\"\n",
        "college_name = \"DEGREE-COLLEGE\"\n",
        "university_name = \"THE ISLAMIA UNIVERSITY OF BAHAWALPUR\"\n",
        "department_name = \"ARTIFICAL INTELLIGENCE\"\n",
        "girlfriend_name = \"artifical intelligence\"\n",
        "wife_name = \"chat gpt\"\n",
        "job_name = \"INTERN\"\n",
        "institue_name = \"AI CADMEY\"\n",
        "city_name = \"BAHAWALPUR\"\n",
        "country_name = \"Pakistan\"\n",
        "province_name = \"Punjab\"\n",
        "capital_name = \"ISLAMABAD\"\n",
        "province_capital = \"LAHORE\"\n",
        "origin_name = \"DERA GHAZI KHAN\"\n",
        "religon = \"ISLAM\""
      ],
      "metadata": {
        "id": "l36nXHWa8FyB"
      },
      "execution_count": null,
      "outputs": []
    },
    {
      "cell_type": "code",
      "source": [
        "is_student = True\n",
        "is_teacher = True\n",
        "is_employee = True\n",
        "is_intern = True\n",
        "have_parents = True\n",
        "have_siblings = True\n",
        "has_laptop = True\n",
        "has_mob = True\n",
        "has_licene = True\n",
        "has_car = True\n",
        "has_bike = True\n",
        "has_kids = False\n",
        "is_sigle = False\n",
        "is_engaged = True\n",
        "is_happy = True\n",
        "has_macbook = False\n",
        "has_probook = True\n",
        "has_pc = True\n",
        "has_iphone = True\n",
        "has_oneplus = True\n",
        "\n",
        "\n"
      ],
      "metadata": {
        "id": "WBQi6l1E_yUT"
      },
      "execution_count": null,
      "outputs": []
    }
  ]
}