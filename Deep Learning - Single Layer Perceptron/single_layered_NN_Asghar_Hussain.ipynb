{
  "nbformat": 4,
  "nbformat_minor": 0,
  "metadata": {
    "colab": {
      "provenance": []
    },
    "kernelspec": {
      "name": "python3",
      "display_name": "Python 3"
    },
    "language_info": {
      "name": "python"
    }
  },
  "cells": [
    {
      "cell_type": "code",
      "execution_count": null,
      "metadata": {
        "id": "dWb8gUhulVN4"
      },
      "outputs": [],
      "source": [
        "import numpy as np\n",
        "\n",
        "# Sigmoid activation function\n",
        "def sigmoid(x):\n",
        "    return 1 / (1 + np.exp(-x))\n",
        "\n",
        "# Derivative of the sigmoid function\n",
        "def sigmoid_derivative(x):\n",
        "    return x * (1 - x)\n",
        "\n",
        "\n"
      ]
    },
    {
      "cell_type": "code",
      "source": [
        "# Input dataset (4 samples with 3 features)\n",
        "inputs = np.array([[0, 0, 1],\n",
        "                   [1, 1, 1],\n",
        "                   [1, 0, 1],\n",
        "                   [0, 1, 1]])\n",
        "\n",
        "# Output dataset (4 samples with 1 output)\n",
        "outputs = np.array([[0], [1], [1], [0]])\n",
        "\n"
      ],
      "metadata": {
        "id": "o7AiAWEwlvQ6"
      },
      "execution_count": null,
      "outputs": []
    },
    {
      "cell_type": "code",
      "source": [
        "# Seed the random number generator\n",
        "np.random.seed(1)\n",
        "\n",
        "# Initialize weights randomly with mean 0\n",
        "weights = 2 * np.random.random((3, 1)) - 1\n",
        "\n"
      ],
      "metadata": {
        "id": "ZmFtMx0El1YN"
      },
      "execution_count": null,
      "outputs": []
    },
    {
      "cell_type": "code",
      "source": [
        "# Training the neural network\n",
        "for epoch in range(10000):\n",
        "    # Forward propagation\n",
        "    input_layer = inputs\n",
        "    outputs_predicted = sigmoid(np.dot(input_layer, weights))\n",
        "\n",
        "    # Calculate error\n",
        "    error = outputs - outputs_predicted\n",
        "\n",
        "    # Backpropagation\n",
        "    adjustments = error * sigmoid_derivative(outputs_predicted)\n",
        "\n",
        "    # Update weights\n",
        "    weights += np.dot(input_layer.T, adjustments)\n"
      ],
      "metadata": {
        "id": "xK9WA2_jl4zR"
      },
      "execution_count": null,
      "outputs": []
    },
    {
      "cell_type": "code",
      "source": [
        "print(\"Trained weights after 10000 epochs:\")\n",
        "print(weights)\n",
        "\n",
        "print(\"Predicted outputs after training:\")\n",
        "print(outputs_predicted)"
      ],
      "metadata": {
        "colab": {
          "base_uri": "https://localhost:8080/"
        },
        "id": "-e7IuLkLl72O",
        "outputId": "07a7a7c5-ecf6-46cb-fd03-2af0b5df9934"
      },
      "execution_count": null,
      "outputs": [
        {
          "output_type": "stream",
          "name": "stdout",
          "text": [
            "Trained weights after 10000 epochs:\n",
            "[[ 9.67299303]\n",
            " [-0.2078435 ]\n",
            " [-4.62963669]]\n",
            "Predicted outputs after training:\n",
            "[[0.00966449]\n",
            " [0.99211957]\n",
            " [0.99358898]\n",
            " [0.00786506]]\n"
          ]
        }
      ]
    }
  ]
}