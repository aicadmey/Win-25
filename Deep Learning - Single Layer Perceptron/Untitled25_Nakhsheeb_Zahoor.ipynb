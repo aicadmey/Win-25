{
  "nbformat": 4,
  "nbformat_minor": 0,
  "metadata": {
    "colab": {
      "provenance": []
    },
    "kernelspec": {
      "name": "python3",
      "display_name": "Python 3"
    },
    "language_info": {
      "name": "python"
    }
  },
  "cells": [
    {
      "cell_type": "code",
      "execution_count": null,
      "metadata": {
        "id": "Leui2wOS9MuK",
        "colab": {
          "base_uri": "https://localhost:8080/"
        },
        "outputId": "1820a468-8deb-4597-c2c2-82f56a42bff9"
      },
      "outputs": [
        {
          "output_type": "stream",
          "name": "stdout",
          "text": [
            "enter your age19\n",
            "enter your qualifcation2\n",
            "54.0\n"
          ]
        }
      ],
      "source": [
        "age= int(input(\"enter your age\"))\n",
        "qualification=int(input(\"enter your qualifcation\"))\n",
        "W1=2.0\n",
        "W2=8.0\n",
        "Result=(age*W1)+( qualification*W2)\n",
        "print(Result)\n",
        "\n"
      ]
    },
    {
      "cell_type": "code",
      "source": [
        "age= int(input(\"enter your age\"))\n",
        "qualification=int(input(\"enter your qualifcation\"))\n",
        "income=int(input(\"enter your income\"))\n",
        "skill=int(input(\"enter your skill\"))\n",
        "W1=2.0\n",
        "W2=5.0\n",
        "w3=1.0\n",
        "w4=2.0\n",
        "Result=(age*W1)+( qualification*W2)+(income*w3)+(skill*w4)\n",
        "print(Result)"
      ],
      "metadata": {
        "colab": {
          "base_uri": "https://localhost:8080/"
        },
        "id": "H8JxfAlCodF3",
        "outputId": "7f9a4ad9-461b-49f1-c04b-5ca2f14ff73c"
      },
      "execution_count": null,
      "outputs": [
        {
          "output_type": "stream",
          "name": "stdout",
          "text": [
            "enter your age19\n",
            "enter your qualifcation2\n",
            "enter your income0\n",
            "enter your skill2\n",
            "52.0\n"
          ]
        }
      ]
    },
    {
      "cell_type": "code",
      "source": [
        "age= int(input(\"enter your age\"))\n",
        "qualification=int(input(\"enter your qualifcation\"))\n",
        "Gpa=int(input(\"enter your Gpa\"))\n",
        "level=int(input(\"enter your level\"))\n",
        "expertise=int(input(\"enter your expertise\"))\n",
        "time=int(input(\"enter your time\"))\n",
        "\n",
        "W1=2.0\n",
        "W2=5.0\n",
        "w3=2.0\n",
        "w4=1.0\n",
        "w5=1.0\n",
        "w6=2.0\n",
        "Result=(age*W1)+( qualification*W2)+(Gpa*w3)+(level*w4)+(expertise*w5)+(time*w6)\n",
        "print(Result)\n",
        "\n"
      ],
      "metadata": {
        "colab": {
          "base_uri": "https://localhost:8080/"
        },
        "id": "xIUPauQimC8L",
        "outputId": "4c6fe0c6-7f8f-424f-c76a-86cef42a53f0"
      },
      "execution_count": null,
      "outputs": [
        {
          "output_type": "stream",
          "name": "stdout",
          "text": [
            "enter your age19\n",
            "enter your qualifcation2\n",
            "enter your Gpa85\n",
            "enter your level3\n",
            "enter your expertise2\n",
            "enter your time3\n",
            "229.0\n"
          ]
        }
      ]
    },
    {
      "cell_type": "code",
      "source": [
        "\n",
        "age= int(input(\"enter your age\"))\n",
        "qualification=int(input(\"enter your qualifcation\"))\n",
        "Gpa=int(input(\"enter your Gpa\"))\n",
        "level=int(input(\"enter your level\"))\n",
        "friends=int(input(\"enter your friends\"))\n",
        "siblings=int(input(\"enter your sliblings\"))\n",
        "study=int(input(\"enter your study\"))\n",
        "wifi_speed=int(input(\"enter your wifi speed\"))\n",
        "W1=1.0\n",
        "W2=1.0\n",
        "w3=2.0\n",
        "w4=1.0\n",
        "w5=0.0\n",
        "w6=2.0\n",
        "w7=1.0\n",
        "w8=2.0\n",
        "Result=(age*W1)+( qualification*W2)+(Gpa*w3)+(level*w4)+(friends*w5)+(siblings*w6)+(study*w7)+(wifi_speed*w8)\n",
        "print(Result)\n"
      ],
      "metadata": {
        "colab": {
          "base_uri": "https://localhost:8080/"
        },
        "id": "zZMRFIkcm1u6",
        "outputId": "883ea9a8-1513-48e8-d7f5-f7b09588be33"
      },
      "execution_count": null,
      "outputs": [
        {
          "output_type": "stream",
          "name": "stdout",
          "text": [
            "enter your age19\n",
            "enter your qualifcation2\n",
            "enter your Gpa85\n",
            "enter your level3\n",
            "enter your friends1\n",
            "enter your sliblings3\n",
            "enter your study3\n",
            "enter your wifi speed4\n",
            "211.0\n"
          ]
        }
      ]
    },
    {
      "cell_type": "code",
      "source": [
        "age= int(input(\"enter your age\"))\n",
        "qualification=int(input(\"enter your qualifcation\"))\n",
        "Gpa=int(input(\"enter your Gpa\"))\n",
        "level=int(input(\"enter your level\"))\n",
        "friends=int(input(\"enter your friends\"))\n",
        "siblings=int(input(\"enter your sliblings\"))\n",
        "study=int(input(\"enter your study\"))\n",
        "wifi_speed=int(input(\"enter your wifi speed\"))\n",
        "family_members=int(input(\"enter your family members\"))\n",
        "childern=int(input(\"enter your childern\"))\n",
        "w1=1.0\n",
        "w2=1.0\n",
        "w3=2.0\n",
        "w4=1.0\n",
        "w5=0.0\n",
        "w6=2.0\n",
        "w7=1.0\n",
        "w8=2.0\n",
        "w9=1.0\n",
        "w10=1.0\n",
        "result=(age*w1)+(qualification*w2)+(Gpa*w3)+(level*w4)+(friends*w5)+(siblings*w6)+(study*w7)+(wifi_speed*w8)+(family_members*w9)+(childern*w10)\n",
        "print(result)"
      ],
      "metadata": {
        "colab": {
          "base_uri": "https://localhost:8080/"
        },
        "id": "0nCCjb_4o0F_",
        "outputId": "e7a5897d-e4be-4d93-a9a5-8ddaff42fd15"
      },
      "execution_count": null,
      "outputs": [
        {
          "output_type": "stream",
          "name": "stdout",
          "text": [
            "enter your age37\n",
            "enter your qualifcation4\n",
            "enter your Gpa90\n",
            "enter your level4\n",
            "enter your friends5\n",
            "enter your sliblings6\n",
            "enter your study6\n",
            "enter your wifi speed3\n",
            "enter your family members9\n",
            "enter your childern3\n",
            "261.0\n"
          ]
        }
      ]
    },
    {
      "cell_type": "code",
      "source": [
        "age= int(input(\"enter your age\"))\n",
        "qualification=int(input(\"enter your qualifcation\"))\n",
        "Gpa=int(input(\"enter your Gpa\"))\n",
        "level=int(input(\"enter your level\"))\n",
        "friends=int(input(\"enter your friends\"))\n",
        "siblings=int(input(\"enter your sliblings\"))\n",
        "study=int(input(\"enter your study\"))\n",
        "wifi_speed=int(input(\"enter your wifi speed\"))\n",
        "family_members=int(input(\"enter your family members\"))\n",
        "childern=int(input(\"enter your childern\"))\n",
        "expertise=int(input(\"enter your expertise\"))\n",
        "income=int(input(\"enter your income\"))\n",
        "w1=1.0\n",
        "w2=1.0\n",
        "w3=2.0\n",
        "w4=1.0\n",
        "w5=0.0\n",
        "w6=2.0\n",
        "w7=1.0\n",
        "w8=2.0\n",
        "w9=1.0\n",
        "w10=1.0\n",
        "w11=1.0\n",
        "w12=2.0\n",
        "result=(age*w1)+(qualification*w2)+(Gpa*w3)+(level*w4)+(friends*w5)+(siblings*w6)+(study*w7)+(wifi_speed*w8)+(family_members*w9)+(childern*w10)+(expertise*w11)+(income*w12)\n",
        "print(result)\n",
        "\n",
        "\n"
      ],
      "metadata": {
        "colab": {
          "base_uri": "https://localhost:8080/"
        },
        "id": "B07BJhE6oR-t",
        "outputId": "a45dd1a4-88da-4485-fce9-8f6dfd158925"
      },
      "execution_count": null,
      "outputs": [
        {
          "output_type": "stream",
          "name": "stdout",
          "text": [
            "enter your age40\n",
            "enter your qualifcation3\n",
            "enter your Gpa60\n",
            "enter your level3\n",
            "enter your friends3\n",
            "enter your sliblings2\n",
            "enter your study5\n",
            "enter your wifi speed2\n",
            "enter your family members5\n",
            "enter your childern2\n",
            "enter your expertise3\n",
            "enter your income10000\n",
            "20189.0\n"
          ]
        }
      ]
    },
    {
      "cell_type": "code",
      "source": [
        "age= int(input(\"enter your age\"))\n",
        "qualification=int(input(\"enter your qualifcation\"))\n",
        "Gpa=int(input(\"enter your Gpa\"))\n",
        "level=int(input(\"enter your level\"))\n",
        "friends=int(input(\"enter your friends\"))\n",
        "siblings=int(input(\"enter your sliblings\"))\n",
        "study=int(input(\"enter your study\"))\n",
        "wifi_speed=int(input(\"enter your wifi speed\"))\n",
        "family_members=int(input(\"enter your family members\"))\n",
        "childern=int(input(\"enter your childern\"))\n",
        "expertise=int(input(\"enter your expertise\"))\n",
        "income=int(input(\"enter your income\"))\n",
        "time=int(input(\"enter your time\"))\n",
        "creativity=int(input(\"enter your creativity\"))\n",
        "w1=1.0\n",
        "w2=1.0\n",
        "w3=2.0\n",
        "w4=1.0\n",
        "w5=0.0\n",
        "w6=2.0\n",
        "w7=1.0\n",
        "w8=2.0\n",
        "w9=1.0\n",
        "w10=1.0\n",
        "w11=1.0\n",
        "w12=2.0\n",
        "w13=2.0\n",
        "w14=3.0\n",
        "result=(age*w1)+(qualification*w2)+(Gpa*w3)+(level*w4)+(friends*w5)+(siblings*w6)+(study*w7)+(wifi_speed*w8)+(family_members*w9)+(childern*w10)+(expertise*w11)+(income*w12)+(time*w13)+(creativity*w14)\n",
        "print(result)"
      ],
      "metadata": {
        "colab": {
          "base_uri": "https://localhost:8080/"
        },
        "id": "r9Z4cliYt7dX",
        "outputId": "48edb22a-bfb2-4355-dfb1-04320a1ebdfa"
      },
      "execution_count": null,
      "outputs": [
        {
          "output_type": "stream",
          "name": "stdout",
          "text": [
            "enter your age50\n",
            "enter your qualifcation4\n",
            "enter your Gpa58\n",
            "enter your level3\n",
            "enter your friends4\n",
            "enter your sliblings5\n",
            "enter your study3\n",
            "enter your wifi speed5\n",
            "enter your family members6\n",
            "enter your childern5\n",
            "enter your expertise3\n",
            "enter your income1000\n",
            "enter your time2\n",
            "enter your creativity4\n",
            "2226.0\n"
          ]
        }
      ]
    },
    {
      "cell_type": "code",
      "source": [
        "\n",
        "age= int(input(\"enter your age\"))\n",
        "qualification=int(input(\"enter your qualifcation\"))\n",
        "Gpa=int(input(\"enter your Gpa\"))\n",
        "level=int(input(\"enter your level\"))\n",
        "friends=int(input(\"enter your friends\"))\n",
        "siblings=int(input(\"enter your sliblings\"))\n",
        "study=int(input(\"enter your study\"))\n",
        "wifi_speed=int(input(\"enter your wifi speed\"))\n",
        "family_members=int(input(\"enter your family members\"))\n",
        "childern=int(input(\"enter your childern\"))\n",
        "expertise=int(input(\"enter your expertise\"))\n",
        "income=int(input(\"enter your income\"))\n",
        "time=int(input(\"enter your time\"))\n",
        "creativity=int(input(\"enter your creativity\"))\n",
        "critical_thinking=int(input(\"enter your critical thinking\"))\n",
        "logical_thinking=int(input(\"enter your logical thinking\"))\n",
        "w1=1.0\n",
        "w2=1.0\n",
        "w3=2.0\n",
        "w4=1.0\n",
        "w5=0.0\n",
        "w6=2.0\n",
        "w7=1.0\n",
        "w8=2.0\n",
        "w9=1.0\n",
        "w10=1.0\n",
        "w11=1.0\n",
        "w12=2.0\n",
        "w13=2.0\n",
        "w14=3.0\n",
        "w15=3.0\n",
        "w16=3.0\n",
        "result=(age*w1)+(qualification*w2)+(Gpa*w3)+(level*w4)+(friends*w5)+(siblings*w6)+(study*w7)+(wifi_speed*w8)+(family_members*w9)+(childern*w10)+(expertise*w11)+(income*w12)+(time*w13)+(creativity*w14)+(critical_thinking*w15)+(logical_thinking*w16)\n",
        "print(result)"
      ],
      "metadata": {
        "colab": {
          "base_uri": "https://localhost:8080/"
        },
        "id": "tRo47nmkvCUb",
        "outputId": "8c24ceab-aaa2-40f7-adff-34b4d98cb765"
      },
      "execution_count": null,
      "outputs": [
        {
          "output_type": "stream",
          "name": "stdout",
          "text": [
            "enter your age56\n",
            "enter your qualifcation4\n",
            "enter your Gpa76\n",
            "enter your level5\n",
            "enter your friends5\n",
            "enter your sliblings7\n",
            "enter your study9\n",
            "enter your wifi speed3\n",
            "enter your family members5\n",
            "enter your childern2\n",
            "enter your expertise3\n",
            "enter your income20000\n",
            "enter your time12\n",
            "enter your creativity3\n",
            "enter your critical thinking2\n",
            "enter your logical thinking4\n",
            "40307.0\n"
          ]
        }
      ]
    },
    {
      "cell_type": "code",
      "source": [
        "age= int(input(\"enter your age\"))\n",
        "qualification=int(input(\"enter your qualifcation\"))\n",
        "Gpa=int(input(\"enter your Gpa\"))\n",
        "level=int(input(\"enter your level\"))\n",
        "friends=int(input(\"enter your friends\"))\n",
        "siblings=int(input(\"enter your sliblings\"))\n",
        "study=int(input(\"enter your study\"))\n",
        "wifi_speed=int(input(\"enter your wifi speed\"))\n",
        "family_members=int(input(\"enter your family members\"))\n",
        "childern=int(input(\"enter your childern\"))\n",
        "expertise=int(input(\"enter your expertise\"))\n",
        "income=int(input(\"enter your income\"))\n",
        "time=int(input(\"enter your time\"))\n",
        "creativity=int(input(\"enter your creativity\"))\n",
        "critical_thinking=int(input(\"enter your critical thinking\"))\n",
        "logical_thinking=int(input(\"enter your logical thinking\"))\n",
        "financial_status=int(input(\"enter your financial status\"))\n",
        "degrees=int(input(\"enter your degrees\"))\n",
        "w1=1.0\n",
        "w2=1.0\n",
        "w3=2.0\n",
        "w4=1.0\n",
        "w5=0.0\n",
        "w6=2.0\n",
        "w7=1.0\n",
        "w8=2.0\n",
        "w9=1.0\n",
        "w10=1.0\n",
        "w11=1.0\n",
        "w12=2.0\n",
        "w13=2.0\n",
        "w14=3.0\n",
        "w15=3.0\n",
        "w16=3.0\n",
        "w17=2.0\n",
        "w18=3.0\n",
        "result=(age*w1)+(qualification*w2)+(Gpa*w3)+(level*w4)+(friends*w5)+(siblings*w6)+(study*w7)+(wifi_speed*w8)+(family_members*w9)+(childern*w10)+(expertise*w11)+(income*w12)+(time*w13)+(creativity*w14)+(critical_thinking*w15)+(logical_thinking*w16)+(financial_status*w17)+(degrees*w18)\n",
        "print(result)"
      ],
      "metadata": {
        "colab": {
          "base_uri": "https://localhost:8080/"
        },
        "id": "zTKTQ7czvshn",
        "outputId": "08fd8cfa-35b9-456d-fb55-377cf1769775"
      },
      "execution_count": null,
      "outputs": [
        {
          "output_type": "stream",
          "name": "stdout",
          "text": [
            "enter your age30\n",
            "enter your qualifcation4\n",
            "enter your Gpa3\n",
            "enter your level4\n",
            "enter your friends2\n",
            "enter your sliblings4\n",
            "enter your study2\n",
            "enter your wifi speed4\n",
            "enter your family members2\n",
            "enter your childern4\n",
            "enter your expertise2\n",
            "enter your income33333\n",
            "enter your time4\n",
            "enter your creativity2\n",
            "enter your critical thinking2\n",
            "enter your logical thinking2\n",
            "enter your financial status2\n",
            "enter your degrees3\n",
            "66775.0\n"
          ]
        }
      ]
    },
    {
      "cell_type": "code",
      "source": [
        "age= int(input(\"enter your age\"))\n",
        "qualification=int(input(\"enter your qualifcation\"))\n",
        "Gpa=int(input(\"enter your Gpa\"))\n",
        "level=int(input(\"enter your level\"))\n",
        "friends=int(input(\"enter your friends\"))\n",
        "siblings=int(input(\"enter your sliblings\"))\n",
        "study=int(input(\"enter your study\"))\n",
        "wifi_speed=int(input(\"enter your wifi speed\"))\n",
        "family_members=int(input(\"enter your family members\"))\n",
        "childern=int(input(\"enter your childern\"))\n",
        "expertise=int(input(\"enter your expertise\"))\n",
        "income=int(input(\"enter your income\"))\n",
        "time=int(input(\"enter your time\"))\n",
        "creativity=int(input(\"enter your creativity\"))\n",
        "critical_thinking=int(input(\"enter your critical thinking\"))\n",
        "logical_thinking=int(input(\"enter your logical thinking\"))\n",
        "financial_status=int(input(\"enter your financial status\"))\n",
        "degrees=int(input(\"enter your degrees\"))\n",
        "maths_understanding_level=int(input(\"enter your maths understanding level\"))\n",
        "finance_understanding_level=int(input(\"enter your finance understanding level\"))\n",
        "w1=1.0\n",
        "w2=1.0\n",
        "w3=2.0\n",
        "w4=1.0\n",
        "w5=0.0\n",
        "w6=2.0\n",
        "w7=1.0\n",
        "w8=2.0\n",
        "w9=1.0\n",
        "w10=1.0\n",
        "w11=1.0\n",
        "w12=2.0\n",
        "w13=2.0\n",
        "w14=3.0\n",
        "w15=3.0\n",
        "w16=3.0\n",
        "w17=2.0\n",
        "w18=3.0\n",
        "w19=2.0\n",
        "w20=2.0\n",
        "result=(age*w1)+(qualification*w2)+(Gpa*w3)+(level*w4)+(friends*w5)+(siblings*w6)+(study*w7)+(wifi_speed*w8)+(family_members*w9)+(childern*w10)+(expertise*w11)+(income*w12)+(time*w13)+(creativity*w14)+(critical_thinking*w15)+(logical_thinking*w16)+(financial_status*w17)+(degrees*w18)+(maths_understanding_level*w19)+(finance_understanding_level*w20)\n",
        "print(result)"
      ],
      "metadata": {
        "colab": {
          "base_uri": "https://localhost:8080/"
        },
        "id": "QOkbkCM3wZak",
        "outputId": "62b888c0-f62c-4c13-9052-1b8dc3ee6f94"
      },
      "execution_count": null,
      "outputs": [
        {
          "output_type": "stream",
          "name": "stdout",
          "text": [
            "enter your age40\n",
            "enter your qualifcation2\n",
            "enter your Gpa3\n",
            "enter your level2\n",
            "enter your friends3\n",
            "enter your sliblings2\n",
            "enter your study3\n",
            "enter your wifi speed2\n",
            "enter your family members3\n",
            "enter your childern2\n",
            "enter your expertise3\n",
            "enter your income22222\n",
            "enter your time3\n",
            "enter your creativity2\n",
            "enter your critical thinking1\n",
            "enter your logical thinking2\n",
            "enter your financial status3\n",
            "enter your degrees3\n",
            "enter your maths understanding level2\n",
            "enter your finance understanding level3\n",
            "44559.0\n"
          ]
        }
      ]
    }
  ]
}