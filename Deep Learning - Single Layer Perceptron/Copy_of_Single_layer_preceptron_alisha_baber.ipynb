{
  "nbformat": 4,
  "nbformat_minor": 0,
  "metadata": {
    "colab": {
      "provenance": []
    },
    "kernelspec": {
      "name": "python3",
      "display_name": "Python 3"
    },
    "language_info": {
      "name": "python"
    }
  },
  "cells": [
    {
      "cell_type": "markdown",
      "source": [
        "# Example."
      ],
      "metadata": {
        "id": "5h1wnE5ClXo7"
      }
    },
    {
      "cell_type": "code",
      "source": [
        "qualification= int(input(\" enter qualification:\"))\n",
        "marks=int(input(\"enter marks:\"))\n",
        "potential=int(input(\"enter potential:\"))\n",
        "\n",
        "\n",
        "w1=0.1\n",
        "w2=0.1\n",
        "w3=0.8\n",
        "\n",
        "result=(qualification*w1)+(marks*w2)+(potential*w3)\n",
        "print(result)\n",
        "\n",
        "if result>=70:\n",
        "   print(\" you got admission in AIC\")\n",
        "else:\n",
        "  print(\"wait for next time.\")\n",
        "\n"
      ],
      "metadata": {
        "id": "f_Ju3GBRlcaC",
        "colab": {
          "base_uri": "https://localhost:8080/"
        },
        "outputId": "07218b3e-9511-422b-a212-57757e04edaa"
      },
      "execution_count": null,
      "outputs": [
        {
          "output_type": "stream",
          "name": "stdout",
          "text": [
            " enter qualification:2\n",
            "enter marks:60\n",
            "enter potential:85\n",
            "74.2\n",
            " you got admission in AIC\n"
          ]
        }
      ]
    },
    {
      "cell_type": "markdown",
      "source": [
        "# **HERE ARE THE 10 EXAMPLES.**"
      ],
      "metadata": {
        "id": "CflnVDlJYCtd"
      }
    },
    {
      "cell_type": "markdown",
      "source": [
        "# EXAMPLE:1"
      ],
      "metadata": {
        "id": "YLYXeliGYXOs"
      }
    },
    {
      "cell_type": "code",
      "source": [
        "mobile=int(input(\"enter the model:\"))\n",
        "price=int(input(\"enter the price:\"))\n",
        "\n",
        "w1=0.2\n",
        "w2=0.4\n",
        "\n",
        "result=( mobile*w1)+(price*w2)\n",
        "print(result)\n"
      ],
      "metadata": {
        "colab": {
          "base_uri": "https://localhost:8080/"
        },
        "id": "R4gG8Qk3YdQH",
        "outputId": "76df9d7d-c7d2-4149-93b7-91385ef55c92"
      },
      "execution_count": null,
      "outputs": [
        {
          "output_type": "stream",
          "name": "stdout",
          "text": [
            "enter the model:4\n",
            "enter the price:70000\n",
            "28000.8\n"
          ]
        }
      ]
    },
    {
      "cell_type": "markdown",
      "source": [
        "# Example:2"
      ],
      "metadata": {
        "id": "TvvnB_fNaAZK"
      }
    },
    {
      "cell_type": "code",
      "source": [
        "shake1=int(input(\"enter the shake1:\"))\n",
        "shake2=int(input(\"enter the shake:2\"))\n",
        "shake3=int(input(\"enter the shake3:\"))\n",
        "shake4=int(input(\"enter the shake4:\"))\n",
        "\n",
        "w1=0.22\n",
        "w2=0.44\n",
        "w3=4.2\n",
        "w4=0.3\n",
        "\n",
        "result=( shake1*w1)+(shake2*w2)+(shake3*w3)+(shake4*w4)\n",
        "print(result)"
      ],
      "metadata": {
        "colab": {
          "base_uri": "https://localhost:8080/"
        },
        "id": "CvDsmh3bZfPm",
        "outputId": "c199af48-def9-4fc6-d051-e3d83a0aa87c"
      },
      "execution_count": null,
      "outputs": [
        {
          "output_type": "stream",
          "name": "stdout",
          "text": [
            "enter the shake1:120\n",
            "enter the shake:260\n",
            "enter the shake3:160\n",
            "enter the shake4:400\n",
            "844.8\n"
          ]
        }
      ]
    },
    {
      "cell_type": "markdown",
      "source": [
        "# Example:3"
      ],
      "metadata": {
        "id": "Ppj3m9kIaHHK"
      }
    },
    {
      "cell_type": "code",
      "source": [
        "glaxayStar1=int(input(\"enter the star1:\"))\n",
        "glaxayStar2=int(input(\"enter the star2:\"))\n",
        "glaxayStar3=int(input(\"enter the star3:\"))\n",
        "glaxayStar4=int(input(\"enter the star4:\"))\n",
        "glaxayStar5=int(input(\"enter the star5:\"))\n",
        "glaxayStar6=int(input(\"enter the star6:\"))\n",
        "\n",
        "w1=0.23\n",
        "w2=0.03\n",
        "w3=0.8\n",
        "w4=0.44\n",
        "w5=4.1\n",
        "w6=2.3\n",
        "\n",
        "result=( glaxayStar1*w1)+(glaxayStar2*w2)+(glaxayStar3*w3)+(glaxayStar4*w4)+(glaxayStar5*w5)+(glaxayStar6*w6)\n",
        "print(result)\n",
        "\n",
        "if glaxayStar3>=70:\n",
        "   print(\" achevie your goal\")\n",
        "else:\n",
        "  print(\"do 2nd attempt.\")\n"
      ],
      "metadata": {
        "colab": {
          "base_uri": "https://localhost:8080/"
        },
        "id": "4wB8vOz5ZwVW",
        "outputId": "244d777e-b8fc-4214-ce48-437c8c73672f"
      },
      "execution_count": null,
      "outputs": [
        {
          "output_type": "stream",
          "name": "stdout",
          "text": [
            "enter the star:6\n",
            "enter the star:80\n",
            "enter the star:65\n",
            "8.580000000000002\n",
            "do 2nd attempt.\n"
          ]
        }
      ]
    },
    {
      "cell_type": "markdown",
      "source": [
        "# Example:4"
      ],
      "metadata": {
        "id": "7vN_52Sya7tG"
      }
    },
    {
      "cell_type": "code",
      "source": [
        "junkFood=int(input(\"enter the junkFood1:\"))\n",
        "junkFood2=int(input(\"enter the junkFood2:\"))\n",
        "junkFood3=int(input(\"enter the junkFood3:\"))\n",
        "junkFood4=int(input(\"enter the junkFood4\"))\n",
        "junkFood5=int(input(\"enter the junkFood5:\"))\n",
        "junkFood6=int(input(\"enter the junkFood6:\"))\n",
        "junkFood7=int(input(\"enter the junkFood7:\"))\n",
        "junkFood8=int(input(\"enter the junkFood8\"))\n",
        "\n",
        "w1=80\n",
        "w2=120\n",
        "w3=160\n",
        "w4=400\n",
        "w5=54\n",
        "w6=0.33\n",
        "w7=0.15\n",
        "w8=0.45\n",
        "\n",
        "\n",
        "result=( junkFood*w1)+(junkFood2*w2)+(junkFood3*w3)+(junkFood4*w4)+(junkFood5*w5)+(junkFood6*w6)+(junkFood7*w7)+(junkFood8*w8)\n",
        "print(result)\n",
        "\n",
        "if junkFood3>=100:\n",
        "   print(\" you have to buy it .\")\n",
        "\n",
        "else:\n",
        "  print(\"save your money.\")"
      ],
      "metadata": {
        "colab": {
          "base_uri": "https://localhost:8080/"
        },
        "id": "G7XeYhaza_5W",
        "outputId": "b09f17d3-1439-45a6-ba2b-8ad58f8abdbc"
      },
      "execution_count": null,
      "outputs": [
        {
          "output_type": "stream",
          "name": "stdout",
          "text": [
            "enter the junkFood1:10\n",
            "enter the junkFood2:20\n",
            "enter the junkFood3:30\n",
            "enter the junkFood440\n",
            "enter the junkFood5:50\n",
            "enter the junkFood6:60\n",
            "enter the junkFood7:70\n",
            "enter the junkFood880\n",
            "24000\n",
            "save your money.\n"
          ]
        }
      ]
    },
    {
      "cell_type": "markdown",
      "source": [
        "# Example:5"
      ],
      "metadata": {
        "id": "Sn0buVF1b-T2"
      }
    },
    {
      "cell_type": "code",
      "source": [
        "subject1 = int(input(\"Enter marks for Subject 1: \"))\n",
        "subject2 = int(input(\"Enter marks for Subject 2: \"))\n",
        "subject3 = int(input(\"Enter marks for Subject 3: \"))\n",
        "subject4 = int(input(\"Enter marks for Subject 4: \"))\n",
        "subject5 = int(input(\"Enter marks for Subject 5: \"))\n",
        "subject6 = int(input(\"Enter marks for Subject 6: \"))\n",
        "subject7 = int(input(\"Enter marks for Subject 7: \"))\n",
        "subject8 = int(input(\"Enter marks for Subject 8: \"))\n",
        "subject9 = int(input(\"Enter marks for Subject 9: \"))\n",
        "subject10 = int(input(\"Enter marks for Subject 10: \"))\n",
        "\n",
        "w1=60\n",
        "w2=40\n",
        "w3=80\n",
        "w4=65\n",
        "w5=90\n",
        "w6=20\n",
        "w7=3.3\n",
        "w8=15\n",
        "w9=93\n",
        "w10=0.3\n",
        "\n",
        "result=(subject1*w1)+(subject2*w2)+(subject3*w3)+(subject4*w4)+(subject5*w5)+(subject6*w6)+(subject7*w7)+(subject8*w8)+(subject9*w9)+(subject10*w10)\n",
        "print(result)\n",
        "\n",
        "\n",
        "\n",
        "if subject1 >= 75:\n",
        "    print(\"You passed with distinction!\")\n",
        "elif subject2 >= 50:\n",
        "    print(\"good attempt\")\n",
        "elif subject3 <=70:\n",
        "  print(\" revise again \")\n",
        "elif subject4 >=90 :\n",
        "  print(\" need imporvements.\")\n",
        "else:\n",
        "    print(\"You failed. Better luck next time.\")"
      ],
      "metadata": {
        "colab": {
          "base_uri": "https://localhost:8080/"
        },
        "id": "zVTVjb4McLz5",
        "outputId": "d75fa205-3ba7-4ed3-c338-bcc7ad713abc"
      },
      "execution_count": null,
      "outputs": [
        {
          "output_type": "stream",
          "name": "stdout",
          "text": [
            "Enter marks for Subject 1: 30\n",
            "Enter marks for Subject 2: 20\n",
            "Enter marks for Subject 3: 40\n",
            "Enter marks for Subject 4: 50\n",
            "Enter marks for Subject 5: 60\n",
            "Enter marks for Subject 6: 70\n",
            "Enter marks for Subject 7: 80\n",
            "Enter marks for Subject 8: 90\n",
            "Enter marks for Subject 9: 45\n",
            "Enter marks for Subject 10: 85\n",
            " revise again \n"
          ]
        }
      ]
    },
    {
      "cell_type": "markdown",
      "source": [
        "# Example: 6"
      ],
      "metadata": {
        "id": "FqvsZkuldrNU"
      }
    },
    {
      "cell_type": "code",
      "source": [
        "rent = int(input(\"Enter your monthly rent: \"))\n",
        "groceries = int(input(\"Enter your monthly groceries expense: \"))\n",
        "transport = int(input(\"Enter your monthly transport expense: \"))\n",
        "entertainment = int(input(\"Enter your monthly entertainment expense: \"))\n",
        "food= int(input(\"enter your food expense:\"))\n",
        "shopping= int(input(\"enter your shopping expense:\"))\n",
        "budget=int(input(\" enter your budget:\"))\n",
        "routine=int(input(\"enter your routine expense:\"))\n",
        "monthly=int(input(\" enter your monthly expense:\"))\n",
        "saving=int(input(\"enter your saving:\"))\n",
        "event=int(input(\" enter your event expence:\"))\n",
        "yearly=int(input(\" enter your yearly expence:\"))\n",
        "\n",
        "w1=6000\n",
        "w2=0.66\n",
        "w3=0.80\n",
        "w4=3.56\n",
        "w5=40000\n",
        "w6=5000\n",
        "w7=3.3\n",
        "w8=4.4\n",
        "w9=4.44\n",
        "w10=0.3\n",
        "w11=0.33\n",
        "w12=0.43\n",
        "\n",
        "result=(rent*w1)+(groceries*w2)+(transport*w3)+(entertainment*w4)+(food*w5)+(shopping*w6)+(budget*w7)+(routine*w8)+(monthly*w9)+(saving*w10)+(event*w11)+(yearly*w12)\n",
        "print(result)\n",
        "\n",
        "if shopping >=2000:\n",
        "    print(\"You are overspending! Try to save.\")\n",
        "else:\n",
        "    print(\"You are within your budget.\")"
      ],
      "metadata": {
        "colab": {
          "base_uri": "https://localhost:8080/"
        },
        "id": "D_lO4nyGdv7k",
        "outputId": "3ea95dc9-f6ff-4f81-84bf-8e4fc55196dc"
      },
      "execution_count": null,
      "outputs": [
        {
          "output_type": "stream",
          "name": "stdout",
          "text": [
            "Enter your monthly rent: 20000\n",
            "Enter your monthly groceries expense: 40\n",
            "Enter your monthly transport expense: 89\n",
            "Enter your monthly entertainment expense: 21\n",
            "enter your food expense:13\n",
            "enter your shopping expense:50\n",
            " enter your budget:89\n",
            "enter your routine expense:29\n",
            " enter your monthly expense:120\n",
            "enter your saving:15\n",
            " enter your event expence:90\n",
            " enter your yearly expence:100000\n",
            "You are within your budget.\n"
          ]
        }
      ]
    },
    {
      "cell_type": "markdown",
      "source": [
        "# Example:7"
      ],
      "metadata": {
        "id": "TG473AJ4evU3"
      }
    },
    {
      "cell_type": "code",
      "source": [
        "monday = int(input(\"Enter hours worked on Monday: \"))\n",
        "tuesday = int(input(\"Enter hours worked on Tuesday: \"))\n",
        "wednesday = int(input(\"Enter hours worked on Wednesday: \"))\n",
        "thursday = int(input(\"Enter hours worked on Thursday: \"))\n",
        "friday = int(input(\"Enter hours worked on Friday: \"))\n",
        "saturday = int(input(\"Enter hours worked on Saturday: \"))\n",
        "sunday = int(input(\"Enter hours worked on Sunday: \"))\n",
        "jan=int(input(\"enter the jan:\"))\n",
        "feb=int(input(\"enter the feb:\"))\n",
        "mar=int(input(\"enter the mar:\"))\n",
        "apr=int(input(\"enter the apr:\"))\n",
        "may=int(input(\"enter the may:\"))\n",
        "jun=int(input(\"enter the jun:\"))\n",
        "july=int(input(\"enter the july:\"))\n",
        "\n",
        "\n",
        "w0=40\n",
        "w1=4.4\n",
        "w2=4.3\n",
        "w3=3.5\n",
        "w4=6.2\n",
        "w5=0.22\n",
        "w6=0.42\n",
        "w7=6.4\n",
        "w8=400\n",
        "w9=60\n",
        "w10=300\n",
        "w11=58\n",
        "w12=400\n",
        "w13=4.00\n",
        "\n",
        "result=(monday*w0)+(tuesday*w1)+(wednesday*w2)+(thursday*w3)+(friday*w4)+(saturday*w5)+(sunday*w6)+(jan*w7)+(feb*w8)+(mar*w9)+(apr*w10)+(may*w11)+(jun*w12)+(july*w13)\n",
        "print(result)\n",
        "\n",
        "if friday > 40:\n",
        "    print(\"Great job! You've worked overtime!\")\n",
        "else:\n",
        "    print(\"You worked regular hours.\")"
      ],
      "metadata": {
        "colab": {
          "base_uri": "https://localhost:8080/"
        },
        "id": "TDlAmXF4eyeU",
        "outputId": "6ca381b3-4b1d-45ff-f8e0-062795004d67"
      },
      "execution_count": null,
      "outputs": [
        {
          "output_type": "stream",
          "name": "stdout",
          "text": [
            "Enter hours worked on Monday: 2\n",
            "Enter hours worked on Tuesday: 3\n",
            "Enter hours worked on Wednesday: 4\n",
            "Enter hours worked on Thursday: 5\n",
            "Enter hours worked on Friday: 3\n",
            "Enter hours worked on Saturday: 6\n",
            "Enter hours worked on Sunday: 2\n",
            "enter the jan:20\n",
            "enter the feb:30\n",
            "enter the mar:40\n",
            "enter the apr:10\n",
            "enter the may:12\n",
            "enter the jun:9\n",
            "enter the july:7\n",
            "You worked regular hours.\n"
          ]
        }
      ]
    },
    {
      "cell_type": "markdown",
      "source": [
        "# Example:8"
      ],
      "metadata": {
        "id": "-thbe6TBfcrg"
      }
    },
    {
      "cell_type": "code",
      "source": [
        "meal1 = int(input(\"Enter calories for Meal 1: \"))\n",
        "meal2 = int(input(\"Enter calories for Meal 2: \"))\n",
        "meal3 = int(input(\"Enter calories for Meal 3: \"))\n",
        "meal4 = int(input(\"Enter calories for Meal 4: \"))\n",
        "meal5 = int(input(\"Enter calories for Meal 5: \"))\n",
        "meal6 = int(input(\"Enter calories for Meal 6: \"))\n",
        "meal7 = int(input(\"Enter calories for Meal 7: \"))\n",
        "meal8 = int(input(\"Enter calories for Meal 8: \"))\n",
        "meal9 = int(input(\"Enter calories for Meal 9: \"))\n",
        "meal10 = int(input(\"Enter calories for Meal 10: \"))\n",
        "meal11= int(input(\"Enter calories for Meal 11: \"))\n",
        "meal12= int(input(\"Enter calories for Meal 12: \"))\n",
        "meal13 = int(input(\"Enter calories for Meal 13: \"))\n",
        "meal14= int(input(\"Enter calories for Meal 14: \"))\n",
        "meal15= int(input(\"Enter calories for Meal 15: \"))\n",
        "meal16= int(input(\"Enter calories for Meal 16: \"))\n",
        "\n",
        "\n",
        "\n",
        "w1=0.33\n",
        "w2=4.5\n",
        "w3=7.9\n",
        "w4=7.4\n",
        "w5=9.4\n",
        "w6=9.4\n",
        "w7=1.9\n",
        "w8=3.33\n",
        "w9=3.3\n",
        "w10=0.3\n",
        "w11=6.4\n",
        "w12=8.1\n",
        "w13=1.33\n",
        "w14=90\n",
        "w15=43\n",
        "w16=120\n",
        "\n",
        "result=(meal1*w1)+(meal2*w2)+(meal3*w3)+(meal4*w4)+(meal5*w5)+(meal6*w6)+(meal7*w7)+(meal8*w8)+(meal9*w9)+(meal10*w10)+(meal11*w11)+(meal12*w12)+(meal13*w13)+(meal14*w14)+(meal15*w15)+(meal16*w16)\n",
        "print(result)\n",
        "\n",
        "\n",
        "if  meal13 > 2000:\n",
        "    print(\"You have exceeded your daily calorie limit!\")\n",
        "else:\n",
        "    print(\"You are within your daily calorie goal.\")"
      ],
      "metadata": {
        "colab": {
          "base_uri": "https://localhost:8080/"
        },
        "id": "qGSntJMDfifF",
        "outputId": "20ca605b-b42f-4fd7-c927-ec4a5803759e"
      },
      "execution_count": null,
      "outputs": [
        {
          "output_type": "stream",
          "name": "stdout",
          "text": [
            "Enter calories for Meal 1: 20\n",
            "Enter calories for Meal 2: 40\n",
            "Enter calories for Meal 3: 50\n",
            "Enter calories for Meal 4: 500\n",
            "Enter calories for Meal 5: 60\n",
            "Enter calories for Meal 6: 70\n",
            "Enter calories for Meal 7: 80\n",
            "Enter calories for Meal 8: 90\n",
            "Enter calories for Meal 9: 100\n",
            "Enter calories for Meal 10: 120\n",
            "Enter calories for Meal 11: 130\n",
            "Enter calories for Meal 12: 140\n",
            "Enter calories for Meal 13: 200\n",
            "Enter calories for Meal 14: 300\n",
            "Enter calories for Meal 15: 22\n",
            "Enter calories for Meal 16: 450\n",
            "You are within your daily calorie goal.\n"
          ]
        }
      ]
    },
    {
      "cell_type": "markdown",
      "source": [
        "# example:9"
      ],
      "metadata": {
        "id": "KwxReav9mawj"
      }
    },
    {
      "cell_type": "code",
      "source": [
        "# Inputs for Science scores\n",
        "science1 = int(input(\"Enter Science score for Test 1: \"))\n",
        "science2 = int(input(\"Enter Science score for Test 2: \"))\n",
        "science3 = int(input(\"Enter Science score for Test 3: \"))\n",
        "science4 = int(input(\"Enter Science score for Test 4: \"))\n",
        "science5 = int(input(\"Enter Science score for Test 5: \"))\n",
        "science6 = int(input(\"Enter Science score for Test 6: \"))\n",
        "\n",
        "# Inputs for English scores\n",
        "english1 = int(input(\"Enter English score for Test 1: \"))\n",
        "english2 = int(input(\"Enter English score for Test 2: \"))\n",
        "english3 = int(input(\"Enter English score for Test 3: \"))\n",
        "english4 = int(input(\"Enter English score for Test 4: \"))\n",
        "english5 = int(input(\"Enter English score for Test 5: \"))\n",
        "english6 = int(input(\"Enter English score for Test 6: \"))\n",
        "\n",
        "\n",
        "w1=1.0\n",
        "w2=2.0\n",
        "w3=1.8\n",
        "w4=1.5\n",
        "w5=1.55\n",
        "w6=22\n",
        "w7=40\n",
        "w8=20\n",
        "w9=28\n",
        "w10=35\n",
        "w11=3.0\n",
        "w12=40\n",
        "w13=3.9\n",
        "w14=25\n",
        "w15=90\n",
        "w16=2.01\n",
        "\n",
        "\n",
        "result=(science1*w1)+(science2*w2)+(science3*w3)+(science4*w4)+(science5*w5)+(science6*w6)+(english1*w7)+(english2*w8)+(english3*w9)+(english4*w10)+(english5*w11)+(english6*w12)\n",
        "print(result)\n",
        "\n",
        "\n",
        "\n",
        "if science2 >= 90:\n",
        "    print(\"Excellent performance!\")\n",
        "elif english4 >= 75:\n",
        "    print(\"Good job, keep it up!\")\n",
        "else:\n",
        "    print(\"You need to work harder.\")"
      ],
      "metadata": {
        "colab": {
          "base_uri": "https://localhost:8080/"
        },
        "id": "vaMFxdyameKG",
        "outputId": "76539925-c763-4e84-d436-a1109b14ab7e"
      },
      "execution_count": null,
      "outputs": [
        {
          "output_type": "stream",
          "name": "stdout",
          "text": [
            "Enter Science score for Test 1: 3\n",
            "Enter Science score for Test 2: 2\n",
            "Enter Science score for Test 3: 4\n",
            "Enter Science score for Test 4: 5\n",
            "Enter Science score for Test 5: 6\n",
            "Enter Science score for Test 6: 1\n",
            "Enter English score for Test 1: 12\n",
            "Enter English score for Test 2: 12\n",
            "Enter English score for Test 3: 14\n",
            "Enter English score for Test 4: 16\n",
            "Enter English score for Test 5: 200\n",
            "Enter English score for Test 6: 80\n",
            "5525.0\n",
            "You need to work harder.\n"
          ]
        }
      ]
    },
    {
      "cell_type": "markdown",
      "source": [
        "# EXAMPLE:10"
      ],
      "metadata": {
        "id": "GK1lkgzqp5z8"
      }
    },
    {
      "cell_type": "code",
      "source": [
        "#Round 1 score\n",
        "player1_round1 = int(input(\"Enter Player 1 score for Round 1: \"))\n",
        "player2_round1 = int(input(\"Enter Player 2 score for Round 1: \"))\n",
        "player3_round1 = int(input(\"Enter Player 3 score for Round 1: \"))\n",
        "player4_round1 = int(input(\"Enter Player 4 score for Round 1: \"))\n",
        "\n",
        "# Round 2 scores\n",
        "player1_round2 = int(input(\"Enter Player 1 score for Round 2: \"))\n",
        "player2_round2 = int(input(\"Enter Player 2 score for Round 2: \"))\n",
        "player3_round2 = int(input(\"Enter Player 3 score for Round 2: \"))\n",
        "player4_round2 = int(input(\"Enter Player 4 score for Round 2: \"))\n",
        "\n",
        "# Round 3 scores\n",
        "player1_round3 = int(input(\"Enter Player 1 score for Round 3: \"))\n",
        "player2_round3 = int(input(\"Enter Player 2 score for Round 3: \"))\n",
        "player3_round3 = int(input(\"Enter Player 3 score for Round 3: \"))\n",
        "player4_round3 = int(input(\"Enter Player 4 score for Round 3: \"))\n",
        "\n",
        "# Round 4 scores\n",
        "player1_round4 = int(input(\"Enter Player 1 score for Round 4: \"))\n",
        "player2_round4 = int(input(\"Enter Player 2 score for Round 4: \"))\n",
        "player3_round4 = int(input(\"Enter Player 3 score for Round 4: \"))\n",
        "player4_round4 = int(input(\"Enter Player 4 score for Round 4: \"))\n",
        "\n",
        "# Round 5 scores\n",
        "player1_round5 = int(input(\"Enter Player 1 score for Round 5: \"))\n",
        "player2_round5 = int(input(\"Enter Player 2 score for Round 5: \"))\n",
        "player3_round5 = int(input(\"Enter Player 3 score for Round 5: \"))\n",
        "player4_round5 = int(input(\"Enter Player 4 score for Round 5: \"))\n",
        "\n",
        "\n",
        "\n",
        "w1=3.3\n",
        "w2=0.1\n",
        "w3=0.22\n",
        "w4=6.4\n",
        "w5=4.5\n",
        "w6=4.4\n",
        "w7=4.4\n",
        "w8=2.2\n",
        "w9=1.2\n",
        "w10=2.2\n",
        "w11=3.3\n",
        "w12=0.40\n",
        "w13=4.4\n",
        "w14=8.1\n",
        "w15=4.2\n",
        "w16=1.3\n",
        "w17=2.3\n",
        "w18=3.2\n",
        "W19=4.3\n",
        "W20=0.22\n",
        "\n",
        "\n",
        "result=(player1_round1*w1)+(player2_round1*w2)+(player3_round1*w3)+(player4_round1*w4)+(player1_round2*w5)+(player2_round2*w6)+(player3_round2*w7)+(player4_round2*w8)+(player1_round3*w9)+(player2_round3*w10)+(player3_round3*w11)+(player4_round3*w12)+(player1_round4*w13)+(player2_round4*w14)+(player3_round4*w15)+(player4_round4*w16)+(player1_round5*w17)+(player2_round5*w18)14\n",
        "\n",
        "print(result)\n",
        "\n",
        "# Determine the winner\n",
        "if player1_round1 > player2_round1 and player1_round1 > player3_round1 and player1_round1 > player4_round1:\n",
        "    print(\"Player 1 is the winner!\")\n",
        "else:\n",
        "    print(\"It's a tie!\")\n"
      ],
      "metadata": {
        "colab": {
          "base_uri": "https://localhost:8080/"
        },
        "id": "R6G8aZmkp9I_",
        "outputId": "83565971-e856-4a8e-821f-cc25dcbbffc5"
      },
      "execution_count": null,
      "outputs": [
        {
          "output_type": "stream",
          "name": "stdout",
          "text": [
            "Enter Player 1 score for Round 1: 12\n",
            "Enter Player 2 score for Round 1: 2\n",
            "Enter Player 3 score for Round 1: 14\n",
            "Enter Player 4 score for Round 1: 10\n",
            "Enter Player 1 score for Round 2: 3\n",
            "Enter Player 2 score for Round 2: 5\n",
            "Enter Player 3 score for Round 2: 7\n",
            "Enter Player 4 score for Round 2: 9\n",
            "Enter Player 1 score for Round 3: 2\n",
            "Enter Player 2 score for Round 3: 42\n",
            "Enter Player 3 score for Round 3: 18\n",
            "Enter Player 4 score for Round 3: 19\n",
            "Enter Player 1 score for Round 4: 22\n",
            "Enter Player 2 score for Round 4: 29\n",
            "Enter Player 3 score for Round 4: 41\n",
            "Enter Player 4 score for Round 4: 50\n",
            "Enter Player 1 score for Round 5: 31\n",
            "Enter Player 2 score for Round 5: 42\n",
            "Enter Player 3 score for Round 5: 32\n",
            "Enter Player 4 score for Round 5: 7\n",
            "1129.38\n",
            "It's a tie!\n"
          ]
        }
      ]
    },
    {
      "cell_type": "markdown",
      "source": [
        "# **THE END.**"
      ],
      "metadata": {
        "id": "8SpQHBsLqe4M"
      }
    }
  ]
}