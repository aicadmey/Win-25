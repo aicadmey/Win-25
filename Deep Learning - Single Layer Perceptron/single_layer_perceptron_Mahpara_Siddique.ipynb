{
  "nbformat": 4,
  "nbformat_minor": 0,
  "metadata": {
    "colab": {
      "provenance": []
    },
    "kernelspec": {
      "name": "python3",
      "display_name": "Python 3"
    },
    "language_info": {
      "name": "python"
    }
  },
  "cells": [
    {
      "cell_type": "markdown",
      "source": [
        "\n",
        "2 inputs\n",
        "\n"
      ],
      "metadata": {
        "id": "5TRb8irXQG6q"
      }
    },
    {
      "cell_type": "code",
      "execution_count": null,
      "metadata": {
        "colab": {
          "base_uri": "https://localhost:8080/"
        },
        "id": "lmmXDNH6LA1_",
        "outputId": "89261b18-c152-4263-934d-82b14de38550"
      },
      "outputs": [
        {
          "output_type": "stream",
          "name": "stdout",
          "text": [
            "Enter input 1: 23\n",
            "Enter input 2: 32\n",
            "Perceptron 1 Result: 33.9\n"
          ]
        }
      ],
      "source": [
        "# Perceptron 1\n",
        "input1 = int(input(\"Enter input 1: \"))\n",
        "input2 = int(input(\"Enter input 2: \"))\n",
        "\n",
        "w1 = 0.5\n",
        "w2 = 0.7\n",
        "\n",
        "result = (input1 * w1) + (input2 * w2)\n",
        "print(\"Perceptron 1 Result:\", result)\n"
      ]
    },
    {
      "cell_type": "markdown",
      "source": [
        "4 inputs"
      ],
      "metadata": {
        "id": "orATv35UQOXs"
      }
    },
    {
      "cell_type": "code",
      "source": [
        "# Perceptron 2\n",
        "input1 = int(input(\"Enter input 1: \"))\n",
        "input2 = int(input(\"Enter input 2: \"))\n",
        "input3 = int(input(\"Enter input 3: \"))\n",
        "input4 = int(input(\"Enter input 4: \"))\n",
        "\n",
        "w1 = 0.5\n",
        "w2 = 0.7\n",
        "w3 = 0.3\n",
        "w4 = 0.6\n",
        "\n",
        "result = (input1 * w1) + (input2 * w2) + (input3 * w3) + (input4 * w4)\n",
        "print(\"Perceptron 2 Result:\", result)\n"
      ],
      "metadata": {
        "colab": {
          "base_uri": "https://localhost:8080/"
        },
        "id": "osUIM5mxQP82",
        "outputId": "dc1b095c-59a5-4bf6-af00-b8567a9fd2b8"
      },
      "execution_count": null,
      "outputs": [
        {
          "output_type": "stream",
          "name": "stdout",
          "text": [
            "Enter input 1: 12\n",
            "Enter input 2: 21\n",
            "Enter input 3: 23\n",
            "Enter input 4: 32\n",
            "Perceptron 2 Result: 46.8\n"
          ]
        }
      ]
    },
    {
      "cell_type": "markdown",
      "source": [
        "6 inputs"
      ],
      "metadata": {
        "id": "E1a-tLjRQQZL"
      }
    },
    {
      "cell_type": "code",
      "source": [
        "# Perceptron 3\n",
        "input1 = int(input(\"Enter input 1: \"))\n",
        "input2 = int(input(\"Enter input 2: \"))\n",
        "input3 = int(input(\"Enter input 3: \"))\n",
        "input4 = int(input(\"Enter input 4: \"))\n",
        "input5 = int(input(\"Enter input 5: \"))\n",
        "input6 = int(input(\"Enter input 6: \"))\n",
        "\n",
        "w1 = 0.5\n",
        "w2 = 0.7\n",
        "w3 = 0.3\n",
        "w4 = 0.6\n",
        "w5 = 0.2\n",
        "w6 = 0.4\n",
        "\n",
        "\n",
        "result = (input1 * w1) + (input2 * w2) + (input3 * w3) + (input4 * w4) + (input5 * w5) + (input6 * w6)\n",
        "print(\"Perceptron 3 Result:\", result)\n"
      ],
      "metadata": {
        "colab": {
          "base_uri": "https://localhost:8080/"
        },
        "id": "ylJOavEBQR-Y",
        "outputId": "2138888d-95ba-466b-c6fe-789e86c730da"
      },
      "execution_count": null,
      "outputs": [
        {
          "output_type": "stream",
          "name": "stdout",
          "text": [
            "Enter input 1: 1\n",
            "Enter input 2: 2\n",
            "Enter input 3: 3\n",
            "Enter input 4: 4\n",
            "Enter input 5: 5\n",
            "Enter input 6: 6\n",
            "Perceptron 3 Result: 8.6\n"
          ]
        }
      ]
    },
    {
      "cell_type": "markdown",
      "source": [
        "8 inputs"
      ],
      "metadata": {
        "id": "1pDISW3FQSwE"
      }
    },
    {
      "cell_type": "code",
      "source": [
        "# Perceptron 4\n",
        "input1 = int(input(\"Enter input 1: \"))\n",
        "input2 = int(input(\"Enter input 2: \"))\n",
        "input3 = int(input(\"Enter input 3: \"))\n",
        "input4 = int(input(\"Enter input 4: \"))\n",
        "input5 = int(input(\"Enter input 5: \"))\n",
        "input6 = int(input(\"Enter input 6: \"))\n",
        "input7 = int(input(\"Enter input 7: \"))\n",
        "input8 = int(input(\"Enter input 8: \"))\n",
        "\n",
        "w1 = 0.5\n",
        "w2 = 0.7\n",
        "w3 = 0.3\n",
        "w4 = 0.6\n",
        "w5 = 0.2\n",
        "w6 = 0.4\n",
        "w7 = 0.5\n",
        "w8 = 0.1\n",
        "\n",
        "result = (input1 * w1) + (input2 * w2) + (input3 * w3) + (input4 * w4) + (input5 * w5) + (input6 * w6) + (input7 * w7) + (input8 * w8)\n",
        "print(\"Perceptron 4 Result:\", result)\n"
      ],
      "metadata": {
        "colab": {
          "base_uri": "https://localhost:8080/"
        },
        "id": "14iBw7Y_QdKG",
        "outputId": "aaa0d594-93aa-476d-8789-27f15c172e48"
      },
      "execution_count": null,
      "outputs": [
        {
          "output_type": "stream",
          "name": "stdout",
          "text": [
            "Enter input 1: 1\n",
            "Enter input 2: 2\n",
            "Enter input 3: 3\n",
            "Enter input 4: 4\n",
            "Enter input 5: 5\n",
            "Enter input 6: 6\n",
            "Enter input 7: 7\n",
            "Enter input 8: 8\n",
            "Perceptron 4 Result: 12.9\n"
          ]
        }
      ]
    },
    {
      "cell_type": "markdown",
      "source": [
        "10 inputs"
      ],
      "metadata": {
        "id": "RlJuIg7TQUdM"
      }
    },
    {
      "cell_type": "code",
      "source": [
        "# Perceptron 5\n",
        "input1 = int(input(\"Enter input 1: \"))\n",
        "input2 = int(input(\"Enter input 2: \"))\n",
        "input3 = int(input(\"Enter input 3: \"))\n",
        "input4 = int(input(\"Enter input 4: \"))\n",
        "input5 = int(input(\"Enter input 5: \"))\n",
        "input6 = int(input(\"Enter input 6: \"))\n",
        "input7 = int(input(\"Enter input 7: \"))\n",
        "input8 = int(input(\"Enter input 8: \"))\n",
        "input9 = int(input(\"Enter input 9: \"))\n",
        "input10 = int(input(\"Enter input 10: \"))\n",
        "\n",
        "w1 = 0.5\n",
        "w2 = 0.7\n",
        "w3 = 0.3\n",
        "w4 = 0.6\n",
        "w5 = 0.2\n",
        "w6 = 0.4\n",
        "w7 = 0.5\n",
        "w8 = 0.1\n",
        "w9 = 0.4\n",
        "w10 = 0.34\n",
        "\n",
        "\n",
        "result = (input1 * w1) + (input2 * w2) + (input3 * w3) + (input4 * w4) + (input5 * w5) + (input6 * w6) + (input7 * w7) + (input8 * w8) + (input9 * w9) + (input10 * w10)\n",
        "print(\"Perceptron 4 Result:\", result)\n"
      ],
      "metadata": {
        "colab": {
          "base_uri": "https://localhost:8080/"
        },
        "id": "Zw0ZcvPbQeQZ",
        "outputId": "f6dd3c37-d481-4846-a938-654cc7cbabfa"
      },
      "execution_count": null,
      "outputs": [
        {
          "output_type": "stream",
          "name": "stdout",
          "text": [
            "Enter input 1: 1\n",
            "Enter input 2: 2\n",
            "Enter input 3: 3\n",
            "Enter input 4: 4\n",
            "Enter input 5: 5\n",
            "Enter input 6: 5\n",
            "Enter input 7: 4\n",
            "Enter input 8: 3\n",
            "Enter input 9: 2\n",
            "Enter input 10: 1\n",
            "Perceptron 4 Result: 11.600000000000001\n"
          ]
        }
      ]
    },
    {
      "cell_type": "markdown",
      "source": [
        "12 inputs"
      ],
      "metadata": {
        "id": "8dHEzMS5QV0Y"
      }
    },
    {
      "cell_type": "code",
      "source": [
        "# Perceptron 6\n",
        "inputs = [int(input(f\"Enter input {i + 1}: \")) for i in range(12)]\n",
        "weights = [0.1 * (i + 1) for i in range(12)]\n",
        "\n",
        "result = sum(i * w for i, w in zip(inputs, weights))\n",
        "print(\"Perceptron 6 Result:\", result)\n"
      ],
      "metadata": {
        "colab": {
          "base_uri": "https://localhost:8080/"
        },
        "id": "OU_MMMAKQe6v",
        "outputId": "64ce6435-2f03-4c94-a1a2-ea72a645b3a2"
      },
      "execution_count": null,
      "outputs": [
        {
          "output_type": "stream",
          "name": "stdout",
          "text": [
            "Enter input 1: 1\n",
            "Enter input 2: 2\n",
            "Enter input 3: 3\n",
            "Enter input 4: 4\n",
            "Enter input 5: 5\n",
            "Enter input 6: 6\n",
            "Enter input 7: 6\n",
            "Enter input 8: 5\n",
            "Enter input 9: 4\n",
            "Enter input 10: 3\n",
            "Enter input 11: 2\n",
            "Enter input 12: 1\n",
            "Perceptron 6 Result: 27.3\n"
          ]
        }
      ]
    },
    {
      "cell_type": "markdown",
      "source": [
        "14 inputs"
      ],
      "metadata": {
        "id": "B6iAhy8lQXCp"
      }
    },
    {
      "cell_type": "code",
      "source": [
        "# Perceptron 7\n",
        "inputs = [int(input(f\"Enter input {i + 1}: \")) for i in range(14)]\n",
        "weights = [0.1 * (i + 1) for i in range(14)]\n",
        "\n",
        "result = sum(i * w for i, w in zip(inputs, weights))\n",
        "print(\"Perceptron 7 Result:\", result)\n"
      ],
      "metadata": {
        "colab": {
          "base_uri": "https://localhost:8080/"
        },
        "id": "E0gcYh1uQfgw",
        "outputId": "c5e23fe3-8907-4be5-fb6a-e51660f98da3"
      },
      "execution_count": null,
      "outputs": [
        {
          "output_type": "stream",
          "name": "stdout",
          "text": [
            "Enter input 1: 1\n",
            "Enter input 2: 2\n",
            "Enter input 3: 3\n",
            "Enter input 4: 4\n",
            "Enter input 5: 5\n",
            "Enter input 6: 6\n",
            "Enter input 7: 7\n",
            "Enter input 8: 7\n",
            "Enter input 9: 6\n",
            "Enter input 10: 5\n",
            "Enter input 11: 4\n",
            "Enter input 12: 3\n",
            "Enter input 13: 2\n",
            "Enter input 14: 1\n",
            "Perceptron 7 Result: 42.0\n"
          ]
        }
      ]
    },
    {
      "cell_type": "markdown",
      "source": [
        "16 inputs"
      ],
      "metadata": {
        "id": "fp5hGnFSQYQo"
      }
    },
    {
      "cell_type": "code",
      "source": [
        "# Perceptron 8\n",
        "inputs = [int(input(f\"Enter input {i + 1}: \")) for i in range(16)]\n",
        "weights = [0.1 * (i + 1) for i in range(16)]\n",
        "\n",
        "result = sum(i * w for i, w in zip(inputs, weights))\n",
        "print(\"Perceptron 8 Result:\", result)\n"
      ],
      "metadata": {
        "colab": {
          "base_uri": "https://localhost:8080/"
        },
        "id": "yrCzz2-CQgkQ",
        "outputId": "50e7c156-bc2d-465d-b84d-132bc9ce7f27"
      },
      "execution_count": null,
      "outputs": [
        {
          "output_type": "stream",
          "name": "stdout",
          "text": [
            "Enter input 1: 1\n",
            "Enter input 2: 2\n",
            "Enter input 3: 3\n",
            "Enter input 4: 4\n",
            "Enter input 5: 5\n",
            "Enter input 6: 6\n",
            "Enter input 7: 7\n",
            "Enter input 8: 8\n",
            "Enter input 9: 7\n",
            "Enter input 10: 6\n",
            "Enter input 11: 5\n",
            "Enter input 12: 4\n",
            "Enter input 13: 3\n",
            "Enter input 14: 2\n",
            "Enter input 15: 1\n",
            "Enter input 16: 2\n",
            "Perceptron 8 Result: 54.4\n"
          ]
        }
      ]
    },
    {
      "cell_type": "markdown",
      "source": [
        "18 inputs"
      ],
      "metadata": {
        "id": "hP8KHemuQZ8L"
      }
    },
    {
      "cell_type": "code",
      "source": [
        "# Perceptron 9\n",
        "inputs = [int(input(f\"Enter input {i + 1}: \")) for i in range(18)]\n",
        "weights = [0.1 * (i + 1) for i in range(18)]\n",
        "\n",
        "result = sum(i * w for i, w in zip(inputs, weights))\n",
        "print(\"Perceptron 9 Result:\", result)\n"
      ],
      "metadata": {
        "colab": {
          "base_uri": "https://localhost:8080/"
        },
        "id": "5ler-wpdQiIy",
        "outputId": "a673a6f3-41fd-4a31-c9f3-8d6d02037f6e"
      },
      "execution_count": null,
      "outputs": [
        {
          "output_type": "stream",
          "name": "stdout",
          "text": [
            "Enter input 1: 1\n",
            "Enter input 2: 2\n",
            "Enter input 3: 3\n",
            "Enter input 4: 4\n",
            "Enter input 5: 5\n",
            "Enter input 6: 6\n",
            "Enter input 7: 7\n",
            "Enter input 8: 8\n",
            "Enter input 9: 9\n",
            "Enter input 10: 8\n",
            "Enter input 11: 7\n",
            "Enter input 12: 6\n",
            "Enter input 13: 5\n",
            "Enter input 14: 4\n",
            "Enter input 15: 3\n",
            "Enter input 16: 2\n",
            "Enter input 17: 1\n",
            "Enter input 18: 2\n",
            "Perceptron 9 Result: 76.5\n"
          ]
        }
      ]
    },
    {
      "cell_type": "markdown",
      "source": [
        "20 inputs"
      ],
      "metadata": {
        "id": "BfWmjeX6QbNi"
      }
    },
    {
      "cell_type": "code",
      "source": [
        "# Perceptron 10\n",
        "inputs = [int(input(f\"Enter input {i + 1}: \")) for i in range(20)]\n",
        "weights = [0.1 * (i + 1) for i in range(20)]\n",
        "\n",
        "result = sum(i * w for i, w in zip(inputs, weights))\n",
        "print(\"Perceptron 10 Result:\", result)\n"
      ],
      "metadata": {
        "colab": {
          "base_uri": "https://localhost:8080/"
        },
        "id": "eBkH0QqwQjAs",
        "outputId": "5988ce7a-4bd1-4f1c-c787-962fba467839"
      },
      "execution_count": null,
      "outputs": [
        {
          "output_type": "stream",
          "name": "stdout",
          "text": [
            "Enter input 1: 1\n",
            "Enter input 2: 2\n",
            "Enter input 3: 3\n",
            "Enter input 4: 4\n",
            "Enter input 5: 5\n",
            "Enter input 6: 6\n",
            "Enter input 7: 7\n",
            "Enter input 8: 8\n",
            "Enter input 9: 9\n",
            "Enter input 10: 9\n",
            "Enter input 11: 8\n",
            "Enter input 12: 7\n",
            "Enter input 13: 6\n",
            "Enter input 14: 5\n",
            "Enter input 15: 4\n",
            "Enter input 16: 3\n",
            "Enter input 17: 2\n",
            "Enter input 18: 1\n",
            "Enter input 19: 2\n",
            "Enter input 20: 3\n",
            "Perceptron 10 Result: 95.3\n"
          ]
        }
      ]
    }
  ]
}