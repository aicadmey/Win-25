{
  "nbformat": 4,
  "nbformat_minor": 0,
  "metadata": {
    "colab": {
      "provenance": []
    },
    "kernelspec": {
      "name": "python3",
      "display_name": "Python 3"
    },
    "language_info": {
      "name": "python"
    }
  },
  "cells": [
    {
      "cell_type": "code",
      "execution_count": null,
      "metadata": {
        "id": "2xUcYxNY4x8D",
        "colab": {
          "base_uri": "https://localhost:8080/"
        },
        "outputId": "789a31c5-84d4-46c0-d220-e77b57803865"
      },
      "outputs": [
        {
          "output_type": "stream",
          "name": "stdout",
          "text": [
            "Rate academic performance (out of 10): 6\n",
            "Rate entrance exam score (out of 10): 5\n",
            "Eligible for admission!\n",
            "5.7\n"
          ]
        }
      ],
      "source": [
        "# lower merit criteria of university.\n",
        "academic_performance = float(input(\"Rate academic performance (out of 10): \"))\n",
        "entrance_exam = float(input(\"Rate entrance exam score (out of 10): \"))\n",
        "\n",
        "\n",
        "w1 = 0.2\n",
        "w2 = 0.9\n",
        "\n",
        "\n",
        "result = (academic_performance*w1)+(entrance_exam*w2)\n",
        "\n",
        "if result >= 10:\n",
        "    print(\"Eligible for admission!\")\n",
        "else:\n",
        "    print(\"Not eligible for admission.\")\n",
        "print(result)"
      ]
    },
    {
      "cell_type": "code",
      "source": [
        "# Matric pass\n",
        "score1 = float(input(\"Enter score for Mathematics: \"))\n",
        "score2 = float(input(\"Enter score for Urdu: \"))\n",
        "score3 = float(input(\"Enter score for Sciences(physics,chemistry,Bio): \"))\n",
        "score4 = float(input(\"Enter score for social studies: \"))\n",
        "\n",
        "\n",
        "weights = [0.5] * 4\n",
        "\n",
        "\n",
        "scores = [score1, score2, score3, score4,]\n",
        "result = sum(s * w for s, w in zip(scores, weights)) # a formula to avoid lengthy code for total calculation of final result\n",
        "\n",
        "if result >= 40:\n",
        "    print(\"PASS!\")\n",
        "else:\n",
        "    print(\"FAIL!\")\n",
        "print(result)"
      ],
      "metadata": {
        "colab": {
          "base_uri": "https://localhost:8080/"
        },
        "id": "ex1ChipwAJ9t",
        "outputId": "bf804020-e5f3-4f88-d778-beac4d7df41a"
      },
      "execution_count": null,
      "outputs": [
        {
          "output_type": "stream",
          "name": "stdout",
          "text": [
            "Enter score for Mathematics: 67\n",
            "Enter score for Urdu: 78\n",
            "Enter score for Sciences(physics,chemistry,Bio): 34\n",
            "Enter score for social studies: 40\n",
            "PASS!\n",
            "109.5\n"
          ]
        }
      ]
    },
    {
      "cell_type": "code",
      "source": [
        "# counter review Rate.\n",
        "q1 = float(input(\"Rate quality of product (out of 10): \"))\n",
        "q2 = float(input(\"Rate delivery's time (out of 10): \"))\n",
        "q3 = float(input(\"Rate customer's service (out of 10): \"))\n",
        "q4 = float(input(\"Rate website usability (out of 10): \"))\n",
        "q5 = float(input(\"Rate return policy (out of 10): \"))\n",
        "q6 = float(input(\"Rate rate fairness (out of 10): \"))\n",
        "\n",
        "\n",
        "\n",
        "\n",
        "weights = [0.5] * 5\n",
        "\n",
        "\n",
        "responses = [q1, q2, q3, q4, q5, q6]\n",
        "result = sum(r * w for r, w in zip(responses, weights))\n",
        "\n",
        "if result >= 9:\n",
        "    print(\"Satisfied!\")\n",
        "else:\n",
        "    print(\"Needs Improvement.\")\n",
        "print(result)# counter review Rate.\n",
        "q1 = float(input(\"Rate quality of product (out of 10): \"))\n",
        "q2 = float(input(\"Rate delivery's time (out of 10): \"))\n",
        "q3 = float(input(\"Rate customer's service (out of 10): \"))\n",
        "q4 = float(input(\"Rate website usability (out of 10): \"))\n",
        "q5 = float(input(\"Rate return policy (out of 10): \"))\n",
        "q6 = float(input(\"Rate rate fairness (out of 10): \"))\n",
        "\n",
        "\n",
        "\n",
        "\n",
        "weights = [0.5] * 5\n",
        "\n",
        "\n",
        "responses = [q1, q2, q3, q4, q5, q6]\n",
        "result = sum(r * w for r, w in zip(responses, weights))\n",
        "\n",
        "if result >= 9:\n",
        "    print(\"Satisfied!\")\n",
        "else:\n",
        "    print(\"Needs Improvement.\")\n",
        "print(result)# counter review Rate.\n",
        "q1 = float(input(\"Rate quality of product (out of 10): \"))\n",
        "q2 = float(input(\"Rate delivery's time (out of 10): \"))\n",
        "q3 = float(input(\"Rate customer's service (out of 10): \"))\n",
        "q4 = float(input(\"Rate website usability (out of 10): \"))\n",
        "q5 = float(input(\"Rate return policy (out of 10): \"))\n",
        "q6 = float(input(\"Rate rate fairness (out of 10): \"))\n",
        "\n",
        "\n",
        "\n",
        "\n",
        "weights = [0.5] * 5\n",
        "\n",
        "\n",
        "responses = [q1, q2, q3, q4, q5, q6]\n",
        "result = sum(r * w for r, w in zip(responses, weights))\n",
        "\n",
        "if result >= 9:\n",
        "    print(\"Satisfied!\")\n",
        "else:\n",
        "    print(\"Needs Improvement.\")\n",
        "print(result)"
      ],
      "metadata": {
        "id": "usSHFqnXD6Wq",
        "outputId": "c0ad850e-2719-413c-b92c-4a59b8f21094",
        "colab": {
          "base_uri": "https://localhost:8080/"
        }
      },
      "execution_count": null,
      "outputs": [
        {
          "output_type": "stream",
          "name": "stdout",
          "text": [
            "Rate quality of product (out of 10): 6\n",
            "Rate delivery's time (out of 10): 8\n",
            "Rate customer's service (out of 10): 9\n",
            "Rate website usability (out of 10): 9\n",
            "Rate return policy (out of 10): 8\n",
            "Rate rate fairness (out of 10): 9\n",
            "Satisfied!\n",
            "20.0\n"
          ]
        }
      ]
    },
    {
      "cell_type": "code",
      "source": [
        "# Produt Launch\n",
        "market_research = float(input(\"Rate market research quality (out of 10): \"))\n",
        "product_design = float(input(\"Rate product design (out of 10): \"))\n",
        "innovation = float(input(\"Rate innovation level (out of 10): \"))\n",
        "pricing_strategy = float(input(\"Rate pricing strategy (out of 10): \"))\n",
        "marketing_campaign = float(input(\"Rate marketing campaign quality (out of 10): \"))\n",
        "customer_feedback = float(input(\"Rate customer feedback integration (out of 10): \"))\n",
        "test_launch = float(input(\"Rate test launch performance (out of 10): \"))\n",
        "technology_used = float(input(\"Rate technology used (out of 10): \"))\n",
        "usability = float(input(\"Rate product usability (out of 10): \"))\n",
        "\n",
        "\n",
        "weights = [0.5] * 6\n",
        "\n",
        "\n",
        "factors = [market_research, product_design, innovation, pricing_strategy, marketing_campaign, customer_feedback, test_launch,technology_used,usability]\n",
        "result = sum(f * w for f, w in zip(factors, weights))\n",
        "\n",
        "if result >= 6:\n",
        "    print(\"High chance of success!\")\n",
        "else:\n",
        "    print(\"Needs more preparation.\")\n",
        "print(result)"
      ],
      "metadata": {
        "id": "vijjURvjE-LF",
        "outputId": "b60d79e6-d485-4a53-89b3-2ebc6fa69891",
        "colab": {
          "base_uri": "https://localhost:8080/"
        }
      },
      "execution_count": null,
      "outputs": [
        {
          "output_type": "stream",
          "name": "stdout",
          "text": [
            "Rate market research quality (out of 10): 9\n",
            "Rate product design (out of 10): 7\n",
            "Rate innovation level (out of 10): 6\n",
            "Rate pricing strategy (out of 10): 5\n",
            "Rate marketing campaign quality (out of 10): 7\n",
            "Rate customer feedback integration (out of 10): 8\n",
            "Rate test launch performance (out of 10): 9\n",
            "Rate technology used (out of 10): 5\n",
            "Rate product usability (out of 10): 9\n",
            "High chance of success!\n",
            "21.0\n"
          ]
        }
      ]
    },
    {
      "cell_type": "code",
      "source": [
        "# Employee Performance\n",
        "\n",
        "job_knowledge = float(input(\"Rate job knowledge (out of 10): \"))\n",
        "work_quality = float(input(\"Rate work quality (out of 10): \"))\n",
        "communication_skills = float(input(\"Rate communication skills (out of 10): \"))\n",
        "teamwork = float(input(\"Rate teamwork (out of 10): \"))\n",
        "time_management = float(input(\"Rate time management (out of 10): \"))\n",
        "leadership = float(input(\"Rate leadership qualities (out of 10): \"))\n",
        "customer_service = float(input(\"Rate customer service skills (out of 10): \"))\n",
        "innovation = float(input(\"Rate innovation and creativity (out of 10): \"))\n",
        "decision_making = float(input(\"Rate decision-making ability (out of 10): \"))\n",
        "punctuality = float(input(\"Rate punctuality (out of 10): \"))\n",
        "\n",
        "weights = [0.2] * 10\n",
        "\n",
        "categories = [job_knowledge, work_quality, communication_skills, teamwork,time_management, leadership, customer_service, innovation,\n",
        "              decision_making,punctuality]\n",
        "\n",
        "result = sum(c * w for c, w in zip(categories, weights))\n",
        "\n",
        "if result >= 7:\n",
        "    print(\"Excellent Performance!\")\n",
        "elif 5 <= result < 7:\n",
        "    print(\"Satisfactory Performance.\")\n",
        "else:\n",
        "    print(\"Needs Improvement.\")\n",
        "print(result)"
      ],
      "metadata": {
        "id": "141GK0n1GfW4"
      },
      "execution_count": null,
      "outputs": []
    },
    {
      "cell_type": "code",
      "source": [
        "#  Environment check\n",
        "\n",
        "air_quality = float(input(\"Rate air quality impact (out of 10): \"))\n",
        "water_quality = float(input(\"Rate water quality impact (out of 10): \"))\n",
        "noise_pollution = float(input(\"Rate noise pollution impact (out of 10): \"))\n",
        "deforestation = float(input(\"Rate deforestation impact (out of 10): \"))\n",
        "soil_quality = float(input(\"Rate soil quality impact (out of 10): \"))\n",
        "waste_management = float(input(\"Rate waste management effectiveness (out of 10): \"))\n",
        "recycling = float(input(\"Rate recycling efforts (out of 10): \"))\n",
        "energy_efficiency = float(input(\"Rate energy efficiency (out of 10): \"))\n",
        "green_technology = float(input(\"Rate green technology usage (out of 10): \"))\n",
        "public_awareness = float(input(\"Rate public awareness programs (out of 10): \"))\n",
        "government_support = float(input(\"Rate government support (out of 10): \"))\n",
        "health_hazards = float(input(\"Rate health hazards (out of 10): \"))\n",
        "\n",
        "weights = [0.08] * 12\n",
        "\n",
        "factors = [air_quality, water_quality, noise_pollution, deforestation, soil_quality,\n",
        "           waste_management, recycling, energy_efficiency, green_technology, public_awareness, government_support,\n",
        "           health_hazards]\n",
        "result = sum(f * w for f, w in zip(factors, weights))\n",
        "\n",
        "if result <= 5:\n",
        "    print(\"Low environmental impact.\")\n",
        "else:\n",
        "    print(\"High environmental impact.\")\n",
        "print(result)"
      ],
      "metadata": {
        "id": "b8rNT19YKNd8"
      },
      "execution_count": null,
      "outputs": []
    },
    {
      "cell_type": "code",
      "source": [
        "# Sports Team Performance\n",
        "passing = float(input(\"Rate passing skills (out of 10): \"))\n",
        "shooting = float(input(\"Rate shooting skills (out of 10): \"))\n",
        "dribbling = float(input(\"Rate dribbling skills (out of 10): \"))\n",
        "defense = float(input(\"Rate defense skills (out of 10): \"))\n",
        "teamwork = float(input(\"Rate teamwork (out of 10): \"))\n",
        "strategy = float(input(\"Rate strategy execution (out of 10): \"))\n",
        "fitness = float(input(\"Rate fitness level (out of 10): \"))\n",
        "speed = float(input(\"Rate speed (out of 10): \"))\n",
        "strength = float(input(\"Rate strength (out of 10): \"))\n",
        "agility = float(input(\"Rate agility (out of 10): \"))\n",
        "accuracy = float(input(\"Rate accuracy (out of 10): \"))\n",
        "decision_making = float(input(\"Rate decision-making (out of 10): \"))\n",
        "focus = float(input(\"Rate focus (out of 10): \"))\n",
        "leadership = float(input(\"Rate leadership (out of 10): \"))\n",
        "\n",
        "weights = [0.071] * 14\n",
        "\n",
        "skills = [passing, shooting, dribbling, defense, teamwork, strategy, fitness, speed, strength, agility, accuracy,\n",
        "          decision_making, focus, leadership]\n",
        "\n",
        "result = sum(s * w for s, w in zip(skills, weights))\n",
        "\n",
        "if result >= 7:\n",
        "    print(\"Team is performing well!\")\n",
        "else:\n",
        "    print(\"Team needs improvement.\")\n",
        "print(result)\n"
      ],
      "metadata": {
        "id": "rUJENIfmOGNw"
      },
      "execution_count": null,
      "outputs": []
    },
    {
      "cell_type": "code",
      "source": [
        "# Job candidate\n",
        "\n",
        "education = float(input(\"Enter education level (out of 10): \"))\n",
        "experience = float(input(\"Enter years of experience: \"))\n",
        "skills = float(input(\"Enter skill match percentage: \"))\n",
        "leadership = float(input(\"Enter leadership score: \"))\n",
        "communication = float(input(\"Enter communication score: \"))\n",
        "teamwork = float(input(\"Enter teamwork score: \"))\n",
        "problem_solving = float(input(\"Enter problem-solving score: \"))\n",
        "creativity = float(input(\"Enter creativity score: \"))\n",
        "technical_skills = float(input(\"Enter technical skills score: \"))\n",
        "management = float(input(\"Enter management score: \"))\n",
        "certifications = float(input(\"Enter certifications score: \"))\n",
        "projects = float(input(\"Enter number of projects completed: \"))\n",
        "time_management = float(input(\"Enter time management score: \"))\n",
        "punctuality = float(input(\"Enter punctuality score: \"))\n",
        "presentation = float(input(\"Enter presentation score: \"))\n",
        "ethics = float(input(\"Enter ethics score: \"))\n",
        "\n",
        "\n",
        "weights = [0.05] * 16\n",
        "\n",
        "\n",
        "inputs = [education, experience, skills, leadership, communication, teamwork, problem_solving, creativity, technical_skills, management, certifications, projects, time_management, punctuality,\n",
        "          presentation, ethics]\n",
        "\n",
        "result = sum(i * w for i, w in zip(inputs, weights))\n",
        "\n",
        "if result >= 60:\n",
        "    print(\"Hired!\")\n",
        "else:\n",
        "    print(\"Not Hired.\")\n",
        "print(result)"
      ],
      "metadata": {
        "id": "pnMcbftwRqqx"
      },
      "execution_count": null,
      "outputs": []
    },
    {
      "cell_type": "code",
      "source": [
        "gpa = float(input(\"Enter GPA (out of 4.0): \"))\n",
        "essay = float(input(\"Enter essay score: \"))\n",
        "recommendation = float(input(\"Enter recommendation score: \"))\n",
        "awards = float(input(\"Enter awards score: \"))\n",
        "leadership = float(input(\"Enter leadership score: \"))\n",
        "creativity = float(input(\"Enter creativity score: \"))\n",
        "research = float(input(\"Enter research experience score: \"))\n",
        "attendance = float(input(\"Enter attendance percentage: \"))\n",
        "community_service = float(input(\"Enter community service score: \"))\n",
        "technical_skills = float(input(\"Enter technical skills score: \"))\n",
        "language_skills = float(input(\"Enter language skills score: \"))\n",
        "sports = float(input(\"Enter sports participation score: \"))\n",
        "arts = float(input(\"Enter arts participation score: \"))\n",
        "time_management = float(input(\"Enter time management score: \"))\n",
        "projects = float(input(\"Enter projects completed: \"))\n",
        "discipline = float(input(\"Enter discipline score: \"))\n",
        "grades = float(input(\"Enter grades score: \"))\n",
        "interview = float(input(\"Enter interview performance score: \"))\n",
        "\n",
        "\n",
        "weights = [0.05] * 18\n",
        "\n",
        "\n",
        "inputs = [gpa, essay, recommendation, awards, leadership, creativity,\n",
        "          research, attendance, community_service, technical_skills, language_skills, sports, arts,\n",
        "          time_management, projects, discipline, grades, interview]\n",
        "\n",
        "result = sum(i * w for i, w in zip(inputs, weights))\n",
        "\n",
        "if result >= 70:\n",
        "    print(\"Scholarship Granted!\")\n",
        "else:\n",
        "    print(\"No Scholarship.\")\n",
        "print(result)"
      ],
      "metadata": {
        "colab": {
          "base_uri": "https://localhost:8080/"
        },
        "id": "ipSm293qSuOl",
        "outputId": "f34f0785-1fd5-4a17-dd3b-8aeb0689f2f6"
      },
      "execution_count": null,
      "outputs": [
        {
          "output_type": "stream",
          "name": "stdout",
          "text": [
            "Enter GPA (out of 4.0): 80\n",
            "Enter essay score: 60\n",
            "Enter recommendation score: 70\n",
            "Enter awards score: 20\n",
            "Enter leadership score: 80\n",
            "Enter creativity score: 90\n",
            "Enter research experience score: 70\n",
            "Enter attendance percentage: 100\n",
            "Enter community service score: 70\n",
            "Enter technical skills score: 70\n",
            "Enter language skills score: 80\n",
            "Enter sports participation score: 60\n",
            "Enter arts participation score: 90\n",
            "Enter time management score: 90\n",
            "Enter projects completed: 80\n",
            "Enter discipline score: 100\n",
            "Enter grades score: 70\n",
            "Enter interview performance score: 70\n",
            "Scholarship Granted!\n"
          ]
        }
      ]
    },
    {
      "cell_type": "code",
      "source": [
        "speed = float(input(\"Enter speed score: \"))\n",
        "endurance = float(input(\"Enter endurance score: \"))\n",
        "strength = float(input(\"Enter strength score: \"))\n",
        "flexibility = float(input(\"Enter flexibility score: \"))\n",
        "balance = float(input(\"Enter balance score: \"))\n",
        "reaction_time = float(input(\"Enter reaction time score: \"))\n",
        "agility = float(input(\"Enter agility score: \"))\n",
        "coordination = float(input(\"Enter coordination score: \"))\n",
        "stamina = float(input(\"Enter stamina score: \"))\n",
        "heart_rate = float(input(\"Enter heart rate: \"))\n",
        "blood_pressure = float(input(\"Enter blood pressure: \"))\n",
        "weight = float(input(\"Enter weight score: \"))\n",
        "height = float(input(\"Enter height score: \"))\n",
        "diet = float(input(\"Enter diet score: \"))\n",
        "hydration = float(input(\"Enter hydration score: \"))\n",
        "training = float(input(\"Enter training consistency score: \"))\n",
        "sleep = float(input(\"Enter sleep quality score: \"))\n",
        "mental_focus = float(input(\"Enter mental focus score: \"))\n",
        "injuries = float(input(\"Enter injury history score: \"))\n",
        "mobility = float(input(\"Enter mobility score: \"))\n",
        "\n",
        "\n",
        "weights = [0.05] * 20\n",
        "\n",
        "\n",
        "inputs = [speed, endurance, strength, flexibility, balance, reaction_time, agility, coordination,\n",
        "          stamina, heart_rate, blood_pressure, weight, height, diet, hydration, training, sleep,\n",
        "          mental_focus, injuries, mobility]\n",
        "result = sum(i * w for i, w in zip(inputs, weights))\n",
        "\n",
        "if result >= 75:\n",
        "    print(\"Fit!\")\n",
        "else:\n",
        "    print(\"Not Fit.\")\n",
        "print(result)\n"
      ],
      "metadata": {
        "id": "vAV1pU_9T9D3"
      },
      "execution_count": null,
      "outputs": []
    }
  ]
}