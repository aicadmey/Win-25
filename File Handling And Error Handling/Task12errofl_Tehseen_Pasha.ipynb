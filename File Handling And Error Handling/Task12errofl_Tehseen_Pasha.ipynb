{
  "nbformat": 4,
  "nbformat_minor": 0,
  "metadata": {
    "colab": {
      "provenance": []
    },
    "kernelspec": {
      "name": "python3",
      "display_name": "Python 3"
    },
    "language_info": {
      "name": "python"
    }
  },
  "cells": [
    {
      "cell_type": "markdown",
      "source": [
        "● Example of file handling (write)"
      ],
      "metadata": {
        "id": "lQ10NhaDLVTx"
      }
    },
    {
      "cell_type": "code",
      "execution_count": null,
      "metadata": {
        "colab": {
          "base_uri": "https://localhost:8080/"
        },
        "id": "0mmU6VlhJwIW",
        "outputId": "9501df40-8e51-4ec0-9421-333da86c4d3d"
      },
      "outputs": [
        {
          "output_type": "stream",
          "name": "stdout",
          "text": [
            "Tahseen enter the text you want to save in the file: Space exploration \n",
            "Your input has been saved to the file.\n"
          ]
        }
      ],
      "source": [
        "# Taking input from the user and writing to a file\n",
        "data = input(\"Tahseen enter the text you want to save in the file: \")\n",
        "\n",
        "with open(\"example1.txt\", \"w\") as file:\n",
        "    file.write(data)\n",
        "\n",
        "print(\"Your input has been saved to the file.\")"
      ]
    },
    {
      "cell_type": "code",
      "source": [
        "# Writing multiple lines to a file\n",
        "lines = [\"sir, this is line 1.\\n\", \"This is line 2.\\n\", \"Tahseen File handling in Python is simple.\\n\"]\n",
        "\n",
        "with open(\"example2.txt\", \"w\") as file:\n",
        "    file.writelines(lines)\n",
        "\n",
        "print(\"Multiple lines written to the file.\")"
      ],
      "metadata": {
        "colab": {
          "base_uri": "https://localhost:8080/"
        },
        "id": "DR1UanlKKWvh",
        "outputId": "7b379cba-38b5-43f7-89b2-3d68be9b47de"
      },
      "execution_count": null,
      "outputs": [
        {
          "output_type": "stream",
          "name": "stdout",
          "text": [
            "Multiple lines written to the file.\n"
          ]
        }
      ]
    },
    {
      "cell_type": "code",
      "source": [
        "# Writing data to a file\n",
        "with open(\"example3.txt\", \"w\") as file:\n",
        "    file.write(\"Hi, Ali this is a examples file handling .\")\n",
        "print(\"Data written to file.\")"
      ],
      "metadata": {
        "colab": {
          "base_uri": "https://localhost:8080/"
        },
        "id": "Cb4CjdS8KXGB",
        "outputId": "25bbd1ee-c454-42ca-f356-f105ed1c8cf8"
      },
      "execution_count": null,
      "outputs": [
        {
          "output_type": "stream",
          "name": "stdout",
          "text": [
            "Data written to file.\n"
          ]
        }
      ]
    },
    {
      "cell_type": "markdown",
      "source": [
        "● Example of file handling. (Read)"
      ],
      "metadata": {
        "id": "vtdmLwLOMJpg"
      }
    },
    {
      "cell_type": "code",
      "source": [
        "# Reading a specific number of characters from the file\n",
        "with open(\"example1.txt\", \"r\") as file:\n",
        "    content = file.read(10)  # Read the first 10 characters\n",
        "print(\"First 10 characters of the file:\", content)"
      ],
      "metadata": {
        "colab": {
          "base_uri": "https://localhost:8080/"
        },
        "id": "wpgr88FwMcqJ",
        "outputId": "291c22b6-2443-4bd6-c172-4ce853d36d11"
      },
      "execution_count": null,
      "outputs": [
        {
          "output_type": "stream",
          "name": "stdout",
          "text": [
            "First 10 characters of the file: Hi, Ali th\n"
          ]
        }
      ]
    },
    {
      "cell_type": "code",
      "source": [
        "# Reading the file line by line\n",
        "with open(\"example2.txt\", \"r\") as file:\n",
        "    print(\"File content line by line:\")\n",
        "    for line in file:\n",
        "        print(line.strip())"
      ],
      "metadata": {
        "colab": {
          "base_uri": "https://localhost:8080/"
        },
        "id": "J_hKXcnCMkaD",
        "outputId": "70609ecf-2639-4154-ae24-5d8203b85e44"
      },
      "execution_count": null,
      "outputs": [
        {
          "output_type": "stream",
          "name": "stdout",
          "text": [
            "File content line by line:\n",
            "sir, this is line 1.\n",
            "This is line 2.\n",
            "Tahseen File handling in Python is simple.\n"
          ]
        }
      ]
    },
    {
      "cell_type": "code",
      "source": [
        "# Reading the entire content of a file\n",
        "with open(\"example3.txt\", \"r\") as file:\n",
        "    content = file.read()\n",
        "print(\"File content:\")\n",
        "print(content)"
      ],
      "metadata": {
        "colab": {
          "base_uri": "https://localhost:8080/"
        },
        "id": "zfPmuTobOUdy",
        "outputId": "1a4f9f31-eda7-4c29-e1c3-39dcc417b4b3"
      },
      "execution_count": null,
      "outputs": [
        {
          "output_type": "stream",
          "name": "stdout",
          "text": [
            "File content:\n",
            "Hi, Ali this is a examples file handling .\n"
          ]
        }
      ]
    },
    {
      "cell_type": "markdown",
      "source": [
        "Example of file handling ."
      ],
      "metadata": {
        "id": "sWEe-uAuRnXk"
      }
    },
    {
      "cell_type": "code",
      "source": [
        "# Appending user input to the file\n",
        "user_input = input(\"Enter a line to append to the file: \")\n",
        "with open(\"example1.txt\", \"a\") as file:\n",
        "    file.write(f\"\\n{user_input}\")\n",
        "print(\"Your input was appended to the file.\")"
      ],
      "metadata": {
        "colab": {
          "base_uri": "https://localhost:8080/"
        },
        "id": "4Qm9rrDzRo-X",
        "outputId": "6c918d29-a5b7-4c4a-a3cf-83684166f3c8"
      },
      "execution_count": null,
      "outputs": [
        {
          "output_type": "stream",
          "name": "stdout",
          "text": [
            "Enter a line to append to the file: Python is not easy. \n",
            "Your input was appended to the file.\n"
          ]
        }
      ]
    },
    {
      "cell_type": "code",
      "source": [
        "# Appending multiple lines to the file\n",
        "with open(\"example2.txt\", \"a\") as file:\n",
        "    for i in range(1, 4):\n",
        "        file.write(f\"\\nThis is appended line {i}.\")\n",
        "print(\"Multiple lines were appended to the file.\")"
      ],
      "metadata": {
        "colab": {
          "base_uri": "https://localhost:8080/"
        },
        "id": "mP4Mr1STR4ht",
        "outputId": "0d19797f-18ab-4f22-c116-28b464e299de"
      },
      "execution_count": null,
      "outputs": [
        {
          "output_type": "stream",
          "name": "stdout",
          "text": [
            "Multiple lines were appended to the file.\n"
          ]
        }
      ]
    },
    {
      "cell_type": "code",
      "source": [
        "# Appending a single line to the file\n",
        "with open(\"example2.txt\", \"a\") as file:\n",
        "    file.write(\"\\nThis is the first appended line.\")\n",
        "print(\"A single line was appended to the file.\")"
      ],
      "metadata": {
        "colab": {
          "base_uri": "https://localhost:8080/"
        },
        "id": "4FwZIqFsSQZS",
        "outputId": "006d26a5-1e8f-4642-a111-cdf8672ffe9e"
      },
      "execution_count": null,
      "outputs": [
        {
          "output_type": "stream",
          "name": "stdout",
          "text": [
            "A single line was appended to the file.\n"
          ]
        }
      ]
    },
    {
      "cell_type": "markdown",
      "source": [
        "Error handling."
      ],
      "metadata": {
        "id": "YRcaXgO2Savz"
      }
    },
    {
      "cell_type": "code",
      "source": [
        "# file error.\n",
        "try:\n",
        "    with open(\"nonexistent_file.txt\", \"r\") as file:\n",
        "        content = file.read()\n",
        "    print(\"File content:\", content)\n",
        "except FileNotFoundError:\n",
        "    print(\"Error: The file does not exist.\")"
      ],
      "metadata": {
        "colab": {
          "base_uri": "https://localhost:8080/"
        },
        "id": "a8WHfPssS10d",
        "outputId": "24a719a4-6dd1-4a6a-f935-fb5aa3a907f2"
      },
      "execution_count": null,
      "outputs": [
        {
          "output_type": "stream",
          "name": "stdout",
          "text": [
            "Error: The file does not exist.\n"
          ]
        }
      ]
    },
    {
      "cell_type": "code",
      "source": [
        "\n",
        "# zero error.\n",
        "try:\n",
        "    numerator = 10\n",
        "    denominator = 0\n",
        "    result = numerator / denominator\n",
        "    print(\"Result:\", result)\n",
        "except ZeroDivisionError:\n",
        "    print(\"Error: Division by zero is not allowed.\")"
      ],
      "metadata": {
        "colab": {
          "base_uri": "https://localhost:8080/"
        },
        "id": "d3amFK-lS6ie",
        "outputId": "35f703f9-ccb2-447e-ce2e-206e1a24795f"
      },
      "execution_count": null,
      "outputs": [
        {
          "output_type": "stream",
          "name": "stdout",
          "text": [
            "Error: Division by zero is not allowed.\n"
          ]
        }
      ]
    },
    {
      "cell_type": "code",
      "source": [
        "# invalid input.\n",
        "\n",
        "try:\n",
        "    num = int(input(\"Enter a number: \"))  # Could raise ValueError\n",
        "    result = 10 / num                     # Could raise ZeroDivisionError\n",
        "    print(\"Result:\", result)\n",
        "except ValueError:\n",
        "    print(\"Error: Invalid input! Please enter a number.\")\n",
        "except ZeroDivisionError:\n",
        "    print(\"Error: Division by zero is not allowed.\")\n",
        "except Exception as e:\n",
        "    print(f\"Unexpected error: {e}\")"
      ],
      "metadata": {
        "colab": {
          "base_uri": "https://localhost:8080/"
        },
        "id": "rD4_mLBxS6ll",
        "outputId": "a86d0821-93c5-4b54-aff4-08b401e7272b"
      },
      "execution_count": null,
      "outputs": [
        {
          "output_type": "stream",
          "name": "stdout",
          "text": [
            "Enter a number: 7\n",
            "Result: 1.4285714285714286\n"
          ]
        }
      ]
    },
    {
      "cell_type": "code",
      "source": [],
      "metadata": {
        "id": "BXIHOltST5KB"
      },
      "execution_count": null,
      "outputs": []
    }
  ]
}