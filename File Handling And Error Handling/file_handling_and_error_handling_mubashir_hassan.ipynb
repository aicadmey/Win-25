{
  "nbformat": 4,
  "nbformat_minor": 0,
  "metadata": {
    "colab": {
      "provenance": []
    },
    "kernelspec": {
      "name": "python3",
      "display_name": "Python 3"
    },
    "language_info": {
      "name": "python"
    }
  },
  "cells": [
    {
      "cell_type": "markdown",
      "source": [
        "File Handling"
      ],
      "metadata": {
        "id": "bO-B17kryHxH"
      }
    },
    {
      "cell_type": "markdown",
      "source": [
        "read\n"
      ],
      "metadata": {
        "id": "M8bdh78dQRio"
      }
    },
    {
      "cell_type": "code",
      "source": [
        "def read_entire_file(filename):\n",
        "  \"\"\"Reads the entire content of a file.\"\"\"\n",
        "  try:\n",
        "    with open(filename, 'r') as file:\n",
        "      data = file.read()\n",
        "      return data\n",
        "  except FileNotFoundError:\n",
        "    print(f\"Error: File '{filename}' not found.\")\n",
        "    return None\n",
        "\n",
        "file_content = read_entire_file(\"my_file.txt\")\n",
        "if file_content:\n",
        "  print(file_content)"
      ],
      "metadata": {
        "colab": {
          "base_uri": "https://localhost:8080/"
        },
        "id": "UTrHU5ZWQQI9",
        "outputId": "4c7fd922-8be4-4fe0-d3c4-74443b639a63"
      },
      "execution_count": null,
      "outputs": [
        {
          "output_type": "stream",
          "name": "stdout",
          "text": [
            "Error: File 'my_file.txt' not found.\n"
          ]
        }
      ]
    },
    {
      "cell_type": "code",
      "source": [
        "def read_file_line_by_line(filename):\n",
        "  \"\"\"Reads the file line by line.\"\"\"\n",
        "  try:\n",
        "    with open(filename, 'r') as file:\n",
        "      for line in file:\n",
        "        print(line.strip())\n",
        "  except FileNotFoundError:\n",
        "    print(f\"Error: File '{filename}' not found.\")\n",
        "\n",
        "\n",
        "read_file_line_by_line(\"my_file.txt\")"
      ],
      "metadata": {
        "colab": {
          "base_uri": "https://localhost:8080/"
        },
        "id": "Q32KpKK_QjID",
        "outputId": "dfd3f15c-f761-4a0a-b297-76c6919bbaf8"
      },
      "execution_count": null,
      "outputs": [
        {
          "output_type": "stream",
          "name": "stdout",
          "text": [
            "Error: File 'my_file.txt' not found.\n"
          ]
        }
      ]
    },
    {
      "cell_type": "code",
      "source": [
        "def read_specific_lines(filename, start_line, end_line):\n",
        "  \"\"\"Reads lines from a file within a specified range.\"\"\"\n",
        "  try:\n",
        "    with open(filename, 'r') as file:\n",
        "      lines = file.readlines()\n",
        "      for i in range(start_line - 1, end_line):\n",
        "        if i < len(lines):\n",
        "          print(lines[i].strip())\n",
        "  except FileNotFoundError:\n",
        "    print(f\"Error: File '{filename}' not found.\")\n",
        "\n",
        "# Example usage\n",
        "read_specific_lines(\"my_file.txt\", 2, 5)"
      ],
      "metadata": {
        "colab": {
          "base_uri": "https://localhost:8080/"
        },
        "id": "Q0tD0smxQzlm",
        "outputId": "bbd03189-0d25-4cbf-c52c-6cff6b9b8cfc"
      },
      "execution_count": null,
      "outputs": [
        {
          "output_type": "stream",
          "name": "stdout",
          "text": [
            "Error: File 'my_file.txt' not found.\n"
          ]
        }
      ]
    },
    {
      "cell_type": "markdown",
      "source": [
        "write\n"
      ],
      "metadata": {
        "id": "c_xdntT2Q9pD"
      }
    },
    {
      "cell_type": "code",
      "source": [
        "def write_string_to_file(filename, content):\n",
        "  \"\"\"Writes a string to a file.\"\"\"\n",
        "  try:\n",
        "    with open(filename, 'w') as file:\n",
        "      file.write(content)\n",
        "  except FileNotFoundError:\n",
        "    print(f\"Error: Could not write to file '{filename}'.\")\n",
        "\n",
        "# Example usage\n",
        "write_string_to_file(\"output.txt\", \"This is the content to be written.\")"
      ],
      "metadata": {
        "id": "bya8yNAPQ_8a"
      },
      "execution_count": null,
      "outputs": []
    },
    {
      "cell_type": "code",
      "source": [
        "def write_list_to_file(filename, data):\n",
        "  \"\"\"Writes a list to a file.\"\"\"\n",
        "  try:\n",
        "    with open(filename, 'w') as file:\n",
        "      for item in data:\n",
        "        file.write(str(item) + '\\n')\n",
        "  except FileNotFoundError:\n",
        "    print(f\"Error: Could not write to file '{filename}'.\")\n",
        "\n",
        "# Example usage\n",
        "my_list = [1, 2, 3, \"hello\", \"world\"]\n",
        "write_list_to_file(\"numbers.txt\", my_list)"
      ],
      "metadata": {
        "id": "UunFjl9tRTam"
      },
      "execution_count": null,
      "outputs": []
    },
    {
      "cell_type": "code",
      "source": [
        "import csv\n",
        "\n",
        "def write_data_to_csv(filename, data):\n",
        "  \"\"\"Writes data to a CSV file.\"\"\"\n",
        "  try:\n",
        "    with open(filename, 'w', newline='') as file:\n",
        "      writer = csv.writer(file)\n",
        "      writer.writerows(data)\n",
        "  except FileNotFoundError:\n",
        "    print(f\"Error: Could not write to file '{filename}'.\")\n",
        "\n",
        "# Example usage\n",
        "my_data = [['Name', 'Age'], ['John', 30], ['Jane', 25]]\n",
        "write_data_to_csv(\"user_data.csv\", my_data)"
      ],
      "metadata": {
        "id": "sj2jWCY3Rjyo"
      },
      "execution_count": null,
      "outputs": []
    },
    {
      "cell_type": "markdown",
      "source": [
        "append"
      ],
      "metadata": {
        "id": "KEDGPQ_ERxBx"
      }
    },
    {
      "cell_type": "code",
      "source": [
        "def append_to_binary_file(filename, data):\n",
        "  \"\"\"Appends data to a binary file.\"\"\"\n",
        "  try:\n",
        "    with open(filename, 'ab') as file:\n",
        "      file.write(data)\n",
        "  except FileNotFoundError:\n",
        "    print(f\"Error: Could not append to file '{filename}'.\")\n",
        "\n",
        "# Example usage\n",
        "append_to_binary_file(\"image.jpg\", b\"some_binary_data\")\n"
      ],
      "metadata": {
        "id": "iNlwc4XTRyY1"
      },
      "execution_count": null,
      "outputs": []
    },
    {
      "cell_type": "code",
      "source": [
        "def append_list_to_file(filename, data):\n",
        "  \"\"\"Appends a list to the end of a file.\"\"\"\n",
        "  try:\n",
        "    with open(filename, 'a') as file:\n",
        "      for item in data:\n",
        "        file.write(str(item) + '\\n')\n",
        "  except FileNotFoundError:\n",
        "    print(f\"Error: Could not append to file '{filename}'.\")\n",
        "\n",
        "# Example usage\n",
        "my_list = [\"item1\", \"item2\"]\n",
        "append_list_to_file(\"items.txt\", my_list)"
      ],
      "metadata": {
        "id": "fEu9H6vOR6pc"
      },
      "execution_count": null,
      "outputs": []
    },
    {
      "cell_type": "code",
      "source": [
        "def append_string_to_file(filename, content):\n",
        "  \"\"\"Appends a string to the end of a file.\"\"\"\n",
        "  try:\n",
        "    with open(filename, 'a') as file:\n",
        "      file.write(content + '\\n')\n",
        "  except FileNotFoundError:\n",
        "    print(f\"Error: Could not append to file '{filename}'.\")\n",
        "\n",
        "# Example usage\n",
        "append_string_to_file(\"log.txt\", \"New log entry.\")"
      ],
      "metadata": {
        "id": "0Vmawc0BSJPs"
      },
      "execution_count": null,
      "outputs": []
    }
  ]
}