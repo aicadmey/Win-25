{
  "cells": [
    {
      "cell_type": "markdown",
      "id": "17515dbd-f29f-442f-aacf-7e2e4062ab31",
      "metadata": {
        "id": "17515dbd-f29f-442f-aacf-7e2e4062ab31"
      },
      "source": [
        "ERROR HANDLING"
      ]
    },
    {
      "cell_type": "code",
      "execution_count": null,
      "id": "64e08126-4074-4f6c-919d-7635468661a7",
      "metadata": {
        "id": "64e08126-4074-4f6c-919d-7635468661a7",
        "outputId": "6715562d-318c-4d81-dde5-8c6799f39c48"
      },
      "outputs": [
        {
          "name": "stdin",
          "output_type": "stream",
          "text": [
            "Enter a number:  9\n",
            "Enter second number:  8\n"
          ]
        },
        {
          "name": "stdout",
          "output_type": "stream",
          "text": [
            "Type error, the operand '/' not use for strings.\n"
          ]
        }
      ],
      "source": [
        "a = input(\"Enter a number: \")\n",
        "b = input(\"Enter second number: \")\n",
        "try:\n",
        "    c=a/b\n",
        "except:\n",
        "    print(\"Type error, the operand '/' not use for strings.\")\n"
      ]
    },
    {
      "cell_type": "code",
      "execution_count": null,
      "id": "ca6ea7ae-052c-4bdc-ae44-e07837d9ef81",
      "metadata": {
        "id": "ca6ea7ae-052c-4bdc-ae44-e07837d9ef81",
        "outputId": "20890c5f-b07a-4ed7-a8d4-243df43c5ae3"
      },
      "outputs": [
        {
          "name": "stdin",
          "output_type": "stream",
          "text": [
            "Enter first number:  67\n",
            "Enter second number:  0\n"
          ]
        },
        {
          "name": "stdout",
          "output_type": "stream",
          "text": [
            "Try again and not enter 0 as denominator.\n"
          ]
        }
      ],
      "source": [
        "d = int(input(\"Enter first number: \"))\n",
        "e = int(input(\"Enter second number: \"))\n",
        "try:\n",
        "    f = f/e\n",
        "except:\n",
        "    print(\"Try again and not enter 0 as denominator.\")"
      ]
    },
    {
      "cell_type": "code",
      "execution_count": null,
      "id": "e1dabc33-6725-48e6-864b-ad7376606a64",
      "metadata": {
        "id": "e1dabc33-6725-48e6-864b-ad7376606a64",
        "outputId": "3a1d35f9-1a91-453b-9b02-5707df6ac45d"
      },
      "outputs": [
        {
          "name": "stdin",
          "output_type": "stream",
          "text": [
            "Enter the index: 6\n"
          ]
        },
        {
          "name": "stdout",
          "output_type": "stream",
          "text": [
            "Type again, list index is out of range.\n"
          ]
        }
      ],
      "source": [
        "marks = [98, 76, 65,84]\n",
        "index = int(input(\"Enter the index:\"))\n",
        "try:\n",
        "    print(marks[index])\n",
        "except:\n",
        "    print(\"Type again, list index is out of range.\")"
      ]
    },
    {
      "cell_type": "code",
      "execution_count": null,
      "id": "9758b1ca-6a6d-4123-a9f5-99084fd1f479",
      "metadata": {
        "id": "9758b1ca-6a6d-4123-a9f5-99084fd1f479",
        "outputId": "5601f5c3-ba60-48ce-c3b6-11642ebb4916"
      },
      "outputs": [
        {
          "name": "stdin",
          "output_type": "stream",
          "text": [
            "Enter number:  -4\n"
          ]
        },
        {
          "name": "stdout",
          "output_type": "stream",
          "text": [
            "Enter number again but not enter negative integers.\n"
          ]
        }
      ],
      "source": [
        "import math\n",
        "num = int(input(\"Enter number: \"))\n",
        "try:\n",
        "    print(math.sqrt(num))\n",
        "except:\n",
        "    print(\"Enter number again but not enter negative integers.\")"
      ]
    },
    {
      "cell_type": "code",
      "execution_count": null,
      "id": "cc3e885c-202f-46a5-b618-47e5b290776c",
      "metadata": {
        "id": "cc3e885c-202f-46a5-b618-47e5b290776c",
        "outputId": "3c6a9b23-4264-40e9-abc5-62d0a738c958"
      },
      "outputs": [
        {
          "name": "stdin",
          "output_type": "stream",
          "text": [
            "Enter key name gender\n"
          ]
        },
        {
          "name": "stdout",
          "output_type": "stream",
          "text": [
            "Enter valid key name of dictionary.\n"
          ]
        }
      ],
      "source": [
        "dict = {\"name\":\"mannan\", \"age\":13}\n",
        "keyname=input(\"Enter key name\")\n",
        "try:\n",
        "    print(dict[keyname])\n",
        "except:\n",
        "    print(\"Enter valid key name of dictionary.\")"
      ]
    },
    {
      "cell_type": "markdown",
      "id": "6ca72ff1-46cb-4586-b251-3ef2a3be65a8",
      "metadata": {
        "id": "6ca72ff1-46cb-4586-b251-3ef2a3be65a8"
      },
      "source": [
        "FILE HANDLING"
      ]
    },
    {
      "cell_type": "code",
      "execution_count": null,
      "id": "6ed2f4dd-0772-423e-bcad-75009ad1e5f6",
      "metadata": {
        "id": "6ed2f4dd-0772-423e-bcad-75009ad1e5f6",
        "outputId": "abd41ebc-7811-4cdb-d7fd-f005568e86c7"
      },
      "outputs": [
        {
          "data": {
            "text/plain": [
              "17"
            ]
          },
          "execution_count": 25,
          "metadata": {},
          "output_type": "execute_result"
        }
      ],
      "source": [
        "myfile = \"person.txt\"\n",
        "file = open(myfile, \"w\")\n",
        "file.write(\"Assalam o Alaikum\")"
      ]
    },
    {
      "cell_type": "code",
      "execution_count": null,
      "id": "a0dc81f0-0348-4e73-beda-be9e299af008",
      "metadata": {
        "id": "a0dc81f0-0348-4e73-beda-be9e299af008",
        "outputId": "866798df-8d17-422c-ba46-3dc4923b912a"
      },
      "outputs": [
        {
          "name": "stdout",
          "output_type": "stream",
          "text": [
            "Assalam o Alaikum\n"
          ]
        }
      ],
      "source": [
        "myfile = \"person.txt\"\n",
        "file = open(myfile, \"r\")\n",
        "greetings = file.read()\n",
        "print(greetings)\n",
        "file.close()"
      ]
    },
    {
      "cell_type": "code",
      "execution_count": null,
      "id": "009b65d4-7fb8-4e65-8a64-4757d98507ce",
      "metadata": {
        "id": "009b65d4-7fb8-4e65-8a64-4757d98507ce",
        "outputId": "ce7e8494-74f0-4c5d-f2dd-aa9a4bcafc61"
      },
      "outputs": [
        {
          "name": "stdout",
          "output_type": "stream",
          "text": [
            "9\n"
          ]
        }
      ],
      "source": [
        "myfile = \"person.txt\"\n",
        "file = open(myfile, \"a\")\n",
        "file.write(\"\\nMe Zahra\")\n",
        "file.close()"
      ]
    },
    {
      "cell_type": "code",
      "execution_count": null,
      "id": "cd3bedc3-0785-48d4-bfc9-14232674c975",
      "metadata": {
        "id": "cd3bedc3-0785-48d4-bfc9-14232674c975",
        "outputId": "cd7a5c28-f0b7-4c2a-d844-87cff3c22fe8"
      },
      "outputs": [
        {
          "name": "stdout",
          "output_type": "stream",
          "text": [
            "Assalam o Alaikum\n",
            "Me Zahra\n"
          ]
        }
      ],
      "source": [
        "myfile = \"person.txt\"\n",
        "file = open(myfile, \"r\")\n",
        "content = file.read()\n",
        "print(content)\n",
        "file.close()"
      ]
    },
    {
      "cell_type": "code",
      "execution_count": null,
      "id": "fd1deaab-2631-4fdf-b416-3c02a0815061",
      "metadata": {
        "id": "fd1deaab-2631-4fdf-b416-3c02a0815061",
        "outputId": "743c6e4d-40a8-4883-d08c-db62df3dd341"
      },
      "outputs": [
        {
          "data": {
            "text/plain": [
              "22"
            ]
          },
          "execution_count": 35,
          "metadata": {},
          "output_type": "execute_result"
        }
      ],
      "source": [
        "myfile = \"person.txt\"\n",
        "file = open(myfile, \"w\")\n",
        "file.write(\"This is python program\")\n"
      ]
    },
    {
      "cell_type": "code",
      "execution_count": null,
      "id": "3b62ede6-a450-4ba1-80cc-c8a004215993",
      "metadata": {
        "id": "3b62ede6-a450-4ba1-80cc-c8a004215993"
      },
      "outputs": [],
      "source": [
        "myfile = \"person.txt\"\n",
        "file = open(myfile, \"a\")\n",
        "file.write(\"\\nI'm writing code for file handling\")\n",
        "file.close()"
      ]
    },
    {
      "cell_type": "code",
      "execution_count": null,
      "id": "fe0239e6-5083-4ff6-8540-f2d5e66e193d",
      "metadata": {
        "id": "fe0239e6-5083-4ff6-8540-f2d5e66e193d",
        "outputId": "241ee0ef-7a53-47f4-82bf-0549791280db"
      },
      "outputs": [
        {
          "name": "stdout",
          "output_type": "stream",
          "text": [
            "This is python programI'm writing code for file handlingI'm writing code for file handling\n",
            "I'm writing code for file handling\n"
          ]
        }
      ],
      "source": [
        "myfile = \"person.txt\"\n",
        "file = open(myfile, \"r\")\n",
        "content = file.read()\n",
        "print(content)\n",
        "file.close()"
      ]
    },
    {
      "cell_type": "code",
      "execution_count": null,
      "id": "6a62415a-0104-473a-baf1-ad2503a7e0d4",
      "metadata": {
        "id": "6a62415a-0104-473a-baf1-ad2503a7e0d4"
      },
      "outputs": [],
      "source": [
        "myfile = \"person.txt\"\n",
        "file = open(myfile, \"w\")\n",
        "file.write(\"We have also done basic python\")\n",
        "file.close()"
      ]
    },
    {
      "cell_type": "code",
      "execution_count": null,
      "id": "94b51679-d70e-48f4-bc7e-5b03b150ba87",
      "metadata": {
        "id": "94b51679-d70e-48f4-bc7e-5b03b150ba87"
      },
      "outputs": [],
      "source": [
        "myfile = \"person.txt\"\n",
        "file = open(myfile, \"a\")\n",
        "file.write(\" ,like conditions, loops, functions, inheritance, polymorphism, encapsulation\")\n",
        "file.close()"
      ]
    },
    {
      "cell_type": "code",
      "execution_count": null,
      "id": "7375f78c-e1f1-40d1-89c7-fe80011e921b",
      "metadata": {
        "id": "7375f78c-e1f1-40d1-89c7-fe80011e921b",
        "outputId": "a70c6def-1685-463c-b8c2-0bf4de1b581a"
      },
      "outputs": [
        {
          "name": "stdout",
          "output_type": "stream",
          "text": [
            "We have also done basic python ,like conditions, loops, functions, inheritance, polymorphism, encapsulation\n"
          ]
        }
      ],
      "source": [
        "myfile = \"person.txt\"\n",
        "file = open(myfile, \"r\")\n",
        "content = file.read()\n",
        "print(content)\n",
        "file.close()"
      ]
    }
  ],
  "metadata": {
    "kernelspec": {
      "display_name": "Python 3 (ipykernel)",
      "language": "python",
      "name": "python3"
    },
    "language_info": {
      "codemirror_mode": {
        "name": "ipython",
        "version": 3
      },
      "file_extension": ".py",
      "mimetype": "text/x-python",
      "name": "python",
      "nbconvert_exporter": "python",
      "pygments_lexer": "ipython3",
      "version": "3.11.7"
    },
    "colab": {
      "provenance": []
    }
  },
  "nbformat": 4,
  "nbformat_minor": 5
}