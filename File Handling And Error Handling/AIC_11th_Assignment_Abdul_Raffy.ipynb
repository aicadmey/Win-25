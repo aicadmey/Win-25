{
  "nbformat": 4,
  "nbformat_minor": 0,
  "metadata": {
    "colab": {
      "provenance": []
    },
    "kernelspec": {
      "name": "python3",
      "display_name": "Python 3"
    },
    "language_info": {
      "name": "python"
    }
  },
  "cells": [
    {
      "cell_type": "code",
      "execution_count": null,
      "metadata": {
        "id": "CdgbKKD4IvoI",
        "colab": {
          "base_uri": "https://localhost:8080/"
        },
        "outputId": "ba225d30-f8db-48d0-aa73-38561ad74c89"
      },
      "outputs": [
        {
          "output_type": "stream",
          "name": "stdout",
          "text": [
            "This robot is moving.\n",
            "Raymax is running.\n"
          ]
        }
      ],
      "source": [
        "# inheritance example 1\n",
        "class Robot:\n",
        "    def Move(self):\n",
        "        return \"This robot is moving.\"\n",
        "\n",
        "class Raymax(Robot):\n",
        "    def Run(self):\n",
        "        return \"Raymax is running.\"\n",
        "\n",
        "raymax = Raymax()\n",
        "print(raymax.Move())\n",
        "print(raymax.Run())"
      ]
    },
    {
      "cell_type": "code",
      "source": [
        "# example 2 (Multiple inheritance)\n",
        "\n",
        "class robot:\n",
        "    def Move(self):\n",
        "        print(\"This robot is moving.\")\n",
        "\n",
        "class Dancer:\n",
        "    def Dance(self):\n",
        "        print(\"Raymax can Dance\")\n",
        "\n",
        "class raymax(robot, Dancer):\n",
        "    def sings(self):\n",
        "        print(\"Raymax sings.\")\n",
        "\n",
        "\n",
        "raymax = raymax()\n",
        "raymax.Move()\n",
        "raymax.Dance()\n",
        "raymax.sings()\n"
      ],
      "metadata": {
        "colab": {
          "base_uri": "https://localhost:8080/"
        },
        "id": "z83-UzPPlwa7",
        "outputId": "f6553224-bbe9-4673-92f0-bc9580ff53c5"
      },
      "execution_count": null,
      "outputs": [
        {
          "output_type": "stream",
          "name": "stdout",
          "text": [
            "This robot is moving.\n",
            "Raymax can Dance\n",
            "The raymax sings.\n"
          ]
        }
      ]
    },
    {
      "cell_type": "code",
      "source": [
        "# Polymorphism 1\n",
        "class Robot:\n",
        "    def Move(self):\n",
        "        return \"This robot is moving.\"\n",
        "\n",
        "class Raymax(Robot):\n",
        "    def Move(self):  # Overriding the parent class method\n",
        "        return \"Raymax is moving swiftly.\"\n",
        "\n",
        "# Polymorphism\n",
        "def move_robot(robot):\n",
        "    print(robot.Move())\n",
        "\n",
        "\n",
        "robot = Robot()\n",
        "raymax = Raymax()\n",
        "\n",
        "move_robot(robot)\n",
        "move_robot(raymax)\n"
      ],
      "metadata": {
        "colab": {
          "base_uri": "https://localhost:8080/"
        },
        "id": "yeg_ivEVpqTH",
        "outputId": "b457910c-c9c3-4a83-8334-c19bbd54dc6e"
      },
      "execution_count": null,
      "outputs": [
        {
          "output_type": "stream",
          "name": "stdout",
          "text": [
            "This robot is moving.\n",
            "Raymax is moving swiftly.\n"
          ]
        }
      ]
    },
    {
      "cell_type": "code",
      "source": [
        "#  Poly #2\n",
        "class Robot:\n",
        "    def dance(self):\n",
        "        return \"This robot is dancing.\"\n",
        "\n",
        "    def sing(self):\n",
        "        return \"This robot is singing.\"\n",
        "\n",
        "class Raymax(Robot):\n",
        "    def dance(self):\n",
        "        return \"Raymax is performing a breakdance!\"\n",
        "\n",
        "    def sing(self):\n",
        "        return \"Raymax is singing a techno song.\"\n",
        "\n",
        "# Polymorphism\n",
        "def perform_actions(robot):\n",
        "    print(robot.dance())\n",
        "    print(robot.sing())\n",
        "\n",
        "\n",
        "robot = Robot()\n",
        "raymax = Raymax()\n",
        "\n",
        "perform_actions(robot)\n",
        "perform_actions(raymax)"
      ],
      "metadata": {
        "colab": {
          "base_uri": "https://localhost:8080/"
        },
        "id": "1n1dQUqmqsYF",
        "outputId": "1de717e1-19e7-4848-a5c8-e2874aff9454"
      },
      "execution_count": null,
      "outputs": [
        {
          "output_type": "stream",
          "name": "stdout",
          "text": [
            "This robot is dancing.\n",
            "This robot is singing.\n",
            "Raymax is performing a breakdance!\n",
            "Raymax is singing a techno song.\n"
          ]
        }
      ]
    },
    {
      "cell_type": "code",
      "source": [
        "#  Encapsulation 1\n",
        "class Robot:\n",
        "    def __init__(self):\n",
        "        self.__movement_type = \"Walking\"\n",
        "\n",
        "    def get_movement_type(self):\n",
        "        return f\"Robot is {self.__movement_type.lower()}.\"\n",
        "\n",
        "class Raymax(Robot):\n",
        "    def __init__(self):\n",
        "        super().__init__()\n",
        "        self.__movement_type = \"Running\"\n",
        "\n",
        "    def get_movement_type(self):\n",
        "        return f\"Raymax is {self.__movement_type.lower()} quickly.\"\n",
        "\n",
        "# Encapsulation\n",
        "robot = Robot()\n",
        "raymax = Raymax()\n",
        "\n",
        "print(robot.get_movement_type())\n",
        "print(raymax.get_movement_type())\n"
      ],
      "metadata": {
        "colab": {
          "base_uri": "https://localhost:8080/"
        },
        "id": "JcENBW8C1DvW",
        "outputId": "b3d5d284-db8b-446b-c62f-f90ca184bb9e"
      },
      "execution_count": null,
      "outputs": [
        {
          "output_type": "stream",
          "name": "stdout",
          "text": [
            "Robot is walking.\n",
            "Raymax is running quickly.\n"
          ]
        }
      ]
    },
    {
      "cell_type": "code",
      "source": [
        "#  Encapsulation 2\n",
        "class Robot:\n",
        "    def __init__(self):\n",
        "        self.__dance_moves = \"Basic robotic dance steps.\"\n",
        "\n",
        "    def get_dance_moves(self):\n",
        "        return self.__dance_moves\n",
        "\n",
        "class Raymax(Robot):\n",
        "    def __init__(self):\n",
        "        super().__init__()\n",
        "        self.__dance_moves = \"Raymax's advanced breakdance!\"\n",
        "\n",
        "    def get_dance_moves(self):\n",
        "        return self.__dance_moves\n",
        "\n",
        "# Encapsulation\n",
        "robot = Robot()\n",
        "raymax = Raymax()\n",
        "\n",
        "print(robot.get_dance_moves())\n",
        "print(raymax.get_dance_moves())\n"
      ],
      "metadata": {
        "colab": {
          "base_uri": "https://localhost:8080/"
        },
        "id": "y9sl8fN_6mvS",
        "outputId": "512c5ea4-8205-4983-de88-b69af9fcbb3e"
      },
      "execution_count": null,
      "outputs": [
        {
          "output_type": "stream",
          "name": "stdout",
          "text": [
            "Basic robotic dance steps.\n",
            "Raymax's advanced breakdance!\n"
          ]
        }
      ]
    }
  ]
}