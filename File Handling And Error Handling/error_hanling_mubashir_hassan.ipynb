{
  "nbformat": 4,
  "nbformat_minor": 0,
  "metadata": {
    "colab": {
      "provenance": []
    },
    "kernelspec": {
      "name": "python3",
      "display_name": "Python 3"
    },
    "language_info": {
      "name": "python"
    }
  },
  "cells": [
    {
      "cell_type": "markdown",
      "source": [
        "error handling"
      ],
      "metadata": {
        "id": "jrgr90cySuys"
      }
    },
    {
      "cell_type": "code",
      "execution_count": null,
      "metadata": {
        "colab": {
          "base_uri": "https://localhost:8080/"
        },
        "id": "Ji9CgDYWSWsB",
        "outputId": "a37ade90-fb02-4dbc-ddc6-3b17ec70b936"
      },
      "outputs": [
        {
          "output_type": "stream",
          "name": "stdout",
          "text": [
            "Error: Division by zero!\n"
          ]
        }
      ],
      "source": [
        "try:\n",
        "  result = 10 / 0\n",
        "except ZeroDivisionError:\n",
        "  print(\"Error: Division by zero!\")"
      ]
    },
    {
      "cell_type": "code",
      "source": [
        "try:\n",
        "  with open(\"nonexistent_file.txt\", \"r\") as file:\n",
        "    data = file.read()\n",
        "except FileNotFoundError:\n",
        "  print(\"Error: File not found!\")"
      ],
      "metadata": {
        "colab": {
          "base_uri": "https://localhost:8080/"
        },
        "id": "oquhO0ZvYCwD",
        "outputId": "f54efba3-7f80-4a20-ac23-7503b241121a"
      },
      "execution_count": null,
      "outputs": [
        {
          "output_type": "stream",
          "name": "stdout",
          "text": [
            "Error: File not found!\n"
          ]
        }
      ]
    },
    {
      "cell_type": "code",
      "source": [
        "try:\n",
        "  number = int(\"abc\")\n",
        "except ValueError:\n",
        "  print(\"Error: Invalid input. Please enter a valid number.\")"
      ],
      "metadata": {
        "colab": {
          "base_uri": "https://localhost:8080/"
        },
        "id": "de3EXM6zYF2x",
        "outputId": "cf57c777-d508-47b8-e82a-c4a7346bd1a0"
      },
      "execution_count": null,
      "outputs": [
        {
          "output_type": "stream",
          "name": "stdout",
          "text": [
            "Error: Invalid input. Please enter a valid number.\n"
          ]
        }
      ]
    }
  ]
}