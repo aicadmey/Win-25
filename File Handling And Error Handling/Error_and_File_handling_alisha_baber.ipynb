{
  "nbformat": 4,
  "nbformat_minor": 0,
  "metadata": {
    "colab": {
      "provenance": []
    },
    "kernelspec": {
      "name": "python3",
      "display_name": "Python 3"
    },
    "language_info": {
      "name": "python"
    }
  },
  "cells": [
    {
      "cell_type": "markdown",
      "source": [
        "# **Error Handling.**"
      ],
      "metadata": {
        "id": "JYEFpp76OOQn"
      }
    },
    {
      "cell_type": "code",
      "source": [
        "a=int(input(\"Enter a number:\"))\n",
        "b=int(input(\"Enter a number:\"))\n",
        "\n",
        "try:\n",
        "  c=(a+b)\n",
        "  print(f\"the sum is:{c}\")\n",
        "except:\n",
        "  print(\"An exception occurred\")\n",
        "  print(c)\n",
        "\n",
        "\n",
        "\n",
        "\n"
      ],
      "metadata": {
        "colab": {
          "base_uri": "https://localhost:8080/"
        },
        "id": "ygSekDxIOZkr",
        "outputId": "d7d312a2-2a92-44b2-fbe2-ae32ea0950dc"
      },
      "execution_count": null,
      "outputs": [
        {
          "output_type": "stream",
          "name": "stdout",
          "text": [
            "Enter a number:33\n",
            "Enter a number:22\n",
            "the sum is:55\n"
          ]
        }
      ]
    },
    {
      "cell_type": "code",
      "source": [
        "a=float(input(\"Enter a number:\"))\n",
        "b=float(input(\"Enter a number:\"))\n",
        "\n",
        "try:\n",
        "  c=(a/b)\n",
        "  print(f\"the division is:{c}\")\n",
        "except:                                # The except block only runs if an exception is raised during the execution of the code inside the try block.\n",
        "  print(\"see: this is a answer\")\n",
        "  print(c)"
      ],
      "metadata": {
        "colab": {
          "base_uri": "https://localhost:8080/"
        },
        "id": "OvtnL_WMQzcs",
        "outputId": "9294006f-fa93-42ee-f840-0523e92715bd"
      },
      "execution_count": null,
      "outputs": [
        {
          "output_type": "stream",
          "name": "stdout",
          "text": [
            "Enter a number:3.33\n",
            "Enter a number:2.33\n",
            "the division is:1.4291845493562232\n"
          ]
        }
      ]
    },
    {
      "cell_type": "code",
      "source": [
        "a = int(input(\"Enter a number:\"))  # Enter \"abc\" to trigger a ValueError\n",
        "b = int(input(\"Enter a number:\"))  # Enter \"xyz\" to trigger a ValueError\n",
        "\n",
        "try:\n",
        "    c = (a + b)  # This will not execute if the input is invalid\n",
        "except ValueError:\n",
        "    print(\"An exception occurred\")\n"
      ],
      "metadata": {
        "colab": {
          "base_uri": "https://localhost:8080/"
        },
        "id": "5qQJHYosTPzv",
        "outputId": "e91e0a59-e5e8-4652-f46a-2c0d6d84096b"
      },
      "execution_count": null,
      "outputs": [
        {
          "name": "stdout",
          "output_type": "stream",
          "text": [
            "Enter a number:6\n",
            "Enter a number:88\n"
          ]
        }
      ]
    },
    {
      "cell_type": "code",
      "source": [
        "try:\n",
        "    a = int(input(\"Enter a number: \"))  # Enter \"abc\" or another invalid value to trigger an exception\n",
        "    b = int(input(\"Enter another number: \"))\n",
        "    c = a + b\n",
        "    print(f\"The sum is: {c}\")\n",
        "except ValueError:\n",
        "    print(\"An exception occurred: Please enter valid numbers.\")"
      ],
      "metadata": {
        "colab": {
          "base_uri": "https://localhost:8080/"
        },
        "id": "DsYmQcv8Ugm7",
        "outputId": "2d0a35ac-fde4-42cc-dec3-67bec325ddce"
      },
      "execution_count": null,
      "outputs": [
        {
          "output_type": "stream",
          "name": "stdout",
          "text": [
            "Enter a number: h\n",
            "An exception occurred: Please enter valid numbers.\n"
          ]
        }
      ]
    },
    {
      "cell_type": "code",
      "source": [
        "try:\n",
        "    a = int(input(\"Enter the numerator: \"))\n",
        "    b = int(input(\"Enter the denominator: \"))\n",
        "    result = a / b\n",
        "    print(f\"The result is: {result}\")\n",
        "except ZeroDivisionError:\n",
        "    print(\"An exception occurred: Division by zero is not allowed.\")\n",
        "except ValueError:\n",
        "    print(\"An exception occurred: Please enter valid numbers.\")"
      ],
      "metadata": {
        "colab": {
          "base_uri": "https://localhost:8080/"
        },
        "id": "N4IQcOkFVNOl",
        "outputId": "4a7ca204-355e-4489-c358-43196fb19ffd"
      },
      "execution_count": null,
      "outputs": [
        {
          "output_type": "stream",
          "name": "stdout",
          "text": [
            "Enter the numerator: g\n",
            "An exception occurred: Please enter valid numbers.\n"
          ]
        }
      ]
    },
    {
      "cell_type": "markdown",
      "source": [
        "# **File Handling**"
      ],
      "metadata": {
        "id": "-eZ2s3nWVxCm"
      }
    },
    {
      "cell_type": "markdown",
      "source": [
        "**1. read 'r'**"
      ],
      "metadata": {
        "id": "i42raExnV3fm"
      }
    },
    {
      "cell_type": "code",
      "source": [
        "# Open the file in read mode\n",
        "file = open('example.txt', 'r')\n",
        "\n",
        "# Read the content of the file\n",
        "content = file.read()\n",
        "\n",
        "# Print the content\n",
        "print(\"File Content:\")\n",
        "print(content)\n",
        "\n",
        "# Close the file\n",
        "file.close()"
      ],
      "metadata": {
        "id": "yQlgYfCGXfUx"
      },
      "execution_count": null,
      "outputs": []
    },
    {
      "cell_type": "code",
      "source": [
        "with open=('example.txt','r') as file:\n",
        "  file=file.read()\n",
        "  print(\"fiel appears:\")\n",
        "  print(file)"
      ],
      "metadata": {
        "id": "BPqUiV8tQiNY"
      },
      "execution_count": null,
      "outputs": []
    },
    {
      "cell_type": "code",
      "source": [
        "# Open the file in read mode\n",
        "with open('example.txt', 'r') as file:\n",
        "    # Read the content of the file\n",
        "    content = file.read()\n",
        "\n",
        "# Print the content\n",
        "print(\"File openss:\")\n",
        "print(content)"
      ],
      "metadata": {
        "id": "DU-uyFJnRsZQ"
      },
      "execution_count": null,
      "outputs": []
    },
    {
      "cell_type": "markdown",
      "source": [
        "**2. write 'w'**"
      ],
      "metadata": {
        "id": "OFbfZ9SHR9IW"
      }
    },
    {
      "cell_type": "code",
      "source": [
        "# Open the file in write mode\n",
        "with open('example.txt', 'w') as file:\n",
        "    # Write content to the file\n",
        "    file.write(\"Hello, Python!\\n\")\n",
        "    file.write(\"File handling in write mode is simple.\\n\")\n",
        "\n",
        "print(\"Content written to 'example.txt'\")"
      ],
      "metadata": {
        "id": "-ROKbOu9SBsi"
      },
      "execution_count": null,
      "outputs": []
    },
    {
      "cell_type": "code",
      "source": [
        "f=open('example.txt','w')\n",
        "f.write(\"Hello, Python!\\n\")\n",
        "f.write(\"python is important for intreviews\")\n",
        "f.close()\n",
        "\n"
      ],
      "metadata": {
        "id": "M68MUCxyUU4u"
      },
      "execution_count": null,
      "outputs": []
    },
    {
      "cell_type": "code",
      "source": [
        "f=open('example.txt','r')\n",
        "f.write(\" easy to read and write.\")\n",
        "f.close()\n"
      ],
      "metadata": {
        "id": "yfUJlEFGV51M"
      },
      "execution_count": null,
      "outputs": []
    },
    {
      "cell_type": "markdown",
      "source": [
        "**3. Append 'a'**"
      ],
      "metadata": {
        "id": "FMbYN4yuWYYW"
      }
    },
    {
      "cell_type": "code",
      "source": [
        "# Open the file in append mode\n",
        "with open('example.txt', 'a') as file:\n",
        "    # Append content to the file\n",
        "    file.write(\"Appending this line to the file.\\n\")\n",
        "    file.write(\"File handling in append mode is fun!\\n\")\n",
        "\n",
        "print(\"Content appended to 'example.txt'\")"
      ],
      "metadata": {
        "id": "Usd39lqbWzqz"
      },
      "execution_count": null,
      "outputs": []
    },
    {
      "cell_type": "code",
      "source": [
        "# Appeding data to the fiel.\n",
        "with open=('example.txt','a') as file:\n",
        "  file.write(\"Alisha,Laiba,Umaima,Bushra,Haseeb,Anaya.\\n\")\n",
        "  print(\"Data successfully appended\")\n"
      ],
      "metadata": {
        "id": "9GFJD837W4km"
      },
      "execution_count": null,
      "outputs": []
    },
    {
      "cell_type": "code",
      "source": [
        "with open=('example.txt','a') as file:\n",
        "  file.write(\" 230,98,234,248,987,660,\\n\")\n",
        "  print(\"append numbers succesfully.\")"
      ],
      "metadata": {
        "id": "mWZlckv3XYnr"
      },
      "execution_count": null,
      "outputs": []
    },
    {
      "cell_type": "markdown",
      "source": [
        "# **THE END**"
      ],
      "metadata": {
        "id": "eRLhBHLmY_Zm"
      }
    }
  ]
}