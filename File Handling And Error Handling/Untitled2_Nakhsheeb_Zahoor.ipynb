{
  "nbformat": 4,
  "nbformat_minor": 0,
  "metadata": {
    "colab": {
      "provenance": []
    },
    "kernelspec": {
      "name": "python3",
      "display_name": "Python 3"
    },
    "language_info": {
      "name": "python"
    }
  },
  "cells": [
    {
      "cell_type": "code",
      "execution_count": null,
      "metadata": {
        "colab": {
          "base_uri": "https://localhost:8080/"
        },
        "id": "Zcq_5jewCqfT",
        "outputId": "44ac2bf9-8c2d-4384-e443-b9e042eb6dab"
      },
      "outputs": [
        {
          "output_type": "stream",
          "name": "stdout",
          "text": [
            "Error: Cannot divide by zero!\n",
            "not divisible with zero.\n"
          ]
        }
      ],
      "source": [
        "#error handling\n",
        "try:\n",
        "    # Division by zero error\n",
        "    result = 10 / 0\n",
        "except ZeroDivisionError:\n",
        "    print(\"Error: Cannot divide by zero!\")\n",
        "finally:\n",
        "    print(\"not divisible with zero.\")\n"
      ]
    },
    {
      "cell_type": "code",
      "source": [
        "try:\n",
        "\n",
        "    num = int(\"abc\")\n",
        "except ValueError:\n",
        "    print(\"Error: Invalid input, not a number.\")\n"
      ],
      "metadata": {
        "colab": {
          "base_uri": "https://localhost:8080/"
        },
        "id": "EQCHOWhJG7sQ",
        "outputId": "dc776566-9b58-42ba-9cc8-99adcfce3b3f"
      },
      "execution_count": null,
      "outputs": [
        {
          "output_type": "stream",
          "name": "stdout",
          "text": [
            "Error: Invalid input, not a number.\n"
          ]
        }
      ]
    },
    {
      "cell_type": "code",
      "source": [
        "try:\n",
        "\n",
        "    my_list = [1, 2, 3]\n",
        "    print(my_list[5])\n",
        "except IndexError:\n",
        "    print(\"Error: Index out of range.\")\n"
      ],
      "metadata": {
        "colab": {
          "base_uri": "https://localhost:8080/"
        },
        "id": "SFXZsLmRG_Q1",
        "outputId": "57ac637d-031c-449f-a0b8-1e048a384bb9"
      },
      "execution_count": null,
      "outputs": [
        {
          "output_type": "stream",
          "name": "stdout",
          "text": [
            "Error: Index out of range.\n"
          ]
        }
      ]
    },
    {
      "cell_type": "code",
      "source": [
        "#file handling\n",
        "# write\n",
        "with open(\"example.txt\", \"w\") as file:\n",
        "    file.write(\"Hello, i am Nakhsheeb\")\n",
        "    file.write(\"This is another line.\")\n",
        "\n",
        "print(\"my name is now known to you.\")\n"
      ],
      "metadata": {
        "colab": {
          "base_uri": "https://localhost:8080/"
        },
        "id": "rJBLFot0HO9N",
        "outputId": "8acb5eae-4dbc-46bf-d71a-9aff67a00915"
      },
      "execution_count": null,
      "outputs": [
        {
          "output_type": "stream",
          "name": "stdout",
          "text": [
            "my name is now known to you.\n"
          ]
        }
      ]
    },
    {
      "cell_type": "code",
      "source": [
        "with open(\"file_example2.txt\", \"w\") as file:\n",
        "    file.write(\"This will overwrite the existing content.\")\n",
        "\n",
        "print(\"File content overwritten successfully.\")\n"
      ],
      "metadata": {
        "colab": {
          "base_uri": "https://localhost:8080/"
        },
        "id": "ximIorxWIC4l",
        "outputId": "5031e26b-c3b9-4dcb-8a63-a68eb41cf183"
      },
      "execution_count": null,
      "outputs": [
        {
          "output_type": "stream",
          "name": "stdout",
          "text": [
            "File content overwritten successfully.\n"
          ]
        }
      ]
    },
    {
      "cell_type": "code",
      "source": [
        "with open(\"user_input.txt\", \"w\") as file:\n",
        "    file.write(input(\"Enter text: \"))\n",
        "\n",
        "print(\"Text saved to file.\")\n"
      ],
      "metadata": {
        "colab": {
          "base_uri": "https://localhost:8080/"
        },
        "id": "_Kblrf51IHou",
        "outputId": "a9f7d933-e30b-435e-9cb3-2b2b4253a039"
      },
      "execution_count": null,
      "outputs": [
        {
          "output_type": "stream",
          "name": "stdout",
          "text": [
            "Enter text: 12\n",
            "Text saved to file.\n"
          ]
        }
      ]
    },
    {
      "cell_type": "code",
      "source": [
        "#file handling\n",
        "#read\n",
        "\n",
        "with open(\"example.txt\", \"r\") as file:\n",
        "    content = file.read()\n",
        "\n",
        "# Print the content of the file\n",
        "print(content)\n"
      ],
      "metadata": {
        "colab": {
          "base_uri": "https://localhost:8080/"
        },
        "id": "8YfLJVHZIgqC",
        "outputId": "52d0297b-1bfa-4f51-d047-8cbcfa0e5056"
      },
      "execution_count": null,
      "outputs": [
        {
          "output_type": "stream",
          "name": "stdout",
          "text": [
            "Hello, i am NakhsheebThis is another line.\n"
          ]
        }
      ]
    },
    {
      "cell_type": "code",
      "source": [
        "\n",
        "with open(\"example.txt\", \"r\") as file:\n",
        "    content = file.read().replace('\\n', ' ')\n",
        "\n",
        "\n",
        "print(content)\n"
      ],
      "metadata": {
        "colab": {
          "base_uri": "https://localhost:8080/"
        },
        "id": "DMgFQXKSJFr-",
        "outputId": "c15f52a4-af04-4d11-c910-978d5054b97a"
      },
      "execution_count": null,
      "outputs": [
        {
          "output_type": "stream",
          "name": "stdout",
          "text": [
            "Hello, i am NakhsheebThis is another line.\n"
          ]
        }
      ]
    },
    {
      "cell_type": "code",
      "source": [
        "\n",
        "with open(\"example.txt\", \"r\") as file:\n",
        "    content = file.read()\n",
        "\n",
        "# Count the number of words\n",
        "word_count = len(content.split())\n",
        "\n",
        "# Print the word count\n",
        "print(f\"The file contains {word_count} words.\")\n"
      ],
      "metadata": {
        "colab": {
          "base_uri": "https://localhost:8080/"
        },
        "id": "Lbg_1QyqJu7L",
        "outputId": "38ab13ae-0d9f-4cc9-99c3-b0bbc25a5ba4"
      },
      "execution_count": null,
      "outputs": [
        {
          "output_type": "stream",
          "name": "stdout",
          "text": [
            "The file contains 7 words.\n"
          ]
        }
      ]
    },
    {
      "cell_type": "code",
      "source": [
        "#file handling\n",
        "#append\n",
        "\n",
        "with open(\"example.txt\", \"a\") as file:\n",
        "    file.write(\"Nakhsheeb, 19\")\n",
        "\n",
        "print(\"Text appended to the file successfully.\")\n"
      ],
      "metadata": {
        "colab": {
          "base_uri": "https://localhost:8080/"
        },
        "id": "cAIOmJgEJ2lE",
        "outputId": "49cc0150-7baa-4f65-d05b-861b1a820a51"
      },
      "execution_count": null,
      "outputs": [
        {
          "output_type": "stream",
          "name": "stdout",
          "text": [
            "Text appended to the file successfully.\n"
          ]
        }
      ]
    },
    {
      "cell_type": "code",
      "source": [
        "\n",
        "user_input = input(\"GSCWU:University \")\n",
        "\n",
        "# Open the file in append mode\n",
        "with open(\"example.txt\", \"a\") as file:\n",
        "   file.write(user_input + \"\\n\")\n",
        "\n",
        "print(\"User input appended to the file successfully.\")\n"
      ],
      "metadata": {
        "colab": {
          "base_uri": "https://localhost:8080/"
        },
        "id": "1zUuuLMkKeWf",
        "outputId": "dd3a8dbc-4758-4099-effc-b709b7fd02e4"
      },
      "execution_count": null,
      "outputs": [
        {
          "output_type": "stream",
          "name": "stdout",
          "text": [
            "GSCWU:University 1\n",
            "User input appended to the file successfully.\n"
          ]
        }
      ]
    },
    {
      "cell_type": "code",
      "source": [
        "\n",
        "task = input(\"sumbiting assignments: \")\n",
        "\n",
        "\n",
        "with open(\"todo_list.txt\", \"a\") as file:\n",
        "    file.write(task + \"\\n\")\n",
        "\n",
        "print(\"Task added to your to-do list.\")\n"
      ],
      "metadata": {
        "colab": {
          "base_uri": "https://localhost:8080/"
        },
        "id": "-Uxa4pNcKemR",
        "outputId": "343bd90b-046b-41a1-c5f2-85c0e40f410d"
      },
      "execution_count": null,
      "outputs": [
        {
          "output_type": "stream",
          "name": "stdout",
          "text": [
            "sumbiting assignments: 2\n",
            "Task added to your to-do list.\n"
          ]
        }
      ]
    }
  ]
}