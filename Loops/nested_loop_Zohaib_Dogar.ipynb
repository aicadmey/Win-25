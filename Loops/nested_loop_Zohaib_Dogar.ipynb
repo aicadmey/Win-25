{
  "cells": [
    {
      "cell_type": "code",
      "execution_count": null,
      "metadata": {
        "colab": {
          "background_save": true,
          "base_uri": "https://localhost:8080/"
        },
        "id": "3fhA5nvw5Dha",
        "outputId": "d3bab8c9-c16a-48f1-c616-49c9d45d5a62"
      },
      "outputs": [
        {
          "name": "stdout",
          "output_type": "stream",
          "text": [
            "2\n",
            "3\n",
            "4\n",
            "6\n",
            "6\n",
            "9\n",
            "8\n",
            "12\n",
            "\n",
            "10\n",
            "11\n",
            "12\n",
            "13\n",
            "14\n",
            "9\n",
            "10\n",
            "11\n",
            "12\n",
            "13\n",
            "8\n",
            "9\n",
            "10\n",
            "11\n",
            "12\n",
            "7\n",
            "8\n",
            "9\n",
            "10\n",
            "11\n",
            "6\n",
            "7\n",
            "8\n",
            "9\n",
            "10\n",
            "\n"
          ]
        }
      ],
      "source": [
        "#variable 1\n",
        "for i in range (1,5):\n",
        "   for j in range (2,4):\n",
        "     print (i*j)\n",
        "print()\n",
        "\n",
        "#variable 2\n",
        "for i in range(5,10):\n",
        "   for j in range (15,20):\n",
        "     print(j-i,end=\"/t\")\n",
        "print()"
      ]
    },
    {
      "cell_type": "code",
      "execution_count": null,
      "metadata": {
        "id": "AoOZ35PZ8uKg"
      },
      "outputs": [],
      "source": []
    }
  ],
  "metadata": {
    "colab": {
      "provenance": []
    },
    "kernelspec": {
      "display_name": "Python 3",
      "name": "python3"
    },
    "language_info": {
      "name": "python"
    }
  },
  "nbformat": 4,
  "nbformat_minor": 0
}