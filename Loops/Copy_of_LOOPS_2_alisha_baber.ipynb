{
  "nbformat": 4,
  "nbformat_minor": 0,
  "metadata": {
    "colab": {
      "provenance": []
    },
    "kernelspec": {
      "name": "python3",
      "display_name": "Python 3"
    },
    "language_info": {
      "name": "python"
    }
  },
  "cells": [
    {
      "cell_type": "markdown",
      "source": [
        "# task # 7\n",
        "# LOOPS"
      ],
      "metadata": {
        "id": "f4xhZzLnobYv"
      }
    },
    {
      "cell_type": "markdown",
      "source": [
        "**FOR LOOP**"
      ],
      "metadata": {
        "id": "dY8FRM9nolJU"
      }
    },
    {
      "cell_type": "code",
      "source": [
        "for i in range(2):\n",
        "  print (i)\n"
      ],
      "metadata": {
        "colab": {
          "base_uri": "https://localhost:8080/"
        },
        "id": "x5l1xydkoqL0",
        "outputId": "b91f2783-c6c5-432c-8e56-a1eb6cf482d0"
      },
      "execution_count": null,
      "outputs": [
        {
          "output_type": "stream",
          "name": "stdout",
          "text": [
            "0\n",
            "1\n"
          ]
        }
      ]
    },
    {
      "cell_type": "code",
      "source": [
        "for i in range(4,5):\n",
        "  print (i)"
      ],
      "metadata": {
        "colab": {
          "base_uri": "https://localhost:8080/"
        },
        "id": "NfKcVie7pUYP",
        "outputId": "791ba453-9893-4b01-9ed5-6ddd79dee496"
      },
      "execution_count": null,
      "outputs": [
        {
          "output_type": "stream",
          "name": "stdout",
          "text": [
            "4\n"
          ]
        }
      ]
    },
    {
      "cell_type": "code",
      "source": [
        "for i in range (1,10):\n",
        "  print(i)\n"
      ],
      "metadata": {
        "colab": {
          "base_uri": "https://localhost:8080/"
        },
        "id": "najoW7ZEpmvm",
        "outputId": "95ecb2ec-fe06-4a43-accd-355f4f0f8520"
      },
      "execution_count": null,
      "outputs": [
        {
          "output_type": "stream",
          "name": "stdout",
          "text": [
            "1\n",
            "2\n",
            "3\n",
            "4\n",
            "5\n",
            "6\n",
            "7\n",
            "8\n",
            "9\n"
          ]
        }
      ]
    },
    {
      "cell_type": "code",
      "source": [
        "for m in range(23,26):\n",
        "  print(m)\n"
      ],
      "metadata": {
        "colab": {
          "base_uri": "https://localhost:8080/"
        },
        "id": "B7ElAr0Gpu68",
        "outputId": "26903a2d-4916-4d3a-e320-36d3ba201d63"
      },
      "execution_count": null,
      "outputs": [
        {
          "output_type": "stream",
          "name": "stdout",
          "text": [
            "23\n",
            "24\n",
            "25\n"
          ]
        }
      ]
    },
    {
      "cell_type": "code",
      "source": [
        "for a in range(1,10,2):\n",
        "  print(a)\n"
      ],
      "metadata": {
        "colab": {
          "base_uri": "https://localhost:8080/"
        },
        "id": "VeTNT-Rip3Ni",
        "outputId": "a7c2ecc0-a493-4438-d8dd-b5136549650f"
      },
      "execution_count": null,
      "outputs": [
        {
          "output_type": "stream",
          "name": "stdout",
          "text": [
            "1\n",
            "3\n",
            "5\n",
            "7\n",
            "9\n"
          ]
        }
      ]
    },
    {
      "cell_type": "code",
      "source": [
        "for x in range(8):\n",
        "  print(x)\n",
        "else:\n",
        "  print(\"good attempt\")"
      ],
      "metadata": {
        "colab": {
          "base_uri": "https://localhost:8080/"
        },
        "id": "BY673P7xqNQx",
        "outputId": "925a20ab-ed40-4c8a-a7f2-5de8a839b217"
      },
      "execution_count": null,
      "outputs": [
        {
          "output_type": "stream",
          "name": "stdout",
          "text": [
            "0\n",
            "1\n",
            "2\n",
            "3\n",
            "4\n",
            "5\n",
            "6\n",
            "7\n",
            "good attempt\n"
          ]
        }
      ]
    },
    {
      "cell_type": "code",
      "source": [
        "for i in range (1,10):\n",
        "  print(i)\n",
        "  if i == 5:\n",
        "    break"
      ],
      "metadata": {
        "colab": {
          "base_uri": "https://localhost:8080/"
        },
        "id": "jKW87ujiqXns",
        "outputId": "baa31759-0170-440f-b8ad-158e83715559"
      },
      "execution_count": null,
      "outputs": [
        {
          "output_type": "stream",
          "name": "stdout",
          "text": [
            "1\n",
            "2\n",
            "3\n",
            "4\n",
            "5\n"
          ]
        }
      ]
    },
    {
      "cell_type": "code",
      "source": [
        "for r in (\" Alisha\"):\n",
        "\n",
        "  print(r)"
      ],
      "metadata": {
        "colab": {
          "base_uri": "https://localhost:8080/"
        },
        "id": "QwgCqScmrVxQ",
        "outputId": "bfc82f27-8091-4520-9914-21242f501df7"
      },
      "execution_count": null,
      "outputs": [
        {
          "output_type": "stream",
          "name": "stdout",
          "text": [
            " \n",
            "A\n",
            "l\n",
            "i\n",
            "s\n",
            "h\n",
            "a\n"
          ]
        }
      ]
    },
    {
      "cell_type": "code",
      "source": [
        "for y in (\" we are hiring you\"):\n",
        "  print(y)"
      ],
      "metadata": {
        "colab": {
          "base_uri": "https://localhost:8080/"
        },
        "id": "Ablw60Wwrr5G",
        "outputId": "18d96ac8-6f9a-4d47-9313-7949d57eec7d"
      },
      "execution_count": null,
      "outputs": [
        {
          "output_type": "stream",
          "name": "stdout",
          "text": [
            " \n",
            "w\n",
            "e\n",
            " \n",
            "a\n",
            "r\n",
            "e\n",
            " \n",
            "h\n",
            "i\n",
            "r\n",
            "i\n",
            "n\n",
            "g\n",
            " \n",
            "y\n",
            "o\n",
            "u\n"
          ]
        }
      ]
    },
    {
      "cell_type": "code",
      "source": [
        "food = \" baryani\"\n",
        "for x in food:\n",
        "  print(x)"
      ],
      "metadata": {
        "colab": {
          "base_uri": "https://localhost:8080/"
        },
        "id": "Q6ASdJghsGkn",
        "outputId": "924e3dab-fbaf-4fce-b532-b311eac16438"
      },
      "execution_count": null,
      "outputs": [
        {
          "output_type": "stream",
          "name": "stdout",
          "text": [
            " \n",
            "b\n",
            "a\n",
            "r\n",
            "y\n",
            "a\n",
            "n\n",
            "i\n"
          ]
        }
      ]
    },
    {
      "cell_type": "code",
      "source": [
        "food = input (\" enter your favourite food\")\n",
        "for x in food:\n",
        "  print(x)\n"
      ],
      "metadata": {
        "colab": {
          "base_uri": "https://localhost:8080/"
        },
        "id": "s6CGMwF-sS6o",
        "outputId": "05ae4c3d-dc74-4104-8294-6588c62da572"
      },
      "execution_count": null,
      "outputs": [
        {
          "output_type": "stream",
          "name": "stdout",
          "text": [
            " enter your favourite foodpizza\n",
            "p\n",
            "i\n",
            "z\n",
            "z\n",
            "a\n"
          ]
        }
      ]
    },
    {
      "cell_type": "markdown",
      "source": [
        "**NESTED LOOP**"
      ],
      "metadata": {
        "id": "y6NMpT8_sh4A"
      }
    },
    {
      "cell_type": "code",
      "source": [
        "for i in range (3):\n",
        "  print ( \" welcome \",i)\n",
        "\n",
        "  for w in range (2):\n",
        "    print (\" bye\", w)"
      ],
      "metadata": {
        "colab": {
          "base_uri": "https://localhost:8080/"
        },
        "id": "ZNNvcyTfsopG",
        "outputId": "422b8703-1a1b-4517-acdd-20ac21df4c67"
      },
      "execution_count": null,
      "outputs": [
        {
          "output_type": "stream",
          "name": "stdout",
          "text": [
            " welcome  0\n",
            " bye 0\n",
            " bye 1\n",
            " welcome  1\n",
            " bye 0\n",
            " bye 1\n",
            " welcome  2\n",
            " bye 0\n",
            " bye 1\n"
          ]
        }
      ]
    },
    {
      "cell_type": "code",
      "source": [
        "for f in range (1):\n",
        "  print(\" father\", f)\n",
        "  for s in range (3):\n",
        "    print(\" son \", s)"
      ],
      "metadata": {
        "colab": {
          "base_uri": "https://localhost:8080/"
        },
        "id": "9Lgj_T_nt0PS",
        "outputId": "6bfaf7fb-12ea-4d78-9682-cf5df0b55af0"
      },
      "execution_count": null,
      "outputs": [
        {
          "output_type": "stream",
          "name": "stdout",
          "text": [
            " father 0\n",
            " son  0\n",
            " son  1\n",
            " son  2\n"
          ]
        }
      ]
    },
    {
      "cell_type": "code",
      "source": [
        "for s in (\" Alisha\"):\n",
        "\n",
        "  print (\" Alisha\", s)\n",
        "\n"
      ],
      "metadata": {
        "colab": {
          "base_uri": "https://localhost:8080/"
        },
        "id": "eQU_MfzRuEgg",
        "outputId": "386508a0-a2c4-4c70-abd4-5d6005c0ec5e"
      },
      "execution_count": null,
      "outputs": [
        {
          "output_type": "stream",
          "name": "stdout",
          "text": [
            " Alisha  \n",
            " Alisha A\n",
            " Alisha l\n",
            " Alisha i\n",
            " Alisha s\n",
            " Alisha h\n",
            " Alisha a\n"
          ]
        }
      ]
    },
    {
      "cell_type": "code",
      "source": [
        "for i in range ( 1,3):\n",
        "  print (\" teacher\", i)\n",
        "  for m in range (2):\n",
        "    print (\" amna\",m)\n",
        "    print(\" tooba\",m)"
      ],
      "metadata": {
        "colab": {
          "base_uri": "https://localhost:8080/"
        },
        "id": "zbaxejpovkXl",
        "outputId": "61e06617-3fc2-4e06-e462-f0396cc04448"
      },
      "execution_count": null,
      "outputs": [
        {
          "output_type": "stream",
          "name": "stdout",
          "text": [
            " teacher 1\n",
            " amna 0\n",
            " tooba 0\n",
            " amna 1\n",
            " tooba 1\n",
            " teacher 2\n",
            " amna 0\n",
            " tooba 0\n",
            " amna 1\n",
            " tooba 1\n"
          ]
        }
      ]
    },
    {
      "cell_type": "code",
      "source": [
        "for i in range ( 1,3):\n",
        "  print (\" sorry\", i)\n",
        "  for m in range (2):\n",
        "    print (m)\n"
      ],
      "metadata": {
        "colab": {
          "base_uri": "https://localhost:8080/"
        },
        "id": "VPIDpsZdwwrZ",
        "outputId": "2085ff46-57f5-434f-96ef-e3ef11d56590"
      },
      "execution_count": null,
      "outputs": [
        {
          "output_type": "stream",
          "name": "stdout",
          "text": [
            " sorry 1\n",
            "0\n",
            "1\n",
            " sorry 2\n",
            "0\n",
            "1\n"
          ]
        }
      ]
    },
    {
      "cell_type": "code",
      "source": [
        "for i in range (4):\n",
        "  print (\" please\")\n",
        "  for j in range(3):\n",
        "    print (\" no\")"
      ],
      "metadata": {
        "colab": {
          "base_uri": "https://localhost:8080/"
        },
        "id": "1eKgkpbrw92V",
        "outputId": "31f35773-2999-4aff-c09d-c21a2d92ee6a"
      },
      "execution_count": null,
      "outputs": [
        {
          "output_type": "stream",
          "name": "stdout",
          "text": [
            " please\n",
            " no\n",
            " no\n",
            " no\n",
            " please\n",
            " no\n",
            " no\n",
            " no\n",
            " please\n",
            " no\n",
            " no\n",
            " no\n",
            " please\n",
            " no\n",
            " no\n",
            " no\n"
          ]
        }
      ]
    },
    {
      "cell_type": "code",
      "source": [
        "for i in range (3):\n",
        "  print (\" qabool hai\")\n",
        "  for j in range(1):\n",
        "    print (\" ji han\")\n"
      ],
      "metadata": {
        "colab": {
          "base_uri": "https://localhost:8080/"
        },
        "id": "6Cu-fd9_xeDs",
        "outputId": "155d6f11-ff83-4d0e-dbbc-f5dd0f5fed8c"
      },
      "execution_count": null,
      "outputs": [
        {
          "output_type": "stream",
          "name": "stdout",
          "text": [
            " qabool hai\n",
            " ji han\n",
            " qabool hai\n",
            " ji han\n",
            " qabool hai\n",
            " ji han\n"
          ]
        }
      ]
    },
    {
      "cell_type": "code",
      "source": [
        "for i in range (100):\n",
        "  print (\" sorry \")\n"
      ],
      "metadata": {
        "colab": {
          "base_uri": "https://localhost:8080/"
        },
        "id": "Mmpbb5r_x6rr",
        "outputId": "9f14ed94-2641-4fc4-e5c8-ded95d672565"
      },
      "execution_count": null,
      "outputs": [
        {
          "output_type": "stream",
          "name": "stdout",
          "text": [
            " sorry \n",
            " sorry \n",
            " sorry \n",
            " sorry \n",
            " sorry \n",
            " sorry \n",
            " sorry \n",
            " sorry \n",
            " sorry \n",
            " sorry \n",
            " sorry \n",
            " sorry \n",
            " sorry \n",
            " sorry \n",
            " sorry \n",
            " sorry \n",
            " sorry \n",
            " sorry \n",
            " sorry \n",
            " sorry \n",
            " sorry \n",
            " sorry \n",
            " sorry \n",
            " sorry \n",
            " sorry \n",
            " sorry \n",
            " sorry \n",
            " sorry \n",
            " sorry \n",
            " sorry \n",
            " sorry \n",
            " sorry \n",
            " sorry \n",
            " sorry \n",
            " sorry \n",
            " sorry \n",
            " sorry \n",
            " sorry \n",
            " sorry \n",
            " sorry \n",
            " sorry \n",
            " sorry \n",
            " sorry \n",
            " sorry \n",
            " sorry \n",
            " sorry \n",
            " sorry \n",
            " sorry \n",
            " sorry \n",
            " sorry \n",
            " sorry \n",
            " sorry \n",
            " sorry \n",
            " sorry \n",
            " sorry \n",
            " sorry \n",
            " sorry \n",
            " sorry \n",
            " sorry \n",
            " sorry \n",
            " sorry \n",
            " sorry \n",
            " sorry \n",
            " sorry \n",
            " sorry \n",
            " sorry \n",
            " sorry \n",
            " sorry \n",
            " sorry \n",
            " sorry \n",
            " sorry \n",
            " sorry \n",
            " sorry \n",
            " sorry \n",
            " sorry \n",
            " sorry \n",
            " sorry \n",
            " sorry \n",
            " sorry \n",
            " sorry \n",
            " sorry \n",
            " sorry \n",
            " sorry \n",
            " sorry \n",
            " sorry \n",
            " sorry \n",
            " sorry \n",
            " sorry \n",
            " sorry \n",
            " sorry \n",
            " sorry \n",
            " sorry \n",
            " sorry \n",
            " sorry \n",
            " sorry \n",
            " sorry \n",
            " sorry \n",
            " sorry \n",
            " sorry \n",
            " sorry \n"
          ]
        }
      ]
    },
    {
      "cell_type": "code",
      "source": [
        "for i in range(2):\n",
        "  print (\" Hello\")\n",
        "  for t in range (2):\n",
        "    print (\" welcome\")"
      ],
      "metadata": {
        "colab": {
          "base_uri": "https://localhost:8080/"
        },
        "id": "0nH21f18yYED",
        "outputId": "e4524b4f-1e9c-4e35-dab3-743116912895"
      },
      "execution_count": null,
      "outputs": [
        {
          "output_type": "stream",
          "name": "stdout",
          "text": [
            " Hello\n",
            " welcome\n",
            " welcome\n",
            " Hello\n",
            " welcome\n",
            " welcome\n"
          ]
        }
      ]
    },
    {
      "cell_type": "code",
      "source": [
        "for m in range (2):\n",
        "  print (\" december\")\n",
        "  for n in range (2):\n",
        "    print (\" july\")\n",
        "    for o in range (3):\n",
        "      print (\" june\")"
      ],
      "metadata": {
        "colab": {
          "base_uri": "https://localhost:8080/"
        },
        "id": "70Gqwmpxy2_E",
        "outputId": "4cf90079-5d49-4b67-d7ea-ecb63cf1727e"
      },
      "execution_count": null,
      "outputs": [
        {
          "output_type": "stream",
          "name": "stdout",
          "text": [
            " december\n",
            " july\n",
            " june\n",
            " june\n",
            " june\n",
            " july\n",
            " june\n",
            " june\n",
            " june\n",
            " december\n",
            " july\n",
            " june\n",
            " june\n",
            " june\n",
            " july\n",
            " june\n",
            " june\n",
            " june\n"
          ]
        }
      ]
    },
    {
      "cell_type": "code",
      "source": [
        "for i in range (5):\n",
        "   print(\"sweet se eman\")\n",
        "   for y in range (1):\n",
        "    print (\" ase hi rehna ok\")\n"
      ],
      "metadata": {
        "colab": {
          "base_uri": "https://localhost:8080/"
        },
        "id": "M1j4OhaozpF7",
        "outputId": "89b102a8-7b4f-4e41-c502-b273ae141fe1"
      },
      "execution_count": null,
      "outputs": [
        {
          "output_type": "stream",
          "name": "stdout",
          "text": [
            "sweet se eman\n",
            " ase hi rehna ok\n",
            "sweet se eman\n",
            " ase hi rehna ok\n",
            "sweet se eman\n",
            " ase hi rehna ok\n",
            "sweet se eman\n",
            " ase hi rehna ok\n",
            "sweet se eman\n",
            " ase hi rehna ok\n"
          ]
        }
      ]
    }
  ]
}