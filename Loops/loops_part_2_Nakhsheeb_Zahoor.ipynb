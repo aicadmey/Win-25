{
  "nbformat": 4,
  "nbformat_minor": 0,
  "metadata": {
    "colab": {
      "provenance": []
    },
    "kernelspec": {
      "name": "python3",
      "display_name": "Python 3"
    },
    "language_info": {
      "name": "python"
    }
  },
  "cells": [
    {
      "cell_type": "code",
      "execution_count": null,
      "metadata": {
        "colab": {
          "base_uri": "https://localhost:8080/"
        },
        "id": "vXWmfnEpdYwD",
        "outputId": "0b97f162-4250-4d61-9b77-d929040ead2e"
      },
      "outputs": [
        {
          "output_type": "stream",
          "name": "stdout",
          "text": [
            "0\n",
            "1\n",
            "2\n",
            "3\n",
            "4\n",
            "5\n",
            "6\n",
            "7\n",
            "8\n",
            "9\n",
            "10\n",
            "11\n",
            "12\n",
            "13\n",
            "14\n"
          ]
        }
      ],
      "source": [
        "for i in range (15):#i=0,1,i<15\n",
        "  print(i)"
      ]
    },
    {
      "cell_type": "code",
      "source": [
        "name=input(\"enter your name\")\n",
        "for i in name:\n",
        "  print(i)"
      ],
      "metadata": {
        "colab": {
          "base_uri": "https://localhost:8080/"
        },
        "id": "36uCLuP-fRpz",
        "outputId": "ec7c9d2a-179b-4421-900b-85e4cfd9e25d"
      },
      "execution_count": null,
      "outputs": [
        {
          "output_type": "stream",
          "name": "stdout",
          "text": [
            "enter your nameNakhsheeb\n",
            "N\n",
            "a\n",
            "k\n",
            "h\n",
            "s\n",
            "h\n",
            "e\n",
            "e\n",
            "b\n"
          ]
        }
      ]
    },
    {
      "cell_type": "code",
      "source": [
        "for i in range(5,10):\n",
        "  print(i)"
      ],
      "metadata": {
        "colab": {
          "base_uri": "https://localhost:8080/"
        },
        "id": "1n_Jpd2CgBDe",
        "outputId": "6692a798-c7be-41f7-a4ff-547c9756e83c"
      },
      "execution_count": null,
      "outputs": [
        {
          "output_type": "stream",
          "name": "stdout",
          "text": [
            "5\n",
            "6\n",
            "7\n",
            "8\n",
            "9\n"
          ]
        }
      ]
    },
    {
      "cell_type": "code",
      "source": [
        "for i in range(1,10,):\n",
        "  print(i)"
      ],
      "metadata": {
        "colab": {
          "base_uri": "https://localhost:8080/"
        },
        "id": "2CZD1Hz4gVQ1",
        "outputId": "b0890089-4e1e-4d55-f720-737b281e5a68"
      },
      "execution_count": null,
      "outputs": [
        {
          "output_type": "stream",
          "name": "stdout",
          "text": [
            "1\n",
            "2\n",
            "3\n",
            "4\n",
            "5\n",
            "6\n",
            "7\n",
            "8\n",
            "9\n"
          ]
        }
      ]
    },
    {
      "cell_type": "code",
      "source": [
        "galaxy=\"Milky Way\"\n",
        "for i in galaxy:\n",
        "  print(i)"
      ],
      "metadata": {
        "colab": {
          "base_uri": "https://localhost:8080/"
        },
        "id": "Gd35Jlf6gj2N",
        "outputId": "bfee01e0-ebf1-4154-e7ce-dc5c23703fd2"
      },
      "execution_count": null,
      "outputs": [
        {
          "output_type": "stream",
          "name": "stdout",
          "text": [
            "M\n",
            "i\n",
            "l\n",
            "k\n",
            "y\n",
            " \n",
            "W\n",
            "a\n",
            "y\n"
          ]
        }
      ]
    },
    {
      "cell_type": "code",
      "source": [
        "hyphen=\"!!!\"\n",
        "for i in hyphen:\n",
        "  print(i)"
      ],
      "metadata": {
        "colab": {
          "base_uri": "https://localhost:8080/"
        },
        "id": "fwapZf_DgunD",
        "outputId": "6ae7ac12-2192-4130-e49e-4213437d86d1"
      },
      "execution_count": null,
      "outputs": [
        {
          "output_type": "stream",
          "name": "stdout",
          "text": [
            "!\n",
            "!\n",
            "!\n"
          ]
        }
      ]
    },
    {
      "cell_type": "code",
      "source": [
        "for i in range(3):\n",
        "  print(i)"
      ],
      "metadata": {
        "colab": {
          "base_uri": "https://localhost:8080/"
        },
        "id": "RdsauACZhAtU",
        "outputId": "c1b385c8-0086-4ae5-d4e7-8ca8a21db0b0"
      },
      "execution_count": null,
      "outputs": [
        {
          "output_type": "stream",
          "name": "stdout",
          "text": [
            "0\n",
            "1\n",
            "2\n"
          ]
        }
      ]
    },
    {
      "cell_type": "code",
      "source": [
        "for i in range(1,3):\n",
        "  print(i)"
      ],
      "metadata": {
        "colab": {
          "base_uri": "https://localhost:8080/"
        },
        "id": "pbI09hfAhg7f",
        "outputId": "fd227950-9d65-427a-cc04-c4f12aeef251"
      },
      "execution_count": null,
      "outputs": [
        {
          "output_type": "stream",
          "name": "stdout",
          "text": [
            "1\n",
            "2\n"
          ]
        }
      ]
    },
    {
      "cell_type": "code",
      "source": [
        "for i in range(100,111):\n",
        "  print(i)"
      ],
      "metadata": {
        "colab": {
          "base_uri": "https://localhost:8080/"
        },
        "id": "70Ux6YWthpUj",
        "outputId": "5ac9b029-7ffd-427d-a06b-5a7a2ff90557"
      },
      "execution_count": null,
      "outputs": [
        {
          "output_type": "stream",
          "name": "stdout",
          "text": [
            "100\n",
            "101\n",
            "102\n",
            "103\n",
            "104\n",
            "105\n",
            "106\n",
            "107\n",
            "108\n",
            "109\n",
            "110\n"
          ]
        }
      ]
    },
    {
      "cell_type": "code",
      "source": [
        "#nested loop\n",
        "for i in range(3):\n",
        "  print(\"father\")\n",
        "  for j in range(1):\n",
        "    print(\"son\")"
      ],
      "metadata": {
        "colab": {
          "base_uri": "https://localhost:8080/"
        },
        "id": "2iyZ6jMAkDG3",
        "outputId": "a0b90da0-c083-4d16-a4a6-2b11c695f5cf"
      },
      "execution_count": null,
      "outputs": [
        {
          "output_type": "stream",
          "name": "stdout",
          "text": [
            "father\n",
            "son\n",
            "father\n",
            "son\n",
            "father\n",
            "son\n"
          ]
        }
      ]
    },
    {
      "cell_type": "code",
      "source": [
        "for i in range(3):\n",
        "  print(\"true\")\n",
        "  for j in range(2):\n",
        "    print(\"approved\")"
      ],
      "metadata": {
        "colab": {
          "base_uri": "https://localhost:8080/"
        },
        "id": "FbrlrO6tkTto",
        "outputId": "66d16ca8-1b44-41f7-e50d-de30c17af444"
      },
      "execution_count": null,
      "outputs": [
        {
          "output_type": "stream",
          "name": "stdout",
          "text": [
            "true\n",
            "approved\n",
            "approved\n",
            "true\n",
            "approved\n",
            "approved\n",
            "true\n",
            "approved\n",
            "approved\n"
          ]
        }
      ]
    },
    {
      "cell_type": "code",
      "source": [
        "for i in range(4):\n",
        "  print(\"true\")\n",
        "  for j in range(1):\n",
        "    print(\"approved\")\n",
        "    for k in range(2):\n",
        "      print(\"not approved\")"
      ],
      "metadata": {
        "colab": {
          "base_uri": "https://localhost:8080/"
        },
        "id": "HWUdUDj8ke4c",
        "outputId": "7673bda4-de28-46af-8efd-7deb10d07022"
      },
      "execution_count": null,
      "outputs": [
        {
          "output_type": "stream",
          "name": "stdout",
          "text": [
            "true\n",
            "approved\n",
            "not approved\n",
            "not approved\n",
            "true\n",
            "approved\n",
            "not approved\n",
            "not approved\n",
            "true\n",
            "approved\n",
            "not approved\n",
            "not approved\n",
            "true\n",
            "approved\n",
            "not approved\n",
            "not approved\n"
          ]
        }
      ]
    },
    {
      "cell_type": "code",
      "source": [
        "for i in range(3):\n",
        "  name=input(\"enter your name \")\n",
        "  print(name)\n",
        "  for j in range(1):\n",
        "    age=int(input(\"enter your age \"))\n",
        "    print(age)\n",
        "    for k in range(1):\n",
        "      gender=input(\"enter your gender \")\n",
        "      print(gender)\n",
        "\n",
        "\n",
        "\n",
        "\n",
        "\n",
        "\n",
        "\n",
        "\n",
        "\n",
        "\n"
      ],
      "metadata": {
        "colab": {
          "base_uri": "https://localhost:8080/"
        },
        "id": "j767zowvlRSk",
        "outputId": "e5729664-c590-4a18-aea7-be6664b22b1f"
      },
      "execution_count": null,
      "outputs": [
        {
          "output_type": "stream",
          "name": "stdout",
          "text": [
            "enter your name Nakhsheeb\n",
            "Nakhsheeb\n",
            "enter your age 19\n",
            "19\n",
            "enter your gender female\n",
            "female\n",
            "enter your name Nakhsheeb\n",
            "Nakhsheeb\n",
            "enter your age 19\n",
            "19\n",
            "enter your gender female\n",
            "female\n",
            "enter your name Nakhsheeb\n",
            "Nakhsheeb\n",
            "enter your age 19\n",
            "19\n",
            "enter your gender female\n",
            "female\n"
          ]
        }
      ]
    },
    {
      "cell_type": "code",
      "source": [
        "for i in range(3):\n",
        "  print(\"milk\")\n",
        "  for j in range(1):\n",
        "    print(\"coffee\")\n",
        "    for k in range(3):\n",
        "      print(\"ice cubes\")\n"
      ],
      "metadata": {
        "colab": {
          "base_uri": "https://localhost:8080/"
        },
        "id": "WCB9JfMHmbOp",
        "outputId": "47c1fbd2-4a2d-46ab-9831-c30f6324467e"
      },
      "execution_count": null,
      "outputs": [
        {
          "output_type": "stream",
          "name": "stdout",
          "text": [
            "milk\n",
            "coffee\n",
            "ice cubes\n",
            "ice cubes\n",
            "ice cubes\n",
            "milk\n",
            "coffee\n",
            "ice cubes\n",
            "ice cubes\n",
            "ice cubes\n",
            "milk\n",
            "coffee\n",
            "ice cubes\n",
            "ice cubes\n",
            "ice cubes\n"
          ]
        }
      ]
    },
    {
      "cell_type": "code",
      "source": [
        "for i in range(2):\n",
        "  print(\"true\")\n",
        "  for j in range(3):\n",
        "    print(\"false\")"
      ],
      "metadata": {
        "colab": {
          "base_uri": "https://localhost:8080/"
        },
        "id": "CBerV3gJnDJv",
        "outputId": "4110d994-fc8a-4c89-f07c-5df72ef24df0"
      },
      "execution_count": null,
      "outputs": [
        {
          "output_type": "stream",
          "name": "stdout",
          "text": [
            "true\n",
            "false\n",
            "false\n",
            "false\n",
            "true\n",
            "false\n",
            "false\n",
            "false\n"
          ]
        }
      ]
    },
    {
      "cell_type": "code",
      "source": [
        "for i in range(2):\n",
        "  print(\"maybe\")\n",
        "  for j in range(3):\n",
        "    print(\"yes\")\n",
        "    for k in range(2):\n",
        "      print(\"you can\")"
      ],
      "metadata": {
        "colab": {
          "base_uri": "https://localhost:8080/"
        },
        "id": "9CNU4hgwocgn",
        "outputId": "dcedbdc2-9518-42ee-8621-f687a91e418e"
      },
      "execution_count": null,
      "outputs": [
        {
          "output_type": "stream",
          "name": "stdout",
          "text": [
            "maybe\n",
            "yes\n",
            "you can\n",
            "you can\n",
            "yes\n",
            "you can\n",
            "you can\n",
            "yes\n",
            "you can\n",
            "you can\n",
            "maybe\n",
            "yes\n",
            "you can\n",
            "you can\n",
            "yes\n",
            "you can\n",
            "you can\n",
            "yes\n",
            "you can\n",
            "you can\n"
          ]
        }
      ]
    },
    {
      "cell_type": "code",
      "source": [
        "room=\"empty\"\n",
        "for i in range(2):\n",
        "  print(room)\n",
        "  person=\"father\"\n",
        "for j in range(1):\n",
        "    print(person)"
      ],
      "metadata": {
        "colab": {
          "base_uri": "https://localhost:8080/"
        },
        "id": "NjA_0XoDpMF8",
        "outputId": "9730aa31-241b-48cd-d552-ce49dfe4c389"
      },
      "execution_count": null,
      "outputs": [
        {
          "output_type": "stream",
          "name": "stdout",
          "text": [
            "empty\n",
            "empty\n",
            "father\n"
          ]
        }
      ]
    },
    {
      "cell_type": "code",
      "source": [
        "mobile_1=\"charging\"\n",
        "mobile_2=\"charged\"\n",
        "for i in range(2):\n",
        "  print(mobile_1)\n",
        "  for j in range(1):\n",
        "    print(mobile_2)\n"
      ],
      "metadata": {
        "colab": {
          "base_uri": "https://localhost:8080/"
        },
        "id": "tNh2rJJipuxV",
        "outputId": "4cbf3d98-6ae7-43d2-f930-8c8b370ea98e"
      },
      "execution_count": null,
      "outputs": [
        {
          "output_type": "stream",
          "name": "stdout",
          "text": [
            "charging\n",
            "charged\n",
            "charging\n",
            "charged\n"
          ]
        }
      ]
    },
    {
      "cell_type": "code",
      "source": [
        "room1=\"empty\"\n",
        "room2=\"full\"\n",
        "for i in range(2):\n",
        "  print(room1)\n",
        "  for j in range(1):\n",
        "    print(room2)\n"
      ],
      "metadata": {
        "colab": {
          "base_uri": "https://localhost:8080/"
        },
        "id": "ZEGAGZCFqFdF",
        "outputId": "e98b947d-d3cb-447d-aa09-4612c0774cb1"
      },
      "execution_count": null,
      "outputs": [
        {
          "output_type": "stream",
          "name": "stdout",
          "text": [
            "empty\n",
            "full\n",
            "empty\n",
            "full\n"
          ]
        }
      ]
    },
    {
      "cell_type": "code",
      "source": [
        "animal_1=\"tiger\"\n",
        "animal_2=\"lion\"\n",
        "for i in range(2):\n",
        "  print(animal_1)\n",
        "  for j in range(1):\n",
        "    print(animal_2)"
      ],
      "metadata": {
        "colab": {
          "base_uri": "https://localhost:8080/"
        },
        "id": "dJShDlPjqfLq",
        "outputId": "b8ea9afa-8d1f-41e5-903f-8753f8cebb17"
      },
      "execution_count": null,
      "outputs": [
        {
          "output_type": "stream",
          "name": "stdout",
          "text": [
            "tiger\n",
            "lion\n",
            "tiger\n",
            "lion\n"
          ]
        }
      ]
    }
  ]
}