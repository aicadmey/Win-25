{
  "nbformat": 4,
  "nbformat_minor": 0,
  "metadata": {
    "colab": {
      "provenance": []
    },
    "kernelspec": {
      "name": "python3",
      "display_name": "Python 3"
    },
    "language_info": {
      "name": "python"
    }
  },
  "cells": [
    {
      "cell_type": "markdown",
      "source": [
        "**While Loop**"
      ],
      "metadata": {
        "id": "f8mDyvTASXSk"
      }
    },
    {
      "cell_type": "code",
      "source": [
        "# example1\n",
        "i = 0\n",
        "while i <= 10:\n",
        "  print(i)\n",
        "  i += 1\n",
        "  # it will print the numbers from 0 to 10"
      ],
      "metadata": {
        "colab": {
          "base_uri": "https://localhost:8080/"
        },
        "id": "sRYyo_cBScvz",
        "outputId": "a98211d5-0e8a-45ca-88f4-289c4660b275"
      },
      "execution_count": null,
      "outputs": [
        {
          "output_type": "stream",
          "name": "stdout",
          "text": [
            "0\n",
            "1\n",
            "2\n",
            "3\n",
            "4\n",
            "5\n",
            "6\n",
            "7\n",
            "8\n",
            "9\n",
            "10\n"
          ]
        }
      ]
    },
    {
      "cell_type": "code",
      "source": [
        "# example2\n",
        "while True:\n",
        "  user = input(\"Type 'exit' to quit: \")\n",
        "  if user.lower() == \"exit\":\n",
        "    print(\"Exiting...\")\n",
        "    break\n",
        "  # it will take input from iser and when user enter the require input it will exit and break the loop. if the user give wrong input the user loop will continue until the right inout is being given. if the break is not written , the loop will continue even after exiting"
      ],
      "metadata": {
        "colab": {
          "base_uri": "https://localhost:8080/"
        },
        "id": "iv9Io52CTsXI",
        "outputId": "14afe2ed-06f7-40f8-c432-c13943a0c3b6"
      },
      "execution_count": null,
      "outputs": [
        {
          "output_type": "stream",
          "name": "stdout",
          "text": [
            "Type 'exit' to quit: exit\n",
            "Exiting...\n"
          ]
        }
      ]
    },
    {
      "cell_type": "code",
      "source": [
        "# example3\n",
        "num = 10\n",
        "while num > 0:\n",
        "  num -= 1\n",
        "  print(\"Blast off!\")\n",
        "  # it will print the blast off 10 times"
      ],
      "metadata": {
        "colab": {
          "base_uri": "https://localhost:8080/"
        },
        "id": "vHH4I6-jU5G4",
        "outputId": "62ed9065-e944-4974-eab1-e052c1c34abf"
      },
      "execution_count": null,
      "outputs": [
        {
          "output_type": "stream",
          "name": "stdout",
          "text": [
            "Blast off!\n",
            "Blast off!\n",
            "Blast off!\n",
            "Blast off!\n",
            "Blast off!\n",
            "Blast off!\n",
            "Blast off!\n",
            "Blast off!\n",
            "Blast off!\n",
            "Blast off!\n"
          ]
        }
      ]
    },
    {
      "cell_type": "code",
      "source": [
        "# example4\n",
        "sum = 1\n",
        "total = 0\n",
        "while sum <= 10:\n",
        "  total += sum\n",
        "  sum += 1\n",
        "print(\"Sum of numbers 1 to 10:\", total)\n",
        "# here the sum will tke place like this: 1+2=3, 3+3=6, 6+4=10, 10+5=15 ,15+6=21, 21+7=28, 28+8=36, 36+9=45, 45+10=55"
      ],
      "metadata": {
        "colab": {
          "base_uri": "https://localhost:8080/"
        },
        "id": "ssDBcb5ZVYKG",
        "outputId": "85498c16-8e6f-475a-a1c9-e5346d406e3e"
      },
      "execution_count": null,
      "outputs": [
        {
          "output_type": "stream",
          "name": "stdout",
          "text": [
            "Sum of numbers 1 to 10: 55\n"
          ]
        }
      ]
    },
    {
      "cell_type": "code",
      "source": [
        "# example5\n",
        "color = [\"pink\" , \"orange\" , \"purple\"]\n",
        "i = 0\n",
        "while i < len(color):\n",
        "  print(color[i])\n",
        "  i += 1"
      ],
      "metadata": {
        "colab": {
          "base_uri": "https://localhost:8080/"
        },
        "id": "ngjmV_zuXRb4",
        "outputId": "97e5538f-b348-4fee-fe27-af22a249583b"
      },
      "execution_count": null,
      "outputs": [
        {
          "output_type": "stream",
          "name": "stdout",
          "text": [
            "pink\n",
            "orange\n",
            "purple\n"
          ]
        }
      ]
    },
    {
      "cell_type": "code",
      "source": [
        "# example6\n",
        "num = 5\n",
        "factorial = 1\n",
        "while num > 0:\n",
        "    factorial *= num\n",
        "    num -= 1\n",
        "print(\"Factorial:\", factorial)\n",
        "# the factorial in loop take place like this: 1*2=2, 2*3=6, 6*4=24 ,24*5=120"
      ],
      "metadata": {
        "colab": {
          "base_uri": "https://localhost:8080/"
        },
        "id": "W-w-PJJ1X4MK",
        "outputId": "4c558989-e9da-45a3-b66a-d31d0991ca36"
      },
      "execution_count": null,
      "outputs": [
        {
          "output_type": "stream",
          "name": "stdout",
          "text": [
            "Factorial: 120\n"
          ]
        }
      ]
    },
    {
      "cell_type": "code",
      "source": [
        "# example7\n",
        "number = 54321\n",
        "reverse = 0\n",
        "while number > 0:\n",
        "  digit = number % 10\n",
        "  reverse = reverse * 10 + digit\n",
        "  number //= 10\n",
        "print (\"Reversed number:\" , reverse)"
      ],
      "metadata": {
        "colab": {
          "base_uri": "https://localhost:8080/"
        },
        "id": "AyfOwezxYfwQ",
        "outputId": "2f87164e-ec25-4673-debb-51b836298818"
      },
      "execution_count": null,
      "outputs": [
        {
          "output_type": "stream",
          "name": "stdout",
          "text": [
            "Reversed number: 12345\n"
          ]
        }
      ]
    },
    {
      "cell_type": "code",
      "source": [
        "# example8\n",
        "i = 0\n",
        "while i <= 5:\n",
        "  print(i)\n",
        "  i += 1"
      ],
      "metadata": {
        "colab": {
          "base_uri": "https://localhost:8080/"
        },
        "id": "uo54Mkg6ZEjK",
        "outputId": "c6d0bf08-3eb2-4e35-c64e-c3f1b2b5549f"
      },
      "execution_count": null,
      "outputs": [
        {
          "output_type": "stream",
          "name": "stdout",
          "text": [
            "0\n",
            "1\n",
            "2\n",
            "3\n",
            "4\n",
            "5\n"
          ]
        }
      ]
    },
    {
      "cell_type": "code",
      "source": [
        "# example9\n",
        "while True:\n",
        "  sigma = input(\"Type 'start' to begin: \")\n",
        "  if sigma.lower() == \"start\":\n",
        "    print(\"Starting...\")\n",
        "    break"
      ],
      "metadata": {
        "colab": {
          "base_uri": "https://localhost:8080/"
        },
        "id": "dYIzaExIZYP2",
        "outputId": "657462ca-3df5-4435-f94c-2feb12b2f35c"
      },
      "execution_count": null,
      "outputs": [
        {
          "output_type": "stream",
          "name": "stdout",
          "text": [
            "Type 'start' to begin: start\n",
            "Starting...\n"
          ]
        }
      ]
    },
    {
      "cell_type": "code",
      "source": [
        "# example10\n",
        "n = 1\n",
        "total = 0\n",
        "while n <= 20:\n",
        "    total += n\n",
        "    n += 1\n",
        "print(\"Sum of numbers 1 to 20:\", total)"
      ],
      "metadata": {
        "colab": {
          "base_uri": "https://localhost:8080/"
        },
        "id": "9A1MDO_4Z4fH",
        "outputId": "69e50aa4-82fd-4ecf-d673-7ac0b15f18c1"
      },
      "execution_count": null,
      "outputs": [
        {
          "output_type": "stream",
          "name": "stdout",
          "text": [
            "Sum of numbers 1 to 20: 210\n"
          ]
        }
      ]
    }
  ]
}