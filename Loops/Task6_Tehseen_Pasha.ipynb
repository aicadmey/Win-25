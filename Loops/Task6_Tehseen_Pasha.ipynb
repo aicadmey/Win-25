{
  "nbformat": 4,
  "nbformat_minor": 0,
  "metadata": {
    "colab": {
      "provenance": [],
      "gpuType": "T4"
    },
    "kernelspec": {
      "name": "python3",
      "display_name": "Python 3"
    },
    "language_info": {
      "name": "python"
    },
    "accelerator": "GPU"
  },
  "cells": [
    {
      "cell_type": "code",
      "execution_count": null,
      "metadata": {
        "colab": {
          "base_uri": "https://localhost:8080/"
        },
        "id": "6WZK41ElX-y3",
        "outputId": "628d9f5b-54ab-47de-a472-a3f4309ae4b8"
      },
      "outputs": [
        {
          "output_type": "stream",
          "name": "stdout",
          "text": [
            "1\n",
            "2\n",
            "3\n",
            "4\n",
            "5\n",
            "6\n",
            "7\n",
            "8\n",
            "9\n",
            "10\n",
            "11\n",
            "12\n",
            "13\n"
          ]
        }
      ],
      "source": [
        "# Printing numbers from 1 to 20:\n",
        "i = 1\n",
        "while i <= 13:\n",
        "    print(i)\n",
        "    i += 1"
      ]
    },
    {
      "cell_type": "code",
      "source": [
        "# Alien Encounter Probability:\n",
        "encounter_chance = 78\n",
        "while encounter_chance < 100:\n",
        "  print(\"Scanning for alien life on red planet...\")\n",
        "  encounter_chance += 78"
      ],
      "metadata": {
        "colab": {
          "base_uri": "https://localhost:8080/"
        },
        "id": "ZFhu4XNsY3T2",
        "outputId": "f9fc8208-209c-4d1f-9403-458f755f1581"
      },
      "execution_count": null,
      "outputs": [
        {
          "output_type": "stream",
          "name": "stdout",
          "text": [
            "Scanning for alien life on red planet...\n"
          ]
        }
      ]
    },
    {
      "cell_type": "code",
      "source": [
        "#Black Hole Simulation:\n",
        "mass = 5\n",
        "while mass > 0:\n",
        "  print(\"Mass decreasing due to Hawking radiation...\")\n",
        "  mass -= 1"
      ],
      "metadata": {
        "colab": {
          "base_uri": "https://localhost:8080/"
        },
        "id": "dC84aaKYabje",
        "outputId": "d09cf937-65e0-420d-8424-490cefd9e6af"
      },
      "execution_count": null,
      "outputs": [
        {
          "output_type": "stream",
          "name": "stdout",
          "text": [
            "Mass decreasing due to Hawking radiation...\n",
            "Mass decreasing due to Hawking radiation...\n",
            "Mass decreasing due to Hawking radiation...\n",
            "Mass decreasing due to Hawking radiation...\n",
            "Mass decreasing due to Hawking radiation...\n"
          ]
        }
      ]
    },
    {
      "cell_type": "code",
      "source": [
        "\n",
        "#Cosmic Ray Detection:\n",
        "ray_count = 1\n",
        "while ray_count < 10:\n",
        "  print(\"Detecting cosmic ray from red giant star (SUN)...\")\n",
        "  ray_count += 1"
      ],
      "metadata": {
        "colab": {
          "base_uri": "https://localhost:8080/"
        },
        "id": "zhxLoCU8a0m8",
        "outputId": "0494d671-c580-42fe-fb7a-2a6facec31d7"
      },
      "execution_count": null,
      "outputs": [
        {
          "output_type": "stream",
          "name": "stdout",
          "text": [
            "Detecting cosmic ray from red giant star (SUN)...\n",
            "Detecting cosmic ray from red giant star (SUN)...\n",
            "Detecting cosmic ray from red giant star (SUN)...\n",
            "Detecting cosmic ray from red giant star (SUN)...\n",
            "Detecting cosmic ray from red giant star (SUN)...\n",
            "Detecting cosmic ray from red giant star (SUN)...\n",
            "Detecting cosmic ray from red giant star (SUN)...\n",
            "Detecting cosmic ray from red giant star (SUN)...\n",
            "Detecting cosmic ray from red giant star (SUN)...\n"
          ]
        }
      ]
    },
    {
      "cell_type": "code",
      "source": [
        "# Time-space traveling  Probability:\n",
        "encounter_chance = 1\n",
        "while encounter_chance < 10:\n",
        "  print(\"yes, Captain eman time traveling is possible...\")\n",
        "  encounter_chance += 1"
      ],
      "metadata": {
        "colab": {
          "base_uri": "https://localhost:8080/"
        },
        "id": "jTk-2XCMbdY7",
        "outputId": "9855113c-5c66-4b39-cb5f-93db0afc1b9c"
      },
      "execution_count": null,
      "outputs": [
        {
          "output_type": "stream",
          "name": "stdout",
          "text": [
            "yes, Captain eman time traveling is possible...\n",
            "yes, Captain eman time traveling is possible...\n",
            "yes, Captain eman time traveling is possible...\n",
            "yes, Captain eman time traveling is possible...\n",
            "yes, Captain eman time traveling is possible...\n",
            "yes, Captain eman time traveling is possible...\n",
            "yes, Captain eman time traveling is possible...\n",
            "yes, Captain eman time traveling is possible...\n",
            "yes, Captain eman time traveling is possible...\n"
          ]
        }
      ]
    },
    {
      "cell_type": "code",
      "source": [
        "#Space Station speed counter:\n",
        "Speed_count = 0\n",
        "while Speed_count < 10:\n",
        "  print(\"we are near to speed of light...\")\n",
        "  rotation_count += 100 # 🚫🚫⛔️Run the program by you on risk."
      ],
      "metadata": {
        "id": "4_WGJOqNeqz4"
      },
      "execution_count": null,
      "outputs": []
    },
    {
      "cell_type": "code",
      "source": [
        "#Counting Orbits around three body's:\n",
        "count = 0\n",
        "while count < 10:\n",
        "  print(\"Completing orbit around alpha centauri:\", count + 1)\n",
        "  count += 1"
      ],
      "metadata": {
        "colab": {
          "base_uri": "https://localhost:8080/"
        },
        "id": "aJ3fx9hpe9kO",
        "outputId": "0e3a83a7-7fcc-4856-ef06-b4087ad5ba33"
      },
      "execution_count": null,
      "outputs": [
        {
          "output_type": "stream",
          "name": "stdout",
          "text": [
            "Completing orbit around alpha centauri: 1\n",
            "Completing orbit around alpha centauri: 2\n",
            "Completing orbit around alpha centauri: 3\n",
            "Completing orbit around alpha centauri: 4\n",
            "Completing orbit around alpha centauri: 5\n",
            "Completing orbit around alpha centauri: 6\n",
            "Completing orbit around alpha centauri: 7\n",
            "Completing orbit around alpha centauri: 8\n",
            "Completing orbit around alpha centauri: 9\n",
            "Completing orbit around alpha centauri: 10\n"
          ]
        }
      ]
    },
    {
      "cell_type": "code",
      "source": [
        "# Printing numbers from 1 to 5:\n",
        "i = 1\n",
        "while i <= 5:\n",
        "    print(i)\n",
        "    i += 1"
      ],
      "metadata": {
        "colab": {
          "base_uri": "https://localhost:8080/"
        },
        "id": "YcVF4GNUgAvF",
        "outputId": "2c029f39-1b00-40e1-ddf6-b7425118526d"
      },
      "execution_count": null,
      "outputs": [
        {
          "output_type": "stream",
          "name": "stdout",
          "text": [
            "1\n",
            "2\n",
            "3\n",
            "4\n",
            "5\n"
          ]
        }
      ]
    },
    {
      "cell_type": "code",
      "source": [
        "# Interstellar Travel from earth to black hole:\n",
        "distance_traveled = 0\n",
        "while distance_traveled < 10000:\n",
        "  print(\"Traveling through space towards blackhole...\")\n",
        "  distance_traveled += 1000"
      ],
      "metadata": {
        "id": "Bod8341fgMBf",
        "colab": {
          "base_uri": "https://localhost:8080/"
        },
        "outputId": "55c5b65a-20aa-4a3a-a1df-a4a464e8e32c"
      },
      "execution_count": null,
      "outputs": [
        {
          "output_type": "stream",
          "name": "stdout",
          "text": [
            "Traveling through space towards blackhole...\n",
            "Traveling through space towards blackhole...\n",
            "Traveling through space towards blackhole...\n",
            "Traveling through space towards blackhole...\n",
            "Traveling through space towards blackhole...\n",
            "Traveling through space towards blackhole...\n",
            "Traveling through space towards blackhole...\n",
            "Traveling through space towards blackhole...\n",
            "Traveling through space towards blackhole...\n",
            "Traveling through space towards blackhole...\n"
          ]
        }
      ]
    },
    {
      "cell_type": "markdown",
      "source": [
        "●Last program 😊 thanks Allah Almighty."
      ],
      "metadata": {
        "id": "EFaz0--HiK4B"
      }
    },
    {
      "cell_type": "code",
      "source": [
        "#Electromagnatic Ray Detection around space shuttle\n",
        "ray_count = 35\n",
        "while ray_count < 100:\n",
        "  print(\"Danger Electromagnetic ray detected...\")\n",
        "  ray_count += 35"
      ],
      "metadata": {
        "colab": {
          "base_uri": "https://localhost:8080/"
        },
        "id": "DliUU5gUhGUT",
        "outputId": "06f0f2a9-752a-4523-849a-81e6ba2688ab"
      },
      "execution_count": null,
      "outputs": [
        {
          "output_type": "stream",
          "name": "stdout",
          "text": [
            "Danger Electromagnetic ray detected...\n",
            "Danger Electromagnetic ray detected...\n"
          ]
        }
      ]
    }
  ]
}