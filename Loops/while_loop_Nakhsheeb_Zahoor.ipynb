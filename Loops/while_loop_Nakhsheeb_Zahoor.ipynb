{
  "cells": [
    {
      "cell_type": "code",
      "source": [
        "i=1\n",
        "while i<6:\n",
        "   print(i)\n",
        "   i+=1"
      ],
      "metadata": {
        "colab": {
          "base_uri": "https://localhost:8080/"
        },
        "id": "koL8E4kj3nHU",
        "outputId": "a60fcef1-e41c-44a0-f8e9-ae3082dd7787"
      },
      "execution_count": null,
      "outputs": [
        {
          "output_type": "stream",
          "name": "stdout",
          "text": [
            "1\n",
            "2\n",
            "3\n",
            "4\n",
            "5\n"
          ]
        }
      ]
    },
    {
      "cell_type": "code",
      "source": [
        "i=0\n",
        "while i<5:\n",
        " print(\"Pakistan\")\n",
        " i+=1\n",
        "\n"
      ],
      "metadata": {
        "colab": {
          "base_uri": "https://localhost:8080/"
        },
        "id": "jQrxtI-H4hEN",
        "outputId": "0cc135ae-07bb-41f3-98a7-9153254a9a8d"
      },
      "execution_count": null,
      "outputs": [
        {
          "output_type": "stream",
          "name": "stdout",
          "text": [
            "Pakistan\n",
            "Pakistan\n",
            "Pakistan\n",
            "Pakistan\n",
            "Pakistan\n"
          ]
        }
      ]
    },
    {
      "cell_type": "code",
      "source": [
        "sum=0\n",
        "i=1\n",
        "while i<=10:\n",
        "    sum=sum+i\n",
        "    i +=1\n",
        "print(sum)"
      ],
      "metadata": {
        "colab": {
          "base_uri": "https://localhost:8080/"
        },
        "id": "5m1i92BR6aQn",
        "outputId": "5839adde-e9da-47f2-a1cb-82eab8208404"
      },
      "execution_count": null,
      "outputs": [
        {
          "output_type": "stream",
          "name": "stdout",
          "text": [
            "55\n"
          ]
        }
      ]
    },
    {
      "cell_type": "code",
      "source": [
        "i=1\n",
        "product=1\n",
        "while i<=5:\n",
        "   product*=i\n",
        "   i+=1\n",
        "print(product)"
      ],
      "metadata": {
        "colab": {
          "base_uri": "https://localhost:8080/"
        },
        "id": "OQEki6mq88Wt",
        "outputId": "21284f07-589d-4419-f1eb-f01ad9faa8e6"
      },
      "execution_count": null,
      "outputs": [
        {
          "output_type": "stream",
          "name": "stdout",
          "text": [
            "120\n"
          ]
        }
      ]
    },
    {
      "cell_type": "code",
      "source": [
        "i=1\n",
        "product=1\n",
        "num=int(input(\"Enter a number\"))\n",
        "while i<=num:\n",
        "   product*=i\n",
        "   i+=1\n",
        "print(product)"
      ],
      "metadata": {
        "colab": {
          "base_uri": "https://localhost:8080/"
        },
        "id": "ug2WhEYG-nw1",
        "outputId": "e5e728d2-75f2-4611-d1bf-54dae1337527"
      },
      "execution_count": null,
      "outputs": [
        {
          "output_type": "stream",
          "name": "stdout",
          "text": [
            "Enter a number5\n",
            "120\n"
          ]
        }
      ]
    },
    {
      "cell_type": "code",
      "source": [
        "i=0\n",
        "num=int(input(\"enter the number\"))\n",
        "while i<num:\n",
        " print(\"Pakistan\")\n",
        " i+=1\n"
      ],
      "metadata": {
        "colab": {
          "base_uri": "https://localhost:8080/"
        },
        "id": "EPRKxmKH_EhB",
        "outputId": "25d25e43-f6ac-4e0f-af8b-7f1f13a0dbe2"
      },
      "execution_count": null,
      "outputs": [
        {
          "output_type": "stream",
          "name": "stdout",
          "text": [
            "enter the number10\n",
            "Pakistan\n",
            "Pakistan\n",
            "Pakistan\n",
            "Pakistan\n",
            "Pakistan\n",
            "Pakistan\n",
            "Pakistan\n",
            "Pakistan\n",
            "Pakistan\n",
            "Pakistan\n"
          ]
        }
      ]
    },
    {
      "cell_type": "code",
      "source": [
        "i=0\n",
        "while i<15:\n",
        " print(\"sorry\")\n",
        " i+=1"
      ],
      "metadata": {
        "colab": {
          "base_uri": "https://localhost:8080/"
        },
        "id": "1jYMNA3c_Vv4",
        "outputId": "903f6dda-815a-4ba1-9e56-93da97b5ca67"
      },
      "execution_count": null,
      "outputs": [
        {
          "output_type": "stream",
          "name": "stdout",
          "text": [
            "sorry\n",
            "sorry\n",
            "sorry\n",
            "sorry\n",
            "sorry\n",
            "sorry\n",
            "sorry\n",
            "sorry\n",
            "sorry\n",
            "sorry\n",
            "sorry\n",
            "sorry\n",
            "sorry\n",
            "sorry\n",
            "sorry\n"
          ]
        }
      ]
    },
    {
      "cell_type": "code",
      "source": [
        "i=2\n",
        "product=2\n",
        "while i<=10:\n",
        "   product*=i\n",
        "   i+=1\n",
        "print(product)"
      ],
      "metadata": {
        "colab": {
          "base_uri": "https://localhost:8080/"
        },
        "id": "7vk1wVgZ_nL0",
        "outputId": "afb45bb2-20c2-4db5-a2bf-045ac3d4d75d"
      },
      "execution_count": null,
      "outputs": [
        {
          "output_type": "stream",
          "name": "stdout",
          "text": [
            "7257600\n"
          ]
        }
      ]
    },
    {
      "cell_type": "code",
      "source": [
        "sum=0\n",
        "i=1\n",
        "num=int(input(\"enter the number\"))\n",
        "while i<=num:\n",
        "    sum=sum+i\n",
        "    i +=1\n",
        "print(sum)"
      ],
      "metadata": {
        "colab": {
          "base_uri": "https://localhost:8080/"
        },
        "id": "WmRCeY9L_xh1",
        "outputId": "88ae6827-91c0-4beb-a08f-c7e84e89cb8b"
      },
      "execution_count": null,
      "outputs": [
        {
          "output_type": "stream",
          "name": "stdout",
          "text": [
            "enter the number40\n",
            "820\n"
          ]
        }
      ]
    },
    {
      "cell_type": "code",
      "source": [
        "i=0\n",
        "while i<5:\n",
        " print(\"Pakistan\")\n",
        " i+=1\n",
        "print(\"country\")"
      ],
      "metadata": {
        "colab": {
          "base_uri": "https://localhost:8080/"
        },
        "id": "STys6fCq_8dr",
        "outputId": "5160b88e-7966-4401-d6c7-b9c059edf6b9"
      },
      "execution_count": null,
      "outputs": [
        {
          "output_type": "stream",
          "name": "stdout",
          "text": [
            "Pakistan\n",
            "Pakistan\n",
            "Pakistan\n",
            "Pakistan\n",
            "Pakistan\n",
            "country\n"
          ]
        }
      ]
    }
  ],
  "metadata": {
    "colab": {
      "toc_visible": true,
      "provenance": []
    },
    "kernelspec": {
      "display_name": "Python 3",
      "name": "python3"
    }
  },
  "nbformat": 4,
  "nbformat_minor": 0
}