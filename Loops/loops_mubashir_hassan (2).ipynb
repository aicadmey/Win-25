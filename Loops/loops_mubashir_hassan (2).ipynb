{
  "cells": [
    {
      "cell_type": "markdown",
      "source": [
        "LOOPS\n",
        "\n",
        "1- For Loops"
      ],
      "metadata": {
        "id": "EmTmAw4jOMAi"
      }
    },
    {
      "cell_type": "code",
      "source": [
        "word = \"mubashir\"\n",
        "for char in word:\n",
        "  print(char)"
      ],
      "metadata": {
        "id": "P2TkMvNdOYXp",
        "outputId": "6a03e839-e98d-49c5-b27b-afaebe43f0a2",
        "colab": {
          "base_uri": "https://localhost:8080/"
        }
      },
      "execution_count": null,
      "outputs": [
        {
          "output_type": "stream",
          "name": "stdout",
          "text": [
            "m\n",
            "u\n",
            "b\n",
            "a\n",
            "s\n",
            "h\n",
            "i\n",
            "r\n"
          ]
        }
      ]
    },
    {
      "cell_type": "code",
      "source": [
        "for i in range(5):\n",
        "  print(i)"
      ],
      "metadata": {
        "id": "xkg5DXUeO2IC",
        "outputId": "3288a165-9366-4acb-a34c-411f93ff2cf0",
        "colab": {
          "base_uri": "https://localhost:8080/"
        }
      },
      "execution_count": null,
      "outputs": [
        {
          "output_type": "stream",
          "name": "stdout",
          "text": [
            "0\n",
            "1\n",
            "2\n",
            "3\n",
            "4\n"
          ]
        }
      ]
    },
    {
      "cell_type": "code",
      "source": [
        "fruits = [\"apple\", \"banana\", \"cherry\"]\n",
        "for fruit in fruits:\n",
        "  print(fruit)"
      ],
      "metadata": {
        "id": "7Uoa0jMVPdjf",
        "outputId": "6ae9cb16-895d-4cce-99f3-d4b6a6d89ae6",
        "colab": {
          "base_uri": "https://localhost:8080/"
        }
      },
      "execution_count": null,
      "outputs": [
        {
          "output_type": "stream",
          "name": "stdout",
          "text": [
            "apple\n",
            "banana\n",
            "cherry\n"
          ]
        }
      ]
    },
    {
      "cell_type": "code",
      "source": [
        "str = [\"ali\", \"hamza\", \"rose\"]\n",
        "for Chr in str:\n",
        "  print(Chr)"
      ],
      "metadata": {
        "id": "TVgt9hpdPqwg",
        "outputId": "15b9391c-4099-468b-e5af-ab29df9149f9",
        "colab": {
          "base_uri": "https://localhost:8080/"
        }
      },
      "execution_count": null,
      "outputs": [
        {
          "output_type": "stream",
          "name": "stdout",
          "text": [
            "ali\n",
            "hamza\n",
            "rose\n"
          ]
        }
      ]
    },
    {
      "cell_type": "code",
      "source": [
        "for i in range(5):\n",
        "  print(\"hello peeps\")"
      ],
      "metadata": {
        "id": "c-7KKaQWQa_a",
        "outputId": "9420b9f4-7b6f-498e-9e7e-bc607dc678b7",
        "colab": {
          "base_uri": "https://localhost:8080/"
        }
      },
      "execution_count": null,
      "outputs": [
        {
          "output_type": "stream",
          "name": "stdout",
          "text": [
            "hello peeps\n",
            "hello peeps\n",
            "hello peeps\n",
            "hello peeps\n",
            "hello peeps\n"
          ]
        }
      ]
    },
    {
      "cell_type": "code",
      "source": [
        "word = \"Ai Cadmey\"\n",
        "for char in word:\n",
        "  print(char)"
      ],
      "metadata": {
        "id": "UBVNURGBQuGd",
        "outputId": "90483840-8d30-44a5-d33e-1e311341847c",
        "colab": {
          "base_uri": "https://localhost:8080/"
        }
      },
      "execution_count": null,
      "outputs": [
        {
          "output_type": "stream",
          "name": "stdout",
          "text": [
            "A\n",
            "i\n",
            " \n",
            "C\n",
            "a\n",
            "d\n",
            "m\n",
            "e\n",
            "y\n"
          ]
        }
      ]
    },
    {
      "cell_type": "code",
      "source": [
        "for i in range(3):\n",
        "  for j in range(2):\n",
        "    print(i, j)"
      ],
      "metadata": {
        "id": "_umrg7MjRQvU",
        "outputId": "9e1392da-8e87-40fd-8fe1-9b32f9346ba7",
        "colab": {
          "base_uri": "https://localhost:8080/"
        }
      },
      "execution_count": null,
      "outputs": [
        {
          "output_type": "stream",
          "name": "stdout",
          "text": [
            "0 0\n",
            "0 1\n",
            "1 0\n",
            "1 1\n",
            "2 0\n",
            "2 1\n"
          ]
        }
      ]
    },
    {
      "cell_type": "code",
      "source": [
        "for i in range(10):\n",
        "  if i == 5:\n",
        "    break\n",
        "  print(i)"
      ],
      "metadata": {
        "id": "5rEmtwxyRT1q",
        "outputId": "861d336e-1faa-4faf-c7cb-d7189c061a64",
        "colab": {
          "base_uri": "https://localhost:8080/"
        }
      },
      "execution_count": null,
      "outputs": [
        {
          "output_type": "stream",
          "name": "stdout",
          "text": [
            "0\n",
            "1\n",
            "2\n",
            "3\n",
            "4\n"
          ]
        }
      ]
    },
    {
      "cell_type": "code",
      "source": [
        "for i in range(1, 11):\n",
        "    print(i)"
      ],
      "metadata": {
        "id": "WlHhM-IoRlAM",
        "outputId": "8ac5cba0-4dc7-4608-ef9b-d3a069f73cb5",
        "colab": {
          "base_uri": "https://localhost:8080/"
        }
      },
      "execution_count": null,
      "outputs": [
        {
          "output_type": "stream",
          "name": "stdout",
          "text": [
            "1\n",
            "2\n",
            "3\n",
            "4\n",
            "5\n",
            "6\n",
            "7\n",
            "8\n",
            "9\n",
            "10\n"
          ]
        }
      ]
    },
    {
      "cell_type": "code",
      "source": [
        "for i in range(5):\n",
        "    print(\"Hello, world!\")"
      ],
      "metadata": {
        "id": "9GUp7yYERmsq",
        "outputId": "25a1dc91-068f-4a15-d048-f7d7245ebd69",
        "colab": {
          "base_uri": "https://localhost:8080/"
        }
      },
      "execution_count": null,
      "outputs": [
        {
          "output_type": "stream",
          "name": "stdout",
          "text": [
            "Hello, world!\n",
            "Hello, world!\n",
            "Hello, world!\n",
            "Hello, world!\n",
            "Hello, world!\n"
          ]
        }
      ]
    },
    {
      "cell_type": "markdown",
      "source": [
        "2- nested loop"
      ],
      "metadata": {
        "id": "4Tc5v0fRRsrK"
      }
    },
    {
      "cell_type": "markdown",
      "source": [],
      "metadata": {
        "id": "TXW7stFIRxtF"
      }
    },
    {
      "cell_type": "code",
      "source": [
        "for i in range(5):\n",
        "    for j in range(i+1):\n",
        "        print(\"*\", end=\"\")\n",
        "    print()"
      ],
      "metadata": {
        "id": "yQOkE9fOSY5H",
        "outputId": "6e8822f1-6896-4c6b-bc51-09d359833feb",
        "colab": {
          "base_uri": "https://localhost:8080/"
        }
      },
      "execution_count": null,
      "outputs": [
        {
          "output_type": "stream",
          "name": "stdout",
          "text": [
            "*\n",
            "**\n",
            "***\n",
            "****\n",
            "*****\n"
          ]
        }
      ]
    },
    {
      "cell_type": "code",
      "source": [
        "for i in range(1, 6):\n",
        "    for j in range(5, i+1):\n",
        "        print(j, end=\" \")\n",
        "    print()"
      ],
      "metadata": {
        "id": "6AQWwq7yTQpw",
        "outputId": "4a9523bb-9ee3-47d0-a2f5-49a2aa199630",
        "colab": {
          "base_uri": "https://localhost:8080/"
        }
      },
      "execution_count": null,
      "outputs": [
        {
          "output_type": "stream",
          "name": "stdout",
          "text": [
            "\n",
            "\n",
            "\n",
            "\n",
            "5 \n"
          ]
        }
      ]
    },
    {
      "cell_type": "code",
      "source": [
        "for i in range(5):\n",
        "  for j in range(5):\n",
        "    print(\"hello\", end=\" \")\n",
        "  print()"
      ],
      "metadata": {
        "colab": {
          "base_uri": "https://localhost:8080/"
        },
        "id": "78GOdPqwTXvl",
        "outputId": "bc9441c9-48dd-4aa8-81ca-fcb7cfffbcc3"
      },
      "execution_count": null,
      "outputs": [
        {
          "output_type": "stream",
          "name": "stdout",
          "text": [
            "hello hello hello hello hello \n",
            "hello hello hello hello hello \n",
            "hello hello hello hello hello \n",
            "hello hello hello hello hello \n",
            "hello hello hello hello hello \n"
          ]
        }
      ]
    },
    {
      "cell_type": "code",
      "source": [
        "for i in range(2):\n",
        "  print (i)\n",
        "  for j in range(10, 13):\n",
        "    print(j)\n"
      ],
      "metadata": {
        "id": "DfmCXvNbTkiW",
        "outputId": "e0b60744-0372-4f82-9f3c-cfeed712e478",
        "colab": {
          "base_uri": "https://localhost:8080/"
        }
      },
      "execution_count": null,
      "outputs": [
        {
          "output_type": "stream",
          "name": "stdout",
          "text": [
            "0\n",
            "10\n",
            "11\n",
            "12\n",
            "1\n",
            "10\n",
            "11\n",
            "12\n"
          ]
        }
      ]
    },
    {
      "cell_type": "code",
      "source": [
        "for i in range(2):\n",
        "  print (i)\n",
        "  for j in range(10):\n",
        "    print(j)"
      ],
      "metadata": {
        "id": "w4Azqfj234VW",
        "outputId": "b4c0de19-ced6-483f-8f73-36aa55f3bdb4",
        "colab": {
          "base_uri": "https://localhost:8080/"
        }
      },
      "execution_count": null,
      "outputs": [
        {
          "output_type": "stream",
          "name": "stdout",
          "text": [
            "0\n",
            "0\n",
            "1\n",
            "2\n",
            "3\n",
            "4\n",
            "5\n",
            "6\n",
            "7\n",
            "8\n",
            "9\n",
            "1\n",
            "0\n",
            "1\n",
            "2\n",
            "3\n",
            "4\n",
            "5\n",
            "6\n",
            "7\n",
            "8\n",
            "9\n"
          ]
        }
      ]
    },
    {
      "cell_type": "code",
      "source": [
        "x = [1, 2]\n",
        "y = [4, 5]\n",
        "\n",
        "for i in x:\n",
        "  for j in y:\n",
        "    print(i, j)"
      ],
      "metadata": {
        "id": "ARzycw_W4TYo",
        "outputId": "502f8f84-9b2d-4b20-b8eb-69f8eef9e080",
        "colab": {
          "base_uri": "https://localhost:8080/"
        }
      },
      "execution_count": null,
      "outputs": [
        {
          "output_type": "stream",
          "name": "stdout",
          "text": [
            "1 4\n",
            "1 5\n",
            "2 4\n",
            "2 5\n"
          ]
        }
      ]
    },
    {
      "cell_type": "code",
      "source": [
        "for i in range(5):\n",
        "  for j in range(i+1):\n",
        "    print(\"*\", end=\"\")\n",
        "  print()"
      ],
      "metadata": {
        "id": "Eqc8bVj04YK0",
        "outputId": "cdcf213e-3daa-4eb9-c3bb-6e5503689f55",
        "colab": {
          "base_uri": "https://localhost:8080/"
        }
      },
      "execution_count": null,
      "outputs": [
        {
          "output_type": "stream",
          "name": "stdout",
          "text": [
            "*\n",
            "**\n",
            "***\n",
            "****\n",
            "*****\n"
          ]
        }
      ]
    },
    {
      "cell_type": "code",
      "source": [
        "for i in range(1, 11):\n",
        "  for j in range(1, 11):\n",
        "    print(i * j, end=\"\\t\")\n",
        "  print()"
      ],
      "metadata": {
        "id": "ei7aBUt_442j",
        "outputId": "083e09a7-8276-4997-afdf-5d25c7db2dec",
        "colab": {
          "base_uri": "https://localhost:8080/"
        }
      },
      "execution_count": null,
      "outputs": [
        {
          "output_type": "stream",
          "name": "stdout",
          "text": [
            "1\t2\t3\t4\t5\t6\t7\t8\t9\t10\t\n",
            "2\t4\t6\t8\t10\t12\t14\t16\t18\t20\t\n",
            "3\t6\t9\t12\t15\t18\t21\t24\t27\t30\t\n",
            "4\t8\t12\t16\t20\t24\t28\t32\t36\t40\t\n",
            "5\t10\t15\t20\t25\t30\t35\t40\t45\t50\t\n",
            "6\t12\t18\t24\t30\t36\t42\t48\t54\t60\t\n",
            "7\t14\t21\t28\t35\t42\t49\t56\t63\t70\t\n",
            "8\t16\t24\t32\t40\t48\t56\t64\t72\t80\t\n",
            "9\t18\t27\t36\t45\t54\t63\t72\t81\t90\t\n",
            "10\t20\t30\t40\t50\t60\t70\t80\t90\t100\t\n"
          ]
        }
      ]
    },
    {
      "cell_type": "code",
      "source": [
        "for i in range(1, 11):\n",
        "  for j in range(1, 11):\n",
        "    print(i + j, end=\"\\t\")\n",
        "  print()"
      ],
      "metadata": {
        "id": "Wo43jenG5NMW",
        "outputId": "167480bf-970b-4ee6-9080-85ad52ffa4a0",
        "colab": {
          "base_uri": "https://localhost:8080/"
        }
      },
      "execution_count": null,
      "outputs": [
        {
          "output_type": "stream",
          "name": "stdout",
          "text": [
            "2\t3\t4\t5\t6\t7\t8\t9\t10\t11\t\n",
            "3\t4\t5\t6\t7\t8\t9\t10\t11\t12\t\n",
            "4\t5\t6\t7\t8\t9\t10\t11\t12\t13\t\n",
            "5\t6\t7\t8\t9\t10\t11\t12\t13\t14\t\n",
            "6\t7\t8\t9\t10\t11\t12\t13\t14\t15\t\n",
            "7\t8\t9\t10\t11\t12\t13\t14\t15\t16\t\n",
            "8\t9\t10\t11\t12\t13\t14\t15\t16\t17\t\n",
            "9\t10\t11\t12\t13\t14\t15\t16\t17\t18\t\n",
            "10\t11\t12\t13\t14\t15\t16\t17\t18\t19\t\n",
            "11\t12\t13\t14\t15\t16\t17\t18\t19\t20\t\n"
          ]
        }
      ]
    },
    {
      "cell_type": "code",
      "source": [],
      "metadata": {
        "id": "csPrvTyF5TnI"
      },
      "execution_count": null,
      "outputs": []
    },
    {
      "cell_type": "code",
      "source": [
        "for i in range(1):\n",
        "  for j in range(2):\n",
        "    print(\"oye\", end=\" \")\n",
        "  print()"
      ],
      "metadata": {
        "outputId": "99a6e1f1-bfbb-416d-b67c-5f918c1dfd92",
        "colab": {
          "base_uri": "https://localhost:8080/"
        },
        "id": "WUITlk6_5lCN"
      },
      "execution_count": null,
      "outputs": [
        {
          "output_type": "stream",
          "name": "stdout",
          "text": [
            "oye oye \n"
          ]
        }
      ]
    }
  ],
  "metadata": {
    "colab": {
      "toc_visible": true,
      "provenance": []
    },
    "kernelspec": {
      "display_name": "Python 3",
      "name": "python3"
    }
  },
  "nbformat": 4,
  "nbformat_minor": 0
}