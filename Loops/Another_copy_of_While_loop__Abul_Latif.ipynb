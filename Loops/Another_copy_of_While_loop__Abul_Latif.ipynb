{
  "nbformat": 4,
  "nbformat_minor": 0,
  "metadata": {
    "colab": {
      "provenance": []
    },
    "kernelspec": {
      "name": "python3",
      "display_name": "Python 3"
    },
    "language_info": {
      "name": "python"
    }
  },
  "cells": [
    {
      "cell_type": "code",
      "execution_count": null,
      "metadata": {
        "id": "iZQKS8a5yPAL"
      },
      "outputs": [],
      "source": [
        "# EXAMPLES OF WHILE LOOP\n"
      ]
    },
    {
      "cell_type": "code",
      "source": [
        "count = 1\n",
        "while count <= 5:\n",
        "    print(count)\n",
        "    count += 1\n"
      ],
      "metadata": {
        "colab": {
          "base_uri": "https://localhost:8080/"
        },
        "id": "_Rjh3NRbyYtu",
        "outputId": "6be3c057-9d90-4089-c39d-d6422831d3ba"
      },
      "execution_count": null,
      "outputs": [
        {
          "output_type": "stream",
          "name": "stdout",
          "text": [
            "1\n",
            "2\n",
            "3\n",
            "4\n",
            "5\n"
          ]
        }
      ]
    },
    {
      "cell_type": "code",
      "source": [
        "sum = 0\n",
        "num = 1\n",
        "while num <= 10:\n",
        "    sum += num\n",
        "    num += 1\n",
        "print(\"Sum:\", sum)\n"
      ],
      "metadata": {
        "id": "BKx15jOcyY4D"
      },
      "execution_count": null,
      "outputs": []
    },
    {
      "cell_type": "code",
      "source": [
        "name = \"\"\n",
        "while name == \"\":\n",
        "    name = input(\"Enter your name: \")\n",
        "print(\"Hello, \" + name)\n"
      ],
      "metadata": {
        "id": "Qh8_cUdQyZBr"
      },
      "execution_count": null,
      "outputs": []
    },
    {
      "cell_type": "code",
      "source": [
        "count = 10\n",
        "while count > 0:\n",
        "    print(count)\n",
        "    count -= 1\n"
      ],
      "metadata": {
        "colab": {
          "base_uri": "https://localhost:8080/"
        },
        "id": "HwMcSyUNyZLQ",
        "outputId": "315a8071-5c74-4b3c-ebd1-6d955e6bb1c4"
      },
      "execution_count": null,
      "outputs": [
        {
          "output_type": "stream",
          "name": "stdout",
          "text": [
            "10\n",
            "9\n",
            "8\n",
            "7\n",
            "6\n",
            "5\n",
            "4\n",
            "3\n",
            "2\n",
            "1\n"
          ]
        }
      ]
    },
    {
      "cell_type": "code",
      "source": [
        "number = 5\n",
        "i = 1\n",
        "while i <= 10:\n",
        "    print(f\"{number} x {i} = {number * i}\")\n",
        "    i += 1\n"
      ],
      "metadata": {
        "id": "ooOMWflyyZdF"
      },
      "execution_count": null,
      "outputs": []
    },
    {
      "cell_type": "code",
      "source": [
        "num = 2\n",
        "while num <= 20:\n",
        "    print(num)\n",
        "    num += 2\n"
      ],
      "metadata": {
        "id": "pXfMNaYSyZld"
      },
      "execution_count": null,
      "outputs": []
    },
    {
      "cell_type": "code",
      "source": [
        "sum = 4\n",
        "num = 1\n",
        "while num <= 10:\n",
        "    sum += num\n",
        "    num += 1\n",
        "print(\"Sum:\", sum)\n"
      ],
      "metadata": {
        "colab": {
          "base_uri": "https://localhost:8080/"
        },
        "id": "Q3ESvhuNyZvm",
        "outputId": "0dd28548-7a11-4e0f-ec36-86983b90961c"
      },
      "execution_count": null,
      "outputs": [
        {
          "output_type": "stream",
          "name": "stdout",
          "text": [
            "Sum: 59\n"
          ]
        }
      ]
    },
    {
      "cell_type": "code",
      "source": [
        "count = 34\n",
        "while count > 0:\n",
        "    print(count)\n",
        "    count -= 1\n"
      ],
      "metadata": {
        "id": "jV5HOfzDyZ3-"
      },
      "execution_count": null,
      "outputs": []
    },
    {
      "cell_type": "code",
      "source": [
        "number = 1\n",
        "even_sum = 0\n",
        "while number <= 10:\n",
        "    if number % 2 == 0:\n",
        "        even_sum += number\n",
        "    number += 1\n",
        "print(\"Sum of even numbers:\", even_sum)\n"
      ],
      "metadata": {
        "id": "WP1UIie8yaET"
      },
      "execution_count": null,
      "outputs": []
    }
  ]
}