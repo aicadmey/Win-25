{
  "nbformat": 4,
  "nbformat_minor": 0,
  "metadata": {
    "colab": {
      "provenance": []
    },
    "kernelspec": {
      "name": "python3",
      "display_name": "Python 3"
    },
    "language_info": {
      "name": "python"
    }
  },
  "cells": [
    {
      "cell_type": "markdown",
      "source": [
        "Example of for loop"
      ],
      "metadata": {
        "id": "T2_ya_CB8JME"
      }
    },
    {
      "cell_type": "code",
      "execution_count": null,
      "metadata": {
        "colab": {
          "base_uri": "https://localhost:8080/"
        },
        "id": "Y24Q52fh76_-",
        "outputId": "9deb70a3-4a90-4790-a47b-2b019e79559d"
      },
      "outputs": [
        {
          "output_type": "stream",
          "name": "stdout",
          "text": [
            "1\n",
            "2\n",
            "3\n",
            "4\n",
            "5\n",
            "6\n",
            "7\n",
            "8\n",
            "9\n",
            "10\n",
            "1 2 3 4 5 6 7 8 9 10 12345678910"
          ]
        }
      ],
      "source": [
        "#natural no\n",
        "#1\n",
        "for i in range(1, 11):\n",
        "    print(i)\n",
        "\n",
        "#2\n",
        "for i in range(1, 11):\n",
        "    print(i, end=\" \")\n"
      ]
    },
    {
      "cell_type": "code",
      "source": [
        "#3 even no\n",
        "for i in range(2, 21, 2):\n",
        "    print(i)\n",
        "\n",
        "#4 odd no\n",
        "for i in range(1, 20, 2):\n",
        "    print(i)\n",
        "#5 prime no\n",
        "for num in range(2, 21):\n",
        "    for i in range(2, num):\n",
        "       if (num % i) == 0:\n",
        "            break\n",
        "    else:\n",
        "       print(num)"
      ],
      "metadata": {
        "colab": {
          "base_uri": "https://localhost:8080/"
        },
        "id": "r4VewJKH8OhL",
        "outputId": "1022de0d-1eb0-4a60-8a3e-7fbd93113ad5"
      },
      "execution_count": null,
      "outputs": [
        {
          "output_type": "stream",
          "name": "stdout",
          "text": [
            "2\n",
            "4\n",
            "6\n",
            "8\n",
            "10\n",
            "12\n",
            "14\n",
            "16\n",
            "18\n",
            "20\n",
            "1\n",
            "3\n",
            "5\n",
            "7\n",
            "9\n",
            "11\n",
            "13\n",
            "15\n",
            "17\n",
            "19\n",
            "2\n",
            "3\n",
            "5\n",
            "7\n",
            "11\n",
            "13\n",
            "17\n",
            "19\n"
          ]
        }
      ]
    },
    {
      "cell_type": "code",
      "source": [
        "#8\n",
        "my_list = [10, 20, 30, 40, 50]\n",
        "for num in my_list:\n",
        "    print(num)"
      ],
      "metadata": {
        "colab": {
          "base_uri": "https://localhost:8080/"
        },
        "id": "fbl9gWOqCg_F",
        "outputId": "455b3e41-ccd7-41e0-a7bb-525d5e1ade7e"
      },
      "execution_count": null,
      "outputs": [
        {
          "output_type": "stream",
          "name": "stdout",
          "text": [
            "10\n",
            "20\n",
            "30\n",
            "40\n",
            "50\n"
          ]
        }
      ]
    },
    {
      "cell_type": "code",
      "source": [
        "#6 specific pattern\n",
        "for i in range(1, 6):\n",
        "    print(\"#\" * i)\n",
        "\n",
        "#7\n",
        "for i in range(5, 0, -1):\n",
        "    print(\"#\" * i)"
      ],
      "metadata": {
        "colab": {
          "base_uri": "https://localhost:8080/"
        },
        "id": "3NChCDSM8b2J",
        "outputId": "b39a7c8c-c444-4776-dad9-9ae203d58923"
      },
      "execution_count": null,
      "outputs": [
        {
          "output_type": "stream",
          "name": "stdout",
          "text": [
            "#\n",
            "##\n",
            "###\n",
            "####\n",
            "#####\n",
            "#####\n",
            "####\n",
            "###\n",
            "##\n",
            "#\n"
          ]
        }
      ]
    },
    {
      "cell_type": "markdown",
      "source": [
        "Example of nested loops"
      ],
      "metadata": {
        "id": "bfGXaprI96Om"
      }
    },
    {
      "cell_type": "code",
      "source": [
        "#1 Table 1-10\n",
        "for i in range(1, 11):\n",
        "    for j in range(1, 11):\n",
        "        print(i * j , end = \"\\t\")\n",
        "    print()\n"
      ],
      "metadata": {
        "colab": {
          "base_uri": "https://localhost:8080/"
        },
        "id": "XvWiOrJE8cii",
        "outputId": "861e6634-bcb2-4ef5-c774-175a31f778d2"
      },
      "execution_count": null,
      "outputs": [
        {
          "output_type": "stream",
          "name": "stdout",
          "text": [
            "1\t2\t3\t4\t5\t6\t7\t8\t9\t10\t\n",
            "2\t4\t6\t8\t10\t12\t14\t16\t18\t20\t\n",
            "3\t6\t9\t12\t15\t18\t21\t24\t27\t30\t\n",
            "4\t8\t12\t16\t20\t24\t28\t32\t36\t40\t\n",
            "5\t10\t15\t20\t25\t30\t35\t40\t45\t50\t\n",
            "6\t12\t18\t24\t30\t36\t42\t48\t54\t60\t\n",
            "7\t14\t21\t28\t35\t42\t49\t56\t63\t70\t\n",
            "8\t16\t24\t32\t40\t48\t56\t64\t72\t80\t\n",
            "9\t18\t27\t36\t45\t54\t63\t72\t81\t90\t\n",
            "10\t20\t30\t40\t50\t60\t70\t80\t90\t100\t\n"
          ]
        }
      ]
    },
    {
      "cell_type": "code",
      "source": [
        "#2\n",
        "for i in range(1, 6):\n",
        "    for j in range(1, 6):\n",
        "        print(\"*\", end=\"\")\n",
        "    print()"
      ],
      "metadata": {
        "id": "3ss-Md1r_meg",
        "colab": {
          "base_uri": "https://localhost:8080/"
        },
        "outputId": "154ad1b0-1031-40dc-b0f8-a14b8232d287"
      },
      "execution_count": null,
      "outputs": [
        {
          "output_type": "stream",
          "name": "stdout",
          "text": [
            "*****\n",
            "*****\n",
            "*****\n",
            "*****\n",
            "*****\n"
          ]
        }
      ]
    },
    {
      "cell_type": "code",
      "source": [
        "#3\n",
        "for i in range(1, 6):\n",
        "    for j in range(1, 6):\n",
        "        print(i*\"*\", end=\"\")\n",
        "    print()"
      ],
      "metadata": {
        "id": "vHpJ_CTQCmSY",
        "colab": {
          "base_uri": "https://localhost:8080/"
        },
        "outputId": "74bd7fc3-d2ab-40e7-f423-965003d3428f"
      },
      "execution_count": null,
      "outputs": [
        {
          "output_type": "stream",
          "name": "stdout",
          "text": [
            "*****\n",
            "**********\n",
            "***************\n",
            "********************\n",
            "*************************\n"
          ]
        }
      ]
    }
  ]
}