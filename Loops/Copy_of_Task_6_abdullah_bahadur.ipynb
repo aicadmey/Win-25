{
  "nbformat": 4,
  "nbformat_minor": 0,
  "metadata": {
    "colab": {
      "provenance": []
    },
    "kernelspec": {
      "name": "python3",
      "display_name": "Python 3"
    },
    "language_info": {
      "name": "python"
    }
  },
  "cells": [
    {
      "cell_type": "code",
      "source": [
        "num = 0\n",
        "while num < 10:\n",
        "    print(\"AEMAN IS A GOOD SENIOR\")\n",
        "    num += 1"
      ],
      "metadata": {
        "colab": {
          "base_uri": "https://localhost:8080/"
        },
        "id": "PohrvGFRrziB",
        "outputId": "dfb304c6-27fe-4756-88d1-a9f56c449f0c"
      },
      "execution_count": null,
      "outputs": [
        {
          "output_type": "stream",
          "name": "stdout",
          "text": [
            "AEMAN IS A GOOD SENIOR\n",
            "AEMAN IS A GOOD SENIOR\n",
            "AEMAN IS A GOOD SENIOR\n",
            "AEMAN IS A GOOD SENIOR\n",
            "AEMAN IS A GOOD SENIOR\n",
            "AEMAN IS A GOOD SENIOR\n",
            "AEMAN IS A GOOD SENIOR\n",
            "AEMAN IS A GOOD SENIOR\n",
            "AEMAN IS A GOOD SENIOR\n",
            "AEMAN IS A GOOD SENIOR\n"
          ]
        }
      ]
    },
    {
      "cell_type": "code",
      "source": [
        "num = 0\n",
        "while num < 10:\n",
        "    print(\"AEMAN IS A GOOD GIRL\")\n",
        "    num += 1"
      ],
      "metadata": {
        "colab": {
          "base_uri": "https://localhost:8080/"
        },
        "id": "U5lbvS-yrq3I",
        "outputId": "a35b1e29-fea0-403d-dbef-9ea3110a462d"
      },
      "execution_count": null,
      "outputs": [
        {
          "output_type": "stream",
          "name": "stdout",
          "text": [
            "AEMAN IS A GOOD GIRL\n",
            "AEMAN IS A GOOD GIRL\n",
            "AEMAN IS A GOOD GIRL\n",
            "AEMAN IS A GOOD GIRL\n",
            "AEMAN IS A GOOD GIRL\n",
            "AEMAN IS A GOOD GIRL\n",
            "AEMAN IS A GOOD GIRL\n",
            "AEMAN IS A GOOD GIRL\n",
            "AEMAN IS A GOOD GIRL\n",
            "AEMAN IS A GOOD GIRL\n"
          ]
        }
      ]
    },
    {
      "cell_type": "code",
      "source": [
        "num = 0\n",
        "while num < 10:\n",
        "    print(\"AEMAN IS NICE LADY\")\n",
        "    num += 1"
      ],
      "metadata": {
        "colab": {
          "base_uri": "https://localhost:8080/"
        },
        "id": "5s2XyLWwrdcp",
        "outputId": "d6d37600-7387-4a2c-dd2e-64ec182ec3e8"
      },
      "execution_count": null,
      "outputs": [
        {
          "output_type": "stream",
          "name": "stdout",
          "text": [
            "AEMAN IS NICE LADY\n",
            "AEMAN IS NICE LADY\n",
            "AEMAN IS NICE LADY\n",
            "AEMAN IS NICE LADY\n",
            "AEMAN IS NICE LADY\n",
            "AEMAN IS NICE LADY\n",
            "AEMAN IS NICE LADY\n",
            "AEMAN IS NICE LADY\n",
            "AEMAN IS NICE LADY\n",
            "AEMAN IS NICE LADY\n"
          ]
        }
      ]
    },
    {
      "cell_type": "code",
      "source": [
        "num = 0\n",
        "while num < 100:\n",
        "    print(\"AEMAN CHAUDARY IS A BEST INTRUCTOR\")\n",
        "    num += 1"
      ],
      "metadata": {
        "colab": {
          "base_uri": "https://localhost:8080/"
        },
        "id": "EjLaBPclqw8Y",
        "outputId": "bdab2017-184e-4814-aadf-c35747628226"
      },
      "execution_count": null,
      "outputs": [
        {
          "output_type": "stream",
          "name": "stdout",
          "text": [
            "AEMAN CHAUDARY IS A BEST INTRUCTOR\n",
            "AEMAN CHAUDARY IS A BEST INTRUCTOR\n",
            "AEMAN CHAUDARY IS A BEST INTRUCTOR\n",
            "AEMAN CHAUDARY IS A BEST INTRUCTOR\n",
            "AEMAN CHAUDARY IS A BEST INTRUCTOR\n",
            "AEMAN CHAUDARY IS A BEST INTRUCTOR\n",
            "AEMAN CHAUDARY IS A BEST INTRUCTOR\n",
            "AEMAN CHAUDARY IS A BEST INTRUCTOR\n",
            "AEMAN CHAUDARY IS A BEST INTRUCTOR\n",
            "AEMAN CHAUDARY IS A BEST INTRUCTOR\n",
            "AEMAN CHAUDARY IS A BEST INTRUCTOR\n",
            "AEMAN CHAUDARY IS A BEST INTRUCTOR\n",
            "AEMAN CHAUDARY IS A BEST INTRUCTOR\n",
            "AEMAN CHAUDARY IS A BEST INTRUCTOR\n",
            "AEMAN CHAUDARY IS A BEST INTRUCTOR\n",
            "AEMAN CHAUDARY IS A BEST INTRUCTOR\n",
            "AEMAN CHAUDARY IS A BEST INTRUCTOR\n",
            "AEMAN CHAUDARY IS A BEST INTRUCTOR\n",
            "AEMAN CHAUDARY IS A BEST INTRUCTOR\n",
            "AEMAN CHAUDARY IS A BEST INTRUCTOR\n",
            "AEMAN CHAUDARY IS A BEST INTRUCTOR\n",
            "AEMAN CHAUDARY IS A BEST INTRUCTOR\n",
            "AEMAN CHAUDARY IS A BEST INTRUCTOR\n",
            "AEMAN CHAUDARY IS A BEST INTRUCTOR\n",
            "AEMAN CHAUDARY IS A BEST INTRUCTOR\n",
            "AEMAN CHAUDARY IS A BEST INTRUCTOR\n",
            "AEMAN CHAUDARY IS A BEST INTRUCTOR\n",
            "AEMAN CHAUDARY IS A BEST INTRUCTOR\n",
            "AEMAN CHAUDARY IS A BEST INTRUCTOR\n",
            "AEMAN CHAUDARY IS A BEST INTRUCTOR\n",
            "AEMAN CHAUDARY IS A BEST INTRUCTOR\n",
            "AEMAN CHAUDARY IS A BEST INTRUCTOR\n",
            "AEMAN CHAUDARY IS A BEST INTRUCTOR\n",
            "AEMAN CHAUDARY IS A BEST INTRUCTOR\n",
            "AEMAN CHAUDARY IS A BEST INTRUCTOR\n",
            "AEMAN CHAUDARY IS A BEST INTRUCTOR\n",
            "AEMAN CHAUDARY IS A BEST INTRUCTOR\n",
            "AEMAN CHAUDARY IS A BEST INTRUCTOR\n",
            "AEMAN CHAUDARY IS A BEST INTRUCTOR\n",
            "AEMAN CHAUDARY IS A BEST INTRUCTOR\n",
            "AEMAN CHAUDARY IS A BEST INTRUCTOR\n",
            "AEMAN CHAUDARY IS A BEST INTRUCTOR\n",
            "AEMAN CHAUDARY IS A BEST INTRUCTOR\n",
            "AEMAN CHAUDARY IS A BEST INTRUCTOR\n",
            "AEMAN CHAUDARY IS A BEST INTRUCTOR\n",
            "AEMAN CHAUDARY IS A BEST INTRUCTOR\n",
            "AEMAN CHAUDARY IS A BEST INTRUCTOR\n",
            "AEMAN CHAUDARY IS A BEST INTRUCTOR\n",
            "AEMAN CHAUDARY IS A BEST INTRUCTOR\n",
            "AEMAN CHAUDARY IS A BEST INTRUCTOR\n",
            "AEMAN CHAUDARY IS A BEST INTRUCTOR\n",
            "AEMAN CHAUDARY IS A BEST INTRUCTOR\n",
            "AEMAN CHAUDARY IS A BEST INTRUCTOR\n",
            "AEMAN CHAUDARY IS A BEST INTRUCTOR\n",
            "AEMAN CHAUDARY IS A BEST INTRUCTOR\n",
            "AEMAN CHAUDARY IS A BEST INTRUCTOR\n",
            "AEMAN CHAUDARY IS A BEST INTRUCTOR\n",
            "AEMAN CHAUDARY IS A BEST INTRUCTOR\n",
            "AEMAN CHAUDARY IS A BEST INTRUCTOR\n",
            "AEMAN CHAUDARY IS A BEST INTRUCTOR\n",
            "AEMAN CHAUDARY IS A BEST INTRUCTOR\n",
            "AEMAN CHAUDARY IS A BEST INTRUCTOR\n",
            "AEMAN CHAUDARY IS A BEST INTRUCTOR\n",
            "AEMAN CHAUDARY IS A BEST INTRUCTOR\n",
            "AEMAN CHAUDARY IS A BEST INTRUCTOR\n",
            "AEMAN CHAUDARY IS A BEST INTRUCTOR\n",
            "AEMAN CHAUDARY IS A BEST INTRUCTOR\n",
            "AEMAN CHAUDARY IS A BEST INTRUCTOR\n",
            "AEMAN CHAUDARY IS A BEST INTRUCTOR\n",
            "AEMAN CHAUDARY IS A BEST INTRUCTOR\n",
            "AEMAN CHAUDARY IS A BEST INTRUCTOR\n",
            "AEMAN CHAUDARY IS A BEST INTRUCTOR\n",
            "AEMAN CHAUDARY IS A BEST INTRUCTOR\n",
            "AEMAN CHAUDARY IS A BEST INTRUCTOR\n",
            "AEMAN CHAUDARY IS A BEST INTRUCTOR\n",
            "AEMAN CHAUDARY IS A BEST INTRUCTOR\n",
            "AEMAN CHAUDARY IS A BEST INTRUCTOR\n",
            "AEMAN CHAUDARY IS A BEST INTRUCTOR\n",
            "AEMAN CHAUDARY IS A BEST INTRUCTOR\n",
            "AEMAN CHAUDARY IS A BEST INTRUCTOR\n",
            "AEMAN CHAUDARY IS A BEST INTRUCTOR\n",
            "AEMAN CHAUDARY IS A BEST INTRUCTOR\n",
            "AEMAN CHAUDARY IS A BEST INTRUCTOR\n",
            "AEMAN CHAUDARY IS A BEST INTRUCTOR\n",
            "AEMAN CHAUDARY IS A BEST INTRUCTOR\n",
            "AEMAN CHAUDARY IS A BEST INTRUCTOR\n",
            "AEMAN CHAUDARY IS A BEST INTRUCTOR\n",
            "AEMAN CHAUDARY IS A BEST INTRUCTOR\n",
            "AEMAN CHAUDARY IS A BEST INTRUCTOR\n",
            "AEMAN CHAUDARY IS A BEST INTRUCTOR\n",
            "AEMAN CHAUDARY IS A BEST INTRUCTOR\n",
            "AEMAN CHAUDARY IS A BEST INTRUCTOR\n",
            "AEMAN CHAUDARY IS A BEST INTRUCTOR\n",
            "AEMAN CHAUDARY IS A BEST INTRUCTOR\n",
            "AEMAN CHAUDARY IS A BEST INTRUCTOR\n",
            "AEMAN CHAUDARY IS A BEST INTRUCTOR\n",
            "AEMAN CHAUDARY IS A BEST INTRUCTOR\n",
            "AEMAN CHAUDARY IS A BEST INTRUCTOR\n",
            "AEMAN CHAUDARY IS A BEST INTRUCTOR\n",
            "AEMAN CHAUDARY IS A BEST INTRUCTOR\n"
          ]
        }
      ]
    },
    {
      "cell_type": "code",
      "source": [
        "num = 0\n",
        "while num < 10:\n",
        "    print(\"SYED KUMAIL IS CEO OF A.I CADMAEY\")\n",
        "    num += 1"
      ],
      "metadata": {
        "colab": {
          "base_uri": "https://localhost:8080/"
        },
        "id": "eNw1nc-iqjtz",
        "outputId": "ec296c62-fc1f-43d2-cfcf-774fcf797cee"
      },
      "execution_count": null,
      "outputs": [
        {
          "output_type": "stream",
          "name": "stdout",
          "text": [
            "SYED KUMAIL IS CEO OF A.I CADMAEY\n",
            "SYED KUMAIL IS CEO OF A.I CADMAEY\n",
            "SYED KUMAIL IS CEO OF A.I CADMAEY\n",
            "SYED KUMAIL IS CEO OF A.I CADMAEY\n",
            "SYED KUMAIL IS CEO OF A.I CADMAEY\n",
            "SYED KUMAIL IS CEO OF A.I CADMAEY\n",
            "SYED KUMAIL IS CEO OF A.I CADMAEY\n",
            "SYED KUMAIL IS CEO OF A.I CADMAEY\n",
            "SYED KUMAIL IS CEO OF A.I CADMAEY\n",
            "SYED KUMAIL IS CEO OF A.I CADMAEY\n"
          ]
        }
      ]
    },
    {
      "cell_type": "code",
      "source": [
        "num = 0\n",
        "while num < 6:\n",
        "    print(\"ABDULLAH IS AN INTERN\")\n",
        "    num += 1"
      ],
      "metadata": {
        "colab": {
          "base_uri": "https://localhost:8080/"
        },
        "id": "z-XmsJsipxgL",
        "outputId": "be602076-fc55-480d-b0e9-e6dbeae74f4c"
      },
      "execution_count": null,
      "outputs": [
        {
          "output_type": "stream",
          "name": "stdout",
          "text": [
            "ABDULLAH IS AN INTERN\n",
            "ABDULLAH IS AN INTERN\n",
            "ABDULLAH IS AN INTERN\n",
            "ABDULLAH IS AN INTERN\n",
            "ABDULLAH IS AN INTERN\n",
            "ABDULLAH IS AN INTERN\n"
          ]
        }
      ]
    },
    {
      "cell_type": "code",
      "source": [
        "num = 0\n",
        "while num < 6:\n",
        "    print(num)\n",
        "    num += 1"
      ],
      "metadata": {
        "colab": {
          "base_uri": "https://localhost:8080/"
        },
        "id": "7P5PCES8pq-V",
        "outputId": "36f16179-e0e8-4a79-917e-937e24a99937"
      },
      "execution_count": null,
      "outputs": [
        {
          "output_type": "stream",
          "name": "stdout",
          "text": [
            "0\n",
            "1\n",
            "2\n",
            "3\n",
            "4\n",
            "5\n"
          ]
        }
      ]
    },
    {
      "cell_type": "code",
      "source": [
        "num = 0\n",
        "while num < 3:\n",
        "    print(num)\n",
        "    num += 1"
      ],
      "metadata": {
        "colab": {
          "base_uri": "https://localhost:8080/"
        },
        "id": "uz1HoeVXpdFQ",
        "outputId": "f769868d-3eb8-4fc9-b111-b59273312536"
      },
      "execution_count": null,
      "outputs": [
        {
          "output_type": "stream",
          "name": "stdout",
          "text": [
            "0\n",
            "1\n",
            "2\n"
          ]
        }
      ]
    },
    {
      "cell_type": "code",
      "source": [
        "num = 0\n",
        "while num < 10:\n",
        "    print(num)\n",
        "    num += 1"
      ],
      "metadata": {
        "colab": {
          "base_uri": "https://localhost:8080/"
        },
        "id": "eyaFRLXwpYRh",
        "outputId": "b5e41ce8-9632-4a3e-d2e0-88f107120791"
      },
      "execution_count": null,
      "outputs": [
        {
          "output_type": "stream",
          "name": "stdout",
          "text": [
            "0\n",
            "1\n",
            "2\n",
            "3\n",
            "4\n",
            "5\n",
            "6\n",
            "7\n",
            "8\n",
            "9\n"
          ]
        }
      ]
    },
    {
      "cell_type": "code",
      "execution_count": null,
      "metadata": {
        "colab": {
          "base_uri": "https://localhost:8080/"
        },
        "id": "rfZZFr8ZomTj",
        "outputId": "005c2068-2345-458d-ff85-ed6a5e0f0db4"
      },
      "outputs": [
        {
          "output_type": "stream",
          "name": "stdout",
          "text": [
            "0\n",
            "1\n",
            "2\n",
            "3\n",
            "4\n"
          ]
        }
      ],
      "source": [
        "num = 0\n",
        "while num < 5:\n",
        "    print(num)\n",
        "    num += 1\n"
      ]
    }
  ]
}