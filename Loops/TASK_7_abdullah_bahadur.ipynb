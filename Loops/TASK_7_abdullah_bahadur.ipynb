{
  "nbformat": 4,
  "nbformat_minor": 0,
  "metadata": {
    "colab": {
      "provenance": []
    },
    "kernelspec": {
      "name": "python3",
      "display_name": "Python 3"
    },
    "language_info": {
      "name": "python"
    }
  },
  "cells": [
    {
      "cell_type": "code",
      "execution_count": null,
      "metadata": {
        "colab": {
          "base_uri": "https://localhost:8080/"
        },
        "id": "KOy1_mWVM-2T",
        "outputId": "ea562232-225e-4979-8f01-d7dc3ad765fc"
      },
      "outputs": [
        {
          "output_type": "stream",
          "name": "stdout",
          "text": [
            "0\n",
            "1\n",
            "2\n",
            "3\n",
            "4\n"
          ]
        }
      ],
      "source": [
        "for i in range(5):\n",
        "    print(i)"
      ]
    },
    {
      "cell_type": "code",
      "source": [
        "for i in range(10):\n",
        "    print('BARYANI')"
      ],
      "metadata": {
        "colab": {
          "base_uri": "https://localhost:8080/"
        },
        "id": "3Neu9l4UNSCO",
        "outputId": "8cb446f4-82c3-46d8-da99-8d27e12cc470"
      },
      "execution_count": null,
      "outputs": [
        {
          "output_type": "stream",
          "name": "stdout",
          "text": [
            "BARYANI\n",
            "BARYANI\n",
            "BARYANI\n",
            "BARYANI\n",
            "BARYANI\n",
            "BARYANI\n",
            "BARYANI\n",
            "BARYANI\n",
            "BARYANI\n",
            "BARYANI\n"
          ]
        }
      ]
    },
    {
      "cell_type": "code",
      "source": [
        "for i in range(1,11):\n",
        "    print(i)"
      ],
      "metadata": {
        "colab": {
          "base_uri": "https://localhost:8080/"
        },
        "id": "PdXUquMCN6Y7",
        "outputId": "be33df86-977c-4c3f-b020-22a456faf70d"
      },
      "execution_count": null,
      "outputs": [
        {
          "output_type": "stream",
          "name": "stdout",
          "text": [
            "1\n",
            "2\n",
            "3\n",
            "4\n",
            "5\n",
            "6\n",
            "7\n",
            "8\n",
            "9\n",
            "10\n"
          ]
        }
      ]
    },
    {
      "cell_type": "code",
      "source": [
        "for i in range(1,11):\n",
        "    print(i*2)"
      ],
      "metadata": {
        "colab": {
          "base_uri": "https://localhost:8080/"
        },
        "id": "A0G3jtGtOEHS",
        "outputId": "7488a8fd-699a-47c2-8668-43ac123da7ac"
      },
      "execution_count": null,
      "outputs": [
        {
          "output_type": "stream",
          "name": "stdout",
          "text": [
            "2\n",
            "4\n",
            "6\n",
            "8\n",
            "10\n",
            "12\n",
            "14\n",
            "16\n",
            "18\n",
            "20\n"
          ]
        }
      ]
    },
    {
      "cell_type": "code",
      "source": [
        "for i in range(1,11):\n",
        "    print(i*3)"
      ],
      "metadata": {
        "colab": {
          "base_uri": "https://localhost:8080/"
        },
        "id": "2XDO2mjOOKiO",
        "outputId": "fdfea915-d31f-495a-bf6a-9e7119d8a91a"
      },
      "execution_count": null,
      "outputs": [
        {
          "output_type": "stream",
          "name": "stdout",
          "text": [
            "3\n",
            "6\n",
            "9\n",
            "12\n",
            "15\n",
            "18\n",
            "21\n",
            "24\n",
            "27\n",
            "30\n"
          ]
        }
      ]
    },
    {
      "cell_type": "code",
      "source": [
        "for i in range(10):\n",
        "    print(\"AEMAN CHAUHDURY IS NICE INSTRUCTOR\")"
      ],
      "metadata": {
        "colab": {
          "base_uri": "https://localhost:8080/"
        },
        "id": "oaUDztj7OPZY",
        "outputId": "0a1d4526-aef7-4944-96cc-e030074c8db7"
      },
      "execution_count": null,
      "outputs": [
        {
          "output_type": "stream",
          "name": "stdout",
          "text": [
            "AEMAN CHAUHDURY IS NICE INSTRUCTOR\n",
            "AEMAN CHAUHDURY IS NICE INSTRUCTOR\n",
            "AEMAN CHAUHDURY IS NICE INSTRUCTOR\n",
            "AEMAN CHAUHDURY IS NICE INSTRUCTOR\n",
            "AEMAN CHAUHDURY IS NICE INSTRUCTOR\n",
            "AEMAN CHAUHDURY IS NICE INSTRUCTOR\n",
            "AEMAN CHAUHDURY IS NICE INSTRUCTOR\n",
            "AEMAN CHAUHDURY IS NICE INSTRUCTOR\n",
            "AEMAN CHAUHDURY IS NICE INSTRUCTOR\n",
            "AEMAN CHAUHDURY IS NICE INSTRUCTOR\n"
          ]
        }
      ]
    },
    {
      "cell_type": "code",
      "source": [
        "for i in range(5):\n",
        "    print('AIC WINTER 25')"
      ],
      "metadata": {
        "colab": {
          "base_uri": "https://localhost:8080/"
        },
        "id": "w3V7B-98Ocf-",
        "outputId": "c8d82b63-02ec-45ed-9489-5a480ee41b24"
      },
      "execution_count": null,
      "outputs": [
        {
          "output_type": "stream",
          "name": "stdout",
          "text": [
            "AIC WINTER 25\n",
            "AIC WINTER 25\n",
            "AIC WINTER 25\n",
            "AIC WINTER 25\n",
            "AIC WINTER 25\n"
          ]
        }
      ]
    },
    {
      "cell_type": "code",
      "source": [
        "for i in range(20,30):\n",
        "    print('FORD SHELBY MUSTANG 1969 MACH 1')"
      ],
      "metadata": {
        "colab": {
          "base_uri": "https://localhost:8080/"
        },
        "id": "tgQGghY7PDxG",
        "outputId": "bea394e8-94e2-4a16-d9ed-4f92f6a2172f"
      },
      "execution_count": null,
      "outputs": [
        {
          "output_type": "stream",
          "name": "stdout",
          "text": [
            "FORD SHELBY MUSTANG 1969 MACH 1\n",
            "FORD SHELBY MUSTANG 1969 MACH 1\n",
            "FORD SHELBY MUSTANG 1969 MACH 1\n",
            "FORD SHELBY MUSTANG 1969 MACH 1\n",
            "FORD SHELBY MUSTANG 1969 MACH 1\n",
            "FORD SHELBY MUSTANG 1969 MACH 1\n",
            "FORD SHELBY MUSTANG 1969 MACH 1\n",
            "FORD SHELBY MUSTANG 1969 MACH 1\n",
            "FORD SHELBY MUSTANG 1969 MACH 1\n",
            "FORD SHELBY MUSTANG 1969 MACH 1\n"
          ]
        }
      ]
    },
    {
      "cell_type": "code",
      "source": [
        "for i in range(20,30):\n",
        "    print(i)"
      ],
      "metadata": {
        "colab": {
          "base_uri": "https://localhost:8080/"
        },
        "id": "jGQrci7TPYAO",
        "outputId": "662a8d13-c21d-41c1-b45b-d7afba166b09"
      },
      "execution_count": null,
      "outputs": [
        {
          "output_type": "stream",
          "name": "stdout",
          "text": [
            "20\n",
            "21\n",
            "22\n",
            "23\n",
            "24\n",
            "25\n",
            "26\n",
            "27\n",
            "28\n",
            "29\n"
          ]
        }
      ]
    },
    {
      "cell_type": "code",
      "source": [
        "for i in range(20,30,2):\n",
        "    print(i)"
      ],
      "metadata": {
        "colab": {
          "base_uri": "https://localhost:8080/"
        },
        "id": "X-98jojzPaRm",
        "outputId": "1ed02743-fc2f-4d04-d130-7f51a56b24bd"
      },
      "execution_count": null,
      "outputs": [
        {
          "output_type": "stream",
          "name": "stdout",
          "text": [
            "20\n",
            "22\n",
            "24\n",
            "26\n",
            "28\n"
          ]
        }
      ]
    },
    {
      "cell_type": "markdown",
      "source": [
        "NESTED LOOP\n"
      ],
      "metadata": {
        "id": "cS_aeHwKQdEE"
      }
    },
    {
      "cell_type": "code",
      "source": [
        "for i in range(1, 4):\n",
        "    for j in range(1, 4):\n",
        "        print(f\"{i} x {j} = {i * j}\")"
      ],
      "metadata": {
        "colab": {
          "base_uri": "https://localhost:8080/"
        },
        "id": "EAhWIg4nPcAG",
        "outputId": "3ec4ba1b-7803-4330-a7b7-152196a5eb79"
      },
      "execution_count": null,
      "outputs": [
        {
          "output_type": "stream",
          "name": "stdout",
          "text": [
            "1 x 1 = 1\n",
            "1 x 2 = 2\n",
            "1 x 3 = 3\n",
            "2 x 1 = 2\n",
            "2 x 2 = 4\n",
            "2 x 3 = 6\n",
            "3 x 1 = 3\n",
            "3 x 2 = 6\n",
            "3 x 3 = 9\n"
          ]
        }
      ]
    },
    {
      "cell_type": "code",
      "source": [
        "for i in range(1, 5):\n",
        "    for j in range(1, 5):\n",
        "        print(f\"{i} + {j} = {i + j}\")"
      ],
      "metadata": {
        "colab": {
          "base_uri": "https://localhost:8080/"
        },
        "id": "TeaKs8uEQK-0",
        "outputId": "b279623c-ccfb-472e-b0c1-55d09015deff"
      },
      "execution_count": null,
      "outputs": [
        {
          "output_type": "stream",
          "name": "stdout",
          "text": [
            "1 + 1 = 2\n",
            "1 + 2 = 3\n",
            "1 + 3 = 4\n",
            "1 + 4 = 5\n",
            "2 + 1 = 3\n",
            "2 + 2 = 4\n",
            "2 + 3 = 5\n",
            "2 + 4 = 6\n",
            "3 + 1 = 4\n",
            "3 + 2 = 5\n",
            "3 + 3 = 6\n",
            "3 + 4 = 7\n",
            "4 + 1 = 5\n",
            "4 + 2 = 6\n",
            "4 + 3 = 7\n",
            "4 + 4 = 8\n"
          ]
        }
      ]
    },
    {
      "cell_type": "code",
      "source": [
        "for i in range(1, 3):\n",
        "    for j in range(1, 3):\n",
        "        print(f\"{i} - {j} = {i - j}\")"
      ],
      "metadata": {
        "colab": {
          "base_uri": "https://localhost:8080/"
        },
        "id": "_Hnne7J2QaMM",
        "outputId": "d321b375-328f-4747-9cc4-d84bbab490ad"
      },
      "execution_count": null,
      "outputs": [
        {
          "output_type": "stream",
          "name": "stdout",
          "text": [
            "1 - 1 = 0\n",
            "1 - 2 = -1\n",
            "2 - 1 = 1\n",
            "2 - 2 = 0\n"
          ]
        }
      ]
    },
    {
      "cell_type": "code",
      "source": [
        "for i in range(1, 3):\n",
        "    for j in range(1, 3):\n",
        "        print(f\"{i} * {j} = {i * j}\")"
      ],
      "metadata": {
        "colab": {
          "base_uri": "https://localhost:8080/"
        },
        "id": "NHXYIONPQqZy",
        "outputId": "e2d07b09-e3fd-4ad2-fb1c-d01b377ec2f6"
      },
      "execution_count": null,
      "outputs": [
        {
          "output_type": "stream",
          "name": "stdout",
          "text": [
            "1 * 1 = 1\n",
            "1 * 2 = 2\n",
            "2 * 1 = 2\n",
            "2 * 2 = 4\n"
          ]
        }
      ]
    },
    {
      "cell_type": "code",
      "source": [
        "for i in range(1, 7):\n",
        "    for j in range(1, 7):\n",
        "        print(f\"{i} / {j} = {i / j}\")"
      ],
      "metadata": {
        "colab": {
          "base_uri": "https://localhost:8080/"
        },
        "id": "CukNrVO-Q3_j",
        "outputId": "6aa0723f-825b-4d9c-a801-12c9a267eaed"
      },
      "execution_count": null,
      "outputs": [
        {
          "output_type": "stream",
          "name": "stdout",
          "text": [
            "1 / 1 = 1.0\n",
            "1 / 2 = 0.5\n",
            "1 / 3 = 0.3333333333333333\n",
            "1 / 4 = 0.25\n",
            "1 / 5 = 0.2\n",
            "1 / 6 = 0.16666666666666666\n",
            "2 / 1 = 2.0\n",
            "2 / 2 = 1.0\n",
            "2 / 3 = 0.6666666666666666\n",
            "2 / 4 = 0.5\n",
            "2 / 5 = 0.4\n",
            "2 / 6 = 0.3333333333333333\n",
            "3 / 1 = 3.0\n",
            "3 / 2 = 1.5\n",
            "3 / 3 = 1.0\n",
            "3 / 4 = 0.75\n",
            "3 / 5 = 0.6\n",
            "3 / 6 = 0.5\n",
            "4 / 1 = 4.0\n",
            "4 / 2 = 2.0\n",
            "4 / 3 = 1.3333333333333333\n",
            "4 / 4 = 1.0\n",
            "4 / 5 = 0.8\n",
            "4 / 6 = 0.6666666666666666\n",
            "5 / 1 = 5.0\n",
            "5 / 2 = 2.5\n",
            "5 / 3 = 1.6666666666666667\n",
            "5 / 4 = 1.25\n",
            "5 / 5 = 1.0\n",
            "5 / 6 = 0.8333333333333334\n",
            "6 / 1 = 6.0\n",
            "6 / 2 = 3.0\n",
            "6 / 3 = 2.0\n",
            "6 / 4 = 1.5\n",
            "6 / 5 = 1.2\n",
            "6 / 6 = 1.0\n"
          ]
        }
      ]
    },
    {
      "cell_type": "code",
      "source": [
        "for i in range(1, 5):\n",
        "    for j in range(1, 5):\n",
        "        print(f\"{i} % {j} = {i % j}\")"
      ],
      "metadata": {
        "colab": {
          "base_uri": "https://localhost:8080/"
        },
        "id": "7HdUI8KNRGGu",
        "outputId": "3742228c-2824-49c0-c737-59a097bfb0ce"
      },
      "execution_count": null,
      "outputs": [
        {
          "output_type": "stream",
          "name": "stdout",
          "text": [
            "1 % 1 = 0\n",
            "1 % 2 = 1\n",
            "1 % 3 = 1\n",
            "1 % 4 = 1\n",
            "2 % 1 = 0\n",
            "2 % 2 = 0\n",
            "2 % 3 = 2\n",
            "2 % 4 = 2\n",
            "3 % 1 = 0\n",
            "3 % 2 = 1\n",
            "3 % 3 = 0\n",
            "3 % 4 = 3\n",
            "4 % 1 = 0\n",
            "4 % 2 = 0\n",
            "4 % 3 = 1\n",
            "4 % 4 = 0\n"
          ]
        }
      ]
    },
    {
      "cell_type": "code",
      "source": [
        "for i in range(1, 5):\n",
        "    for j in range(1, 5):\n",
        "        print(f\"{i} // {j} = {i // j}\")"
      ],
      "metadata": {
        "colab": {
          "base_uri": "https://localhost:8080/"
        },
        "id": "04bzkcghRKuE",
        "outputId": "664fe019-26b8-4295-9d66-e55307ac3a67"
      },
      "execution_count": null,
      "outputs": [
        {
          "output_type": "stream",
          "name": "stdout",
          "text": [
            "1 // 1 = 1\n",
            "1 // 2 = 0\n",
            "1 // 3 = 0\n",
            "1 // 4 = 0\n",
            "2 // 1 = 2\n",
            "2 // 2 = 1\n",
            "2 // 3 = 0\n",
            "2 // 4 = 0\n",
            "3 // 1 = 3\n",
            "3 // 2 = 1\n",
            "3 // 3 = 1\n",
            "3 // 4 = 0\n",
            "4 // 1 = 4\n",
            "4 // 2 = 2\n",
            "4 // 3 = 1\n",
            "4 // 4 = 1\n"
          ]
        }
      ]
    },
    {
      "cell_type": "code",
      "source": [
        "for i in range(0, 5):\n",
        "    for j in range(0, 5):\n",
        "        print(f\"{i} * {j} = {i * j}\")"
      ],
      "metadata": {
        "colab": {
          "base_uri": "https://localhost:8080/"
        },
        "id": "Uz62HAGNROA7",
        "outputId": "27228a73-5976-4a50-ee51-5aae471ea5af"
      },
      "execution_count": null,
      "outputs": [
        {
          "output_type": "stream",
          "name": "stdout",
          "text": [
            "0 * 0 = 0\n",
            "0 * 1 = 0\n",
            "0 * 2 = 0\n",
            "0 * 3 = 0\n",
            "0 * 4 = 0\n",
            "1 * 0 = 0\n",
            "1 * 1 = 1\n",
            "1 * 2 = 2\n",
            "1 * 3 = 3\n",
            "1 * 4 = 4\n",
            "2 * 0 = 0\n",
            "2 * 1 = 2\n",
            "2 * 2 = 4\n",
            "2 * 3 = 6\n",
            "2 * 4 = 8\n",
            "3 * 0 = 0\n",
            "3 * 1 = 3\n",
            "3 * 2 = 6\n",
            "3 * 3 = 9\n",
            "3 * 4 = 12\n",
            "4 * 0 = 0\n",
            "4 * 1 = 4\n",
            "4 * 2 = 8\n",
            "4 * 3 = 12\n",
            "4 * 4 = 16\n"
          ]
        }
      ]
    },
    {
      "cell_type": "code",
      "source": [
        "for i in range(0, 5):\n",
        "    for j in range(0, 5):\n",
        "        print(f\"{i} ** {j} = {i ** j}\")"
      ],
      "metadata": {
        "colab": {
          "base_uri": "https://localhost:8080/"
        },
        "id": "U2JqwrYsRaw6",
        "outputId": "de199621-f0a1-4896-f1d5-5eb39d7b3c04"
      },
      "execution_count": null,
      "outputs": [
        {
          "output_type": "stream",
          "name": "stdout",
          "text": [
            "0 ** 0 = 1\n",
            "0 ** 1 = 0\n",
            "0 ** 2 = 0\n",
            "0 ** 3 = 0\n",
            "0 ** 4 = 0\n",
            "1 ** 0 = 1\n",
            "1 ** 1 = 1\n",
            "1 ** 2 = 1\n",
            "1 ** 3 = 1\n",
            "1 ** 4 = 1\n",
            "2 ** 0 = 1\n",
            "2 ** 1 = 2\n",
            "2 ** 2 = 4\n",
            "2 ** 3 = 8\n",
            "2 ** 4 = 16\n",
            "3 ** 0 = 1\n",
            "3 ** 1 = 3\n",
            "3 ** 2 = 9\n",
            "3 ** 3 = 27\n",
            "3 ** 4 = 81\n",
            "4 ** 0 = 1\n",
            "4 ** 1 = 4\n",
            "4 ** 2 = 16\n",
            "4 ** 3 = 64\n",
            "4 ** 4 = 256\n"
          ]
        }
      ]
    },
    {
      "cell_type": "code",
      "source": [
        "for i in range(5, 10):\n",
        "    for j in range(5, 10):\n",
        "        print(f\"{i} // {j} = {i // j}\")"
      ],
      "metadata": {
        "colab": {
          "base_uri": "https://localhost:8080/"
        },
        "id": "S2jYwFFqRnL5",
        "outputId": "15ae78fc-bc45-476a-87c1-fe6311b44841"
      },
      "execution_count": null,
      "outputs": [
        {
          "output_type": "stream",
          "name": "stdout",
          "text": [
            "5 // 5 = 1\n",
            "5 // 6 = 0\n",
            "5 // 7 = 0\n",
            "5 // 8 = 0\n",
            "5 // 9 = 0\n",
            "6 // 5 = 1\n",
            "6 // 6 = 1\n",
            "6 // 7 = 0\n",
            "6 // 8 = 0\n",
            "6 // 9 = 0\n",
            "7 // 5 = 1\n",
            "7 // 6 = 1\n",
            "7 // 7 = 1\n",
            "7 // 8 = 0\n",
            "7 // 9 = 0\n",
            "8 // 5 = 1\n",
            "8 // 6 = 1\n",
            "8 // 7 = 1\n",
            "8 // 8 = 1\n",
            "8 // 9 = 0\n",
            "9 // 5 = 1\n",
            "9 // 6 = 1\n",
            "9 // 7 = 1\n",
            "9 // 8 = 1\n",
            "9 // 9 = 1\n"
          ]
        }
      ]
    }
  ]
}