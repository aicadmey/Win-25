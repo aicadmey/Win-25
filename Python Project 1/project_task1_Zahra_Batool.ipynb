{
  "cells": [
    {
      "cell_type": "code",
      "execution_count": null,
      "id": "d7f4f9ea-b1d2-4779-9437-625aba339f5d",
      "metadata": {
        "id": "d7f4f9ea-b1d2-4779-9437-625aba339f5d",
        "outputId": "b6b49772-e88b-4b28-b687-e94ccd015f18"
      },
      "outputs": [
        {
          "name": "stdin",
          "output_type": "stream",
          "text": [
            "Enter 1 to input informations like std's id, std's name, book name, pages, price\n",
            "\n",
            "                    enter 2 to display info\n",
            " enter 3 to quit:  1\n",
            "Enter your name:  zara\n",
            "Enter your ID:  12345\n",
            "Enter book name:  ict\n",
            "Enter book pages:  1234\n",
            "Enter book price:  1200\n",
            "Enter 1 to input informations like std's id, std's name, book name, pages, price\n",
            "\n",
            "                    enter 2 to display info\n",
            " enter 3 to quit:  2\n"
          ]
        },
        {
          "name": "stdout",
          "output_type": "stream",
          "text": [
            "zara\n",
            "12345\n",
            "ict\n",
            "1234\n",
            "1200\n"
          ]
        }
      ],
      "source": [
        "n=0\n",
        "while n<2:\n",
        "    choice = int (input('''Enter 1 to input informations like std's id, std's name, book name, pages, price\\n\n",
        "                    enter 2 to display info\\n enter 3 to quit: '''))\n",
        "    if choice == 1:\n",
        "        stdName = input(\"Enter your name: \")\n",
        "        stdid = int(input(\"Enter your ID: \"))\n",
        "        bookName = input(\"Enter book name: \")\n",
        "        pages = int(input(\"Enter book pages: \"))\n",
        "        price = int(input(\"Enter book price: \"))\n",
        "\n",
        "    elif choice == 2:\n",
        "        print (stdName)\n",
        "        print(stdid)\n",
        "        print(bookName)\n",
        "        print(pages)\n",
        "        print(price)\n",
        "    elif choice==3:\n",
        "        print(\"Program quit\")\n",
        "    else:\n",
        "        print(\"Entered wrong choice\")\n",
        "    n=n+1\n"
      ]
    },
    {
      "cell_type": "code",
      "execution_count": null,
      "id": "9137f5bb-f043-4e95-af56-6fe3a8a3f302",
      "metadata": {
        "id": "9137f5bb-f043-4e95-af56-6fe3a8a3f302"
      },
      "outputs": [],
      "source": []
    },
    {
      "cell_type": "code",
      "execution_count": null,
      "id": "921e6c07-4e14-43e2-9632-0ee61848471e",
      "metadata": {
        "id": "921e6c07-4e14-43e2-9632-0ee61848471e"
      },
      "outputs": [],
      "source": []
    }
  ],
  "metadata": {
    "kernelspec": {
      "display_name": "Python 3 (ipykernel)",
      "language": "python",
      "name": "python3"
    },
    "language_info": {
      "codemirror_mode": {
        "name": "ipython",
        "version": 3
      },
      "file_extension": ".py",
      "mimetype": "text/x-python",
      "name": "python",
      "nbconvert_exporter": "python",
      "pygments_lexer": "ipython3",
      "version": "3.11.7"
    },
    "colab": {
      "provenance": []
    }
  },
  "nbformat": 4,
  "nbformat_minor": 5
}