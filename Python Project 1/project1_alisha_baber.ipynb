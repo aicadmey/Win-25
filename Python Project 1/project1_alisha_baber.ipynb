{
  "nbformat": 4,
  "nbformat_minor": 0,
  "metadata": {
    "colab": {
      "provenance": []
    },
    "kernelspec": {
      "name": "python3",
      "display_name": "Python 3"
    },
    "language_info": {
      "name": "python"
    }
  },
  "cells": [
    {
      "cell_type": "markdown",
      "source": [
        "## phython basics\n",
        "**calculator**\n"
      ],
      "metadata": {
        "id": "gwjOT-beOwUQ"
      }
    },
    {
      "cell_type": "code",
      "source": [
        "# calculator in phython\n",
        "# display the calculator menu\n",
        "\n",
        "print (\" welcome to phython calculator!\")\n",
        "print (\" select any operation\")\n",
        "opertion= input(\"Enter the operation number (1/2/3/4/5): \")\n",
        "\n",
        "\n",
        "# get numbers for assign operations\n",
        "\n",
        "print(\"1. Addition (+)\")\n",
        "print(\"2. Subtraction (-)\")\n",
        "print(\"3. Multiplication (*)\")\n",
        "print(\"4. Division (/)\")\n",
        "print (\"5. modulous(%)\")\n",
        "\n",
        " # get user choice\n",
        "operation = input(\"Enter the operation number (1/2/3/4/5): \")\n",
        "\n",
        "num1 = int(input (\"Enter the first number: \"))\n",
        "num2 = int (input(\"Enter the second number: \"))\n",
        "if operation == \"1\":\n",
        "    result = num1 + num2\n",
        "    print(\"Result:\", result)\n",
        "elif operation == \"2\":\n",
        "        result = num1 - num2\n",
        "        print(\"Result:\", result)\n",
        "elif operation == \"3\":\n",
        "        result = num1 * num2\n",
        "        print(\"Result:\", result)\n",
        "elif operation == \"4\":\n",
        "            result= num1 / num2\n",
        "            print(\"Result:\", result)\n",
        "elif operation == \"5\":\n",
        "                result = num1 % num2\n",
        "                print(\"Result:\", result)\n",
        "\n",
        "else:\n",
        "     print(\"Thank you for using the calculator. take care!\")\n",
        "\n",
        "\n",
        "\n",
        "# condiion\n",
        "\n",
        "\n",
        "\n",
        "\n",
        "\n",
        "\n",
        "\n",
        "\n",
        "\n",
        "\n",
        "\n",
        "\n",
        "\n",
        "\n",
        "\n",
        "\n",
        "\n",
        "\n"
      ],
      "metadata": {
        "colab": {
          "base_uri": "https://localhost:8080/"
        },
        "id": "2AM_OEKJO8ih",
        "outputId": "735bfbed-30f6-4cb8-e789-e7582a5c0699"
      },
      "execution_count": null,
      "outputs": [
        {
          "output_type": "stream",
          "name": "stdout",
          "text": [
            " welcome to phython calculator!\n",
            " select any operation\n",
            "Enter the operation number (1/2/3/4/5): 22\n",
            "1. Addition (+)\n",
            "2. Subtraction (-)\n",
            "3. Multiplication (*)\n",
            "4. Division (/)\n",
            "5. modulous(%)\n",
            "Enter the operation number (1/2/3/4/5): 2\n",
            "Enter the first number: 44\n",
            "Enter the second number: 22\n",
            "Result: 22\n"
          ]
        }
      ]
    },
    {
      "cell_type": "code",
      "source": [
        "# Basic Calculator in Python\n",
        "def calculator():\n",
        "    print(\"Select operation:\")\n",
        "    print(\"1. Add\")\n",
        "    print(\"2. Subtract\")\n",
        "    print(\"3. Multiply\")\n",
        "    print(\"4. Divide\")\n",
        "\n",
        "    choice = input(\"Enter choice (1/2/3/4): \")\n",
        "\n",
        "    if choice in ('1', '2', '3', '4'):\n",
        "        num1 = float(input(\"Enter first number: \"))\n",
        "        num2 = float(input(\"Enter second number: \"))\n",
        "\n",
        "        if choice == '1':\n",
        "            print(f\"The result is: {num1 + num2}\")\n",
        "        elif choice == '2':\n",
        "            print(f\"The result is: {num1 - num2}\")\n",
        "        elif choice == '3':\n",
        "            print(f\"The result is: {num1 * num2}\")\n",
        "        elif choice == '4':\n",
        "            if num2 != 0:\n",
        "                print(f\"The result is: {num1 / num2}\")\n",
        "            else:\n",
        "                print(\"Error! Division by zero.\")\n",
        "    else:\n",
        "        print(\"Invalid input\")\n",
        "\n",
        "calculator()"
      ],
      "metadata": {
        "colab": {
          "base_uri": "https://localhost:8080/"
        },
        "id": "WIZn_Xt2k5q5",
        "outputId": "aa7c0d14-d563-44db-d499-a5a0711d0eb8"
      },
      "execution_count": null,
      "outputs": [
        {
          "output_type": "stream",
          "name": "stdout",
          "text": [
            "Select operation:\n",
            "1. Add\n",
            "2. Subtract\n",
            "3. Multiply\n",
            "4. Divide\n",
            "Enter choice (1/2/3/4): 2\n",
            "Enter first number: 66\n",
            "Enter second number: 33\n",
            "The result is: 33.0\n"
          ]
        }
      ]
    }
  ]
}