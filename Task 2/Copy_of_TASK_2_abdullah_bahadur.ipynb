{
  "nbformat": 4,
  "nbformat_minor": 0,
  "metadata": {
    "colab": {
      "provenance": []
    },
    "kernelspec": {
      "name": "python3",
      "display_name": "Python 3"
    },
    "language_info": {
      "name": "python"
    }
  },
  "cells": [
    {
      "cell_type": "code",
      "execution_count": null,
      "metadata": {
        "colab": {
          "base_uri": "https://localhost:8080/"
        },
        "id": "JYkbBOfTYodE",
        "outputId": "1b4e8838-d3a7-4ec5-dd4f-f47217ce66ed"
      },
      "outputs": [
        {
          "name": "stdout",
          "output_type": "stream",
          "text": [
            "Enter your name: abd\n",
            "Enter your age: 25\n",
            "Enter your height in cm: 168\n",
            "Enter your weight in kg: 66\n",
            "Are you a student? (yes/no): yes\n",
            "Enter your grade (A/B/C): A\n",
            "Enter your birth year: 2006\n"
          ]
        }
      ],
      "source": [
        "# Inputs\n",
        "name = input(\"Enter your name: \")\n",
        "age = input(\"Enter your age: \")\n",
        "height = input(\"Enter your height in cm: \")\n",
        "weight = input(\"Enter your weight in kg: \")\n",
        "is_student = input(\"Are you a student? (yes/no): \")\n",
        "grade = input(\"Enter your grade (A/B/C): \")\n",
        "birth_year = input(\"Enter your birth year: \")\n",
        "hourly_rate = input(\"Enter your hourly rate: \")\n",
        "hours_worked = input(\"Enter hours worked this week: \")\n",
        "is_employed = input(\"Are you employed? (yes/no): \")\n",
        "num1 = input(\"Enter a number: \")\n",
        "num2 = input(\"Enter another number: \")\n",
        "salary = input(\"Enter your salary: \")\n",
        "bonus = input(\"Enter your bonus: \")\n",
        "dob_day = input(\"Enter your birth day: \")\n",
        "dob_month = input(\"Enter your birth month: \")\n",
        "pi_string = input(\"Enter an approximation of Pi: \")\n",
        "temperature = input(\"Enter the temperature: \")\n",
        "is_sunny = input(\"Is it sunny? (yes/no): \")\n",
        "favorite_number = input(\"Enter your favorite number\")\n",
        "years_of_experience = input(\"Enter years of experience: \")\n",
        "marital_status = input(\"Are you married? (yes/no): \")\n",
        "pets_owned = input(\"How many pets do you own? \")\n",
        "house_number = input(\"Enter your house number: \")\n",
        "zip_code = input(\"Enter your zip code: \")\n",
        "monthly_expense = input(\"Enter your monthly expenses: \")\n",
        "car_speed = input(\"Enter your car's speed: \")\n",
        "is_vaccinated = input(\"Are you vaccinated? (yes/no): \")\n",
        "shoe_size = input(\"Enter your shoe size: \")\n",
        "distance = input(\"Enter the distance in km: \")\n",
        "\n",
        "# Type casting\n",
        "years_of_experience = int(years_of_experience)\n",
        "pets_owned = int(pets_owned)\n",
        "house_number = int(house_number)\n",
        "monthly_expense = float(monthly_expense)\n",
        "car_speed = float(car_speed)\n",
        "shoe_size = float(shoe_size)\n",
        "distance = float(distance)\n",
        "zip_code = str(zip_code)\n",
        "age = int(age)\n",
        "height = float(height)\n",
        "weight = float(weight)\n",
        "birth_year = int(birth_year)\n",
        "hourly_rate = float(hourly_rate)\n",
        "hours_worked = int(hours_worked)\n",
        "grade = str(grade)\n",
        "num1 = int(num1)\n",
        "num2 = float(num2)\n",
        "salary = float(salary)\n",
        "bonus = float(bonus)\n",
        "dob_day = int(dob_day)\n",
        "dob_month = int(dob_month)\n",
        "temperature = float(temperature)\n",
        "favorite_number = int(favorite_number)"
      ]
    }
  ]
}