{
  "nbformat": 4,
  "nbformat_minor": 0,
  "metadata": {
    "colab": {
      "provenance": [],
      "toc_visible": true
    },
    "kernelspec": {
      "name": "python3",
      "display_name": "Python 3"
    },
    "language_info": {
      "name": "python"
    }
  },
  "cells": [
    {
      "cell_type": "markdown",
      "source": [
        "String"
      ],
      "metadata": {
        "id": "aqdwmL8mKC4n"
      }
    },
    {
      "cell_type": "code",
      "source": [
        "Name=\"He is very Innocent\"\n",
        "print(Name)"
      ],
      "metadata": {
        "colab": {
          "base_uri": "https://localhost:8080/"
        },
        "id": "C-vujGCkKksA",
        "outputId": "29cfb12a-43bd-4e33-b3d5-64229657e670"
      },
      "execution_count": null,
      "outputs": [
        {
          "output_type": "stream",
          "name": "stdout",
          "text": [
            "He is very Innocent\n"
          ]
        }
      ]
    },
    {
      "cell_type": "code",
      "source": [
        "A=\"Ali is my Brother\"\n",
        "B=\" He is very innocent\"\n",
        "print(A+B)"
      ],
      "metadata": {
        "colab": {
          "base_uri": "https://localhost:8080/"
        },
        "id": "5ysNpEiXLK6N",
        "outputId": "c18a1ed6-3678-4185-c6d5-86b1debb0dae"
      },
      "execution_count": null,
      "outputs": [
        {
          "output_type": "stream",
          "name": "stdout",
          "text": [
            "Ali is my Brother He is very innocent\n"
          ]
        }
      ]
    },
    {
      "cell_type": "code",
      "source": [
        "a=\"Pakistan is very Beautiful Country\"\n",
        "b=\"Usman is very innocent\"\n",
        "c=b\n",
        "print(c)"
      ],
      "metadata": {
        "colab": {
          "base_uri": "https://localhost:8080/"
        },
        "id": "btBNmLR4MVMI",
        "outputId": "3dc257d2-eb27-46ff-d34b-100f1f0ec7e6"
      },
      "execution_count": null,
      "outputs": [
        {
          "output_type": "stream",
          "name": "stdout",
          "text": [
            "Usman is very innocent\n"
          ]
        }
      ]
    },
    {
      "cell_type": "code",
      "source": [
        "a=\"Web Development Basics\"\n",
        "print(a)"
      ],
      "metadata": {
        "colab": {
          "base_uri": "https://localhost:8080/"
        },
        "id": "6asvXY4dNlqo",
        "outputId": "4625a1ce-a55d-4d50-c8ff-043b010ef6d9"
      },
      "execution_count": null,
      "outputs": [
        {
          "output_type": "stream",
          "name": "stdout",
          "text": [
            "Web Development Basics\n"
          ]
        }
      ]
    },
    {
      "cell_type": "code",
      "source": [
        "my_var=\"Introduction to Python Programming\"\n",
        "My_var=\" Python is very easy language\"\n",
        "print(my_var+My_var)"
      ],
      "metadata": {
        "colab": {
          "base_uri": "https://localhost:8080/"
        },
        "id": "JYVvj6rhN9O-",
        "outputId": "bfd32d20-493f-4158-ef06-9d89c67059ff"
      },
      "execution_count": null,
      "outputs": [
        {
          "output_type": "stream",
          "name": "stdout",
          "text": [
            "Introduction to Python Programming Python is very easy language\n"
          ]
        }
      ]
    },
    {
      "cell_type": "code",
      "source": [
        "A=\"Aliza\"\n",
        "B=\"Javed\"\n",
        "print(A+B)"
      ],
      "metadata": {
        "colab": {
          "base_uri": "https://localhost:8080/"
        },
        "id": "aUoVsZfTOqpk",
        "outputId": "44e1b82f-9ed9-4f37-f7e2-8f48578f92c1"
      },
      "execution_count": null,
      "outputs": [
        {
          "output_type": "stream",
          "name": "stdout",
          "text": [
            "AlizaJaved\n"
          ]
        }
      ]
    },
    {
      "cell_type": "code",
      "source": [
        "a=\"Usman\"\n",
        "A=\"Saeed\"\n",
        "print(a)"
      ],
      "metadata": {
        "colab": {
          "base_uri": "https://localhost:8080/"
        },
        "id": "a5V724MbO_P0",
        "outputId": "451e6cff-2563-4db4-d051-2583a4a54509"
      },
      "execution_count": null,
      "outputs": [
        {
          "output_type": "stream",
          "name": "stdout",
          "text": [
            "Usman\n"
          ]
        }
      ]
    },
    {
      "cell_type": "code",
      "source": [
        "Name=\"Hum Bahir Ja Rahe Hain\"\n",
        "name=\"Jis Ne Ana Hai Woh Aa Jai\"\n",
        "print(Name+name)"
      ],
      "metadata": {
        "colab": {
          "base_uri": "https://localhost:8080/"
        },
        "id": "5xipaoEvPOKV",
        "outputId": "a6d2e339-368f-4fff-bb63-93c752eb3fd5"
      },
      "execution_count": null,
      "outputs": [
        {
          "output_type": "stream",
          "name": "stdout",
          "text": [
            "Hum Bahir Ja Rahe HainJis Ne Ana Hai Woh Aa Jai\n"
          ]
        }
      ]
    },
    {
      "cell_type": "code",
      "source": [
        "a=\"Ali is Waiting\"\n",
        "b=\" at Resturant\"\n",
        "print(a+b)"
      ],
      "metadata": {
        "colab": {
          "base_uri": "https://localhost:8080/"
        },
        "id": "lGlNW49mAmLq",
        "outputId": "8e3a3f10-c01d-4996-a47a-54a42dd94cc5"
      },
      "execution_count": null,
      "outputs": [
        {
          "output_type": "stream",
          "name": "stdout",
          "text": [
            "Ali is Waiting at Resturant\n"
          ]
        }
      ]
    },
    {
      "cell_type": "markdown",
      "source": [
        "**Integer**"
      ],
      "metadata": {
        "id": "ckICtW5cBt2P"
      }
    },
    {
      "cell_type": "code",
      "source": [
        "a=12\n",
        "b=26\n",
        "print(a+b)"
      ],
      "metadata": {
        "colab": {
          "base_uri": "https://localhost:8080/"
        },
        "id": "gEtsyENSB8tI",
        "outputId": "fa3d38aa-c82b-44d2-e15d-4feddea48434"
      },
      "execution_count": null,
      "outputs": [
        {
          "output_type": "stream",
          "name": "stdout",
          "text": [
            "38\n"
          ]
        }
      ]
    },
    {
      "cell_type": "code",
      "source": [
        "a=25376\n",
        "b=1527\n",
        "print(a-b)"
      ],
      "metadata": {
        "colab": {
          "base_uri": "https://localhost:8080/"
        },
        "id": "1USnwv05Cfsr",
        "outputId": "c7dbd2f8-a974-4df8-f633-06435750ea28"
      },
      "execution_count": null,
      "outputs": [
        {
          "output_type": "stream",
          "name": "stdout",
          "text": [
            "23849\n"
          ]
        }
      ]
    },
    {
      "cell_type": "code",
      "source": [
        "a=354\n",
        "b=23\n",
        "print(a*b)"
      ],
      "metadata": {
        "colab": {
          "base_uri": "https://localhost:8080/"
        },
        "id": "YoHK8N92DhKu",
        "outputId": "b263fd2a-4f2e-450b-9edd-031172c91a0f"
      },
      "execution_count": null,
      "outputs": [
        {
          "output_type": "stream",
          "name": "stdout",
          "text": [
            "8142\n"
          ]
        }
      ]
    },
    {
      "cell_type": "code",
      "source": [
        "a=243\n",
        "b=354\n",
        "print(a/b)"
      ],
      "metadata": {
        "colab": {
          "base_uri": "https://localhost:8080/"
        },
        "id": "0WAPOvWeEHVb",
        "outputId": "299e89fc-ae07-49f5-9b46-e49dda35caeb"
      },
      "execution_count": null,
      "outputs": [
        {
          "output_type": "stream",
          "name": "stdout",
          "text": [
            "0.6864406779661016\n"
          ]
        }
      ]
    },
    {
      "cell_type": "code",
      "source": [
        "a=2453\n",
        "b=23\n",
        "print(a%b)"
      ],
      "metadata": {
        "colab": {
          "base_uri": "https://localhost:8080/"
        },
        "id": "Yegc7MZMESYJ",
        "outputId": "946601d5-120e-4a11-9aa5-631e895cf74f"
      },
      "execution_count": null,
      "outputs": [
        {
          "output_type": "stream",
          "name": "stdout",
          "text": [
            "15\n"
          ]
        }
      ]
    },
    {
      "cell_type": "code",
      "source": [
        "a=1653\n",
        "b=354\n",
        "c=a\n",
        "print(a+b)"
      ],
      "metadata": {
        "colab": {
          "base_uri": "https://localhost:8080/"
        },
        "id": "tqt_KYTjEav4",
        "outputId": "a9d94cfc-50ef-4451-c645-b824d34beab2"
      },
      "execution_count": null,
      "outputs": [
        {
          "output_type": "stream",
          "name": "stdout",
          "text": [
            "2007\n"
          ]
        }
      ]
    },
    {
      "cell_type": "code",
      "source": [
        "a=12653\n",
        "b=4253\n",
        "c=35664\n",
        "d=1233\n",
        "print(a-b+c+d)"
      ],
      "metadata": {
        "colab": {
          "base_uri": "https://localhost:8080/"
        },
        "id": "H1I-dI9oEo-S",
        "outputId": "94e29599-6407-4b59-a9c2-96c99856c103"
      },
      "execution_count": null,
      "outputs": [
        {
          "output_type": "stream",
          "name": "stdout",
          "text": [
            "45297\n"
          ]
        }
      ]
    },
    {
      "cell_type": "code",
      "source": [
        "a=3546\n",
        "b=4567\n",
        "c=64563\n",
        "d=7363\n",
        "e=63539\n",
        "f=36527\n",
        "print(a+b+c+d-e+f)"
      ],
      "metadata": {
        "colab": {
          "base_uri": "https://localhost:8080/"
        },
        "id": "XmKv9y1rFFyt",
        "outputId": "a5849970-5e86-450e-d24c-de723b76f43f"
      },
      "execution_count": null,
      "outputs": [
        {
          "output_type": "stream",
          "name": "stdout",
          "text": [
            "53027\n"
          ]
        }
      ]
    },
    {
      "cell_type": "code",
      "source": [
        "a=635\n",
        "b=63\n",
        "c=65\n",
        "d=234\n",
        "print(a*b/c-d)"
      ],
      "metadata": {
        "colab": {
          "base_uri": "https://localhost:8080/"
        },
        "id": "5UULJ0UdGmuQ",
        "outputId": "02e6d552-fd11-4da1-b6b1-27a335f39b1d"
      },
      "execution_count": null,
      "outputs": [
        {
          "output_type": "stream",
          "name": "stdout",
          "text": [
            "381.46153846153845\n"
          ]
        }
      ]
    },
    {
      "cell_type": "code",
      "source": [
        "a=356\n",
        "b=23\n",
        "c=645\n",
        "d=334\n",
        "print(a%b+c*d)"
      ],
      "metadata": {
        "colab": {
          "base_uri": "https://localhost:8080/"
        },
        "id": "DtxYOHDwG4YJ",
        "outputId": "8d1d8c19-262b-4f3e-af0a-e9d3b150ffbf"
      },
      "execution_count": null,
      "outputs": [
        {
          "output_type": "stream",
          "name": "stdout",
          "text": [
            "215441\n"
          ]
        }
      ]
    },
    {
      "cell_type": "markdown",
      "source": [
        "**Float**"
      ],
      "metadata": {
        "id": "dk_cEFsHHLTq"
      }
    },
    {
      "cell_type": "code",
      "source": [
        "a=23.4\n",
        "b=75.4\n",
        "print(a+b)"
      ],
      "metadata": {
        "colab": {
          "base_uri": "https://localhost:8080/"
        },
        "id": "99ZJC8SrHRIG",
        "outputId": "1eb9ab78-543e-4666-d7a6-d9b6b5c8d3c5"
      },
      "execution_count": null,
      "outputs": [
        {
          "output_type": "stream",
          "name": "stdout",
          "text": [
            "98.80000000000001\n"
          ]
        }
      ]
    },
    {
      "cell_type": "code",
      "source": [
        "a=46.675\n",
        "b=78.987\n",
        "c=53.999\n",
        "print(a-b+c)"
      ],
      "metadata": {
        "colab": {
          "base_uri": "https://localhost:8080/"
        },
        "id": "Puo-7vxHICrb",
        "outputId": "84d21ef3-001a-4879-eb5c-60e5b66250a5"
      },
      "execution_count": null,
      "outputs": [
        {
          "output_type": "stream",
          "name": "stdout",
          "text": [
            "21.687000000000005\n"
          ]
        }
      ]
    },
    {
      "cell_type": "code",
      "source": [
        "num1=34.45\n",
        "num2=98.55\n",
        "num3=99.9\n",
        "print(num1+num2+num3)"
      ],
      "metadata": {
        "colab": {
          "base_uri": "https://localhost:8080/"
        },
        "id": "Lq0JljMBIdwe",
        "outputId": "392bb7dd-2ee1-447f-9c30-87930b6e299c"
      },
      "execution_count": null,
      "outputs": [
        {
          "output_type": "stream",
          "name": "stdout",
          "text": [
            "232.9\n"
          ]
        }
      ]
    },
    {
      "cell_type": "code",
      "source": [
        "student_1=657.44\n",
        "student_2=348.32\n",
        "print(student_1+student_2)"
      ],
      "metadata": {
        "colab": {
          "base_uri": "https://localhost:8080/"
        },
        "id": "to48x_5kJPIw",
        "outputId": "2e3d4066-ae2c-4061-c409-6496f09af97d"
      },
      "execution_count": null,
      "outputs": [
        {
          "output_type": "stream",
          "name": "stdout",
          "text": [
            "1005.76\n"
          ]
        }
      ]
    },
    {
      "cell_type": "code",
      "source": [
        "a=456.44\n",
        "b=465.33\n",
        "c=667.77\n",
        "print(a*b*c)"
      ],
      "metadata": {
        "colab": {
          "base_uri": "https://localhost:8080/"
        },
        "id": "xswkEBKLJve8",
        "outputId": "80a3c9bd-9dc6-4a69-e3c5-623e7c59cb87"
      },
      "execution_count": null,
      "outputs": [
        {
          "output_type": "stream",
          "name": "stdout",
          "text": [
            "141831159.531804\n"
          ]
        }
      ]
    },
    {
      "cell_type": "code",
      "source": [
        "s1=35.44\n",
        "s2=78.85\n",
        "print(s1%s2)"
      ],
      "metadata": {
        "colab": {
          "base_uri": "https://localhost:8080/"
        },
        "id": "pa_cgClELYEN",
        "outputId": "a76cc06d-204f-4e6e-828c-89b071b32355"
      },
      "execution_count": null,
      "outputs": [
        {
          "output_type": "stream",
          "name": "stdout",
          "text": [
            "35.44\n"
          ]
        }
      ]
    },
    {
      "cell_type": "code",
      "source": [
        "g=9.3746\n",
        "h=8.6363\n",
        "i=7.5353\n",
        "print(g*h/i)"
      ],
      "metadata": {
        "colab": {
          "base_uri": "https://localhost:8080/"
        },
        "id": "hMyBrirqLpJE",
        "outputId": "2c7a824a-2df0-4d3d-c041-79d95f23fc43"
      },
      "execution_count": null,
      "outputs": [
        {
          "output_type": "stream",
          "name": "stdout",
          "text": [
            "10.744344349926346\n"
          ]
        }
      ]
    },
    {
      "cell_type": "code",
      "source": [
        "marks1=98.4\n",
        "marks2=99.9\n",
        "print(marks1+marks2)"
      ],
      "metadata": {
        "colab": {
          "base_uri": "https://localhost:8080/"
        },
        "id": "XCayJzM7L66E",
        "outputId": "bb46e5e7-3696-462f-8536-9ae46acf696e"
      },
      "execution_count": null,
      "outputs": [
        {
          "output_type": "stream",
          "name": "stdout",
          "text": [
            "198.3\n"
          ]
        }
      ]
    },
    {
      "cell_type": "code",
      "source": [
        "a=44.44\n",
        "b=83.44\n",
        "c=76.98\n",
        "print(a*b+c)"
      ],
      "metadata": {
        "colab": {
          "base_uri": "https://localhost:8080/"
        },
        "id": "JhBoEe-1MUIV",
        "outputId": "5e6c07ba-9282-442f-8df2-6caf3dded0c8"
      },
      "execution_count": null,
      "outputs": [
        {
          "output_type": "stream",
          "name": "stdout",
          "text": [
            "3785.0535999999997\n"
          ]
        }
      ]
    },
    {
      "cell_type": "code",
      "source": [
        "a=546.77\n",
        "b=635.73\n",
        "c=736.90\n",
        "d=653.33\n",
        "e=999.76\n",
        "print(a+b-c*d/e)"
      ],
      "metadata": {
        "colab": {
          "base_uri": "https://localhost:8080/"
        },
        "id": "9TqxUce5MmPV",
        "outputId": "6b773b0a-4061-4dec-c616-0e6d08f05b8b"
      },
      "execution_count": null,
      "outputs": [
        {
          "output_type": "stream",
          "name": "stdout",
          "text": [
            "700.9455499319836\n"
          ]
        }
      ]
    },
    {
      "cell_type": "markdown",
      "source": [
        "**Boolean**"
      ],
      "metadata": {
        "id": "kOMszJa7M4U8"
      }
    },
    {
      "cell_type": "code",
      "source": [
        "a=True\n",
        "b=False\n",
        "print(a or b)"
      ],
      "metadata": {
        "colab": {
          "base_uri": "https://localhost:8080/"
        },
        "id": "G5s0RXarOH2C",
        "outputId": "d22d623b-3eae-4fb9-b3e8-8c6372e09caa"
      },
      "execution_count": null,
      "outputs": [
        {
          "output_type": "stream",
          "name": "stdout",
          "text": [
            "True\n"
          ]
        }
      ]
    },
    {
      "cell_type": "code",
      "source": [
        "a=True\n",
        "b=False\n",
        "print(a is b)"
      ],
      "metadata": {
        "colab": {
          "base_uri": "https://localhost:8080/"
        },
        "id": "2cduxwezOJbp",
        "outputId": "f8c3f42c-80da-40c4-f0e1-576830397bec"
      },
      "execution_count": null,
      "outputs": [
        {
          "output_type": "stream",
          "name": "stdout",
          "text": [
            "False\n"
          ]
        }
      ]
    },
    {
      "cell_type": "code",
      "source": [
        "g=True\n",
        "h=False\n",
        "print(not b)"
      ],
      "metadata": {
        "colab": {
          "base_uri": "https://localhost:8080/"
        },
        "id": "_RqYtRI8RfNB",
        "outputId": "e43daeba-2ee5-4f67-98fd-03c0953ae3e0"
      },
      "execution_count": null,
      "outputs": [
        {
          "output_type": "stream",
          "name": "stdout",
          "text": [
            "True\n"
          ]
        }
      ]
    },
    {
      "cell_type": "code",
      "source": [
        "a=True\n",
        "b=False\n",
        "print(a is b)"
      ],
      "metadata": {
        "colab": {
          "base_uri": "https://localhost:8080/"
        },
        "id": "1bUFWMzyRnen",
        "outputId": "8f8f2732-4de5-4583-9dd9-3d56491d3c3c"
      },
      "execution_count": null,
      "outputs": [
        {
          "output_type": "stream",
          "name": "stdout",
          "text": [
            "False\n"
          ]
        }
      ]
    },
    {
      "cell_type": "code",
      "source": [
        "j=False\n",
        "i=True\n",
        "print(i or j)"
      ],
      "metadata": {
        "colab": {
          "base_uri": "https://localhost:8080/"
        },
        "id": "PJq-Uq4BSH--",
        "outputId": "a9cb6405-9841-44b8-f1ed-ce880a61d761"
      },
      "execution_count": null,
      "outputs": [
        {
          "output_type": "stream",
          "name": "stdout",
          "text": [
            "True\n"
          ]
        }
      ]
    },
    {
      "cell_type": "code",
      "source": [
        "u=True\n",
        "o=False\n",
        "print(not o)"
      ],
      "metadata": {
        "colab": {
          "base_uri": "https://localhost:8080/"
        },
        "id": "Gzw6HZ5Y-4Re",
        "outputId": "5255b5b2-4a06-4731-e13c-784c9eca4cfb"
      },
      "execution_count": null,
      "outputs": [
        {
          "output_type": "stream",
          "name": "stdout",
          "text": [
            "True\n"
          ]
        }
      ]
    },
    {
      "cell_type": "code",
      "source": [
        "u=False\n",
        "o=True\n",
        "print(not o)"
      ],
      "metadata": {
        "colab": {
          "base_uri": "https://localhost:8080/"
        },
        "id": "ZEKxPUFG_KCV",
        "outputId": "f7231067-d2d4-4b0a-d4d9-f0d8d3f4e1b0"
      },
      "execution_count": null,
      "outputs": [
        {
          "output_type": "stream",
          "name": "stdout",
          "text": [
            "False\n"
          ]
        }
      ]
    },
    {
      "cell_type": "code",
      "source": [
        "f=True\n",
        "l=False\n",
        "print(l is f)"
      ],
      "metadata": {
        "colab": {
          "base_uri": "https://localhost:8080/"
        },
        "id": "YHU9dgWR_XRW",
        "outputId": "8fd1397c-78e2-444e-c42c-5c6c4ab1b113"
      },
      "execution_count": null,
      "outputs": [
        {
          "output_type": "stream",
          "name": "stdout",
          "text": [
            "False\n"
          ]
        }
      ]
    },
    {
      "cell_type": "code",
      "source": [
        "m=True\n",
        "n=False\n",
        "print(n or m)"
      ],
      "metadata": {
        "colab": {
          "base_uri": "https://localhost:8080/"
        },
        "id": "T62CfhXC_j88",
        "outputId": "c349b51b-dc9f-4d9b-8516-b1bbd44b6240"
      },
      "execution_count": null,
      "outputs": [
        {
          "output_type": "stream",
          "name": "stdout",
          "text": [
            "True\n"
          ]
        }
      ]
    }
  ]
}