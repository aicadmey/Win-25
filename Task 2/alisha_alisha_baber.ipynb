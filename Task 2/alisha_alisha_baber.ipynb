{
  "nbformat": 4,
  "nbformat_minor": 0,
  "metadata": {
    "colab": {
      "provenance": []
    },
    "kernelspec": {
      "name": "python3",
      "display_name": "Python 3"
    },
    "language_info": {
      "name": "python"
    }
  },
  "cells": [
    {
      "cell_type": "code",
      "source": [
        "#theses are 20 integers programs"
      ],
      "metadata": {
        "id": "RVq4V3ATRJyS"
      },
      "execution_count": null,
      "outputs": []
    },
    {
      "cell_type": "code",
      "execution_count": null,
      "metadata": {
        "colab": {
          "base_uri": "https://localhost:8080/"
        },
        "id": "uARUSemvDNhs",
        "outputId": "bd0281b2-9cd7-4507-82fe-61f8cdce7a26"
      },
      "outputs": [
        {
          "output_type": "stream",
          "name": "stdout",
          "text": [
            "30\n"
          ]
        }
      ],
      "source": [
        "a=20\n",
        "b=10\n",
        "sum=a+b\n",
        "print(sum)\n"
      ]
    },
    {
      "cell_type": "code",
      "source": [
        "age1=20\n",
        "age2=30\n",
        "print(age1)\n"
      ],
      "metadata": {
        "colab": {
          "base_uri": "https://localhost:8080/"
        },
        "id": "8rvHAFWZDpIU",
        "outputId": "5cd62e7e-3b0a-4f59-a6e1-268cf3a934ab"
      },
      "execution_count": null,
      "outputs": [
        {
          "output_type": "stream",
          "name": "stdout",
          "text": [
            "20\n"
          ]
        }
      ]
    },
    {
      "cell_type": "code",
      "source": [
        "price=30\n",
        "print(price)\n",
        "\n"
      ],
      "metadata": {
        "colab": {
          "base_uri": "https://localhost:8080/"
        },
        "id": "FzFhFaXtDuGd",
        "outputId": "c642eae2-6193-4f97-bf1a-77eb713edacf"
      },
      "execution_count": null,
      "outputs": [
        {
          "output_type": "stream",
          "name": "stdout",
          "text": [
            "30\n"
          ]
        }
      ]
    },
    {
      "cell_type": "code",
      "source": [
        "juice1=80\n",
        "juice2=60\n",
        "print(juice1)"
      ],
      "metadata": {
        "colab": {
          "base_uri": "https://localhost:8080/"
        },
        "id": "UXzt4JwMD2bD",
        "outputId": "4461ec91-440f-4521-922b-0fc3b6a3dc22"
      },
      "execution_count": null,
      "outputs": [
        {
          "output_type": "stream",
          "name": "stdout",
          "text": [
            "80\n"
          ]
        }
      ]
    },
    {
      "cell_type": "code",
      "source": [
        "age=30\n",
        "print(age)"
      ],
      "metadata": {
        "colab": {
          "base_uri": "https://localhost:8080/"
        },
        "id": "igD5IIxdD7uO",
        "outputId": "1557c0a8-bc02-4c7e-cc59-19157984281a"
      },
      "execution_count": null,
      "outputs": [
        {
          "output_type": "stream",
          "name": "stdout",
          "text": [
            "30\n"
          ]
        }
      ]
    },
    {
      "cell_type": "code",
      "source": [
        "a= 0\n",
        "b=5\n",
        "print(a)"
      ],
      "metadata": {
        "colab": {
          "base_uri": "https://localhost:8080/"
        },
        "id": "PG7pljBgEDbc",
        "outputId": "713b3b8f-7fdd-4e6c-c956-99c6db0101f4"
      },
      "execution_count": null,
      "outputs": [
        {
          "output_type": "stream",
          "name": "stdout",
          "text": [
            "0\n"
          ]
        }
      ]
    },
    {
      "cell_type": "code",
      "source": [
        "a= 00\n",
        "print(a)"
      ],
      "metadata": {
        "id": "x10YtEM5ExNN",
        "colab": {
          "base_uri": "https://localhost:8080/",
          "height": 158
        },
        "outputId": "53c60a58-7885-4d17-906b-f04a585aa1e8"
      },
      "execution_count": null,
      "outputs": [
        {
          "output_type": "error",
          "ename": "TypeError",
          "evalue": "'int' object is not callable",
          "traceback": [
            "\u001b[0;31m---------------------------------------------------------------------------\u001b[0m",
            "\u001b[0;31mTypeError\u001b[0m                                 Traceback (most recent call last)",
            "\u001b[0;32m<ipython-input-37-e14610f2bea8>\u001b[0m in \u001b[0;36m<cell line: 2>\u001b[0;34m()\u001b[0m\n\u001b[1;32m      1\u001b[0m \u001b[0ma\u001b[0m\u001b[0;34m=\u001b[0m \u001b[0;36m00\u001b[0m\u001b[0;34m\u001b[0m\u001b[0;34m\u001b[0m\u001b[0m\n\u001b[0;32m----> 2\u001b[0;31m \u001b[0mprint\u001b[0m\u001b[0;34m(\u001b[0m\u001b[0ma\u001b[0m\u001b[0;34m)\u001b[0m\u001b[0;34m\u001b[0m\u001b[0;34m\u001b[0m\u001b[0m\n\u001b[0m",
            "\u001b[0;31mTypeError\u001b[0m: 'int' object is not callable"
          ]
        }
      ]
    },
    {
      "cell_type": "code",
      "source": [
        "num1 = 40\n",
        "\n",
        "print (num)"
      ],
      "metadata": {
        "id": "GlP7wlxqFexY"
      },
      "execution_count": null,
      "outputs": []
    },
    {
      "cell_type": "code",
      "source": [
        "x=2\n",
        "y=3\n",
        "z=6\n",
        "print(x+y+z)\n"
      ],
      "metadata": {
        "id": "P4ygZhceGh7V"
      },
      "execution_count": null,
      "outputs": []
    },
    {
      "cell_type": "code",
      "source": [
        "u = 45\n",
        "i=90\n",
        "sum=u+i\n",
        "print(sum)"
      ],
      "metadata": {
        "id": "RrPkerLSGxxT"
      },
      "execution_count": null,
      "outputs": []
    },
    {
      "cell_type": "code",
      "source": [
        "j = 40\n",
        "a= 80\n",
        "v=70\n",
        "print(j)"
      ],
      "metadata": {
        "id": "fzctNaglGtgl"
      },
      "execution_count": null,
      "outputs": []
    },
    {
      "cell_type": "code",
      "source": [
        "pencil1=30\n",
        "pencil2=40\n",
        "pencil=50\n",
        "print(pencil2)"
      ],
      "metadata": {
        "id": "w4XHB79KHgU7"
      },
      "execution_count": null,
      "outputs": []
    },
    {
      "cell_type": "code",
      "source": [
        "y=40\n",
        "r=20\n",
        "print(y+r)\n"
      ],
      "metadata": {
        "id": "uVBYiQTvHrmu"
      },
      "execution_count": null,
      "outputs": []
    },
    {
      "cell_type": "code",
      "source": [
        "print(34)"
      ],
      "metadata": {
        "id": "zXmsvTVSIZst"
      },
      "execution_count": null,
      "outputs": []
    },
    {
      "cell_type": "code",
      "source": [
        "x=78\n",
        "u=\"jerry\"\n",
        "print(x)"
      ],
      "metadata": {
        "id": "jbCdXxpOIn1K"
      },
      "execution_count": null,
      "outputs": []
    },
    {
      "cell_type": "code",
      "source": [
        "m=88\n",
        "c=30\n",
        "print(m+c)"
      ],
      "metadata": {
        "id": "RKbtKvDVI9Dx"
      },
      "execution_count": null,
      "outputs": []
    },
    {
      "cell_type": "code",
      "source": [
        "a=\"Alisha\"\n",
        "num=20\n",
        "print(num)"
      ],
      "metadata": {
        "id": "h9fTrlNHJFfE"
      },
      "execution_count": null,
      "outputs": []
    },
    {
      "cell_type": "code",
      "source": [
        "num1=30\n",
        "num2=40\n",
        "print(num1+num2)"
      ],
      "metadata": {
        "id": "fSDpENIWJmnQ"
      },
      "execution_count": null,
      "outputs": []
    },
    {
      "cell_type": "code",
      "source": [
        "age1=20\n",
        "age2=30\n",
        "print(age1)"
      ],
      "metadata": {
        "id": "f9BTqHkwKFf4"
      },
      "execution_count": null,
      "outputs": []
    },
    {
      "cell_type": "code",
      "source": [
        "#theses are the 20  float programs"
      ],
      "metadata": {
        "id": "zP6peO9dKKqw"
      },
      "execution_count": null,
      "outputs": []
    },
    {
      "cell_type": "code",
      "source": [
        "y=0.55\n",
        "u=0.44\n",
        "print(y+u)"
      ],
      "metadata": {
        "colab": {
          "base_uri": "https://localhost:8080/"
        },
        "id": "yMsZa7sWMwVK",
        "outputId": "9e2c12d9-7fdf-4d04-98d7-13ba19c60e7b"
      },
      "execution_count": null,
      "outputs": [
        {
          "output_type": "stream",
          "name": "stdout",
          "text": [
            "0.99\n"
          ]
        }
      ]
    },
    {
      "cell_type": "code",
      "source": [
        "u=-7.88\n",
        "i=9.99\n",
        "print(u+i)"
      ],
      "metadata": {
        "colab": {
          "base_uri": "https://localhost:8080/"
        },
        "id": "Wz1BBJOLNMvX",
        "outputId": "9a850529-c745-48c3-dc74-655b7985ad16"
      },
      "execution_count": null,
      "outputs": [
        {
          "output_type": "stream",
          "name": "stdout",
          "text": [
            "2.1100000000000003\n"
          ]
        }
      ]
    },
    {
      "cell_type": "code",
      "source": [
        "g=7.00\n",
        "h=4.0\n",
        "3.55\n",
        "print(g+h)"
      ],
      "metadata": {
        "colab": {
          "base_uri": "https://localhost:8080/"
        },
        "id": "oyKq7qWFNY18",
        "outputId": "6a64eef5-e80e-48e9-c35c-95b2d2d41e56"
      },
      "execution_count": null,
      "outputs": [
        {
          "output_type": "stream",
          "name": "stdout",
          "text": [
            "11.0\n"
          ]
        }
      ]
    },
    {
      "cell_type": "code",
      "source": [
        "a=0.99\n",
        "b=0.88\n",
        "print(a+b)"
      ],
      "metadata": {
        "colab": {
          "base_uri": "https://localhost:8080/"
        },
        "id": "YB5tFn1oNgwl",
        "outputId": "89bf3989-22d3-4fb0-e136-e00dcbf816ca"
      },
      "execution_count": null,
      "outputs": [
        {
          "output_type": "stream",
          "name": "stdout",
          "text": [
            "1.87\n"
          ]
        }
      ]
    },
    {
      "cell_type": "code",
      "source": [
        "e=0.55\n",
        "f=9.44\n",
        "print(e+f)"
      ],
      "metadata": {
        "colab": {
          "base_uri": "https://localhost:8080/"
        },
        "id": "9NpmjCtcNoez",
        "outputId": "ebaaf03f-6a10-4d68-8f1a-c7c5ea11fd97"
      },
      "execution_count": null,
      "outputs": [
        {
          "output_type": "stream",
          "name": "stdout",
          "text": [
            "9.99\n"
          ]
        }
      ]
    },
    {
      "cell_type": "code",
      "source": [
        "print(5.55)"
      ],
      "metadata": {
        "colab": {
          "base_uri": "https://localhost:8080/"
        },
        "id": "QrD_EnYNNzlT",
        "outputId": "0a05099e-d4bb-42c8-c25e-b5eec4f7d7a4"
      },
      "execution_count": null,
      "outputs": [
        {
          "output_type": "stream",
          "name": "stdout",
          "text": [
            "5.55\n"
          ]
        }
      ]
    },
    {
      "cell_type": "code",
      "source": [
        "i=55\n",
        "j=4.0\n",
        "print(i+j)"
      ],
      "metadata": {
        "colab": {
          "base_uri": "https://localhost:8080/"
        },
        "id": "iiT5AFimN7c-",
        "outputId": "8d1c6380-2d7d-4800-ce1d-ea604b537b7a"
      },
      "execution_count": null,
      "outputs": [
        {
          "output_type": "stream",
          "name": "stdout",
          "text": [
            "59.0\n"
          ]
        }
      ]
    },
    {
      "cell_type": "code",
      "source": [
        "b=4.00\n",
        "d=44.8\n",
        "sum=b+d\n",
        "print(sum)"
      ],
      "metadata": {
        "colab": {
          "base_uri": "https://localhost:8080/"
        },
        "id": "GYSRRL5cOBG0",
        "outputId": "07ba1383-14ac-4650-cd4b-306bca17009d"
      },
      "execution_count": null,
      "outputs": [
        {
          "output_type": "stream",
          "name": "stdout",
          "text": [
            "48.8\n"
          ]
        }
      ]
    },
    {
      "cell_type": "code",
      "source": [
        "b=99.7\n",
        "p=int(b)\n",
        "print(p)"
      ],
      "metadata": {
        "colab": {
          "base_uri": "https://localhost:8080/"
        },
        "id": "cdFBVSpdOQpD",
        "outputId": "cdbd6d46-fb84-4586-b140-1a7f1a2b9a1a"
      },
      "execution_count": null,
      "outputs": [
        {
          "output_type": "stream",
          "name": "stdout",
          "text": [
            "99\n"
          ]
        }
      ]
    },
    {
      "cell_type": "code",
      "source": [
        "\n",
        "float=8.99\n",
        "print(float)"
      ],
      "metadata": {
        "colab": {
          "base_uri": "https://localhost:8080/"
        },
        "id": "WpIJMgJFOauq",
        "outputId": "51824595-0f81-4860-a8d2-8295ef9b323c"
      },
      "execution_count": null,
      "outputs": [
        {
          "output_type": "stream",
          "name": "stdout",
          "text": [
            "8.99\n"
          ]
        }
      ]
    },
    {
      "cell_type": "code",
      "source": [
        "m=77\n",
        "n=8.0\n",
        "print(m+n)\n"
      ],
      "metadata": {
        "colab": {
          "base_uri": "https://localhost:8080/"
        },
        "id": "P30b1t9uPAch",
        "outputId": "f8f3e24e-7d84-4d25-c28e-305c186daea6"
      },
      "execution_count": null,
      "outputs": [
        {
          "output_type": "stream",
          "name": "stdout",
          "text": [
            "85.0\n"
          ]
        }
      ]
    },
    {
      "cell_type": "code",
      "source": [
        "b=6.6\n",
        "v=8.8\n",
        "print(b+v)"
      ],
      "metadata": {
        "colab": {
          "base_uri": "https://localhost:8080/"
        },
        "id": "t8-HUUsLPMaA",
        "outputId": "f376251a-cb10-4df6-97b4-2a3bf8dfd1da"
      },
      "execution_count": null,
      "outputs": [
        {
          "output_type": "stream",
          "name": "stdout",
          "text": [
            "15.4\n"
          ]
        }
      ]
    },
    {
      "cell_type": "code",
      "source": [
        "h=5.5\n",
        "name=\"alisha\"\n",
        "print(h)"
      ],
      "metadata": {
        "colab": {
          "base_uri": "https://localhost:8080/"
        },
        "id": "wAb7EixaPYf0",
        "outputId": "856e7048-dfcc-41fd-9598-c4cf4b520413"
      },
      "execution_count": null,
      "outputs": [
        {
          "output_type": "stream",
          "name": "stdout",
          "text": [
            "5.5\n"
          ]
        }
      ]
    },
    {
      "cell_type": "code",
      "source": [
        "o=4.9\n",
        "i=9.00\n",
        "f=4.44\n",
        "print(o+i+f)"
      ],
      "metadata": {
        "colab": {
          "base_uri": "https://localhost:8080/"
        },
        "id": "z-idUmdvPhTk",
        "outputId": "1d212e90-772f-4cf7-f395-407b412de950"
      },
      "execution_count": null,
      "outputs": [
        {
          "output_type": "stream",
          "name": "stdout",
          "text": [
            "18.34\n"
          ]
        }
      ]
    },
    {
      "cell_type": "code",
      "source": [
        "u=4.4\n",
        "print(u)"
      ],
      "metadata": {
        "colab": {
          "base_uri": "https://localhost:8080/"
        },
        "id": "6At5cXyWPz1g",
        "outputId": "fc3f7570-4f99-4abd-910d-7a1311dea87e"
      },
      "execution_count": null,
      "outputs": [
        {
          "output_type": "stream",
          "name": "stdout",
          "text": [
            "4.4\n"
          ]
        }
      ]
    },
    {
      "cell_type": "code",
      "source": [
        "b=55\n",
        "t=3.3\n",
        "print(b+t)"
      ],
      "metadata": {
        "colab": {
          "base_uri": "https://localhost:8080/"
        },
        "id": "093V9px9P7yc",
        "outputId": "8ac74d08-c9e1-4abc-f1ef-330948733752"
      },
      "execution_count": null,
      "outputs": [
        {
          "output_type": "stream",
          "name": "stdout",
          "text": [
            "58.3\n"
          ]
        }
      ]
    },
    {
      "cell_type": "code",
      "source": [
        "b=8.44\n",
        "i=(print(b))"
      ],
      "metadata": {
        "colab": {
          "base_uri": "https://localhost:8080/"
        },
        "id": "zwMUgE7WQN8u",
        "outputId": "e63ba180-5882-4c62-e46b-89d6d7e56460"
      },
      "execution_count": null,
      "outputs": [
        {
          "output_type": "stream",
          "name": "stdout",
          "text": [
            "8.44\n"
          ]
        }
      ]
    },
    {
      "cell_type": "code",
      "source": [
        "b=-9.44\n",
        "print(b)"
      ],
      "metadata": {
        "colab": {
          "base_uri": "https://localhost:8080/"
        },
        "id": "9D1fsYQWQbYt",
        "outputId": "56e1bd3f-244a-4b50-cc3e-80d961ed129b"
      },
      "execution_count": null,
      "outputs": [
        {
          "output_type": "stream",
          "name": "stdout",
          "text": [
            "-9.44\n"
          ]
        }
      ]
    },
    {
      "cell_type": "code",
      "source": [
        "v=0.9\n",
        "c=3.0\n",
        "d=4.4\n",
        "t=4.4\n",
        "print(v+c+d+t)"
      ],
      "metadata": {
        "colab": {
          "base_uri": "https://localhost:8080/"
        },
        "id": "jYXcCyz5QoP1",
        "outputId": "9be3e67f-2e48-43dc-c60f-e77b64f5ccc0"
      },
      "execution_count": null,
      "outputs": [
        {
          "output_type": "stream",
          "name": "stdout",
          "text": [
            "12.700000000000001\n"
          ]
        }
      ]
    },
    {
      "cell_type": "code",
      "source": [
        "num1=3.3\n",
        "num2=4.4\n",
        "num3=39.4\n",
        "num4=4.88\n",
        "print(num1+num2+num3+num4)\n"
      ],
      "metadata": {
        "colab": {
          "base_uri": "https://localhost:8080/"
        },
        "id": "TwYgNtlyQwBY",
        "outputId": "5f3bd213-139b-450f-e473-9e00f0001424"
      },
      "execution_count": null,
      "outputs": [
        {
          "output_type": "stream",
          "name": "stdout",
          "text": [
            "51.980000000000004\n"
          ]
        }
      ]
    },
    {
      "cell_type": "code",
      "source": [
        "#these are 20 string codes\n"
      ],
      "metadata": {
        "id": "f2TTe1ZsSMDI"
      },
      "execution_count": null,
      "outputs": []
    },
    {
      "cell_type": "code",
      "source": [
        "a= \"mango\"\n",
        "b= \" banana\"\n",
        "c= \" orange\"\n",
        "print(a+b+c)"
      ],
      "metadata": {
        "id": "e7S9ExJcSflm"
      },
      "execution_count": null,
      "outputs": []
    },
    {
      "cell_type": "code",
      "source": [
        "c=\"Alisha\"\n",
        "b=\"she is a girl\"\n",
        "print(c)"
      ],
      "metadata": {
        "colab": {
          "base_uri": "https://localhost:8080/",
          "height": 176
        },
        "id": "oxKdtQoSSnoC",
        "outputId": "1ec02100-c7f9-48da-caf9-4d91e3e5b849"
      },
      "execution_count": null,
      "outputs": [
        {
          "output_type": "error",
          "ename": "TypeError",
          "evalue": "'int' object is not callable",
          "traceback": [
            "\u001b[0;31m---------------------------------------------------------------------------\u001b[0m",
            "\u001b[0;31mTypeError\u001b[0m                                 Traceback (most recent call last)",
            "\u001b[0;32m<ipython-input-40-1e75ea99bd89>\u001b[0m in \u001b[0;36m<cell line: 3>\u001b[0;34m()\u001b[0m\n\u001b[1;32m      1\u001b[0m \u001b[0mc\u001b[0m\u001b[0;34m=\u001b[0m\u001b[0;34m\"Alisha\"\u001b[0m\u001b[0;34m\u001b[0m\u001b[0;34m\u001b[0m\u001b[0m\n\u001b[1;32m      2\u001b[0m \u001b[0mb\u001b[0m\u001b[0;34m=\u001b[0m\u001b[0;34m\"she is a girl\"\u001b[0m\u001b[0;34m\u001b[0m\u001b[0;34m\u001b[0m\u001b[0m\n\u001b[0;32m----> 3\u001b[0;31m \u001b[0mprint\u001b[0m\u001b[0;34m(\u001b[0m\u001b[0mc\u001b[0m\u001b[0;34m)\u001b[0m\u001b[0;34m\u001b[0m\u001b[0;34m\u001b[0m\u001b[0m\n\u001b[0m",
            "\u001b[0;31mTypeError\u001b[0m: 'int' object is not callable"
          ]
        }
      ]
    },
    {
      "cell_type": "code",
      "source": [
        "a= \" i like to read books\"\n",
        "print(a)"
      ],
      "metadata": {
        "id": "8Zp6aCvrTWh-"
      },
      "execution_count": null,
      "outputs": []
    },
    {
      "cell_type": "code",
      "source": [
        "print(\"It's alright\")"
      ],
      "metadata": {
        "id": "D8yF_KwSTe-s"
      },
      "execution_count": null,
      "outputs": []
    },
    {
      "cell_type": "code",
      "source": [
        "a = \"Hello\"\n",
        "print(a)"
      ],
      "metadata": {
        "id": "vKLFowHzTkVz"
      },
      "execution_count": null,
      "outputs": []
    },
    {
      "cell_type": "code",
      "source": [
        "string=\"string\"\n",
        "print(string)"
      ],
      "metadata": {
        "id": "ElhUetvHTnof"
      },
      "execution_count": null,
      "outputs": []
    },
    {
      "cell_type": "code",
      "source": [
        "e=\"i was born in pakistan\"\n",
        "print(e)\n"
      ],
      "metadata": {
        "id": "81CikK2XT1pd"
      },
      "execution_count": null,
      "outputs": []
    },
    {
      "cell_type": "code",
      "source": [
        "d=\" alisha\"\n",
        "b= \" laiba\"\n",
        "c=\" bushra\"\n",
        "print(b)"
      ],
      "metadata": {
        "id": "epWOPHxtT9ww"
      },
      "execution_count": null,
      "outputs": []
    },
    {
      "cell_type": "code",
      "source": [
        "print(\" Hello beautiful\")\n"
      ],
      "metadata": {
        "id": "UmzrnneeUGg1"
      },
      "execution_count": null,
      "outputs": []
    },
    {
      "cell_type": "code",
      "source": [
        "s= \" handsome\"\n",
        "b= \" smart\"\n",
        "print(s+b)"
      ],
      "metadata": {
        "id": "-Jm169tVUTaP"
      },
      "execution_count": null,
      "outputs": []
    },
    {
      "cell_type": "code",
      "source": [
        "e= \" monkey\"\n",
        "d= \" he like to eat banana\"\n",
        "print=(e+d)\n"
      ],
      "metadata": {
        "colab": {
          "base_uri": "https://localhost:8080/",
          "height": 176
        },
        "id": "pU9w56DyU1cN",
        "outputId": "9d216b1f-e995-45be-cd73-2209e15d0c9c"
      },
      "execution_count": null,
      "outputs": [
        {
          "output_type": "error",
          "ename": "TypeError",
          "evalue": "'int' object is not callable",
          "traceback": [
            "\u001b[0;31m---------------------------------------------------------------------------\u001b[0m",
            "\u001b[0;31mTypeError\u001b[0m                                 Traceback (most recent call last)",
            "\u001b[0;32m<ipython-input-41-e416855671f7>\u001b[0m in \u001b[0;36m<cell line: 3>\u001b[0;34m()\u001b[0m\n\u001b[1;32m      1\u001b[0m \u001b[0me\u001b[0m\u001b[0;34m=\u001b[0m \u001b[0;34m\" monkey\"\u001b[0m\u001b[0;34m\u001b[0m\u001b[0;34m\u001b[0m\u001b[0m\n\u001b[1;32m      2\u001b[0m \u001b[0md\u001b[0m\u001b[0;34m=\u001b[0m \u001b[0;34m\" he like to eat banana\"\u001b[0m\u001b[0;34m\u001b[0m\u001b[0;34m\u001b[0m\u001b[0m\n\u001b[0;32m----> 3\u001b[0;31m \u001b[0mprint\u001b[0m\u001b[0;34m(\u001b[0m\u001b[0me\u001b[0m\u001b[0;34m+\u001b[0m\u001b[0md\u001b[0m\u001b[0;34m)\u001b[0m\u001b[0;34m\u001b[0m\u001b[0;34m\u001b[0m\u001b[0m\n\u001b[0m",
            "\u001b[0;31mTypeError\u001b[0m: 'int' object is not callable"
          ]
        }
      ]
    },
    {
      "cell_type": "code",
      "source": [
        "v=67\n",
        "b=0.77\n",
        "c=\"Hello\"\n",
        "print(v+b)"
      ],
      "metadata": {
        "id": "7QVoTttVVFVR"
      },
      "execution_count": null,
      "outputs": []
    },
    {
      "cell_type": "code",
      "source": [
        "u=66\n",
        "d=\" bear\"\n",
        "print=\"d\"\n"
      ],
      "metadata": {
        "id": "IQeNt2X8Ve4_"
      },
      "execution_count": null,
      "outputs": []
    },
    {
      "cell_type": "code",
      "source": [
        "y = \" phthon\"\n",
        "u= \" java\"\n",
        "b= \" c++\"\n",
        "print(y+u+b)"
      ],
      "metadata": {
        "id": "fLxJf-UwahlH"
      },
      "execution_count": null,
      "outputs": []
    },
    {
      "cell_type": "code",
      "source": [
        "y= \" simple and easy\"\n",
        "u = \" easy to learn\"\n",
        "print(y+u)\n"
      ],
      "metadata": {
        "id": "nTcPzLI9bEXP"
      },
      "execution_count": null,
      "outputs": []
    },
    {
      "cell_type": "code",
      "source": [
        "f=\" string is a data type\"\n",
        "print(f)"
      ],
      "metadata": {
        "id": "TYmkbOBdbax4"
      },
      "execution_count": null,
      "outputs": []
    },
    {
      "cell_type": "code",
      "source": [
        "t= \" its too late to learn\"\n",
        "print(t)"
      ],
      "metadata": {
        "id": "RxmKlUlBblJS"
      },
      "execution_count": null,
      "outputs": []
    },
    {
      "cell_type": "code",
      "source": [
        "# these are type 30 input programs\n"
      ],
      "metadata": {
        "id": "eCW-7jutbq7O"
      },
      "execution_count": null,
      "outputs": []
    },
    {
      "cell_type": "code",
      "source": [
        "name= input(\"enter your name\")\n",
        "print(name)"
      ],
      "metadata": {
        "colab": {
          "base_uri": "https://localhost:8080/"
        },
        "id": "hl8m6DHelqp8",
        "outputId": "7541c98a-7ecf-4a70-9c02-b050afb5b94c"
      },
      "execution_count": null,
      "outputs": [
        {
          "output_type": "stream",
          "name": "stdout",
          "text": [
            "enter your nameAlisha\n",
            "Alisha\n"
          ]
        }
      ]
    },
    {
      "cell_type": "code",
      "source": [
        "name=input(\"enter your first name\")\n",
        "name2=input(\"enter your last name\")\n",
        "print(name+name2)\n"
      ],
      "metadata": {
        "colab": {
          "base_uri": "https://localhost:8080/"
        },
        "id": "z3giREWpmMI4",
        "outputId": "8d08de89-c0d1-46bf-ee23-415c5e2e1e1b"
      },
      "execution_count": null,
      "outputs": [
        {
          "output_type": "stream",
          "name": "stdout",
          "text": [
            "enter your first nameAlisha\n",
            "enter your last nameBabar\n",
            "AlishaBabar\n"
          ]
        }
      ]
    },
    {
      "cell_type": "code",
      "source": [
        "age= input(\"enter your age\")\n",
        "print(age)"
      ],
      "metadata": {
        "colab": {
          "base_uri": "https://localhost:8080/"
        },
        "id": "J3RB_jSbmxEm",
        "outputId": "082c572e-4903-4ba2-eb11-040899ca5208"
      },
      "execution_count": null,
      "outputs": [
        {
          "output_type": "stream",
          "name": "stdout",
          "text": [
            "enter your age20\n",
            "20\n"
          ]
        }
      ]
    },
    {
      "cell_type": "code",
      "source": [
        "height=input(\"enter your height\")\n",
        "print(height)"
      ],
      "metadata": {
        "colab": {
          "base_uri": "https://localhost:8080/"
        },
        "id": "7ekc_lIJnBpU",
        "outputId": "5c9754b1-ce47-4e09-ad2f-6b83b92f9542"
      },
      "execution_count": null,
      "outputs": [
        {
          "output_type": "stream",
          "name": "stdout",
          "text": [
            "enter your height5.4\n",
            "5.4\n"
          ]
        }
      ]
    },
    {
      "cell_type": "code",
      "source": [
        "fitness=input(\"enter your fitness\")\n",
        "print(fitness)\n"
      ],
      "metadata": {
        "colab": {
          "base_uri": "https://localhost:8080/"
        },
        "id": "Z2UU89l1nO_R",
        "outputId": "3593c700-191e-4c68-9ece-6b785dfe269e"
      },
      "execution_count": null,
      "outputs": [
        {
          "output_type": "stream",
          "name": "stdout",
          "text": [
            "enter your fitnesssmart \n",
            "smart \n"
          ]
        }
      ]
    },
    {
      "cell_type": "code",
      "source": [
        "education=input(\"enter your eduaction\")\n",
        "print(education)"
      ],
      "metadata": {
        "colab": {
          "base_uri": "https://localhost:8080/"
        },
        "id": "NC5Ajy_inch2",
        "outputId": "a8ebaf9f-3452-4730-ebf5-206002d4a1b8"
      },
      "execution_count": null,
      "outputs": [
        {
          "output_type": "stream",
          "name": "stdout",
          "text": [
            "enter your eduactionbachleor\n",
            "bachleor\n"
          ]
        }
      ]
    },
    {
      "cell_type": "code",
      "source": [
        "siblings=input(\"enter your siblings\")\n",
        "print(siblings)\n"
      ],
      "metadata": {
        "colab": {
          "base_uri": "https://localhost:8080/"
        },
        "id": "Fa9bBF7TnxCK",
        "outputId": "405a6e5d-95bd-4bd3-a0f6-83e6251e42f2"
      },
      "execution_count": null,
      "outputs": [
        {
          "output_type": "stream",
          "name": "stdout",
          "text": [
            "enter yoursiblings6\n",
            "6\n"
          ]
        }
      ]
    },
    {
      "cell_type": "code",
      "source": [
        "father=input(\"enter your father name\")\n",
        "print(father)"
      ],
      "metadata": {
        "id": "JAixYua0oQLD"
      },
      "execution_count": null,
      "outputs": []
    },
    {
      "cell_type": "code",
      "source": [
        "mother=input( \"enter your mohther name\")\n",
        "print(mother)\n"
      ],
      "metadata": {
        "id": "-GVuFHFBo6cm"
      },
      "execution_count": null,
      "outputs": []
    },
    {
      "cell_type": "code",
      "source": [
        "mood=input(\"your mood is\")\n",
        "print(mood)\n"
      ],
      "metadata": {
        "id": "HOcxmleFpEvt"
      },
      "execution_count": null,
      "outputs": []
    },
    {
      "cell_type": "code",
      "source": [
        "color =(\"enter your favourite color\")\n",
        "print(color)\n"
      ],
      "metadata": {
        "id": "8do6B6xmpNZ3"
      },
      "execution_count": null,
      "outputs": []
    },
    {
      "cell_type": "code",
      "source": [
        "dish=input(\"enter your favourite dish\")\n",
        "print(dish)\n"
      ],
      "metadata": {
        "id": "g4wWN99WpVXd"
      },
      "execution_count": null,
      "outputs": []
    },
    {
      "cell_type": "code",
      "source": [
        "footwear=input(\"enter your favourite footwear\")\n",
        "print(footwear)\n"
      ],
      "metadata": {
        "id": "7QYcr8gtph-T"
      },
      "execution_count": null,
      "outputs": []
    },
    {
      "cell_type": "code",
      "source": [
        "name=input(\"enter your name\")\n",
        "print(\"hello\",name)\n"
      ],
      "metadata": {
        "id": "p1EBkW_6p1G5"
      },
      "execution_count": null,
      "outputs": []
    },
    {
      "cell_type": "code",
      "source": [
        "alisha=input(\"whats goint on\")\n",
        "print(\"whats going on\",alisha)"
      ],
      "metadata": {
        "id": "S8vIVQCxqsgO"
      },
      "execution_count": null,
      "outputs": []
    },
    {
      "cell_type": "code",
      "source": [
        "num1=input(\"enter first number\")\n",
        "num2=input(\"enter secoond number\")\n",
        "print(\"you enterd \", num1,\"and\",num2)"
      ],
      "metadata": {
        "id": "HDG58OwnrNX_"
      },
      "execution_count": null,
      "outputs": []
    },
    {
      "cell_type": "code",
      "source": [
        "name=input(\"enter your work\")\n",
        "name2=input(\"enter your work2\")\n",
        "print(\"you are doing\",name,\"and\",name2)"
      ],
      "metadata": {
        "id": "mPWl9Xxfr6Ev"
      },
      "execution_count": null,
      "outputs": []
    },
    {
      "cell_type": "code",
      "source": [
        "num1=input(\"enter number\")\n",
        "num2=input(\"enter number2\")\n",
        "print(num1+num2)\n"
      ],
      "metadata": {
        "id": "BDFqE4LosWvG"
      },
      "execution_count": null,
      "outputs": []
    },
    {
      "cell_type": "code",
      "source": [
        "name=input(\"enter your sister name\")\n",
        "name2=input(\"enter your brother name\")\n",
        "print(\"my sister name is\",name,\"and\",\"my brother name is\",name2 )\n"
      ],
      "metadata": {
        "id": "aZwryV-CstiM"
      },
      "execution_count": null,
      "outputs": []
    },
    {
      "cell_type": "code",
      "source": [
        "num1=input(\"enter number\")\n",
        "num2=input(\"enter number2\")\n",
        "num3=input(\"enter number3\")\n",
        "\n",
        "print(num1+num2)"
      ],
      "metadata": {
        "id": "I7cGQSSWt9cj"
      },
      "execution_count": null,
      "outputs": []
    },
    {
      "cell_type": "code",
      "source": [
        "wheather=input(\"enter current weather\")\n",
        "print(\"current wheather\",wheather)\n"
      ],
      "metadata": {
        "id": "DR8K35W8v4zu"
      },
      "execution_count": null,
      "outputs": []
    },
    {
      "cell_type": "code",
      "source": [
        "name=(\"country name\")\n",
        "print(\"say hello to\",name)\n"
      ],
      "metadata": {
        "id": "eOrDhHgYz_j4"
      },
      "execution_count": null,
      "outputs": []
    },
    {
      "cell_type": "code",
      "source": [
        "result=input(\"enter your result\")\n",
        "print(\"your result is\",result)\n"
      ],
      "metadata": {
        "id": "rqaIUUiG1A9Y"
      },
      "execution_count": null,
      "outputs": []
    },
    {
      "cell_type": "code",
      "source": [
        "image=input(\"enter your image\")\n",
        "print(\"your image is\",image)\n"
      ],
      "metadata": {
        "id": "ruHffDzG1dri"
      },
      "execution_count": null,
      "outputs": []
    },
    {
      "cell_type": "code",
      "source": [
        "int=input(\"enter your integer\")\n",
        "print(\"your integer is\",int)\n"
      ],
      "metadata": {
        "id": "8vc1eEsw1g_d"
      },
      "execution_count": null,
      "outputs": []
    },
    {
      "cell_type": "code",
      "source": [
        "boolean=input(\"enter your boolean\")\n",
        "print(\"your boolean is\",boolean)\n"
      ],
      "metadata": {
        "id": "batOWfl-1oSK"
      },
      "execution_count": null,
      "outputs": []
    },
    {
      "cell_type": "code",
      "source": [
        "ice=input(\"enter your suggestion\")\n",
        "print(\"my suggestion is\",)\n"
      ],
      "metadata": {
        "id": "sl7gjpzW1tNa"
      },
      "execution_count": null,
      "outputs": []
    },
    {
      "cell_type": "code",
      "source": [
        "pet=input(\"enter your pet name\")\n",
        "print(\"my pet name is\",pet)\n"
      ],
      "metadata": {
        "id": "BnyLwKga17JS"
      },
      "execution_count": null,
      "outputs": []
    },
    {
      "cell_type": "code",
      "source": [
        "a=input(\"enter your ceo name \")\n",
        "print(\"my ceo name is\",a)"
      ],
      "metadata": {
        "id": "15aL-95v221k"
      },
      "execution_count": null,
      "outputs": []
    },
    {
      "cell_type": "code",
      "source": [
        "v=input (\"enter your nick name\")\n",
        "print(\"my nick name is\",v)"
      ],
      "metadata": {
        "id": "rzoBLbgk3mey"
      },
      "execution_count": null,
      "outputs": []
    },
    {
      "cell_type": "markdown",
      "source": [
        "# these are 30 type casting program\n"
      ],
      "metadata": {
        "id": "oTVpRoTp4Ggb"
      }
    },
    {
      "cell_type": "code",
      "source": [
        "num1=int(input(\"enter first number\"))\n",
        "num2=float(input(\"enter second number\"))\n",
        "sum(num1+num2)\n",
        "print (sum)\n",
        "print(type(num1))\n"
      ],
      "metadata": {
        "id": "RnawjRQQ4L4k"
      },
      "execution_count": null,
      "outputs": []
    },
    {
      "cell_type": "code",
      "source": [
        "s=99\n",
        "r=3.3\n",
        "c=\"alisha\"\n",
        "print(type(r))\n",
        "print(type(s))"
      ],
      "metadata": {
        "id": "F-zxAmXi4-P8"
      },
      "execution_count": null,
      "outputs": []
    },
    {
      "cell_type": "code",
      "source": [
        "x = 1\n",
        "y = 35656222554887711\n",
        "z = -3255522\n",
        "\n",
        "print(type(x))\n",
        "print(type(y))\n",
        "print(type(z))"
      ],
      "metadata": {
        "id": "rmGQRKHM5rWm"
      },
      "execution_count": null,
      "outputs": []
    },
    {
      "cell_type": "code",
      "source": [
        "x = 1.10\n",
        "y = 1.0\n",
        "z = -35.59\n",
        "\n",
        "print(type(x))\n",
        "print(type(y))\n",
        "print(type(z))"
      ],
      "metadata": {
        "id": "D0Pwwghp5zaz"
      },
      "execution_count": null,
      "outputs": []
    },
    {
      "cell_type": "code",
      "source": [
        "x = 35e3\n",
        "y = 12E4\n",
        "z = -87.7e100\n",
        "\n",
        "print(type(x))\n",
        "print(type(y))\n",
        "print(type(z))"
      ],
      "metadata": {
        "id": "k5AgPJz_54YT"
      },
      "execution_count": null,
      "outputs": []
    },
    {
      "cell_type": "code",
      "source": [
        "x = 3+5j\n",
        "y = 5\n",
        "z = 5.4\n",
        "\n",
        "print(type(x))\n",
        "print(type(y))\n",
        "print(type(z))"
      ],
      "metadata": {
        "id": "JR6jwZK65_Ad"
      },
      "execution_count": null,
      "outputs": []
    },
    {
      "cell_type": "code",
      "source": [
        "x = 1\n",
        "a = float(x)\n",
        "print(a)\n",
        "print(type(a))"
      ],
      "metadata": {
        "id": "HLsSUT9J6O75"
      },
      "execution_count": null,
      "outputs": []
    },
    {
      "cell_type": "code",
      "source": [
        "y = 2.8\n",
        "b = int(y)\n",
        "print(b)\n",
        "print(type(b))"
      ],
      "metadata": {
        "id": "PG3ZwDLl6RJv"
      },
      "execution_count": null,
      "outputs": []
    },
    {
      "cell_type": "code",
      "source": [
        "z = 1\n",
        "c = float(z)\n",
        "print(type(c))\n",
        "\n",
        "\n",
        "\n"
      ],
      "metadata": {
        "id": "LFFLqt046gzX"
      },
      "execution_count": null,
      "outputs": []
    },
    {
      "cell_type": "code",
      "source": [
        "num1=float(\"enter a number \")\n",
        "print(float(num1))\n",
        "type(num1)\n"
      ],
      "metadata": {
        "id": "iPCPiH0O7S-L"
      },
      "execution_count": null,
      "outputs": []
    },
    {
      "cell_type": "code",
      "source": [
        "i=string(\"enter your name\")\n",
        "print(float(i))\n",
        "type(i)"
      ],
      "metadata": {
        "id": "VhN8yIt4802Y"
      },
      "execution_count": null,
      "outputs": []
    },
    {
      "cell_type": "code",
      "source": [
        "u=88\n",
        "d=float(u)\n",
        "print(d)\n",
        "type(d)"
      ],
      "metadata": {
        "id": "4W-mGViR9OCU"
      },
      "execution_count": null,
      "outputs": []
    },
    {
      "cell_type": "code",
      "source": [
        "u=int(\"enter your age\")\n",
        "print(float(u))\n",
        "type(u)"
      ],
      "metadata": {
        "id": "-tZ7GqWPA4bA"
      },
      "execution_count": null,
      "outputs": []
    },
    {
      "cell_type": "code",
      "source": [
        "e=88\n",
        "i=0.33\n",
        "print(type(e))\n",
        "print(float(e))"
      ],
      "metadata": {
        "id": "ocJhSGfvBZNw"
      },
      "execution_count": null,
      "outputs": []
    },
    {
      "cell_type": "code",
      "source": [
        "y=int(\"enter your age\")\n",
        "print(float(y))\n",
        "type(y)"
      ],
      "metadata": {
        "id": "OyeERGjRDCBb"
      },
      "execution_count": null,
      "outputs": []
    },
    {
      "cell_type": "code",
      "source": [
        "a=int(\"enter your height\")\n",
        "print(string(a))\n",
        "type(a)"
      ],
      "metadata": {
        "id": "Z7mIAGx9DUtq"
      },
      "execution_count": null,
      "outputs": []
    },
    {
      "cell_type": "code",
      "source": [
        "b=float(\"enter your weight\")\n",
        "print(int(b))\n",
        "type(b)"
      ],
      "metadata": {
        "id": "k6SpQkvIDcEH"
      },
      "execution_count": null,
      "outputs": []
    },
    {
      "cell_type": "code",
      "source": [
        "c=int(\"enter your dish\")\n",
        "print(float(c))\n",
        "type(c)"
      ],
      "metadata": {
        "id": "eF_J65nSDify"
      },
      "execution_count": null,
      "outputs": []
    },
    {
      "cell_type": "code",
      "source": [
        "t=float(\"enter a number\")\n",
        "print(int(t))\n",
        "type(t)"
      ],
      "metadata": {
        "id": "LXLerDABDnq4"
      },
      "execution_count": null,
      "outputs": []
    },
    {
      "cell_type": "code",
      "source": [
        "b=string(\"enter your cast\")\n",
        "print(float(b))\n",
        "type(b)"
      ],
      "metadata": {
        "id": "9D7pFQBVDvZb"
      },
      "execution_count": null,
      "outputs": []
    },
    {
      "cell_type": "code",
      "source": [
        "y=0.44\n",
        "print(type(a))\n",
        "print(int(y))"
      ],
      "metadata": {
        "id": "y437WfkxEilx"
      },
      "execution_count": null,
      "outputs": []
    },
    {
      "cell_type": "code",
      "source": [
        "t=int(\"enter your age\")\n",
        "print(float(t))\n",
        "type(t)"
      ],
      "metadata": {
        "id": "wKRaasOsFGdi"
      },
      "execution_count": null,
      "outputs": []
    },
    {
      "cell_type": "code",
      "source": [
        "b=int(\"enter your age\")\n",
        "print(string(b))\n",
        "type(b)"
      ],
      "metadata": {
        "id": "XqJl7rICFZNg"
      },
      "execution_count": null,
      "outputs": []
    },
    {
      "cell_type": "code",
      "source": [
        "u=bool(\"enter your age\")\n",
        "print(float(u))\n",
        "type(u)"
      ],
      "metadata": {
        "id": "JJxe2PuXF4RK"
      },
      "execution_count": null,
      "outputs": []
    },
    {
      "cell_type": "code",
      "source": [
        "num1=int(input(\"enter first number\"))\n",
        "num2=int(input(\"enter second number\"))\n",
        "\n",
        "print(string(num1))"
      ],
      "metadata": {
        "id": "degqs2LVF_oe"
      },
      "execution_count": null,
      "outputs": []
    },
    {
      "cell_type": "code",
      "source": [
        "t=int(\"enter your color\")\n",
        "print(float(t))\n",
        "type(t)"
      ],
      "metadata": {
        "id": "xmHbvC1SGWtE"
      },
      "execution_count": null,
      "outputs": []
    },
    {
      "cell_type": "code",
      "source": [
        "y=int(\"enter your name of a city \")\n",
        "print(int(y))\n",
        "type(y)"
      ],
      "metadata": {
        "id": "rvICpm0lGn8E"
      },
      "execution_count": null,
      "outputs": []
    },
    {
      "cell_type": "code",
      "source": [
        "w=float(\"enter your age\")\n",
        "print(int(w))\n",
        "type(w)"
      ],
      "metadata": {
        "id": "duUSenoPGxzO"
      },
      "execution_count": null,
      "outputs": []
    },
    {
      "cell_type": "code",
      "source": [
        "s=bool(\"enter your age\")\n",
        "print(float(s))\n",
        "type(s)"
      ],
      "metadata": {
        "id": "YQ1amU52G9jU"
      },
      "execution_count": null,
      "outputs": []
    },
    {
      "cell_type": "code",
      "source": [
        "f=float(\"enter your detils\")\n",
        "print(int(f))\n",
        "type(f)\n"
      ],
      "metadata": {
        "id": "b7tWMxdNHBNt"
      },
      "execution_count": null,
      "outputs": []
    }
  ]
}