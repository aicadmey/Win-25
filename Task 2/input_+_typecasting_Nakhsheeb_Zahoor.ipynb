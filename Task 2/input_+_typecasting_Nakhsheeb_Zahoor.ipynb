{
  "nbformat": 4,
  "nbformat_minor": 0,
  "metadata": {
    "colab": {
      "provenance": []
    },
    "kernelspec": {
      "name": "python3",
      "display_name": "Python 3"
    },
    "language_info": {
      "name": "python"
    }
  },
  "cells": [
    {
      "cell_type": "code",
      "execution_count": null,
      "metadata": {
        "colab": {
          "base_uri": "https://localhost:8080/"
        },
        "id": "GHI7Rpp5SElO",
        "outputId": "8ae22c1f-295d-46f1-a50f-f180783554c8"
      },
      "outputs": [
        {
          "output_type": "stream",
          "name": "stdout",
          "text": [
            "Enter first number: 12\n",
            "Enter second number: 15\n",
            "27.0\n"
          ]
        }
      ],
      "source": [
        "\n",
        "num1=input('Enter first number: ')\n",
        "num2=input('Enter second number: ')\n",
        "# type casting\n",
        "sum=float(num1)+float(num2)\n",
        "print (sum)\n",
        "\n",
        "\n",
        "\n"
      ]
    },
    {
      "cell_type": "code",
      "source": [
        "total_marks=input(\"Enter total marks: \")\n",
        "obtained_marks=input(\"Enter obtained marks: \")\n",
        "#type casting\n",
        "difference= int(obtained_marks)-int(total_marks)\n",
        "print(difference)"
      ],
      "metadata": {
        "colab": {
          "base_uri": "https://localhost:8080/"
        },
        "id": "-nMHMeUAvO9X",
        "outputId": "912ab7b5-4258-48e9-c6a4-36b68a0b6298"
      },
      "execution_count": null,
      "outputs": [
        {
          "output_type": "stream",
          "name": "stdout",
          "text": [
            "Enter total marks: 500\n",
            "Enter obtained marks: 450\n",
            "-50\n"
          ]
        }
      ]
    },
    {
      "cell_type": "code",
      "source": [
        "total_cars=input(\"Enter total cars: \")\n",
        "used_cars=input(\"Enter used cars: \")\n",
        "#type casting\n",
        "difference= float(total_cars)-float(used_cars)\n",
        "print(difference)"
      ],
      "metadata": {
        "colab": {
          "base_uri": "https://localhost:8080/"
        },
        "id": "iJRs0wZxwCmW",
        "outputId": "4ed8a33c-e061-4cb9-bb0f-55d0dc0cb40a"
      },
      "execution_count": null,
      "outputs": [
        {
          "output_type": "stream",
          "name": "stdout",
          "text": [
            "Enter total cars: 1000\n",
            "Enter used cars: 90\n",
            "910.0\n"
          ]
        }
      ]
    },
    {
      "cell_type": "code",
      "source": [
        "milk=input(\"liters of milk\")\n",
        "banana=input(\"kg of banana\")\n",
        "#type casting\n",
        "addition= int(milk)+int(banana)\n",
        "print(addition)"
      ],
      "metadata": {
        "colab": {
          "base_uri": "https://localhost:8080/"
        },
        "id": "6lPN3jwow18E",
        "outputId": "ed590a17-1950-4ff8-f798-56bf21f03dbb"
      },
      "execution_count": null,
      "outputs": [
        {
          "output_type": "stream",
          "name": "stdout",
          "text": [
            "liters of milk8\n",
            "kg of banana1\n",
            "9\n"
          ]
        }
      ]
    },
    {
      "cell_type": "code",
      "source": [
        "mobile_total_battery=input(\"total battery of mobile\")\n",
        "mobile_used_battery=input(\"used battery of mobile\")\n",
        "#type casting\n",
        "difference= float(mobile_total_battery)-float(mobile_used_battery)\n",
        "print(difference)"
      ],
      "metadata": {
        "colab": {
          "base_uri": "https://localhost:8080/"
        },
        "id": "jDAW1atmx9Db",
        "outputId": "a0053ec9-c6e6-4c4a-8900-b8ead5649231"
      },
      "execution_count": null,
      "outputs": [
        {
          "output_type": "stream",
          "name": "stdout",
          "text": [
            "total battery of mobile100\n",
            "used battery of mobile68\n",
            "32.0\n"
          ]
        }
      ]
    },
    {
      "cell_type": "code",
      "source": [
        "marks_all_subjects=input(\"Enter marks\")\n",
        "marks_obtain_subject=input(\"Enter marks\")\n",
        "#type casting\n",
        "difference= int(marks_all_subjects)-int(marks_obtain_subject)\n",
        "print(difference)"
      ],
      "metadata": {
        "colab": {
          "base_uri": "https://localhost:8080/"
        },
        "id": "cRpMo1pXyVuA",
        "outputId": "acc618ed-b81a-457d-a78a-a6369872594a"
      },
      "execution_count": null,
      "outputs": [
        {
          "output_type": "stream",
          "name": "stdout",
          "text": [
            "Enter marks100\n",
            "Enter marks89\n",
            "11\n"
          ]
        }
      ]
    },
    {
      "cell_type": "code",
      "source": [
        "\n",
        "hours_uni = input(\"Enter hours in uni: \")\n",
        "hours_day = input(\"Enter hours in day: \")\n",
        "\n",
        "# Type casting\n",
        "difference = int(hours_uni) - int(hours_day)\n",
        "print(difference)\n"
      ],
      "metadata": {
        "colab": {
          "base_uri": "https://localhost:8080/"
        },
        "id": "VNJ3I-0z1rV4",
        "outputId": "08901375-7c0c-4adc-e53c-f6e3bf395032"
      },
      "execution_count": null,
      "outputs": [
        {
          "output_type": "stream",
          "name": "stdout",
          "text": [
            "Enter hours in uni: 3\n",
            "Enter hours in day: 24\n",
            "-21\n"
          ]
        }
      ]
    },
    {
      "cell_type": "code",
      "source": [
        "full_charging=input(\"Enter full charging\")\n",
        "used_charging=input(\"Enter used charging\")\n",
        "#type casting\n",
        "difference= float(full_charging)-float(used_charging)\n",
        "print(difference)"
      ],
      "metadata": {
        "colab": {
          "base_uri": "https://localhost:8080/"
        },
        "id": "lwNzSje-3h_5",
        "outputId": "f0930ed2-8e02-471c-d0ac-78bffda0d9d1"
      },
      "execution_count": null,
      "outputs": [
        {
          "output_type": "stream",
          "name": "stdout",
          "text": [
            "Enter full charging100\n",
            "Enter used charging70\n",
            "30.0\n"
          ]
        }
      ]
    },
    {
      "cell_type": "code",
      "source": [
        "\n",
        "total_bottles=input(\"Enter total bottles\")\n",
        "bottles_refrigeretor=input(\"Enter bottles in refrigeretor\")\n",
        "#type casting\n",
        "difference= int(total_bottles)-int(bottles_refrigeretor)\n",
        "print(difference)"
      ],
      "metadata": {
        "colab": {
          "base_uri": "https://localhost:8080/"
        },
        "id": "uMWKpukk4BjN",
        "outputId": "83be2792-f1e5-44c5-aef0-ed142345ce5d"
      },
      "execution_count": null,
      "outputs": [
        {
          "output_type": "stream",
          "name": "stdout",
          "text": [
            "Enter total bottles20\n",
            "Enter bottles in refrigeretor5\n",
            "15\n"
          ]
        }
      ]
    },
    {
      "cell_type": "code",
      "source": [
        "charged_mobile=input(\"Enter charged mobile\")\n",
        "mobile_charging=input(\"Enter  mobile pluged in\")\n",
        "#type casting\n",
        "sum= int(charged_mobile)+int(mobile_charging)\n",
        "print(sum)"
      ],
      "metadata": {
        "colab": {
          "base_uri": "https://localhost:8080/"
        },
        "id": "t7vLfmHR41IN",
        "outputId": "9247e045-2cec-4de5-b57f-667b875095d5"
      },
      "execution_count": null,
      "outputs": [
        {
          "output_type": "stream",
          "name": "stdout",
          "text": [
            "Enter charged mobile6\n",
            "Enter  mobile pluged in2\n",
            "8\n"
          ]
        }
      ]
    },
    {
      "cell_type": "code",
      "source": [
        "normal_people=input(\"Enter normal people\")\n",
        "people_glasses=input(\"Enter people that wear glasses\")\n",
        "#type casting\n",
        "difference= int(normal_people)-int(people_glasses)\n",
        "print(difference)"
      ],
      "metadata": {
        "colab": {
          "base_uri": "https://localhost:8080/"
        },
        "id": "CCBiJH4E5aFn",
        "outputId": "cc00bac0-d9a8-436c-9819-5aa284d0c326"
      },
      "execution_count": null,
      "outputs": [
        {
          "output_type": "stream",
          "name": "stdout",
          "text": [
            "Enter normal people6\n",
            "Enter people that wear glasses2\n",
            "4\n"
          ]
        }
      ]
    },
    {
      "cell_type": "code",
      "source": [
        "bread_pack=input(\"Enter breads in a pack\")\n",
        "bread_eaten=input(\"Enter bread that are eaten\")\n",
        "#type casting\n",
        "difference= float(bread_pack)-float(bread_eaten)\n",
        "print(difference)\n"
      ],
      "metadata": {
        "colab": {
          "base_uri": "https://localhost:8080/"
        },
        "id": "6JI9nK2O58PQ",
        "outputId": "39ef332c-aa66-4eb1-eaee-5133bac936c2"
      },
      "execution_count": null,
      "outputs": [
        {
          "output_type": "stream",
          "name": "stdout",
          "text": [
            "Enter breads in a pack12\n",
            "Enter bread that are eaten7\n",
            "5.0\n"
          ]
        }
      ]
    },
    {
      "cell_type": "code",
      "source": [
        "glass_with_water=input(\"Enter glasses with water\")\n",
        "glass_without_water=input(\"Enter glasses without water\")\n",
        "#type casting\n",
        "difference= int(glass_with_water)-int(glass_without_water)\n",
        "print(difference)"
      ],
      "metadata": {
        "colab": {
          "base_uri": "https://localhost:8080/"
        },
        "id": "Ym6KwmlD6Um5",
        "outputId": "93a1a486-fa82-481b-c6aa-a7502bc215db"
      },
      "execution_count": null,
      "outputs": [
        {
          "output_type": "stream",
          "name": "stdout",
          "text": [
            "Enter glasses with water5\n",
            "Enter glasses without water3\n",
            "2\n"
          ]
        }
      ]
    },
    {
      "cell_type": "code",
      "source": [
        "plates_cubboard=input(\"Enter plates in a cubbard\")\n",
        "plates_used_eaten=input(\"Enter plates that are used  eating\")\n",
        "#type casting\n",
        "sum= int(plates_cubboard)+int(plates_used_eaten)\n",
        "print(sum)"
      ],
      "metadata": {
        "colab": {
          "base_uri": "https://localhost:8080/"
        },
        "id": "9bzA1I8x7A2O",
        "outputId": "4cdfef1d-272b-485f-b2f7-74c0a3ed629c"
      },
      "execution_count": null,
      "outputs": [
        {
          "output_type": "stream",
          "name": "stdout",
          "text": [
            "Enter plates in a cubbard50\n",
            "Enter plates that are used  eating12\n",
            "62\n"
          ]
        }
      ]
    },
    {
      "cell_type": "code",
      "source": [
        "siblings=input(\"Enter siblings\")\n",
        "parents=input(\"Enter parents\")\n",
        "#type casting\n",
        "sum= int(siblings)+int(parents)\n",
        "print(sum)"
      ],
      "metadata": {
        "colab": {
          "base_uri": "https://localhost:8080/"
        },
        "id": "VCGFma0h7uom",
        "outputId": "63105433-adec-469b-82c6-86272898c631"
      },
      "execution_count": null,
      "outputs": [
        {
          "output_type": "stream",
          "name": "stdout",
          "text": [
            "Enter siblings4\n",
            "Enter parents2\n",
            "6\n"
          ]
        }
      ]
    },
    {
      "cell_type": "code",
      "source": [
        "male_family_members=input(\"Enter male family members\")\n",
        "female_family_members=input(\"Enter female family members\")\n",
        "#type casting\n",
        "sum= int(male_family_members)+int(female_family_members)\n",
        "print(sum)\n"
      ],
      "metadata": {
        "colab": {
          "base_uri": "https://localhost:8080/"
        },
        "id": "2t1A9mBw8P3g",
        "outputId": "7fb020b6-c61a-4322-c152-3dc193149a25"
      },
      "execution_count": null,
      "outputs": [
        {
          "output_type": "stream",
          "name": "stdout",
          "text": [
            "Enter male family members1\n",
            "Enter female family members5\n",
            "6\n"
          ]
        }
      ]
    },
    {
      "cell_type": "code",
      "source": [
        "closed_doors=input(\"Enter closed doors\")\n",
        "opened_doors=input(\"Enter opened doors\")\n",
        "#type casting\n",
        "sum= int(closed_doors)+int(opened_doors)\n",
        "print(sum)\n"
      ],
      "metadata": {
        "colab": {
          "base_uri": "https://localhost:8080/"
        },
        "id": "GJEBYI0J8bwv",
        "outputId": "e5c2e715-eb97-4ef9-9907-42dd92f62212"
      },
      "execution_count": null,
      "outputs": [
        {
          "output_type": "stream",
          "name": "stdout",
          "text": [
            "Enter closed doors5\n",
            "Enter opened doors2\n",
            "7\n"
          ]
        }
      ]
    },
    {
      "cell_type": "code",
      "source": [
        "total_teachers=input(\"Enter total teachers\")\n",
        "teachers_teaching=input(\"Enter teachers who teach\")\n",
        "#type casting\n",
        "difference= int(total_teachers)-int(teachers_teaching)\n",
        "print(difference)\n"
      ],
      "metadata": {
        "colab": {
          "base_uri": "https://localhost:8080/"
        },
        "id": "KMjeJ3F38x57",
        "outputId": "cf6da6af-e327-4fe2-e01b-664861e7b088"
      },
      "execution_count": null,
      "outputs": [
        {
          "output_type": "stream",
          "name": "stdout",
          "text": [
            "Enter total teachers30\n",
            "Enter teachers who teach18\n",
            "12\n"
          ]
        }
      ]
    },
    {
      "cell_type": "code",
      "source": [
        "student_total=input(\"Enter total students \")\n",
        "student_absent=input(\"Enter student absent\")\n",
        "#type casting\n",
        "difference= float(student_total)-float(student_absent)\n",
        "print(difference)"
      ],
      "metadata": {
        "colab": {
          "base_uri": "https://localhost:8080/"
        },
        "id": "JDYYS2_q9H2w",
        "outputId": "07543d7b-37ef-4cc1-b031-920607de516d"
      },
      "execution_count": null,
      "outputs": [
        {
          "output_type": "stream",
          "name": "stdout",
          "text": [
            "Enter total students 55\n",
            "Enter student absent12\n",
            "43.0\n"
          ]
        }
      ]
    },
    {
      "cell_type": "code",
      "source": [
        "tables_reserved=input(\"Enter tables that are reserved\")\n",
        "tables_free=input(\"Enter tables that are free\")\n",
        "#type casting\n",
        "sum= int(tables_reserved)+int(tables_free)\n",
        "print(sum)"
      ],
      "metadata": {
        "colab": {
          "base_uri": "https://localhost:8080/"
        },
        "id": "VkwvCWmd98JV",
        "outputId": "fbcff93d-61a4-48b2-e85a-4c18b36b367a"
      },
      "execution_count": null,
      "outputs": [
        {
          "output_type": "stream",
          "name": "stdout",
          "text": [
            "Enter tables that are reserved8\n",
            "Enter tables that are free10\n",
            "18\n"
          ]
        }
      ]
    },
    {
      "cell_type": "code",
      "source": [
        "phone_in_store=input(\"Enter phones in store\")\n",
        "phone_sold=input(\"Enter phones sold\")\n",
        "#type casting\n",
        "difference= float(phone_in_store)-float(phone_sold)\n",
        "print(difference)"
      ],
      "metadata": {
        "colab": {
          "base_uri": "https://localhost:8080/"
        },
        "id": "jOoJAOHE91sh",
        "outputId": "7a92a3c7-d4f9-4ef7-87b3-4375bd75cca0"
      },
      "execution_count": null,
      "outputs": [
        {
          "output_type": "stream",
          "name": "stdout",
          "text": [
            "Enter phones in store15\n",
            "Enter phones sold5\n",
            "10.0\n"
          ]
        }
      ]
    },
    {
      "cell_type": "code",
      "source": [
        "used_pencils=input(\"Enter used pencils\")\n",
        "total_pencils=input(\"Enter total pencils\")\n",
        "#type casting\n",
        "difference= int(used_pencils)-int(total_pencils)\n",
        "print(difference)"
      ],
      "metadata": {
        "colab": {
          "base_uri": "https://localhost:8080/"
        },
        "id": "Q4byf7KC_BRD",
        "outputId": "a32d7f41-6099-4dee-83ec-6def0d5d749b"
      },
      "execution_count": null,
      "outputs": [
        {
          "output_type": "stream",
          "name": "stdout",
          "text": [
            "Enter used pencils25\n",
            "Enter total pencils5\n",
            "20\n"
          ]
        }
      ]
    },
    {
      "cell_type": "code",
      "source": [
        "members_talking=input(\"Enter members talking\")\n",
        "members_listening=input(\"Enter members listening\")\n",
        "#type casting\n",
        "sum= int(members_talking)+int(members_listening)\n",
        "print(sum)"
      ],
      "metadata": {
        "colab": {
          "base_uri": "https://localhost:8080/"
        },
        "id": "OXkULf3Q_dI0",
        "outputId": "e276e280-716e-4f78-9739-273ea6ca9c81"
      },
      "execution_count": null,
      "outputs": [
        {
          "output_type": "stream",
          "name": "stdout",
          "text": [
            "Enter members talking2\n",
            "Enter members listening3\n",
            "5\n"
          ]
        }
      ]
    },
    {
      "cell_type": "code",
      "source": [
        "people_city=input(\"Enter people in city\")\n",
        "people_village=input(\"Enter people in village\")\n",
        "#type casting\n",
        "sum= int(people_city)+int(people_village)\n",
        "print(sum)"
      ],
      "metadata": {
        "colab": {
          "base_uri": "https://localhost:8080/"
        },
        "id": "R_fPEGB6_6JK",
        "outputId": "2978bf78-e704-434d-fde3-fbf17bf13c39"
      },
      "execution_count": null,
      "outputs": [
        {
          "output_type": "stream",
          "name": "stdout",
          "text": [
            "Enter people in city22000\n",
            "Enter people in village6000\n",
            "28000\n"
          ]
        }
      ]
    },
    {
      "cell_type": "code",
      "source": [
        "healthy_people=input(\"Enter healthy people\")\n",
        "sick_people=input(\"Enter sick people\")\n",
        "#type casting\n",
        "difference= int(healthy_people)-int(sick_people)\n",
        "print(difference)\n"
      ],
      "metadata": {
        "colab": {
          "base_uri": "https://localhost:8080/"
        },
        "id": "EUPDFUzCAvXA",
        "outputId": "a87d30f2-4a7d-41f7-eef6-3114a261719c"
      },
      "execution_count": null,
      "outputs": [
        {
          "output_type": "stream",
          "name": "stdout",
          "text": [
            "Enter healthy people10\n",
            "Enter sick people4\n",
            "6\n"
          ]
        }
      ]
    },
    {
      "cell_type": "code",
      "source": [
        "educated_people=input(\"Enter educated people\")\n",
        "uneducated_people=input(\"Enter uneducated people\")\n",
        "#type casting\n",
        "sum= float(educated_people)+float(uneducated_people)\n",
        "print(sum)\n"
      ],
      "metadata": {
        "colab": {
          "base_uri": "https://localhost:8080/"
        },
        "id": "NCmIojGpBRcy",
        "outputId": "06e76297-f1b6-4e2f-bda0-fc68b4e297f1"
      },
      "execution_count": null,
      "outputs": [
        {
          "output_type": "stream",
          "name": "stdout",
          "text": [
            "Enter educated people1000\n",
            "Enter uneducated people89\n",
            "1089.0\n"
          ]
        }
      ]
    },
    {
      "cell_type": "code",
      "source": [
        "class_mates=input(\"Enter class mates\")\n",
        "friends=input(\"Enter friends\")\n",
        "#type casting\n",
        "difference= int(class_mates)-int(friends)\n",
        "print(difference)"
      ],
      "metadata": {
        "colab": {
          "base_uri": "https://localhost:8080/"
        },
        "id": "xDwZy_yLBhnp",
        "outputId": "b5bc0889-bff9-4af9-a2c1-50474fda41c0"
      },
      "execution_count": null,
      "outputs": [
        {
          "output_type": "stream",
          "name": "stdout",
          "text": [
            "Enter class mates55\n",
            "Enter friends4\n",
            "51\n"
          ]
        }
      ]
    },
    {
      "cell_type": "code",
      "source": [
        "in_stock=input(\"Enter in stock\")\n",
        "sold=input(\"Enter sold\")\n",
        "#type casting\n",
        "difference= int(in_stock)-int(sold)\n",
        "print(difference)"
      ],
      "metadata": {
        "colab": {
          "base_uri": "https://localhost:8080/"
        },
        "id": "rDzCWtNKB8xF",
        "outputId": "4f5fee29-65c7-40fe-cd6d-ce5880d01f61"
      },
      "execution_count": null,
      "outputs": [
        {
          "output_type": "stream",
          "name": "stdout",
          "text": [
            "Enter in stock500\n",
            "Enter sold200\n",
            "300\n"
          ]
        }
      ]
    },
    {
      "cell_type": "code",
      "source": [
        "books_read=input(\"Enter books read\")\n",
        "books_unread=input(\"Enter books un read\")\n",
        "#type casting\n",
        "difference= float(books_read)-float(books_unread)\n",
        "print(difference)"
      ],
      "metadata": {
        "colab": {
          "base_uri": "https://localhost:8080/"
        },
        "id": "2ET1HMk6CWku",
        "outputId": "924a909c-a2ca-4280-8042-b0786da75663"
      },
      "execution_count": null,
      "outputs": [
        {
          "output_type": "stream",
          "name": "stdout",
          "text": [
            "Enter books read20\n",
            "Enter books un read8\n",
            "12.0\n"
          ]
        }
      ]
    },
    {
      "cell_type": "code",
      "source": [
        "kids_playing=input(\"Enter kids playing\")\n",
        "kids_not_playing=input(\"Enter kids not playing\")\n",
        "#type casting\n",
        "sum= float(kids_playing)+float(kids_not_playing)\n",
        "print(sum)"
      ],
      "metadata": {
        "id": "BsPM28vUC0wh",
        "colab": {
          "base_uri": "https://localhost:8080/"
        },
        "outputId": "dcc7a1b8-a85d-4ef7-b2e7-32fe9a5840f0"
      },
      "execution_count": null,
      "outputs": [
        {
          "output_type": "stream",
          "name": "stdout",
          "text": [
            "Enter kids playing100\n",
            "Enter kids not playing50\n",
            "150.0\n"
          ]
        }
      ]
    }
  ]
}