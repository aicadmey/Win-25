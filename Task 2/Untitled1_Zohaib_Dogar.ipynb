{
  "nbformat": 4,
  "nbformat_minor": 0,
  "metadata": {
    "colab": {
      "provenance": []
    },
    "kernelspec": {
      "name": "python3",
      "display_name": "Python 3"
    },
    "language_info": {
      "name": "python"
    }
  },
  "cells": [
    {
      "cell_type": "code",
      "source": [
        "#20 integers variables\n",
        "num=1\n",
        "num1=2\n",
        "num2=3\n",
        "num3=4\n",
        "num4=51\n",
        "num5=6\n",
        "num6=73\n",
        "num7=83\n",
        "num8=91\n",
        "num9=10\n",
        "num10=11\n",
        "num11=243\n",
        "num12=334\n",
        "num13=433\n",
        "num14=679\n",
        "num15=980\n",
        "num16=897\n",
        "num17=43\n",
        "num18=32\n",
        "num19=54\n",
        "\n",
        "print(num,num1,num2,num3,num4,num5,num6,num7,num8,num9,num10,num11,num12,num13,num14,num15,num16,num17,num18,num19)"
      ],
      "metadata": {
        "colab": {
          "base_uri": "https://localhost:8080/"
        },
        "id": "QjUDZ_qCthvD",
        "outputId": "6969c78c-872f-487c-89b5-8727b0551e54"
      },
      "execution_count": null,
      "outputs": [
        {
          "output_type": "stream",
          "name": "stdout",
          "text": [
            "1 2 3 4 51 6 73 83 91 10 11 243 334 433 679 980 897 43 32 54\n"
          ]
        }
      ]
    },
    {
      "cell_type": "code",
      "execution_count": null,
      "metadata": {
        "colab": {
          "base_uri": "https://localhost:8080/"
        },
        "id": "oECe4XWwsoFD",
        "outputId": "e05548c2-ffc7-4735-abd1-361a80d5fd68"
      },
      "outputs": [
        {
          "output_type": "stream",
          "name": "stdout",
          "text": [
            "4.1 4.2 4.3 4.4 4.5 4.6 4.7 4.8 4.9 5.0 5.1 5.2 5.3 5.4 5.5 5.6 5.7 5.8 5.9 6.0\n"
          ]
        }
      ],
      "source": [
        "#20 float variables\n",
        "fl1=4.1\n",
        "fl2=4.2\n",
        "fl3=4.3\n",
        "fl4=4.4\n",
        "fl5=4.5\n",
        "fl6=4.6\n",
        "fl7=4.7\n",
        "fl8=4.8\n",
        "fl9=4.9\n",
        "fl10=5.0\n",
        "fl11=5.1\n",
        "fl12=5.2\n",
        "fl13=5.3\n",
        "fl14=5.4\n",
        "fl15=5.5\n",
        "fl16=5.6\n",
        "fl17=5.7\n",
        "fl18=5.8\n",
        "fl19=5.9\n",
        "fl20=6.0\n",
        "print(fl1,fl2,fl3,fl4,fl5,fl6,fl7,fl8,fl9,fl10,fl11,fl12,fl13,fl14,fl15,fl16,fl17,fl18,fl19,fl20)"
      ]
    },
    {
      "cell_type": "code",
      "source": [
        "from re import T\n",
        "#20 boolean data types\n",
        "#personal info\n",
        "muslim=True\n",
        "pakistani=True\n",
        "villager=True\n",
        "bahawalpuri=False\n",
        "saraiki=False\n",
        "punjabi=True\n",
        "#fields of interest\n",
        "space=False\n",
        "time=False\n",
        "robotics=True\n",
        "computervision=False\n",
        "hacking=True\n",
        "cricket=True\n",
        "gaming=False\n",
        "tiktok=True\n",
        "#skills\n",
        "programming=False\n",
        "management=True\n",
        "problemsolving=True\n",
        "cooking=False\n",
        "sports=True\n",
        "farming=True\n",
        "print(muslim,pakistani,villager,bahawalpuri,saraiki,punjabi,space,time,computervision,robotics,hacking,cricket,gaming,tiktok,programming,management,problemsolving,cooking,sports,farming)\n",
        "\n",
        "\n"
      ],
      "metadata": {
        "colab": {
          "base_uri": "https://localhost:8080/"
        },
        "id": "v6api3zu3K7u",
        "outputId": "d4fd2318-a828-41cb-e90a-77bbcaca50ca"
      },
      "execution_count": null,
      "outputs": [
        {
          "output_type": "stream",
          "name": "stdout",
          "text": [
            "True True True False False True False False False True True True False True False True True False True True\n"
          ]
        }
      ]
    },
    {
      "cell_type": "code",
      "source": [
        "#20 strings\n",
        "name=\"zohaib\"\n",
        "cast=\"dogar\"\n",
        "age=\"20\"\n",
        "religion=\"islam\"\n",
        "language=\"punjabi\"\n",
        "city=\"raja ram\"\n",
        "residence=\"village\"\n",
        "uni=\"iub\"\n",
        "depart=\"AI\"\n",
        "faculty=\"Computing \"\n",
        "sem=\"5th 1m\"\n",
        "rollno=\"022\"\n",
        "cgpa=\"3.52\"\n",
        "course=\"AI CADMEY\"\n",
        "batch=\"Winter 2025\"\n",
        "rn=\"25\"\n",
        "hstl=\"commercial area\"\n",
        "sports=\"cricket\"\n",
        "batsman=\"Babar AzaM\"\n",
        "footballer=\"Ronaldo\"\n",
        "print(name,cast,age,religion,language,city,residence,uni,depart,faculty,sem,rollno,cgpa,course,batch,rn,hstl,sports,batsman,footballer)\n"
      ],
      "metadata": {
        "colab": {
          "base_uri": "https://localhost:8080/"
        },
        "id": "b_aHj5sG6XiC",
        "outputId": "3b39d58e-0654-42db-ada5-fea6e3756713"
      },
      "execution_count": null,
      "outputs": [
        {
          "output_type": "stream",
          "name": "stdout",
          "text": [
            "zohaib dogar 20 islam punjabi raja ram village iub AI Computing  5th 1m 022 3.52 AI CADMEY Winter 2025 25 commercial area cricket Babar AzaM Ronaldo\n"
          ]
        }
      ]
    }
  ]
}