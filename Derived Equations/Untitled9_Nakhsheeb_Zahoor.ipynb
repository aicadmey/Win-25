{
  "nbformat": 4,
  "nbformat_minor": 0,
  "metadata": {
    "colab": {
      "provenance": []
    },
    "kernelspec": {
      "name": "python3",
      "display_name": "Python 3"
    },
    "language_info": {
      "name": "python"
    }
  },
  "cells": [
    {
      "cell_type": "code",
      "execution_count": null,
      "metadata": {
        "colab": {
          "base_uri": "https://localhost:8080/"
        },
        "id": "lp07rEoBnjA0",
        "outputId": "ef21ccbd-a70c-4de1-9e39-f75477ecd112"
      },
      "outputs": [
        {
          "output_type": "stream",
          "name": "stdout",
          "text": [
            "20.0\n"
          ]
        }
      ],
      "source": [
        "import math\n",
        "\n",
        "d=100\n",
        "t=5\n",
        "v=d/t\n",
        "print(v)\n",
        "m=50\n",
        "a=8\n",
        "f=m/a\n",
        "f=10\n",
        "p=f/a\n",
        "w=f*d\n",
        "p2=w/t\n",
        "g=9.8\n",
        "h=30\n",
        "p_e =m*g*h\n",
        "r=3\n",
        "i=v/r\n",
        "p3=m*v\n",
        "t=d/v\n",
        "change_in_v=20\n",
        "change_in_t=10\n",
        "a2=change_in_v/change_in_t\n",
        "\n",
        "\n"
      ]
    }
  ]
}