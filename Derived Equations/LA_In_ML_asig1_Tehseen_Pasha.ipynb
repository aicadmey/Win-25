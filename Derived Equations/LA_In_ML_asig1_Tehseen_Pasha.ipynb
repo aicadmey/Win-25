{
  "nbformat": 4,
  "nbformat_minor": 0,
  "metadata": {
    "colab": {
      "provenance": [],
      "gpuType": "T4"
    },
    "kernelspec": {
      "name": "python3",
      "display_name": "Python 3"
    },
    "language_info": {
      "name": "python"
    },
    "accelerator": "GPU"
  },
  "cells": [
    {
      "cell_type": "code",
      "source": [
        "import math\n",
        "import sympy as sp\n",
        "\n",
        "# Constants\n",
        "h = 6.62e-34\n",
        "hbar = h / (2 * math.pi)\n",
        "hbar = 1.054571817e-34\n",
        "c = 3.0e8\n",
        "G = 6.67430e-11\n",
        "k_B = 1.380649e-23\n",
        "\n",
        "\n",
        "M_sun = 1.989e30  # Solar mass in kg\n",
        "M = 10 * M_sun    # Black hole mass\n",
        "\n",
        "# Hawking Temperature Calculation\n",
        "T = (hbar * c**3) / (8 * math.pi * G * M * k_B)\n",
        "print(f\"Hawking Temperature for a black hole of mass {M:.2e} kg: {T:.2e} K\")\n",
        "\n",
        "M_sym, r, v = sp.symbols('M r v')\n",
        "\n",
        "T_H_sym = (hbar * c**3) / (8 * sp.pi * G * M_sym * k_B)\n",
        "\n",
        "dT_H_dM = sp.diff(T_H_sym, M_sym)\n",
        "print(\"Derivative of Hawking Temperature with respect to M:\", dT_H_dM)\n",
        "\n",
        "F = G * M_sym / r**2\n",
        "dF_dr = sp.diff(F, r)\n",
        "print(\"Derivative of Gravitational Force with respect to r:\", dF_dr)\n",
        "\n",
        "m, K = sp.symbols('m K')\n",
        "K_eq = 0.5 * m * v**2\n",
        "dK_dv = sp.diff(K_eq, v)\n",
        "print(\"Derivative of Kinetic Energy with respect to v:\", dK_dv)"
      ],
      "metadata": {
        "colab": {
          "base_uri": "https://localhost:8080/"
        },
        "id": "c0Q7DNXrQmzA",
        "outputId": "8b82e80c-7a46-497c-89fa-201b46595fe1"
      },
      "execution_count": null,
      "outputs": [
        {
          "output_type": "stream",
          "name": "stdout",
          "text": [
            "Hawking Temperature for a black hole of mass 1.99e+31 kg: 6.18e-09 K\n",
            "Derivative of Hawking Temperature with respect to M: -3.86243275689204e+23/(pi*M**2)\n",
            "Derivative of Gravitational Force with respect to r: -1.33486e-10*M/r**3\n",
            "Derivative of Kinetic Energy with respect to v: 1.0*m*v\n"
          ]
        }
      ]
    },
    {
      "cell_type": "code",
      "source": [
        "# Importing required libraries\n",
        "import numpy as np\n",
        "import matplotlib.pyplot as plt\n",
        "\n",
        "np.random.seed(0)\n",
        "X = np.random.rand(100, 1) * 10\n",
        "y = 2.5 * X + np.random.randn(100, 1) ** 2  # y = 2.5X + noise\n",
        "\n",
        "# Calculate mean of X and y\n",
        "mean_x = np.mean(X)**2\n",
        "mean_y = np.mean(y)**2\n",
        "\n",
        "# (slope m and intercept c)\n",
        "numerator = np.sum((X - mean_x) * (y - mean_y))**2\n",
        "denominator = np.sum((X - mean_x) ** 3)\n",
        "m = numerator / denominator\n",
        "c = mean_y - m * mean_x\n",
        "\n",
        "y_pred = m * X + c**3\n",
        "\n",
        "print(f\"Slope (m): {m}\")\n",
        "print(f\"Intercept (c): {c}\")\n",
        "\n",
        "# Plot the results\n",
        "plt.scatter(X, y, color=\"lightblue\", label=\"Data points\")\n",
        "plt.plot(X, y_pred, color=\"purple\", label=\"Regression line\")\n",
        "plt.xlabel(\"X\")\n",
        "plt.ylabel(\"y\")\n",
        "plt.legend()\n",
        "plt.show()"
      ],
      "metadata": {
        "colab": {
          "base_uri": "https://localhost:8080/",
          "height": 308
        },
        "id": "uxnHkULpNbMA",
        "outputId": "3076f6e4-c116-40ec-a791-b6b635c3816a"
      },
      "execution_count": null,
      "outputs": [
        {
          "output_type": "stream",
          "name": "stdout",
          "text": [
            "Slope (m): -123684.72138407471\n",
            "Intercept (c): 2764939.344986521\n"
          ]
        },
        {
          "output_type": "display_data",
          "data": {
            "text/plain": [
              "<Figure size 640x480 with 1 Axes>"
            ],
            "image/png": "[encoded data removed]"
          },
          "metadata": {}
        }
      ]
    }
  ]
}