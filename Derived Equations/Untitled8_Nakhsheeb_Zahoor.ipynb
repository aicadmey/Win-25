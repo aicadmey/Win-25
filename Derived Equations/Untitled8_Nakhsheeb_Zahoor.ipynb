{
  "nbformat": 4,
  "nbformat_minor": 0,
  "metadata": {
    "colab": {
      "provenance": []
    },
    "kernelspec": {
      "name": "python3",
      "display_name": "Python 3"
    },
    "language_info": {
      "name": "python"
    }
  },
  "cells": [
    {
      "cell_type": "code",
      "source": [
        "\n",
        "energy = 1000\n",
        "time = 10\n",
        "power = (energy / time)\n",
        "\n",
        "print(f\"Energy: {energy} joules\")\n",
        "\n",
        "\n"
      ],
      "metadata": {
        "colab": {
          "base_uri": "https://localhost:8080/"
        },
        "id": "T0dUNw8PiQrU",
        "outputId": "817c1ece-14dc-4c97-b4bd-00818d423779"
      },
      "execution_count": null,
      "outputs": [
        {
          "output_type": "stream",
          "name": "stdout",
          "text": [
            "Energy: 1000 joules\n"
          ]
        }
      ]
    },
    {
      "cell_type": "code",
      "source": [
        "energy = 900\n",
        "mass= 5\n",
        "power = (energy / mass)\n",
        "\n",
        "print(f\"Energy: {energy} joules\")\n",
        "\n"
      ],
      "metadata": {
        "colab": {
          "base_uri": "https://localhost:8080/"
        },
        "id": "lCYcrkvmkTMq",
        "outputId": "6439648c-1c46-4522-e805-483c41141697"
      },
      "execution_count": null,
      "outputs": [
        {
          "output_type": "stream",
          "name": "stdout",
          "text": [
            "Energy: 900 joules\n"
          ]
        }
      ]
    },
    {
      "cell_type": "code",
      "source": [
        "energy = 200\n",
        "mass = 2\n",
        "power = (energy / mass)\n",
        "\n",
        "print(f\"Power: {power} watts\")\n"
      ],
      "metadata": {
        "colab": {
          "base_uri": "https://localhost:8080/"
        },
        "id": "owOjTVJ_kXpl",
        "outputId": "67e55155-bf35-4dc5-9b5d-4e4eb86419b4"
      },
      "execution_count": null,
      "outputs": [
        {
          "output_type": "stream",
          "name": "stdout",
          "text": [
            "Power: 100.0 watts\n"
          ]
        }
      ]
    },
    {
      "cell_type": "code",
      "source": [
        "mass = 3\n",
        "acceleration = 2\n",
        "power = (mass * acceleration)\n",
        "\n",
        "print(f\"Power: {power} watts\")\n"
      ],
      "metadata": {
        "colab": {
          "base_uri": "https://localhost:8080/"
        },
        "id": "fpIUy7NEkbEE",
        "outputId": "42811e09-b940-4ced-b39a-11b1ad1fb57e"
      },
      "execution_count": null,
      "outputs": [
        {
          "output_type": "stream",
          "name": "stdout",
          "text": [
            "Power: 6 watts\n"
          ]
        }
      ]
    },
    {
      "cell_type": "code",
      "source": [
        "mass = 5  # in\n",
        "acceleration = 2\n",
        "force = mass * acceleration\n",
        "print(f\"Force: {force} newtons\")\n",
        "\n"
      ],
      "metadata": {
        "colab": {
          "base_uri": "https://localhost:8080/"
        },
        "id": "rwFChPtpkeDh",
        "outputId": "39326507-911e-4684-956d-171e690dcaa8"
      },
      "execution_count": null,
      "outputs": [
        {
          "output_type": "stream",
          "name": "stdout",
          "text": [
            "Force: 10 newtons\n"
          ]
        }
      ]
    },
    {
      "cell_type": "code",
      "source": [
        "mass = 4\n",
        "velocity = 3\n",
        "momentum = mass * velocity\n",
        "print(f\"Momentum: {momentum} kg·m/s\")\n"
      ],
      "metadata": {
        "colab": {
          "base_uri": "https://localhost:8080/"
        },
        "id": "0JbbHeqqkgWy",
        "outputId": "51c0fc10-7e77-4fa5-ebd0-f8dbafcfc3c0"
      },
      "execution_count": null,
      "outputs": [
        {
          "output_type": "stream",
          "name": "stdout",
          "text": [
            "Momentum: 12 kg·m/s\n"
          ]
        }
      ]
    },
    {
      "cell_type": "code",
      "source": [
        "mass = 2\n",
        "gravity = 9.8\n",
        "height = 10\n",
        "potential_energy = mass * gravity * height\n",
        "print(f\"Potential Energy: {potential_energy} joules\")\n"
      ],
      "metadata": {
        "colab": {
          "base_uri": "https://localhost:8080/"
        },
        "id": "zIH5v2IVkjzX",
        "outputId": "6bdb8773-d03b-4854-b841-fc23d2d5e6ad"
      },
      "execution_count": null,
      "outputs": [
        {
          "output_type": "stream",
          "name": "stdout",
          "text": [
            "Potential Energy: 196.0 joules\n"
          ]
        }
      ]
    },
    {
      "cell_type": "code",
      "source": [
        "force = 20\n",
        "distance = 5\n",
        "work_done = force * distance\n",
        "print(f\"Work Done: {work_done} joules\")\n"
      ],
      "metadata": {
        "colab": {
          "base_uri": "https://localhost:8080/"
        },
        "id": "1AVmbXlSkmGr",
        "outputId": "c482be40-8c89-49b8-f0cb-b8778c8698e0"
      },
      "execution_count": null,
      "outputs": [
        {
          "output_type": "stream",
          "name": "stdout",
          "text": [
            "Work Done: 100 joules\n"
          ]
        }
      ]
    },
    {
      "cell_type": "code",
      "source": [
        "mass = 1\n",
        "specific_heat_capacity = 4184\n",
        "temperature_change = 25\n",
        "heat_energy = mass * specific_heat_capacity * temperature_change\n",
        "print(f\"Heat Energy: {heat_energy} joules\")\n"
      ],
      "metadata": {
        "colab": {
          "base_uri": "https://localhost:8080/"
        },
        "id": "PE-i8Y7Sko4T",
        "outputId": "be7742a9-1745-4835-e970-b154b34bb3e3"
      },
      "execution_count": null,
      "outputs": [
        {
          "output_type": "stream",
          "name": "stdout",
          "text": [
            "Heat Energy: 104600 joules\n"
          ]
        }
      ]
    },
    {
      "cell_type": "code",
      "source": [
        "charge = 15\n",
        "time = 3\n",
        "electric_current = charge / time\n",
        "print(f\"Electric Current: {electric_current} ampere\")\n"
      ],
      "metadata": {
        "colab": {
          "base_uri": "https://localhost:8080/"
        },
        "id": "IL4EagETkrv7",
        "outputId": "2ca0e1fa-23ef-45fd-d37d-3a21755dc39a"
      },
      "execution_count": null,
      "outputs": [
        {
          "output_type": "stream",
          "name": "stdout",
          "text": [
            "Electric Current: 5.0 ampere\n"
          ]
        }
      ]
    }
  ]
}