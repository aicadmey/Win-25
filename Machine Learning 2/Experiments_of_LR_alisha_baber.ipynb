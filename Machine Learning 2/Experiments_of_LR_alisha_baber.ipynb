{
  "nbformat": 4,
  "nbformat_minor": 0,
  "metadata": {
    "colab": {
      "provenance": []
    },
    "kernelspec": {
      "name": "python3",
      "display_name": "Python 3"
    },
    "language_info": {
      "name": "python"
    }
  },
  "cells": [
    {
      "cell_type": "markdown",
      "source": [
        "# **5 EXPERIMENTS OF LINEAR REGRESSION**"
      ],
      "metadata": {
        "id": "H1f3MSZEJS1B"
      }
    },
    {
      "cell_type": "code",
      "source": [
        "import numpy as np\n",
        "import matplotlib.pyplot as plt\n",
        "from sklearn.linear_model import LinearRegression\n",
        "from sklearn.metrics import mean_squared_error\n",
        "\n",
        "# Function to generate synthetic data\n",
        "def generate_data(size, noise_level, features=1):\n",
        "    np.random.seed(42)  # For reproducibility\n",
        "    X = np.random.rand(size, features) * 10  # Features\n",
        "    true_coefficients = np.random.rand(features) * 10  # Random coefficients\n",
        "    y = X.dot(true_coefficients) + np.random.randn(size) * noise_level  # Add noise\n",
        "    return X, y, true_coefficients\n",
        "\n",
        "# Experiment 1: Vary dataset sizes\n",
        "dataset_sizes = [10, 50, 100, 500, 1000]\n",
        "noise_level = 2\n",
        "features = 1\n",
        "\n",
        "print(\"=== Experiment 1: Effect of Dataset Size ===\")\n",
        "for size in dataset_sizes:\n",
        "    X, y, true_coeffs = generate_data(size, noise_level, features)\n",
        "    model = LinearRegression()\n",
        "    model.fit(X, y)\n",
        "    y_pred = model.predict(X)\n",
        "    mse = mean_squared_error(y, y_pred)\n",
        "    print(f\"Size: {size}, MSE: {mse:.2f}, Coefficients: {model.coef_}, True: {true_coeffs}\")\n",
        "\n",
        "# Experiment 2: Vary noise levels\n",
        "size = 100\n",
        "noise_levels = [0.5, 2, 5, 10]\n",
        "\n",
        "print(\"\\n=== Experiment 2: Effect of Noise ===\")\n",
        "for noise in noise_levels:\n",
        "    X, y, true_coeffs = generate_data(size, noise, features)\n",
        "    model = LinearRegression()\n",
        "    model.fit(X, y)\n",
        "    y_pred = model.predict(X)\n",
        "    mse = mean_squared_error(y, y_pred)\n",
        "    print(f\"Noise: {noise}, MSE: {mse:.2f}, Coefficients: {model.coef_}, True: {true_coeffs}\")\n",
        "\n",
        "# Experiment 3: Multivariate regression\n",
        "features_list = [1, 2, 5, 10]\n",
        "noise_level = 2\n",
        "size = 100\n",
        "\n",
        "print(\"\\n=== Experiment 3: Multivariate Regression ===\")\n",
        "for features in features_list:\n",
        "    X, y, true_coeffs = generate_data(size, noise_level, features)\n",
        "    model = LinearRegression()\n",
        "    model.fit(X, y)\n",
        "    y_pred = model.predict(X)\n",
        "    mse = mean_squared_error(y, y_pred)\n",
        "    print(f\"Features: {features}, MSE: {mse:.2f}, Coefficients: {model.coef_}, True: {true_coeffs}\")"
      ],
      "metadata": {
        "id": "6oT6HLWhJbH-"
      },
      "execution_count": null,
      "outputs": []
    },
    {
      "cell_type": "code",
      "source": [
        "from sklearn.linear_model import Ridge, Lasso\n",
        "\n",
        "# Generate a high-dimensional dataset\n",
        "X, y, true_coeffs = generate_data(size=100, noise_level=2, features=20)\n",
        "\n",
        "# Train Ridge and Lasso models\n",
        "ridge_model = Ridge(alpha=1.0)  # Ridge with L2 regularization\n",
        "lasso_model = Lasso(alpha=0.1)  # Lasso with L1 regularization\n",
        "\n",
        "ridge_model.fit(X, y)\n",
        "lasso_model.fit(X, y)\n",
        "\n",
        "print(\"=== Experiment 4: Regularization ===\")\n",
        "print(f\"True Coefficients: {true_coeffs}\")\n",
        "print(f\"Ridge Coefficients: {ridge_model.coef_}\")\n",
        "print(f\"Lasso Coefficients: {lasso_model.coef_}\")"
      ],
      "metadata": {
        "id": "DFlZU4FpLO1i"
      },
      "execution_count": null,
      "outputs": []
    },
    {
      "cell_type": "code",
      "source": [
        "from sklearn.preprocessing import PolynomialFeatures\n",
        "\n",
        "# Generate a nonlinear dataset\n",
        "np.random.seed(42)\n",
        "X = np.random.rand(100, 1) * 10\n",
        "y = 0.5 * X**2 - 2 * X + 5 + np.random.randn(100, 1) * 2  # Quadratic relationship\n",
        "\n",
        "# Transform input features to include polynomial terms\n",
        "poly = PolynomialFeatures(degree=2)\n",
        "X_poly = poly.fit_transform(X)\n",
        "\n",
        "# Train the model\n",
        "model = LinearRegression()\n",
        "model.fit(X_poly, y)\n",
        "\n",
        "# Predict and plot\n",
        "y_pred = model.predict(X_poly)\n",
        "plt.scatter(X, y, color=\"blue\", label=\"Data\")\n",
        "plt.plot(X, y_pred, color=\"red\", label=\"Polynomial Fit\")\n",
        "plt.xlabel(\"X\")\n",
        "plt.ylabel(\"y\")\n",
        "plt.legend()\n",
        "plt.show()\n",
        "\n",
        "print(\"=== Experiment 5: Polynomial Regression ===\")\n",
        "print(f\"Coefficients: {model.coef_}, Intercept: {model.intercept_}\")"
      ],
      "metadata": {
        "id": "YDQgkuF5LRMm"
      },
      "execution_count": null,
      "outputs": []
    },
    {
      "cell_type": "markdown",
      "source": [
        "# **The End**"
      ],
      "metadata": {
        "id": "KMc8MXwsLegg"
      }
    },
    {
      "cell_type": "code",
      "source": [],
      "metadata": {
        "id": "gcD9p5FVLjUs"
      },
      "execution_count": null,
      "outputs": []
    }
  ]
}