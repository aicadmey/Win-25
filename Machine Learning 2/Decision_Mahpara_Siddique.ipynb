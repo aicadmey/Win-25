{
  "nbformat": 4,
  "nbformat_minor": 0,
  "metadata": {
    "colab": {
      "provenance": []
    },
    "kernelspec": {
      "name": "python3",
      "display_name": "Python 3"
    },
    "language_info": {
      "name": "python"
    }
  },
  "cells": [
    {
      "cell_type": "markdown",
      "source": [
        "Decision tree classifier"
      ],
      "metadata": {
        "id": "sIC6qagsmQX4"
      }
    },
    {
      "cell_type": "markdown",
      "source": [
        "Mathematics into coding"
      ],
      "metadata": {
        "id": "01utEI9dmVEE"
      }
    },
    {
      "cell_type": "code",
      "execution_count": null,
      "metadata": {
        "colab": {
          "base_uri": "https://localhost:8080/"
        },
        "id": "jz4Kr36_j9h_",
        "outputId": "c85a71d7-4db3-488d-bba7-e9169cb8bc76"
      },
      "outputs": [
        {
          "output_type": "stream",
          "name": "stdout",
          "text": [
            "Encoded Dataset:\n",
            "   Feature  Label\n",
            "0        1      0\n",
            "1        1      0\n",
            "2        0      1\n",
            "3        0      1\n",
            "4        1      0\n",
            "Decision Tree: {'index': 0, 'value': 1, 'left': {'index': 0, 'value': 0, 'left': 1, 'right': 1}, 'right': {'index': 0, 'value': 1, 'left': 0, 'right': 0}}\n",
            "Expected=0, Predicted=0\n",
            "Expected=0, Predicted=0\n",
            "Expected=1, Predicted=1\n",
            "Expected=1, Predicted=1\n",
            "Expected=0, Predicted=0\n"
          ]
        }
      ],
      "source": [
        "import numpy as np\n",
        "import pandas as pd\n",
        "\n",
        "#  dataset\n",
        "data = {\n",
        "    \"Feature\": [\"Red\", \"Red\", \"Green\", \"Green\", \"Red\"],\n",
        "    \"Label\": [\"Apple\", \"Apple\", \"Grape\", \"Grape\", \"Apple\"]\n",
        "}\n",
        "df = pd.DataFrame(data)\n",
        "\n",
        "# categorical variables\n",
        "from sklearn.preprocessing import LabelEncoder\n",
        "\n",
        "encoder = LabelEncoder()\n",
        "df[\"Feature\"] = encoder.fit_transform(df[\"Feature\"])  # Encode 'Red' as 0 and 'Green' as 1\n",
        "df[\"Label\"] = encoder.fit_transform(df[\"Label\"])      # Encode 'Apple' as 0 and 'Grape' as 1\n",
        "\n",
        "print(\"Encoded Dataset:\")\n",
        "print(df)\n",
        "\n",
        "# Gini Impurity function\n",
        "def gini_impurity(groups, classes):\n",
        "    # Total number of samples\n",
        "    total_samples = sum([len(group) for group in groups])\n",
        "\n",
        "    # Calculate the Gini impurity for each group\n",
        "    gini = 0.0\n",
        "    for group in groups:\n",
        "        size = len(group)\n",
        "        if size == 0:  # Avoid division by zero\n",
        "            continue\n",
        "\n",
        "        score = 0.0\n",
        "        for class_val in classes:\n",
        "            proportion = [row[-1] for row in group].count(class_val) / size\n",
        "            score += proportion ** 2\n",
        "        gini += (1 - score) * (size / total_samples)\n",
        "\n",
        "    return gini\n",
        "\n",
        "# Split  dataset\n",
        "def test_split(index, value, dataset):\n",
        "    left, right = [], []\n",
        "    for row in dataset:\n",
        "        if row[index] < value:\n",
        "            left.append(row)\n",
        "        else:\n",
        "            right.append(row)\n",
        "    return left, right\n",
        "\n",
        "# Find  best split\n",
        "def get_split(dataset):\n",
        "    class_values = list(set(row[-1] for row in dataset))\n",
        "    best_index, best_value, best_score, best_groups = 999, 999, 999, None\n",
        "    for index in range(len(dataset[0]) - 1):\n",
        "        for row in dataset:\n",
        "            groups = test_split(index, row[index], dataset)\n",
        "            gini = gini_impurity(groups, class_values)\n",
        "            if gini < best_score:\n",
        "                best_index, best_value, best_score, best_groups = index, row[index], gini, groups\n",
        "    return {\"index\": best_index, \"value\": best_value, \"groups\": best_groups}\n",
        "\n",
        "# Build  tree recursively\n",
        "def to_terminal(group):\n",
        "    outcomes = [row[-1] for row in group]\n",
        "    return max(set(outcomes), key=outcomes.count)\n",
        "\n",
        "def split(node, max_depth, min_size, depth):\n",
        "    left, right = node[\"groups\"]\n",
        "    del(node[\"groups\"])\n",
        "    if not left or not right:\n",
        "        node[\"left\"] = node[\"right\"] = to_terminal(left + right)\n",
        "        return\n",
        "    if depth >= max_depth:\n",
        "        node[\"left\"], node[\"right\"] = to_terminal(left), to_terminal(right)\n",
        "        return\n",
        "    if len(left) <= min_size:\n",
        "        node[\"left\"] = to_terminal(left)\n",
        "    else:\n",
        "        node[\"left\"] = get_split(left)\n",
        "        split(node[\"left\"], max_depth, min_size, depth + 1)\n",
        "    if len(right) <= min_size:\n",
        "        node[\"right\"] = to_terminal(right)\n",
        "    else:\n",
        "        node[\"right\"] = get_split(right)\n",
        "        split(node[\"right\"], max_depth, min_size, depth + 1)\n",
        "\n",
        "def build_tree(train, max_depth, min_size):\n",
        "    root = get_split(train)\n",
        "    split(root, max_depth, min_size, 1)\n",
        "    return root\n",
        "\n",
        "#  predictions\n",
        "def predict(node, row):\n",
        "    if row[node[\"index\"]] < node[\"value\"]:\n",
        "        if isinstance(node[\"left\"], dict):\n",
        "            return predict(node[\"left\"], row)\n",
        "        else:\n",
        "            return node[\"left\"]\n",
        "    else:\n",
        "        if isinstance(node[\"right\"], dict):\n",
        "            return predict(node[\"right\"], row)\n",
        "        else:\n",
        "            return node[\"right\"]\n",
        "\n",
        "# Convert DataFrame to list for processing\n",
        "dataset = df.values.tolist()\n",
        "\n",
        "# Build and test the decision tree\n",
        "tree = build_tree(dataset, max_depth=3, min_size=1)\n",
        "print(\"Decision Tree:\", tree)\n",
        "\n",
        "# Test prediction\n",
        "for row in dataset:\n",
        "    prediction = predict(tree, row)\n",
        "    print(f\"Expected={row[-1]}, Predicted={prediction}\")\n"
      ]
    },
    {
      "cell_type": "markdown",
      "source": [
        "Experiments"
      ],
      "metadata": {
        "id": "rxQBlKvamzJx"
      }
    },
    {
      "cell_type": "markdown",
      "source": [
        "Eperiment1"
      ],
      "metadata": {
        "id": "NZd5Epfnm1Hs"
      }
    },
    {
      "cell_type": "code",
      "source": [
        "import pandas as pd\n",
        "from sklearn.preprocessing import LabelEncoder\n",
        "from sklearn.tree import DecisionTreeClassifier\n",
        "\n",
        "# Space Exploration Dataset\n",
        "data_space = {\n",
        "    \"Distance_from_Star_AU\": [0.39, 0.72, 1.0, 1.5, 5.2],\n",
        "    \"Planet_Size_Earth_Radius\": [0.38, 0.95, 1.0, 0.53, 11.2],\n",
        "    \"Atmosphere_Composition\": [\"O2\", \"CO2\", \"N2O\", \"CO2\", \"H2He\"],\n",
        "    \"Habitable\": [\"No\", \"No\", \"Yes\", \"No\", \"No\"]\n",
        "}\n",
        "\n",
        "df_space = pd.DataFrame(data_space)\n",
        "\n",
        "# Encode categorical features\n",
        "df_space[\"Atmosphere_Composition\"] = LabelEncoder().fit_transform(df_space[\"Atmosphere_Composition\"])\n",
        "df_space[\"Habitable\"] = LabelEncoder().fit_transform(df_space[\"Habitable\"])\n",
        "\n",
        "X = df_space[[\"Distance_from_Star_AU\", \"Planet_Size_Earth_Radius\", \"Atmosphere_Composition\"]]\n",
        "y = df_space[\"Habitable\"]\n",
        "\n",
        "model_space = DecisionTreeClassifier(max_depth=3)\n",
        "model_space.fit(X, y)\n",
        "\n",
        "# Test data with feature names\n",
        "test_data = pd.DataFrame([[1.2, 1.1, 1]], columns=[\"Distance_from_Star_AU\", \"Planet_Size_Earth_Radius\", \"Atmosphere_Composition\"])\n",
        "print(\"Prediction (Space Exploration):\", model_space.predict(test_data))\n"
      ],
      "metadata": {
        "colab": {
          "base_uri": "https://localhost:8080/"
        },
        "id": "LCI9VlVDm2k4",
        "outputId": "5726819f-d7f5-49d0-ab64-2046bcfd3d63"
      },
      "execution_count": null,
      "outputs": [
        {
          "output_type": "stream",
          "name": "stdout",
          "text": [
            "Prediction (Space Exploration): [1]\n"
          ]
        }
      ]
    },
    {
      "cell_type": "markdown",
      "source": [
        "Expwriment2"
      ],
      "metadata": {
        "id": "ac7shO-AnBm0"
      }
    },
    {
      "cell_type": "code",
      "source": [
        "# Cybersecurity Dataset\n",
        "data_hacking = {\n",
        "    \"Login_Frequency\": [10, 200, 3, 50, 1],\n",
        "    \"Country\": [\"US\", \"RU\", \"IN\", \"CN\", \"BR\"],\n",
        "    \"Access_Time\": [\"Day\", \"Night\", \"Day\", \"Night\", \"Day\"],\n",
        "    \"Hacker\": [\"No\", \"Yes\", \"No\", \"Yes\", \"No\"]\n",
        "}\n",
        "\n",
        "df_hacking = pd.DataFrame(data_hacking)\n",
        "\n",
        "# Encode categorical features\n",
        "df_hacking[\"Country\"] = LabelEncoder().fit_transform(df_hacking[\"Country\"])\n",
        "df_hacking[\"Access_Time\"] = LabelEncoder().fit_transform(df_hacking[\"Access_Time\"])\n",
        "df_hacking[\"Hacker\"] = LabelEncoder().fit_transform(df_hacking[\"Hacker\"])\n",
        "\n",
        "X = df_hacking[[\"Login_Frequency\", \"Country\", \"Access_Time\"]]\n",
        "y = df_hacking[\"Hacker\"]\n",
        "\n",
        "model_hacking = DecisionTreeClassifier(max_depth=3)\n",
        "model_hacking.fit(X, y)\n",
        "\n",
        "# Test data with feature names\n",
        "test_data = pd.DataFrame([[30, 2, 1]], columns=[\"Login_Frequency\", \"Country\", \"Access_Time\"])\n",
        "print(\"Prediction (Cybersecurity):\", model_hacking.predict(test_data))"
      ],
      "metadata": {
        "colab": {
          "base_uri": "https://localhost:8080/"
        },
        "id": "qTVVbx0enLIa",
        "outputId": "3d6d6675-4c79-4997-8b70-b0a5a1bba7a6"
      },
      "execution_count": null,
      "outputs": [
        {
          "output_type": "stream",
          "name": "stdout",
          "text": [
            "Prediction (Cybersecurity): [1]\n"
          ]
        }
      ]
    },
    {
      "cell_type": "markdown",
      "source": [
        "Experiment3"
      ],
      "metadata": {
        "id": "FAnDopRknExO"
      }
    },
    {
      "cell_type": "code",
      "source": [
        "# Evolutionary Biology Dataset\n",
        "data_evolution = {\n",
        "    \"Bone_Density\": [1.2, 0.8, 0.5, 1.1, 0.7],\n",
        "    \"Leg_Count\": [4, 4, 2, 4, 4],\n",
        "    \"Egg_Laying\": [\"No\", \"Yes\", \"Yes\", \"No\", \"Yes\"],\n",
        "    \"Category\": [\"Mammal\", \"Reptile\", \"Bird\", \"Mammal\", \"Reptile\"]\n",
        "}\n",
        "\n",
        "df_evolution = pd.DataFrame(data_evolution)\n",
        "\n",
        "# Encode categorical features\n",
        "df_evolution[\"Egg_Laying\"] = LabelEncoder().fit_transform(df_evolution[\"Egg_Laying\"])\n",
        "df_evolution[\"Category\"] = LabelEncoder().fit_transform(df_evolution[\"Category\"])\n",
        "\n",
        "X = df_evolution[[\"Bone_Density\", \"Leg_Count\", \"Egg_Laying\"]]\n",
        "y = df_evolution[\"Category\"]\n",
        "\n",
        "model_evolution = DecisionTreeClassifier(max_depth=3)\n",
        "model_evolution.fit(X, y)\n",
        "\n",
        "# Test data with feature names\n",
        "test_data = pd.DataFrame([[0.6, 2, 1]], columns=[\"Bone_Density\", \"Leg_Count\", \"Egg_Laying\"])\n",
        "print(\"Prediction (Evolutionary Biology):\", model_evolution.predict(test_data))"
      ],
      "metadata": {
        "colab": {
          "base_uri": "https://localhost:8080/"
        },
        "id": "akdthE-4nLz5",
        "outputId": "17e9d50d-c5a3-43c0-869e-b1c90f582761"
      },
      "execution_count": null,
      "outputs": [
        {
          "output_type": "stream",
          "name": "stdout",
          "text": [
            "Prediction (Evolutionary Biology): [0]\n"
          ]
        }
      ]
    },
    {
      "cell_type": "markdown",
      "source": [
        "Experiment4"
      ],
      "metadata": {
        "id": "GBZ4CV3SnGWY"
      }
    },
    {
      "cell_type": "code",
      "source": [
        "# Simple Biology Dataset\n",
        "data_biology = {\n",
        "    \"Height_cm\": [500, 50, 150, 3, 20],\n",
        "    \"Leaf_Size_cm2\": [30, 5, 10, 0.5, 2],\n",
        "    \"Flowering_Season\": [\"Spring\", \"Spring\", \"Summer\", \"Summer\", \"Winter\"],\n",
        "    \"Plant_Type\": [\"Tree\", \"Shrub\", \"Shrub\", \"Grass\", \"Grass\"]\n",
        "}\n",
        "\n",
        "df_biology = pd.DataFrame(data_biology)\n",
        "\n",
        "# Encode categorical features\n",
        "df_biology[\"Flowering_Season\"] = LabelEncoder().fit_transform(df_biology[\"Flowering_Season\"])\n",
        "df_biology[\"Plant_Type\"] = LabelEncoder().fit_transform(df_biology[\"Plant_Type\"])\n",
        "\n",
        "X = df_biology[[\"Height_cm\", \"Leaf_Size_cm2\", \"Flowering_Season\"]]\n",
        "y = df_biology[\"Plant_Type\"]\n",
        "\n",
        "model_biology = DecisionTreeClassifier(max_depth=3)\n",
        "model_biology.fit(X, y)\n",
        "\n",
        "# Test data with feature names\n",
        "test_data = pd.DataFrame([[300, 15, 1]], columns=[\"Height_cm\", \"Leaf_Size_cm2\", \"Flowering_Season\"])\n",
        "print(\"Prediction (Simple Biology):\", model_biology.predict(test_data))\n",
        "\n"
      ],
      "metadata": {
        "colab": {
          "base_uri": "https://localhost:8080/"
        },
        "id": "NMaGo3Q9nMbQ",
        "outputId": "f86bc5e2-250e-437f-8654-4037c6738f2a"
      },
      "execution_count": null,
      "outputs": [
        {
          "output_type": "stream",
          "name": "stdout",
          "text": [
            "Prediction (Simple Biology): [1]\n"
          ]
        }
      ]
    },
    {
      "cell_type": "markdown",
      "source": [
        "Experiment5"
      ],
      "metadata": {
        "id": "2Vtbu_BCnIN2"
      }
    },
    {
      "cell_type": "code",
      "source": [
        "# Alien Life Dataset\n",
        "data_alien = {\n",
        "    \"Body_Shape\": [\"Humanoid\", \"Insectoid\", \"Humanoid\", \"Blob\", \"Insectoid\"],\n",
        "    \"Limb_Count\": [4, 6, 4, 0, 8],\n",
        "    \"Habitat\": [\"Land\", \"Land\", \"Water\", \"Water\", \"Land\"],\n",
        "    \"Species_Type\": [\"TypeA\", \"TypeB\", \"TypeA\", \"TypeC\", \"TypeB\"]\n",
        "}\n",
        "\n",
        "df_alien = pd.DataFrame(data_alien)\n",
        "\n",
        "# Encode categorical features\n",
        "df_alien[\"Body_Shape\"] = LabelEncoder().fit_transform(df_alien[\"Body_Shape\"])\n",
        "df_alien[\"Habitat\"] = LabelEncoder().fit_transform(df_alien[\"Habitat\"])\n",
        "df_alien[\"Species_Type\"] = LabelEncoder().fit_transform(df_alien[\"Species_Type\"])\n",
        "\n",
        "X = df_alien[[\"Body_Shape\", \"Limb_Count\", \"Habitat\"]]\n",
        "y = df_alien[\"Species_Type\"]\n",
        "\n",
        "model_alien = DecisionTreeClassifier(max_depth=3)\n",
        "model_alien.fit(X, y)\n",
        "\n",
        "# Test data with feature names\n",
        "test_data = pd.DataFrame([[0, 4, 1]], columns=[\"Body_Shape\", \"Limb_Count\", \"Habitat\"])\n",
        "print(\"Prediction (Alien Life):\", model_alien.predict(test_data))"
      ],
      "metadata": {
        "colab": {
          "base_uri": "https://localhost:8080/"
        },
        "id": "AjTtbz9mnNFV",
        "outputId": "95e7a8fb-7368-4d63-9d72-e5f8357dc1f1"
      },
      "execution_count": null,
      "outputs": [
        {
          "output_type": "stream",
          "name": "stdout",
          "text": [
            "Prediction (Alien Life): [2]\n"
          ]
        }
      ]
    }
  ]
}