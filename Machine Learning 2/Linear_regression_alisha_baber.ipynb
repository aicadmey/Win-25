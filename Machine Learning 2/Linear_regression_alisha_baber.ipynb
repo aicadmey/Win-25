{
  "nbformat": 4,
  "nbformat_minor": 0,
  "metadata": {
    "colab": {
      "provenance": []
    },
    "kernelspec": {
      "name": "python3",
      "display_name": "Python 3"
    },
    "language_info": {
      "name": "python"
    }
  },
  "cells": [
    {
      "cell_type": "markdown",
      "source": [
        "# **Linear Regression.**"
      ],
      "metadata": {
        "id": "8UhBR5PQ4MhF"
      }
    },
    {
      "cell_type": "code",
      "source": [
        "y = 4.5\n",
        "d = 66.7777\n",
        "s = 40.000\n",
        "a = 0\n",
        "\n",
        "\n",
        "t = 34 / y * s\n",
        "T = 40.34 / d\n",
        "A = (77 * 45) / (4 * s)\n",
        "σ = 6 * d / y\n",
        "e = s**33 / 59 * (A / t) if t != 0 else 0\n",
        "n = σ**T / 82 if T != 0 else 0\n",
        "v = 77 * (e - 55) * (t + s)\n",
        "b = d * v * (45 + 44.6) * (t + 488) if t != 0 else 0\n",
        "a = v * b\n",
        "s = 0.99 - b * (A / T) if T != 0 else 0\n",
        "\n",
        "# Final calculation\n",
        "P = σ * A * T * 4 if A != 0 and T != 0 else 0\n",
        "\n",
        "print(\"P=\",P)"
      ],
      "metadata": {
        "colab": {
          "base_uri": "https://localhost:8080/"
        },
        "id": "NsWvdjMuAxwG",
        "outputId": "d01f9577-9835-462e-ea08-5b664781ec8e"
      },
      "execution_count": null,
      "outputs": [
        {
          "output_type": "stream",
          "name": "stdout",
          "text": [
            "P= 4659.270000000001\n"
          ]
        }
      ]
    }
  ]
}