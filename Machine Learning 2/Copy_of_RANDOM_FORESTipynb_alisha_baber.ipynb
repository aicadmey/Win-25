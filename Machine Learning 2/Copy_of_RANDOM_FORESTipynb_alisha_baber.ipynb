{
  "nbformat": 4,
  "nbformat_minor": 0,
  "metadata": {
    "colab": {
      "provenance": []
    },
    "kernelspec": {
      "name": "python3",
      "display_name": "Python 3"
    },
    "language_info": {
      "name": "python"
    }
  },
  "cells": [
    {
      "cell_type": "code",
      "execution_count": null,
      "metadata": {
        "id": "iiGkQx8jdwGs"
      },
      "outputs": [],
      "source": [
        "\n",
        "#Feature Importance in Random Forest\n",
        "importances = rf_clf.feature_importances_\n",
        "for name, importance in zip(iris.feature_names, importances):\n",
        "    print(f\"{name}: {importance:.2f}\")\n",
        "\n",
        "# Visualize feature importance\n",
        "import matplotlib.pyplot as plt\n",
        "plt.barh(iris.feature_names, importances)\n",
        "plt.xlabel('Feature Importance')\n",
        "plt.title('Feature Importance in Random Forest')\n",
        "plt.show()\n"
      ]
    },
    {
      "cell_type": "code",
      "source": [
        "# Impact of Number of Trees in Random Forest\n",
        "\n",
        "\n",
        "from sklearn.ensemble import RandomForestClassifier\n",
        "from sklearn.datasets import load_iris\n",
        "from sklearn.model_selection import train_test_split\n",
        "from sklearn.metrics import accuracy_score\n",
        "\n",
        "# Load dataset\n",
        "iris = load_iris()\n",
        "X, y = iris.data, iris.target\n",
        "\n",
        "# Split dataset\n",
        "X_train, X_test, y_train, y_test = train_test_split(X, y, test_size=0.3, random_state=42)\n",
        "\n",
        "# Test different numbers of trees\n",
        "for n_trees in [10, 50, 100, 200, 500]:\n",
        "    forest_clf = RandomForestClassifier(n_estimators=n_trees, random_state=42)\n",
        "    forest_clf.fit(X_train, y_train)\n",
        "    y_pred = forest_clf.predict(X_test)\n",
        "    accuracy = accuracy_score(y_test, y_pred)\n",
        "    print(f\"Number of Trees: {n_trees}, Accuracy: {accuracy:.2f}\")\n"
      ],
      "metadata": {
        "id": "b-QgnnGUd5Dh"
      },
      "execution_count": null,
      "outputs": []
    },
    {
      "cell_type": "code",
      "source": [
        "# Random Forest Classifier on the Iris Dataset\n",
        "\n",
        "\n",
        "from sklearn.datasets import load_iris\n",
        "from sklearn.ensemble import RandomForestClassifier\n",
        "from sklearn.model_selection import train_test_split\n",
        "from sklearn.metrics import accuracy_score, classification_report\n",
        "\n",
        "# Load the Iris dataset\n",
        "iris = load_iris()\n",
        "X, y = iris.data, iris.target\n",
        "\n",
        "# Split the data into training and testing sets\n",
        "X_train, X_test, y_train, y_test = train_test_split(X, y, test_size=0.3, random_state=42)\n",
        "\n",
        "# Create a Random Forest classifier\n",
        "rf_clf = RandomForestClassifier(n_estimators=100, max_depth=5, random_state=42)\n",
        "\n",
        "# Train the Random Forest model\n",
        "rf_clf.fit(X_train, y_train)\n",
        "\n",
        "# Test the model\n",
        "y_pred = rf_clf.predict(X_test)\n",
        "\n",
        "# Evaluate the model\n",
        "accuracy = accuracy_score(y_test, y_pred)\n",
        "print(f\"Accuracy: {accuracy:.2f}\")\n",
        "print(classification_report(y_test, y_pred, target_names=iris.target_names))\n"
      ],
      "metadata": {
        "id": "72Chy8P7eBNf"
      },
      "execution_count": null,
      "outputs": []
    },
    {
      "cell_type": "code",
      "source": [
        "# Single Decision Tree vs Random Forest\n",
        "\n",
        "\n",
        "from sklearn.datasets import load_iris\n",
        "from sklearn.model_selection import train_test_split\n",
        "from sklearn.tree import DecisionTreeClassifier\n",
        "from sklearn.ensemble import RandomForestClassifier\n",
        "from sklearn.metrics import accuracy_score\n",
        "\n",
        "# Load dataset\n",
        "iris = load_iris()\n",
        "X, y = iris.data, iris.target\n",
        "\n",
        "# Split dataset\n",
        "X_train, X_test, y_train, y_test = train_test_split(X, y, test_size=0.3, random_state=42)\n",
        "\n",
        "# Decision Tree\n",
        "tree_clf = DecisionTreeClassifier(random_state=42)\n",
        "tree_clf.fit(X_train, y_train)\n",
        "tree_pred = tree_clf.predict(X_test)\n",
        "tree_accuracy = accuracy_score(y_test, tree_pred)\n",
        "\n",
        "# Random Forest\n",
        "forest_clf = RandomForestClassifier(n_estimators=100, random_state=42)\n",
        "forest_clf.fit(X_train, y_train)\n",
        "forest_pred = forest_clf.predict(X_test)\n",
        "forest_accuracy = accuracy_score(y_test, forest_pred)\n",
        "\n",
        "print(f\"Decision Tree Accuracy: {tree_accuracy:.2f}\")\n",
        "print(f\"Random Forest Accuracy: {forest_accuracy:.2f}\")\n"
      ],
      "metadata": {
        "id": "oDPETC_MeNuc"
      },
      "execution_count": null,
      "outputs": []
    },
    {
      "cell_type": "code",
      "source": [
        "# Comparing Random Forest with a Single Decision Tree\n",
        "\n",
        "from sklearn.tree import DecisionTreeClassifier\n",
        "\n",
        "# Train a single decision tree\n",
        "dt_clf = DecisionTreeClassifier(max_depth=5, random_state=42)\n",
        "dt_clf.fit(X_train, y_train)\n",
        "\n",
        "# Predictions\n",
        "dt_pred = dt_clf.predict(X_test)\n",
        "rf_pred = rf_clf.predict(X_test)\n",
        "\n",
        "# Evaluate and compare\n",
        "dt_accuracy = accuracy_score(y_test, dt_pred)\n",
        "rf_accuracy = accuracy_score(y_test, rf_pred)\n",
        "\n",
        "print(f\"Decision Tree Accuracy: {dt_accuracy:.2f}\")\n",
        "print(f\"Random Forest Accuracy: {rf_accuracy:.2f}\")\n"
      ],
      "metadata": {
        "id": "yfC5OZvpeXok"
      },
      "execution_count": null,
      "outputs": []
    },
    {
      "cell_type": "code",
      "source": [
        "# Hyperparameter Tuning for Random Forest\n",
        "\n",
        "\n",
        "from sklearn.model_selection import GridSearchCV\n",
        "\n",
        "# Define parameter grid\n",
        "param_grid = {\n",
        "    'n_estimators': [50, 100, 200],\n",
        "    'max_depth': [3, 5, 10],\n",
        "    'criterion': ['gini', 'entropy']\n",
        "}\n",
        "\n",
        "# GridSearchCV\n",
        "grid_search = GridSearchCV(RandomForestClassifier(random_state=42), param_grid, cv=5)\n",
        "grid_search.fit(X_train, y_train)\n",
        "\n",
        "# Best parameters and model evaluation\n",
        "print(f\"Best Parameters: {grid_search.best_params_}\")\n",
        "best_model = grid_search.best_estimator_\n",
        "print(f\"Test Accuracy: {best_model.score(X_test, y_test):.2f}\")\n",
        "\n",
        "\n",
        "\n"
      ],
      "metadata": {
        "id": "UhA94iHMefdC"
      },
      "execution_count": null,
      "outputs": []
    },
    {
      "cell_type": "code",
      "source": [
        "#Random Forest Visualization\n",
        "\n",
        "\n",
        "from sklearn.tree import export_text\n",
        "\n",
        "# Extract one tree from the forest\n",
        "tree = rf_clf.estimators_[0]\n",
        "\n",
        "# Visualize the tree as text\n",
        "tree_rules = export_text(tree, feature_names=iris.feature_names)\n",
        "print(tree_rules)\n",
        "\n",
        "# Plot one of the trees\n",
        "from sklearn.tree import plot_tree\n",
        "plt.figure(figsize=(15, 10))\n",
        "plot_tree(tree, feature_names=iris.feature_names, class_names=iris.target_names, filled=True)\n",
        "plt.title(\"A Single Tree from the Random Forest\")\n",
        "plt.show()\n"
      ],
      "metadata": {
        "id": "3FeONDuYewEh"
      },
      "execution_count": null,
      "outputs": []
    },
    {
      "cell_type": "code",
      "source": [
        "#Visualizing Decision Boundaries\n",
        "\n",
        "\n",
        "import numpy as np\n",
        "import matplotlib.pyplot as plt\n",
        "from sklearn.datasets import make_classification\n",
        "from sklearn.tree import DecisionTreeClassifier\n",
        "from sklearn.ensemble import RandomForestClassifier\n",
        "\n",
        "# Generate synthetic dataset\n",
        "X, y = make_classification(n_samples=300, n_features=2, n_classes=2, n_clusters_per_class=1, random_state=42)\n",
        "\n",
        "# Train Decision Tree\n",
        "tree_clf = DecisionTreeClassifier(max_depth=3, random_state=42)\n",
        "tree_clf.fit(X, y)\n",
        "\n",
        "# Train Random Forest\n",
        "forest_clf = RandomForestClassifier(n_estimators=100, random_state=42)\n",
        "forest_clf.fit(X, y)\n",
        "\n",
        "# Plot decision boundaries\n",
        "def plot_decision_boundary(clf, X, y, title):\n",
        "    x_min, x_max = X[:, 0].min() - 1, X[:, 0].max() + 1\n",
        "    y_min, y_max = X[:, 1].min() - 1, X[:, 1].max() + 1\n",
        "    xx, yy = np.meshgrid(np.arange(x_min, x_max, 0.1),\n",
        "                         np.arange(y_min, y_max, 0.1))\n",
        "    Z = clf.predict(np.c_[xx.ravel(), yy.ravel()])\n",
        "    Z = Z.reshape(xx.shape)\n",
        "    plt.contourf(xx, yy, Z, alpha=0.3)\n",
        "    plt.scatter(X[:, 0], X[:, 1], c=y, edgecolor='k', cmap=plt.cm.Paired)\n",
        "    plt.title(title)\n",
        "    plt.show()\n",
        "\n",
        "plot_decision_boundary(tree_clf, X, y, \"Decision Tree Boundary\")\n",
        "plot_decision_boundary(forest_clf, X, y, \"Random Forest Boundary\")\n"
      ],
      "metadata": {
        "id": "ad0VCEREfCa6"
      },
      "execution_count": null,
      "outputs": []
    },
    {
      "cell_type": "markdown",
      "source": [
        "# **THE END.**"
      ],
      "metadata": {
        "id": "jZRARSHxfHe8"
      }
    },
    {
      "cell_type": "code",
      "source": [],
      "metadata": {
        "id": "vtSxBtB9fLNU"
      },
      "execution_count": null,
      "outputs": []
    }
  ]
}