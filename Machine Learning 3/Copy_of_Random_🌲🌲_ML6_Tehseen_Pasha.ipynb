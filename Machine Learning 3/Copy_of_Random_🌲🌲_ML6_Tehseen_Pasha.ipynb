{
  "nbformat": 4,
  "nbformat_minor": 0,
  "metadata": {
    "colab": {
      "provenance": []
    },
    "kernelspec": {
      "name": "python3",
      "display_name": "Python 3"
    },
    "language_info": {
      "name": "python"
    }
  },
  "cells": [
    {
      "cell_type": "code",
      "source": [
        "import numpy as np\n",
        "from sklearn.ensemble import RandomForestClassifier\n",
        "from sklearn.model_selection import train_test_split\n",
        "from sklearn.metrics import accuracy_score, classification_report\n",
        "\n",
        "\n",
        "def generate_celestial_data(n_samples=1000):\n",
        "    np.random.seed(42)\n",
        "    # Features: [Mass (kg), Distance from Earth (light years), Brightness (magnitude)]\n",
        "    mass = np.random.uniform(1e21, 1e26, n_samples)  # Mass in kg\n",
        "    distance = np.random.uniform(1, 1000, n_samples)  # Distance in light years\n",
        "    brightness = np.random.uniform(1, 15, n_samples)  # Apparent brightness\n",
        "\n",
        "    # Labels: 0 = Planet, 1 = Star, 2 = Asteroid\n",
        "    labels = np.random.choice([0, 1, 2], n_samples, p=[0.4, 0.4, 0.2])\n",
        "\n",
        "\n",
        "    features = np.vstack((mass, distance, brightness)).T\n",
        "    return features, labels\n",
        "\n",
        "\n",
        "X, y = generate_celestial_data()\n",
        "\n",
        "\n",
        "X_train, X_test, y_train, y_test = train_test_split(X, y, test_size=0.3, random_state=42)\n",
        "\n",
        "\n",
        "rf_classifier = RandomForestClassifier(n_estimators=10, max_depth=5, random_state=42)\n",
        "rf_classifier.fit(X_train, y_train)\n",
        "\n",
        "\n",
        "y_pred = rf_classifier.predict(X_test)\n",
        "\n",
        "\n",
        "accuracy = accuracy_score(y_test, y_pred)\n",
        "print(\"Accuracy of the Random Forest Classifier:\", accuracy)\n",
        "print(\"\\nClassification Report:\")\n",
        "print(classification_report(y_test, y_pred, target_names=[\"Planet\", \"Star\", \"Asteroid\"]))\n",
        "\n",
        "# Test with new celestial objects\n",
        "new_celestial_objects = np.array([\n",
        "    [5e23, 500, 8],  #  planet\n",
        "    [1e25, 200, 2],  # star\n",
        "    [1e22, 1000, 14] #  asteroid\n",
        "])\n",
        "\n",
        "predictions = rf_classifier.predict(new_celestial_objects)\n",
        "print(\"\\nPredictions for new celestial objects:\", predictions)"
      ],
      "metadata": {
        "colab": {
          "base_uri": "https://localhost:8080/"
        },
        "id": "SdRFRCtzX7lm",
        "outputId": "22fc411d-9cf9-49fe-a1ad-9ed07700da5d"
      },
      "execution_count": null,
      "outputs": [
        {
          "output_type": "stream",
          "name": "stdout",
          "text": [
            "Accuracy of the Random Forest Classifier: 0.36666666666666664\n",
            "\n",
            "Classification Report:\n",
            "              precision    recall  f1-score   support\n",
            "\n",
            "      Planet       0.40      0.55      0.46       124\n",
            "        Star       0.32      0.34      0.33       120\n",
            "    Asteroid       0.33      0.02      0.03        56\n",
            "\n",
            "    accuracy                           0.37       300\n",
            "   macro avg       0.35      0.30      0.28       300\n",
            "weighted avg       0.36      0.37      0.33       300\n",
            "\n",
            "\n",
            "Predictions for new celestial objects: [2 1 2]\n"
          ]
        }
      ]
    }
  ]
}