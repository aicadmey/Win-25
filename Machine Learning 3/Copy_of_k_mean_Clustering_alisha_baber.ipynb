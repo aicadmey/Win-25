{
  "nbformat": 4,
  "nbformat_minor": 0,
  "metadata": {
    "colab": {
      "provenance": []
    },
    "kernelspec": {
      "name": "python3",
      "display_name": "Python 3"
    },
    "language_info": {
      "name": "python"
    }
  },
  "cells": [
    {
      "cell_type": "code",
      "source": [],
      "metadata": {
        "id": "go2YS799drMM"
      },
      "execution_count": null,
      "outputs": []
    },
    {
      "cell_type": "markdown",
      "source": [
        "# **Cluster Real-World Data (Iris Dataset)**"
      ],
      "metadata": {
        "id": "6mZ9G2iab6de"
      }
    },
    {
      "cell_type": "code",
      "source": [
        "from sklearn.datasets import load_iris\n",
        "from sklearn.metrics import accuracy_score\n",
        "import pandas as pd\n",
        "\n",
        "iris = load_iris()\n",
        "data = iris.data\n",
        "true_labels = iris.target\n",
        "\n",
        "kmeans = KMeans(n_clusters=3, random_state=0).fit(data)\n",
        "predicted_labels = kmeans.labels_\n",
        "\n",
        "print(\"Accuracy:\", accuracy_score(true_labels, predicted_labels))\n"
      ],
      "metadata": {
        "id": "u3Sz_PjMb-bj"
      },
      "execution_count": null,
      "outputs": []
    },
    {
      "cell_type": "markdown",
      "source": [
        "# **Elbow Method for Optimal k**"
      ],
      "metadata": {
        "id": "T1_RZ_4wcDjR"
      }
    },
    {
      "cell_type": "code",
      "source": [
        "inertias = []\n",
        "for k in range(1, 10):\n",
        "    kmeans = KMeans(n_clusters=k, random_state=0).fit(data)\n",
        "    inertias.append(kmeans.inertia_)\n",
        "\n",
        "plt.plot(range(1, 10), inertias, marker='o')\n",
        "plt.xlabel('Number of Clusters')\n",
        "plt.ylabel('Inertia')\n",
        "plt.title('Elbow Method')\n",
        "plt.show()\n"
      ],
      "metadata": {
        "id": "t1KdvsHQcUCR"
      },
      "execution_count": null,
      "outputs": []
    },
    {
      "cell_type": "markdown",
      "source": [
        "# **Non-Spherical Clusters**"
      ],
      "metadata": {
        "id": "ALC3TAw-cmgU"
      }
    },
    {
      "cell_type": "code",
      "source": [
        "from sklearn.datasets import make_moons\n",
        "\n",
        "data, _ = make_moons(n_samples=300, noise=0.05)\n",
        "kmeans = KMeans(n_clusters=2).fit(data)\n",
        "plt.scatter(data[:, 0], data[:, 1], c=kmeans.labels_, cmap='viridis')\n",
        "plt.scatter(kmeans.cluster_centers_[:, 0], kmeans.cluster_centers_[:, 1], s=200, c='red', marker='X')\n",
        "plt.show()\n"
      ],
      "metadata": {
        "id": "BPva7I79cpFv"
      },
      "execution_count": null,
      "outputs": []
    },
    {
      "cell_type": "markdown",
      "source": [
        "# **Vary the Number of Clusters**"
      ],
      "metadata": {
        "id": "CQEHIKo6dEeZ"
      }
    },
    {
      "cell_type": "code",
      "source": [
        "for k in range(2, 6):  # Try 2 to 5 clusters\n",
        "    kmeans = KMeans(n_clusters=k).fit(data)\n",
        "    plt.scatter(data[:, 0], data[:, 1], c=kmeans.labels_, cmap='viridis')\n",
        "    plt.scatter(kmeans.cluster_centers_[:, 0], kmeans.cluster_centers_[:, 1], s=200, c='red', marker='X')\n",
        "    plt.title(f\"{k} Clusters\")\n",
        "    plt.show()\n"
      ],
      "metadata": {
        "id": "F3u-Hg3mdGv9"
      },
      "execution_count": null,
      "outputs": []
    },
    {
      "cell_type": "markdown",
      "source": [
        "# **Cluster Randomly Generated Data**"
      ],
      "metadata": {
        "id": "Q1_9XU7ndMR8"
      }
    },
    {
      "cell_type": "code",
      "source": [
        "from sklearn.datasets import make_blobs\n",
        "import matplotlib.pyplot as plt\n",
        "\n",
        "data, labels_true = make_blobs(n_samples=300, centers=3, cluster_std=0.60, random_state=0)\n",
        "\n",
        "kmeans = KMeans(n_clusters=3).fit(data)\n",
        "plt.scatter(data[:, 0], data[:, 1], c=kmeans.labels_, cmap='viridis')\n",
        "plt.scatter(kmeans.cluster_centers_[:, 0], kmeans.cluster_centers_[:, 1], s=200, c='red', marker='X')\n",
        "plt.show()\n"
      ],
      "metadata": {
        "id": "6NrDT_SwdRc0"
      },
      "execution_count": null,
      "outputs": []
    },
    {
      "cell_type": "markdown",
      "source": [
        "# **THE END.**"
      ],
      "metadata": {
        "id": "SRtitt-Rde_f"
      }
    },
    {
      "cell_type": "code",
      "source": [],
      "metadata": {
        "id": "0PLfq552dht8"
      },
      "execution_count": null,
      "outputs": []
    }
  ]
}