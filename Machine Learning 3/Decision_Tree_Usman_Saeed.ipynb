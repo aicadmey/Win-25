{
  "nbformat": 4,
  "nbformat_minor": 0,
  "metadata": {
    "colab": {
      "provenance": [],
      "gpuType": "T4"
    },
    "kernelspec": {
      "name": "python3",
      "display_name": "Python 3"
    },
    "language_info": {
      "name": "python"
    },
    "accelerator": "GPU"
  },
  "cells": [
    {
      "cell_type": "code",
      "execution_count": null,
      "metadata": {
        "colab": {
          "base_uri": "https://localhost:8080/"
        },
        "id": "FnC8dCOpXTjm",
        "outputId": "0122fb8d-5b59-4531-d5c1-f2de7f2815dc"
      },
      "outputs": [
        {
          "output_type": "stream",
          "name": "stdout",
          "text": [
            "Prediction of Fruits Color ['yellow']\n"
          ]
        }
      ],
      "source": [
        "import pandas as pd\n",
        "from sklearn.model_selection import train_test_split\n",
        "from sklearn.tree import DecisionTreeClassifier\n",
        "from sklearn.preprocessing import LabelEncoder\n",
        "\n",
        "data_fruits = {\n",
        "    'fruit': ['apple', 'banana', 'orange', 'apple', 'banana', 'orange', 'apple', 'banana', 'orange'],\n",
        "    'color': ['red', 'yellow', 'orange', 'red', 'yellow', 'orange', 'red', 'yellow', 'orange'],\n",
        "    'size': ['small', 'medium', 'large', 'small', 'medium', 'large', 'small', 'medium', 'large']\n",
        "}\n",
        "\n",
        "df_fruits = pd.DataFrame(data_fruits)\n",
        "\n",
        "Label_Encoder = LabelEncoder()\n",
        "df_fruits['fruit'] = Label_Encoder.fit_transform(df_fruits['fruit'])\n",
        "df_fruits['size'] = Label_Encoder.fit_transform(df_fruits['size'])\n",
        "\n",
        "X = df_fruits[['size', 'fruit']] # Use a list of column names within square brackets\n",
        "y = df_fruits['color']\n",
        "\n",
        "X_train, X_test, y_train, y_test = train_test_split(X, y, test_size= 0.2) # Change x_test to X_test\n",
        "\n",
        "clf = DecisionTreeClassifier(max_depth= 5)\n",
        "clf.fit(X_train, y_train)\n",
        "\n",
        "y_pred = clf.predict(X_test)\n",
        "\n",
        "test_data = pd.DataFrame([[1.1, 2.1]], columns=['size', 'fruit'])\n",
        "print(\"Prediction of Fruits Color\", clf.predict(test_data))"
      ]
    },
    {
      "cell_type": "code",
      "source": [
        "import pandas as pd\n",
        "import numpy as np\n",
        "from sklearn.model_selection import train_test_split\n",
        "from sklearn.tree import DecisionTreeClassifier\n",
        "from sklearn.preprocessing import LabelEncoder\n",
        "\n",
        "data_student = {\n",
        "    'name': ['Ali', 'Ramzan', 'Khalid', 'Basheer'],\n",
        "    'roll no': [12, 23, 44, 54],\n",
        "    'subject': ['Biology', 'Chemistry', 'Physics', 'Maths'],\n",
        "    'grade': ['A', 'B', 'C', 'D']\n",
        "}\n",
        "\n",
        "df_student = pd.DataFrame(data_student)\n",
        "\n",
        "Label_Encoder = LabelEncoder()\n",
        "df_student['name'] = Label_Encoder.fit_transform(df_student['name'])\n",
        "df_student['subject'] = Label_Encoder.fit_transform(df_student['subject'])\n",
        "\n",
        "X = df_student[['name', 'roll no', 'subject']]\n",
        "y = df_student['grade']\n",
        "\n",
        "X_train, X_test, y_train, y_test = train_test_split(X, y, test_size= 0.2)\n",
        "\n",
        "clf = DecisionTreeClassifier(max_depth= 9)\n",
        "clf.fit(X_train, y_train)\n",
        "\n",
        "y_pred = clf.predict(X_test)\n",
        "\n",
        "test_data = pd.DataFrame([[1.9, 3.7, 2.6]], columns=['name', 'roll no', 'subject'])\n",
        "print(\"Prediction of Student Grade:\", clf.predict(test_data))"
      ],
      "metadata": {
        "colab": {
          "base_uri": "https://localhost:8080/"
        },
        "id": "V0PsLpus2tw-",
        "outputId": "42aca71d-6103-4e0c-8751-09e8d872d92a"
      },
      "execution_count": null,
      "outputs": [
        {
          "output_type": "stream",
          "name": "stdout",
          "text": [
            "Prediction of Student Grade: ['A']\n"
          ]
        }
      ]
    },
    {
      "cell_type": "code",
      "source": [
        "import pandas as pd\n",
        "import numpy as np\n",
        "from sklearn.model_selection import train_test_split\n",
        "from sklearn.tree import DecisionTreeClassifier\n",
        "from sklearn.preprocessing import LabelEncoder\n",
        "\n",
        "data_trading = {\n",
        "    'company': ['Bitcoin', 'Crypto', 'Dogge', 'Etherum'],\n",
        "    'price': [90000, 70000, 120000, 200000],\n",
        "    'trend': ['up', 'down', 'down', 'up'],\n",
        "    'trade': ['yes', 'no', 'no', 'yes']\n",
        "}\n",
        "\n",
        "df_trading = pd.DataFrame(data_trading)\n",
        "\n",
        "Label_Encoder = LabelEncoder()\n",
        "df_trading['company'] = Label_Encoder.fit_transform(df_trading['company'])\n",
        "df_trading['trend'] = Label_Encoder.fit_transform(df_trading['trend'])\n",
        "\n",
        "X = df_trading[['company', 'price','trend']]\n",
        "y = df_trading['trend']\n",
        "\n",
        "X_train, X_test, y_train, y_test = train_test_split(X, y, test_size= 0.2)\n",
        "\n",
        "clf = DecisionTreeClassifier(max_depth=3)\n",
        "clf.fit(X_train, y_train)\n",
        "\n",
        "y_pred = clf.predict(X_test)\n",
        "\n",
        "test_data = pd.DataFrame([[96, 100, 89]], columns = ['company', 'price', 'trend'])\n",
        "print(\"Prediction of Trading:\", clf.predict(test_data))"
      ],
      "metadata": {
        "colab": {
          "base_uri": "https://localhost:8080/"
        },
        "id": "VeASHGDO7AN0",
        "outputId": "f771f489-f2df-4dce-d96a-8c52e196af44"
      },
      "execution_count": null,
      "outputs": [
        {
          "output_type": "stream",
          "name": "stdout",
          "text": [
            "Prediction of Trading: [0]\n"
          ]
        }
      ]
    },
    {
      "cell_type": "code",
      "source": [
        "import numpy as np\n",
        "import pandas as pd\n",
        "\n",
        "#  dataset\n",
        "data = {\n",
        "    \"Feature\": [\"Red\", \"Red\", \"Green\", \"Green\", \"Red\"],\n",
        "    \"Label\": [\"Apple\", \"Apple\", \"Grape\", \"Grape\", \"Apple\"]\n",
        "}\n",
        "df = pd.DataFrame(data)\n",
        "\n",
        "# categorical variables\n",
        "from sklearn.preprocessing import LabelEncoder\n",
        "\n",
        "encoder = LabelEncoder()\n",
        "df[\"Feature\"] = encoder.fit_transform(df[\"Feature\"])  # Encode 'Red' as 0 and 'Green' as 1\n",
        "df[\"Label\"] = encoder.fit_transform(df[\"Label\"])      # Encode 'Apple' as 0 and 'Grape' as 1\n",
        "\n",
        "print(\"Encoded Dataset:\")\n",
        "print(df)\n",
        "\n",
        "# Gini Impurity function\n",
        "def gini_impurity(groups, classes):\n",
        "    # Total number of samples\n",
        "    total_samples = sum([len(group) for group in groups])\n",
        "\n",
        "    # Calculate the Gini impurity for each group\n",
        "    gini = 0.0\n",
        "    for group in groups:\n",
        "        size = len(group)\n",
        "        if size == 0:  # Avoid division by zero\n",
        "            continue\n",
        "\n",
        "        score = 0.0\n",
        "        for class_val in classes:\n",
        "            proportion = [row[-1] for row in group].count(class_val) / size\n",
        "            score += proportion ** 2\n",
        "        gini += (1 - score) * (size / total_samples)\n",
        "\n",
        "    return gini\n",
        "\n",
        "# Split  dataset\n",
        "def test_split(index, value, dataset):\n",
        "    left, right = [], []\n",
        "    for row in dataset:\n",
        "        if row[index] < value:\n",
        "            left.append(row)\n",
        "        else:\n",
        "            right.append(row)\n",
        "    return left, right\n",
        "\n",
        "# Find  best split\n",
        "def get_split(dataset):\n",
        "    class_values = list(set(row[-1] for row in dataset))\n",
        "    best_index, best_value, best_score, best_groups = 999, 999, 999, None\n",
        "    for index in range(len(dataset[0]) - 1):\n",
        "        for row in dataset:\n",
        "            groups = test_split(index, row[index], dataset)\n",
        "            gini = gini_impurity(groups, class_values)\n",
        "            if gini < best_score:\n",
        "                best_index, best_value, best_score, best_groups = index, row[index], gini, groups\n",
        "    return {\"index\": best_index, \"value\": best_value, \"groups\": best_groups}\n",
        "\n",
        "# Build  tree recursively\n",
        "def to_terminal(group):\n",
        "    outcomes = [row[-1] for row in group]\n",
        "    return max(set(outcomes), key=outcomes.count)\n",
        "\n",
        "def split(node, max_depth, min_size, depth):\n",
        "    left, right = node[\"groups\"]\n",
        "    del(node[\"groups\"])\n",
        "    if not left or not right:\n",
        "        node[\"left\"] = node[\"right\"] = to_terminal(left + right)\n",
        "        return\n",
        "    if depth >= max_depth:\n",
        "        node[\"left\"], node[\"right\"] = to_terminal(left), to_terminal(right)\n",
        "        return\n",
        "    if len(left) <= min_size:\n",
        "        node[\"left\"] = to_terminal(left)\n",
        "    else:\n",
        "        node[\"left\"] = get_split(left)\n",
        "        split(node[\"left\"], max_depth, min_size, depth + 1)\n",
        "    if len(right) <= min_size:\n",
        "        node[\"right\"] = to_terminal(right)\n",
        "    else:\n",
        "        node[\"right\"] = get_split(right)\n",
        "        split(node[\"right\"], max_depth, min_size, depth + 1)\n",
        "\n",
        "def build_tree(train, max_depth, min_size):\n",
        "    root = get_split(train)\n",
        "    split(root, max_depth, min_size, 1)\n",
        "    return root\n",
        "\n",
        "#  predictions\n",
        "def predict(node, row):\n",
        "    if row[node[\"index\"]] < node[\"value\"]:\n",
        "        if isinstance(node[\"left\"], dict):\n",
        "            return predict(node[\"left\"], row)\n",
        "        else:\n",
        "            return node[\"left\"]\n",
        "    else:\n",
        "        if isinstance(node[\"right\"], dict):\n",
        "            return predict(node[\"right\"], row)\n",
        "        else:\n",
        "            return node[\"right\"]\n",
        "\n",
        "# Convert DataFrame to list for processing\n",
        "dataset = df.values.tolist()\n",
        "\n",
        "# Build and test the decision tree\n",
        "tree = build_tree(dataset, max_depth=3, min_size=1)\n",
        "print(\"Decision Tree:\", tree)\n",
        "\n",
        "# Test prediction\n",
        "for row in dataset:\n",
        "    prediction = predict(tree, row)\n",
        "    print(f\"Expected={row[-1]}, Predicted={prediction}\")"
      ],
      "metadata": {
        "colab": {
          "base_uri": "https://localhost:8080/"
        },
        "id": "l2MjTDY96p1k",
        "outputId": "b39f15e0-591b-483d-b1d4-52970374a90a"
      },
      "execution_count": null,
      "outputs": [
        {
          "output_type": "stream",
          "name": "stdout",
          "text": [
            "Encoded Dataset:\n",
            "   Feature  Label\n",
            "0        1      0\n",
            "1        1      0\n",
            "2        0      1\n",
            "3        0      1\n",
            "4        1      0\n",
            "Decision Tree: {'index': 0, 'value': 1, 'left': {'index': 0, 'value': 0, 'left': 1, 'right': 1}, 'right': {'index': 0, 'value': 1, 'left': 0, 'right': 0}}\n",
            "Expected=0, Predicted=0\n",
            "Expected=0, Predicted=0\n",
            "Expected=1, Predicted=1\n",
            "Expected=1, Predicted=1\n",
            "Expected=0, Predicted=0\n"
          ]
        }
      ]
    },
    {
      "cell_type": "code",
      "source": [
        "# Evolutionary Biology Dataset\n",
        "data_evolution = {\n",
        "    \"Bone_Density\": [1.2, 0.8, 0.5, 1.1, 0.7],\n",
        "    \"Leg_Count\": [4, 4, 2, 4, 4],\n",
        "    \"Egg_Laying\": [\"No\", \"Yes\", \"Yes\", \"No\", \"Yes\"],\n",
        "    \"Category\": [\"Mammal\", \"Reptile\", \"Bird\", \"Mammal\", \"Reptile\"]\n",
        "}\n",
        "\n",
        "df_evolution = pd.DataFrame(data_evolution)\n",
        "\n",
        "# Encode categorical features\n",
        "df_evolution[\"Egg_Laying\"] = LabelEncoder().fit_transform(df_evolution[\"Egg_Laying\"])\n",
        "df_evolution[\"Category\"] = LabelEncoder().fit_transform(df_evolution[\"Category\"])\n",
        "\n",
        "X = df_evolution[[\"Bone_Density\", \"Leg_Count\", \"Egg_Laying\"]]\n",
        "y = df_evolution[\"Category\"]\n",
        "\n",
        "model_evolution = DecisionTreeClassifier(max_depth=3)\n",
        "model_evolution.fit(X, y)\n",
        "\n",
        "# Test data with feature names\n",
        "test_data = pd.DataFrame([[0.6, 2, 1]], columns=[\"Bone_Density\", \"Leg_Count\", \"Egg_Laying\"])\n",
        "print(\"Prediction (Evolutionary Biology):\", model_evolution.predict(test_data))"
      ],
      "metadata": {
        "colab": {
          "base_uri": "https://localhost:8080/"
        },
        "id": "CU9lS38z_bvc",
        "outputId": "74e8086d-e89e-4b91-c8db-66f1877c4172"
      },
      "execution_count": null,
      "outputs": [
        {
          "output_type": "stream",
          "name": "stdout",
          "text": [
            "Prediction (Evolutionary Biology): [2]\n"
          ]
        }
      ]
    }
  ]
}