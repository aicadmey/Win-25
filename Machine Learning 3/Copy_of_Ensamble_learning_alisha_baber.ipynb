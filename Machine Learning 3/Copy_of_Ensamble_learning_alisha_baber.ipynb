{
  "nbformat": 4,
  "nbformat_minor": 0,
  "metadata": {
    "colab": {
      "provenance": []
    },
    "kernelspec": {
      "name": "python3",
      "display_name": "Python 3"
    },
    "language_info": {
      "name": "python"
    }
  },
  "cells": [
    {
      "cell_type": "markdown",
      "source": [
        "# **Bagging with Random Forest**"
      ],
      "metadata": {
        "id": "ud8jEiDIhe90"
      }
    },
    {
      "cell_type": "code",
      "source": [
        "from sklearn.ensemble import RandomForestClassifier\n",
        "from sklearn.tree import DecisionTreeClassifier\n",
        "from sklearn.datasets import make_classification\n",
        "from sklearn.model_selection import train_test_split\n",
        "from sklearn.metrics import accuracy_score\n",
        "\n",
        "# Generate synthetic data\n",
        "X, y = make_classification(n_samples=1000, n_features=20, random_state=0)\n",
        "X_train, X_test, y_train, y_test = train_test_split(X, y, test_size=0.3, random_state=0)\n",
        "\n",
        "# Decision Tree\n",
        "tree = DecisionTreeClassifier(random_state=0)\n",
        "tree.fit(X_train, y_train)\n",
        "tree_preds = tree.predict(X_test)\n",
        "\n",
        "# Random Forest\n",
        "forest = RandomForestClassifier(n_estimators=100, random_state=0)\n",
        "forest.fit(X_train, y_train)\n",
        "forest_preds = forest.predict(X_test)\n",
        "\n",
        "print(\"Decision Tree Accuracy:\", accuracy_score(y_test, tree_preds))\n",
        "print(\"Random Forest Accuracy:\", accuracy_score(y_test, forest_preds))\n"
      ],
      "metadata": {
        "id": "1nFXjqg3hnKp"
      },
      "execution_count": null,
      "outputs": []
    },
    {
      "cell_type": "markdown",
      "source": [
        "# **Boosting with AdaBoost**"
      ],
      "metadata": {
        "id": "xW1R_UdvibcL"
      }
    },
    {
      "cell_type": "code",
      "source": [
        "from sklearn.ensemble import AdaBoostClassifier\n",
        "\n",
        "# AdaBoost\n",
        "adaboost = AdaBoostClassifier(base_estimator=DecisionTreeClassifier(max_depth=1), n_estimators=50, random_state=0)\n",
        "adaboost.fit(X_train, y_train)\n",
        "adaboost_preds = adaboost.predict(X_test)\n",
        "\n",
        "print(\"AdaBoost Accuracy:\", accuracy_score(y_test, adaboost_preds))\n"
      ],
      "metadata": {
        "id": "alovCIEUid3G"
      },
      "execution_count": null,
      "outputs": []
    },
    {
      "cell_type": "markdown",
      "source": [
        "# **Voting Classifier**"
      ],
      "metadata": {
        "id": "QhLGfsj9iirK"
      }
    },
    {
      "cell_type": "code",
      "source": [
        "from sklearn.ensemble import VotingClassifier\n",
        "from sklearn.linear_model import LogisticRegression\n",
        "from sklearn.svm import SVC\n",
        "\n",
        "# Base classifiers\n",
        "clf1 = LogisticRegression(random_state=0)\n",
        "clf2 = DecisionTreeClassifier(random_state=0)\n",
        "clf3 = SVC(probability=True, random_state=0)\n",
        "\n",
        "# Voting Classifier\n",
        "voting_clf = VotingClassifier(estimators=[('lr', clf1), ('dt', clf2), ('svc', clf3)], voting='soft')\n",
        "voting_clf.fit(X_train, y_train)\n",
        "voting_preds = voting_clf.predict(X_test)\n",
        "\n",
        "print(\"Voting Classifier Accuracy:\", accuracy_score(y_test, voting_preds))\n"
      ],
      "metadata": {
        "id": "IO9uybT5in3C"
      },
      "execution_count": null,
      "outputs": []
    },
    {
      "cell_type": "markdown",
      "source": [
        "# **Stacking Ensemble**"
      ],
      "metadata": {
        "id": "S0w_gDYujJ3H"
      }
    },
    {
      "cell_type": "code",
      "source": [
        "from sklearn.ensemble import StackingClassifier\n",
        "from sklearn.naive_bayes import GaussianNB\n",
        "\n",
        "# Base classifiers\n",
        "estimators = [('lr', LogisticRegression(random_state=0)),\n",
        "              ('dt', DecisionTreeClassifier(random_state=0))]\n",
        "\n",
        "# Stacking Classifier\n",
        "stacking_clf = StackingClassifier(estimators=estimators, final_estimator=GaussianNB())\n",
        "stacking_clf.fit(X_train, y_train)\n",
        "stacking_preds = stacking_clf.predict(X_test)\n",
        "\n",
        "print(\"Stacking Classifier Accuracy:\", accuracy_score(y_test, stacking_preds))\n"
      ],
      "metadata": {
        "id": "pObt4gFHjL6Y"
      },
      "execution_count": null,
      "outputs": []
    },
    {
      "cell_type": "markdown",
      "source": [
        "# **Gradient Boosting (XGBoost)**"
      ],
      "metadata": {
        "id": "L5iLnzONjOSE"
      }
    },
    {
      "cell_type": "code",
      "source": [
        "from xgboost import XGBClassifier\n",
        "\n",
        "# XGBoost Classifier\n",
        "xgb = XGBClassifier(n_estimators=100, learning_rate=0.1, random_state=0)\n",
        "xgb.fit(X_train, y_train)\n",
        "xgb_preds = xgb.predict(X_test)\n",
        "\n",
        "print(\"XGBoost Accuracy:\", accuracy_score(y_test, xgb_preds))\n"
      ],
      "metadata": {
        "id": "WMj3dDo8jTge"
      },
      "execution_count": null,
      "outputs": []
    },
    {
      "cell_type": "markdown",
      "source": [
        "# **THE END.**"
      ],
      "metadata": {
        "id": "k-r6eF3YjebI"
      }
    },
    {
      "cell_type": "code",
      "source": [],
      "metadata": {
        "id": "USBqscl0jjNK"
      },
      "execution_count": null,
      "outputs": []
    }
  ]
}