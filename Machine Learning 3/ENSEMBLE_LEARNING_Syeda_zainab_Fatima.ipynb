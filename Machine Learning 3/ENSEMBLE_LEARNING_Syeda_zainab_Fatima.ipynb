{
  "nbformat": 4,
  "nbformat_minor": 0,
  "metadata": {
    "colab": {
      "provenance": []
    },
    "kernelspec": {
      "name": "python3",
      "display_name": "Python 3"
    },
    "language_info": {
      "name": "python"
    }
  },
  "cells": [
    {
      "cell_type": "code",
      "execution_count": null,
      "metadata": {
        "id": "YJU2886ba2-Y"
      },
      "outputs": [],
      "source": [
        "# SYEDA ZAINAB FATIMA\n",
        "# W25-PAK-INP-AI-01"
      ]
    },
    {
      "cell_type": "code",
      "source": [
        "# ENSEMBLE LEARNING"
      ],
      "metadata": {
        "id": "52sO7jS4bdJg"
      },
      "execution_count": null,
      "outputs": []
    },
    {
      "cell_type": "code",
      "source": [
        "from sklearn.datasets import make_classification\n",
        "from sklearn.model_selection import train_test_split\n",
        "from sklearn.ensemble import VotingClassifier\n",
        "from sklearn.tree import DecisionTreeClassifier\n",
        "from sklearn.linear_model import LogisticRegression\n",
        "from sklearn.metrics import accuracy_score\n",
        "\n",
        "# Generate a synthetic dataset\n",
        "X, y = make_classification(n_samples=500, n_features=5, n_classes=2, random_state=42)\n",
        "\n",
        "# Split the dataset into training and testing sets\n",
        "X_train, X_test, y_train, y_test = train_test_split(X, y, test_size=0.3, random_state=42)\n",
        "\n",
        "# Create two models\n",
        "model1 = DecisionTreeClassifier()\n",
        "model2 = LogisticRegression(max_iter=200)\n",
        "\n",
        "# Create an ensemble using VotingClassifier\n",
        "ensemble = VotingClassifier(estimators=[\n",
        "    ('decision_tree', model1),\n",
        "    ('logistic_regression', model2)\n",
        "])\n",
        "\n",
        "# Train the ensemble\n",
        "ensemble.fit(X_train, y_train)\n",
        "\n",
        "# Make predictions\n",
        "y_pred = ensemble.predict(X_test)\n",
        "\n",
        "# Print the accuracy\n",
        "print(f\"Accuracy: {accuracy_score(y_test, y_pred):.2f}\")"
      ],
      "metadata": {
        "colab": {
          "base_uri": "https://localhost:8080/"
        },
        "id": "eG15JMULdrSR",
        "outputId": "986954e0-2176-4b9b-9d1b-5eab58dee9e1"
      },
      "execution_count": null,
      "outputs": [
        {
          "output_type": "stream",
          "name": "stdout",
          "text": [
            "Accuracy: 0.93\n"
          ]
        }
      ]
    }
  ]
}