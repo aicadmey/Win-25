{
  "nbformat": 4,
  "nbformat_minor": 0,
  "metadata": {
    "colab": {
      "provenance": []
    },
    "kernelspec": {
      "name": "python3",
      "display_name": "Python 3"
    },
    "language_info": {
      "name": "python"
    }
  },
  "cells": [
    {
      "cell_type": "markdown",
      "source": [
        "Mathematics into coding"
      ],
      "metadata": {
        "id": "fYhJQYsBJlxr"
      }
    },
    {
      "cell_type": "code",
      "execution_count": null,
      "metadata": {
        "colab": {
          "base_uri": "https://localhost:8080/"
        },
        "id": "ty_nFuK4Gwsx",
        "outputId": "e1ef96e3-9966-4b65-9d76-e28ce73ae46b"
      },
      "outputs": [
        {
          "output_type": "stream",
          "name": "stdout",
          "text": [
            "Accuracy: 0.45\n"
          ]
        }
      ],
      "source": [
        "import numpy as np\n",
        "import pandas as pd\n",
        "from sklearn.model_selection import train_test_split\n",
        "from sklearn.ensemble import RandomForestClassifier, RandomForestRegressor\n",
        "from sklearn.metrics import accuracy_score, mean_squared_error\n",
        "\n",
        "# Generate synthetic data\n",
        "np.random.seed(42)\n",
        "X = np.random.rand(100, 5)  # 100 samples, 5 features\n",
        "y = np.random.randint(2, size=100)  # Binary classification\n",
        "\n",
        "# Split into training and testing\n",
        "X_train, X_test, y_train, y_test = train_test_split(X, y, test_size=0.2, random_state=42)\n",
        "\n",
        "# Create Random Forest Classifier\n",
        "model = RandomForestClassifier(n_estimators=10, random_state=42)\n",
        "\n",
        "# Train the model\n",
        "model.fit(X_train, y_train)\n",
        "\n",
        "# Predict\n",
        "y_pred = model.predict(X_test)\n",
        "\n",
        "# Evaluate\n",
        "print(\"Accuracy:\", accuracy_score(y_test, y_pred))\n"
      ]
    },
    {
      "cell_type": "markdown",
      "source": [
        "Eperiment1"
      ],
      "metadata": {
        "id": "3JFt8kWOJpcO"
      }
    },
    {
      "cell_type": "code",
      "source": [
        "# Assume fake data: Satellite features and failure status\n",
        "data = pd.DataFrame({\n",
        "    'weight': np.random.uniform(500, 1000, 200),  # kg\n",
        "    'fuel': np.random.uniform(100, 300, 200),     # liters\n",
        "    'altitude': np.random.uniform(200, 1000, 200),  # km\n",
        "    'failure': np.random.choice([0, 1], 200)      # 0 = No, 1 = Yes\n",
        "})\n",
        "X = data[['weight', 'fuel', 'altitude']]\n",
        "y = data['failure']\n",
        "\n",
        "# Train Random Forest Classifier\n",
        "X_train, X_test, y_train, y_test = train_test_split(X, y, test_size=0.2, random_state=42)\n",
        "model = RandomForestClassifier(n_estimators=100, random_state=42)\n",
        "model.fit(X_train, y_train)\n",
        "print(\"Space Prediction Accuracy:\", accuracy_score(y_test, model.predict(X_test)))\n"
      ],
      "metadata": {
        "colab": {
          "base_uri": "https://localhost:8080/"
        },
        "id": "cwbiKUABJrQI",
        "outputId": "0fd9038b-94b2-4eca-c3a3-7fdef8baa7dd"
      },
      "execution_count": null,
      "outputs": [
        {
          "output_type": "stream",
          "name": "stdout",
          "text": [
            "Space Prediction Accuracy: 0.625\n"
          ]
        }
      ]
    },
    {
      "cell_type": "markdown",
      "source": [
        "experiment2"
      ],
      "metadata": {
        "id": "x69RX3PlJsEm"
      }
    },
    {
      "cell_type": "code",
      "source": [
        "# Fake network traffic data\n",
        "data = pd.DataFrame({\n",
        "    'packets': np.random.randint(50, 200, 300),\n",
        "    'bandwidth': np.random.uniform(1, 10, 300),  # MB/s\n",
        "    'time_active': np.random.uniform(1, 24, 300),  # hours\n",
        "    'anomaly': np.random.choice([0, 1], 300)      # 0 = Normal, 1 = Anomaly\n",
        "})\n",
        "X = data[['packets', 'bandwidth', 'time_active']]\n",
        "y = data['anomaly']\n",
        "\n",
        "# Train Random Forest Classifier\n",
        "X_train, X_test, y_train, y_test = train_test_split(X, y, test_size=0.2, random_state=42)\n",
        "model = RandomForestClassifier(n_estimators=50, random_state=42)\n",
        "model.fit(X_train, y_train)\n",
        "print(\"Hacking Detection Accuracy:\", accuracy_score(y_test, model.predict(X_test)))\n"
      ],
      "metadata": {
        "colab": {
          "base_uri": "https://localhost:8080/"
        },
        "id": "88jZUnwVJtZU",
        "outputId": "4a1dfeb0-c835-495a-84e0-e39d2d05acf6"
      },
      "execution_count": null,
      "outputs": [
        {
          "output_type": "stream",
          "name": "stdout",
          "text": [
            "Hacking Detection Accuracy: 0.55\n"
          ]
        }
      ]
    },
    {
      "cell_type": "markdown",
      "source": [
        "experiment3"
      ],
      "metadata": {
        "id": "BSM10CCGJuJD"
      }
    },
    {
      "cell_type": "code",
      "source": [
        "# Fake species data\n",
        "data = pd.DataFrame({\n",
        "    'length': np.random.uniform(5, 30, 150),  # cm\n",
        "    'weight': np.random.uniform(1, 10, 150),  # kg\n",
        "    'speed': np.random.uniform(1, 15, 150),   # m/s\n",
        "    'species': np.random.choice(['A', 'B', 'C'], 150)\n",
        "})\n",
        "X = data[['length', 'weight', 'speed']]\n",
        "y = data['species']\n",
        "\n",
        "# Encode species to numeric\n",
        "y = pd.factorize(y)[0]\n",
        "\n",
        "# Train Random Forest Classifier\n",
        "X_train, X_test, y_train, y_test = train_test_split(X, y, test_size=0.2, random_state=42)\n",
        "model = RandomForestClassifier(n_estimators=30, random_state=42)\n",
        "model.fit(X_train, y_train)\n",
        "print(\"Species Classification Accuracy:\", accuracy_score(y_test, model.predict(X_test)))\n"
      ],
      "metadata": {
        "colab": {
          "base_uri": "https://localhost:8080/"
        },
        "id": "rsSPzEntJwAs",
        "outputId": "acf43a56-f492-4735-f05e-167aa433e021"
      },
      "execution_count": null,
      "outputs": [
        {
          "output_type": "stream",
          "name": "stdout",
          "text": [
            "Species Classification Accuracy: 0.3\n"
          ]
        }
      ]
    },
    {
      "cell_type": "markdown",
      "source": [
        "experiment4"
      ],
      "metadata": {
        "id": "ltMHEhQYJwav"
      }
    },
    {
      "cell_type": "code",
      "source": [
        "# Fake symptom data\n",
        "data = pd.DataFrame({\n",
        "    'fever': np.random.randint(0, 2, 100),\n",
        "    'cough': np.random.randint(0, 2, 100),\n",
        "    'fatigue': np.random.randint(0, 2, 100),\n",
        "    'disease': np.random.choice([0, 1], 100)  # 0 = Healthy, 1 = Sick\n",
        "})\n",
        "X = data[['fever', 'cough', 'fatigue']]\n",
        "y = data['disease']\n",
        "\n",
        "# Train Random Forest\n",
        "X_train, X_test, y_train, y_test = train_test_split(X, y, test_size=0.2, random_state=42)\n",
        "model = RandomForestClassifier(n_estimators=20, random_state=42)\n",
        "model.fit(X_train, y_train)\n",
        "print(\"Disease Prediction Accuracy:\", accuracy_score(y_test, model.predict(X_test)))\n"
      ],
      "metadata": {
        "colab": {
          "base_uri": "https://localhost:8080/"
        },
        "id": "l5PmBZaDJx7i",
        "outputId": "7f64384c-332c-4205-970a-58234d8a2473"
      },
      "execution_count": null,
      "outputs": [
        {
          "output_type": "stream",
          "name": "stdout",
          "text": [
            "Disease Prediction Accuracy: 0.3\n"
          ]
        }
      ]
    },
    {
      "cell_type": "markdown",
      "source": [
        "experiment5"
      ],
      "metadata": {
        "id": "HFvdy3aWJyTe"
      }
    },
    {
      "cell_type": "code",
      "source": [
        "# Fake alien planet data\n",
        "data = pd.DataFrame({\n",
        "    'temperature': np.random.uniform(-50, 50, 100),  # Celsius\n",
        "    'water_content': np.random.uniform(0, 100, 100),  # %\n",
        "    'oxygen_level': np.random.uniform(0, 21, 100),  # %\n",
        "    'habitable': np.random.choice([0, 1], 100)  # 0 = No, 1 = Yes\n",
        "})\n",
        "X = data[['temperature', 'water_content', 'oxygen_level']]\n",
        "y = data['habitable']\n",
        "\n",
        "# Train Random Forest Classifier\n",
        "X_train, X_test, y_train, y_test = train_test_split(X, y, test_size=0.2, random_state=42)\n",
        "model = RandomForestClassifier(n_estimators=25, random_state=42)\n",
        "model.fit(X_train, y_train)\n",
        "print(\"Alien Habitability Prediction Accuracy:\", accuracy_score(y_test, model.predict(X_test)))\n"
      ],
      "metadata": {
        "colab": {
          "base_uri": "https://localhost:8080/"
        },
        "id": "ZJOqKRXgJzv8",
        "outputId": "0ba094f4-86c0-4f4f-e312-cdd3e6bccb2d"
      },
      "execution_count": null,
      "outputs": [
        {
          "output_type": "stream",
          "name": "stdout",
          "text": [
            "Alien Habitability Prediction Accuracy: 0.4\n"
          ]
        }
      ]
    }
  ]
}