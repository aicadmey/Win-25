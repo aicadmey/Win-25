{
  "nbformat": 4,
  "nbformat_minor": 0,
  "metadata": {
    "colab": {
      "provenance": []
    },
    "kernelspec": {
      "name": "python3",
      "display_name": "Python 3"
    },
    "language_info": {
      "name": "python"
    }
  },
  "cells": [
    {
      "cell_type": "code",
      "source": [
        "import numpy as np\n",
        "from cvxopt import matrix, solvers\n",
        "\n",
        "class SVM:\n",
        "    def __init__(self):\n",
        "        self.w = None\n",
        "        self.b = None\n",
        "        self.alphas = None\n",
        "        self.sv_X = None\n",
        "        self.sv_y = None\n",
        "\n",
        "    def fit(self, X, y):\n",
        "        \"\"\"\n",
        "        Train the SVM model using quadratic programming.\n",
        "        \"\"\"\n",
        "        n_samples, n_features = X.shape\n",
        "\n",
        "\n",
        "        y = y.astype(float).reshape(-1, 1)\n",
        "\n",
        "        K = np.dot(X, X.T) * (y @ y.T)  # Kernel matrix\n",
        "        P = matrix(K)\n",
        "        q = matrix(-np.ones((n_samples, 1)))\n",
        "        G = matrix(-np.eye(n_samples))\n",
        "        h = matrix(np.zeros(n_samples))\n",
        "        A = matrix(y.T)\n",
        "        b = matrix(np.zeros(1))\n",
        "\n",
        "        solvers.options['show_progress'] = False\n",
        "        solution = solvers.qp(P, q, G, h, A, b)\n",
        "        alphas = np.array(solution['x']).flatten()\n",
        "\n",
        "        sv = alphas > 1e-5\n",
        "        self.alphas = alphas[sv]\n",
        "        self.sv_X = X[sv]\n",
        "        self.sv_y = y[sv]\n",
        "\n",
        "        # Compute weight vector (w)\n",
        "        self.w = np.sum(self.alphas[:, None] * self.sv_y * self.sv_X, axis=0)\n",
        "\n",
        "        # Compute bias term (b)\n",
        "        self.b = np.mean(self.sv_y - np.dot(self.sv_X, self.w))\n",
        "\n",
        "    def predict(self, X):\n",
        "        \"\"\"\n",
        "        Predict labels for input samples.\n",
        "        \"\"\"\n",
        "        return np.sign(np.dot(X, self.w) + self.b)\n",
        "\n",
        "\n",
        "if __name__ == \"__main__\":\n",
        "    # Training data\n",
        "    X = np.array([[2, 3], [1, 1], [2, 1], [5, 6], [6, 6], [6, 7]])\n",
        "    y = np.array([-1, -1, -1, 1, 1, 1])  # Class labels\n",
        "\n",
        "\n",
        "    svm = SVM()\n",
        "    svm.fit(X, y)\n",
        "\n",
        "\n",
        "    X_test = np.array([[3, 3], [4, 5]])\n",
        "    predictions = svm.predict(X_test)\n",
        "\n",
        "\n",
        "    print(\"Test Samples:\")\n",
        "    for i, x in enumerate(X_test):\n",
        "        print(f\"Sample {i + 1}: {x}, Predicted Class: {predictions[i]}\")"
      ],
      "metadata": {
        "colab": {
          "base_uri": "https://localhost:8080/"
        },
        "id": "B5PA_ORnRI4l",
        "outputId": "fa7ac17b-04cf-43f4-f8ec-6ba256072ec0"
      },
      "execution_count": null,
      "outputs": [
        {
          "output_type": "stream",
          "name": "stdout",
          "text": [
            "Test Samples:\n",
            "Sample 1: [3 3], Predicted Class: -1.0\n",
            "Sample 2: [4 5], Predicted Class: 1.0\n"
          ]
        }
      ]
    }
  ]
}