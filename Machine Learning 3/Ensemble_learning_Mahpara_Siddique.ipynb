{
  "nbformat": 4,
  "nbformat_minor": 0,
  "metadata": {
    "colab": {
      "provenance": []
    },
    "kernelspec": {
      "name": "python3",
      "display_name": "Python 3"
    },
    "language_info": {
      "name": "python"
    }
  },
  "cells": [
    {
      "cell_type": "markdown",
      "source": [
        "maths t code"
      ],
      "metadata": {
        "id": "kUXRkM3LBEC2"
      }
    },
    {
      "cell_type": "code",
      "execution_count": null,
      "metadata": {
        "colab": {
          "base_uri": "https://localhost:8080/"
        },
        "id": "ydOy1FYHA-bB",
        "outputId": "fc48fa7a-1936-4f97-dc1f-83b13934946f"
      },
      "outputs": [
        {
          "output_type": "stream",
          "name": "stdout",
          "text": [
            "Accuracy of Model 1: 0.93\n",
            "Accuracy of Model 2: 0.93\n",
            "Accuracy of Model 3: 0.90\n",
            "Ensemble Accuracy: 0.94\n"
          ]
        }
      ],
      "source": [
        "# Importing libraries\n",
        "import numpy as np\n",
        "from sklearn.datasets import make_classification\n",
        "from sklearn.model_selection import train_test_split\n",
        "from sklearn.tree import DecisionTreeClassifier\n",
        "from sklearn.svm import SVC\n",
        "from sklearn.linear_model import LogisticRegression\n",
        "from sklearn.metrics import accuracy_score\n",
        "\n",
        "# Create dataset\n",
        "X, y = make_classification(n_samples=500, n_features=5, random_state=42)\n",
        "X_train, X_test, y_train, y_test = train_test_split(X, y, test_size=0.3, random_state=42)\n",
        "\n",
        "# Initialize models\n",
        "model1 = DecisionTreeClassifier()\n",
        "model2 = SVC(probability=True)\n",
        "model3 = LogisticRegression()\n",
        "\n",
        "# Train models\n",
        "model1.fit(X_train, y_train)\n",
        "model2.fit(X_train, y_train)\n",
        "model3.fit(X_train, y_train)\n",
        "\n",
        "# Predict using individual models\n",
        "pred1 = model1.predict(X_test)\n",
        "pred2 = model2.predict(X_test)\n",
        "pred3 = model3.predict(X_test)\n",
        "\n",
        "# Ensemble Voting (majority voting)\n",
        "final_preds = np.array([np.argmax(np.bincount([pred1[i], pred2[i], pred3[i]])) for i in range(len(y_test))])\n",
        "\n",
        "# Evaluate accuracy\n",
        "print(f\"Accuracy of Model 1: {accuracy_score(y_test, pred1):.2f}\")\n",
        "print(f\"Accuracy of Model 2: {accuracy_score(y_test, pred2):.2f}\")\n",
        "print(f\"Accuracy of Model 3: {accuracy_score(y_test, pred3):.2f}\")\n",
        "print(f\"Ensemble Accuracy: {accuracy_score(y_test, final_preds):.2f}\")\n"
      ]
    },
    {
      "cell_type": "markdown",
      "source": [
        "experiment 1"
      ],
      "metadata": {
        "id": "KVFcyz-aBIvh"
      }
    },
    {
      "cell_type": "code",
      "source": [
        "import numpy as np\n",
        "from sklearn.ensemble import RandomForestClassifier\n",
        "from sklearn.model_selection import train_test_split\n",
        "from sklearn.metrics import accuracy_score\n",
        "\n",
        "# Generate simulated data: habitability based on features\n",
        "X = np.random.rand(500, 4) * [300, 0.9, 1.5, 10]  # (Temp, Atmosphere, Distance, Water)\n",
        "y = (X[:, 0] < 250) & (X[:, 1] > 0.3) & (X[:, 2] < 1.0) & (X[:, 3] > 5)  # Habitability rules\n",
        "y = y.astype(int)\n",
        "\n",
        "# Split data\n",
        "X_train, X_test, y_train, y_test = train_test_split(X, y, test_size=0.3, random_state=42)\n",
        "\n",
        "# Train ensemble model\n",
        "rf_model = RandomForestClassifier(n_estimators=100, random_state=42)\n",
        "rf_model.fit(X_train, y_train)\n",
        "\n",
        "# Predict and evaluate\n",
        "y_pred = rf_model.predict(X_test)\n",
        "print(f\"Space Habitability Model Accuracy: {accuracy_score(y_test, y_pred):.2f}\")\n"
      ],
      "metadata": {
        "colab": {
          "base_uri": "https://localhost:8080/"
        },
        "id": "aTLvy7u7BKDA",
        "outputId": "44358992-182b-4fb0-b8fc-d1269a517f59"
      },
      "execution_count": null,
      "outputs": [
        {
          "output_type": "stream",
          "name": "stdout",
          "text": [
            "Space Habitability Model Accuracy: 0.99\n"
          ]
        }
      ]
    },
    {
      "cell_type": "markdown",
      "source": [
        "experiment2"
      ],
      "metadata": {
        "id": "mjsbwjNWBKi0"
      }
    },
    {
      "cell_type": "code",
      "source": [
        "from sklearn.ensemble import GradientBoostingClassifier\n",
        "from sklearn.datasets import make_classification\n",
        "from sklearn.model_selection import train_test_split\n",
        "from sklearn.metrics import accuracy_score\n",
        "\n",
        "# Simulate network traffic data\n",
        "X, y = make_classification(n_samples=1000, n_features=6, n_informative=4, random_state=42)\n",
        "# Mark 10% of the data as anomalies\n",
        "y[:100] = 1 - y[:100]\n",
        "\n",
        "# Split data\n",
        "X_train, X_test, y_train, y_test = train_test_split(X, y, test_size=0.3, random_state=42)\n",
        "\n",
        "# Train Gradient Boosting model\n",
        "gb_model = GradientBoostingClassifier(n_estimators=100, learning_rate=0.1, random_state=42)\n",
        "gb_model.fit(X_train, y_train)\n",
        "\n",
        "# Predict and evaluate\n",
        "y_pred = gb_model.predict(X_test)\n",
        "print(f\"Hacking Detection Model Accuracy: {accuracy_score(y_test, y_pred):.2f}\")\n"
      ],
      "metadata": {
        "colab": {
          "base_uri": "https://localhost:8080/"
        },
        "id": "EGqIuUmDBL3G",
        "outputId": "1d697060-495d-4385-e89a-84a02f85ccca"
      },
      "execution_count": null,
      "outputs": [
        {
          "output_type": "stream",
          "name": "stdout",
          "text": [
            "Hacking Detection Model Accuracy: 0.80\n"
          ]
        }
      ]
    },
    {
      "cell_type": "markdown",
      "source": [
        "experiment3"
      ],
      "metadata": {
        "id": "vdRmOLAIBM3U"
      }
    },
    {
      "cell_type": "code",
      "source": [
        "from sklearn.ensemble import VotingClassifier\n",
        "from sklearn.tree import DecisionTreeClassifier\n",
        "from sklearn.svm import SVC\n",
        "from sklearn.linear_model import LogisticRegression\n",
        "\n",
        "# Simulated data for species adaptation\n",
        "np.random.seed(42)\n",
        "X = np.random.rand(500, 5) * [100, 10, 5, 50, 30]  # (traits: size, agility, etc.)\n",
        "y = (X[:, 0] < 60) & (X[:, 1] > 5) & (X[:, 2] < 3)  # Adaptation rule\n",
        "y = y.astype(int)\n",
        "\n",
        "# Split data\n",
        "X_train, X_test, y_train, y_test = train_test_split(X, y, test_size=0.3, random_state=42)\n",
        "\n",
        "# Define models\n",
        "model1 = DecisionTreeClassifier(random_state=42)\n",
        "model2 = SVC(probability=True, random_state=42)\n",
        "model3 = LogisticRegression(random_state=42)\n",
        "\n",
        "# Ensemble using VotingClassifier\n",
        "ensemble_model = VotingClassifier(estimators=[\n",
        "    ('dt', model1), ('svc', model2), ('lr', model3)], voting='soft')\n",
        "ensemble_model.fit(X_train, y_train)\n",
        "\n",
        "# Predict and evaluate\n",
        "y_pred = ensemble_model.predict(X_test)\n",
        "print(f\"Species Adaptation Model Accuracy: {accuracy_score(y_test, y_pred):.2f}\")\n"
      ],
      "metadata": {
        "colab": {
          "base_uri": "https://localhost:8080/"
        },
        "id": "ZBe_PaJPBOSI",
        "outputId": "817d6c27-75cc-419b-cc91-73ea3ba05d6b"
      },
      "execution_count": null,
      "outputs": [
        {
          "output_type": "stream",
          "name": "stdout",
          "text": [
            "Species Adaptation Model Accuracy: 0.94\n"
          ]
        }
      ]
    },
    {
      "cell_type": "markdown",
      "source": [
        "experiment4"
      ],
      "metadata": {
        "id": "xw3Q51yrBO9B"
      }
    },
    {
      "cell_type": "code",
      "source": [
        "from sklearn.ensemble import BaggingClassifier\n",
        "from sklearn.datasets import make_classification\n",
        "\n",
        "# Simulated medical data\n",
        "X, y = make_classification(n_samples=500, n_features=6, n_informative=4, random_state=42)\n",
        "# Split data\n",
        "X_train, X_test, y_train, y_test = train_test_split(X, y, test_size=0.3, random_state=42)\n",
        "\n",
        "# Bagging Classifier with Decision Trees\n",
        "bagging_model = BaggingClassifier(n_estimators=50, random_state=42)\n",
        "bagging_model.fit(X_train, y_train)\n",
        "\n",
        "# Predict and evaluate\n",
        "y_pred = bagging_model.predict(X_test)\n",
        "print(f\"Disease Classification Model Accuracy: {accuracy_score(y_test, y_pred):.2f}\")\n"
      ],
      "metadata": {
        "colab": {
          "base_uri": "https://localhost:8080/"
        },
        "id": "OSug-oagBQan",
        "outputId": "1a5e09e1-ba8f-45f1-c3d7-20121269a870"
      },
      "execution_count": null,
      "outputs": [
        {
          "output_type": "stream",
          "name": "stdout",
          "text": [
            "Disease Classification Model Accuracy: 0.86\n"
          ]
        }
      ]
    },
    {
      "cell_type": "markdown",
      "source": [
        "experiment5"
      ],
      "metadata": {
        "id": "sucZKQFyBQ8z"
      }
    },
    {
      "cell_type": "code",
      "source": [
        "from sklearn.ensemble import AdaBoostClassifier\n",
        "\n",
        "# Simulated data: alien signals vs noise\n",
        "X = np.random.rand(1000, 5)  # Signal features\n",
        "y = np.random.choice([0, 1], size=1000, p=[0.7, 0.3])  # 30% chance of alien signal\n",
        "\n",
        "# Split data\n",
        "X_train, X_test, y_train, y_test = train_test_split(X, y, test_size=0.3, random_state=42)\n",
        "\n",
        "# Train AdaBoost model\n",
        "adaboost_model = AdaBoostClassifier(n_estimators=100, random_state=42)\n",
        "adaboost_model.fit(X_train, y_train)\n",
        "\n",
        "# Predict and evaluate\n",
        "y_pred = adaboost_model.predict(X_test)\n",
        "print(f\"Alien Signal Classification Model Accuracy: {accuracy_score(y_test, y_pred):.2f}\")\n"
      ],
      "metadata": {
        "colab": {
          "base_uri": "https://localhost:8080/"
        },
        "id": "-HZ1wzVfBStv",
        "outputId": "f8e0225d-67e2-49e1-a7ba-1eb5a58ed99a"
      },
      "execution_count": null,
      "outputs": [
        {
          "output_type": "stream",
          "name": "stdout",
          "text": [
            "Alien Signal Classification Model Accuracy: 0.72\n"
          ]
        }
      ]
    }
  ]
}