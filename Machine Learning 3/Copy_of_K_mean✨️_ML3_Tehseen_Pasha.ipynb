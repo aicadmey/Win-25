{
  "nbformat": 4,
  "nbformat_minor": 0,
  "metadata": {
    "colab": {
      "provenance": []
    },
    "kernelspec": {
      "name": "python3",
      "display_name": "Python 3"
    },
    "language_info": {
      "name": "python"
    }
  },
  "cells": [
    {
      "cell_type": "code",
      "source": [
        "import numpy as np\n",
        "\n",
        "class SpaceKMeans:\n",
        "    def __init__(self, k=2, max_iterations=100, tol=1e-4):\n",
        "        self.k = k\n",
        "        self.max_iterations = max_iterations\n",
        "        self.tol = tol\n",
        "\n",
        "    def fit(self, space_objects):\n",
        "        np.random.seed(42)\n",
        "\n",
        "        self.centroids = space_objects[np.random.choice(space_objects.shape[0], self.k, replace=False)]\n",
        "\n",
        "        for iteration in range(self.max_iterations):\n",
        "            # Compute the distance matrix (distance from space objects to centroids)\n",
        "            distance_matrix = self._compute_distances(space_objects)\n",
        "\n",
        "\n",
        "            self.labels = np.argmin(distance_matrix, axis=1)\n",
        "\n",
        "\n",
        "            new_centroids = np.array([space_objects[self.labels == i].mean(axis=0) for i in range(self.k)])\n",
        "\n",
        "\n",
        "            if np.all(np.linalg.norm(new_centroids - self.centroids, axis=1) < self.tol):\n",
        "                break\n",
        "\n",
        "            self.centroids = new_centroids\n",
        "\n",
        "    def _compute_distances(self, space_objects):\n",
        "\n",
        "        return np.sqrt(((space_objects[:, None, :] - self.centroids[None, :, :]) ** 2).sum(axis=2))\n",
        "\n",
        "    def predict(self, new_space_objects):\n",
        "\n",
        "        distance_matrix = self._compute_distances(new_space_objects)\n",
        "        return np.argmin(distance_matrix, axis=1)\n",
        "\n",
        "\n",
        "if __name__ == \"__main__\":\n",
        "\n",
        "    space_objects = np.array([\n",
        "        [1, 2], [2, 3], [3, 1],    # Cluster 1\n",
        "        [10, 10], [11, 12], [12, 10],  # Cluster 2\n",
        "        [20, 20], [21, 19], [22, 21]   # Cluster 3\n",
        "    ])\n",
        "\n",
        "\n",
        "    space_kmeans = SpaceKMeans(k=3)\n",
        "    space_kmeans.fit(space_objects)\n",
        "\n",
        "\n",
        "    print(\"Space Cluster Centroids:\\n\", space_kmeans.centroids)\n",
        "    print(\"Cluster Assignments (Labels):\", space_kmeans.labels)\n",
        "\n",
        "\n",
        "    new_space_objects = np.array([[2, 2], [11, 11], [21, 20]])\n",
        "    predictions = space_kmeans.predict(new_space_objects)\n",
        "    print(\"Predictions for new space objects:\", predictions)"
      ],
      "metadata": {
        "colab": {
          "base_uri": "https://localhost:8080/"
        },
        "id": "iA4YgOjCUoQI",
        "outputId": "e4146dd9-4c7d-4dd8-ce8d-f9fe22e25048"
      },
      "execution_count": null,
      "outputs": [
        {
          "output_type": "stream",
          "name": "stdout",
          "text": [
            "Space Cluster Centroids:\n",
            " [[21.         20.        ]\n",
            " [ 2.          2.        ]\n",
            " [11.         10.66666667]]\n",
            "Cluster Assignments (Labels): [1 1 1 2 2 2 0 0 0]\n",
            "Predictions for new space objects: [1 2 0]\n"
          ]
        }
      ]
    }
  ]
}