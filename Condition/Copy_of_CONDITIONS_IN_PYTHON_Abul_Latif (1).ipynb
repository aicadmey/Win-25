{
  "nbformat": 4,
  "nbformat_minor": 0,
  "metadata": {
    "colab": {
      "provenance": [],
      "toc_visible": true
    },
    "kernelspec": {
      "name": "python3",
      "display_name": "Python 3"
    },
    "language_info": {
      "name": "python"
    }
  },
  "cells": [
    {
      "cell_type": "code",
      "execution_count": null,
      "metadata": {
        "colab": {
          "base_uri": "https://localhost:8080/"
        },
        "id": "fpAsOO1AJHcM",
        "outputId": "b9930282-3821-4c60-b030-8bcb13573ee8"
      },
      "outputs": [
        {
          "output_type": "stream",
          "name": "stdout",
          "text": [
            "The planet is in the habitable zone.\n"
          ]
        }
      ],
      "source": [
        "planet_temperature = 22\n",
        "if 15 <= planet_temperature <= 25:\n",
        "    print(\"The planet is in the habitable zone.\")\n"
      ]
    },
    {
      "cell_type": "code",
      "source": [
        "altitude = 400\n",
        "if altitude > 300:\n",
        "    print(\"The spacecraft is beyond Earth's atmosphere.\")\n"
      ],
      "metadata": {
        "colab": {
          "base_uri": "https://localhost:8080/"
        },
        "id": "cvJvugywKLQt",
        "outputId": "8ef90e33-b145-4f60-cf36-c1f559b1070c"
      },
      "execution_count": null,
      "outputs": [
        {
          "output_type": "stream",
          "name": "stdout",
          "text": [
            "The spacecraft is beyond Earth's atmosphere.\n"
          ]
        }
      ]
    },
    {
      "cell_type": "code",
      "source": [
        "velocity = 8.5\n",
        "if velocity >= 7.8 and velocity <= 8.5:\n",
        "    print(\"The spacecraft is in orbit around the planet.\")\n"
      ],
      "metadata": {
        "id": "yPMNCIrnK8j8"
      },
      "execution_count": null,
      "outputs": []
    },
    {
      "cell_type": "code",
      "source": [
        "planet_moons = -1\n",
        "if planet_moons > 1:\n",
        "    print(\"The planet has at least one moon.\")\n"
      ],
      "metadata": {
        "id": "Ks0gbUacKl6D"
      },
      "execution_count": null,
      "outputs": []
    },
    {
      "cell_type": "code",
      "source": [
        "star_temperature = 3500\n",
        "if star_temperature < 5000:\n",
        "    print(\"The star is a red giant.\")\n"
      ],
      "metadata": {
        "id": "suefSnFbKyeb"
      },
      "execution_count": null,
      "outputs": []
    },
    {
      "cell_type": "code",
      "source": [
        "obstacle_detected =False\n",
        "if obstacle_detected:\n",
        "    print(\"Obstacle detected, stopping the robot.\")\n"
      ],
      "metadata": {
        "id": "p7OieSwFLJQ9"
      },
      "execution_count": null,
      "outputs": []
    },
    {
      "cell_type": "code",
      "source": [
        "battery_level = 15  # in percentage\n",
        "if battery_level < 20:\n",
        "    print(\"Battery is low. Returning to base for charging.\")\n"
      ],
      "metadata": {
        "colab": {
          "base_uri": "https://localhost:8080/"
        },
        "id": "i6iVSvawLjLe",
        "outputId": "4f01054a-2354-4302-9778-a212f11fe19c"
      },
      "execution_count": null,
      "outputs": [
        {
          "output_type": "stream",
          "name": "stdout",
          "text": [
            "Battery is low. Returning to base for charging.\n"
          ]
        }
      ]
    },
    {
      "cell_type": "code",
      "source": [
        "mode = \"auto\"\n",
        "if mode == \"auto\":\n",
        "    print(\"The robot is operating in automatic mode.\")\n"
      ],
      "metadata": {
        "id": "YoUhe0CbMEU0"
      },
      "execution_count": null,
      "outputs": []
    },
    {
      "cell_type": "code",
      "source": [
        "distance_to_target = 50  # in centimeters\n",
        "if distance_to_target < 10:\n",
        "    print(\"Robot is within range of the target.\")\n",
        "\n",
        "\n"
      ],
      "metadata": {
        "id": "m_kufu7QMNbg"
      },
      "execution_count": null,
      "outputs": []
    },
    {
      "cell_type": "code",
      "source": [
        "sensors_calibrated = True\n",
        "if not sensors_calibrated:\n",
        "    print(\". Please calibrate the sensors before proceeding.\")\n"
      ],
      "metadata": {
        "id": "W9CQUySpMV3I"
      },
      "execution_count": null,
      "outputs": []
    },
    {
      "cell_type": "code",
      "source": [
        "# ifel condition codes"
      ],
      "metadata": {
        "id": "UgrRidAGMnxU"
      },
      "execution_count": null,
      "outputs": []
    },
    {
      "cell_type": "code",
      "source": [
        "age=20\n",
        "if age == 21 :\n",
        "   print (\"you are not able to play\" )\n",
        "elif age==18:\n",
        "   print (\" u are not able to come here \")\n",
        "else:\n",
        "    print (\" get out boy\")\n"
      ],
      "metadata": {
        "colab": {
          "base_uri": "https://localhost:8080/"
        },
        "id": "24yKPCyTM4gW",
        "outputId": "95e492d4-e8d2-48c7-c478-ef12fe31084e"
      },
      "execution_count": null,
      "outputs": [
        {
          "output_type": "stream",
          "name": "stdout",
          "text": [
            " get out boy\n"
          ]
        }
      ]
    },
    {
      "cell_type": "code",
      "source": [
        "num = -5\n",
        "if num > 0:\n",
        "    print(\"Positive number\")\n",
        "elif num < 0:\n",
        "    print(\"Negative number\")\n",
        "else:\n",
        "    print(\"Zero\")\n"
      ],
      "metadata": {
        "id": "kLehHW3TM4vk"
      },
      "execution_count": null,
      "outputs": []
    },
    {
      "cell_type": "code",
      "source": [
        "weather = \"cloudy\"\n",
        "if weather == \"sunny\":\n",
        "    print(\"Wear sunglasses!\")\n",
        "elif weather == \"rainy\":\n",
        "    print(\"Don't forget your umbrella.\")\n",
        "elif weather == \"cloudy\":\n",
        "    print(\"It might rain later.\")\n",
        "else:\n",
        "    print(\"Stay indoors, it's stormy.\")\n"
      ],
      "metadata": {
        "colab": {
          "base_uri": "https://localhost:8080/"
        },
        "id": "KH5dtG44M47w",
        "outputId": "f88a0291-deae-403e-927d-0823e6424fb9"
      },
      "execution_count": null,
      "outputs": [
        {
          "output_type": "stream",
          "name": "stdout",
          "text": [
            "It might rain later.\n"
          ]
        }
      ]
    },
    {
      "cell_type": "code",
      "source": [
        "number = 15\n",
        "if number < 10:\n",
        "    print(\"Number is less than 10\")\n",
        "elif number >= 10 and number < 20:\n",
        "    print(\"Number is between 10 and 20\")\n",
        "elif number >= 20 and number < 30:\n",
        "    print(\"Number is between 20 and 30\")\n",
        "else:\n",
        "    print(\"Number is 30 or more\")\n"
      ],
      "metadata": {
        "id": "oYXmHReuM5Gc"
      },
      "execution_count": null,
      "outputs": []
    },
    {
      "cell_type": "code",
      "source": [
        "year = 2024\n",
        "if year % 4 == 0:\n",
        "    if year % 100 == 0:\n",
        "        if year % 400 == 0:\n",
        "            print(\"Leap year.\")\n",
        "        else:\n",
        "            print(\"Not a leap year.\")\n",
        "    else:\n",
        "        print(\"Leap year.\")\n",
        "else:\n",
        "    print(\"Not a leap year.\")\n"
      ],
      "metadata": {
        "colab": {
          "base_uri": "https://localhost:8080/"
        },
        "id": "i1tITg6bM5Sg",
        "outputId": "5e01f92f-5dc9-47cf-80a9-f5383ff42ac7"
      },
      "execution_count": null,
      "outputs": [
        {
          "output_type": "stream",
          "name": "stdout",
          "text": [
            "Leap year.\n"
          ]
        }
      ]
    },
    {
      "cell_type": "code",
      "source": [
        "age = 25\n",
        "if age < 13:\n",
        "    print(\"You should go play with toys.\")\n",
        "elif age < 18:\n",
        "    print(\"How about a video game?\")\n",
        "elif age < 30:\n",
        "    print(\"Try out an adventure activity!\")\n",
        "else:\n",
        "    print(\"Relax with a movie.\")\n"
      ],
      "metadata": {
        "id": "kB8A4qjmM5eN"
      },
      "execution_count": null,
      "outputs": []
    },
    {
      "cell_type": "code",
      "source": [
        "temperature = 30\n",
        "if temperature < 0:\n",
        "    print(\"Freezing!\")\n",
        "elif temperature < 10:\n",
        "    print(\"Cold\")\n",
        "elif temperature < 20:\n",
        "    print(\"Cool\")\n",
        "elif temperature < 30:\n",
        "    print(\"Warm\")\n",
        "else:\n",
        "    print(\"Hot\")\n"
      ],
      "metadata": {
        "colab": {
          "base_uri": "https://localhost:8080/"
        },
        "id": "eMXifBjjM5q_",
        "outputId": "1f17c44c-a3e3-458d-fc67-3e24ab3d7391"
      },
      "execution_count": null,
      "outputs": [
        {
          "output_type": "stream",
          "name": "stdout",
          "text": [
            "Hot\n"
          ]
        }
      ]
    },
    {
      "cell_type": "code",
      "source": [
        "day = \"Monday\"\n",
        "if day == \"Monday\":\n",
        "    print(\"Start of the week.\")\n",
        "elif day == \"Friday\":\n",
        "    print(\"End of the week.\")\n",
        "elif day == \"Saturday\" or day == \"Sunday\":\n",
        "    print(\"Weekend!\")\n",
        "else:\n",
        "    print(\"It's a weekday.\")\n"
      ],
      "metadata": {
        "id": "xaHH5oNvM52m"
      },
      "execution_count": null,
      "outputs": []
    },
    {
      "cell_type": "code",
      "source": [
        "number = 7\n",
        "if number % 2 == 0:\n",
        "    print(\"The number is even.\")\n",
        "elif number % 2 != 0:\n",
        "    print(\"The number is odd.\")\n"
      ],
      "metadata": {
        "id": "suVieSQbM6CP"
      },
      "execution_count": null,
      "outputs": []
    },
    {
      "cell_type": "code",
      "source": [
        "num = 9\n",
        "if num > 0:\n",
        "  print(\"num is positvie \")\n",
        "elif num == 0:\n",
        "  print(\"num is zero\")\n",
        "else:\n",
        "  print(\"num is negative\")\n",
        "\n"
      ],
      "metadata": {
        "colab": {
          "base_uri": "https://localhost:8080/"
        },
        "id": "TfVJz7-_M6TG",
        "outputId": "ea8b1eb7-98e7-448d-bc28-6f8bde810788"
      },
      "execution_count": null,
      "outputs": [
        {
          "output_type": "stream",
          "name": "stdout",
          "text": [
            "num is positvie \n"
          ]
        }
      ]
    },
    {
      "cell_type": "code",
      "source": [
        "# else condition statement"
      ],
      "metadata": {
        "id": "xj-PsSycSgpT"
      },
      "execution_count": null,
      "outputs": []
    },
    {
      "cell_type": "code",
      "source": [
        "number = 5\n",
        "if number > 5:\n",
        "    print(\"The number is greater than 5.\")\n",
        "else:\n",
        "    print(\"The number is 5 or less.\")\n"
      ],
      "metadata": {
        "colab": {
          "base_uri": "https://localhost:8080/"
        },
        "id": "LetghAoNSg7C",
        "outputId": "2038618f-12d5-4dd9-bc07-8c1744923235"
      },
      "execution_count": null,
      "outputs": [
        {
          "output_type": "stream",
          "name": "stdout",
          "text": [
            "The number is 5 or less.\n"
          ]
        }
      ]
    },
    {
      "cell_type": "code",
      "source": [
        "number = -3\n",
        "if number > 0:\n",
        "    print(\"The number is positive.\")\n",
        "elif number < 0:\n",
        "    print(\"The number is negative.\")\n",
        "else:\n",
        "    print(\"The number is zero.\")\n"
      ],
      "metadata": {
        "id": "PcIUl4R5ShFE"
      },
      "execution_count": null,
      "outputs": []
    },
    {
      "cell_type": "code",
      "source": [
        "number = 7\n",
        "if number % 2 == 0:\n",
        "    print(\"The number is even.\")\n",
        "else:\n",
        "    print(\"The number is odd.\")\n"
      ],
      "metadata": {
        "id": "K3IvVcTMShSJ"
      },
      "execution_count": null,
      "outputs": []
    },
    {
      "cell_type": "code",
      "source": [
        "username = \"admin\"\n",
        "password = \"1234\"\n",
        "\n",
        "if username == \"admin\" and password == \"1234\":\n",
        "    print(\"Login successful!\")\n",
        "else:\n",
        "    print(\"Invalid username or password.\")\n"
      ],
      "metadata": {
        "id": "S26mT9kWShbb"
      },
      "execution_count": null,
      "outputs": []
    },
    {
      "cell_type": "code",
      "source": [
        "age = 16\n",
        "if age >= 18:\n",
        "    print(\"You are eligible to vote.\")\n",
        "else:\n",
        "    print(\"You are not eligible to vote.\")\n"
      ],
      "metadata": {
        "id": "pu_pdikAShji"
      },
      "execution_count": null,
      "outputs": []
    },
    {
      "cell_type": "code",
      "source": [
        "age = 17\n",
        "if age >= 18:\n",
        "    print(\"You are an adult.\")\n",
        "else:\n",
        "    print(\"You are a minor.\")\n"
      ],
      "metadata": {
        "id": "EIUMFyyLShsP"
      },
      "execution_count": null,
      "outputs": []
    },
    {
      "cell_type": "code",
      "source": [
        "number = 9\n",
        "if number % 3 == 0:\n",
        "    print(\"The number is divisible by 3.\")\n",
        "else:\n",
        "    print(\"The number is not divisible by 3.\")\n"
      ],
      "metadata": {
        "id": "0fgBhbmRSh0b"
      },
      "execution_count": null,
      "outputs": []
    },
    {
      "cell_type": "code",
      "source": [
        "number = 20\n",
        "if number % 5 == 0:\n",
        "    print(\"The number is a multiple of 5.\")\n",
        "else:\n",
        "    print(\"The number is not a multiple of 5.\")\n"
      ],
      "metadata": {
        "id": "z54TfIxaSiIz"
      },
      "execution_count": null,
      "outputs": []
    },
    {
      "cell_type": "code",
      "source": [
        "number = 20\n",
        "if number % 5 == 0:\n",
        "    print(\"The number is a multiple of 5.\")\n",
        "else:\n",
        "    print(\"The number is not a multiple of 5.\")\n"
      ],
      "metadata": {
        "id": "giiu0-tPSiTr"
      },
      "execution_count": null,
      "outputs": []
    }
  ]
}