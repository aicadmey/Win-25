{
  "nbformat": 4,
  "nbformat_minor": 0,
  "metadata": {
    "colab": {
      "provenance": []
    },
    "kernelspec": {
      "name": "python3",
      "display_name": "Python 3"
    },
    "language_info": {
      "name": "python"
    }
  },
  "cells": [
    {
      "cell_type": "code",
      "execution_count": null,
      "metadata": {
        "id": "mSlm69BwBfcb"
      },
      "outputs": [],
      "source": [
        "#if condition\n",
        "#variable 1\n",
        "x=5\n",
        "if(x>3):\n",
        "  print(\"pakistan\")\n",
        "#variable 2\n",
        "marks=45\n",
        "if(marks<50):\n",
        "  print(\"ja mera putar chuti kr\")\n",
        "#variable 3\n",
        "name=\"dogar\"\n",
        "if(name==\"Dogar\"):\n",
        "  print(\"good boy\")\n",
        "#variable 4\n",
        "num1=36\n",
        "if(num1==6*6):\n",
        "  print(\" it is square of 6\")\n",
        "#variable 5\n",
        "number = 10\n",
        "if number > 0:\n",
        "  print(\"The number is positive\")\n",
        "#variable 6\n",
        "  text = \"\"\n",
        "if not text:\n",
        "  print(\"The string is empty\")\n",
        "#variable 7\n",
        "  age = 16\n",
        "  license = True\n",
        "if age >= 18 and license:\n",
        "  print(\"You are eligible to drive\")\n",
        "#variable 8\n",
        "runs=85\n",
        "if runs>70:\n",
        "  print(\"good player\")\n",
        "  #variable 9\n",
        "num1=int(input(\"enter a number\"))\n",
        "if num1%2==1:\n",
        "  print(num1, \"is odd number\")\n",
        "#variable 10\n",
        "num2=int(input(\"enter a number\"))\n",
        "if num2%2==0:\n",
        "  print(num2, \"is even number\")\n"
      ]
    }
  ]
}