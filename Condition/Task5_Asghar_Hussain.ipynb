{
  "nbformat": 4,
  "nbformat_minor": 0,
  "metadata": {
    "colab": {
      "provenance": []
    },
    "kernelspec": {
      "name": "python3",
      "display_name": "Python 3"
    },
    "language_info": {
      "name": "python"
    }
  },
  "cells": [
    {
      "cell_type": "markdown",
      "source": [
        "**IF examples**"
      ],
      "metadata": {
        "id": "9TezKjCKh_xM"
      }
    },
    {
      "cell_type": "code",
      "execution_count": null,
      "metadata": {
        "id": "5LknR27QxEYh",
        "colab": {
          "base_uri": "https://localhost:8080/"
        },
        "outputId": "8fb2ec88-400d-4ab5-ac7d-67cb343d44ef"
      },
      "outputs": [
        {
          "output_type": "stream",
          "name": "stdout",
          "text": [
            "Enter a number: 3\n",
            "The number is positive.\n"
          ]
        }
      ],
      "source": [
        "num = int(input(\"Enter a number: \"))\n",
        "if num > 0:\n",
        "    print(\"The number is positive.\")"
      ]
    },
    {
      "cell_type": "code",
      "source": [
        "#String Empty\n",
        "my_str = input(\"Enter a string: \")\n",
        "if my_str:\n",
        "    print(\"The string is not empty.\")"
      ],
      "metadata": {
        "colab": {
          "base_uri": "https://localhost:8080/"
        },
        "id": "-M23QZd4iTYZ",
        "outputId": "fbf3fb1d-51a0-4258-92fb-9f16ebdd8df1"
      },
      "execution_count": null,
      "outputs": [
        {
          "output_type": "stream",
          "name": "stdout",
          "text": [
            "Enter a string: s\n",
            "The string is not empty.\n"
          ]
        }
      ]
    },
    {
      "cell_type": "code",
      "source": [
        "#Vote Eligible\n",
        "age = int(input(\"Enter your age: \"))\n",
        "if age >= 18:\n",
        "    print(\"You are eligible to vote.\")"
      ],
      "metadata": {
        "colab": {
          "base_uri": "https://localhost:8080/",
          "height": 193
        },
        "id": "GItxRMC9ib-t",
        "outputId": "42dd5f2a-063d-4bfe-c3a4-a4dda7b8e814"
      },
      "execution_count": null,
      "outputs": [
        {
          "name": "stdout",
          "output_type": "stream",
          "text": [
            "Enter your age: a\n"
          ]
        },
        {
          "output_type": "error",
          "ename": "ValueError",
          "evalue": "invalid literal for int() with base 10: 'a'",
          "traceback": [
            "\u001b[0;31m---------------------------------------------------------------------------\u001b[0m",
            "\u001b[0;31mValueError\u001b[0m                                Traceback (most recent call last)",
            "\u001b[0;32m<ipython-input-7-dfc26a35472d>\u001b[0m in \u001b[0;36m<cell line: 1>\u001b[0;34m()\u001b[0m\n\u001b[0;32m----> 1\u001b[0;31m \u001b[0mage\u001b[0m \u001b[0;34m=\u001b[0m \u001b[0mint\u001b[0m\u001b[0;34m(\u001b[0m\u001b[0minput\u001b[0m\u001b[0;34m(\u001b[0m\u001b[0;34m\"Enter your age: \"\u001b[0m\u001b[0;34m)\u001b[0m\u001b[0;34m)\u001b[0m\u001b[0;34m\u001b[0m\u001b[0;34m\u001b[0m\u001b[0m\n\u001b[0m\u001b[1;32m      2\u001b[0m \u001b[0;32mif\u001b[0m \u001b[0mage\u001b[0m \u001b[0;34m>=\u001b[0m \u001b[0;36m18\u001b[0m\u001b[0;34m:\u001b[0m\u001b[0;34m\u001b[0m\u001b[0;34m\u001b[0m\u001b[0m\n\u001b[1;32m      3\u001b[0m     \u001b[0mprint\u001b[0m\u001b[0;34m(\u001b[0m\u001b[0;34m\"You are eligible to vote.\"\u001b[0m\u001b[0;34m)\u001b[0m\u001b[0;34m\u001b[0m\u001b[0;34m\u001b[0m\u001b[0m\n",
            "\u001b[0;31mValueError\u001b[0m: invalid literal for int() with base 10: 'a'"
          ]
        }
      ]
    },
    {
      "cell_type": "code",
      "source": [
        "#vowel Checking\n",
        "char = input(\"Enter a character: \")\n",
        "if char in 'aeiouAEIOU':\n",
        "    print(\"The character is a vowel.\")"
      ],
      "metadata": {
        "colab": {
          "base_uri": "https://localhost:8080/"
        },
        "id": "McAF54LriggG",
        "outputId": "cb85f019-2be7-45c8-8207-a6d5f43c8397"
      },
      "execution_count": null,
      "outputs": [
        {
          "name": "stdout",
          "output_type": "stream",
          "text": [
            "Enter a character: s\n"
          ]
        }
      ]
    },
    {
      "cell_type": "code",
      "source": [
        "#Even or Odd\n",
        "number = int(input(\"Enter a number: \"))\n",
        "if number % 2 == 0:\n",
        "    print(\"The number is even.\")"
      ],
      "metadata": {
        "colab": {
          "base_uri": "https://localhost:8080/"
        },
        "id": "fvs5xqUhinDJ",
        "outputId": "b13b33e9-d632-404c-c8c0-74426bc6e82e"
      },
      "execution_count": null,
      "outputs": [
        {
          "output_type": "stream",
          "name": "stdout",
          "text": [
            "Enter a number: 2\n",
            "The number is even.\n"
          ]
        }
      ]
    },
    {
      "cell_type": "markdown",
      "source": [
        "**IF and ELSE examples**"
      ],
      "metadata": {
        "id": "RSMM78TcjLuj"
      }
    },
    {
      "cell_type": "code",
      "source": [
        "#LISt empty\n",
        "my_list = [2]\n",
        "if my_list:\n",
        "    print(\"The list is not empty.\")\n",
        "else:\n",
        "    print(\"The list is empty.\")"
      ],
      "metadata": {
        "colab": {
          "base_uri": "https://localhost:8080/"
        },
        "id": "fVSRdfq3jPfm",
        "outputId": "e3ef0e1a-d1d8-4d7a-d22d-a66a075bd0dc"
      },
      "execution_count": null,
      "outputs": [
        {
          "output_type": "stream",
          "name": "stdout",
          "text": [
            "The list is not empty.\n"
          ]
        }
      ]
    },
    {
      "cell_type": "code",
      "source": [
        "#Checkinng Divisible or not\n",
        "number = int(input(\"Enter a number: \"))\n",
        "if number % 2 == 0 and number % 5 == 0:\n",
        "    print(\"The number is divisible by both 2 and 5.\")\n",
        "else:\n",
        "    print(\"The number is not divisible by both 2 and 5.\")"
      ],
      "metadata": {
        "colab": {
          "base_uri": "https://localhost:8080/"
        },
        "id": "88GBNBVYjzoD",
        "outputId": "7c0aac4c-7253-424b-d3fe-f456c91ec6ba"
      },
      "execution_count": null,
      "outputs": [
        {
          "output_type": "stream",
          "name": "stdout",
          "text": [
            "Enter a number: 30\n",
            "The number is divisible by both 2 and 5.\n"
          ]
        }
      ]
    },
    {
      "cell_type": "markdown",
      "source": [
        "## **IF , ELIF and ELSE examples**"
      ],
      "metadata": {
        "id": "8jtU5SpVkKkC"
      }
    },
    {
      "cell_type": "code",
      "source": [
        "#Grade Checking\n",
        "\n",
        "marks = int(input(\"Enter your marks: \"))\n",
        "if marks >= 90:\n",
        "    print(\"Grade A\")\n",
        "elif marks >= 80:\n",
        "    print(\"Grade B\")\n",
        "elif marks >= 70:\n",
        "    print(\"Grade C\")\n",
        "elif marks >= 60:\n",
        "    print(\"Grade D\")\n",
        "else:\n",
        "    print(\"Grade F\")"
      ],
      "metadata": {
        "colab": {
          "base_uri": "https://localhost:8080/"
        },
        "id": "Q4xdgVGakQyY",
        "outputId": "b267d37a-81dd-45d8-ee35-55609cf7565e"
      },
      "execution_count": null,
      "outputs": [
        {
          "output_type": "stream",
          "name": "stdout",
          "text": [
            "Enter your marks: 23\n",
            "Grade F\n"
          ]
        }
      ]
    },
    {
      "cell_type": "code",
      "source": [
        "#Age group\n",
        "age = int(input(\"Enter your age: \"))\n",
        "if age < 18:\n",
        "    print(\"Child\")\n",
        "elif 18 <= age < 30:\n",
        "    print(\"Young Adult\")\n",
        "elif 30 <= age < 60:\n",
        "    print(\"Adult\")\n",
        "else:\n",
        "    print(\"Senior Citizen\")"
      ],
      "metadata": {
        "colab": {
          "base_uri": "https://localhost:8080/"
        },
        "id": "HVTSxYIKkR7F",
        "outputId": "6246e5a3-4f21-46d4-ea28-bcfbf7670fe0"
      },
      "execution_count": null,
      "outputs": [
        {
          "output_type": "stream",
          "name": "stdout",
          "text": [
            "Enter your age: 23\n",
            "Young Adult\n"
          ]
        }
      ]
    },
    {
      "cell_type": "code",
      "source": [
        "#Traffic Light\n",
        "color = input(\"Enter the color of the traffic light: \")\n",
        "if color == \"red\":\n",
        "    print(\"Stop\")\n",
        "elif color == \"yellow\":\n",
        "    print(\"Get ready\")\n",
        "elif color == \"green\":\n",
        "    print(\"Go\")\n",
        "else:\n",
        "    print(\"Invalid color\")"
      ],
      "metadata": {
        "colab": {
          "base_uri": "https://localhost:8080/"
        },
        "id": "q8nbd3AUkicK",
        "outputId": "1e78e0fa-3da1-40c6-f1f9-1bd2d51ebd33"
      },
      "execution_count": null,
      "outputs": [
        {
          "output_type": "stream",
          "name": "stdout",
          "text": [
            "Enter the color of the traffic light: red\n",
            "Stop\n"
          ]
        }
      ]
    }
  ]
}