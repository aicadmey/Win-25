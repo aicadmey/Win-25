{
  "nbformat": 4,
  "nbformat_minor": 0,
  "metadata": {
    "colab": {
      "provenance": []
    },
    "kernelspec": {
      "name": "python3",
      "display_name": "Python 3"
    },
    "language_info": {
      "name": "python"
    }
  },
  "cells": [
    {
      "cell_type": "code",
      "execution_count": null,
      "metadata": {
        "colab": {
          "base_uri": "https://localhost:8080/"
        },
        "id": "67KS2C2mWS57",
        "outputId": "c787c75f-d7ed-4597-fb5e-30ecbfeff94a"
      },
      "outputs": [
        {
          "output_type": "stream",
          "name": "stdout",
          "text": [
            "x is equal to 5\n"
          ]
        }
      ],
      "source": [
        "#if condition\n",
        "x=5\n",
        "if(x==5):\n",
        "    print(\"x is equal to 5\")\n"
      ]
    },
    {
      "cell_type": "code",
      "source": [
        "name=\"Nakhsheeb\"\n",
        "if(name==\"Nakhsheeb\"):\n",
        "    print(\"Name is of a intern\")\n"
      ],
      "metadata": {
        "colab": {
          "base_uri": "https://localhost:8080/"
        },
        "id": "Kp3R8oOBWgHL",
        "outputId": "e8af15a9-baa3-4f88-fc0c-391cfe70e54f"
      },
      "execution_count": null,
      "outputs": [
        {
          "output_type": "stream",
          "name": "stdout",
          "text": [
            "Name is of a intern\n"
          ]
        }
      ]
    },
    {
      "cell_type": "code",
      "source": [
        "marks=60\n",
        "if(marks<=60):\n",
        "  print(\"pass\")"
      ],
      "metadata": {
        "colab": {
          "base_uri": "https://localhost:8080/"
        },
        "id": "wTOeyjWLW_es",
        "outputId": "841d1602-b3d2-408a-8173-03d2519c31d5"
      },
      "execution_count": null,
      "outputs": [
        {
          "output_type": "stream",
          "name": "stdout",
          "text": [
            "pass\n"
          ]
        }
      ]
    },
    {
      "cell_type": "code",
      "source": [
        "marks= 90\n",
        "if(marks>=80 and marks<=90):\n",
        "  print(\"good\")"
      ],
      "metadata": {
        "colab": {
          "base_uri": "https://localhost:8080/"
        },
        "id": "5x50N_goYUWA",
        "outputId": "09be653e-047c-4777-c7db-895cd5d7ce41"
      },
      "execution_count": null,
      "outputs": [
        {
          "output_type": "stream",
          "name": "stdout",
          "text": [
            "good\n"
          ]
        }
      ]
    },
    {
      "cell_type": "code",
      "source": [
        "marks=50\n",
        "if(marks<=50):\n",
        "  print(\"fail\")"
      ],
      "metadata": {
        "colab": {
          "base_uri": "https://localhost:8080/"
        },
        "id": "KY0wV8YBYbC5",
        "outputId": "b2d3e8b9-d53f-43f9-fb40-768b864025be"
      },
      "execution_count": null,
      "outputs": [
        {
          "output_type": "stream",
          "name": "stdout",
          "text": [
            "fail\n"
          ]
        }
      ]
    },
    {
      "cell_type": "code",
      "source": [
        "age=17\n",
        "if(age<=18):\n",
        "  print(\"imature\")\n"
      ],
      "metadata": {
        "colab": {
          "base_uri": "https://localhost:8080/"
        },
        "id": "Rh3no5lqY7-d",
        "outputId": "6b166776-4d39-4b33-b2a2-6b6dda1e81e7"
      },
      "execution_count": null,
      "outputs": [
        {
          "output_type": "stream",
          "name": "stdout",
          "text": [
            "imature\n"
          ]
        }
      ]
    },
    {
      "cell_type": "code",
      "source": [
        "age=19\n",
        "if(age>=18):\n",
        "  print(\"mature\")\n"
      ],
      "metadata": {
        "colab": {
          "base_uri": "https://localhost:8080/"
        },
        "id": "qEvaW_PhZIS4",
        "outputId": "c693c77e-fda2-446a-8080-32083ad644ec"
      },
      "execution_count": null,
      "outputs": [
        {
          "output_type": "stream",
          "name": "stdout",
          "text": [
            "mature\n"
          ]
        }
      ]
    },
    {
      "cell_type": "code",
      "source": [
        "education=\"BS\"\n",
        "if(education>=\"BS\"):\n",
        "  print(\"eligible\")"
      ],
      "metadata": {
        "colab": {
          "base_uri": "https://localhost:8080/"
        },
        "id": "ZPNhlYAiZQj6",
        "outputId": "3982bf2c-3a82-4a11-f01e-7503ae9540df"
      },
      "execution_count": null,
      "outputs": [
        {
          "output_type": "stream",
          "name": "stdout",
          "text": [
            "eligible\n"
          ]
        }
      ]
    },
    {
      "cell_type": "code",
      "source": [
        "subjects=7\n",
        "if(subjects<=10):\n",
        "  print(\"dept of AI\")"
      ],
      "metadata": {
        "colab": {
          "base_uri": "https://localhost:8080/"
        },
        "id": "HfNPVGooZhsq",
        "outputId": "59aef09f-02cd-4791-976b-cf448db519c7"
      },
      "execution_count": null,
      "outputs": [
        {
          "output_type": "stream",
          "name": "stdout",
          "text": [
            "dept of AI\n"
          ]
        }
      ]
    },
    {
      "cell_type": "code",
      "source": [
        "class_var = 10\n",
        "if(class_var==10):\n",
        "  print(\"yes in matric\")"
      ],
      "metadata": {
        "colab": {
          "base_uri": "https://localhost:8080/"
        },
        "id": "iGMSDB1GaLN7",
        "outputId": "4913aab6-7233-40f2-e591-70da0399429c"
      },
      "execution_count": null,
      "outputs": [
        {
          "output_type": "stream",
          "name": "stdout",
          "text": [
            "yes in matric\n"
          ]
        }
      ]
    },
    {
      "cell_type": "code",
      "source": [
        "#elif\n",
        "marks=60\n",
        "if(marks<=60):\n",
        "  print(\"pass\")\n",
        "elif(marks==100):\n",
        "  print(\"excellent\")"
      ],
      "metadata": {
        "id": "zSWZ8LUCb58u",
        "colab": {
          "base_uri": "https://localhost:8080/"
        },
        "outputId": "e0263252-6695-4f80-bfb8-824e8a2dc0b9"
      },
      "execution_count": null,
      "outputs": [
        {
          "output_type": "stream",
          "name": "stdout",
          "text": [
            "pass\n"
          ]
        }
      ]
    },
    {
      "cell_type": "code",
      "source": [
        "marks=100\n",
        "if(marks<=60):\n",
        "  print(\"pass\")\n",
        "elif(marks==100):\n",
        "  print(\"excellent\")"
      ],
      "metadata": {
        "id": "9sGhKfW6cLbb",
        "colab": {
          "base_uri": "https://localhost:8080/"
        },
        "outputId": "565f838f-fe80-4d73-feba-4ba34060daa3"
      },
      "execution_count": null,
      "outputs": [
        {
          "output_type": "stream",
          "name": "stdout",
          "text": [
            "excellent\n"
          ]
        }
      ]
    },
    {
      "cell_type": "code",
      "source": [
        "marks=93\n",
        "if(marks>=90 and marks<=100):\n",
        "  print(\"A+\")\n",
        "elif(marks==80):\n",
        "  print(\"B+\")\n",
        "elif(marks==80):\n",
        "  print(\"B+\")"
      ],
      "metadata": {
        "id": "rZW32cNlcPf0",
        "colab": {
          "base_uri": "https://localhost:8080/"
        },
        "outputId": "f69b0147-9354-4349-b2e9-db81daf432a1"
      },
      "execution_count": null,
      "outputs": [
        {
          "output_type": "stream",
          "name": "stdout",
          "text": [
            "A+\n"
          ]
        }
      ]
    },
    {
      "cell_type": "code",
      "source": [
        "name=\"Ali\"\n",
        "if(name==\"Ali\"):\n",
        "  print(\"name  of a boy\")\n",
        "elif(name==\"fatima\"):\n",
        "  print(\"name of a girl\")"
      ],
      "metadata": {
        "id": "_gkWme4Bctl3",
        "colab": {
          "base_uri": "https://localhost:8080/"
        },
        "outputId": "afa0320f-e717-4c44-9d94-1826e3294b1f"
      },
      "execution_count": null,
      "outputs": [
        {
          "output_type": "stream",
          "name": "stdout",
          "text": [
            "name  of a boy\n"
          ]
        }
      ]
    },
    {
      "cell_type": "code",
      "source": [
        "name=\"fatima\"\n",
        "if(name==\"Ali\"):\n",
        "  print(\"name  of a boy\")\n",
        "elif(name==\"fatima\"):\n",
        "  print(\"name of a girl\")"
      ],
      "metadata": {
        "colab": {
          "base_uri": "https://localhost:8080/"
        },
        "id": "VzhYGdD4oG9N",
        "outputId": "c78133a0-10bb-4241-fb0e-27b4b8364f76"
      },
      "execution_count": null,
      "outputs": [
        {
          "output_type": "stream",
          "name": "stdout",
          "text": [
            "name of a girl\n"
          ]
        }
      ]
    },
    {
      "cell_type": "code",
      "source": [
        "education=\"BS\"\n",
        "if(education>=\"BS\"):\n",
        "  print(\"eligible\")\n",
        "elif(education==\"MS\"):\n",
        "  print(\"highly eligible\")"
      ],
      "metadata": {
        "colab": {
          "base_uri": "https://localhost:8080/"
        },
        "id": "jmxSMmadoPcK",
        "outputId": "aac503e8-1e70-43ea-ea91-f528f7832749"
      },
      "execution_count": null,
      "outputs": [
        {
          "output_type": "stream",
          "name": "stdout",
          "text": [
            "eligible\n"
          ]
        }
      ]
    },
    {
      "cell_type": "code",
      "source": [
        "education=\"MS\"\n",
        "if(education>=\"BS\"):\n",
        "  print(\"eligible\")\n",
        "elif(education==\"MS\"):\n",
        "  print(\"highly eligible\")"
      ],
      "metadata": {
        "colab": {
          "base_uri": "https://localhost:8080/"
        },
        "id": "eMBnadglopH9",
        "outputId": "194b74cb-783d-44a1-861c-45ed63c6ba48"
      },
      "execution_count": null,
      "outputs": [
        {
          "output_type": "stream",
          "name": "stdout",
          "text": [
            "eligible\n"
          ]
        }
      ]
    },
    {
      "cell_type": "code",
      "source": [
        "class_var = 10\n",
        "if(class_var==10):\n",
        "  print(\"yes in matric\")\n",
        "elif(class_var==12):\n",
        "  print(\"yes in intermediate\")"
      ],
      "metadata": {
        "colab": {
          "base_uri": "https://localhost:8080/"
        },
        "id": "wgmD4_JVoyz9",
        "outputId": "4a013d42-ad40-4de2-c7e5-10d7a5741e7f"
      },
      "execution_count": null,
      "outputs": [
        {
          "output_type": "stream",
          "name": "stdout",
          "text": [
            "yes in matric\n"
          ]
        }
      ]
    },
    {
      "cell_type": "code",
      "source": [
        "class_var = 12\n",
        "if(class_var==10):\n",
        "  print(\"yes in matric\")\n",
        "elif(class_var==12):\n",
        "  print(\"yes in intermediate\")"
      ],
      "metadata": {
        "colab": {
          "base_uri": "https://localhost:8080/"
        },
        "id": "5ibBzc5Uo755",
        "outputId": "2703c500-3d62-437a-fc12-01b5ddcf9dd1"
      },
      "execution_count": null,
      "outputs": [
        {
          "output_type": "stream",
          "name": "stdout",
          "text": [
            "yes in intermediate\n"
          ]
        }
      ]
    },
    {
      "cell_type": "code",
      "source": [
        "gender=\"male\"\n",
        "if(gender==\"male\"):\n",
        "  print(\"male\")\n",
        "elif(gender==\"female\"):\n",
        "  print(\"female\")"
      ],
      "metadata": {
        "colab": {
          "base_uri": "https://localhost:8080/"
        },
        "id": "KQZZMVQPpCZD",
        "outputId": "393e2ea8-21f4-4bd0-f225-666a85268a56"
      },
      "execution_count": null,
      "outputs": [
        {
          "output_type": "stream",
          "name": "stdout",
          "text": [
            "male\n"
          ]
        }
      ]
    },
    {
      "cell_type": "code",
      "source": [
        "#if else\n",
        "marks=60\n",
        "if(marks<=60):\n",
        "  print(\"pass\")\n",
        "else:\n",
        "  print(\"fail\")"
      ],
      "metadata": {
        "colab": {
          "base_uri": "https://localhost:8080/"
        },
        "id": "Ch7xBEzspRdw",
        "outputId": "09bf301a-d2cb-4ec8-fa31-9166a3314bf8"
      },
      "execution_count": null,
      "outputs": [
        {
          "output_type": "stream",
          "name": "stdout",
          "text": [
            "pass\n"
          ]
        }
      ]
    },
    {
      "cell_type": "code",
      "source": [
        "grade=\"A\"\n",
        "if(grade==\"A\"):\n",
        "  print(\"excellent\")\n",
        "elif(grade==\"B\"):\n",
        "  print(\"good\")\n",
        "else:\n",
        "  print(\"fail\")"
      ],
      "metadata": {
        "colab": {
          "base_uri": "https://localhost:8080/"
        },
        "id": "kvZqfFmQpgZR",
        "outputId": "becd8a6e-319b-4351-d3ba-63346e84ad3e"
      },
      "execution_count": null,
      "outputs": [
        {
          "output_type": "stream",
          "name": "stdout",
          "text": [
            "excellent\n"
          ]
        }
      ]
    },
    {
      "cell_type": "code",
      "source": [
        "grade=\"f\"\n",
        "if(grade==\"A\"):\n",
        "  print(\"excellent\")\n",
        "elif(grade==\"B\"):\n",
        "  print(\"good\")\n",
        "else:\n",
        "  print(\"fail\")"
      ],
      "metadata": {
        "colab": {
          "base_uri": "https://localhost:8080/"
        },
        "id": "AhZui2DFp2hg",
        "outputId": "4f84f3cb-88c1-454c-cf8d-bdcf98efdc94"
      },
      "execution_count": null,
      "outputs": [
        {
          "output_type": "stream",
          "name": "stdout",
          "text": [
            "fail\n"
          ]
        }
      ]
    },
    {
      "cell_type": "code",
      "source": [
        "grade=\"C\"\n",
        "if(grade==\"A\"):\n",
        "  print(\"excellent\")\n",
        "elif(grade==\"B\"):\n",
        "  print(\"good\")\n",
        "elif(grade==\"C\"):\n",
        "  print(\"average\")\n",
        "else:\n",
        "  print(\"fail\")"
      ],
      "metadata": {
        "colab": {
          "base_uri": "https://localhost:8080/"
        },
        "id": "oJGt8L2yp7NR",
        "outputId": "c69e3230-e782-47ce-e161-febbc90a6320"
      },
      "execution_count": null,
      "outputs": [
        {
          "output_type": "stream",
          "name": "stdout",
          "text": [
            "average\n"
          ]
        }
      ]
    },
    {
      "cell_type": "code",
      "source": [
        "mobile_charging=100\n",
        "if(mobile_charging==100):\n",
        "  print(\"full charging\")\n",
        "elif(mobile_charging>=50):\n",
        "  print(\"half charging\")\n",
        "else:\n",
        "  print(\"plugged inn\")"
      ],
      "metadata": {
        "colab": {
          "base_uri": "https://localhost:8080/"
        },
        "id": "juG2l5M7qC1C",
        "outputId": "d3e39d1b-93d0-4acb-b8b8-24acad6bedc0"
      },
      "execution_count": null,
      "outputs": [
        {
          "output_type": "stream",
          "name": "stdout",
          "text": [
            "full charging\n"
          ]
        }
      ]
    },
    {
      "cell_type": "code",
      "source": [
        "mobile_charging=20\n",
        "if(mobile_charging==100):\n",
        "  print(\"full charging\")\n",
        "elif(mobile_charging>=50):\n",
        "  print(\"half charging\")\n",
        "else:\n",
        "  print(\"plugged inn\")"
      ],
      "metadata": {
        "colab": {
          "base_uri": "https://localhost:8080/"
        },
        "id": "N9a14kOjqVla",
        "outputId": "3e36d383-1c03-4630-f8ca-ad537b8fcaff"
      },
      "execution_count": null,
      "outputs": [
        {
          "output_type": "stream",
          "name": "stdout",
          "text": [
            "plugged inn\n"
          ]
        }
      ]
    },
    {
      "cell_type": "code",
      "source": [
        "eat=\"no\"\n",
        "if(eat==\"yes\"):\n",
        "  print(\"eat\")\n",
        "elif(eat==\"no\"):\n",
        "  print(\"fasting\")\n",
        "else:\n",
        "  print(\"not hungry\")"
      ],
      "metadata": {
        "colab": {
          "base_uri": "https://localhost:8080/"
        },
        "id": "7wMEfSvdqd-B",
        "outputId": "cb9b91e5-606d-4cfe-f022-f9e81f9a16f4"
      },
      "execution_count": null,
      "outputs": [
        {
          "output_type": "stream",
          "name": "stdout",
          "text": [
            "fasting\n"
          ]
        }
      ]
    },
    {
      "cell_type": "code",
      "source": [
        "eat=1\n",
        "if(eat==\"yes\"):\n",
        "  print(\"eat\")\n",
        "elif(eat==\"no\"):\n",
        "  print(\"fasting\")\n",
        "else:\n",
        "  print(\"not hungry\")"
      ],
      "metadata": {
        "colab": {
          "base_uri": "https://localhost:8080/"
        },
        "id": "qkMlbBtsq6o9",
        "outputId": "63faf703-7335-4f28-9c40-2628411b88cc"
      },
      "execution_count": null,
      "outputs": [
        {
          "output_type": "stream",
          "name": "stdout",
          "text": [
            "not hungry\n"
          ]
        }
      ]
    },
    {
      "cell_type": "code",
      "source": [
        "name=\"19\"\n",
        "if(name==\"Nakhsheeb\"):\n",
        "    print(\"Name is of a intern\")\n",
        "elif(name==\"19\"):\n",
        "    print(\"age of intern\")\n",
        "else:\n",
        "    print(\"intern of AI Cadmey\")"
      ],
      "metadata": {
        "colab": {
          "base_uri": "https://localhost:8080/"
        },
        "id": "Y_XkHxaDrB3v",
        "outputId": "2a8d110b-0e0d-46b0-d538-2eb7d07b3068"
      },
      "execution_count": null,
      "outputs": [
        {
          "output_type": "stream",
          "name": "stdout",
          "text": [
            "age of intern\n"
          ]
        }
      ]
    },
    {
      "cell_type": "code",
      "source": [
        "name=5\n",
        "if(name==\"Nakhsheeb\"):\n",
        "    print(\"Name is of a intern\")\n",
        "elif(name==\"19\"):\n",
        "    print(\"age of intern\")\n",
        "else:\n",
        "    print(\"intern of AI Cadmey\")"
      ],
      "metadata": {
        "colab": {
          "base_uri": "https://localhost:8080/"
        },
        "id": "3auU5SjIrfDZ",
        "outputId": "bd1ba30e-f4a9-4a16-94db-54f15dca1b1b"
      },
      "execution_count": null,
      "outputs": [
        {
          "output_type": "stream",
          "name": "stdout",
          "text": [
            "intern of AI Cadmey\n"
          ]
        }
      ]
    }
  ]
}