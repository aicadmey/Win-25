{
  "nbformat": 4,
  "nbformat_minor": 0,
  "metadata": {
    "colab": {
      "provenance": []
    },
    "kernelspec": {
      "name": "python3",
      "display_name": "Python 3"
    },
    "language_info": {
      "name": "python"
    }
  },
  "cells": [
    {
      "cell_type": "markdown",
      "source": [
        "\n",
        "(RBML)\n",
        "Rules-based programming in machine learning is a type of programming where the model is trained on a set of rules that define the relationship between the input and output variables. These rules are typically derived from domain experts or from data analysis.\n",
        "\n",
        "Rules-based programming is a relatively simple approach to machine learning, and it can be used for a variety of tasks, such as classification, regression, and anomaly detection. However, it is important to note that rules-based programming is not always the best approach for all machine learning problems."
      ],
      "metadata": {
        "id": "7a0SlNclcWYo"
      }
    },
    {
      "cell_type": "code",
      "execution_count": null,
      "metadata": {
        "colab": {
          "base_uri": "https://localhost:8080/"
        },
        "id": "wfweEjPKb6Yx",
        "outputId": "894cca60-72b4-4a67-c0b0-aa720959f2a2"
      },
      "outputs": [
        {
          "output_type": "stream",
          "name": "stdout",
          "text": [
            "Wake up! The alarm is set Tahseen.\n",
            "Sleep in, it's the weekend and no alarm is set!\n"
          ]
        }
      ],
      "source": [
        "# Example 1 rbml morning alarm\n",
        "def should_wake_up(day, alarm_set):\n",
        "    if day.lower() in [\"saturday\", \"sunday\"] and not alarm_set:\n",
        "        return \"Sleep in, it's the weekend and no alarm is set!\"\n",
        "    elif alarm_set:\n",
        "        return \"Wake up! The alarm is set Tahseen.\"\n",
        "    else:\n",
        "        return \"No alarm today, enjoy your sleep Tahseen!\"\n",
        "print(should_wake_up(\"Monday\", True))\n",
        "print(should_wake_up(\"Sunday\", False))"
      ]
    },
    {
      "cell_type": "code",
      "source": [
        "#Example 2 of rbml for civil 19\n",
        "def diagnose_disease(symptoms):\n",
        "    if \"fever\" in symptoms and \"cough\" in symptoms and \"shortness of breath\" in symptoms:\n",
        "        return \"Possible COVID-109⌛️. Go to a doctor.\"\n",
        "    elif \"fever\" in symptoms and \"rash\" in symptoms:\n",
        "        return \"Possible Dengue. Get tested immediately.\"\n",
        "    elif \"headache\" in symptoms and \"blurred vision\" in symptoms:\n",
        "        return \"Possible Migraine. Take rest and consult if persists.\"\n",
        "    else:\n",
        "        return \"Symptoms unclear. Seek professional advice.\"\n",
        "\n",
        "\n",
        "symptoms = [\"fever\", \"cough\", \"shortness of breath\"]\n",
        "print(f\"Diagnosis: {diagnose_disease(symptoms)}\")"
      ],
      "metadata": {
        "colab": {
          "base_uri": "https://localhost:8080/"
        },
        "id": "eKFiu6ygcVyv",
        "outputId": "3d9a0839-3a6f-4ec7-edf4-e4d77017176c"
      },
      "execution_count": null,
      "outputs": [
        {
          "output_type": "stream",
          "name": "stdout",
          "text": [
            "Diagnosis: Possible COVID-109⌛️. Go to a doctor.\n"
          ]
        }
      ]
    },
    {
      "cell_type": "code",
      "source": [
        "# Example 3 rbml mood\n",
        "def analyze_sentiment(text):\n",
        "    positive_words = [\"good\", \"happy\", \"excellent\", \"great\", \"awesome\"]\n",
        "    negative_words = [\"bad\", \"sad\", \"terrible\", \"poor\", \"horrible\"]\n",
        "\n",
        "    positive_count = sum(word in text.lower() for word in positive_words)\n",
        "    negative_count = sum(word in text.lower() for word in negative_words)\n",
        "\n",
        "    if positive_count > negative_count:\n",
        "        return \"Positive Sentiment\"\n",
        "    elif negative_count > positive_count:\n",
        "        return \"Negative Sentiment\"\n",
        "    else:\n",
        "        return \"Neutral Sentiment\"\n",
        "\n",
        "\n",
        "review = \"The product is excellent and awesome, but the service is good.\"\n",
        "print(f\"Sentiment Analysis: {analyze_sentiment(review)}\")"
      ],
      "metadata": {
        "colab": {
          "base_uri": "https://localhost:8080/"
        },
        "id": "7-E_kn_Ab7JW",
        "outputId": "338df644-a5ec-4752-e6e7-10f7ec0b8da6"
      },
      "execution_count": null,
      "outputs": [
        {
          "output_type": "stream",
          "name": "stdout",
          "text": [
            "Sentiment Analysis: Positive Sentiment\n"
          ]
        }
      ]
    },
    {
      "cell_type": "code",
      "source": [
        "\n",
        "# Example 4 age classifier\n",
        "def classify_age(age):\n",
        "    if age < 13:\n",
        "        return \"Child\"\n",
        "    elif 13 <= age < 18:\n",
        "        return \"Teenager\"\n",
        "    elif 18 <= age < 60:\n",
        "        return \"Adult\"\n",
        "    else:\n",
        "        return \"Senior Citizen\"\n",
        "\n",
        "# Get input from the user\n",
        "try:\n",
        "    age = int(input(\"Enter your age: \"))\n",
        "    print(f\"Someone who is {age} years old is classified as {classify_age(age)}.\")\n",
        "except ValueError:\n",
        "    print(\"Invalid input. Please enter a valid number.\")"
      ],
      "metadata": {
        "colab": {
          "base_uri": "https://localhost:8080/"
        },
        "id": "2i_-gi3Qj47M",
        "outputId": "ee4b1619-f821-4b15-ca82-5473c78148a6"
      },
      "execution_count": null,
      "outputs": [
        {
          "output_type": "stream",
          "name": "stdout",
          "text": [
            "Enter your age: 34\n",
            "Someone who is 34 years old is classified as Adult.\n"
          ]
        }
      ]
    },
    {
      "cell_type": "code",
      "source": [
        "\n",
        "# Example 5 rbml H2O intake remained.\n",
        "def water_reminder(current_glasses):\n",
        "    if current_glasses < 4:\n",
        "        return \"Tahseen you are dehydrated. Drink more water!\"\n",
        "    elif 4 <= current_glasses < 8:\n",
        "        return \"Keep it up! Stay hydrated.\"\n",
        "    else:\n",
        "        return \"Great job! You've met your daily water intake.\"\n",
        "\n",
        "try:\n",
        "    current_glasses = int(input(\"Enter the number of glasses of water you drank today: \"))\n",
        "    print(water_reminder(current_glasses))\n",
        "except ValueError:\n",
        "    print(\"Please enter a valid number.\")"
      ],
      "metadata": {
        "colab": {
          "base_uri": "https://localhost:8080/"
        },
        "id": "zjXg_pQui_8M",
        "outputId": "2ca5bb96-8593-43ff-bd62-f5c004094c66"
      },
      "execution_count": null,
      "outputs": [
        {
          "output_type": "stream",
          "name": "stdout",
          "text": [
            "Enter the number of glasses of water you drank today: 1\n",
            "Tahseen you are dehydrated. Drink more water!\n"
          ]
        }
      ]
    }
  ]
}