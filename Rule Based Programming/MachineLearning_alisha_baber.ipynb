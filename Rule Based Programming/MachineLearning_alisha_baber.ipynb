{
  "nbformat": 4,
  "nbformat_minor": 0,
  "metadata": {
    "colab": {
      "provenance": []
    },
    "kernelspec": {
      "name": "python3",
      "display_name": "Python 3"
    },
    "language_info": {
      "name": "python"
    }
  },
  "cells": [
    {
      "cell_type": "markdown",
      "source": [
        "# **Traditional model.**"
      ],
      "metadata": {
        "id": "wMA1uwqAo5Db"
      }
    },
    {
      "cell_type": "code",
      "source": [
        "name = input(\"Enter your name: \")\n",
        "age = input(\"Enter your age: \")\n",
        "contact = input(\"Enter your contact number: \")\n",
        "qualification = input(\"Enter your qualification: \")\n",
        "address = input(\"Enter your address: \")\n",
        "height = input(\"Enter your height: \")\n",
        "weight = input(\"Enter your weight: \")\n",
        "bmi = float(input(\"Enter your BMI: \"))\n",
        "gender = input(\"Enter your gender: \")\n",
        "\n",
        "print(f\"After checking your gender '{gender}' and your BMI '{bmi}':\")\n",
        "\n",
        "if gender== \"male\":\n",
        "    if 20 <= bmi <= 30:\n",
        "        print(\"You are healthy.\")\n",
        "    else:\n",
        "        print(\"You are not healthy.\")\n",
        "elif gender == \"female\":\n",
        "    if 19 <= bmi <= 30:\n",
        "        print(\"You are healthy.\")\n",
        "    else:\n",
        "        print(\"You are not healthy.\")\n",
        "\n",
        "\n",
        "\n",
        "\n"
      ],
      "metadata": {
        "id": "UWsiKJ9Ko_cW",
        "colab": {
          "base_uri": "https://localhost:8080/"
        },
        "outputId": "d9f7c12c-5d97-4cf7-d138-7efd6e0772fb"
      },
      "execution_count": null,
      "outputs": [
        {
          "output_type": "stream",
          "name": "stdout",
          "text": [
            "Enter your name: Alisha\n",
            "Enter your age: 20\n",
            "Enter your contact number: 03078731088\n",
            "Enter your qualification: bachelors\n",
            "Enter your address: 105\\ C \n",
            "Enter your height: 5.3\n",
            "Enter your weight: 63\n",
            "Enter your BMI: 24\n",
            "Enter your gender: female\n",
            "After checking your gender 'female' and your BMI '24.0':\n",
            "You are healthy.\n"
          ]
        }
      ]
    },
    {
      "cell_type": "markdown",
      "source": [
        "# **Rule based programming.**"
      ],
      "metadata": {
        "id": "9gUQg2CTOwrD"
      }
    },
    {
      "cell_type": "code",
      "source": [
        "abroad= input(\"do you wanna go abroad? (yes\\no:\")\n",
        "if abroad == \"yes\":\n",
        "  country = input (\" which country do you prefer? (qatar,UK,USA,thialand,china)\")\n",
        "  if country == \"Qatar\":\n",
        "    print (\" wow, you are going to Qatar\")\n",
        "    if country == \" UK\":\n",
        "      print (\" wow, you are going to UK\")\n",
        "      if country == \"USA\":\n",
        "        print (\" wow, you are going to USA\")\n",
        "        if country == \"thialand\":\n",
        "          print (\" wow, you are going to thialand\")\n",
        "          if country == \"china\":\n",
        "            print (\" wow, you are going to china\")\n",
        "        else:\n",
        "              print(\"you are going to any country. \")\n",
        "      else:\n",
        "           plans=input(\"then what's the plan? ( Admission in AIC or Google culb)\")\n",
        "      if plans == \"Admission in AIC\" :\n",
        "        print (\" wow , you are selected .\")\n",
        "        if plans == \" admission in Google culb\":\n",
        "         print (\" wow , you are selected as google culb.\")\n",
        "      else:\n",
        "        print (\"you are not going to any plan.\")\n",
        "\n",
        "\n"
      ],
      "metadata": {
        "colab": {
          "base_uri": "https://localhost:8080/"
        },
        "id": "s_wJeFylO8yZ",
        "outputId": "b06aaf2a-d001-467b-eba5-518e1152ac1e"
      },
      "execution_count": null,
      "outputs": [
        {
          "output_type": "stream",
          "name": "stdout",
          "text": [
            "do you wanna go abroad? (yes\n",
            "o:yes\n",
            " which country do you prefer? (qatar,UK,USA,thialand,china)Qatar\n",
            " wow, you are going to Qatar\n"
          ]
        }
      ]
    },
    {
      "cell_type": "code",
      "source": [
        "food = input(\" which food do you like ?\")\n",
        "if food == \" dessert \":\n",
        " food = input(\" which food do you like ? ( dessert, spicy)\")\n",
        "print= (\" ohh , you gain weight easily.\")\n",
        "if food == (\" spicy \"):\n",
        "  print (\" ymmy, so delicious \")\n",
        "  if food == (\" dessert \"):\n",
        "    print (\" ohh , you gain weight easily.\")\n",
        "  else:\n",
        "    print (\" too much food availbale.\")\n",
        "\n",
        "else:\n",
        "\n",
        " drink = input(\" which drink do you prefer?( coca cola, sprite, fanta, 7up)\")\n",
        "if drink == \" coca cola\":\n",
        "    print (\" its too cold .\")\n",
        "elif drink == \" sprite\":\n",
        "    print (\" serve to gentle man.\")\n",
        "elif drink == \" fanta\":\n",
        "    print (\"for Alisha.\")\n",
        "elif drink == \" 7up\":\n",
        "    print (\" give to the laiba .\")\n",
        "\n",
        "\n",
        "\n",
        "\n",
        "\n",
        "\n",
        "\n",
        "\n"
      ],
      "metadata": {
        "colab": {
          "base_uri": "https://localhost:8080/"
        },
        "id": "uKjJPN3FXPEK",
        "outputId": "36449b17-2c1f-44b5-92c2-fcadd11c417d"
      },
      "execution_count": null,
      "outputs": [
        {
          "name": "stdout",
          "output_type": "stream",
          "text": [
            " which food do you like ?spicy\n",
            " which drink do you prefer?( coca cola, sprite, fanta, 7up)fanta\n"
          ]
        }
      ]
    },
    {
      "cell_type": "code",
      "source": [
        "pet = input(\"What kind of pet do you prefer? (dog, cat, bird, reptile): \").strip().lower()\n",
        "\n",
        "if pet == \"dog\":\n",
        "    print(\"A Labrador Retriever or German Shepherd would be a loyal companion.\")\n",
        "elif pet == \"cat\":\n",
        "    print(\"Consider a Siamese or Maine Coon cat.\")\n",
        "elif pet == \"bird\":\n",
        "    print(\"How about a parrot or a canary?\")\n",
        "elif pet == \"reptile\":\n",
        "    print(\"You might like a bearded dragon or a leopard gecko.\")\n",
        "else:\n",
        "    print(\"That's an interesting choice! Research the pet that suits you best.\")\n",
        "\n",
        "\n",
        "\n",
        "    goal = input(\"What is your fitness goal? (weight loss, muscle gain, flexibility, endurance): \").strip().lower()\n",
        "\n",
        "\n",
        "if goal == \"weight loss\":\n",
        "    print(\"Try cardio exercises like running or cycling.\")\n",
        "elif goal == \"muscle gain\":\n",
        "    print(\"Focus on weightlifting and strength training.\")\n",
        "elif goal == \"flexibility\":\n",
        "    print(\"Incorporate yoga or Pilates into your routine.\")\n",
        "elif goal == \"endurance\":\n",
        "    print(\"Engage in long-distance running or swimming.\")\n",
        "else:\n",
        "    print(\"Set a clear goal to get started on your fitness journey!\")\n"
      ],
      "metadata": {
        "id": "2UkuD_cCjKiv"
      },
      "execution_count": null,
      "outputs": []
    },
    {
      "cell_type": "code",
      "source": [
        "vacation = input(\"What kind of vacation do you prefer? (beach, mountain, city, adventure): \").strip().lower()\n",
        "\n",
        "\n",
        "if vacation == \"beach\":\n",
        "    print(\"Consider visiting the Maldives or Hawaii!\")\n",
        "elif vacation == \"mountain\":\n",
        "    print(\"Explore the Swiss Alps or the Rocky Mountains.\")\n",
        "elif vacation == \"city\":\n",
        "    print(\"Plan a trip to New York City or Tokyo.\")\n",
        "elif vacation == \"adventure\":\n",
        "    print(\"Try a safari in Africa or hiking in Patagonia.\")\n",
        "else:\n",
        "    print(\"That sounds exciting! Look for unique destinations online.\")\n",
        "\n",
        "    meal = input(\"What meal do you prefer? (breakfast, lunch, dinner): \").strip().lower()\n",
        "\n",
        "if meal == \"breakfast\":\n",
        "    print(\"How about pancakes and orange juice?\")\n",
        "elif meal == \"lunch\":\n",
        "    print(\"A sandwich and a side of salad sounds great!\")\n",
        "elif meal == \"dinner\":\n",
        "    print(\"Try pasta with garlic bread.\")\n",
        "else:\n",
        "    print(\"We couldn't identify your meal choice. Please try again!\")"
      ],
      "metadata": {
        "id": "F-xpxUXak3Yp"
      },
      "execution_count": null,
      "outputs": []
    },
    {
      "cell_type": "code",
      "source": [
        "genre = input(\"What type of movies do you like? (action, comedy, drama, horror): \").strip().lower()\n",
        "\n",
        "if genre == \"action\":\n",
        "    print(\"You might enjoy 'Mad Max: Fury Road' or 'John Wick'.\")\n",
        "elif genre == \"comedy\":\n",
        "    print(\"Check out 'Superbad' or 'The Grand Budapest Hotel'.\")\n",
        "elif genre == \"drama\":\n",
        "    print(\"Try 'The Shawshank Redemption' or 'Forrest Gump'.\")\n",
        "elif genre == \"horror\":\n",
        "    print(\"Watch 'The Conjuring' or 'Hereditary' if you dare!\")\n",
        "else:\n",
        "    print(\"Sorry, I don't have recommendations for that genre.\")\n",
        "\n",
        "\n",
        "    weather = input(\"How is the weather today? (sunny, rainy, cloudy, snowy): \").strip().lower()\n",
        "\n",
        "# Weather-based suggestions\n",
        "if weather == \"sunny\":\n",
        "    print(\"It's a great day to go to the beach!\")\n",
        "elif weather == \"rainy\":\n",
        "    print(\"Don't forget your umbrella.\")\n",
        "elif weather == \"cloudy\":\n",
        "    print(\"It might rain, carry a light jacket just in case.\")\n",
        "elif weather == \"snowy\":\n",
        "    print(\"Stay warm and drive safely!\")\n",
        "else:\n",
        "    print(\"I don't recognize that weather condition.\")"
      ],
      "metadata": {
        "id": "VBt3rlq-lFkS"
      },
      "execution_count": null,
      "outputs": []
    },
    {
      "cell_type": "markdown",
      "source": [
        "# **THE END**"
      ],
      "metadata": {
        "id": "ILjYVj6WlmWN"
      }
    },
    {
      "cell_type": "code",
      "source": [],
      "metadata": {
        "id": "rM2mRFfRlqTc"
      },
      "execution_count": null,
      "outputs": []
    }
  ]
}