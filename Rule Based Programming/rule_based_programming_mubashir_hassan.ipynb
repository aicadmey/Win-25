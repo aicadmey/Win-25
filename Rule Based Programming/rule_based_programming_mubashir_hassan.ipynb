{
  "nbformat": 4,
  "nbformat_minor": 0,
  "metadata": {
    "colab": {
      "provenance": []
    },
    "kernelspec": {
      "name": "python3",
      "display_name": "Python 3"
    },
    "language_info": {
      "name": "python"
    }
  },
  "cells": [
    {
      "cell_type": "code",
      "execution_count": null,
      "metadata": {
        "colab": {
          "base_uri": "https://localhost:8080/"
        },
        "id": "KLXW95zazIoL",
        "outputId": "cd5c4096-cec5-4b8f-c898-31b3a76f99fb"
      },
      "outputs": [
        {
          "output_type": "stream",
          "name": "stdout",
          "text": [
            "Your current balance is $1000.\n",
            "Please visit our website to reset your password.\n"
          ]
        }
      ],
      "source": [
        "def chatbot(query):\n",
        "    if \"balance\" in query.lower():\n",
        "        return \"Your current balance is $1000.\"  # Placeholder\n",
        "    elif \"password\" in query.lower() and \"reset\" in query.lower():\n",
        "        return \"Please visit our website to reset your password.\"\n",
        "    elif \"open hours\" in query.lower():\n",
        "        return \"We are open from 9 AM to 5 PM, Monday to Friday.\"\n",
        "    else:\n",
        "        return \"I'm sorry, I didn't understand your question.\"\n",
        "\n",
        "print(chatbot(\"What is my balance?\"))\n",
        "print(chatbot(\"How do I reset my password?\"))"
      ]
    },
    {
      "cell_type": "code",
      "source": [
        "def is_spam(email):\n",
        "    spam_keywords = [\"free money\", \"guarantee\", \"win a prize\", \"urgent\"]\n",
        "    for keyword in spam_keywords:\n",
        "        if keyword in email.lower():\n",
        "            return True\n",
        "    if \"http://\" in email.lower() and \"click here\" in email.lower(): #more complex rule\n",
        "        return True\n",
        "    return False\n",
        "\n",
        "email1 = \"Congratulations! You've won a prize!\"\n",
        "email2 = \"Meeting agenda attached.\"\n",
        "email3 = \"URGENT: Click here to claim your free money at http://example.com\"\n",
        "\n",
        "print(is_spam(email1))\n",
        "print(is_spam(email2))\n",
        "print(is_spam(email3))"
      ],
      "metadata": {
        "colab": {
          "base_uri": "https://localhost:8080/"
        },
        "id": "zOfEnvO0zsAx",
        "outputId": "a1c807f6-0c2d-40d5-9ffb-561aa14bc5d4"
      },
      "execution_count": null,
      "outputs": [
        {
          "output_type": "stream",
          "name": "stdout",
          "text": [
            "False\n",
            "False\n",
            "True\n"
          ]
        }
      ]
    },
    {
      "cell_type": "code",
      "source": [
        "def calculate_grade(score):\n",
        "    if score >= 90:\n",
        "        return \"A\"\n",
        "    elif score >= 80:\n",
        "        return \"B\"\n",
        "    elif score >= 70:\n",
        "        return \"C\"\n",
        "    elif score >= 60:\n",
        "        return \"D\"\n",
        "    else:\n",
        "        return \"F\"\n",
        "print(calculate_grade(85))"
      ],
      "metadata": {
        "colab": {
          "base_uri": "https://localhost:8080/"
        },
        "id": "_gn2BjhU0CNh",
        "outputId": "86bd8519-ae60-4092-ff98-ab59e72a2645"
      },
      "execution_count": null,
      "outputs": [
        {
          "output_type": "stream",
          "name": "stdout",
          "text": [
            "B\n"
          ]
        }
      ]
    },
    {
      "cell_type": "code",
      "source": [
        "def calculate_shipping_cost(weight, destination):\n",
        "    if weight < 1:\n",
        "        base_cost = 5\n",
        "    else:\n",
        "        base_cost = 5 + (weight - 1) * 2\n",
        "\n",
        "    if destination == \"International\":\n",
        "        return base_cost * 2\n",
        "    else:\n",
        "        return base_cost\n",
        "\n",
        "print(calculate_shipping_cost(2, \"Domestic\"))\n",
        "print(calculate_shipping_cost(2, \"International\"))"
      ],
      "metadata": {
        "colab": {
          "base_uri": "https://localhost:8080/"
        },
        "id": "kFQU_H5y0XHc",
        "outputId": "65c10da3-74b7-4c98-e492-2e0bfd797b85"
      },
      "execution_count": null,
      "outputs": [
        {
          "output_type": "stream",
          "name": "stdout",
          "text": [
            "7\n",
            "14\n"
          ]
        }
      ]
    },
    {
      "cell_type": "code",
      "source": [
        "def validate_user_input(data):\n",
        "    errors = []\n",
        "    if \"name\" not in data or not data[\"name\"]:\n",
        "        errors.append(\"Name is required.\")\n",
        "    if \"age\" in data and not isinstance(data[\"age\"], int):\n",
        "        errors.append(\"Age must be a number.\")\n",
        "    elif \"age\" in data and data[\"age\"] < 0:\n",
        "        errors.append(\"Age cannot be negative.\")\n",
        "    if \"email\" in data and \"@\" not in data[\"email\"]:\n",
        "        errors.append(\"Invalid email format.\")\n",
        "    return errors\n",
        "\n",
        "user_data = {\"name\": \"mubashir\", \"age\": \"24\", \"email\": \"mubashir.vti08@gmail.com\"}\n",
        "print(validate_user_input(user_data))\n",
        "\n",
        "user_data2 = {\"age\": -5, \"email\": \"invalidemail\"}\n",
        "print(validate_user_input(user_data2))"
      ],
      "metadata": {
        "colab": {
          "base_uri": "https://localhost:8080/"
        },
        "id": "4jFdaAhR0wCF",
        "outputId": "4cf14fc4-9ed4-4d9c-e53c-12fd4ff827b9"
      },
      "execution_count": null,
      "outputs": [
        {
          "output_type": "stream",
          "name": "stdout",
          "text": [
            "['Age must be a number.']\n",
            "['Name is required.', 'Age cannot be negative.', 'Invalid email format.']\n"
          ]
        }
      ]
    }
  ]
}