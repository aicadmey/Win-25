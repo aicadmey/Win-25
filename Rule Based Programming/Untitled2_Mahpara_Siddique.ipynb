{
  "nbformat": 4,
  "nbformat_minor": 0,
  "metadata": {
    "colab": {
      "provenance": []
    },
    "kernelspec": {
      "name": "python3",
      "display_name": "Python 3"
    },
    "language_info": {
      "name": "python"
    }
  },
  "cells": [
    {
      "cell_type": "code",
      "execution_count": null,
      "metadata": {
        "colab": {
          "base_uri": "https://localhost:8080/"
        },
        "id": "aR3EQoG-ATsE",
        "outputId": "3e928e78-7654-4905-e489-71242af846cf"
      },
      "outputs": [
        {
          "output_type": "stream",
          "name": "stdout",
          "text": [
            "Deploy drilling tools\n",
            "Hold position\n"
          ]
        }
      ],
      "source": [
        "# example1\n",
        "def rover_command(terrain):\n",
        "    rules = {\n",
        "        \"rocky\": \"Deploy drilling tools\",\n",
        "        \"sandy\": \"Activate surface sensors\",\n",
        "        \"icy\": \"Use thermal probes\",\n",
        "        \"unknown\": \"Initiate scanning\",\n",
        "    }\n",
        "    return rules.get(terrain.lower(), \"Hold position\")\n",
        "\n",
        "# print results\n",
        "print(rover_command(\"rocky\"))\n",
        "print(rover_command(\"alien\"))\n"
      ]
    },
    {
      "cell_type": "code",
      "source": [
        "# example2\n",
        "def hacking_alert(level):\n",
        "    rules = {\n",
        "        \"critical\": \"Shutdown all systems\",\n",
        "        \"high\": \"Activate firewall lockdown\",\n",
        "        \"medium\": \"Log the attempt and notify admin\",\n",
        "        \"low\": \"Monitor suspicious activity\",\n",
        "    }\n",
        "    return rules.get(level.lower(), \"Invalid alert level\")\n",
        "\n",
        "\n",
        "print(hacking_alert(\"critical\"))\n",
        "print(hacking_alert(\"medium\"))\n"
      ],
      "metadata": {
        "colab": {
          "base_uri": "https://localhost:8080/"
        },
        "id": "_QpQKMY8BD4y",
        "outputId": "20bc8c0a-fdee-4882-e2a3-cd18e3d6ce30"
      },
      "execution_count": null,
      "outputs": [
        {
          "output_type": "stream",
          "name": "stdout",
          "text": [
            "Shutdown all systems\n",
            "Log the attempt and notify admin\n"
          ]
        }
      ]
    },
    {
      "cell_type": "code",
      "source": [
        "# example3\n",
        "def classify_lifeform(traits):\n",
        "    rules = {\n",
        "        frozenset([\"bipedal\", \"intelligent\", \"tool-user\"]): \"Humanoid\",\n",
        "        frozenset([\"six-limbed\", \"chitin exoskeleton\"]): \"Insectoid\",\n",
        "        frozenset([\"amphibious\", \"regenerative\"]): \"Aquatic Species\",\n",
        "    }\n",
        "    for trait_set, classification in rules.items():\n",
        "        if trait_set.issubset(traits):\n",
        "            return classification\n",
        "    return \"Unknown species\"\n",
        "\n",
        "traits = {\"bipedal\", \"intelligent\", \"tool-user\"}\n",
        "print(classify_lifeform(traits))\n"
      ],
      "metadata": {
        "colab": {
          "base_uri": "https://localhost:8080/"
        },
        "id": "yr474k6IBM2p",
        "outputId": "02f9e3aa-644e-43bf-ff54-ec3c1982176e"
      },
      "execution_count": null,
      "outputs": [
        {
          "output_type": "stream",
          "name": "stdout",
          "text": [
            "Humanoid\n"
          ]
        }
      ]
    },
    {
      "cell_type": "code",
      "source": [
        "# example4\n",
        "def contact_protocol(signal_type):\n",
        "    rules = {\n",
        "        \"friendly\": \"Send greetings in universal language\",\n",
        "        \"hostile\": \"Activate defense systems\",\n",
        "        \"neutral\": \"Send non-threatening response\",\n",
        "        \"unknown\": \"Initiate detailed analysis\",\n",
        "    }\n",
        "    return rules.get(signal_type.lower(), \"Ignore signal\")\n",
        "\n",
        "\n",
        "print(contact_protocol(\"friendly\"))\n",
        "print(contact_protocol(\"hostile\"))\n"
      ],
      "metadata": {
        "colab": {
          "base_uri": "https://localhost:8080/"
        },
        "id": "xN7nR-lsBYLS",
        "outputId": "db028b12-52ab-4eb3-ecc7-cf49bbb35d7b"
      },
      "execution_count": null,
      "outputs": [
        {
          "output_type": "stream",
          "name": "stdout",
          "text": [
            "Send greetings in universal language\n",
            "Activate defense systems\n"
          ]
        }
      ]
    },
    {
      "cell_type": "code",
      "source": [
        "# example5\n",
        "def terraforming_plan(planet_type):\n",
        "    rules = {\n",
        "        \"earth-like\": \"Establish habitats\",\n",
        "        \"arid\": \"Introduce water systems\",\n",
        "        \"toxic\": \"Deploy atmospheric scrubbers\",\n",
        "        \"frozen\": \"Use thermal reactors\",\n",
        "    }\n",
        "    return rules.get(planet_type.lower(), \"Conduct further analysis\")\n",
        "\n",
        "\n",
        "print(terraforming_plan(\"frozen\"))\n",
        "print(terraforming_plan(\"gas giant\"))\n"
      ],
      "metadata": {
        "colab": {
          "base_uri": "https://localhost:8080/"
        },
        "id": "sCTMCQ7rBhig",
        "outputId": "7e0f9310-aacd-456c-86ef-32c2ee584bbe"
      },
      "execution_count": null,
      "outputs": [
        {
          "output_type": "stream",
          "name": "stdout",
          "text": [
            "Use thermal reactors\n",
            "Conduct further analysis\n"
          ]
        }
      ]
    }
  ]
}