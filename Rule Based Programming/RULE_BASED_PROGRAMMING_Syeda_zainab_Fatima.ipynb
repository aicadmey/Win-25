{
  "nbformat": 4,
  "nbformat_minor": 0,
  "metadata": {
    "colab": {
      "provenance": []
    },
    "kernelspec": {
      "name": "python3",
      "display_name": "Python 3"
    },
    "language_info": {
      "name": "python"
    }
  },
  "cells": [
    {
      "cell_type": "code",
      "execution_count": null,
      "metadata": {
        "id": "M_awIZ_mCS8G"
      },
      "outputs": [],
      "source": [
        "# W25-PAK-INP-AI-01\n",
        "# SYEDA ZAINAB FATIMA"
      ]
    },
    {
      "cell_type": "code",
      "source": [
        "# RULE BASED PROGRAMMING"
      ],
      "metadata": {
        "id": "ASULzzqbDTcE"
      },
      "execution_count": null,
      "outputs": []
    },
    {
      "cell_type": "code",
      "source": [
        "# EXAMPLE 1\n",
        "weather = input(\"enter the weather condition: \")\n",
        "if weather == \"rainy\":\n",
        "  print(\"take the umbrella with you\")\n",
        "elif weather == \"sunny\":\n",
        "  print(\"wear sunglasses\")\n",
        "elif weather == \"cold\":\n",
        "  print(\"please wear warm clothes\")\n",
        "else:\n",
        "  print(\"check the weather conditions\")"
      ],
      "metadata": {
        "colab": {
          "base_uri": "https://localhost:8080/"
        },
        "id": "TmECvEVzDTf3",
        "outputId": "d8ea309b-cdc5-4fca-cd04-5dff9905cdf2"
      },
      "execution_count": null,
      "outputs": [
        {
          "output_type": "stream",
          "name": "stdout",
          "text": [
            "enter the weather condition: sunny\n",
            "wear sunglasses\n"
          ]
        }
      ]
    },
    {
      "cell_type": "code",
      "source": [
        "# EXAMPLE 2\n",
        "BMI = float(input(\"Please enter your BMI: \"))\n",
        "if BMI >= 18.5 and BMI <= 24.9:\n",
        "  print(\"you are healthy\")\n",
        "elif BMI >= 25 and BMI <=29.9:\n",
        "  print(\"you are overwieght\")\n",
        "elif BMI >= 30 and BMI <= 39.9:\n",
        "  print(\"you are obese\")\n",
        "else:\n",
        "  print(\"you are underweight\")"
      ],
      "metadata": {
        "colab": {
          "base_uri": "https://localhost:8080/"
        },
        "id": "aWXnpBP7DTjU",
        "outputId": "64fa4bed-135e-42a3-f5de-0480ad9b916a"
      },
      "execution_count": null,
      "outputs": [
        {
          "output_type": "stream",
          "name": "stdout",
          "text": [
            "Please enter your BMI: 28.5\n",
            "you are overwieght\n"
          ]
        }
      ]
    },
    {
      "cell_type": "code",
      "source": [
        "# EXAMPLE 3\n",
        "age = int(input(\"enter your age: \"))\n",
        "\n",
        "if age > 20:\n",
        "  print(\"you should have a driving license\")\n",
        "elif age == 18:\n",
        "  print(\"you are elligible to have a driving license\")\n",
        "elif age < 18 and age > 16:\n",
        "  print(\"you are not elligible to have a driving license\")\n",
        "else:\n",
        "  print(\"you are still a kid\")"
      ],
      "metadata": {
        "colab": {
          "base_uri": "https://localhost:8080/"
        },
        "id": "VzjgAP5IDTm6",
        "outputId": "b2e4e668-eda2-49f4-9683-a65c47a87515"
      },
      "execution_count": null,
      "outputs": [
        {
          "output_type": "stream",
          "name": "stdout",
          "text": [
            "enter your age: 15\n",
            "you are still a kid\n"
          ]
        }
      ]
    },
    {
      "cell_type": "code",
      "source": [
        "# EXAMPLE 4\n",
        "Presence = True\n",
        "time = input(\"please enter the time: \")\n",
        "weather = input(\"please enter the weather: \")\n",
        "if Presence:\n",
        "  if time == \"morning\" and weather == \"hot\":\n",
        "    print(\"It's a good morning! time to make some coffee\")\n",
        "  elif time ==\"evening\" and weather == \"cold\":\n",
        "    print(\"It's cold, turn on the heater\")\n",
        "  elif time == \"night\" and weather == \"slightly cold\":\n",
        "    print(\"lock all the doors before going to bed\")\n",
        "else:\n",
        "  # if time == \"midnight\" and weather == \"normal\":\n",
        "    print(\"Turn off the heater and close curtains to save energy.\")"
      ],
      "metadata": {
        "colab": {
          "base_uri": "https://localhost:8080/"
        },
        "id": "FOmZ6PcpDTrF",
        "outputId": "79bee65f-7868-4df0-d8db-0de5ab870d9e"
      },
      "execution_count": null,
      "outputs": [
        {
          "name": "stdout",
          "output_type": "stream",
          "text": [
            "please enter the time: midnight\n",
            "please enter the weather: normal\n"
          ]
        }
      ]
    },
    {
      "cell_type": "code",
      "source": [
        "# EXAMPLE 5\n",
        "username = input(\"Enter your username: \")\n",
        "password = input(\"Enter your password: \")\n",
        "if username == \"admin\" and password == \"1234\":\n",
        "    print(\"Access Granted.\")\n",
        "else:\n",
        "    print(\"Access Denied.\")\n"
      ],
      "metadata": {
        "colab": {
          "base_uri": "https://localhost:8080/"
        },
        "id": "wpxNfSsFDTub",
        "outputId": "6c252177-69fe-45fb-ecab-e3164ace30f0"
      },
      "execution_count": null,
      "outputs": [
        {
          "output_type": "stream",
          "name": "stdout",
          "text": [
            "Enter your username: admin\n",
            "Enter your password: 1234\n",
            "Access Granted.\n"
          ]
        }
      ]
    },
    {
      "cell_type": "code",
      "source": [],
      "metadata": {
        "id": "QLAqnZxfDTx-"
      },
      "execution_count": null,
      "outputs": []
    },
    {
      "cell_type": "code",
      "source": [],
      "metadata": {
        "id": "n7oAcnfODT1o"
      },
      "execution_count": null,
      "outputs": []
    }
  ]
}