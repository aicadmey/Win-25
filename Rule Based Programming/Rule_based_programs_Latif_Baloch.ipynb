{
  "nbformat": 4,
  "nbformat_minor": 0,
  "metadata": {
    "colab": {
      "provenance": []
    },
    "kernelspec": {
      "name": "python3",
      "display_name": "Python 3"
    },
    "language_info": {
      "name": "python"
    }
  },
  "cells": [
    {
      "cell_type": "code",
      "execution_count": null,
      "metadata": {
        "id": "e_iQTSXaZIy8"
      },
      "outputs": [],
      "source": [
        "def classify_planet(size, distance_from_sun):\n",
        "    # Define the rules for classifying planets\n",
        "    if size == \"large\" and distance_from_sun < 2:\n",
        "        return \"Gas Giant\"\n",
        "    elif size == \"small\" and distance_from_sun > 3:\n",
        "        return \"Rocky Planet\"\n",
        "    elif size == \"medium\" and distance_from_sun < 3:\n",
        "        return \"Potential for Life\"\n",
        "    else:\n",
        "        return \"Unknown Type\"\n",
        "\n",
        "# Example usage\n",
        "size = \"large\"\n",
        "distance_from_sun = 0.5\n",
        "print(classify_planet(size, distance_from_sun))  # Output: Gas Giant\n",
        "#2\n",
        "def classify_animal(is_warm_blooded, lays_eggs):\n",
        "    # Define the rules for animal classification\n",
        "    if is_warm_blooded and not lays_eggs:\n",
        "        return \"Mammal\"\n",
        "    elif not is_warm_blooded and lays_eggs:\n",
        "        return \"Reptile\"\n",
        "    elif is_warm_blooded and lays_eggs:\n",
        "        return \"Bird\"\n",
        "    else:\n",
        "        return \"Unknown Species\"\n",
        "\n",
        "# Example usage\n",
        "is_warm_blooded = True\n",
        "lays_eggs = False\n",
        "print(classify_animal(is_warm_blooded, lays_eggs))  # Output: Mammal\n",
        "#3\n",
        "def simple_chatbot(user_input):\n",
        "    # Define the rules\n",
        "    if \"hello\" in user_input.lower():\n",
        "        return \"Hi there! How can I help you today?\"\n",
        "    elif \"weather\" in user_input.lower():\n",
        "        return \"The weather is great today!\"\n",
        "    elif \"bye\" in user_input.lower():\n",
        "        return \"Goodbye! Have a nice day!\"\n",
        "    else:\n",
        "        return \"Sorry, I don't understand. Could you rephrase?\"\n",
        "\n",
        "# Example usage\n",
        "user_input = \"What is the weather like?\"\n",
        "print(simple_chatbot(user_input))  # Output: The weather is great today!\n",
        "#4\n",
        "def ai_decision(health, enemy_distance):\n",
        "    # Define the rules for decision-making\n",
        "    if health > 75 and enemy_distance < 10:\n",
        "        return \"Attack\"\n",
        "    elif health <= 75 and enemy_distance < 5:\n",
        "        return \"Retreat\"\n",
        "    elif health > 50 and enemy_distance > 20:\n",
        "        return \"Search for Health Pack\"\n",
        "    else:\n",
        "        return \"Idle\"\n",
        "\n",
        "# Example usage\n",
        "health = 80\n",
        "enemy_distance = 5\n",
        "print(ai_decision(health, enemy_distance))  # Output: Attack\n",
        "#5\n",
        "def trading_decision(stock_price, RSI):\n",
        "    # Define the rules\n",
        "    if stock_price > 100 and RSI < 30:\n",
        "        return \"BUY\"\n",
        "    elif stock_price < 50 and RSI > 70:\n",
        "        return \"SELL\"\n",
        "    else:\n",
        "        return \"HOLD\"\n",
        "\n",
        "# Example usage\n",
        "stock_price = 120\n",
        "RSI = 25\n",
        "print(trading_decision(stock_price, RSI))  # Output: BUY\n",
        "\n"
      ]
    },
    {
      "cell_type": "code",
      "source": [],
      "metadata": {
        "id": "b7lznVgfZNrf"
      },
      "execution_count": null,
      "outputs": []
    }
  ]
}