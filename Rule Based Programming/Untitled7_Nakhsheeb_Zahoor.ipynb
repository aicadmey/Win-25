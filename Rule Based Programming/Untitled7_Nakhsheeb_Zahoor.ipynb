{
  "nbformat": 4,
  "nbformat_minor": 0,
  "metadata": {
    "colab": {
      "provenance": []
    },
    "kernelspec": {
      "name": "python3",
      "display_name": "Python 3"
    },
    "language_info": {
      "name": "python"
    }
  },
  "cells": [
    {
      "cell_type": "code",
      "execution_count": null,
      "metadata": {
        "colab": {
          "base_uri": "https://localhost:8080/"
        },
        "id": "2XhNMOBh_AyD",
        "outputId": "4a0ef4b3-7470-451d-9f16-24729aa17347"
      },
      "outputs": [
        {
          "output_type": "stream",
          "name": "stdout",
          "text": [
            "Are you Employed? (yes/no): no\n",
            "What is your age?: 19\n",
            "Do you have a degree? (yes/no): yes\n",
            "Recently Graduated, Unemployed\n"
          ]
        }
      ],
      "source": [
        "#rule based programming\n",
        "\n",
        "status = input(\"Are you Employed? (yes/no): \")\n",
        "age = int(input(\"What is your age?: \"))\n",
        "has_degree = input(\"Do you have a degree? (yes/no): \")\n",
        "if status == 'yes':\n",
        "        print ('Employed')\n",
        "elif status == 'no':\n",
        "        if age < 25 and has_degree:\n",
        "            print ('Recently Graduated, Unemployed')\n",
        "        elif age >= 25 and has_degree:\n",
        "            print ('Degree Holder, Unemployed')\n",
        "        elif age < 25 and not has_degree:\n",
        "            print ('Young, Unemployed')\n",
        "        elif age >= 25 and not has_degree:\n",
        "            print ('Young, Unemployed')\n",
        "        else:\n",
        "            print ('Unemployed')\n",
        "else:\n",
        "        print ('Status Unknown')\n",
        "\n",
        "\n",
        "\n",
        "\n",
        "\n",
        "\n",
        "\n",
        "\n"
      ]
    },
    {
      "cell_type": "code",
      "source": [
        "status = input(\"Are you Student or Teacher? (yes/no): \")\n",
        "age = int(input(\"What is your age?: \"))\n",
        "if status == 'yes':\n",
        "        print ('You are studying and are being productive,cheers')\n",
        "if age <= 25 :\n",
        "            print ('you are young,cool')\n",
        "elif age >= 25:\n",
        "            print ('so you are offically an adult')\n",
        "elif status == 'no':\n",
        "           print ('you are a teacher')\n",
        "elif age < 25 :\n",
        "            print ('liar,humph')\n",
        "elif age >= 25 :\n",
        "            print ('congrats on your job')\n",
        "else:\n",
        "        print ('Status Unknown')"
      ],
      "metadata": {
        "colab": {
          "base_uri": "https://localhost:8080/"
        },
        "id": "2fZhS9qGCwJo",
        "outputId": "b788fa2f-33c1-4100-8a18-5c9b805a8713"
      },
      "execution_count": null,
      "outputs": [
        {
          "output_type": "stream",
          "name": "stdout",
          "text": [
            "Are you Student or Teacher? (yes/no): yes\n",
            "What is your age?: 19\n",
            "You are studying and are being productive,cheers\n",
            "you are young,cool\n"
          ]
        }
      ]
    },
    {
      "cell_type": "code",
      "source": [
        "status = input(\"Are you happy? (yes/no)\")\n",
        "if status == ('yes'):\n",
        "    print('you are Happy')\n",
        "    print('you are ??? ')\n",
        "elif status == 'no':\n",
        "    print('you are sad')\n",
        "    print('probaby searching for a phychatrist,poor you have courage')\n",
        "\n",
        "else:\n",
        "    print('Status Unknown')\n"
      ],
      "metadata": {
        "colab": {
          "base_uri": "https://localhost:8080/"
        },
        "id": "WrcLAa2WEwKv",
        "outputId": "a6d68623-ada5-4c36-87f2-0de3c245f48e"
      },
      "execution_count": null,
      "outputs": [
        {
          "output_type": "stream",
          "name": "stdout",
          "text": [
            "Are you happy? (yes/no)no\n",
            "you are sad\n",
            "probaby searching for a phychatrist,poor you have courage\n"
          ]
        }
      ]
    },
    {
      "cell_type": "code",
      "source": [
        "field = input(\"Are you in the field of AI? (yes/no): \")\n",
        "experience = int(input(\"How many years of experience do you have?: \"))\n",
        "has_advanced_degree = input(\"Do you have an advanced degree? (yes/no): \")\n",
        "\n",
        "if field.lower() == 'yes':\n",
        "    print('AI Specialist')\n",
        "elif field.lower() == 'no':\n",
        "    if experience >= 5 and has_advanced_degree:\n",
        "        print('Experienced CS Professional with Advanced Degree')\n",
        "    elif experience >= 5 and not has_advanced_degree:\n",
        "        print('Experienced CS Professional')\n",
        "    elif experience < 5 and has_advanced_degree:\n",
        "        print('Early Career CS Professional with Advanced Degree')\n",
        "    elif experience < 5 and not has_advanced_degree:\n",
        "        print('Early Career CS Professional')\n",
        "    else:\n",
        "        print('CS Professional')\n",
        "else:\n",
        "    print('Field Unknown')\n"
      ],
      "metadata": {
        "colab": {
          "base_uri": "https://localhost:8080/"
        },
        "id": "j7vlZFEMGYBF",
        "outputId": "56303280-2df2-4d1b-8cfe-a8de3cf6a454"
      },
      "execution_count": null,
      "outputs": [
        {
          "output_type": "stream",
          "name": "stdout",
          "text": [
            "Are you in the field of AI? (yes/no): yes\n",
            "How many years of experience do you have?: 2\n",
            "Do you have an advanced degree? (yes/no): no\n",
            "AI Specialist\n"
          ]
        }
      ]
    },
    {
      "cell_type": "code",
      "source": [
        "field = input(\"Are you in  of AIC? (yes/no): \")\n",
        "\n",
        "\n",
        "if field == 'yes':\n",
        "    print('you are doing great,keep up the hardwork')\n",
        "elif field.lower() == 'no':\n",
        "    print('u are missing out,comeone wakeup, have a purpose buddy')\n",
        "else:\n",
        "    print('Field Unknown')\n"
      ],
      "metadata": {
        "colab": {
          "base_uri": "https://localhost:8080/"
        },
        "id": "mtfwsKTxHDpG",
        "outputId": "f8a72bd9-1b17-4adc-9945-35da7e5964d7"
      },
      "execution_count": null,
      "outputs": [
        {
          "output_type": "stream",
          "name": "stdout",
          "text": [
            "Are you in  of AIC? (yes/no): no\n",
            "u are missing out,comeone wakeup, have a purpose buddy\n"
          ]
        }
      ]
    }
  ]
}