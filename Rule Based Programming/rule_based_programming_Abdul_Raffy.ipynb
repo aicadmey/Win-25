{
  "cells": [
    {
      "cell_type": "code",
      "execution_count": null,
      "metadata": {
        "id": "FZPVBXo5PlAy",
        "outputId": "cb212b20-2f55-4add-a997-65e22849e5dc"
      },
      "outputs": [
        {
          "name": "stdout",
          "output_type": "stream",
          "text": [
            "Launch is GO!\n",
            "Launch can't go space mn jakr problem hoskti hai!\n"
          ]
        }
      ],
      "source": [
        "def check_launch_conditions(weather, fuel_level, systems_status):\n",
        "    if weather == \"clear\" and fuel_level >= 75 and systems_status == \"green\":\n",
        "        return \"Launch is GO!\"\n",
        "    else:\n",
        "        return \"Launch can't go space mn jakr problem hoskti hai!\"\n",
        "\n",
        "# Example usage\n",
        "print(check_launch_conditions(\"clear\", 80, \"green\"))\n",
        "print(check_launch_conditions(\"stormy\", 80, \"green\"))\n"
      ]
    },
    {
      "cell_type": "code",
      "execution_count": null,
      "metadata": {
        "id": "ZMSlf_BgPlA4",
        "outputId": "f8c221a9-8cd0-4105-dd70-848d9135014d"
      },
      "outputs": [
        {
          "name": "stdout",
          "output_type": "stream",
          "text": [
            "Terrestrial Planet\n",
            "Gas Giant\n",
            "Dwarf Planet\n"
          ]
        }
      ],
      "source": [
        "def classify_planet(size, distance_from_star):\n",
        "    if size > 10000 and distance_from_star < 1.5:\n",
        "        return \"Terrestrial Planet\"\n",
        "    elif size > 10000 and distance_from_star >= 1.5:\n",
        "        return \"Gas Giant\"\n",
        "    else:\n",
        "        return \"Dwarf Planet\"\n",
        "\n",
        "\n",
        "print(classify_planet(11000, 1.4))\n",
        "print(classify_planet(12000, 2.0))\n",
        "print(classify_planet(8000, 1.0))\n"
      ]
    },
    {
      "cell_type": "code",
      "execution_count": null,
      "metadata": {
        "id": "y4fW5sINPlA6",
        "outputId": "dd1185a4-d237-4300-bd1b-dd662fffd888"
      },
      "outputs": [
        {
          "name": "stdout",
          "output_type": "stream",
          "text": [
            "Turn and Move\n",
            "Don't move\n"
          ]
        }
      ],
      "source": [
        "def robot_action(obstacle_detected, battery_level):\n",
        "    if obstacle_detected and battery_level > 20:\n",
        "        return \"Turn and Move\"\n",
        "    elif obstacle_detected and battery_level <= 20:\n",
        "        return \"Stop and Recharge\"\n",
        "    else:\n",
        "        return \"Move forward\"\n",
        "\n",
        "\n",
        "print(robot_action(True, 50))\n",
        "print(robot_action(False, 15))\n"
      ]
    },
    {
      "cell_type": "code",
      "execution_count": null,
      "metadata": {
        "id": "fX34aN3EPlA6"
      },
      "outputs": [],
      "source": [
        "def cleaning_robot_mode(dirt_detected, time_of_day):\n",
        "    if dirt_detected and time_of_day == \"day\":\n",
        "        return \"Vacuuming Mode\"\n",
        "    elif dirt_detected and time_of_day == \"night\":\n",
        "        return \"Quiet Mode\"\n",
        "    else:\n",
        "        return \"Idle\"\n",
        "\n",
        "\n",
        "print(cleaning_robot_mode(True, \"day\"))\n",
        "print(cleaning_robot_mode(False, \"night\"))"
      ]
    },
    {
      "cell_type": "code",
      "execution_count": null,
      "metadata": {
        "id": "aCcPmh3bPlA7"
      },
      "outputs": [],
      "source": [
        "def enemy_action(player_health, distance_to_player):\n",
        "    if player_health < 20 and distance_to_player < 5:\n",
        "        return \"Attack\"\n",
        "    elif distance_to_player >= 5:\n",
        "        return \"Chase\"\n",
        "    else:\n",
        "        return \"Defend, Recall krley bhai Lol\"\n",
        "\n",
        "print(enemy_action(15, 3))\n",
        "print(enemy_action(50, 10))\n"
      ]
    }
  ],
  "metadata": {
    "kernelspec": {
      "display_name": "Python 3",
      "language": "python",
      "name": "python3"
    },
    "language_info": {
      "codemirror_mode": {
        "name": "ipython",
        "version": 3
      },
      "file_extension": ".py",
      "mimetype": "text/x-python",
      "name": "python",
      "nbconvert_exporter": "python",
      "pygments_lexer": "ipython3",
      "version": "3.13.1"
    },
    "colab": {
      "provenance": []
    }
  },
  "nbformat": 4,
  "nbformat_minor": 0
}