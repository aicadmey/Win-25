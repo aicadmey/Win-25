{
  "nbformat": 4,
  "nbformat_minor": 0,
  "metadata": {
    "colab": {
      "provenance": []
    },
    "kernelspec": {
      "name": "python3",
      "display_name": "Python 3"
    },
    "language_info": {
      "name": "python"
    }
  },
  "cells": [
    {
      "cell_type": "markdown",
      "source": [
        "\n",
        "\n",
        "# > **TASK # 8**\n",
        "\n"
      ],
      "metadata": {
        "id": "rTAFpCQ2JdXq"
      }
    },
    {
      "cell_type": "markdown",
      "source": [
        "# FUNCTIONS\n"
      ],
      "metadata": {
        "id": "-S5evfJHJHfa"
      }
    },
    {
      "cell_type": "markdown",
      "source": [
        "**WRITE 5 FUNCTIONS USING PARAMETER**"
      ],
      "metadata": {
        "id": "LvINKwD7JLmO"
      }
    },
    {
      "cell_type": "code",
      "source": [
        "def greet():\n",
        "  print (\" hello, welcome to phython world!\")\n"
      ],
      "metadata": {
        "id": "6d7HEJToJm9C"
      },
      "execution_count": null,
      "outputs": []
    },
    {
      "cell_type": "code",
      "source": [
        "def currentyear():\n",
        "\n",
        "  print(f\"The current year is 2024\")"
      ],
      "metadata": {
        "id": "EY5lZZXKMSOA"
      },
      "execution_count": null,
      "outputs": []
    },
    {
      "cell_type": "code",
      "source": [
        "def currentmood():\n",
        "    print (\" my mood is not so good\")"
      ],
      "metadata": {
        "id": "pJ9joAsIMoIC"
      },
      "execution_count": null,
      "outputs": []
    },
    {
      "cell_type": "code",
      "source": [
        "def printname(name):\n",
        "  print (f\"my name is {name}\")"
      ],
      "metadata": {
        "id": "iGnCK5RrM6xD"
      },
      "execution_count": null,
      "outputs": []
    },
    {
      "cell_type": "code",
      "source": [
        "def prime_numbers(numbers):\n",
        "  numbers={2,3,5,7}\n",
        "  print (numbers)"
      ],
      "metadata": {
        "id": "4DmyRf2QNY1G"
      },
      "execution_count": null,
      "outputs": []
    },
    {
      "cell_type": "code",
      "source": [
        "def print_numbers():\n",
        "    numbers = [1, 2, 3, 4, 5]\n",
        "    print(\"Numbers:\", numbers)"
      ],
      "metadata": {
        "id": "UUd4mm57N1_u"
      },
      "execution_count": null,
      "outputs": []
    },
    {
      "cell_type": "markdown",
      "source": [
        "**WRITE 5 FUNCTIONS WITH USING TWO PARAMETERS**"
      ],
      "metadata": {
        "id": "FI-daDIYOG1W"
      }
    },
    {
      "cell_type": "code",
      "source": [
        "def add_numbers(a, b):\n",
        "    print(sum)"
      ],
      "metadata": {
        "id": "mgz1igtzOSuO"
      },
      "execution_count": null,
      "outputs": []
    },
    {
      "cell_type": "code",
      "source": [
        "def concatenate_strings(str1, str2):\n",
        "    print (\"str1 + \" \" + str2 \")\n"
      ],
      "metadata": {
        "id": "Cd9FVkdqTNpT"
      },
      "execution_count": null,
      "outputs": []
    },
    {
      "cell_type": "code",
      "source": [
        "def greet(name, message):\n",
        "    print(f\"Hello, {name}! {message}\")"
      ],
      "metadata": {
        "id": "O1UwxrT4Y0Ju"
      },
      "execution_count": null,
      "outputs": []
    },
    {
      "cell_type": "code",
      "source": [
        "def is_multiple(num1, num2):\n",
        "    sum=num1 % num2 == 0\n",
        "print (\" sum\")"
      ],
      "metadata": {
        "colab": {
          "base_uri": "https://localhost:8080/"
        },
        "id": "FLMxME7AY_0D",
        "outputId": "c02ef686-d58a-4cb5-fdad-b217175a8c7b"
      },
      "execution_count": null,
      "outputs": [
        {
          "output_type": "stream",
          "name": "stdout",
          "text": [
            " sum\n"
          ]
        }
      ]
    },
    {
      "cell_type": "code",
      "source": [
        "def sub_numbers(a, b):\n",
        "    print(a - b)"
      ],
      "metadata": {
        "colab": {
          "base_uri": "https://localhost:8080/",
          "height": 106
        },
        "id": "YijnFQSTZ8Dt",
        "outputId": "cd96880c-e7da-44e6-e905-d0c6eaf81fef"
      },
      "execution_count": null,
      "outputs": [
        {
          "output_type": "error",
          "ename": "SyntaxError",
          "evalue": "expected ':' (<ipython-input-18-3f23367aa799>, line 1)",
          "traceback": [
            "\u001b[0;36m  File \u001b[0;32m\"<ipython-input-18-3f23367aa799>\"\u001b[0;36m, line \u001b[0;32m1\u001b[0m\n\u001b[0;31m    def sweethome ( greek , land )\u001b[0m\n\u001b[0m                                  ^\u001b[0m\n\u001b[0;31mSyntaxError\u001b[0m\u001b[0;31m:\u001b[0m expected ':'\n"
          ]
        }
      ]
    },
    {
      "cell_type": "markdown",
      "source": [
        "**write 5 functions using defalut values of parameters**"
      ],
      "metadata": {
        "id": "dGmBEoPPJcsn"
      }
    },
    {
      "cell_type": "code",
      "source": [
        "def greet(name=\"Guest\"):\n",
        "    print (f\"Hello, {name}!\")"
      ],
      "metadata": {
        "id": "IhPQ7CeKKqwK"
      },
      "execution_count": null,
      "outputs": []
    },
    {
      "cell_type": "code",
      "source": [
        "def name (name):\n",
        "  print (f\"my name is {name}\")"
      ],
      "metadata": {
        "id": "7k8XNv15MSla"
      },
      "execution_count": null,
      "outputs": []
    },
    {
      "cell_type": "code",
      "source": [
        "def age (age):\n",
        "  print (f\" my age is {age}\")"
      ],
      "metadata": {
        "id": "eQgUPkTeMmlB"
      },
      "execution_count": null,
      "outputs": []
    },
    {
      "cell_type": "code",
      "source": [
        "def color(color):\n",
        "  print (f\"my favourite color is {color}\")\n"
      ],
      "metadata": {
        "id": "EkPsAfs3MuGY"
      },
      "execution_count": null,
      "outputs": []
    },
    {
      "cell_type": "code",
      "source": [
        "def height(height):\n",
        "  print (f \" my height is { height}\")\n"
      ],
      "metadata": {
        "id": "BOwFEOOZNrBW"
      },
      "execution_count": null,
      "outputs": []
    },
    {
      "cell_type": "markdown",
      "source": [
        "**write 5 functions take inputs from user and pass them as arguments to function**"
      ],
      "metadata": {
        "id": "j7XG41tIN0aB"
      }
    },
    {
      "cell_type": "code",
      "source": [
        "def add_numbers(a, b):\n",
        "    return a + b\n",
        "\n",
        "# Take user input\n",
        "num1 = int(input(\"Enter the first number: \"))\n",
        "num2 = int(input(\"Enter the second number: \"))\n",
        "\n",
        "# Call the function and print the result\n",
        "result = add_numbers(num1, num2)\n",
        "print(f\"The sum of {num1} and {num2} is {result}.\")"
      ],
      "metadata": {
        "id": "_L-nSxb9OgIk"
      },
      "execution_count": null,
      "outputs": []
    },
    {
      "cell_type": "code",
      "source": [
        "def print_name(\"Alisha\", 20):\n",
        "\n",
        "\n",
        "  name= input (\" enter your name\")\n",
        "  age= int (input (\" enter your age\"))\n",
        "\n",
        "      print_name(name, age)\n"
      ],
      "metadata": {
        "id": "y6zuAkSsREhk"
      },
      "execution_count": null,
      "outputs": []
    },
    {
      "cell_type": "code",
      "source": [
        "def is_prime(number):\n",
        "    if number < 2:\n",
        "\n",
        "      # Take user input\n",
        "num = int(input(\"Enter a number to check if it is prime: \"))\n",
        "\n",
        "# Call the function and print the result\n",
        "if is_prime(num):\n",
        "    print(f\"{num} is a prime number.\")\n",
        "else:\n",
        "    print(f\"{num} is not a prime number.\")"
      ],
      "metadata": {
        "id": "Dc7fiYlqTJw3"
      },
      "execution_count": null,
      "outputs": []
    },
    {
      "cell_type": "code",
      "source": [
        "def print_dish(dish):\n",
        "\n",
        "  dish1= input( \" enter your favourite dish\")\n",
        "  print_dish(dish1)\n",
        "  print (f\"my favourite dish is {dish}\")\n"
      ],
      "metadata": {
        "id": "QQLbzNsfTPca"
      },
      "execution_count": null,
      "outputs": []
    },
    {
      "cell_type": "code",
      "source": [
        "def print_location(location):\n",
        "  location1= input( \" enter your favourite location\")\n",
        "  print_location(location1)\n",
        "  print (f\"my favourite location is {location}\")"
      ],
      "metadata": {
        "id": "pcKxWNtkTmDm"
      },
      "execution_count": null,
      "outputs": []
    }
  ]
}