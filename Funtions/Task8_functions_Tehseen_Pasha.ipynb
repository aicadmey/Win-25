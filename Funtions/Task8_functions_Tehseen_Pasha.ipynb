{
  "cells": [
    {
      "cell_type": "markdown",
      "metadata": {
        "id": "8nf9woFdyPS2"
      },
      "source": [
        " ■ Functions without parameters:"
      ]
    },
    {
      "cell_type": "code",
      "execution_count": null,
      "metadata": {
        "id": "o_f1pnwUyHEF"
      },
      "outputs": [],
      "source": [
        "\n",
        "# Example 1:\n",
        "def greet():\n",
        "  print(\"Hi, Tahseen!\")\n",
        "# Example 2:\n",
        "def display_date():\n",
        "  import datetime\n",
        "  today = datetime.date.today()\n",
        "  print(today)\n",
        "# Example 3:\n",
        "def calculate_pi():\n",
        "  from math import pi\n",
        "  print(pi)\n",
        "# Example 4:\n",
        "def generate_random_number():\n",
        "  import random\n",
        "  print(random.randint(1, 69))\n",
        "# Example 5:\n",
        "def play_sound():\n",
        " # hi, eman mam enjoy Spotify after checking assignment.\n",
        "  import playsound\n",
        "  playsound.playsound('Spotify')"
      ]
    },
    {
      "cell_type": "markdown",
      "metadata": {
        "id": "M-o2-Y1vyaN6"
      },
      "source": [
        " ■ Functions with two parameters:"
      ]
    },
    {
      "cell_type": "code",
      "execution_count": null,
      "metadata": {
        "id": "ZlwoAHVNyeWo"
      },
      "outputs": [],
      "source": [
        "\n",
        "# Example 1:\n",
        "def add_numbers(x, y):\n",
        "  result = x + y\n",
        "  print(result)\n",
        "# Example 2:\n",
        "def subtract_numbers(x, y):\n",
        "  result = x - y\n",
        "  print(result)\n",
        "# Example 3:\n",
        "def multiply_numbers(x, y):\n",
        "  result = x * y\n",
        "  print(result)\n",
        "# Example 4:\n",
        "def divide_numbers(x, y):\n",
        "  if y != 0:\n",
        "    result = x / y\n",
        "    print(result)\n",
        "  else:\n",
        "    print(\"Error: Division by zero\")\n",
        "# Example 5:\n",
        "def calculate_area(length, width):\n",
        "  area = length * width\n",
        "  print(area)"
      ]
    },
    {
      "cell_type": "markdown",
      "metadata": {
        "id": "T1-TG-7Yy5il"
      },
      "source": [
        " ■ Functions with default parameter values:"
      ]
    },
    {
      "cell_type": "code",
      "execution_count": null,
      "metadata": {
        "id": "NXq5u3May-8K"
      },
      "outputs": [],
      "source": [
        "\n",
        "# Example 1:\n",
        "def greet_person(name=\"User\"):\n",
        "  print(\"Hi,\", name)\n",
        "# Example 2:\n",
        "def calculate_power(base=1, exponent=4):\n",
        "  result = base ** exponent\n",
        "  print(result)\n",
        "# Example 3:\n",
        "def format_name(first_name, last_name=\"Nazar\"):\n",
        "  full_name = first_name + \" \" + last_name\n",
        "  print(full_name)\n",
        "# Example 4:\n",
        "def calculate_discount(price, discount_rate=0.1):\n",
        "  discounted_price = price - (price * discount_rate)\n",
        "  print(discounted_price)\n",
        "# Example 5:\n",
        "def check_prime(number, limit=50):\n",
        "  for i in range(2, limit):\n",
        "    if number % i == 0:\n",
        "      return False\n",
        "  return True"
      ]
    },
    {
      "cell_type": "markdown",
      "metadata": {
        "id": "kYHIRRprzI63"
      },
      "source": [
        " ■ Functions with user input as arguments:"
      ]
    },
    {
      "cell_type": "code",
      "execution_count": null,
      "metadata": {
        "id": "covY0Iq6zLI1"
      },
      "outputs": [],
      "source": [
        "\n",
        "# Example 1:\n",
        "def add_user_numbers():\n",
        "  num1 = int(input(\"Enter the first number: \"))\n",
        "  num2 = int(input(\"Enter the second number: \"))\n",
        "  result = num1 + num2\n",
        "  print(result)\n",
        "# Example 2:\n",
        "def calculate_user_area():\n",
        "  length = float(input(\"Enter the length: \"))\n",
        "  width = float(input(\"Enter the width: \"))\n",
        "  area = length * width\n",
        "  print(area)\n",
        "# Example 3:\n",
        "def check_user_palindrome():\n",
        "  word = input(\"Enter a word: \")\n",
        "  if word == word[::-1]:\n",
        "    print(word, \"is a palindrome\")\n",
        "  else:\n",
        "    print(word, \"is not a palindrome\")\n",
        "# Example 4:\n",
        "def convert_temperature():\n",
        "  celsius = float(input(\"Enter temperature in Celsius: \"))\n",
        "  fahrenheit = (celsius * 9/5) + 32\n",
        "  print(fahrenheit, \"Fahrenheit\")\n",
        "# Example 5:\n",
        "def factorial_user_number():\n",
        "  num = int(input(\"Enter a non-negative integer: \"))\n",
        "  factorial = 1\n",
        "  for i in range(1, num + 1):\n",
        "    factorial *= i\n",
        "  print(factorial)"
      ]
    }
  ],
  "metadata": {
    "colab": {
      "provenance": []
    },
    "kernelspec": {
      "display_name": "Python 3",
      "name": "python3"
    },
    "language_info": {
      "name": "python"
    }
  },
  "nbformat": 4,
  "nbformat_minor": 0
}