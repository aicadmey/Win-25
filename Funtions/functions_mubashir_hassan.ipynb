{
  "nbformat": 4,
  "nbformat_minor": 0,
  "metadata": {
    "colab": {
      "provenance": [],
      "toc_visible": true
    },
    "kernelspec": {
      "name": "python3",
      "display_name": "Python 3"
    },
    "language_info": {
      "name": "python"
    }
  },
  "cells": [
    {
      "cell_type": "markdown",
      "source": [
        "functions without parameters\n"
      ],
      "metadata": {
        "id": "hQ_dTkJiuLNn"
      }
    },
    {
      "cell_type": "code",
      "source": [
        "def me():\n",
        "  print(\"Hello, world!\")"
      ],
      "metadata": {
        "id": "KHaVEFwduTUD"
      },
      "execution_count": null,
      "outputs": []
    },
    {
      "cell_type": "code",
      "source": [
        "import random\n",
        "\n",
        "def random_number():\n",
        "  num = random.randint(1, 100)\n",
        "  print(\"Random number:\", num)"
      ],
      "metadata": {
        "id": "15O0sCM1usfY"
      },
      "execution_count": null,
      "outputs": []
    },
    {
      "cell_type": "code",
      "source": [
        "def calculate_area():\n",
        "  length = 5\n",
        "  width = 3\n",
        "  area = length * width\n",
        "  print(\"Area of rectangle:\", area)"
      ],
      "metadata": {
        "id": "bhhrU_Fpu9Nx"
      },
      "execution_count": null,
      "outputs": []
    },
    {
      "cell_type": "code",
      "source": [
        "import datetime\n",
        "\n",
        "def show_datetime():\n",
        "  now = datetime.datetime.now()\n",
        "  print(now)"
      ],
      "metadata": {
        "id": "euYbK3YlvD1h"
      },
      "execution_count": null,
      "outputs": []
    },
    {
      "cell_type": "code",
      "source": [
        "def generate_random_number():\n",
        "    import random\n",
        "    print(random.randint(1, 100))"
      ],
      "metadata": {
        "id": "yeu-A_HEvKoB"
      },
      "execution_count": null,
      "outputs": []
    },
    {
      "cell_type": "markdown",
      "source": [
        "functions with using two parameters"
      ],
      "metadata": {
        "id": "kEK2WbCZvemS"
      }
    },
    {
      "cell_type": "code",
      "source": [
        "def add(x, y):\n",
        "  result = x + y\n",
        "  print(\"Sum:\", result)"
      ],
      "metadata": {
        "id": "J12r3kPFvzgs"
      },
      "execution_count": null,
      "outputs": []
    },
    {
      "cell_type": "code",
      "source": [
        "def subtract(x, y):\n",
        "  result = x - y\n",
        "  print(\"Difference:\", result)"
      ],
      "metadata": {
        "id": "vk7OyzzLwSVb"
      },
      "execution_count": null,
      "outputs": []
    },
    {
      "cell_type": "code",
      "source": [
        "def multiply(x, y):\n",
        "  result = x * y\n",
        "  print(\"Product:\", result)"
      ],
      "metadata": {
        "id": "FaBA78V6wWlJ"
      },
      "execution_count": null,
      "outputs": []
    },
    {
      "cell_type": "code",
      "source": [
        "def area_of_rectangle(length, width):\n",
        "  area = length * width\n",
        "  print(\"Area of rectangle:\", area)"
      ],
      "metadata": {
        "id": "OdKZ8LP1wb4E"
      },
      "execution_count": null,
      "outputs": []
    },
    {
      "cell_type": "code",
      "source": [
        "def divide(x, y):\n",
        "  if y != 0:\n",
        "    result = x / y\n",
        "    print(\"Quotient:\", result)\n",
        "  else:\n",
        "    print(\"Error:\")"
      ],
      "metadata": {
        "id": "ei2fQzg2wqp6"
      },
      "execution_count": null,
      "outputs": []
    },
    {
      "cell_type": "markdown",
      "source": [
        "functions using default value of parameters."
      ],
      "metadata": {
        "id": "daVqtiE4w277"
      }
    },
    {
      "cell_type": "code",
      "source": [
        "def alpha(name=\"User\"):\n",
        "\n",
        "  print(\"Hello,\", name)"
      ],
      "metadata": {
        "id": "ANLv5pAaw_dN"
      },
      "execution_count": null,
      "outputs": []
    },
    {
      "cell_type": "code",
      "source": [
        "def power(base=2, exponent=2):\n",
        "  result = base ** exponent\n",
        "  print(\"Result:\", result)"
      ],
      "metadata": {
        "id": "Sc7WutTgxcV5"
      },
      "execution_count": null,
      "outputs": []
    },
    {
      "cell_type": "code",
      "source": [
        "def format_text(text, size=12):\n",
        "  print(\"Text:\", text)\n",
        "\n",
        "  print(\"Size:\", size)"
      ],
      "metadata": {
        "id": "9dSJwYH_xqb6"
      },
      "execution_count": null,
      "outputs": []
    },
    {
      "cell_type": "code",
      "source": [
        "def send_email(recipient, subject=\"No Subject\", body=\"No Body\"):\n",
        "  print(\"Sending email to:\", recipient)\n",
        "  print(\"Subject:\", subject)\n",
        "  print(\"Body:\", body)"
      ],
      "metadata": {
        "id": "_5qf9pg_yJlR"
      },
      "execution_count": null,
      "outputs": []
    },
    {
      "cell_type": "code",
      "source": [
        "def recieve_email(sender, subject=\"No Subject\", body=\"No Body\"):\n",
        "  print(\"Sending email to:\", sender)\n",
        "  print(\"Subject:\", subject)\n",
        "  print(\"Body:\", body)"
      ],
      "metadata": {
        "id": "sTGc8NDCyMJ6"
      },
      "execution_count": null,
      "outputs": []
    },
    {
      "cell_type": "markdown",
      "source": [
        "functions that take input from the user and pass them as arguments"
      ],
      "metadata": {
        "id": "2m5UZEtKycAz"
      }
    },
    {
      "cell_type": "code",
      "source": [
        "def add_numbers(num1, num2):\n",
        "    result = num1 + num2\n",
        "    print(\"Sum:\", result)\n",
        "\n",
        "num1 = int(input(\"Enter the first number: \"))\n",
        "num2 = int(input(\"Enter the second number: \"))\n",
        "add_numbers(num1, num2)"
      ],
      "metadata": {
        "colab": {
          "base_uri": "https://localhost:8080/"
        },
        "id": "HM0bUcWoyvz0",
        "outputId": "8127dce1-9c34-471a-bf21-3581c3eebd0e"
      },
      "execution_count": null,
      "outputs": [
        {
          "output_type": "stream",
          "name": "stdout",
          "text": [
            "Enter the first number: 1\n",
            "Enter the second number: 2\n",
            "Sum: 3\n"
          ]
        }
      ]
    },
    {
      "cell_type": "code",
      "source": [
        "def diff_numbers(num1, num2):\n",
        "    result = num1 - num2\n",
        "    print(\"diff:\", result)\n",
        "\n",
        "num1 = int(input(\"Enter the first number: \"))\n",
        "num2 = int(input(\"Enter the second number: \"))\n",
        "diff_numbers(num1, num2)"
      ],
      "metadata": {
        "colab": {
          "base_uri": "https://localhost:8080/"
        },
        "id": "xm-MzJrhy1yr",
        "outputId": "79784eb9-a76e-4eb6-9a63-28f020470244"
      },
      "execution_count": null,
      "outputs": [
        {
          "output_type": "stream",
          "name": "stdout",
          "text": [
            "Enter the first number: 50\n",
            "Enter the second number: 20\n",
            "diff: 30\n"
          ]
        }
      ]
    },
    {
      "cell_type": "code",
      "source": [
        "def multiply_numbers(num1, num2, num3):\n",
        "    result = num1 * num2 * num3\n",
        "    print(\"Product:\", result)\n",
        "\n",
        "num1 = int(input(\"Enter the first number: \"))\n",
        "num2 = int(input(\"Enter the second number: \"))\n",
        "num3 = int(input(\"Enter the third number: \"))\n",
        "multiply_numbers(num1, num2, num3)"
      ],
      "metadata": {
        "colab": {
          "base_uri": "https://localhost:8080/"
        },
        "id": "U-mQ893mzHJV",
        "outputId": "e4e2e502-8f34-40ad-99d9-d87b77c07dc7"
      },
      "execution_count": null,
      "outputs": [
        {
          "output_type": "stream",
          "name": "stdout",
          "text": [
            "Enter the first number: 10\n",
            "Enter the second number: 20\n",
            "Enter the third number: 30\n",
            "Product: 6000\n"
          ]
        }
      ]
    },
    {
      "cell_type": "code",
      "source": [
        "def calculate_area(length, width):\n",
        "    area = length * width\n",
        "    print(\"Area of rectangle:\", area)\n",
        "\n",
        "length = float(input(\"Enter the length: \"))\n",
        "width = float(input(\"Enter the width: \"))\n",
        "calculate_area(length, width)"
      ],
      "metadata": {
        "colab": {
          "base_uri": "https://localhost:8080/"
        },
        "id": "xKbDZ3mw0M7a",
        "outputId": "7cc94f5f-fa99-4373-b2d0-78a9b68da376"
      },
      "execution_count": null,
      "outputs": [
        {
          "output_type": "stream",
          "name": "stdout",
          "text": [
            "Enter the length: 10\n",
            "Enter the width: 2.5\n",
            "Area of rectangle: 25.0\n"
          ]
        }
      ]
    },
    {
      "cell_type": "code",
      "source": [
        "def divide_numbers(num1, num2):\n",
        "    if num2 != 0:\n",
        "        result = num1 / num2\n",
        "        print(\"Quotient:\", result)\n",
        "    else:\n",
        "        print(\"Error:\")\n",
        "\n",
        "num1 = int(input(\"Enter the first number: \"))\n",
        "num2 = int(input(\"Enter the second number: \"))\n",
        "divide_numbers(num1, num2)"
      ],
      "metadata": {
        "colab": {
          "base_uri": "https://localhost:8080/"
        },
        "id": "xwE7yXmM0a5q",
        "outputId": "993c14eb-fa98-4b38-d324-ba4d65d2c2e1"
      },
      "execution_count": null,
      "outputs": [
        {
          "output_type": "stream",
          "name": "stdout",
          "text": [
            "Enter the first number: 225\n",
            "Enter the second number: 23\n",
            "Quotient: 9.782608695652174\n"
          ]
        }
      ]
    }
  ]
}