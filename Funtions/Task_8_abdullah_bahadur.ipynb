{
  "nbformat": 4,
  "nbformat_minor": 0,
  "metadata": {
    "colab": {
      "provenance": []
    },
    "kernelspec": {
      "name": "python3",
      "display_name": "Python 3"
    },
    "language_info": {
      "name": "python"
    }
  },
  "cells": [
    {
      "cell_type": "code",
      "execution_count": null,
      "metadata": {
        "id": "Bag7dlpxbI1q"
      },
      "outputs": [],
      "source": [
        "\n",
        "def welcome_message():\n",
        "    print(\"Welcome to Python programming!\")\n",
        "\n",
        "\n",
        "import datetime\n",
        "def display_year():\n",
        "    print(f\"The current year is {datetime.datetime.now().year}.\")\n",
        "\n",
        "\n",
        "import random\n",
        "def generate_random_number():\n",
        "    print(f\"A random number: {random.randint(1, 100)}\")\n",
        "\n",
        "\n",
        "def separator():\n",
        "    print(\"-\" * 30)\n",
        "\n",
        "\n",
        "def motivational_quote():\n",
        "    print(\"Keep pushing forward, no matter what!\")\n",
        "\n"
      ]
    },
    {
      "cell_type": "code",
      "source": [
        "def add_numbers(a, b):\n",
        "    return a + b\n",
        "\n",
        "\n",
        "def subtract_numbers(a, b):\n",
        "    return a - b\n",
        "\n",
        "\n",
        "def multiply_numbers(a, b):\n",
        "    return a * b\n",
        "\n",
        "\n",
        "def divide_numbers(a, b):\n",
        "    return a / b\n",
        "\n",
        "def persentage_numbers(a, b):\n",
        "    return a % b\n"
      ],
      "metadata": {
        "id": "f5un-b3-behu"
      },
      "execution_count": null,
      "outputs": []
    },
    {
      "cell_type": "code",
      "source": [
        "\n",
        "def is_even_or_odd(number):\n",
        "    return \"Even\" if number % 2 == 0 else \"Odd\"\n",
        "\n",
        "def sum_of_two(a, b):\n",
        "    return a + b\n",
        "\n",
        "def personalized_greeting(name):\n",
        "    print(f\"Welcome, {name}!\")\n",
        "\n",
        "def max_of_two(x, y):\n",
        "    return max(x, y)\n",
        "\n",
        "def triangle_area(base, height):\n",
        "    return 0.5 * base * height\n",
        "\n"
      ],
      "metadata": {
        "id": "4a-Yvh3kcGMf"
      },
      "execution_count": null,
      "outputs": []
    }
  ]
}