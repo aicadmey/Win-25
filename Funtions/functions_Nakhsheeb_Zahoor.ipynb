{
  "nbformat": 4,
  "nbformat_minor": 0,
  "metadata": {
    "colab": {
      "provenance": []
    },
    "kernelspec": {
      "name": "python3",
      "display_name": "Python 3"
    },
    "language_info": {
      "name": "python"
    }
  },
  "cells": [
    {
      "cell_type": "code",
      "source": [
        "#5 without parameter\n",
        "def nahsheeb():\n",
        "  print(\"my name is nakhsheeb\")\n",
        "  print(\"my age is 20\")\n",
        "nahsheeb()"
      ],
      "metadata": {
        "colab": {
          "base_uri": "https://localhost:8080/"
        },
        "id": "M4tDTpnoAPmr",
        "outputId": "4b9e9a0e-10ee-494d-8017-10d147c7ea77"
      },
      "execution_count": null,
      "outputs": [
        {
          "output_type": "stream",
          "name": "stdout",
          "text": [
            "my name is nakhsheeb\n",
            "my age is 20\n"
          ]
        }
      ]
    },
    {
      "cell_type": "code",
      "source": [
        "def education():\n",
        "  print(\"my semeter:3\")\n",
        "  print(\"my department:AI\")\n",
        "education()\n"
      ],
      "metadata": {
        "colab": {
          "base_uri": "https://localhost:8080/"
        },
        "id": "rrlj_B_4APYx",
        "outputId": "a3bbda24-a12d-4a55-e122-55f1052144ed"
      },
      "execution_count": null,
      "outputs": [
        {
          "output_type": "stream",
          "name": "stdout",
          "text": [
            "my semeter:3\n",
            "my department:AI\n"
          ]
        }
      ]
    },
    {
      "cell_type": "code",
      "source": [
        "def siblings():\n",
        "  print(\"i have 3 siblings\")\n",
        "  print(\"we are 4 siblings\")\n",
        "siblings()\n"
      ],
      "metadata": {
        "colab": {
          "base_uri": "https://localhost:8080/"
        },
        "id": "8rdokxAyAPLb",
        "outputId": "4a4577b9-73cf-4270-fe6e-e6bd28531432"
      },
      "execution_count": null,
      "outputs": [
        {
          "output_type": "stream",
          "name": "stdout",
          "text": [
            "i have 3 siblings\n",
            "we are 4 siblings\n"
          ]
        }
      ]
    },
    {
      "cell_type": "code",
      "source": [
        "def gender():\n",
        "  print(\"i am female\")\n",
        "gender()"
      ],
      "metadata": {
        "colab": {
          "base_uri": "https://localhost:8080/"
        },
        "id": "fd84IO0bAO8n",
        "outputId": "189ecd4c-6d56-4d60-8dc7-b609f0721114"
      },
      "execution_count": null,
      "outputs": [
        {
          "output_type": "stream",
          "name": "stdout",
          "text": [
            "i am female\n"
          ]
        }
      ]
    },
    {
      "cell_type": "code",
      "source": [
        "def age_info():\n",
        "  print(\"i am in my late teens\")\n",
        "age_info()"
      ],
      "metadata": {
        "colab": {
          "base_uri": "https://localhost:8080/"
        },
        "id": "N4yAhy6TAOlK",
        "outputId": "4b0cc8c4-ef88-444b-e2ca-39ebc349932f"
      },
      "execution_count": null,
      "outputs": [
        {
          "output_type": "stream",
          "name": "stdout",
          "text": [
            "i am in my late teens\n"
          ]
        }
      ]
    },
    {
      "cell_type": "code",
      "execution_count": null,
      "metadata": {
        "colab": {
          "base_uri": "https://localhost:8080/"
        },
        "id": "iXB4-uJfuMar",
        "outputId": "8b4c5664-8842-4f31-d4e2-e6b72896e21a"
      },
      "outputs": [
        {
          "output_type": "stream",
          "name": "stdout",
          "text": [
            "9\n"
          ]
        }
      ],
      "source": [
        "#5 functions with parameters\n",
        "def sum_numbers(a,b):\n",
        "  print(a+b)\n",
        "sum_numbers(5,4)\n",
        "\n",
        "\n"
      ]
    },
    {
      "cell_type": "code",
      "source": [
        "def div_numbers(a,b):\n",
        "  print(a/b)\n",
        "div_numbers(5,4)"
      ],
      "metadata": {
        "colab": {
          "base_uri": "https://localhost:8080/"
        },
        "id": "SfydRd_YzueG",
        "outputId": "0d7d4333-29ae-4936-9e51-419a7c0a949d"
      },
      "execution_count": null,
      "outputs": [
        {
          "output_type": "stream",
          "name": "stdout",
          "text": [
            "1.25\n"
          ]
        }
      ]
    },
    {
      "cell_type": "code",
      "source": [
        "def diff_numbers(a,b,d):\n",
        "  print(a-b-d)\n",
        "diff_numbers(5,4,1)"
      ],
      "metadata": {
        "colab": {
          "base_uri": "https://localhost:8080/"
        },
        "id": "L4fl31_NzwCR",
        "outputId": "ef53c535-299e-4d1e-dd47-e9730b6b21dc"
      },
      "execution_count": null,
      "outputs": [
        {
          "output_type": "stream",
          "name": "stdout",
          "text": [
            "0\n"
          ]
        }
      ]
    },
    {
      "cell_type": "code",
      "source": [
        "def mul_numbers(a,b):\n",
        "  print(a*b)\n",
        "mul_numbers(5,4)"
      ],
      "metadata": {
        "colab": {
          "base_uri": "https://localhost:8080/"
        },
        "id": "ZGhwMwNzz7vQ",
        "outputId": "b695ace9-1211-4666-f063-93af7cdf5f87"
      },
      "execution_count": null,
      "outputs": [
        {
          "output_type": "stream",
          "name": "stdout",
          "text": [
            "20\n"
          ]
        }
      ]
    },
    {
      "cell_type": "code",
      "source": [
        "def mod_numbers(a,b,c):\n",
        "  print(a%b%c)\n",
        "mod_numbers(5,4,10)"
      ],
      "metadata": {
        "colab": {
          "base_uri": "https://localhost:8080/"
        },
        "id": "AqExrw8O0Pk9",
        "outputId": "df8a2ed8-4385-489b-ecb7-642738e21c8f"
      },
      "execution_count": null,
      "outputs": [
        {
          "output_type": "stream",
          "name": "stdout",
          "text": [
            "1\n"
          ]
        }
      ]
    },
    {
      "cell_type": "code",
      "source": [
        "#5 default parameters\n",
        "def diff_numbers(a,b,d):\n",
        "  print(a-b-d)\n",
        "diff_numbers(a=5,b=10,d=3)"
      ],
      "metadata": {
        "colab": {
          "base_uri": "https://localhost:8080/"
        },
        "id": "CM8CzWwjC-QN",
        "outputId": "4b279d9c-973e-48df-927a-f1ea9f89cfd8"
      },
      "execution_count": null,
      "outputs": [
        {
          "output_type": "stream",
          "name": "stdout",
          "text": [
            "-8\n"
          ]
        }
      ]
    },
    {
      "cell_type": "code",
      "source": [
        "def add_numbers(a,b,d,e):\n",
        "  print(a+b+d+e)\n",
        "add_numbers(a=5,b=10,d=20,e=4)"
      ],
      "metadata": {
        "colab": {
          "base_uri": "https://localhost:8080/"
        },
        "id": "mz6TOAMGC-DI",
        "outputId": "5b14fe1a-8238-4dae-911b-b5b2f5a41616"
      },
      "execution_count": null,
      "outputs": [
        {
          "output_type": "stream",
          "name": "stdout",
          "text": [
            "39\n"
          ]
        }
      ]
    },
    {
      "cell_type": "code",
      "source": [
        "def mod_numbers(a,b,c):\n",
        "  print(a%b%c)\n",
        "mod_numbers(a=5,b=4,c=3)"
      ],
      "metadata": {
        "colab": {
          "base_uri": "https://localhost:8080/"
        },
        "id": "XUod2H0bG76x",
        "outputId": "b8427de9-e64d-4e6c-91c3-f791057b6ccc"
      },
      "execution_count": null,
      "outputs": [
        {
          "output_type": "stream",
          "name": "stdout",
          "text": [
            "1\n"
          ]
        }
      ]
    },
    {
      "cell_type": "code",
      "source": [
        "def mul_numbers(a,b):\n",
        "  print(a*b)\n",
        "mul_numbers(a=5,b=4)"
      ],
      "metadata": {
        "colab": {
          "base_uri": "https://localhost:8080/"
        },
        "id": "BaWl5apKG6l8",
        "outputId": "ee6d7cdd-9ceb-4136-fc40-51308029f672"
      },
      "execution_count": null,
      "outputs": [
        {
          "output_type": "stream",
          "name": "stdout",
          "text": [
            "20\n"
          ]
        }
      ]
    },
    {
      "cell_type": "code",
      "source": [
        "def div_numbers(a,b):\n",
        "  print(a/b)\n",
        "div_numbers(a=5,b=4)"
      ],
      "metadata": {
        "colab": {
          "base_uri": "https://localhost:8080/"
        },
        "id": "DJ89fRYpC9zb",
        "outputId": "7e0e9418-fcc2-48df-e8b1-26d8aa846301"
      },
      "execution_count": null,
      "outputs": [
        {
          "output_type": "stream",
          "name": "stdout",
          "text": [
            "1.25\n"
          ]
        }
      ]
    },
    {
      "cell_type": "code",
      "source": [
        "#5 user input\n",
        "def mul_numbers():\n",
        "    a = int(input(\"Enter the first number: \"))\n",
        "    b = int(input(\"Enter the second number: \"))\n",
        "    c = int(input(\"Enter the third number: \"))\n",
        "    print(a * b * c)\n",
        "\n",
        "# Call the function\n",
        "mul_numbers()\n"
      ],
      "metadata": {
        "colab": {
          "base_uri": "https://localhost:8080/"
        },
        "id": "oSN3oAcx6X6h",
        "outputId": "364181cd-c083-4214-c70d-4d59d97f5261"
      },
      "execution_count": null,
      "outputs": [
        {
          "output_type": "stream",
          "name": "stdout",
          "text": [
            "Enter the first number: 5\n",
            "Enter the second number: 5\n",
            "Enter the third number: 5\n",
            "125\n"
          ]
        }
      ]
    },
    {
      "cell_type": "code",
      "source": [
        "def diff_numbers():\n",
        " a=int(input(\"enter the first number\"))\n",
        " b=int(input(\"enter the second number\"))\n",
        " d=int(input(\"enter the third number\"))\n",
        " print(a-b-d)\n",
        "\n",
        "diff_numbers()"
      ],
      "metadata": {
        "colab": {
          "base_uri": "https://localhost:8080/"
        },
        "id": "4Fn_Xf-j7PtI",
        "outputId": "b1d7e692-ae9f-4cd2-90ca-ddfcdf8b8080"
      },
      "execution_count": null,
      "outputs": [
        {
          "output_type": "stream",
          "name": "stdout",
          "text": [
            "enter the first number10\n",
            "enter the second number5\n",
            "enter the third number3\n",
            "2\n"
          ]
        }
      ]
    },
    {
      "cell_type": "code",
      "source": [
        "def mod_numbers():\n",
        "  a=int(input(\"enter the first number\"))\n",
        "  b=int(input(\"enter the second number\"))\n",
        "  c=int(input(\"enter the third number\"))\n",
        "  print(a%b%c)\n",
        "mod_numbers()"
      ],
      "metadata": {
        "colab": {
          "base_uri": "https://localhost:8080/"
        },
        "id": "6CmCu81m8DiS",
        "outputId": "982c7456-6183-40f0-d5d0-ce4593b30c43"
      },
      "execution_count": null,
      "outputs": [
        {
          "output_type": "stream",
          "name": "stdout",
          "text": [
            "enter the first number2\n",
            "enter the second number8\n",
            "enter the third number5\n",
            "2\n"
          ]
        }
      ]
    },
    {
      "cell_type": "code",
      "source": [
        "def div_numbers():\n",
        "  a=int(input(\"enter the first number\"))\n",
        "  b=int(input(\"enter the second number\"))\n",
        "  print(a/b)\n",
        "div_numbers()"
      ],
      "metadata": {
        "colab": {
          "base_uri": "https://localhost:8080/"
        },
        "id": "9s19SJUZ8ZC6",
        "outputId": "1f4345f3-9f06-4649-e01d-2d933728b01f"
      },
      "execution_count": null,
      "outputs": [
        {
          "output_type": "stream",
          "name": "stdout",
          "text": [
            "enter the first number10\n",
            "enter the second number3\n",
            "3.3333333333333335\n"
          ]
        }
      ]
    },
    {
      "cell_type": "code",
      "source": [
        "def sum_numbers():\n",
        "  a=int(input(\"enter the first number: \"))\n",
        "  b=int(input(\"enter the second number: \"))\n",
        "  c=int(input(\"enter the third number: \"))\n",
        "  print(a+b+c)\n",
        "sum_numbers()"
      ],
      "metadata": {
        "colab": {
          "base_uri": "https://localhost:8080/"
        },
        "id": "3sB8_h7n8sP-",
        "outputId": "aaf6f913-8787-4634-d78b-dc32e7e0160a"
      },
      "execution_count": null,
      "outputs": [
        {
          "output_type": "stream",
          "name": "stdout",
          "text": [
            "enter the first number: 5\n",
            "enter the second number: 5\n",
            "enter the third number: 5\n",
            "15\n"
          ]
        }
      ]
    }
  ]
}