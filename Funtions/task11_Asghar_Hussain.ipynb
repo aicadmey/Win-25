{
  "nbformat": 4,
  "nbformat_minor": 0,
  "metadata": {
    "colab": {
      "provenance": []
    },
    "kernelspec": {
      "name": "python3",
      "display_name": "Python 3"
    },
    "language_info": {
      "name": "python"
    }
  },
  "cells": [
    {
      "cell_type": "markdown",
      "source": [
        "Functions wthout parameter"
      ],
      "metadata": {
        "id": "Onph0AnbOrnV"
      }
    },
    {
      "cell_type": "code",
      "execution_count": null,
      "metadata": {
        "id": "rx0PZm0vOlfE",
        "colab": {
          "base_uri": "https://localhost:8080/"
        },
        "outputId": "20172bb3-b0a1-4ea3-c072-f876a8d695b7"
      },
      "outputs": [
        {
          "output_type": "stream",
          "name": "stdout",
          "text": [
            "Hello, I am Asghar Hussain, What you like to take\n",
            "1.Chips \n",
            " 2.Biscuits \n",
            " 3.Biryani \n",
            " 4.Paratha&Chai\n"
          ]
        }
      ],
      "source": [
        "#1\n",
        "def greeting():\n",
        "    print(\"Hello, I am Asghar Hussain, What you like to take\")\n",
        "\n",
        "#2\n",
        "def Menu():\n",
        "  print(\"1.Chips \\n 2.Biscuits \\n 3.Biryani \\n 4.Paratha&Chai\")\n",
        "\n",
        "\n",
        "#3\n",
        "def pi():\n",
        "    from math import pi\n",
        "    print(pi)\n",
        "\n",
        "#4\n",
        "def random_number():\n",
        "    import random\n",
        "    print(random.randint(1, 100))\n",
        "\n",
        "#5\n",
        "def display_date():\n",
        "    import datetime\n",
        "    today = datetime.date.today()\n",
        "    print(today)\n",
        "\n",
        "greeting()\n",
        "Menu()"
      ]
    },
    {
      "cell_type": "markdown",
      "source": [
        "Functions with 2 parameters"
      ],
      "metadata": {
        "id": "ijimkARKQ4kT"
      }
    },
    {
      "cell_type": "code",
      "source": [
        "#1\n",
        "def sub_numbers(num1, num2):\n",
        "    result = num1 - num2\n",
        "    print(\"Difference:\", result)\n",
        "\n",
        "#2\n",
        "def mul_numbers(num1, num2):\n",
        "    result = num1 * num2\n",
        "    print(\"Product:\", result)\n",
        "\n",
        "#3\n",
        "def compare_numbers(num1, num2):\n",
        "    if num1 > num2:\n",
        "        print(num1, \"is greater than\", num2)\n",
        "    elif num1 < num2:\n",
        "        print(num1, \"is less than\", num2)\n",
        "    else:\n",
        "        print(num1, \"is equal to\", num2)\n",
        "\n",
        "#4\n",
        "def area_of_rectangle(length, width):\n",
        "    area = length * width\n",
        "    print(\"Area of rectangle:\", area)\n",
        "\n",
        "#5\n",
        "def area_of_triangle(length, width):\n",
        "    area = 0.5 * length * width\n",
        "    print(\"Area of triangle:\", area)\n",
        "\n",
        "sub_numbers(10, 5)\n",
        "mul_numbers(10, 5)\n",
        "compare_numbers(10, 5)\n",
        "area_of_rectangle(10, 5)\n",
        "area_of_triangle(10, 5)"
      ],
      "metadata": {
        "colab": {
          "base_uri": "https://localhost:8080/"
        },
        "id": "yA2LChJzQ_o6",
        "outputId": "b9d4e778-ef80-4ac2-f818-777a0d1b7eb9"
      },
      "execution_count": null,
      "outputs": [
        {
          "output_type": "stream",
          "name": "stdout",
          "text": [
            "Difference: 5\n",
            "Product: 50\n",
            "10 is greater than 5\n",
            "Area of rectangle: 50\n",
            "Area of triangle: 25.0\n"
          ]
        }
      ]
    },
    {
      "cell_type": "markdown",
      "source": [
        "Functions with default parameter"
      ],
      "metadata": {
        "id": "5688H0HaSJg3"
      }
    },
    {
      "cell_type": "code",
      "source": [
        "#1\n",
        "def radius_of_circle(radius, pi=3.14):\n",
        "    area = pi * radius ** 2\n",
        "    print(\"Area of circle:\", area)\n",
        "\n",
        "#2\n",
        "def area_of_square(side=5):\n",
        "    area = side ** 2\n",
        "    print(\"Area of square:\", area)\n",
        "\n",
        "#3\n",
        "def area_of_rectangle(length=10, width=5):\n",
        "    area = length * width\n",
        "    print(\"Area of rectangle:\", area)\n",
        "\n",
        "#4\n",
        "def sum_of_numbers(*args):\n",
        "    total = sum(args)\n",
        "    print(\"Sum of numbers:\", total)\n",
        "\n",
        "radius_of_circle(4, 3.14)\n",
        "area_of_square(5)\n",
        "area_of_rectangle(10, 5)\n",
        "sum_of_numbers(1, 2, 3, 4, 5)"
      ],
      "metadata": {
        "colab": {
          "base_uri": "https://localhost:8080/"
        },
        "id": "hiqVqzmoSNeV",
        "outputId": "db8ceebc-c4c2-4051-bc7a-2d1fe1c2d59c"
      },
      "execution_count": null,
      "outputs": [
        {
          "output_type": "stream",
          "name": "stdout",
          "text": [
            "Area of circle: 50.24\n",
            "Area of square: 25\n",
            "Area of rectangle: 50\n",
            "Sum of numbers: 15\n"
          ]
        }
      ]
    },
    {
      "cell_type": "markdown",
      "source": [
        "functions with user input as a parameter"
      ],
      "metadata": {
        "id": "9L25qauOZcc2"
      }
    },
    {
      "cell_type": "code",
      "source": [
        "#1\n",
        "def sum():\n",
        "    num1 = int(input(\"Enter the first number: \"))\n",
        "    num2 = int(input(\"Enter the second number: \"))\n",
        "    result = num1 + num2\n",
        "    print(\"Sum:\", result)\n",
        "\n",
        "#2\n",
        "def average():\n",
        "    num1 = float(input(\"Enter the first number: \"))\n",
        "    num2 = float(input(\"Enter the second number: \"))\n",
        "    average = (num1 + num2 ) / 2\n",
        "    print(\"The average of two numbers is :\", average)\n",
        "\n",
        "#3\n",
        "def even_or_odd():\n",
        "    num = int(input(\"Enter a number: \"))\n",
        "    if num % 2 == 0:\n",
        "        print(num, \"is even num\")\n",
        "    else:\n",
        "        print(num, \"is odd num\")\n",
        "\n",
        "sum()\n",
        "average()\n",
        "even_or_odd()\n",
        "\n"
      ],
      "metadata": {
        "colab": {
          "base_uri": "https://localhost:8080/"
        },
        "id": "Pq184bRAZiu1",
        "outputId": "99eb0994-30d9-47f3-fc96-1acb3d9cca37"
      },
      "execution_count": null,
      "outputs": [
        {
          "output_type": "stream",
          "name": "stdout",
          "text": [
            "Enter the first number: 1\n",
            "Enter the second number: 2\n",
            "Sum: 3\n",
            "Enter the first number: 2\n",
            "Enter the second number: 3\n",
            "Average: 2.5\n",
            "Enter a number: 3\n",
            "3 is odd\n"
          ]
        }
      ]
    },
    {
      "cell_type": "code",
      "source": [
        "#4\n",
        "def find_largest_number():\n",
        "    num1 = int(input(\"Enter the first number: \"))\n",
        "    num2 = int(input(\"Enter the second number: \"))\n",
        "    num3 = int(input(\"Enter the third number: \"))\n",
        "    largest = max(num1, num2, num3)\n",
        "    print(\"The Largest number among the above is:\", largest)\n",
        "\n",
        "find_largest_number()"
      ],
      "metadata": {
        "colab": {
          "base_uri": "https://localhost:8080/"
        },
        "id": "L9P7sMEUZqDi",
        "outputId": "d8ee5b3f-72eb-47fa-935b-d52aa7cffdee"
      },
      "execution_count": null,
      "outputs": [
        {
          "output_type": "stream",
          "name": "stdout",
          "text": [
            "Enter the first number: 5\n",
            "Enter the second number: 6\n",
            "Enter the third number: 7\n",
            "The Largest number among the above is: 7\n"
          ]
        }
      ]
    }
  ]
}