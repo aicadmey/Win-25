{
  "nbformat": 4,
  "nbformat_minor": 0,
  "metadata": {
    "colab": {
      "provenance": []
    },
    "kernelspec": {
      "name": "python3",
      "display_name": "Python 3"
    },
    "language_info": {
      "name": "python"
    }
  },
  "cells": [
    {
      "cell_type": "code",
      "execution_count": null,
      "metadata": {
        "colab": {
          "base_uri": "https://localhost:8080/"
        },
        "id": "XjbQj8lSCW67",
        "outputId": "c6012fba-2356-40d5-c1c3-dbededd9f8de"
      },
      "outputs": [
        {
          "output_type": "stream",
          "name": "stdout",
          "text": [
            "Model Output (Probabilities): tensor([[0.2159, 0.1645, 0.2484, 0.1903, 0.1809]], grad_fn=<SoftmaxBackward0>)\n",
            "Loss: 1.6454068422317505\n"
          ]
        }
      ],
      "source": [
        "import torch\n",
        "import torch.nn as nn\n",
        "import torch.optim as optim\n",
        "\n",
        "# Define the Multi-Layer Perceptron model\n",
        "class MLP(nn.Module):\n",
        "    def __init__(self):\n",
        "        super(MLP, self).__init__()\n",
        "\n",
        "        # Input layer to first hidden layer (3 inputs)\n",
        "        self.fc1 = nn.Linear(3, 5)  # 3 input features to 5 nodes in the first hidden layer\n",
        "        self.relu1 = nn.ReLU()  # ReLU activation for first hidden layer\n",
        "\n",
        "        # Second hidden layer (5 nodes)\n",
        "        self.fc2 = nn.Linear(5, 5)  # 5 nodes to 5 nodes in the second hidden layer\n",
        "        self.relu2 = nn.ReLU()  # ReLU activation for second hidden layer\n",
        "\n",
        "        # Output layer (5 output nodes: Chinese Rice, Soup, Korma, Dalgost, White Korma)\n",
        "        self.fc3 = nn.Linear(5, 5)  # 5 nodes to 5 output nodes\n",
        "        self.softmax = nn.Softmax(dim=1)  # Softmax activation for multi-class classification\n",
        "\n",
        "    def forward(self, x):\n",
        "        x = self.fc1(x)\n",
        "        x = self.relu1(x)\n",
        "        x = self.fc2(x)\n",
        "        x = self.relu2(x)\n",
        "        x = self.fc3(x)\n",
        "        x = self.softmax(x)  # Apply softmax to get probabilities for each output class\n",
        "        return x\n",
        "\n",
        "# Instantiate the model\n",
        "model = MLP()\n",
        "\n",
        "# Define loss function (cross-entropy loss for multi-class classification)\n",
        "loss_fn = nn.CrossEntropyLoss()\n",
        "\n",
        "# Define optimizer (Adam optimizer)\n",
        "optimizer = optim.Adam(model.parameters(), lr=0.001)\n",
        "\n",
        "# Example input tensor (3 features: Eatables from Plants, Animals, and Nature)\n",
        "# Let's assume we have a batch of 1 data point for this example.\n",
        "inputs = torch.tensor([[0.5, 0.3, 0.2]], dtype=torch.float32)\n",
        "\n",
        "# Example target (class label for the output: let's say class 2 (Soup))\n",
        "target = torch.tensor([1])  # Class 2 is the Soup class\n",
        "\n",
        "# Forward pass\n",
        "outputs = model(inputs)\n",
        "\n",
        "# Calculate loss\n",
        "loss = loss_fn(outputs, target)\n",
        "\n",
        "# Backward pass and optimization\n",
        "optimizer.zero_grad()\n",
        "loss.backward()\n",
        "optimizer.step()\n",
        "\n",
        "# Print outputs and loss\n",
        "print(\"Model Output (Probabilities):\", outputs)\n",
        "print(\"Loss:\", loss.item())\n"
      ]
    }
  ]
}