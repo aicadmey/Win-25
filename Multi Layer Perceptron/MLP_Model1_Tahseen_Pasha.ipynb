{
  "nbformat": 4,
  "nbformat_minor": 0,
  "metadata": {
    "colab": {
      "provenance": []
    },
    "kernelspec": {
      "name": "python3",
      "display_name": "Python 3"
    },
    "language_info": {
      "name": "python"
    }
  },
  "cells": [
    {
      "cell_type": "markdown",
      "source": [
        "A Cancer Risk Prediction Neural Network using a multi-layer perceptron (MLP). This model takes tumor size and genetic mutation score as inputs and predicts the risk level of cancer."
      ],
      "metadata": {
        "id": "rEc3EZPXPoOx"
      }
    },
    {
      "cell_type": "code",
      "source": [
        "import numpy as np\n",
        "\n",
        "def relu(x):\n",
        "    return np.maximum(0, x)\n",
        "\n",
        "def sigmoid(x):\n",
        "    return 1 / (1 + np.exp(-x))\n",
        "\n",
        "def cancer_risk_predictor(inputs):\n",
        "\n",
        "    inputs = np.array(inputs)\n",
        "\n",
        "    # Define weights and biases\n",
        "    weights_hidden1 = np.array([[0.3, 0.2], [0.6, 0.5], [0.7, 0.8]])\n",
        "    biases_1 = np.array([0.2, 0.1, 0.3])\n",
        "\n",
        "    weights_hidden2 = np.array([[0.5, 0.4, 0.6], [0.8, 0.7, 0.3]])\n",
        "    biases_2 = np.array([0.1, 0.2])\n",
        "\n",
        "    weights_hidden3 = np.array([[0.4, 0.5], [0.7, 0.6]])\n",
        "    biases_3 = np.array([0.3, 0.2])\n",
        "\n",
        "    weights_output = np.array([0.8, 0.9])\n",
        "    bias_output = 0.1\n",
        "\n",
        "    hidden1 = relu(np.dot(weights_hidden1, inputs) + biases_1)\n",
        "    hidden2 = relu(np.dot(weights_hidden2, hidden1) + biases_2)\n",
        "    hidden3 = relu(np.dot(weights_hidden3, hidden2) + biases_3)\n",
        "\n",
        "    output = sigmoid(np.dot(weights_output, hidden3) + bias_output)\n",
        "    return output\n",
        "\n",
        "# User input for more info.\n",
        "print(\"🩺 Cancer Risk Prediction Neural Network\")\n",
        "tumor_size = float(input(\"Enter tumor size (in mm, e.g., 5.5): \"))\n",
        "genetic_score = float(input(\"Enter genetic mutation score (e.g., 3.2): \"))\n",
        "\n",
        "\n",
        "tumor_size = (tumor_size - 0) / (10 - 0)\n",
        "genetic_score = (genetic_score - 0) / (5 - 0)\n",
        "\n",
        "inputs = [tumor_size, genetic_score]\n",
        "risk_level = cancer_risk_predictor(inputs)\n",
        "\n",
        "print(f\"\\nPredicted Cancer Risk Level: {risk_level:.4f} (0 = Low, 1 = High)\")\n"
      ],
      "metadata": {
        "colab": {
          "base_uri": "https://localhost:8080/"
        },
        "id": "nfP3p5sSOo9b",
        "outputId": "ccb4fbcf-1590-4bd3-99ad-4a61f1e4904b"
      },
      "execution_count": null,
      "outputs": [
        {
          "output_type": "stream",
          "name": "stdout",
          "text": [
            "🩺 Cancer Risk Prediction Neural Network\n",
            "Enter tumor size (in mm, e.g., 5.5): 5\n",
            "Enter genetic mutation score (e.g., 3.2): 6\n",
            "\n",
            "Predicted Cancer Risk Level: 0.9809 (0 = Low, 1 = High)\n"
          ]
        }
      ]
    }
  ]
}