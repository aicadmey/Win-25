{
  "nbformat": 4,
  "nbformat_minor": 0,
  "metadata": {
    "colab": {
      "provenance": []
    },
    "kernelspec": {
      "name": "python3",
      "display_name": "Python 3"
    },
    "language_info": {
      "name": "python"
    }
  },
  "cells": [
    {
      "cell_type": "markdown",
      "source": [
        "2 hidden layers, 5,5 nodes each"
      ],
      "metadata": {
        "id": "4SD2NO4JpD1u"
      }
    },
    {
      "cell_type": "code",
      "execution_count": null,
      "metadata": {
        "colab": {
          "base_uri": "https://localhost:8080/"
        },
        "id": "EDOhIEMyaLY7",
        "outputId": "02a90a6d-afc7-4a4e-c599-96d0d18b3ee6"
      },
      "outputs": [
        {
          "output_type": "stream",
          "name": "stdout",
          "text": [
            "Enter work experience (years): 2\n",
            "Enter communication skills (rating out of 10): 8\n",
            "Enter problem-solving skills (rating out of 10): 9\n",
            "Predicted Leadership Potential: 1.0000\n"
          ]
        }
      ],
      "source": [
        "import math\n",
        "\n",
        "# Activation function: ReLU\n",
        "def relu(x):\n",
        "    return max(0, x)\n",
        "\n",
        "# Activation function: Sigmoid\n",
        "def sigmoid(x):\n",
        "    return 1 / (1 + math.exp(-x))\n",
        "\n",
        "\n",
        "def multi_layer_perceptron(inputs):\n",
        "\n",
        "    weights_hidden1 = [\n",
        "        [0.2, 0.4, 0.1],\n",
        "        [0.5, 0.1, 0.3],\n",
        "        [0.4, 0.6, 0.2],\n",
        "        [0.3, 0.2, 0.5],\n",
        "        [0.7, 0.8, 0.6]\n",
        "    ]\n",
        "    biases_hidden1 = [0.1, 0.2, 0.3, 0.4, 0.5]\n",
        "\n",
        "#  second hidden layer\n",
        "    weights_hidden2 = [\n",
        "        [0.2, 0.3, 0.4, 0.5, 0.6],\n",
        "        [0.1, 0.5, 0.2, 0.4, 0.3],\n",
        "        [0.6, 0.7, 0.8, 0.9, 0.1],\n",
        "        [0.3, 0.2, 0.1, 0.4, 0.5],\n",
        "        [0.5, 0.4, 0.3, 0.2, 0.1]\n",
        "    ]\n",
        "    biases_hidden2 = [0.1, 0.2, 0.3, 0.4, 0.5]\n",
        "\n",
        "\n",
        "    weights_output = [0.3, 0.2, 0.5, 0.4, 0.6]\n",
        "    bias_output = 0.1\n",
        "\n",
        "\n",
        "    hidden1 = []\n",
        "    for i in range(5):\n",
        "        node_input = sum([inputs[j] * weights_hidden1[i][j] for j in range(3)]) + biases_hidden1[i]\n",
        "        hidden1.append(relu(node_input))\n",
        "\n",
        "\n",
        "    hidden2 = []\n",
        "    for i in range(5):\n",
        "        node_input = sum([hidden1[j] * weights_hidden2[i][j] for j in range(5)]) + biases_hidden2[i]\n",
        "        hidden2.append(relu(node_input))\n",
        "\n",
        "\n",
        "    output = sum([hidden2[i] * weights_output[i] for i in range(5)]) + bias_output\n",
        "    output = sigmoid(output)\n",
        "\n",
        "    return output\n",
        "\n",
        "# input from uzr\n",
        "work_experience = float(input(\"Enter work experience (years): \"))\n",
        "communication_skills = float(input(\"Enter communication skills (rating out of 10): \"))\n",
        "problem_solving_skills = float(input(\"Enter problem-solving skills (rating out of 10): \"))\n",
        "\n",
        "\n",
        "inputs = [work_experience, communication_skills, problem_solving_skills]\n",
        "result = multi_layer_perceptron(inputs)\n",
        "\n",
        "\n",
        "print(f\"Predicted Leadership Potential: {result:.4f}\")\n"
      ]
    },
    {
      "cell_type": "markdown",
      "source": [
        "3 hidden layers with 7,7, nodes"
      ],
      "metadata": {
        "id": "IBxNxYBcqY-o"
      }
    },
    {
      "cell_type": "code",
      "source": [
        "import math\n",
        "\n",
        "# Activation function: ReLU\n",
        "def relu(x):\n",
        "    return max(0, x)\n",
        "\n",
        "# Activation function: Sigmoid\n",
        "def sigmoid(x):\n",
        "    return 1 / (1 + math.exp(-x))\n",
        "\n",
        "\n",
        "def multi_layer_perceptron(inputs):\n",
        "\n",
        "    weights_hidden1 = [\n",
        "        [0.2, 0.4, 0.1],\n",
        "        [0.5, 0.1, 0.3],\n",
        "        [0.4, 0.6, 0.2],\n",
        "        [0.3, 0.2, 0.5],\n",
        "        [0.7, 0.8, 0.6],\n",
        "        [0.5, 0.4, 0.3],\n",
        "        [0.1, 0.2, 0.3]\n",
        "    ]\n",
        "    biases_hidden1 = [0.1, 0.2, 0.3, 0.4, 0.5, 0.6, 0.7]\n",
        "\n",
        "\n",
        "    weights_hidden2 = [\n",
        "        [0.2, 0.3, 0.4, 0.5, 0.6, 0.7, 0.1],\n",
        "        [0.1, 0.5, 0.2, 0.4, 0.3, 0.6, 0.2],\n",
        "        [0.6, 0.7, 0.8, 0.9, 0.1, 0.5, 0.3],\n",
        "        [0.3, 0.2, 0.1, 0.4, 0.5, 0.6, 0.7],\n",
        "        [0.5, 0.4, 0.3, 0.2, 0.1, 0.8, 0.9],\n",
        "        [0.7, 0.6, 0.5, 0.4, 0.3, 0.2, 0.1],\n",
        "        [0.4, 0.3, 0.5, 0.6, 0.7, 0.8, 0.9]\n",
        "    ]\n",
        "    biases_hidden2 = [0.2, 0.3, 0.4, 0.5, 0.6, 0.7, 0.8]\n",
        "\n",
        "\n",
        "    weights_hidden3 = [\n",
        "        [0.1, 0.2, 0.3, 0.4, 0.5, 0.6, 0.7],\n",
        "        [0.7, 0.6, 0.5, 0.4, 0.3, 0.2, 0.1],\n",
        "        [0.3, 0.4, 0.5, 0.6, 0.7, 0.8, 0.9],\n",
        "        [0.9, 0.8, 0.7, 0.6, 0.5, 0.4, 0.3],\n",
        "        [0.5, 0.4, 0.3, 0.2, 0.1, 0.6, 0.7],\n",
        "        [0.2, 0.3, 0.4, 0.5, 0.6, 0.7, 0.8],\n",
        "        [0.8, 0.7, 0.6, 0.5, 0.4, 0.3, 0.2]\n",
        "    ]\n",
        "    biases_hidden3 = [0.3, 0.4, 0.5, 0.6, 0.7, 0.8, 0.9]\n",
        "\n",
        "\n",
        "    weights_output = [0.3, 0.2, 0.5, 0.4, 0.6, 0.7, 0.8]\n",
        "    bias_output = 0.1\n",
        "\n",
        "\n",
        "    hidden1 = []\n",
        "    for i in range(7):\n",
        "        node_input = sum([inputs[j] * weights_hidden1[i][j] for j in range(3)]) + biases_hidden1[i]\n",
        "        hidden1.append(relu(node_input))\n",
        "\n",
        "\n",
        "    hidden2 = []\n",
        "    for i in range(7):\n",
        "        node_input = sum([hidden1[j] * weights_hidden2[i][j] for j in range(7)]) + biases_hidden2[i]\n",
        "        hidden2.append(relu(node_input))\n",
        "\n",
        "\n",
        "    hidden3 = []\n",
        "    for i in range(7):\n",
        "        node_input = sum([hidden2[j] * weights_hidden3[i][j] for j in range(7)]) + biases_hidden3[i]\n",
        "        hidden3.append(relu(node_input))\n",
        "\n",
        "\n",
        "    output = sum([hidden3[i] * weights_output[i] for i in range(7)]) + bias_output\n",
        "    output = sigmoid(output)\n",
        "\n",
        "    return output\n",
        "\n",
        "\n",
        "work_experience = float(input(\"Enter work experience (years): \"))\n",
        "communication_skills = float(input(\"Enter communication skills (rating out of 10): \"))\n",
        "problem_solving_skills = float(input(\"Enter problem-solving skills (rating out of 10): \"))\n",
        "\n",
        "inputs = [work_experience, communication_skills, problem_solving_skills]\n",
        "result = multi_layer_perceptron(inputs)\n",
        "\n",
        "\n",
        "print(f\"Predicted Leadership Potential: {result:.4f}\")\n"
      ],
      "metadata": {
        "colab": {
          "base_uri": "https://localhost:8080/"
        },
        "id": "7U-qUUEoqZZ0",
        "outputId": "2dce1307-7ee0-41f9-c564-461c9a4697c0"
      },
      "execution_count": null,
      "outputs": [
        {
          "output_type": "stream",
          "name": "stdout",
          "text": [
            "Enter work experience (years): 7\n",
            "Enter communication skills (rating out of 10): 9\n",
            "Enter problem-solving skills (rating out of 10): 9\n",
            "Predicted Leadership Potential: 1.0000\n"
          ]
        }
      ]
    }
  ]
}