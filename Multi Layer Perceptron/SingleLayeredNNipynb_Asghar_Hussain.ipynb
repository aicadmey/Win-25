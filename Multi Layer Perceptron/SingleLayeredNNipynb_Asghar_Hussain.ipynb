{
  "nbformat": 4,
  "nbformat_minor": 0,
  "metadata": {
    "colab": {
      "provenance": []
    },
    "kernelspec": {
      "name": "python3",
      "display_name": "Python 3"
    },
    "language_info": {
      "name": "python"
    }
  },
  "cells": [
    {
      "cell_type": "code",
      "execution_count": null,
      "metadata": {
        "id": "K0hS5QfwDlEp"
      },
      "outputs": [],
      "source": [
        "import numpy as np\n",
        "\n",
        "# Sigmoid activation function\n",
        "def sigmoid(x):\n",
        "    return 1 / (1 + np.exp(-x))\n",
        "\n",
        "# Derivative of the sigmoid function\n",
        "def sigmoid_derivative(x):\n",
        "    return x * (1 - x)\n",
        "\n",
        "# Input dataset (4 samples with 3 features)\n",
        "inputs = np.array([[0, 0, 1],\n",
        "                   [1, 1, 1],\n",
        "                   [1, 0, 1],\n",
        "                   [0, 1, 1]])\n",
        "\n",
        "# Output dataset (4 samples with 1 output)\n",
        "outputs = np.array([[0], [1], [1], [0]])\n",
        "\n",
        "# Seed the random number generator\n",
        "np.random.seed(1)\n"
      ]
    },
    {
      "cell_type": "code",
      "source": [
        "# Initialize weights randomly with mean 0\n",
        "input_layer_neurons = inputs.shape[1]\n",
        "hidden_layer_neurons = 4\n",
        "output_layer_neurons = 1\n",
        "\n",
        "# Weight matrices\n",
        "weights_input_hidden = 2 * np.random.random((input_layer_neurons, hidden_layer_neurons)) - 1\n",
        "weights_hidden_output = 2 * np.random.random((hidden_layer_neurons, output_layer_neurons)) - 1\n"
      ],
      "metadata": {
        "id": "0gU0u1f-FZ_s"
      },
      "execution_count": null,
      "outputs": []
    },
    {
      "cell_type": "code",
      "source": [
        "# Training the neural network\n",
        "for epoch in range(10000):\n",
        "    # Forward propagation\n",
        "    input_layer = inputs\n",
        "    hidden_layer_input = np.dot(input_layer, weights_input_hidden)\n",
        "    hidden_layer_output = sigmoid(hidden_layer_input)\n",
        "\n",
        "    output_layer_input = np.dot(hidden_layer_output, weights_hidden_output)\n",
        "    output_layer_output = sigmoid(output_layer_input)\n",
        "\n",
        "    # Backpropagation\n",
        "    output_layer_adjustments = error * sigmoid_derivative(output_layer_output)\n",
        "    hidden_layer_error = output_layer_adjustments.dot(weights_hidden_output.T)\n",
        "    hidden_layer_adjustments = hidden_layer_error * sigmoid_derivative(hidden_layer_output)\n",
        "\n",
        "    # Update weights\n",
        "    weights_hidden_output += hidden_layer_output.T.dot(output_layer_adjustments)\n",
        "    weights_input_hidden += input_layer.T.dot(hidden_layer_adjustments)\n",
        "\n"
      ],
      "metadata": {
        "id": "Iplg7ocKFe6E"
      },
      "execution_count": null,
      "outputs": []
    },
    {
      "cell_type": "code",
      "source": [
        "print(\"Trained weights after 10000 epochs:\")\n",
        "print(\"Weights between input and hidden layer:\")\n",
        "print(weights_input_hidden)\n",
        "print(\"Weights between hidden and output layer:\")\n",
        "print(weights_hidden_output)\n",
        "\n",
        "print(\"Predicted outputs after training:\")\n",
        "print(output_layer_output)"
      ],
      "metadata": {
        "colab": {
          "base_uri": "https://localhost:8080/"
        },
        "id": "Q2rSndGJFiUt",
        "outputId": "2b60ca61-f6be-4d91-a106-65c788fe0ec3"
      },
      "execution_count": null,
      "outputs": [
        {
          "output_type": "stream",
          "name": "stdout",
          "text": [
            "Trained weights after 10000 epochs:\n",
            "Weights between input and hidden layer:\n",
            "[[-2.59036615  4.42368034 -4.67337507  0.26599911]\n",
            " [-0.34937658 -0.44301149  0.03901232 -0.21076069]\n",
            " [ 0.79068639 -1.52027476  1.90298497  0.46136533]]\n",
            "Weights between hidden and output layer:\n",
            "[[-2.89966893]\n",
            " [ 6.37273701]\n",
            " [-6.05605498]\n",
            " [ 0.66423352]]\n",
            "Predicted outputs after training:\n",
            "[[0.00328786]\n",
            " [0.99636765]\n",
            " [0.99673376]\n",
            " [0.00272381]]\n"
          ]
        }
      ]
    }
  ]
}