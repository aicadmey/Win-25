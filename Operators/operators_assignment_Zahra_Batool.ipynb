{
  "cells": [
    {
      "cell_type": "markdown",
      "id": "8a1690e2-7a3d-4938-88dd-35f5b78b241f",
      "metadata": {
        "id": "8a1690e2-7a3d-4938-88dd-35f5b78b241f"
      },
      "source": [
        "# OPERATORS"
      ]
    },
    {
      "cell_type": "code",
      "execution_count": null,
      "id": "30fefe23-5159-437f-a20d-2901d4ea70d4",
      "metadata": {
        "id": "30fefe23-5159-437f-a20d-2901d4ea70d4",
        "outputId": "ea0a3f9d-6da4-4ec9-96e2-ffe3df7ecb9f"
      },
      "outputs": [
        {
          "name": "stdin",
          "output_type": "stream",
          "text": [
            "First number 90\n",
            "Second number 67\n"
          ]
        },
        {
          "name": "stdout",
          "output_type": "stream",
          "text": [
            "sum of numbers is:  157\n"
          ]
        }
      ],
      "source": [
        "a = int(input(\"First number\"))\n",
        "b = int(input(\"Second number\"))\n",
        "print(\"sum of numbers is: \", a+b)"
      ]
    },
    {
      "cell_type": "code",
      "execution_count": null,
      "id": "c0264417-0abc-47c1-9bbd-cebec8c7748e",
      "metadata": {
        "id": "c0264417-0abc-47c1-9bbd-cebec8c7748e",
        "outputId": "c31a7bb6-4a82-4e26-d7df-37f889efd61a"
      },
      "outputs": [
        {
          "name": "stdin",
          "output_type": "stream",
          "text": [
            "First number 6.9\n",
            "Second number 3.21\n"
          ]
        },
        {
          "name": "stdout",
          "output_type": "stream",
          "text": [
            "sum of numbers is:  10.11\n"
          ]
        }
      ],
      "source": [
        "a2 = float(input(\"First number\"))\n",
        "b2 = float(input(\"Second number\"))\n",
        "print(\"sum of numbers is: \", a2+b2)"
      ]
    },
    {
      "cell_type": "code",
      "execution_count": null,
      "id": "f21d38ba-3093-48a9-84fb-c7513ebd5c93",
      "metadata": {
        "id": "f21d38ba-3093-48a9-84fb-c7513ebd5c93",
        "outputId": "90c3cf0e-d0ae-49e4-e2d4-b1056f13de41"
      },
      "outputs": [
        {
          "name": "stdin",
          "output_type": "stream",
          "text": [
            "First number 89\n",
            "Second number 324\n"
          ]
        },
        {
          "name": "stdout",
          "output_type": "stream",
          "text": [
            "sum of numbers is:  413\n"
          ]
        }
      ],
      "source": [
        "a3 = input(\"First number\")\n",
        "b3 = input(\"Second number\")\n",
        "print(\"sum of numbers is: \", int(a3)+int(b3))"
      ]
    },
    {
      "cell_type": "code",
      "execution_count": null,
      "id": "66237c75-ac28-48c5-9253-ba8ea1c1ef5d",
      "metadata": {
        "id": "66237c75-ac28-48c5-9253-ba8ea1c1ef5d",
        "outputId": "139157cd-bd7c-426c-c86f-b6728dc2ac38"
      },
      "outputs": [
        {
          "name": "stdin",
          "output_type": "stream",
          "text": [
            "First Name:  Zahra \n",
            "Last Name:  Batool\n"
          ]
        },
        {
          "name": "stdout",
          "output_type": "stream",
          "text": [
            "Name is:  Zahra Batool\n"
          ]
        }
      ],
      "source": [
        "a4 = str(input(\"First Name: \"))\n",
        "b4 = str(input(\"Last Name: \"))\n",
        "print(\"Name is: \", a4+b4)"
      ]
    },
    {
      "cell_type": "code",
      "execution_count": null,
      "id": "3c7471af-22b9-435c-895e-939e71987104",
      "metadata": {
        "id": "3c7471af-22b9-435c-895e-939e71987104",
        "outputId": "68cad98c-47e0-433b-d004-7dc65c8726ad"
      },
      "outputs": [
        {
          "name": "stdout",
          "output_type": "stream",
          "text": [
            "sum of numbers is:  53.2\n"
          ]
        }
      ],
      "source": [
        "a5 = 45\n",
        "b5 = 8.2\n",
        "print(\"sum of numbers is: \", a+b)"
      ]
    },
    {
      "cell_type": "code",
      "execution_count": null,
      "id": "e214f7af-10a0-42fa-ae69-2536b5e0ec21",
      "metadata": {
        "id": "e214f7af-10a0-42fa-ae69-2536b5e0ec21",
        "outputId": "bc7ef2df-8295-41ad-9648-31ad1e55f8b2"
      },
      "outputs": [
        {
          "name": "stdin",
          "output_type": "stream",
          "text": [
            "First number 67\n",
            "Second number 31\n"
          ]
        },
        {
          "name": "stdout",
          "output_type": "stream",
          "text": [
            "sum of numbers is:  36\n"
          ]
        }
      ],
      "source": [
        "c1 = int(input(\"First number\"))\n",
        "d1 = int(input(\"Second number\"))\n",
        "print(\"subtraction is: \", c1-d1)"
      ]
    },
    {
      "cell_type": "code",
      "execution_count": null,
      "id": "1e018a43-bac4-4c35-8839-eb4b8bae4c31",
      "metadata": {
        "id": "1e018a43-bac4-4c35-8839-eb4b8bae4c31",
        "outputId": "81a35c1f-9662-4963-a3d5-faf776f6f0fd"
      },
      "outputs": [
        {
          "name": "stdin",
          "output_type": "stream",
          "text": [
            "First number 9.19\n",
            "Second number 4.23\n"
          ]
        },
        {
          "name": "stdout",
          "output_type": "stream",
          "text": [
            "sum of numbers is:  4.959999999999999\n"
          ]
        }
      ],
      "source": [
        "c2 = float(input(\"First number\"))\n",
        "d2 = float(input(\"Second number\"))\n",
        "print(\"subtraction is: \", c2-d2)"
      ]
    },
    {
      "cell_type": "code",
      "execution_count": null,
      "id": "f4d1b954-c419-4185-86c7-af16f5fb3fea",
      "metadata": {
        "id": "f4d1b954-c419-4185-86c7-af16f5fb3fea",
        "outputId": "cad13e01-adb1-4ec5-8313-c20fda1c1f2d"
      },
      "outputs": [
        {
          "name": "stdin",
          "output_type": "stream",
          "text": [
            "First number 8.67\n",
            "Second number 3.98\n"
          ]
        },
        {
          "name": "stdout",
          "output_type": "stream",
          "text": [
            "sum of numbers is:  4.6899999999999995\n"
          ]
        }
      ],
      "source": [
        "c3 = float(input(\"First number\"))\n",
        "d3 = float(input(\"Second number\"))\n",
        "print(\"subtraction is: \", c3-d3)"
      ]
    },
    {
      "cell_type": "code",
      "execution_count": null,
      "id": "54b5b2db-de47-4801-a091-f0c40ccfeb44",
      "metadata": {
        "id": "54b5b2db-de47-4801-a091-f0c40ccfeb44",
        "outputId": "154f55ba-5d94-49bc-e6b1-7f9ae5906fee"
      },
      "outputs": [
        {
          "name": "stdout",
          "output_type": "stream",
          "text": [
            "sum of numbers is:  36.8\n"
          ]
        }
      ],
      "source": [
        "c4 = 45\n",
        "d4 = 8.2\n",
        "print(\"subtraction is: \", c4-d4)"
      ]
    },
    {
      "cell_type": "code",
      "execution_count": null,
      "id": "3df822e2-078d-4844-8f34-ec40b17f1e89",
      "metadata": {
        "id": "3df822e2-078d-4844-8f34-ec40b17f1e89",
        "outputId": "c1ac0399-4a2d-4a0f-b917-6e5bb892b308"
      },
      "outputs": [
        {
          "name": "stdin",
          "output_type": "stream",
          "text": [
            "First number 145\n",
            "Second number 129\n"
          ]
        },
        {
          "name": "stdout",
          "output_type": "stream",
          "text": [
            "sum of numbers is:  16\n"
          ]
        }
      ],
      "source": [
        "c5 = input(\"First number\")\n",
        "d5 = input(\"Second number\")\n",
        "print(\"subtraction is: \", int(c5)-int(d5))"
      ]
    },
    {
      "cell_type": "code",
      "execution_count": null,
      "id": "2f6b6583-349a-4eb6-a41f-35bb3b7df9a6",
      "metadata": {
        "id": "2f6b6583-349a-4eb6-a41f-35bb3b7df9a6",
        "outputId": "5b1ae093-fb40-4d88-9630-7cfdf28e2adf"
      },
      "outputs": [
        {
          "name": "stdin",
          "output_type": "stream",
          "text": [
            "First number 5\n",
            "Second number 67\n"
          ]
        },
        {
          "name": "stdout",
          "output_type": "stream",
          "text": [
            "multiplication is:  335\n"
          ]
        }
      ],
      "source": [
        "e1 = int(input(\"First number\"))\n",
        "f1 = int(input(\"Second number\"))\n",
        "print(\"multiplication is: \", e1*f1)"
      ]
    },
    {
      "cell_type": "code",
      "execution_count": null,
      "id": "eee76e36-8e87-42b7-b6bc-4eb63c16ceee",
      "metadata": {
        "id": "eee76e36-8e87-42b7-b6bc-4eb63c16ceee",
        "outputId": "ca3ef5e6-c0f7-4aaa-d400-f83f3a345574"
      },
      "outputs": [
        {
          "name": "stdin",
          "output_type": "stream",
          "text": [
            "First number 7.8\n",
            "Second number 4.6\n"
          ]
        },
        {
          "name": "stdout",
          "output_type": "stream",
          "text": [
            "multiplication is:  35.879999999999995\n"
          ]
        }
      ],
      "source": [
        "e2 = float(input(\"First number\"))\n",
        "f2 = float(input(\"Second number\"))\n",
        "print(\"multiplication is: \", e2*f2)"
      ]
    },
    {
      "cell_type": "code",
      "execution_count": null,
      "id": "c1dd0392-62fa-4727-89b3-b8c63e815ee7",
      "metadata": {
        "id": "c1dd0392-62fa-4727-89b3-b8c63e815ee7",
        "outputId": "216679cb-6d4b-4b0d-ed26-3ef4599dcb41"
      },
      "outputs": [
        {
          "name": "stdin",
          "output_type": "stream",
          "text": [
            "First number 5.33\n",
            "Second number 2.98\n"
          ]
        },
        {
          "name": "stdout",
          "output_type": "stream",
          "text": [
            "multiplication is:  15.8834\n"
          ]
        }
      ],
      "source": [
        "e3 = float(input(\"First number\"))\n",
        "f3 = float(input(\"Second number\"))\n",
        "print(\"multiplication is: \", e3*f3)"
      ]
    },
    {
      "cell_type": "code",
      "execution_count": null,
      "id": "99fb677f-e2bc-4456-ada9-a8aa65b55a80",
      "metadata": {
        "id": "99fb677f-e2bc-4456-ada9-a8aa65b55a80",
        "outputId": "bb0cbad5-4790-4c55-b389-279566664e60"
      },
      "outputs": [
        {
          "name": "stdout",
          "output_type": "stream",
          "text": [
            "multiplication is:  368.99999999999994\n"
          ]
        }
      ],
      "source": [
        "e4 = 45\n",
        "f4 = 8.2\n",
        "print(\"multiplication is: \", e4*f4)"
      ]
    },
    {
      "cell_type": "code",
      "execution_count": null,
      "id": "f09e1b8c-c9d8-42d3-9c17-5938b8b85882",
      "metadata": {
        "id": "f09e1b8c-c9d8-42d3-9c17-5938b8b85882",
        "outputId": "1a24b1aa-b49a-4b2e-937c-686d198fdd3f"
      },
      "outputs": [
        {
          "name": "stdin",
          "output_type": "stream",
          "text": [
            "First number 654\n",
            "Second number 923\n"
          ]
        },
        {
          "name": "stdout",
          "output_type": "stream",
          "text": [
            "multiplication is:  603642\n"
          ]
        }
      ],
      "source": [
        "e5 = input(\"First number\")\n",
        "f5 = input(\"Second number\")\n",
        "print(\"multiplication is: \", int(e5)*int(f5))"
      ]
    },
    {
      "cell_type": "code",
      "execution_count": null,
      "id": "54f1ef08-b8e5-4390-b25a-eac4f15bfc1d",
      "metadata": {
        "id": "54f1ef08-b8e5-4390-b25a-eac4f15bfc1d",
        "outputId": "93fd85b4-b76f-48e2-ec07-e071e165b146"
      },
      "outputs": [
        {
          "name": "stdin",
          "output_type": "stream",
          "text": [
            "First number 225\n",
            "Second number 25\n"
          ]
        },
        {
          "name": "stdout",
          "output_type": "stream",
          "text": [
            "division is:  9.0\n"
          ]
        }
      ],
      "source": [
        "g1 = int(input(\"First number\"))\n",
        "h1 = int(input(\"Second number\"))\n",
        "print(\"division is: \", g1/h1)"
      ]
    },
    {
      "cell_type": "code",
      "execution_count": null,
      "id": "9332825a-384f-4722-9a34-79a303cc70bd",
      "metadata": {
        "id": "9332825a-384f-4722-9a34-79a303cc70bd",
        "outputId": "795490f9-5be0-4280-b1a5-6f92239db3a8"
      },
      "outputs": [
        {
          "name": "stdin",
          "output_type": "stream",
          "text": [
            "First number 9.9\n",
            "Second number 1.1\n"
          ]
        },
        {
          "name": "stdout",
          "output_type": "stream",
          "text": [
            "division is:  9.0\n"
          ]
        }
      ],
      "source": [
        "g2 = float(input(\"First number\"))\n",
        "h2 = float(input(\"Second number\"))\n",
        "print(\"division is: \", g2/h2)"
      ]
    },
    {
      "cell_type": "code",
      "execution_count": null,
      "id": "3f4c96df-d8ff-40de-bc6f-7f8ee36a6a9e",
      "metadata": {
        "id": "3f4c96df-d8ff-40de-bc6f-7f8ee36a6a9e",
        "outputId": "00cb1317-0e07-416a-ac58-a24adebb4dcc"
      },
      "outputs": [
        {
          "name": "stdin",
          "output_type": "stream",
          "text": [
            "First number 6.78\n",
            "Second number 3.2\n"
          ]
        },
        {
          "name": "stdout",
          "output_type": "stream",
          "text": [
            "division is:  2.11875\n"
          ]
        }
      ],
      "source": [
        "g3 = float(input(\"First number\"))\n",
        "h3 = float(input(\"Second number\"))\n",
        "print(\"division is: \", g3/h3)"
      ]
    },
    {
      "cell_type": "code",
      "execution_count": null,
      "id": "9a86a1e4-22ce-4986-ad98-08fcc26cf26d",
      "metadata": {
        "id": "9a86a1e4-22ce-4986-ad98-08fcc26cf26d",
        "outputId": "d76139d0-94f3-454f-aeb8-59286c5f426a"
      },
      "outputs": [
        {
          "name": "stdout",
          "output_type": "stream",
          "text": [
            "division is:  5.487804878048781\n"
          ]
        }
      ],
      "source": [
        "g4 = 45\n",
        "h4 = 8.2\n",
        "print(\"division is: \", g4/h4)"
      ]
    },
    {
      "cell_type": "code",
      "execution_count": null,
      "id": "b221ac9f-4709-44b0-974f-332106de9d64",
      "metadata": {
        "id": "b221ac9f-4709-44b0-974f-332106de9d64",
        "outputId": "ab438c2e-3d4f-4c1c-9403-24f2bd78c2dc"
      },
      "outputs": [
        {
          "name": "stdin",
          "output_type": "stream",
          "text": [
            "First number 684\n",
            "Second number 342\n"
          ]
        },
        {
          "name": "stdout",
          "output_type": "stream",
          "text": [
            "division is:  2.0\n"
          ]
        }
      ],
      "source": [
        "g5 = input(\"First number\")\n",
        "h5 = input(\"Second number\")\n",
        "print(\"division is: \", int(g5)/int(h5))"
      ]
    },
    {
      "cell_type": "code",
      "execution_count": null,
      "id": "5a18a365-2817-4831-bce4-7c32fd348683",
      "metadata": {
        "id": "5a18a365-2817-4831-bce4-7c32fd348683",
        "outputId": "ff077fe2-27f5-4ce8-ec9c-8e3362a7e94f"
      },
      "outputs": [
        {
          "name": "stdin",
          "output_type": "stream",
          "text": [
            "First number 654\n",
            "Second number 98\n"
          ]
        },
        {
          "name": "stdout",
          "output_type": "stream",
          "text": [
            "modulus is:  66\n"
          ]
        }
      ],
      "source": [
        "i1 = int(input(\"First number\"))\n",
        "j1 = int(input(\"Second number\"))\n",
        "print(\"modulus is: \", i1%j1)"
      ]
    },
    {
      "cell_type": "code",
      "execution_count": null,
      "id": "32b36d25-e95c-435e-b010-213ef88cec94",
      "metadata": {
        "id": "32b36d25-e95c-435e-b010-213ef88cec94",
        "outputId": "277bf3f7-816c-4ad9-ac0b-99f6829dd196"
      },
      "outputs": [
        {
          "name": "stdin",
          "output_type": "stream",
          "text": [
            "First number 8.74\n",
            "Second number 2.1\n"
          ]
        },
        {
          "name": "stdout",
          "output_type": "stream",
          "text": [
            "modulus is:  0.33999999999999986\n"
          ]
        }
      ],
      "source": [
        "i2 = float(input(\"First number\"))\n",
        "j2 = float(input(\"Second number\"))\n",
        "print(\"modulus is: \", i2%j2)"
      ]
    },
    {
      "cell_type": "code",
      "execution_count": null,
      "id": "ea918fa1-0ee1-4284-9342-60bab3d03f0b",
      "metadata": {
        "id": "ea918fa1-0ee1-4284-9342-60bab3d03f0b",
        "outputId": "cc24b254-26f2-4acd-92dc-ea66f8fb8e91"
      },
      "outputs": [
        {
          "name": "stdin",
          "output_type": "stream",
          "text": [
            "First number 76.5\n",
            "Second number 4.3\n"
          ]
        },
        {
          "name": "stdout",
          "output_type": "stream",
          "text": [
            "modulus is:  3.400000000000003\n"
          ]
        }
      ],
      "source": [
        "i3 = float(input(\"First number\"))\n",
        "j3 = float(input(\"Second number\"))\n",
        "print(\"modulus is: \", i3%j3)"
      ]
    },
    {
      "cell_type": "code",
      "execution_count": null,
      "id": "e465f906-5778-41f3-bcf3-cb34ac8bd231",
      "metadata": {
        "id": "e465f906-5778-41f3-bcf3-cb34ac8bd231",
        "outputId": "08d46dec-9891-4294-f28a-a0dfd0042eb7"
      },
      "outputs": [
        {
          "name": "stdout",
          "output_type": "stream",
          "text": [
            "modulus is:  4.0000000000000036\n"
          ]
        }
      ],
      "source": [
        "i4 = 45\n",
        "j4 = 8.2\n",
        "print(\"modulus is: \", i4%j4)"
      ]
    },
    {
      "cell_type": "code",
      "execution_count": null,
      "id": "d1681b5e-4bce-47b2-bdc9-4e3181617780",
      "metadata": {
        "id": "d1681b5e-4bce-47b2-bdc9-4e3181617780",
        "outputId": "675cc1e1-f72a-40fa-9222-d3d926910e6c"
      },
      "outputs": [
        {
          "name": "stdin",
          "output_type": "stream",
          "text": [
            "First number 984\n",
            "Second number 76\n"
          ]
        },
        {
          "name": "stdout",
          "output_type": "stream",
          "text": [
            "modulus is:  72\n"
          ]
        }
      ],
      "source": [
        "i5 = input(\"First number\")\n",
        "j5 = input(\"Second number\")\n",
        "print(\"modulus is: \", int(i5)%int(j5))"
      ]
    },
    {
      "cell_type": "code",
      "execution_count": null,
      "id": "53012d09-aa0f-4e65-af7a-77d3845bf252",
      "metadata": {
        "id": "53012d09-aa0f-4e65-af7a-77d3845bf252",
        "outputId": "dfd7ec95-f4c0-4177-c426-93cff1948084"
      },
      "outputs": [
        {
          "name": "stdout",
          "output_type": "stream",
          "text": [
            "84\n"
          ]
        }
      ],
      "source": [
        "a = 40\n",
        "b = 44\n",
        "c = a+b\n",
        "print(c)"
      ]
    },
    {
      "cell_type": "code",
      "execution_count": null,
      "id": "b0a26b83-e3a9-4ab1-b450-0d92d0c26d71",
      "metadata": {
        "id": "b0a26b83-e3a9-4ab1-b450-0d92d0c26d71",
        "outputId": "bd7df364-a016-47ca-8a25-d1f0d5e3f95c"
      },
      "outputs": [
        {
          "name": "stdout",
          "output_type": "stream",
          "text": [
            "765\n"
          ]
        }
      ],
      "source": [
        "c= 765\n",
        "d = 234\n",
        "e = c-d\n",
        "print(c)"
      ]
    },
    {
      "cell_type": "code",
      "execution_count": null,
      "id": "2206b24e-d2db-4ea2-9f73-c230e03168bb",
      "metadata": {
        "id": "2206b24e-d2db-4ea2-9f73-c230e03168bb",
        "outputId": "c9806a9b-e043-47cf-d16a-3f3f5df58b4e"
      },
      "outputs": [
        {
          "name": "stdout",
          "output_type": "stream",
          "text": [
            "222456\n"
          ]
        }
      ],
      "source": [
        "e = 598\n",
        "f = 372\n",
        "g = e*f\n",
        "print(g)"
      ]
    },
    {
      "cell_type": "code",
      "execution_count": null,
      "id": "b23e3a7d-927f-4195-b2da-de52702738d9",
      "metadata": {
        "id": "b23e3a7d-927f-4195-b2da-de52702738d9",
        "outputId": "72fa3249-ed54-42f7-d2b3-3b7ea8aa5f5d"
      },
      "outputs": [
        {
          "name": "stdout",
          "output_type": "stream",
          "text": [
            "16.676470588235293\n"
          ]
        }
      ],
      "source": [
        "g = 567\n",
        "h = 34\n",
        "i = g/h\n",
        "print(i)"
      ]
    },
    {
      "cell_type": "code",
      "execution_count": null,
      "id": "966accd7-75b2-4358-aa88-4fb6da7fa164",
      "metadata": {
        "id": "966accd7-75b2-4358-aa88-4fb6da7fa164",
        "outputId": "edb7904b-406d-43b8-9cd3-8c64234f1cf3"
      },
      "outputs": [
        {
          "name": "stdout",
          "output_type": "stream",
          "text": [
            "157\n"
          ]
        }
      ],
      "source": [
        "i = 8932\n",
        "j = 675\n",
        "k = i%j\n",
        "print(k)"
      ]
    },
    {
      "cell_type": "code",
      "execution_count": null,
      "id": "a9edbe5f-6c20-4d76-a4ee-ad4569cacf56",
      "metadata": {
        "id": "a9edbe5f-6c20-4d76-a4ee-ad4569cacf56",
        "outputId": "7a6134a4-8c7e-42d8-c062-38fc2f5a0751"
      },
      "outputs": [
        {
          "name": "stdin",
          "output_type": "stream",
          "text": [
            "enter number 456\n",
            "enter second number 789\n"
          ]
        },
        {
          "name": "stdout",
          "output_type": "stream",
          "text": [
            "1245\n"
          ]
        }
      ],
      "source": [
        "x = int(input(\"enter number\"))\n",
        "y = int(input(\"enter second number\"))\n",
        "x+=y\n",
        "print(x)"
      ]
    },
    {
      "cell_type": "code",
      "execution_count": null,
      "id": "b0548aa0-021c-462e-b90d-79dde556660a",
      "metadata": {
        "id": "b0548aa0-021c-462e-b90d-79dde556660a",
        "outputId": "a0e00061-c317-41f3-f3fa-78c57de9e4ac"
      },
      "outputs": [
        {
          "name": "stdin",
          "output_type": "stream",
          "text": [
            "enter number 5.67\n",
            "enter second number 8.234\n"
          ]
        },
        {
          "name": "stdout",
          "output_type": "stream",
          "text": [
            "13.904\n"
          ]
        }
      ],
      "source": [
        "x = float(input(\"enter number\"))\n",
        "y = float(input(\"enter second number\"))\n",
        "x+=y\n",
        "print(x)"
      ]
    },
    {
      "cell_type": "code",
      "execution_count": null,
      "id": "19b67da5-64b6-46ce-bfd5-67d5966fe95b",
      "metadata": {
        "id": "19b67da5-64b6-46ce-bfd5-67d5966fe95b",
        "outputId": "43da3293-842c-4291-d713-d007e964217d"
      },
      "outputs": [
        {
          "name": "stdin",
          "output_type": "stream",
          "text": [
            "enter number 546\n",
            "enter second number 623\n"
          ]
        },
        {
          "name": "stdout",
          "output_type": "stream",
          "text": [
            "1169\n"
          ]
        }
      ],
      "source": [
        "x = int(input(\"enter number\"))\n",
        "y = int(input(\"enter second number\"))\n",
        "x+=y\n",
        "print(x)"
      ]
    },
    {
      "cell_type": "code",
      "execution_count": null,
      "id": "3c6a059d-a6b7-4fd6-a173-8036dffdf551",
      "metadata": {
        "id": "3c6a059d-a6b7-4fd6-a173-8036dffdf551",
        "outputId": "2de4fdf8-caa4-430a-88bd-68231113def1"
      },
      "outputs": [
        {
          "name": "stdin",
          "output_type": "stream",
          "text": [
            "enter number 7.12\n",
            "enter second number 9.33\n"
          ]
        },
        {
          "name": "stdout",
          "output_type": "stream",
          "text": [
            "16.45\n"
          ]
        }
      ],
      "source": [
        "x = float(input(\"enter number\"))\n",
        "y = float(input(\"enter second number\"))\n",
        "x+=y\n",
        "print(x)"
      ]
    },
    {
      "cell_type": "code",
      "execution_count": null,
      "id": "72762eea-1e53-4f65-bf6c-562d0d13805e",
      "metadata": {
        "id": "72762eea-1e53-4f65-bf6c-562d0d13805e",
        "outputId": "dd6b43a8-5648-4ceb-a760-ebfc8f2e6e46"
      },
      "outputs": [
        {
          "name": "stdout",
          "output_type": "stream",
          "text": [
            "125.7\n"
          ]
        }
      ],
      "source": [
        "x = 45\n",
        "y = 80.7\n",
        "x+=y\n",
        "print(x)"
      ]
    },
    {
      "cell_type": "code",
      "execution_count": null,
      "id": "67a14192-5958-4917-b85c-0b6c28a0f3db",
      "metadata": {
        "id": "67a14192-5958-4917-b85c-0b6c28a0f3db",
        "outputId": "3c69062a-2a97-45bd-d12e-b4480fddfc75"
      },
      "outputs": [
        {
          "name": "stdin",
          "output_type": "stream",
          "text": [
            "enter number 1004\n",
            "enter second number 899\n"
          ]
        },
        {
          "name": "stdout",
          "output_type": "stream",
          "text": [
            "105\n"
          ]
        }
      ],
      "source": [
        "x = int(input(\"enter number\"))\n",
        "y = int(input(\"enter second number\"))\n",
        "x-=y\n",
        "print(x)"
      ]
    },
    {
      "cell_type": "code",
      "execution_count": null,
      "id": "2a03ffbe-528d-4bcc-b912-b8b80ed94071",
      "metadata": {
        "id": "2a03ffbe-528d-4bcc-b912-b8b80ed94071",
        "outputId": "349600e9-abc7-483f-a0db-125132883339"
      },
      "outputs": [
        {
          "name": "stdin",
          "output_type": "stream",
          "text": [
            "enter number 9087\n",
            "enter second number 765\n"
          ]
        },
        {
          "name": "stdout",
          "output_type": "stream",
          "text": [
            "8322\n"
          ]
        }
      ],
      "source": [
        "x = int(input(\"enter number\"))\n",
        "y = int(input(\"enter second number\"))\n",
        "x-=y\n",
        "print(x)"
      ]
    },
    {
      "cell_type": "code",
      "execution_count": null,
      "id": "b7dba302-370d-4048-befd-1a06d4c6f13b",
      "metadata": {
        "id": "b7dba302-370d-4048-befd-1a06d4c6f13b",
        "outputId": "00bf2be1-6e60-40da-9ccf-465740c78b0a"
      },
      "outputs": [
        {
          "name": "stdin",
          "output_type": "stream",
          "text": [
            "enter number 45.67\n",
            "enter second number 32.11\n"
          ]
        },
        {
          "name": "stdout",
          "output_type": "stream",
          "text": [
            "13.560000000000002\n"
          ]
        }
      ],
      "source": [
        "x = float(input(\"enter number\"))\n",
        "y = float(input(\"enter second number\"))\n",
        "x-=y\n",
        "print(x)"
      ]
    },
    {
      "cell_type": "code",
      "execution_count": null,
      "id": "98f9a557-1988-4bfe-a24b-0f9a6b3c8be4",
      "metadata": {
        "id": "98f9a557-1988-4bfe-a24b-0f9a6b3c8be4",
        "outputId": "29a21c12-c889-4cfa-a482-a1d57260323e"
      },
      "outputs": [
        {
          "name": "stdin",
          "output_type": "stream",
          "text": [
            "enter number 9.425\n",
            "enter second number 6.79\n"
          ]
        },
        {
          "name": "stdout",
          "output_type": "stream",
          "text": [
            "2.6350000000000007\n"
          ]
        }
      ],
      "source": [
        "x = float(input(\"enter number\"))\n",
        "y = float(input(\"enter second number\"))\n",
        "x-=y\n",
        "print(x)"
      ]
    },
    {
      "cell_type": "code",
      "execution_count": null,
      "id": "fe26fb4d-c9a3-42b5-a5bd-d5e6710ccb10",
      "metadata": {
        "id": "fe26fb4d-c9a3-42b5-a5bd-d5e6710ccb10",
        "outputId": "f56273f8-351a-42ae-a97a-9f9b99d95469"
      },
      "outputs": [
        {
          "name": "stdout",
          "output_type": "stream",
          "text": [
            "-784.169\n"
          ]
        }
      ],
      "source": [
        "x = 5.431\n",
        "y = 789.6\n",
        "x-=y\n",
        "print(x)"
      ]
    },
    {
      "cell_type": "code",
      "execution_count": null,
      "id": "0627e387-9ccb-4608-9d56-ea23a771602f",
      "metadata": {
        "id": "0627e387-9ccb-4608-9d56-ea23a771602f",
        "outputId": "a226889f-837d-4fe1-dbe8-62f56970339e"
      },
      "outputs": [
        {
          "name": "stdin",
          "output_type": "stream",
          "text": [
            "enter number 67\n",
            "enter second number 54\n"
          ]
        },
        {
          "name": "stdout",
          "output_type": "stream",
          "text": [
            "3618\n"
          ]
        }
      ],
      "source": [
        "x = int(input(\"enter number\"))\n",
        "y = int(input(\"enter second number\"))\n",
        "x*=y\n",
        "print(x)"
      ]
    },
    {
      "cell_type": "code",
      "execution_count": null,
      "id": "9ef68edf-b75f-4a7a-a290-493e90d14f13",
      "metadata": {
        "id": "9ef68edf-b75f-4a7a-a290-493e90d14f13",
        "outputId": "c4fd1884-e89e-4aa7-e681-778540a98e24"
      },
      "outputs": [
        {
          "name": "stdin",
          "output_type": "stream",
          "text": [
            "enter number 987\n",
            "enter second number 345\n"
          ]
        },
        {
          "name": "stdout",
          "output_type": "stream",
          "text": [
            "340515\n"
          ]
        }
      ],
      "source": [
        "x = int(input(\"enter number\"))\n",
        "y = int(input(\"enter second number\"))\n",
        "x*=y\n",
        "print(x)"
      ]
    },
    {
      "cell_type": "code",
      "execution_count": null,
      "id": "7fc481cb-0fa3-4bdd-a87b-c1580ab4c10d",
      "metadata": {
        "id": "7fc481cb-0fa3-4bdd-a87b-c1580ab4c10d",
        "outputId": "2cbc920f-cf1a-4adb-e0f1-3559d21ae4de"
      },
      "outputs": [
        {
          "name": "stdin",
          "output_type": "stream",
          "text": [
            "enter number 67.5\n",
            "enter second number 9.8\n"
          ]
        },
        {
          "name": "stdout",
          "output_type": "stream",
          "text": [
            "661.5\n"
          ]
        }
      ],
      "source": [
        "x = float(input(\"enter number\"))\n",
        "y = float(input(\"enter second number\"))\n",
        "x*=y\n",
        "print(x)"
      ]
    },
    {
      "cell_type": "code",
      "execution_count": null,
      "id": "22a2b4fc-1b03-44ee-8871-2d9ed92f3527",
      "metadata": {
        "id": "22a2b4fc-1b03-44ee-8871-2d9ed92f3527",
        "outputId": "efb09b92-716b-4f97-830e-19cc9133cf9b"
      },
      "outputs": [
        {
          "name": "stdin",
          "output_type": "stream",
          "text": [
            "enter number 4.78\n",
            "enter second number 3.98\n"
          ]
        },
        {
          "name": "stdout",
          "output_type": "stream",
          "text": [
            "19.0244\n"
          ]
        }
      ],
      "source": [
        "x = float(input(\"enter number\"))\n",
        "y = float(input(\"enter second number\"))\n",
        "x*=y\n",
        "print(x)"
      ]
    },
    {
      "cell_type": "code",
      "execution_count": null,
      "id": "3e2b5f6c-62cc-4f72-a37f-84ae2d6d00b2",
      "metadata": {
        "id": "3e2b5f6c-62cc-4f72-a37f-84ae2d6d00b2",
        "outputId": "407d1e07-b9ea-41dc-d659-1b6d4e5e2eb9"
      },
      "outputs": [
        {
          "name": "stdout",
          "output_type": "stream",
          "text": [
            "2332800\n"
          ]
        }
      ],
      "source": [
        "x = 675\n",
        "y = 3456\n",
        "x*=y\n",
        "print(x)"
      ]
    },
    {
      "cell_type": "code",
      "execution_count": null,
      "id": "3b405bba-17fd-40cb-9ef7-533cf4aa519c",
      "metadata": {
        "id": "3b405bba-17fd-40cb-9ef7-533cf4aa519c",
        "outputId": "16a1ea7f-35aa-4a46-a319-3262ce5dc6fd"
      },
      "outputs": [
        {
          "name": "stdin",
          "output_type": "stream",
          "text": [
            "enter number 676\n",
            "enter second number 89\n"
          ]
        },
        {
          "name": "stdout",
          "output_type": "stream",
          "text": [
            "7.595505617977528\n"
          ]
        }
      ],
      "source": [
        "x = float(input(\"enter number\"))\n",
        "y = float(input(\"enter second number\"))\n",
        "x/=y\n",
        "print(x)"
      ]
    },
    {
      "cell_type": "code",
      "execution_count": null,
      "id": "5d0228f3-6e5d-4c29-ab4b-90fe2d3ab75f",
      "metadata": {
        "id": "5d0228f3-6e5d-4c29-ab4b-90fe2d3ab75f",
        "outputId": "b3fda842-8e02-4ee8-82ed-4ae766ebdb38"
      },
      "outputs": [
        {
          "name": "stdin",
          "output_type": "stream",
          "text": [
            "enter number 345\n",
            "enter second number 23\n"
          ]
        },
        {
          "name": "stdout",
          "output_type": "stream",
          "text": [
            "15.0\n"
          ]
        }
      ],
      "source": [
        "x = float(input(\"enter number\"))\n",
        "y = float(input(\"enter second number\"))\n",
        "x/=y\n",
        "print(x)"
      ]
    },
    {
      "cell_type": "code",
      "execution_count": null,
      "id": "bde31a41-f107-41e9-b62a-cb7aceb1520e",
      "metadata": {
        "id": "bde31a41-f107-41e9-b62a-cb7aceb1520e",
        "outputId": "eac3c85d-bb2b-4fa6-a215-eac2620327af"
      },
      "outputs": [
        {
          "name": "stdin",
          "output_type": "stream",
          "text": [
            "enter number 6298\n",
            "enter second number 731\n"
          ]
        },
        {
          "name": "stdout",
          "output_type": "stream",
          "text": [
            "8.615595075239398\n"
          ]
        }
      ],
      "source": [
        "x = int(input(\"enter number\"))\n",
        "y = int(input(\"enter second number\"))\n",
        "x/=y\n",
        "print(x)"
      ]
    },
    {
      "cell_type": "code",
      "execution_count": null,
      "id": "05d8f451-f08a-4160-a44b-01193e8d7280",
      "metadata": {
        "id": "05d8f451-f08a-4160-a44b-01193e8d7280",
        "outputId": "6c3691ac-bdac-4403-95da-8298c32e1d2a"
      },
      "outputs": [
        {
          "name": "stdin",
          "output_type": "stream",
          "text": [
            "enter number 7654\n",
            "enter second number 982\n"
          ]
        },
        {
          "name": "stdout",
          "output_type": "stream",
          "text": [
            "7.794297352342159\n"
          ]
        }
      ],
      "source": [
        "x = int(input(\"enter number\"))\n",
        "y = int(input(\"enter second number\"))\n",
        "x/=y\n",
        "print(x)"
      ]
    },
    {
      "cell_type": "code",
      "execution_count": null,
      "id": "382b75c7-a8e9-49fd-834b-8a41d9605117",
      "metadata": {
        "id": "382b75c7-a8e9-49fd-834b-8a41d9605117",
        "outputId": "e0115fe3-11ae-421e-fc3c-23fc280f07d6"
      },
      "outputs": [
        {
          "name": "stdout",
          "output_type": "stream",
          "text": [
            "32.70940170940171\n"
          ]
        }
      ],
      "source": [
        "a = 7654\n",
        "b = 234\n",
        "a/=b\n",
        "print(a)"
      ]
    },
    {
      "cell_type": "code",
      "execution_count": null,
      "id": "3fe961b8-700f-4b40-b962-b2740ba620f7",
      "metadata": {
        "id": "3fe961b8-700f-4b40-b962-b2740ba620f7",
        "outputId": "f4bc7d75-8e9a-4dc9-be52-8a84966dc9ee"
      },
      "outputs": [
        {
          "name": "stdin",
          "output_type": "stream",
          "text": [
            "enter number 9823\n",
            "enter second number 45\n"
          ]
        },
        {
          "name": "stdout",
          "output_type": "stream",
          "text": [
            "13.0\n"
          ]
        }
      ],
      "source": [
        "x = float(input(\"enter number\"))\n",
        "y = float(input(\"enter second number\"))\n",
        "x%=y\n",
        "print(x)"
      ]
    },
    {
      "cell_type": "code",
      "execution_count": null,
      "id": "cbc4fd36-355b-4a1a-ab67-af6b4e559422",
      "metadata": {
        "id": "cbc4fd36-355b-4a1a-ab67-af6b4e559422",
        "outputId": "f126c674-08ca-4e20-e82c-9b8874ce9a40"
      },
      "outputs": [
        {
          "name": "stdin",
          "output_type": "stream",
          "text": [
            "enter number 3456\n",
            "enter second number 789\n"
          ]
        },
        {
          "name": "stdout",
          "output_type": "stream",
          "text": [
            "300.0\n"
          ]
        }
      ],
      "source": [
        "x = float(input(\"enter number\"))\n",
        "y = float(input(\"enter second number\"))\n",
        "x%=y\n",
        "print(x)"
      ]
    },
    {
      "cell_type": "code",
      "execution_count": null,
      "id": "922a7159-d610-4c8a-9f4c-e5e8aceb5761",
      "metadata": {
        "id": "922a7159-d610-4c8a-9f4c-e5e8aceb5761",
        "outputId": "bd199c97-ca32-40a3-e8a3-d881bb7244ee"
      },
      "outputs": [
        {
          "name": "stdin",
          "output_type": "stream",
          "text": [
            "enter number 6321\n",
            "enter second number 897\n"
          ]
        },
        {
          "name": "stdout",
          "output_type": "stream",
          "text": [
            "42\n"
          ]
        }
      ],
      "source": [
        "x = int(input(\"enter number\"))\n",
        "y = int(input(\"enter second number\"))\n",
        "x%=y\n",
        "print(x)"
      ]
    },
    {
      "cell_type": "code",
      "execution_count": null,
      "id": "cde47aca-2dbc-4f88-bbc3-c95cafc7bbe9",
      "metadata": {
        "id": "cde47aca-2dbc-4f88-bbc3-c95cafc7bbe9",
        "outputId": "2d60499c-aac1-4bdc-c4d3-42961741a634"
      },
      "outputs": [
        {
          "name": "stdin",
          "output_type": "stream",
          "text": [
            "enter number 9245\n",
            "enter second number 67\n"
          ]
        },
        {
          "name": "stdout",
          "output_type": "stream",
          "text": [
            "66\n"
          ]
        }
      ],
      "source": [
        "x = int(input(\"enter number\"))\n",
        "y = int(input(\"enter second number\"))\n",
        "x%=y\n",
        "print(x)"
      ]
    },
    {
      "cell_type": "code",
      "execution_count": null,
      "id": "e05a769d-f83b-466c-9c05-10b418aa5737",
      "metadata": {
        "id": "e05a769d-f83b-466c-9c05-10b418aa5737",
        "outputId": "4a29b203-a780-44c5-9449-3c3cf4384679"
      },
      "outputs": [
        {
          "name": "stdout",
          "output_type": "stream",
          "text": [
            "14\n"
          ]
        }
      ],
      "source": [
        "a = 6712\n",
        "b = 34\n",
        "a%=b\n",
        "print(a)"
      ]
    },
    {
      "cell_type": "code",
      "execution_count": null,
      "id": "3257a047-6097-4c14-81d9-95b894f3c2ec",
      "metadata": {
        "id": "3257a047-6097-4c14-81d9-95b894f3c2ec"
      },
      "outputs": [],
      "source": []
    }
  ],
  "metadata": {
    "kernelspec": {
      "display_name": "Python 3 (ipykernel)",
      "language": "python",
      "name": "python3"
    },
    "language_info": {
      "codemirror_mode": {
        "name": "ipython",
        "version": 3
      },
      "file_extension": ".py",
      "mimetype": "text/x-python",
      "name": "python",
      "nbconvert_exporter": "python",
      "pygments_lexer": "ipython3",
      "version": "3.11.7"
    },
    "colab": {
      "provenance": []
    }
  },
  "nbformat": 4,
  "nbformat_minor": 5
}