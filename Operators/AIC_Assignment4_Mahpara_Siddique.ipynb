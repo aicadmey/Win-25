{
  "nbformat": 4,
  "nbformat_minor": 0,
  "metadata": {
    "colab": {
      "provenance": []
    },
    "kernelspec": {
      "name": "python3",
      "display_name": "Python 3"
    },
    "language_info": {
      "name": "python"
    }
  },
  "cells": [
    {
      "cell_type": "markdown",
      "source": [
        "** Comparison Operators**"
      ],
      "metadata": {
        "id": "_yEq7M4-BfHX"
      }
    },
    {
      "cell_type": "markdown",
      "source": [
        "**== (Equal to)**"
      ],
      "metadata": {
        "id": "jEgKNN6aCMUj"
      }
    },
    {
      "cell_type": "code",
      "source": [
        "# example1\n",
        "num1 = 3\n",
        "num2 = 2\n",
        "print(num1 == num2)"
      ],
      "metadata": {
        "colab": {
          "base_uri": "https://localhost:8080/"
        },
        "id": "DcTzExhxCTE1",
        "outputId": "0e548bc7-11f7-4951-c2ff-c9ece9d86d0c"
      },
      "execution_count": null,
      "outputs": [
        {
          "output_type": "stream",
          "name": "stdout",
          "text": [
            "False\n"
          ]
        }
      ]
    },
    {
      "cell_type": "code",
      "source": [
        "# example2\n",
        "attack = \"hello\"\n",
        "Attack = \"Hello\"\n",
        "print(attack == Attack)"
      ],
      "metadata": {
        "colab": {
          "base_uri": "https://localhost:8080/"
        },
        "id": "Y46o0TYYDX3B",
        "outputId": "e41053d3-29b7-4014-eac6-61eaf0b9cf4d"
      },
      "execution_count": null,
      "outputs": [
        {
          "output_type": "execute_result",
          "data": {
            "text/plain": [
              "False"
            ]
          },
          "metadata": {},
          "execution_count": 6
        }
      ]
    },
    {
      "cell_type": "code",
      "source": [
        "# example3\n",
        "nums = [1, 2, 3]\n",
        "Nums = [1, 2, 3]\n",
        "print(nums == Nums)"
      ],
      "metadata": {
        "colab": {
          "base_uri": "https://localhost:8080/"
        },
        "id": "wYHHecUvDjl7",
        "outputId": "eedd6e24-2608-4d9c-a34a-ca94762a3df8"
      },
      "execution_count": null,
      "outputs": [
        {
          "output_type": "stream",
          "name": "stdout",
          "text": [
            "True\n"
          ]
        }
      ]
    },
    {
      "cell_type": "code",
      "source": [
        "# example4\n",
        "digit = 10\n",
        "Digit = 15\n",
        "print( digit == Digit)"
      ],
      "metadata": {
        "colab": {
          "base_uri": "https://localhost:8080/"
        },
        "id": "h3OFoVT3EAvz",
        "outputId": "09c2e0dd-a30f-47dc-ee88-3f4dc947f0ad"
      },
      "execution_count": null,
      "outputs": [
        {
          "output_type": "stream",
          "name": "stdout",
          "text": [
            "False\n"
          ]
        }
      ]
    },
    {
      "cell_type": "code",
      "source": [
        "# example5\n",
        "VPN = True\n",
        "vpn = 1\n",
        "print(VPN == vpn)"
      ],
      "metadata": {
        "colab": {
          "base_uri": "https://localhost:8080/"
        },
        "id": "FJURCevsER12",
        "outputId": "16301212-de05-41e5-8071-490d45a36522"
      },
      "execution_count": null,
      "outputs": [
        {
          "output_type": "stream",
          "name": "stdout",
          "text": [
            "True\n"
          ]
        }
      ]
    },
    {
      "cell_type": "markdown",
      "source": [
        "**!= (Not equal to)**"
      ],
      "metadata": {
        "id": "_Xus2XJ8H_Gp"
      }
    },
    {
      "cell_type": "code",
      "source": [
        "# example1\n",
        "alpha = 7\n",
        "beta = 5\n",
        "print(alpha != beta)"
      ],
      "metadata": {
        "colab": {
          "base_uri": "https://localhost:8080/"
        },
        "id": "gM_tqmKaIChp",
        "outputId": "f356ba4d-28e6-4fb2-f946-a92f0eb73fc4"
      },
      "execution_count": null,
      "outputs": [
        {
          "output_type": "stream",
          "name": "stdout",
          "text": [
            "True\n"
          ]
        }
      ]
    },
    {
      "cell_type": "code",
      "source": [
        "# example2\n",
        "planet = \"abc\"\n",
        "blanet = \"ABC\"\n",
        "print(planet != blanet)"
      ],
      "metadata": {
        "colab": {
          "base_uri": "https://localhost:8080/"
        },
        "id": "dX8bqUsxIXV8",
        "outputId": "31061525-e126-42de-d81b-c753b3639d05"
      },
      "execution_count": null,
      "outputs": [
        {
          "output_type": "stream",
          "name": "stdout",
          "text": [
            "True\n"
          ]
        }
      ]
    },
    {
      "cell_type": "code",
      "source": [
        "# example3\n",
        "rover = 8\n",
        "Rover = 8\n",
        "print(rover != Rover)"
      ],
      "metadata": {
        "colab": {
          "base_uri": "https://localhost:8080/"
        },
        "id": "Mf-xiH6UIo9t",
        "outputId": "647fc50f-22c4-4fe0-8b9c-1770ac10ef72"
      },
      "execution_count": null,
      "outputs": [
        {
          "output_type": "stream",
          "name": "stdout",
          "text": [
            "False\n"
          ]
        }
      ]
    },
    {
      "cell_type": "code",
      "source": [
        "# example4\n",
        "nebula = [1, 2]\n",
        "Nebula = [1, 2]\n",
        "print(nebula != Nebula)"
      ],
      "metadata": {
        "colab": {
          "base_uri": "https://localhost:8080/"
        },
        "id": "y37LsbpmI38M",
        "outputId": "e9c5202d-c997-4dbc-f94b-780eecfb5d0f"
      },
      "execution_count": null,
      "outputs": [
        {
          "output_type": "stream",
          "name": "stdout",
          "text": [
            "False\n"
          ]
        }
      ]
    },
    {
      "cell_type": "code",
      "source": [
        "# example5\n",
        "fire = None\n",
        "Fire = 0\n",
        "print(fire != Fire)"
      ],
      "metadata": {
        "colab": {
          "base_uri": "https://localhost:8080/"
        },
        "id": "blkIVatpJLrA",
        "outputId": "b5def3d6-ec51-46c5-bbc5-d16db937c621"
      },
      "execution_count": null,
      "outputs": [
        {
          "output_type": "stream",
          "name": "stdout",
          "text": [
            "True\n"
          ]
        }
      ]
    },
    {
      "cell_type": "markdown",
      "source": [
        "**< (Less than)**"
      ],
      "metadata": {
        "id": "jQ0Wa6XIJZC2"
      }
    },
    {
      "cell_type": "code",
      "source": [
        "# example1\n",
        "Black = 3\n",
        "hole = 5\n",
        "print(3 < 5)"
      ],
      "metadata": {
        "colab": {
          "base_uri": "https://localhost:8080/"
        },
        "id": "QRcx71hyJclA",
        "outputId": "9c9c20aa-de13-4a41-bc2b-bf8b55f0ff6e"
      },
      "execution_count": null,
      "outputs": [
        {
          "output_type": "stream",
          "name": "stdout",
          "text": [
            "True\n"
          ]
        }
      ]
    },
    {
      "cell_type": "code",
      "source": [
        "# example2\n",
        "fire_wall = 10\n",
        "Fire_wall = 10\n",
        "print(fire_wall < Fire_wall)"
      ],
      "metadata": {
        "colab": {
          "base_uri": "https://localhost:8080/"
        },
        "id": "7of7zA0DJpe9",
        "outputId": "bfa2732d-2e2f-46b3-a174-9791ad7d3a07"
      },
      "execution_count": null,
      "outputs": [
        {
          "output_type": "stream",
          "name": "stdout",
          "text": [
            "False\n"
          ]
        }
      ]
    },
    {
      "cell_type": "code",
      "source": [
        "# example3\n",
        "galaxy = -1\n",
        "Galaxy = 0\n",
        "print(galaxy < Galaxy)"
      ],
      "metadata": {
        "colab": {
          "base_uri": "https://localhost:8080/"
        },
        "id": "hvxwEWWQKgIk",
        "outputId": "7c8e049c-2bd4-47bc-e691-3d7416867391"
      },
      "execution_count": null,
      "outputs": [
        {
          "output_type": "stream",
          "name": "stdout",
          "text": [
            "True\n"
          ]
        }
      ]
    },
    {
      "cell_type": "code",
      "source": [
        "# example4\n",
        "universe = 100\n",
        "Universe = 99\n",
        "print(universe < Universe)"
      ],
      "metadata": {
        "colab": {
          "base_uri": "https://localhost:8080/"
        },
        "id": "IdbvfB1UKu_V",
        "outputId": "f7ddbff9-a4c3-42a4-dcd4-0361aa2aadc0"
      },
      "execution_count": null,
      "outputs": [
        {
          "output_type": "stream",
          "name": "stdout",
          "text": [
            "False\n"
          ]
        }
      ]
    },
    {
      "cell_type": "code",
      "source": [
        "# examplr5\n",
        "num3 = 2.5\n",
        "num4 = 3\n",
        "print(num3 < num4)"
      ],
      "metadata": {
        "colab": {
          "base_uri": "https://localhost:8080/"
        },
        "id": "MX4nmEzlK8rF",
        "outputId": "eb25d50e-e1b3-4af5-a770-e88d78d12dc4"
      },
      "execution_count": null,
      "outputs": [
        {
          "output_type": "stream",
          "name": "stdout",
          "text": [
            "True\n"
          ]
        }
      ]
    },
    {
      "cell_type": "markdown",
      "source": [
        "**> (Greater than)**"
      ],
      "metadata": {
        "id": "vrfP7CDsLILB"
      }
    },
    {
      "cell_type": "code",
      "source": [
        "# example1\n",
        "code = 10\n",
        "Code = 5\n",
        "print(code > Code)"
      ],
      "metadata": {
        "colab": {
          "base_uri": "https://localhost:8080/"
        },
        "id": "ArnSWzwgLLr_",
        "outputId": "194846e3-af6d-4aac-cf9c-fb8ae225c4af"
      },
      "execution_count": null,
      "outputs": [
        {
          "output_type": "stream",
          "name": "stdout",
          "text": [
            "True\n"
          ]
        }
      ]
    },
    {
      "cell_type": "code",
      "source": [
        "# example2\n",
        "mission = 15\n",
        "Mission = 20\n",
        "print( mission > Mission)"
      ],
      "metadata": {
        "colab": {
          "base_uri": "https://localhost:8080/"
        },
        "id": "94U5FtCkMArF",
        "outputId": "fce57acc-a6fe-4296-ffdd-fadc2b3ae1f3"
      },
      "execution_count": null,
      "outputs": [
        {
          "output_type": "stream",
          "name": "stdout",
          "text": [
            "False\n"
          ]
        }
      ]
    },
    {
      "cell_type": "code",
      "source": [
        "# example3\n",
        "space = 3.4\n",
        "Space = 2.5\n",
        "print(space > Space)"
      ],
      "metadata": {
        "colab": {
          "base_uri": "https://localhost:8080/"
        },
        "id": "r6GquDjmfEsT",
        "outputId": "f07f44eb-3f3d-4a7c-aecf-5f025b5a9ef4"
      },
      "execution_count": null,
      "outputs": [
        {
          "output_type": "stream",
          "name": "stdout",
          "text": [
            "True\n"
          ]
        }
      ]
    },
    {
      "cell_type": "code",
      "source": [
        "# example4\n",
        "Aero_space = 7\n",
        "aero_space = 7\n",
        "print(Aero_space > aero_space)"
      ],
      "metadata": {
        "colab": {
          "base_uri": "https://localhost:8080/"
        },
        "id": "CmfFkOt7fV6o",
        "outputId": "5dc9a875-5d71-49e2-ee6a-1c92a28a3bbe"
      },
      "execution_count": null,
      "outputs": [
        {
          "output_type": "stream",
          "name": "stdout",
          "text": [
            "False\n"
          ]
        }
      ]
    },
    {
      "cell_type": "code",
      "source": [
        "# example5\n",
        "linux = -1\n",
        "Linux = -5\n",
        "print(linux > Linux)"
      ],
      "metadata": {
        "colab": {
          "base_uri": "https://localhost:8080/"
        },
        "id": "rcp5Ac7MfplG",
        "outputId": "f785e16b-1fd2-4f17-eb27-9ab15acf7c16"
      },
      "execution_count": null,
      "outputs": [
        {
          "output_type": "stream",
          "name": "stdout",
          "text": [
            "True\n"
          ]
        }
      ]
    },
    {
      "cell_type": "markdown",
      "source": [
        "**<= (Less than or equal to)**"
      ],
      "metadata": {
        "id": "An9awIEWf2w6"
      }
    },
    {
      "cell_type": "code",
      "source": [
        "# example1\n",
        "apes = 5\n",
        "Apes = 5\n",
        "print(apes <= Apes)"
      ],
      "metadata": {
        "colab": {
          "base_uri": "https://localhost:8080/"
        },
        "id": "DXLoC7uEf5lg",
        "outputId": "15bd53cf-6126-403b-b31b-5780bc6a1fd0"
      },
      "execution_count": null,
      "outputs": [
        {
          "output_type": "stream",
          "name": "stdout",
          "text": [
            "True\n"
          ]
        }
      ]
    },
    {
      "cell_type": "code",
      "source": [
        "# example2\n",
        "mars = 4\n",
        "MArs = 3\n",
        "print(mars <= MArs)"
      ],
      "metadata": {
        "colab": {
          "base_uri": "https://localhost:8080/"
        },
        "id": "M78MtVQ0gYew",
        "outputId": "dad1e465-9651-418d-95f3-b3c6cfe95f7c"
      },
      "execution_count": null,
      "outputs": [
        {
          "output_type": "stream",
          "name": "stdout",
          "text": [
            "False\n"
          ]
        }
      ]
    },
    {
      "cell_type": "code",
      "source": [
        "# example3\n",
        "venus = 2.2\n",
        "Venus = 2.5\n",
        "print(venus <= Venus)"
      ],
      "metadata": {
        "colab": {
          "base_uri": "https://localhost:8080/"
        },
        "id": "tBUxfAwXgyac",
        "outputId": "bc9c92a6-83fb-4da5-94f0-150620824326"
      },
      "execution_count": null,
      "outputs": [
        {
          "output_type": "stream",
          "name": "stdout",
          "text": [
            "True\n"
          ]
        }
      ]
    },
    {
      "cell_type": "code",
      "source": [
        "# example 4\n",
        "zero = 0\n",
        "Zero = 0\n",
        "print(zero <= Zero)"
      ],
      "metadata": {
        "colab": {
          "base_uri": "https://localhost:8080/"
        },
        "id": "xXFITXJPg-nJ",
        "outputId": "82a215ae-351c-40a5-c424-74068bdf3cb6"
      },
      "execution_count": null,
      "outputs": [
        {
          "output_type": "stream",
          "name": "stdout",
          "text": [
            "True\n"
          ]
        }
      ]
    },
    {
      "cell_type": "code",
      "source": [
        "# example5\n",
        "earth = 10\n",
        "Earth = 9\n",
        "print(earth <= Earth)"
      ],
      "metadata": {
        "id": "tZt62wMPhKoF"
      },
      "execution_count": null,
      "outputs": []
    },
    {
      "cell_type": "markdown",
      "source": [
        "**>= (Greater than or equal to**"
      ],
      "metadata": {
        "id": "Um4a65Xvhc-W"
      }
    },
    {
      "cell_type": "code",
      "source": [
        "# example1\n",
        "mercury = 5\n",
        "Mercury = 3\n",
        "print(mercury >= Mercury)"
      ],
      "metadata": {
        "colab": {
          "base_uri": "https://localhost:8080/"
        },
        "id": "1Bf0cF4thgtz",
        "outputId": "20fc7c2f-f054-46b4-f935-d6138fc3385d"
      },
      "execution_count": null,
      "outputs": [
        {
          "output_type": "stream",
          "name": "stdout",
          "text": [
            "True\n"
          ]
        }
      ]
    },
    {
      "cell_type": "code",
      "source": [
        "# example2\n",
        "neptune = 6\n",
        "Neptune = 6\n",
        "print(neptune >= Neptune)"
      ],
      "metadata": {
        "colab": {
          "base_uri": "https://localhost:8080/"
        },
        "id": "oreBowQghr89",
        "outputId": "b3ea42f8-a15b-40e4-ec0b-89b41df86fad"
      },
      "execution_count": null,
      "outputs": [
        {
          "output_type": "stream",
          "name": "stdout",
          "text": [
            "True\n"
          ]
        }
      ]
    },
    {
      "cell_type": "code",
      "source": [
        "# example3\n",
        "pluto = 3\n",
        "Pluto = 4\n",
        "print(pluto >= Pluto)"
      ],
      "metadata": {
        "colab": {
          "base_uri": "https://localhost:8080/"
        },
        "id": "HYG1jyUCh7dU",
        "outputId": "f0c5e02a-7bdc-4e95-9790-32e8c5e373ae"
      },
      "execution_count": null,
      "outputs": [
        {
          "output_type": "stream",
          "name": "stdout",
          "text": [
            "False\n"
          ]
        }
      ]
    },
    {
      "cell_type": "code",
      "source": [
        "# example4\n",
        "jupiter = 2.5\n",
        "Jupiter = 2.1\n",
        "print(jupiter >= Jupiter)"
      ],
      "metadata": {
        "colab": {
          "base_uri": "https://localhost:8080/"
        },
        "id": "Bx0gs3UViF_s",
        "outputId": "c9ea1424-f9cb-4f69-8e4b-5771c9b0e5ec"
      },
      "execution_count": null,
      "outputs": [
        {
          "output_type": "stream",
          "name": "stdout",
          "text": [
            "True\n"
          ]
        }
      ]
    },
    {
      "cell_type": "code",
      "source": [
        "# example5\n",
        "andromeda = 0\n",
        "Andromeda = 1\n",
        "print(andromeda >= Andromeda)"
      ],
      "metadata": {
        "colab": {
          "base_uri": "https://localhost:8080/"
        },
        "id": "0DD_pMFSibtI",
        "outputId": "858488c3-302e-4053-a8b2-785d4413e4da"
      },
      "execution_count": null,
      "outputs": [
        {
          "output_type": "stream",
          "name": "stdout",
          "text": [
            "False\n"
          ]
        }
      ]
    },
    {
      "cell_type": "markdown",
      "source": [
        "** Logical Operators**"
      ],
      "metadata": {
        "id": "fGYUAx3vipth"
      }
    },
    {
      "cell_type": "markdown",
      "source": [
        "**and**"
      ],
      "metadata": {
        "id": "S5nKW4X5itO9"
      }
    },
    {
      "cell_type": "code",
      "source": [
        "# example1\n",
        "tad_pole = 10\n",
        "Tad_pole = 20\n",
        "# here, i used and operator, if both the values are trure, it will give true in output\n",
        "print( tad_pole > 5 and Tad_pole > 15)"
      ],
      "metadata": {
        "colab": {
          "base_uri": "https://localhost:8080/"
        },
        "id": "iKPY0NPwivtv",
        "outputId": "91ed61ad-145d-45f8-aab5-be60942028a3"
      },
      "execution_count": null,
      "outputs": [
        {
          "output_type": "stream",
          "name": "stdout",
          "text": [
            "True\n"
          ]
        }
      ]
    },
    {
      "cell_type": "code",
      "source": [
        "# example2\n",
        "alpha = 20\n",
        "Alpha = 10\n",
        "# here, i used and operator, if both the values are trure, it will give true in output\n",
        "print(alpha > 5 and Alpha < 15)"
      ],
      "metadata": {
        "colab": {
          "base_uri": "https://localhost:8080/"
        },
        "id": "s9edd2Uxk2Bl",
        "outputId": "2ee576fa-ed3b-446d-da91-21486d332f49"
      },
      "execution_count": null,
      "outputs": [
        {
          "output_type": "stream",
          "name": "stdout",
          "text": [
            "True\n"
          ]
        }
      ]
    },
    {
      "cell_type": "code",
      "source": [
        "# example3\n",
        "uranus = \"moon\"\n",
        "Uranus = \"moon\"\n",
        "# here, i used and operator, if both the values are trure, it will give true in output\n",
        "print(uranus == \"moon\" and Uranus == \"moon\")"
      ],
      "metadata": {
        "colab": {
          "base_uri": "https://localhost:8080/"
        },
        "id": "-JvuTvFsmfPL",
        "outputId": "3523562c-7479-4ee5-cd52-ca5d63cd4fc7"
      },
      "execution_count": null,
      "outputs": [
        {
          "output_type": "stream",
          "name": "stdout",
          "text": [
            "True\n"
          ]
        }
      ]
    },
    {
      "cell_type": "code",
      "source": [
        "# example4\n",
        "Earth = \"soil\"\n",
        "earth = \"soil\"\n",
        "# here, i used and operator, if both the values are trure, it will give true in output\n",
        "print(Earth == \"soil\" and earth == \"soil\")"
      ],
      "metadata": {
        "colab": {
          "base_uri": "https://localhost:8080/"
        },
        "id": "tznYlmonqSy-",
        "outputId": "8ad1fd77-2880-40da-e439-3829fdf0bf19"
      },
      "execution_count": null,
      "outputs": [
        {
          "output_type": "stream",
          "name": "stdout",
          "text": [
            "True\n"
          ]
        }
      ]
    },
    {
      "cell_type": "code",
      "source": [
        "# example5\n",
        "Earth = 3.55\n",
        "earth = 3.55\n",
        "# here, i used and operator, if both the values are trure, it will give true in output\n",
        "print(Earth == 3.55 and earth == 3.55)"
      ],
      "metadata": {
        "colab": {
          "base_uri": "https://localhost:8080/"
        },
        "id": "uGnsdlmEqp68",
        "outputId": "dfca3854-c852-4945-9710-f48493019270"
      },
      "execution_count": null,
      "outputs": [
        {
          "output_type": "stream",
          "name": "stdout",
          "text": [
            "True\n"
          ]
        }
      ]
    },
    {
      "cell_type": "markdown",
      "source": [
        "**OR Operator**"
      ],
      "metadata": {
        "id": "2eidYXfKq8cD"
      }
    },
    {
      "cell_type": "code",
      "source": [
        "# example1\n",
        "moon = None\n",
        "Moon = \"Hello Earth\"\n",
        "# here , i used \"or operator\", in this if only one value is true, it will give true in output\n",
        "print(moon or Moon)\n"
      ],
      "metadata": {
        "colab": {
          "base_uri": "https://localhost:8080/"
        },
        "id": "-3bbakiNq-_N",
        "outputId": "943968fe-06b2-44e1-f737-9691a2bf32cf"
      },
      "execution_count": null,
      "outputs": [
        {
          "output_type": "stream",
          "name": "stdout",
          "text": [
            "Hello Earth\n"
          ]
        }
      ]
    },
    {
      "cell_type": "code",
      "source": [
        "# example2\n",
        "alpha = 0\n",
        "Alpha = 22\n",
        "# here , i used \"or operator\", in this if only one value is true, it will give true in output\n",
        "print(alpha or Alpha)"
      ],
      "metadata": {
        "colab": {
          "base_uri": "https://localhost:8080/"
        },
        "id": "pG_TjXvxr0cw",
        "outputId": "761baba1-c2b5-48dc-afa7-b9d502e8873c"
      },
      "execution_count": null,
      "outputs": [
        {
          "output_type": "stream",
          "name": "stdout",
          "text": [
            "22\n"
          ]
        }
      ]
    },
    {
      "cell_type": "code",
      "source": [
        "# example3\n",
        "rain = False\n",
        "snow = True\n",
        "# here , i used \"or operator\", in this if only one value is true, it will give true in output\n",
        "print(rain or snow)"
      ],
      "metadata": {
        "colab": {
          "base_uri": "https://localhost:8080/"
        },
        "id": "1RAaxvKHsCRr",
        "outputId": "c7c58d29-317d-437e-83dd-0e093227ccf6"
      },
      "execution_count": null,
      "outputs": [
        {
          "output_type": "stream",
          "name": "stdout",
          "text": [
            "True\n"
          ]
        }
      ]
    },
    {
      "cell_type": "code",
      "source": [
        "# example4\n",
        "alien = \"\"\n",
        "Alien = \"You are alive\"\n",
        "# here , i used \"or operator\", in this if only one value is true, it will give true in output\n",
        "print(alien or Alien)"
      ],
      "metadata": {
        "colab": {
          "base_uri": "https://localhost:8080/"
        },
        "id": "YBayf9BXsTMk",
        "outputId": "73a51f43-cf87-4d79-fe0c-c5b21676f1e3"
      },
      "execution_count": null,
      "outputs": [
        {
          "output_type": "stream",
          "name": "stdout",
          "text": [
            "You are alive\n"
          ]
        }
      ]
    },
    {
      "cell_type": "code",
      "source": [
        "# example5\n",
        "java = 100\n",
        "Java = None\n",
        "# here , i used \"or operator\", in this if only one value is true, it will give true in output\n",
        "print(java or Java)"
      ],
      "metadata": {
        "colab": {
          "base_uri": "https://localhost:8080/"
        },
        "id": "zcZmH64Rs2YR",
        "outputId": "3b43dbf1-880e-4cd6-fb13-c127af1fc0b6"
      },
      "execution_count": null,
      "outputs": [
        {
          "output_type": "stream",
          "name": "stdout",
          "text": [
            "100\n"
          ]
        }
      ]
    },
    {
      "cell_type": "markdown",
      "source": [
        "**Not operator**"
      ],
      "metadata": {
        "id": "s3LpDizVtSn-"
      }
    },
    {
      "cell_type": "code",
      "source": [
        "# example1\n",
        "Net = True\n",
        "# here i used not operator, it will inverse the values in output\n",
        "print(not(Net))"
      ],
      "metadata": {
        "colab": {
          "base_uri": "https://localhost:8080/"
        },
        "id": "ZZ9EdDT9tX3P",
        "outputId": "8b2c01da-ca1e-4e0d-c9ad-cd7cd8179484"
      },
      "execution_count": null,
      "outputs": [
        {
          "output_type": "stream",
          "name": "stdout",
          "text": [
            "False\n"
          ]
        }
      ]
    },
    {
      "cell_type": "code",
      "source": [
        "# example2\n",
        "wire = 4\n",
        "Wire = 2\n",
        "# here , i used \"or operator\", in this if only one value is true, it will give true in output\n",
        "print(not(wire, Wire))"
      ],
      "metadata": {
        "colab": {
          "base_uri": "https://localhost:8080/"
        },
        "id": "2-BXQcmvuF3o",
        "outputId": "978607cf-af42-4a65-90b8-fa1923fb936d"
      },
      "execution_count": null,
      "outputs": [
        {
          "output_type": "stream",
          "name": "stdout",
          "text": [
            "False\n"
          ]
        }
      ]
    },
    {
      "cell_type": "code",
      "source": [
        "# example3\n",
        "word = False\n",
        "# here , i used \"or operator\", in this if only one value is true, it will give true in output\n",
        "print(not(word))"
      ],
      "metadata": {
        "colab": {
          "base_uri": "https://localhost:8080/"
        },
        "id": "teR6nh64u7jL",
        "outputId": "8bc519d5-b7a3-4c45-b1b8-874cf01bca0a"
      },
      "execution_count": null,
      "outputs": [
        {
          "output_type": "stream",
          "name": "stdout",
          "text": [
            "True\n"
          ]
        }
      ]
    },
    {
      "cell_type": "code",
      "source": [
        "# example4\n",
        "condition = True\n",
        "print(not(condition))"
      ],
      "metadata": {
        "colab": {
          "base_uri": "https://localhost:8080/"
        },
        "id": "Z9jkSgSFx4ZF",
        "outputId": "77e4e432-dab2-4d68-94b5-f6e1ecddd3b5"
      },
      "execution_count": null,
      "outputs": [
        {
          "output_type": "stream",
          "name": "stdout",
          "text": [
            "False\n"
          ]
        }
      ]
    },
    {
      "cell_type": "code",
      "source": [
        "# example5\n",
        "conf = True\n",
        "print(not(conf))"
      ],
      "metadata": {
        "colab": {
          "base_uri": "https://localhost:8080/"
        },
        "id": "CbD3Z4FDyrsR",
        "outputId": "ca2d9bdd-e3cd-40ee-a55b-81c0deba4e1f"
      },
      "execution_count": null,
      "outputs": [
        {
          "output_type": "stream",
          "name": "stdout",
          "text": [
            "False\n"
          ]
        }
      ]
    }
  ]
}