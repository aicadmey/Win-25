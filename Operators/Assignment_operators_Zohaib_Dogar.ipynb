{
  "nbformat": 4,
  "nbformat_minor": 0,
  "metadata": {
    "colab": {
      "provenance": [],
      "gpuType": "T4"
    },
    "kernelspec": {
      "name": "python3",
      "display_name": "Python 3"
    },
    "language_info": {
      "name": "python"
    },
    "accelerator": "GPU"
  },
  "cells": [
    {
      "cell_type": "code",
      "execution_count": null,
      "metadata": {
        "colab": {
          "base_uri": "https://localhost:8080/"
        },
        "id": "5tKhI0KUxB90",
        "outputId": "a43801c2-b036-44cb-8213-fc6b184d5373"
      },
      "outputs": [
        {
          "output_type": "stream",
          "name": "stdout",
          "text": [
            "5\n",
            "Dogar\n",
            "pakistan\n",
            "5.5\n",
            "iub and ai\n"
          ]
        }
      ],
      "source": [
        "# = operater\n",
        "x=5\n",
        "print(x)\n",
        "y=\"Dogar\"\n",
        "print(y)\n",
        "z=\"pakistan\"\n",
        "print(z)\n",
        "fl=5.5\n",
        "print(fl)\n",
        "str=\"iub and ai\"\n",
        "print(str)\n",
        "\n"
      ]
    },
    {
      "cell_type": "code",
      "source": [
        "# += operator\n",
        "x=5\n",
        "x+=3\n",
        "print(x)\n",
        "y=90\n",
        "y+=4\n",
        "print(y)\n",
        "z=76\n",
        "z+=8\n",
        "print(z)\n",
        "num=67\n",
        "num+=4\n",
        "print(num)\n",
        "f=56\n",
        "f+=3\n",
        "print(f)"
      ],
      "metadata": {
        "colab": {
          "base_uri": "https://localhost:8080/"
        },
        "id": "x0ovo7nQzOH1",
        "outputId": "ac73a838-a013-4445-d26e-266b66938c48"
      },
      "execution_count": null,
      "outputs": [
        {
          "output_type": "stream",
          "name": "stdout",
          "text": [
            "8\n",
            "94\n",
            "84\n",
            "71\n",
            "59\n"
          ]
        }
      ]
    },
    {
      "cell_type": "code",
      "source": [
        "# -= operator\n",
        "\n",
        "x=5\n",
        "x-=3\n",
        "print(x)\n",
        "y=90\n",
        "y-=4\n",
        "print(y)\n",
        "z=76\n",
        "z-=8\n",
        "print(z)\n",
        "num=67\n",
        "num-=4\n",
        "print(num)\n",
        "f=56\n",
        "f-=3\n",
        "print(f)"
      ],
      "metadata": {
        "colab": {
          "base_uri": "https://localhost:8080/"
        },
        "id": "yvXBJ0Iv1ton",
        "outputId": "a841ba9c-3224-45e6-d49d-4bbbe22ca725"
      },
      "execution_count": null,
      "outputs": [
        {
          "output_type": "stream",
          "name": "stdout",
          "text": [
            "2\n",
            "86\n",
            "68\n",
            "63\n",
            "53\n"
          ]
        }
      ]
    },
    {
      "cell_type": "code",
      "source": [
        "# *= operator\n",
        "x=5\n",
        "x*=3\n",
        "print(x)\n",
        "y=90\n",
        "y*=4\n",
        "print(y)\n",
        "z=76\n",
        "z*=8\n",
        "print(z)\n",
        "num=67\n",
        "num*=4\n",
        "print(num)\n",
        "f=56\n",
        "f*=3\n",
        "print(f)"
      ],
      "metadata": {
        "colab": {
          "base_uri": "https://localhost:8080/"
        },
        "id": "6VaU6OAf2Gis",
        "outputId": "b50ef318-ccde-42c0-c53a-e5cb10d75b24"
      },
      "execution_count": null,
      "outputs": [
        {
          "output_type": "stream",
          "name": "stdout",
          "text": [
            "15\n",
            "360\n",
            "608\n",
            "268\n",
            "168\n"
          ]
        }
      ]
    },
    {
      "cell_type": "code",
      "source": [
        "# /= operator\n",
        "x=5\n",
        "x/=3\n",
        "print(x)\n",
        "y=90\n",
        "y/=4\n",
        "print(y)\n",
        "z=76\n",
        "z/=8\n",
        "print(z)\n",
        "num=67\n",
        "num/=4\n",
        "print(num)\n",
        "f=56\n",
        "f/=3\n",
        "print(f)"
      ],
      "metadata": {
        "colab": {
          "base_uri": "https://localhost:8080/"
        },
        "id": "5yUZ1hID2XS2",
        "outputId": "23536141-7714-4abb-d532-117f3d50152d"
      },
      "execution_count": null,
      "outputs": [
        {
          "output_type": "stream",
          "name": "stdout",
          "text": [
            "1.6666666666666667\n",
            "22.5\n",
            "9.5\n",
            "16.75\n",
            "18.666666666666668\n"
          ]
        }
      ]
    },
    {
      "cell_type": "code",
      "source": [
        "# %= operator\n",
        "x=5\n",
        "x%=3\n",
        "print(x)\n",
        "y=90\n",
        "y%=4\n",
        "print(y)\n",
        "z=76\n",
        "z%=8\n",
        "print(z)\n",
        "num=67\n",
        "num%=4\n",
        "print(num)\n",
        "f=56\n",
        "f%=3\n",
        "print(f)"
      ],
      "metadata": {
        "colab": {
          "base_uri": "https://localhost:8080/"
        },
        "id": "c6JKvztA2iYl",
        "outputId": "fb296944-a599-458b-b466-183f59a576f6"
      },
      "execution_count": null,
      "outputs": [
        {
          "output_type": "stream",
          "name": "stdout",
          "text": [
            "2\n",
            "2\n",
            "4\n",
            "3\n",
            "2\n"
          ]
        }
      ]
    }
  ]
}