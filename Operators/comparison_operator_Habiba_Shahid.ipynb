{
  "nbformat": 4,
  "nbformat_minor": 0,
  "metadata": {
    "colab": {
      "provenance": [],
      "gpuType": "T4"
    },
    "kernelspec": {
      "name": "python3",
      "display_name": "Python 3"
    },
    "language_info": {
      "name": "python"
    },
    "accelerator": "GPU"
  },
  "cells": [
    {
      "cell_type": "code",
      "execution_count": null,
      "metadata": {
        "colab": {
          "base_uri": "https://localhost:8080/"
        },
        "id": "WNz0-G2QJQwj",
        "outputId": "5dfff901-9ecc-4777-b963-70dd9e18759b"
      },
      "outputs": [
        {
          "output_type": "stream",
          "name": "stdout",
          "text": [
            "True\n",
            "False\n",
            "False\n",
            "False\n",
            "True\n"
          ]
        }
      ],
      "source": [
        "\n",
        "#Ex 1       # == ope\n",
        "num1=1\n",
        "num2=1\n",
        "print(num1==num2)\n",
        "\n",
        "#Ex 2\n",
        "a=9\n",
        "b=8\n",
        "print(a==b)\n",
        "\n",
        "#Ex 3\n",
        "name1=\"habiba\"\n",
        "name2=\"shahid\"\n",
        "print(name1==name2)\n",
        "\n",
        "#Ex 4\n",
        "c=\"fruits\"\n",
        "d=\"vegetable\"\n",
        "print(c==d)\n",
        "\n",
        "#Ex 5\n",
        "bol=True\n",
        "bool=1\n",
        "print(bol==bool)"
      ]
    },
    {
      "cell_type": "code",
      "source": [
        "\n",
        "#Ex 1             # != ope\n",
        "a=1\n",
        "b=2\n",
        "print(a!=b)\n",
        "\n",
        "#Ex 2\n",
        "a=\"me\"\n",
        "b=\"me\"\n",
        "print(a!=b)\n",
        "\n",
        "#Ex 3\n",
        "name1=\"fruits\"\n",
        "name2=\"vegetable\"\n",
        "print(name1!=name2)\n",
        "\n",
        "#Ex 4\n",
        "bol=True\n",
        "bool=0\n",
        "print(bol!=bool)\n",
        "\n",
        "#Ex 5\n",
        "num1=45\n",
        "num2=45\n",
        "print(num1!=num2)"
      ],
      "metadata": {
        "colab": {
          "base_uri": "https://localhost:8080/"
        },
        "id": "-CREIljZOi-l",
        "outputId": "aadac725-d754-432a-ee39-ef46a31e38c6"
      },
      "execution_count": null,
      "outputs": [
        {
          "output_type": "stream",
          "name": "stdout",
          "text": [
            "True\n",
            "False\n",
            "True\n",
            "True\n",
            "False\n"
          ]
        }
      ]
    },
    {
      "cell_type": "code",
      "source": [
        "\n",
        "#Ex 1                    # > ope\n",
        "a=10\n",
        "b=9\n",
        "print(a>b)\n",
        "\n",
        "#Ex 2\n",
        "c=5\n",
        "d=2\n",
        "print(c>d)\n",
        "\n",
        "#Ex 3\n",
        "num1=50\n",
        "num2=20\n",
        "print(num1>num2)\n",
        "\n",
        "#Ex 4\n",
        "name1=\"me\"\n",
        "name2=\"my\"\n",
        "print(name1>name2)\n",
        "\n",
        "#Ex 5\n",
        "num3=67\n",
        "num4=77\n",
        "print(num3>num4)\n"
      ],
      "metadata": {
        "colab": {
          "base_uri": "https://localhost:8080/"
        },
        "id": "idlKhhoaSPHi",
        "outputId": "581bea89-66c7-49e6-c36b-c5941a76eed7"
      },
      "execution_count": null,
      "outputs": [
        {
          "output_type": "stream",
          "name": "stdout",
          "text": [
            "True\n",
            "True\n",
            "True\n",
            "False\n",
            "False\n"
          ]
        }
      ]
    },
    {
      "cell_type": "code",
      "source": [
        "\n",
        "#Ex 1                        # < ope\n",
        "a=1\n",
        "b=2\n",
        "print(a<b)\n",
        "\n",
        "#Ex 2\n",
        "c=5\n",
        "d=5.0\n",
        "print(num3<num4)\n",
        "\n",
        "#Ex 3\n",
        "num1=80\n",
        "num2=90\n",
        "print(num1<num2)\n",
        "\n",
        "#Ex 4\n",
        "name1=\"house\"\n",
        "name2=\"garden\"\n",
        "print(name1<name2)\n",
        "\n",
        "#Ex 5\n",
        "num3=77\n",
        "num4=99\n",
        "print(num3<num4)"
      ],
      "metadata": {
        "colab": {
          "base_uri": "https://localhost:8080/"
        },
        "id": "D9_qa1i0UiCv",
        "outputId": "6ceaa0ba-cc85-4932-878d-57dfbe701f8a"
      },
      "execution_count": null,
      "outputs": [
        {
          "output_type": "stream",
          "name": "stdout",
          "text": [
            "True\n",
            "True\n",
            "True\n",
            "False\n",
            "True\n"
          ]
        }
      ]
    },
    {
      "cell_type": "code",
      "source": [
        "\n",
        "#Ex 1                  #  >= ope\n",
        "a=3\n",
        "b=5\n",
        "print(a>=b)\n",
        "\n",
        "#Ex 2\n",
        "c=\"7\"\n",
        "d=\"7.0\"\n",
        "print(c>=d)\n",
        "\n",
        "#Ex 3\n",
        "num1=89\n",
        "num2=89.1\n",
        "print(num1>=num2)\n",
        "\n",
        "#Ex 4\n",
        "num4=10.1\n",
        "num5=10\n",
        "print(num4>=num5)\n",
        "\n",
        "#Ex 5\n",
        "name1=\"apple\"\n",
        "name2=\"banana\"\n",
        "print(name1>=name2)\n"
      ],
      "metadata": {
        "colab": {
          "base_uri": "https://localhost:8080/"
        },
        "id": "wVwJMNmvXRkS",
        "outputId": "fb1b2c95-e42c-4544-92e3-1af501a71864"
      },
      "execution_count": null,
      "outputs": [
        {
          "output_type": "stream",
          "name": "stdout",
          "text": [
            "False\n",
            "False\n",
            "False\n",
            "True\n",
            "False\n"
          ]
        }
      ]
    },
    {
      "cell_type": "code",
      "source": [
        "\n",
        "#Ex 1                     # <=\n",
        "num1 = 1\n",
        "num2 = 1.5\n",
        "print(num1 <= num2)\n",
        "\n",
        "#Ex 2\n",
        "name1 = \"habiba\"\n",
        "name2 = \"habiba\"\n",
        "print(name1 <= name2)\n",
        "\n",
        "#Ex 3\n",
        "a=1\n",
        "b=1.0\n",
        "print(a<=b)\n",
        "\n",
        "#Ex 4\n",
        "c = 9.89\n",
        "d = 9.8\n",
        "print(c <= d)\n",
        "\n",
        "#Ex 5\n",
        "num4 = 90\n",
        "num5 = 90\n",
        "print(num4 <= num5)\n",
        "\n"
      ],
      "metadata": {
        "colab": {
          "base_uri": "https://localhost:8080/"
        },
        "id": "Ft7b9CHeeqKJ",
        "outputId": "ce2aca88-aa94-4704-85c7-d41677b4e53c"
      },
      "execution_count": null,
      "outputs": [
        {
          "output_type": "stream",
          "name": "stdout",
          "text": [
            "True\n",
            "True\n",
            "True\n",
            "False\n",
            "True\n"
          ]
        }
      ]
    }
  ]
}