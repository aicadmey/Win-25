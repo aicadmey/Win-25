{
  "nbformat": 4,
  "nbformat_minor": 0,
  "metadata": {
    "colab": {
      "provenance": [],
      "gpuType": "T4"
    },
    "kernelspec": {
      "name": "python3",
      "display_name": "Python 3"
    },
    "language_info": {
      "name": "python"
    },
    "accelerator": "GPU"
  },
  "cells": [
    {
      "cell_type": "markdown",
      "source": [
        "\n",
        "Comparison operators (==)"
      ],
      "metadata": {
        "id": "EE5ttM6rucN3"
      }
    },
    {
      "cell_type": "code",
      "execution_count": null,
      "metadata": {
        "colab": {
          "base_uri": "https://localhost:8080/"
        },
        "id": "__N80sNlua1u",
        "outputId": "26e1409a-db3d-4826-ca10-376eef7d3e0b"
      },
      "outputs": [
        {
          "output_type": "stream",
          "name": "stdout",
          "text": [
            "True\n"
          ]
        }
      ],
      "source": [
        "# Example 1: Comparing numbers\n",
        "x = 10\n",
        "y = 10\n",
        "print(x == y)  # Output: True"
      ]
    },
    {
      "cell_type": "code",
      "source": [
        "# Example 2: Comparing strings\n",
        "name1 = \"TahseenNazar\"\n",
        "name2 = \"TahseenNazar\"\n",
        "print(name1 == name2)  # Output: True"
      ],
      "metadata": {
        "colab": {
          "base_uri": "https://localhost:8080/"
        },
        "id": "-CJXN2nzvY68",
        "outputId": "6c052c55-476f-4fb4-f0c8-47f2117cd615"
      },
      "execution_count": null,
      "outputs": [
        {
          "output_type": "stream",
          "name": "stdout",
          "text": [
            "True\n"
          ]
        }
      ]
    },
    {
      "cell_type": "code",
      "source": [
        "# Example 3: Comparing different data types\n",
        "a = 10985\n",
        "b = \"10985\"\n",
        "print(a == b)  # Output: False (different data types)"
      ],
      "metadata": {
        "colab": {
          "base_uri": "https://localhost:8080/"
        },
        "id": "MYYAVHyfvjkk",
        "outputId": "f82dafa3-710a-435a-8c1c-eb92e319edbd"
      },
      "execution_count": null,
      "outputs": [
        {
          "output_type": "stream",
          "name": "stdout",
          "text": [
            "False\n"
          ]
        }
      ]
    },
    {
      "cell_type": "code",
      "source": [
        "# Example 4: Comparing lists\n",
        "list1 = [45, 25, 38]\n",
        "list2 = [45, 25, 38]\n",
        "print(list1 == list2)  # Output: True (same elements in the same order)"
      ],
      "metadata": {
        "colab": {
          "base_uri": "https://localhost:8080/"
        },
        "id": "wSmuF4Wzv0nb",
        "outputId": "4ff00f92-f303-4eb0-87c9-524584836c19"
      },
      "execution_count": null,
      "outputs": [
        {
          "output_type": "stream",
          "name": "stdout",
          "text": [
            "True\n"
          ]
        }
      ]
    },
    {
      "cell_type": "code",
      "source": [
        "# Example 5: Using == in an if condition\n",
        "age = 20\n",
        "if age == 20:\n",
        "    print(\"Tahseen are an adult.\")"
      ],
      "metadata": {
        "colab": {
          "base_uri": "https://localhost:8080/"
        },
        "id": "tO_aVKyCwFYw",
        "outputId": "c3b56af1-f049-4d35-ba62-a1d91cbe12de"
      },
      "execution_count": null,
      "outputs": [
        {
          "output_type": "stream",
          "name": "stdout",
          "text": [
            "Tahseen are an adult.\n"
          ]
        }
      ]
    },
    {
      "cell_type": "markdown",
      "source": [
        "Comparison operators (!=)"
      ],
      "metadata": {
        "id": "W_NqFnKdwjy7"
      }
    },
    {
      "cell_type": "code",
      "source": [
        "# Example 1: Comparing numbers\n",
        "x = 1000000\n",
        "y = 5000000\n",
        "if x != y:\n",
        "    print(\"x is not equal to y\")"
      ],
      "metadata": {
        "colab": {
          "base_uri": "https://localhost:8080/"
        },
        "id": "3MHRuMwVw7P4",
        "outputId": "ca405ed7-7dcc-4de2-8433-699abcaf8c73"
      },
      "execution_count": null,
      "outputs": [
        {
          "output_type": "stream",
          "name": "stdout",
          "text": [
            "x is not equal to y\n"
          ]
        }
      ]
    },
    {
      "cell_type": "code",
      "source": [
        "# Example 2: Comparing strings\n",
        "name1 = \"Tahseen\"\n",
        "name2 = \"nazar\"\n",
        "if name1 != name2:\n",
        "    print(\"name1 is not equal to name2\")"
      ],
      "metadata": {
        "colab": {
          "base_uri": "https://localhost:8080/"
        },
        "id": "NyWeM39NxJm2",
        "outputId": "b35ffa8d-02b9-4467-ee95-a9eb1e4d6145"
      },
      "execution_count": null,
      "outputs": [
        {
          "output_type": "stream",
          "name": "stdout",
          "text": [
            "name1 is not equal to name2\n"
          ]
        }
      ]
    },
    {
      "cell_type": "code",
      "source": [
        "# Example 3: Checking if a value is not in a list\n",
        "fruits = [\"apple\", \"banana\", \"mango\"]\n",
        "if \"orange\" not in fruits:\n",
        "    print(\"orange is not in the list of fruits\")"
      ],
      "metadata": {
        "colab": {
          "base_uri": "https://localhost:8080/"
        },
        "id": "ehwCSqm5xZQj",
        "outputId": "00016c6e-db48-4cb7-b0ea-8622f1ab1fb9"
      },
      "execution_count": null,
      "outputs": [
        {
          "output_type": "stream",
          "name": "stdout",
          "text": [
            "orange is not in the list of fruits\n"
          ]
        }
      ]
    },
    {
      "cell_type": "code",
      "source": [
        "# Example 4: Checking if a variable is not None\n",
        "user_input = None\n",
        "\n",
        "if user_input != None:\n",
        "    print(\"User input is not empty\")\n",
        "else:\n",
        "    print(\"User input is empty\")"
      ],
      "metadata": {
        "colab": {
          "base_uri": "https://localhost:8080/"
        },
        "id": "2PaPnETWyPmf",
        "outputId": "9cec4e69-b236-42d9-f826-990653526914"
      },
      "execution_count": null,
      "outputs": [
        {
          "output_type": "stream",
          "name": "stdout",
          "text": [
            "User input is empty\n"
          ]
        }
      ]
    },
    {
      "cell_type": "code",
      "source": [
        "# Example 5: Checking if a condition is not True\n",
        "is_raining = True\n",
        "\n",
        "if  is_raining:\n",
        "    print(\"It's  raining\")"
      ],
      "metadata": {
        "colab": {
          "base_uri": "https://localhost:8080/"
        },
        "id": "a-R-e4F_xqK2",
        "outputId": "32f22b8f-16eb-4e87-b5ae-ee11010fe551"
      },
      "execution_count": null,
      "outputs": [
        {
          "output_type": "stream",
          "name": "stdout",
          "text": [
            "It's  raining\n"
          ]
        }
      ]
    },
    {
      "cell_type": "markdown",
      "source": [
        "Comparison operator : (<)"
      ],
      "metadata": {
        "id": "TfmOkxK90zFp"
      }
    },
    {
      "cell_type": "code",
      "source": [
        "\n",
        "#Example 1 comparing Numbers:\n",
        "x = 10\n",
        "y = 20\n",
        "print(x < y)"
      ],
      "metadata": {
        "colab": {
          "base_uri": "https://localhost:8080/"
        },
        "id": "Amr3GVb5yyDq",
        "outputId": "a67f4797-9932-41d2-c413-f0e0ec59cbbd"
      },
      "execution_count": null,
      "outputs": [
        {
          "output_type": "stream",
          "name": "stdout",
          "text": [
            "True\n"
          ]
        }
      ]
    },
    {
      "cell_type": "code",
      "source": [
        "\n",
        "#Example 2 Comparing Strings:\n",
        "a = \"apple\"\n",
        "b = \"banana\"\n",
        "\n",
        "print(a < b)"
      ],
      "metadata": {
        "colab": {
          "base_uri": "https://localhost:8080/"
        },
        "id": "0wefe-OWy9nZ",
        "outputId": "8875ce53-8878-4434-ede5-9eb4fa71ab6d"
      },
      "execution_count": null,
      "outputs": [
        {
          "output_type": "stream",
          "name": "stdout",
          "text": [
            "True\n"
          ]
        }
      ]
    },
    {
      "cell_type": "code",
      "source": [
        "\n",
        "#example 3 Checking if a Number is Within a Range:\n",
        "\n",
        "age = 69\n",
        "\n",
        "print(20 < age < 70)"
      ],
      "metadata": {
        "colab": {
          "base_uri": "https://localhost:8080/"
        },
        "id": "bbJyAddHzbxo",
        "outputId": "4c828fd0-3e6f-430c-a8ae-90505494a7f9"
      },
      "execution_count": null,
      "outputs": [
        {
          "output_type": "stream",
          "name": "stdout",
          "text": [
            "True\n"
          ]
        }
      ]
    },
    {
      "cell_type": "code",
      "source": [
        "\n",
        "#Example 4 Sorting a List:\n",
        "numbers = [5, 2, 9, 1, 69]\n",
        "numbers.sort()\n",
        "print(numbers)"
      ],
      "metadata": {
        "colab": {
          "base_uri": "https://localhost:8080/"
        },
        "id": "YHpyDkeqz1Wh",
        "outputId": "a3740b82-c683-404f-b303-22383f1ebfaf"
      },
      "execution_count": null,
      "outputs": [
        {
          "output_type": "stream",
          "name": "stdout",
          "text": [
            "[1, 2, 5, 9, 69]\n"
          ]
        }
      ]
    },
    {
      "cell_type": "code",
      "source": [
        "\n",
        "#Example 5 Conditional Statements:\n",
        "temperature = 21\n",
        "\n",
        "if temperature < 150:\n",
        "    print(\"It's cold outside.\")\n",
        "else:\n",
        "    print(\"It's not too cold.\")"
      ],
      "metadata": {
        "colab": {
          "base_uri": "https://localhost:8080/"
        },
        "id": "Nh-KvqOx0Vny",
        "outputId": "5825031b-16a7-4f1e-e030-fc4aa286b864"
      },
      "execution_count": null,
      "outputs": [
        {
          "output_type": "stream",
          "name": "stdout",
          "text": [
            "It's cold outside.\n"
          ]
        }
      ]
    },
    {
      "cell_type": "markdown",
      "source": [
        "Comparison operators (>)"
      ],
      "metadata": {
        "id": "dFocGhAp1WFE"
      }
    },
    {
      "cell_type": "code",
      "source": [
        "# Example 1. Comparing numbers\n",
        "x = 10\n",
        "y = 10\n",
        "print(x > y)\n",
        "\n",
        "# Example 2. Comparing strings (lexicographical order)\n",
        "a = \"apple\"\n",
        "b = \"apple\"\n",
        "print(a > b)\n",
        "\n",
        "#Example 3. Checking if a number is positive\n",
        "num = -7\n",
        "print(num > 0)\n",
        "\n",
        "#Example 4. Comparing floating-point numbers\n",
        "pi = 3.14159\n",
        "e = 2.71828\n",
        "print(pi > e)\n",
        "\n",
        "#Example 5. Using the `>` operator in an `if` condition\n",
        "age = 18\n",
        "if age > 20:\n",
        "    print(\"You are an adult.\")\n",
        "else:\n",
        "    print(\"You are a minor.\")"
      ],
      "metadata": {
        "colab": {
          "base_uri": "https://localhost:8080/"
        },
        "id": "LxKeq6Bd1Ims",
        "outputId": "e97dbda5-7ad3-4da2-edc7-dc53e6f1307b"
      },
      "execution_count": null,
      "outputs": [
        {
          "output_type": "stream",
          "name": "stdout",
          "text": [
            "False\n",
            "False\n",
            "False\n",
            "True\n",
            "You are a minor.\n"
          ]
        }
      ]
    },
    {
      "cell_type": "markdown",
      "source": [
        "Comparison operator (<=)"
      ],
      "metadata": {
        "id": "1ExpjIhS2jvf"
      }
    },
    {
      "cell_type": "code",
      "source": [
        "\n",
        "#Example 1 checking if a number is less than or equal to another:\n",
        "k = 10\n",
        "l = 15\n",
        "\n",
        "if k <= l:\n",
        "    print(\"k is less than or equal to l\")"
      ],
      "metadata": {
        "colab": {
          "base_uri": "https://localhost:8080/"
        },
        "id": "t7NjxhuB2wGe",
        "outputId": "f8371d8c-6142-475f-8941-12373da0d58a"
      },
      "execution_count": null,
      "outputs": [
        {
          "output_type": "stream",
          "name": "stdout",
          "text": [
            "k is less than or equal to l\n"
          ]
        }
      ]
    },
    {
      "cell_type": "code",
      "source": [
        "#Example 2 checking if a variable is within a certain range:\n",
        "\n",
        "age = 25\n",
        "\n",
        "if 18 <= age <= 65:\n",
        "    print(\"You are eligible  candidate\")"
      ],
      "metadata": {
        "colab": {
          "base_uri": "https://localhost:8080/"
        },
        "id": "9ACRNWv13PEs",
        "outputId": "ac37e815-7697-40b8-b92e-31a0f94a32d3"
      },
      "execution_count": null,
      "outputs": [
        {
          "output_type": "stream",
          "name": "stdout",
          "text": [
            "You are eligible  candidate\n"
          ]
        }
      ]
    },
    {
      "cell_type": "code",
      "source": [
        "\n",
        "#Example 3 sorting a list in ascending order:\n",
        "\n",
        "numbers = [5, 2, 69, 1, 97]\n",
        "numbers.sort()\n",
        "print(numbers)"
      ],
      "metadata": {
        "colab": {
          "base_uri": "https://localhost:8080/"
        },
        "id": "N31wT1Kv3zAk",
        "outputId": "26e6bcee-022a-4265-b68c-6a06af9d1a6c"
      },
      "execution_count": null,
      "outputs": [
        {
          "output_type": "stream",
          "name": "stdout",
          "text": [
            "[1, 2, 5, 69, 97]\n"
          ]
        }
      ]
    },
    {
      "cell_type": "code",
      "source": [
        "\n",
        "# Example 4 Filtering elements from a list:\n",
        "\n",
        "numbers = [1, 2, 3, 4, 5, 6, 7, 8, 9, 10]\n",
        "filtered_numbers = [num for num in numbers if num <= 1]\n",
        "print(filtered_numbers)"
      ],
      "metadata": {
        "colab": {
          "base_uri": "https://localhost:8080/"
        },
        "id": "8u_rzE9_4Fqn",
        "outputId": "e94a4ad5-bb72-42a0-838c-320ccf9b76e3"
      },
      "execution_count": null,
      "outputs": [
        {
          "output_type": "stream",
          "name": "stdout",
          "text": [
            "[1]\n"
          ]
        }
      ]
    },
    {
      "cell_type": "code",
      "source": [
        "\n",
        "#Example 5 checking if a number is less than or equal to another:\n",
        "A = 10\n",
        "B = 15\n",
        "\n",
        "if A <= B:\n",
        "    print(\"A is less than or equal to B\")"
      ],
      "metadata": {
        "colab": {
          "base_uri": "https://localhost:8080/"
        },
        "id": "RwA2jyev4pYE",
        "outputId": "687b06ea-4620-452f-ec7b-dceff75c9cf1"
      },
      "execution_count": null,
      "outputs": [
        {
          "output_type": "stream",
          "name": "stdout",
          "text": [
            "A is less than or equal to B\n"
          ]
        }
      ]
    },
    {
      "cell_type": "markdown",
      "source": [
        "Comparison operators (>=)"
      ],
      "metadata": {
        "id": "M0UB9pE66LWK"
      }
    },
    {
      "cell_type": "code",
      "source": [
        "#Example 1. Comparing numbers\n",
        "num1 = 100000\n",
        "num2 = 500000\n",
        "\n",
        "if num1 >= num2:\n",
        "    print(\"num1 is greater than or equal to num2\")\n",
        "\n",
        "#Example 2. Checking if a number is positive or zero\n",
        "number = -3\n",
        "\n",
        "if number >= 0:\n",
        "    print(\"The number is positive or zero\")\n",
        "else:\n",
        "    print(\"The number is negative\")\n",
        "\n",
        "#Example 3. Validating user input\n",
        "age = int(input(\"Enter your age: \"))\n",
        "\n",
        "if age >= 18:\n",
        "    print(\"You are eligible to vote\")\n",
        "else:\n",
        "    print(\"You are not eligible to vote yet\")\n",
        "\n",
        "#Example 4. Sorting a list in descending order\n",
        "numbers = [50, 92, 79, 71, 76]\n",
        "\n",
        "numbers.sort(reverse=True)\n",
        "print(numbers)\n",
        "\n",
        "#Example 5. Limiting a value within a range\n",
        "value = 15\n",
        "min_value = 10\n",
        "max_value = 20\n",
        "\n",
        "if value >= min_value:\n",
        "    value = min(value, max_value)\n",
        "    print(\"Value:\", value)"
      ],
      "metadata": {
        "colab": {
          "base_uri": "https://localhost:8080/"
        },
        "id": "0pmtf-Ij6ca-",
        "outputId": "42a05148-f0e0-4e52-d74a-618ba094944b"
      },
      "execution_count": null,
      "outputs": [
        {
          "output_type": "stream",
          "name": "stdout",
          "text": [
            "The number is negative\n",
            "Enter your age: 20\n",
            "You are eligible to vote\n",
            "[92, 79, 76, 71, 50]\n",
            "Value: 15\n"
          ]
        }
      ]
    }
  ]
}