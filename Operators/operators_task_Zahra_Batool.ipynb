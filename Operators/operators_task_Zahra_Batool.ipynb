{
  "cells": [
    {
      "cell_type": "markdown",
      "id": "9e6120d3-5b4f-41cc-a353-565f7b118bdd",
      "metadata": {
        "id": "9e6120d3-5b4f-41cc-a353-565f7b118bdd"
      },
      "source": [
        "                                        OPERATORS IN PYTHON\n",
        "                                COMPARISON OPERATORS"
      ]
    },
    {
      "cell_type": "markdown",
      "id": "0b9f1574-77ee-4737-9ca8-85a0aa5a765a",
      "metadata": {
        "id": "0b9f1574-77ee-4737-9ca8-85a0aa5a765a"
      },
      "source": [
        "      IS EQUAL TO =="
      ]
    },
    {
      "cell_type": "code",
      "execution_count": null,
      "id": "f40f37e2-8f6e-4b0c-9f1c-0728bb37f367",
      "metadata": {
        "id": "f40f37e2-8f6e-4b0c-9f1c-0728bb37f367",
        "outputId": "d6bde0aa-bbe3-4415-a0b5-e00dc085ad57"
      },
      "outputs": [
        {
          "name": "stdout",
          "output_type": "stream",
          "text": [
            "True\n"
          ]
        }
      ],
      "source": [
        "a = 136\n",
        "b = 136\n",
        "print(a==b)"
      ]
    },
    {
      "cell_type": "code",
      "execution_count": null,
      "id": "0c9834af-a921-4b2e-ae3d-bb375504a402",
      "metadata": {
        "id": "0c9834af-a921-4b2e-ae3d-bb375504a402",
        "outputId": "86a1b070-29d1-44a6-c016-98f7ae84b61b"
      },
      "outputs": [
        {
          "name": "stdout",
          "output_type": "stream",
          "text": [
            "False\n"
          ]
        }
      ],
      "source": [
        "a = 23\n",
        "b = 45\n",
        "print(a==b)"
      ]
    },
    {
      "cell_type": "code",
      "execution_count": null,
      "id": "0dc46db2-de2d-4725-8918-84760a01987d",
      "metadata": {
        "id": "0dc46db2-de2d-4725-8918-84760a01987d",
        "outputId": "31ce90cd-0ed3-4900-aa91-f136784211cc"
      },
      "outputs": [
        {
          "name": "stdin",
          "output_type": "stream",
          "text": [
            "First number:  5.6\n",
            "Second number:  9.6\n"
          ]
        },
        {
          "name": "stdout",
          "output_type": "stream",
          "text": [
            "False\n"
          ]
        }
      ],
      "source": [
        "c = input(\"First number: \")\n",
        "d = input(\"Second number: \")\n",
        "print(c==d)\n",
        ""
      ]
    },
    {
      "cell_type": "code",
      "execution_count": null,
      "id": "ba9bdc4f-da32-4625-82c5-f31366fe8344",
      "metadata": {
        "id": "ba9bdc4f-da32-4625-82c5-f31366fe8344",
        "outputId": "dd1bb7b2-ce19-4397-f7a3-5d6e829f971a"
      },
      "outputs": [
        {
          "name": "stdout",
          "output_type": "stream",
          "text": [
            "False\n"
          ]
        }
      ],
      "source": [
        "e = \"Basketball\"\n",
        "f = \"Football\"\n",
        "print(e==f)"
      ]
    },
    {
      "cell_type": "code",
      "execution_count": null,
      "id": "5ba5d05a-0bc7-4dfd-b052-54c44cf1e958",
      "metadata": {
        "id": "5ba5d05a-0bc7-4dfd-b052-54c44cf1e958",
        "outputId": "6bf7e344-f945-46c5-c9fe-c156c006b07e"
      },
      "outputs": [
        {
          "name": "stdin",
          "output_type": "stream",
          "text": [
            "first number:  998\n",
            "Second number:  998\n"
          ]
        },
        {
          "name": "stdout",
          "output_type": "stream",
          "text": [
            "True\n"
          ]
        }
      ],
      "source": [
        "g = input(\"first number: \")\n",
        "h = input(\"Second number: \")\n",
        "print(g==h)"
      ]
    },
    {
      "cell_type": "markdown",
      "id": "931bbcc7-6191-44de-8763-9ab799b67934",
      "metadata": {
        "id": "931bbcc7-6191-44de-8763-9ab799b67934"
      },
      "source": [
        "NOT EQUAL TO !="
      ]
    },
    {
      "cell_type": "code",
      "execution_count": null,
      "id": "4d596974-17cc-4f59-a700-bdf4cf93ec47",
      "metadata": {
        "id": "4d596974-17cc-4f59-a700-bdf4cf93ec47",
        "outputId": "df58524f-f123-47e0-8dc5-3a202f4d11a4"
      },
      "outputs": [
        {
          "name": "stdout",
          "output_type": "stream",
          "text": [
            "True\n"
          ]
        }
      ],
      "source": [
        "i = \"Python\"\n",
        "j = \"Java\"\n",
        "print(i!=j)"
      ]
    },
    {
      "cell_type": "code",
      "execution_count": null,
      "id": "c9641e39-0610-4c67-aeac-d6eeacd3aac7",
      "metadata": {
        "id": "c9641e39-0610-4c67-aeac-d6eeacd3aac7",
        "outputId": "96ffc792-8041-4959-ed8e-0560d51700f9"
      },
      "outputs": [
        {
          "name": "stdout",
          "output_type": "stream",
          "text": [
            "True\n"
          ]
        }
      ],
      "source": [
        "k = 234\n",
        "l = 567\n",
        "print(k!=l)"
      ]
    },
    {
      "cell_type": "code",
      "execution_count": null,
      "id": "9cc15873-13a2-44f5-bf15-49ce80c99d31",
      "metadata": {
        "id": "9cc15873-13a2-44f5-bf15-49ce80c99d31",
        "outputId": "4888a095-f248-415d-e3fe-65a0fff368f4"
      },
      "outputs": [
        {
          "name": "stdin",
          "output_type": "stream",
          "text": [
            "First number 1006\n",
            "second number 1006\n"
          ]
        },
        {
          "name": "stdout",
          "output_type": "stream",
          "text": [
            "False\n"
          ]
        }
      ],
      "source": [
        "m = input(\"First number\")\n",
        "n = input(\"second number\")\n",
        "print(m!=n)"
      ]
    },
    {
      "cell_type": "code",
      "execution_count": null,
      "id": "9ed2fc59-0a80-4e17-bc0f-f88aff4c567e",
      "metadata": {
        "id": "9ed2fc59-0a80-4e17-bc0f-f88aff4c567e",
        "outputId": "f7e03fc3-5a85-4bc4-8c80-9956574105d7"
      },
      "outputs": [
        {
          "name": "stdout",
          "output_type": "stream",
          "text": [
            "True\n"
          ]
        }
      ],
      "source": [
        "o = \"owl\"\n",
        "p = \"pigeon\"\n",
        "print(o!=p)"
      ]
    },
    {
      "cell_type": "code",
      "execution_count": null,
      "id": "538d2775-c3dd-473c-87cd-611cb4d93d44",
      "metadata": {
        "id": "538d2775-c3dd-473c-87cd-611cb4d93d44",
        "outputId": "6c4f095d-95c6-4f68-aadf-7bc2a2196cc5"
      },
      "outputs": [
        {
          "name": "stdout",
          "output_type": "stream",
          "text": [
            "False\n"
          ]
        }
      ],
      "source": [
        "q = 7289\n",
        "r = q\n",
        "print(q!=r)"
      ]
    },
    {
      "cell_type": "markdown",
      "id": "582575db-aaf1-4c5a-ba57-7c8b1c1ae781",
      "metadata": {
        "id": "582575db-aaf1-4c5a-ba57-7c8b1c1ae781"
      },
      "source": [
        "GREATER THAN >"
      ]
    },
    {
      "cell_type": "code",
      "execution_count": null,
      "id": "93428032-b2dd-4bba-80d8-5bad25e381a9",
      "metadata": {
        "id": "93428032-b2dd-4bba-80d8-5bad25e381a9",
        "outputId": "943eaf66-dade-484a-a1f4-07509ee827cb"
      },
      "outputs": [
        {
          "name": "stdout",
          "output_type": "stream",
          "text": [
            "True\n"
          ]
        }
      ],
      "source": [
        "s = 7045\n",
        "t= 654\n",
        "print(s>t)"
      ]
    },
    {
      "cell_type": "code",
      "execution_count": null,
      "id": "f9cc9f94-a0c8-4541-8322-f4473cb30bf4",
      "metadata": {
        "id": "f9cc9f94-a0c8-4541-8322-f4473cb30bf4",
        "outputId": "28aba2a7-169f-43c2-ab6e-3a077701a24c"
      },
      "outputs": [
        {
          "name": "stdout",
          "output_type": "stream",
          "text": [
            "True\n"
          ]
        }
      ],
      "source": [
        "a = 345\n",
        "b = 289\n",
        "print(a>b)"
      ]
    },
    {
      "cell_type": "code",
      "execution_count": null,
      "id": "468d1d49-c588-4de3-b700-a3ad3b20f855",
      "metadata": {
        "id": "468d1d49-c588-4de3-b700-a3ad3b20f855",
        "outputId": "0b6dd060-54b1-4508-d883-e1f8a686b51c"
      },
      "outputs": [
        {
          "name": "stdin",
          "output_type": "stream",
          "text": [
            "First number:  23\n",
            "second number:  1076\n"
          ]
        },
        {
          "name": "stdout",
          "output_type": "stream",
          "text": [
            "False\n"
          ]
        }
      ],
      "source": [
        "c = int(input(\"First number: \"))\n",
        "d = int(input(\"second number: \"))\n",
        "print(c>b)"
      ]
    },
    {
      "cell_type": "code",
      "execution_count": null,
      "id": "bc969afa-8e43-4c82-b4d3-baad8fb39f86",
      "metadata": {
        "id": "bc969afa-8e43-4c82-b4d3-baad8fb39f86",
        "outputId": "9609d3cc-68d1-4795-ed78-3c265a0d6d47"
      },
      "outputs": [
        {
          "name": "stdout",
          "output_type": "stream",
          "text": [
            "True\n"
          ]
        }
      ],
      "source": [
        "e = \"elephant\"\n",
        "b = \"ant\"\n",
        "print(e>f)"
      ]
    },
    {
      "cell_type": "code",
      "execution_count": null,
      "id": "b61f782a-5420-46ed-b616-05da890808ef",
      "metadata": {
        "id": "b61f782a-5420-46ed-b616-05da890808ef",
        "outputId": "d52081d5-d251-477c-9c94-18b84586b4b5"
      },
      "outputs": [
        {
          "name": "stdout",
          "output_type": "stream",
          "text": [
            "False\n"
          ]
        }
      ],
      "source": [
        "g = \"plant\"\n",
        "h = \"tree\"\n",
        "print(g>h)"
      ]
    },
    {
      "cell_type": "markdown",
      "id": "5edf87b2-6431-4839-8e94-684dc468659b",
      "metadata": {
        "id": "5edf87b2-6431-4839-8e94-684dc468659b"
      },
      "source": [
        "LESS THAN <"
      ]
    },
    {
      "cell_type": "code",
      "execution_count": null,
      "id": "d1ad1061-d040-462e-98de-7b41191436ec",
      "metadata": {
        "id": "d1ad1061-d040-462e-98de-7b41191436ec",
        "outputId": "2c1d088a-8175-442a-dddb-5aa8f424380c"
      },
      "outputs": [
        {
          "name": "stdin",
          "output_type": "stream",
          "text": [
            "First number:  43\n",
            "Second number 80\n"
          ]
        },
        {
          "name": "stdout",
          "output_type": "stream",
          "text": [
            "True\n"
          ]
        }
      ],
      "source": [
        "a = int(input(\"First number: \"))\n",
        "b = int(input(\"Second number\"))\n",
        "print(a<b)"
      ]
    },
    {
      "cell_type": "code",
      "execution_count": null,
      "id": "b9be1339-05f2-477e-a763-bd803347b06c",
      "metadata": {
        "id": "b9be1339-05f2-477e-a763-bd803347b06c",
        "outputId": "d9b97885-f0f4-49a4-b591-fd084e2fe3bf"
      },
      "outputs": [
        {
          "name": "stdout",
          "output_type": "stream",
          "text": [
            "False\n"
          ]
        }
      ],
      "source": [
        "c = 67\n",
        "d = 45\n",
        "print(c<d)"
      ]
    },
    {
      "cell_type": "code",
      "execution_count": null,
      "id": "9b78bd25-daa0-4b14-887d-363119a47d5e",
      "metadata": {
        "id": "9b78bd25-daa0-4b14-887d-363119a47d5e",
        "outputId": "8e127484-7c27-43cf-d967-578efd14531c"
      },
      "outputs": [
        {
          "name": "stdin",
          "output_type": "stream",
          "text": [
            "first number:  8.4\n",
            "Second number:  8.35\n"
          ]
        },
        {
          "name": "stdout",
          "output_type": "stream",
          "text": [
            "False\n"
          ]
        }
      ],
      "source": [
        "e = float(input(\"first number: \"))\n",
        "f = float(input(\"Second number: \"))\n",
        "print(e<f)"
      ]
    },
    {
      "cell_type": "code",
      "execution_count": null,
      "id": "df7ed661-a09d-42b3-830c-da9804a45d67",
      "metadata": {
        "id": "df7ed661-a09d-42b3-830c-da9804a45d67",
        "outputId": "621560ed-728d-428f-b259-ec7ddd073ebf"
      },
      "outputs": [
        {
          "name": "stdout",
          "output_type": "stream",
          "text": [
            "True\n"
          ]
        }
      ],
      "source": [
        "g = 5.72\n",
        "h = 9.23\n",
        "print(g<h)"
      ]
    },
    {
      "cell_type": "code",
      "execution_count": null,
      "id": "c988e57c-3256-4778-9ca7-c135ab64bc5f",
      "metadata": {
        "id": "c988e57c-3256-4778-9ca7-c135ab64bc5f",
        "outputId": "dc70d096-3aa0-4d5b-9e1d-56b022002f25"
      },
      "outputs": [
        {
          "name": "stdout",
          "output_type": "stream",
          "text": [
            "False\n"
          ]
        }
      ],
      "source": [
        "i = 56\n",
        "j = 34\n",
        "print(i<j)"
      ]
    },
    {
      "cell_type": "markdown",
      "id": "b47a90be-0a6d-4dd1-ab8c-6fafe9e9d92d",
      "metadata": {
        "id": "b47a90be-0a6d-4dd1-ab8c-6fafe9e9d92d"
      },
      "source": [
        "GREATER THAN OR EQUAL TO >="
      ]
    },
    {
      "cell_type": "code",
      "execution_count": null,
      "id": "dbe4b416-3b94-4f52-91b0-59b3beb7cb0f",
      "metadata": {
        "id": "dbe4b416-3b94-4f52-91b0-59b3beb7cb0f",
        "outputId": "732f39fa-86f2-4df2-880c-21dd053d48be"
      },
      "outputs": [
        {
          "name": "stdout",
          "output_type": "stream",
          "text": [
            "True\n"
          ]
        }
      ],
      "source": [
        "k = 3400\n",
        "l = 450\n",
        "print(k >= l)"
      ]
    },
    {
      "cell_type": "code",
      "execution_count": null,
      "id": "ab6d35d0-df57-4c35-8fe4-4a5c3ca7f6a7",
      "metadata": {
        "id": "ab6d35d0-df57-4c35-8fe4-4a5c3ca7f6a7",
        "outputId": "7bdb431f-c716-47c1-9bd6-a454d384cc81"
      },
      "outputs": [
        {
          "name": "stdin",
          "output_type": "stream",
          "text": [
            "First number: 98\n",
            "Second number:  98\n"
          ]
        },
        {
          "name": "stdout",
          "output_type": "stream",
          "text": [
            "True\n"
          ]
        }
      ],
      "source": [
        "m = int(input(\"First number:\"))\n",
        "n = int(input(\"Second number: \"))\n",
        "print(m>=n)"
      ]
    },
    {
      "cell_type": "code",
      "execution_count": null,
      "id": "22ec8732-1be2-48a6-b867-1fd62d3deb23",
      "metadata": {
        "id": "22ec8732-1be2-48a6-b867-1fd62d3deb23",
        "outputId": "bb24b230-06d3-420e-ff26-0832d1e52bbd"
      },
      "outputs": [
        {
          "name": "stdout",
          "output_type": "stream",
          "text": [
            "False\n"
          ]
        }
      ],
      "source": [
        "o = 898\n",
        "p = 1004\n",
        "print(o>=p)"
      ]
    },
    {
      "cell_type": "code",
      "execution_count": null,
      "id": "efd3986b-36d9-4836-a96f-e3c0f4b1bca9",
      "metadata": {
        "id": "efd3986b-36d9-4836-a96f-e3c0f4b1bca9",
        "outputId": "aea5e7d4-abff-4f13-b6ba-72ea02fbf3d2"
      },
      "outputs": [
        {
          "name": "stdin",
          "output_type": "stream",
          "text": [
            "First number:  7.56\n",
            "Second number:  4.89\n"
          ]
        },
        {
          "name": "stdout",
          "output_type": "stream",
          "text": [
            "True\n"
          ]
        }
      ],
      "source": [
        "q = float(input(\"First number: \"))\n",
        "p = float(input(\"Second number: \"))\n",
        "print(q>=p)"
      ]
    },
    {
      "cell_type": "code",
      "execution_count": null,
      "id": "87c03114-a5ad-4a68-bef9-fd8fc9b3a089",
      "metadata": {
        "id": "87c03114-a5ad-4a68-bef9-fd8fc9b3a089",
        "outputId": "5d2c53a4-6901-4e8c-81b6-373de2aa14ca"
      },
      "outputs": [
        {
          "name": "stdout",
          "output_type": "stream",
          "text": [
            "True\n"
          ]
        }
      ],
      "source": [
        "r = 9.45\n",
        "s = 2.387\n",
        "print(r>=s)"
      ]
    },
    {
      "cell_type": "markdown",
      "id": "c7dff703-7d32-41d7-b241-6e1622310df0",
      "metadata": {
        "id": "c7dff703-7d32-41d7-b241-6e1622310df0"
      },
      "source": [
        "LESS THAN OR EQUAL TO <="
      ]
    },
    {
      "cell_type": "code",
      "execution_count": null,
      "id": "5a7e9768-481d-4310-9234-13e11ed9f298",
      "metadata": {
        "id": "5a7e9768-481d-4310-9234-13e11ed9f298",
        "outputId": "d5d0fe17-c224-447d-e7bc-26ea1a34afc1"
      },
      "outputs": [
        {
          "name": "stdout",
          "output_type": "stream",
          "text": [
            "True\n"
          ]
        }
      ],
      "source": [
        "x = \"water in glass\"\n",
        "y = \"water in tank\"\n",
        "print(x<=y)"
      ]
    },
    {
      "cell_type": "code",
      "execution_count": null,
      "id": "b6ef1a0c-09dd-4d3b-b0f1-00f9adf705f1",
      "metadata": {
        "id": "b6ef1a0c-09dd-4d3b-b0f1-00f9adf705f1",
        "outputId": "9fdf1e86-2e1b-42da-c1cf-d895db498f1d"
      },
      "outputs": [
        {
          "name": "stdout",
          "output_type": "stream",
          "text": [
            "False\n"
          ]
        }
      ],
      "source": [
        "a = 1493\n",
        "b = 376\n",
        "print(a<=b)"
      ]
    },
    {
      "cell_type": "code",
      "execution_count": null,
      "id": "9159164d-f7f7-4993-9c22-399dc96d4444",
      "metadata": {
        "id": "9159164d-f7f7-4993-9c22-399dc96d4444",
        "outputId": "361c2dea-cd24-4521-d9ed-d7c823373758"
      },
      "outputs": [
        {
          "name": "stdout",
          "output_type": "stream",
          "text": [
            "False\n"
          ]
        }
      ],
      "source": [
        "c = \"bones in child\"\n",
        "d = \"bones in adult\"\n",
        "print(c<=d)"
      ]
    },
    {
      "cell_type": "code",
      "execution_count": null,
      "id": "c79dc3f2-5481-4b5f-bef5-06760ece02d6",
      "metadata": {
        "id": "c79dc3f2-5481-4b5f-bef5-06760ece02d6",
        "outputId": "482b7286-a13f-4f27-d008-1380b3b275f8"
      },
      "outputs": [
        {
          "name": "stdout",
          "output_type": "stream",
          "text": [
            "True\n"
          ]
        }
      ],
      "source": [
        "e = \"planets in solar system\"\n",
        "f = \"satrs in solar system\"\n",
        "print(e<=f)"
      ]
    },
    {
      "cell_type": "code",
      "execution_count": null,
      "id": "74f343f9-7e75-47bd-99e4-641854164001",
      "metadata": {
        "id": "74f343f9-7e75-47bd-99e4-641854164001",
        "outputId": "2aff70f9-caf3-418b-f248-8e3137a21e77"
      },
      "outputs": [
        {
          "name": "stdout",
          "output_type": "stream",
          "text": [
            "True\n"
          ]
        }
      ],
      "source": [
        "g = 4.3\n",
        "h = 5.246\n",
        "print(g<=h)"
      ]
    },
    {
      "cell_type": "markdown",
      "id": "72b79e1a-9033-40e8-a789-7cfa7ba55591",
      "metadata": {
        "id": "72b79e1a-9033-40e8-a789-7cfa7ba55591"
      },
      "source": [
        "                                   LOGICAL OPERATORS"
      ]
    },
    {
      "cell_type": "markdown",
      "id": "c2c4d6f5-417b-44d8-b039-0fcc079ac460",
      "metadata": {
        "id": "c2c4d6f5-417b-44d8-b039-0fcc079ac460"
      },
      "source": [
        "AND OPERATOR"
      ]
    },
    {
      "cell_type": "code",
      "execution_count": null,
      "id": "be1dc8bf-d7f7-425f-af71-b0601150db8e",
      "metadata": {
        "id": "be1dc8bf-d7f7-425f-af71-b0601150db8e",
        "outputId": "20c80e7e-c9dc-4fd9-df85-2b478098d47c"
      },
      "outputs": [
        {
          "name": "stdout",
          "output_type": "stream",
          "text": [
            "True\n"
          ]
        }
      ],
      "source": [
        "a = 80\n",
        "b = 60\n",
        "print((a>b) and (b<a))"
      ]
    },
    {
      "cell_type": "code",
      "execution_count": null,
      "id": "85cbb6bd-d758-406a-b4d0-fe7d7f0ae9c5",
      "metadata": {
        "id": "85cbb6bd-d758-406a-b4d0-fe7d7f0ae9c5",
        "outputId": "6f5c7c66-3bbf-49fa-8d5c-ba0619be7076"
      },
      "outputs": [
        {
          "name": "stdout",
          "output_type": "stream",
          "text": [
            "False\n"
          ]
        }
      ],
      "source": [
        "c = 78\n",
        "b = 56\n",
        "print(c==b) and (c >b)"
      ]
    },
    {
      "cell_type": "code",
      "execution_count": null,
      "id": "f7c85224-1312-477b-b061-16a032179d33",
      "metadata": {
        "id": "f7c85224-1312-477b-b061-16a032179d33",
        "outputId": "849b8ba7-3271-4167-d0db-34ef786fcca5"
      },
      "outputs": [
        {
          "name": "stdout",
          "output_type": "stream",
          "text": [
            "False\n"
          ]
        }
      ],
      "source": [
        "d = \"Cow\"\n",
        "e = \"goat\"\n",
        "f = \"sparrow\"\n",
        "print((d>e )and(f>e))"
      ]
    },
    {
      "cell_type": "code",
      "execution_count": null,
      "id": "b8720367-7b19-4d63-8b84-a8e86fb35d68",
      "metadata": {
        "id": "b8720367-7b19-4d63-8b84-a8e86fb35d68",
        "outputId": "45bb0cc3-0fff-4f05-fcca-bb198f47e878"
      },
      "outputs": [
        {
          "name": "stdout",
          "output_type": "stream",
          "text": [
            "True\n"
          ]
        }
      ],
      "source": [
        "g = 345\n",
        "e = 56788\n",
        "print((g<e) and (e >g))"
      ]
    },
    {
      "cell_type": "code",
      "execution_count": null,
      "id": "acc3d6d8-5528-4c31-ad93-91eddf81687c",
      "metadata": {
        "id": "acc3d6d8-5528-4c31-ad93-91eddf81687c",
        "outputId": "0c1d6263-c9e3-4074-838b-8e3cd624c1b6"
      },
      "outputs": [
        {
          "name": "stdout",
          "output_type": "stream",
          "text": [
            "True\n"
          ]
        }
      ],
      "source": [
        "h = 5.789\n",
        "i = 4.333\n",
        "print((h>=i) and (i <= h))"
      ]
    },
    {
      "cell_type": "markdown",
      "id": "6f2fc90d-e313-4269-8336-730cc65b932b",
      "metadata": {
        "id": "6f2fc90d-e313-4269-8336-730cc65b932b"
      },
      "source": [
        "OR OPERATOR"
      ]
    },
    {
      "cell_type": "code",
      "execution_count": null,
      "id": "4abad52b-9597-408b-ac36-771a5ae38342",
      "metadata": {
        "id": "4abad52b-9597-408b-ac36-771a5ae38342",
        "outputId": "a23aef25-2296-4848-fc78-748c918517cf"
      },
      "outputs": [
        {
          "name": "stdout",
          "output_type": "stream",
          "text": [
            "True\n"
          ]
        }
      ],
      "source": [
        "a = 567\n",
        "b = 987\n",
        "print((a==b) or (a<b))"
      ]
    },
    {
      "cell_type": "code",
      "execution_count": null,
      "id": "c2189035-a6d1-4a36-86aa-15e73fd67515",
      "metadata": {
        "id": "c2189035-a6d1-4a36-86aa-15e73fd67515",
        "outputId": "92d31ea6-66e9-4af0-b65f-86161a5c5d20"
      },
      "outputs": [
        {
          "name": "stdout",
          "output_type": "stream",
          "text": [
            "False\n"
          ]
        }
      ],
      "source": [
        "c = 1725\n",
        "d = 9845\n",
        "print((c>d) or (d<c))"
      ]
    },
    {
      "cell_type": "code",
      "execution_count": null,
      "id": "65c9b953-d736-419c-afdf-de7eae82ec13",
      "metadata": {
        "id": "65c9b953-d736-419c-afdf-de7eae82ec13",
        "outputId": "fb922c0e-3e05-4170-9675-18a564c297f8"
      },
      "outputs": [
        {
          "name": "stdout",
          "output_type": "stream",
          "text": [
            "True\n"
          ]
        }
      ],
      "source": [
        "e = 9.234\n",
        "f = 6.45\n",
        "print((e==f) or (e>f))"
      ]
    },
    {
      "cell_type": "code",
      "execution_count": null,
      "id": "f19a3378-1d4f-4730-b83e-20a809065e89",
      "metadata": {
        "id": "f19a3378-1d4f-4730-b83e-20a809065e89",
        "outputId": "68772a5e-8c74-48ae-d94d-c21f3f124419"
      },
      "outputs": [
        {
          "name": "stdout",
          "output_type": "stream",
          "text": [
            "False\n"
          ]
        }
      ],
      "source": [
        "g = 6492\n",
        "h = 6492\n",
        "print((g>h) or (g<h))"
      ]
    },
    {
      "cell_type": "code",
      "execution_count": null,
      "id": "103383b1-67d0-4130-b1ca-45d0b0c57e64",
      "metadata": {
        "id": "103383b1-67d0-4130-b1ca-45d0b0c57e64",
        "outputId": "74dd462d-8958-47e8-c98e-65aba080d212"
      },
      "outputs": [
        {
          "name": "stdout",
          "output_type": "stream",
          "text": [
            "True\n"
          ]
        }
      ],
      "source": [
        "x = 7.49\n",
        "y = 5.43\n",
        "print((x>=y) or (y<=x))"
      ]
    },
    {
      "cell_type": "markdown",
      "id": "d3ca7fa6-2007-4025-a571-93cdae4c072a",
      "metadata": {
        "id": "d3ca7fa6-2007-4025-a571-93cdae4c072a"
      },
      "source": [
        "NOT OPERATOR"
      ]
    },
    {
      "cell_type": "code",
      "execution_count": null,
      "id": "d4ee838b-1b85-46b7-8263-2c5dbc42c75b",
      "metadata": {
        "id": "d4ee838b-1b85-46b7-8263-2c5dbc42c75b",
        "outputId": "e1082e11-29a7-454d-dee6-0c32c70eaa4d"
      },
      "outputs": [
        {
          "name": "stdout",
          "output_type": "stream",
          "text": [
            "False\n"
          ]
        }
      ],
      "source": [
        "a = \"I am boy\"\n",
        "print(not a)"
      ]
    },
    {
      "cell_type": "code",
      "execution_count": null,
      "id": "75f788df-8199-46c7-ad59-37c66145875b",
      "metadata": {
        "id": "75f788df-8199-46c7-ad59-37c66145875b",
        "outputId": "e5588323-afc6-48b4-974e-27accf85a517"
      },
      "outputs": [
        {
          "name": "stdout",
          "output_type": "stream",
          "text": [
            "False\n"
          ]
        }
      ],
      "source": [
        "b = 786\n",
        "print(not(b>345 and b<9823))"
      ]
    },
    {
      "cell_type": "code",
      "execution_count": null,
      "id": "b205b6b9-4a86-460c-ae1a-8318b8c94106",
      "metadata": {
        "id": "b205b6b9-4a86-460c-ae1a-8318b8c94106",
        "outputId": "b4e25f22-69a8-459d-f5c9-246b03cb7d65"
      },
      "outputs": [
        {
          "name": "stdout",
          "output_type": "stream",
          "text": [
            "False\n"
          ]
        }
      ],
      "source": [
        "c = \"I am doing my task\"\n",
        "print(not(c))"
      ]
    },
    {
      "cell_type": "code",
      "execution_count": null,
      "id": "e1669038-6086-4e83-be7f-a42cca6ae43e",
      "metadata": {
        "id": "e1669038-6086-4e83-be7f-a42cca6ae43e",
        "outputId": "d8d7614d-38fd-4beb-ad3f-f5a092c82e36"
      },
      "outputs": [
        {
          "name": "stdout",
          "output_type": "stream",
          "text": [
            "False\n"
          ]
        }
      ],
      "source": [
        "d = \"Earth is a star\"\n",
        "print(not(d))"
      ]
    },
    {
      "cell_type": "code",
      "execution_count": null,
      "id": "92dd5ea3-269a-4108-be17-931e50bf9e2a",
      "metadata": {
        "id": "92dd5ea3-269a-4108-be17-931e50bf9e2a",
        "outputId": "98d79edc-c008-4f7b-cf31-abc5846e4ec5"
      },
      "outputs": [
        {
          "name": "stdout",
          "output_type": "stream",
          "text": [
            "True\n"
          ]
        }
      ],
      "source": [
        "b = 7586\n",
        "print(not(b<3450 and b>923))"
      ]
    },
    {
      "cell_type": "code",
      "execution_count": null,
      "id": "375515dc-28bb-48a8-93c0-47f44de61d6c",
      "metadata": {
        "id": "375515dc-28bb-48a8-93c0-47f44de61d6c"
      },
      "outputs": [],
      "source": []
    }
  ],
  "metadata": {
    "kernelspec": {
      "display_name": "Python 3 (ipykernel)",
      "language": "python",
      "name": "python3"
    },
    "language_info": {
      "codemirror_mode": {
        "name": "ipython",
        "version": 3
      },
      "file_extension": ".py",
      "mimetype": "text/x-python",
      "name": "python",
      "nbconvert_exporter": "python",
      "pygments_lexer": "ipython3",
      "version": "3.11.7"
    },
    "colab": {
      "provenance": []
    }
  },
  "nbformat": 4,
  "nbformat_minor": 5
}