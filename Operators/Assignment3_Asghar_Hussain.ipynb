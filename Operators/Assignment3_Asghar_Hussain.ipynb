{
  "nbformat": 4,
  "nbformat_minor": 0,
  "metadata": {
    "colab": {
      "provenance": []
    },
    "kernelspec": {
      "name": "python3",
      "display_name": "Python 3"
    },
    "language_info": {
      "name": "python"
    }
  },
  "cells": [
    {
      "cell_type": "markdown",
      "source": [
        "# **Operators Practice in Python**"
      ],
      "metadata": {
        "id": "WD6fRPfHA4WY"
      }
    },
    {
      "cell_type": "code",
      "execution_count": null,
      "metadata": {
        "colab": {
          "base_uri": "https://localhost:8080/"
        },
        "id": "oV5Reo4SAwQc",
        "outputId": "25e8dfe0-68a5-4352-ab15-b79c2295575f"
      },
      "outputs": [
        {
          "output_type": "stream",
          "name": "stdout",
          "text": [
            "5\n"
          ]
        }
      ],
      "source": [
        "#Addition\n",
        "num1 = 2\n",
        "num2 = 3\n",
        "sum = num1 + num2\n",
        "print(sum)\n"
      ]
    },
    {
      "cell_type": "code",
      "source": [
        "#Subtraction\n",
        "num1 = 2\n",
        "num2 = 3\n",
        "sub = num1 - num2\n",
        "print(sub)"
      ],
      "metadata": {
        "colab": {
          "base_uri": "https://localhost:8080/"
        },
        "id": "lq_slokEBQ53",
        "outputId": "7be19dcc-6705-46a8-c7fd-bce059d2a578"
      },
      "execution_count": null,
      "outputs": [
        {
          "output_type": "stream",
          "name": "stdout",
          "text": [
            "-1\n"
          ]
        }
      ]
    },
    {
      "cell_type": "code",
      "source": [
        "#Multiplication\n",
        "num1 = 2\n",
        "num2 = 3\n",
        "mul = num1 * num2\n",
        "print(mul)"
      ],
      "metadata": {
        "colab": {
          "base_uri": "https://localhost:8080/"
        },
        "id": "uzAqaR1bBYUb",
        "outputId": "4263ce50-b0ec-4e8d-9b45-37f36b66eb7d"
      },
      "execution_count": null,
      "outputs": [
        {
          "output_type": "stream",
          "name": "stdout",
          "text": [
            "6\n"
          ]
        }
      ]
    },
    {
      "cell_type": "code",
      "source": [
        "#Division\n",
        "num1 = 2\n",
        "num2 = 3\n",
        "div = num1 / num2\n",
        "print(div)"
      ],
      "metadata": {
        "colab": {
          "base_uri": "https://localhost:8080/"
        },
        "id": "g366UODmBeUi",
        "outputId": "6ad75fbd-209d-44a6-9014-ac903b5a519f"
      },
      "execution_count": null,
      "outputs": [
        {
          "output_type": "stream",
          "name": "stdout",
          "text": [
            "0.6666666666666666\n"
          ]
        }
      ]
    },
    {
      "cell_type": "code",
      "source": [
        "#Floor Division\n",
        "num1 = 2\n",
        "num2 = 3\n",
        "floor_div = num1 // num2\n",
        "print(floor_div)"
      ],
      "metadata": {
        "colab": {
          "base_uri": "https://localhost:8080/"
        },
        "id": "4yGLdQPTBj-0",
        "outputId": "4c9ebe40-2048-4af9-fe52-1f8f2168c3f7"
      },
      "execution_count": null,
      "outputs": [
        {
          "output_type": "stream",
          "name": "stdout",
          "text": [
            "0\n"
          ]
        }
      ]
    },
    {
      "cell_type": "code",
      "source": [
        "#Power\n",
        "num1 = 2\n",
        "num2 = 3\n",
        "power = num1 ** num2\n",
        "print(power)"
      ],
      "metadata": {
        "colab": {
          "base_uri": "https://localhost:8080/"
        },
        "id": "75a2q74jBpoo",
        "outputId": "42d7ad51-0f7e-478b-e50e-9b388cd3019d"
      },
      "execution_count": null,
      "outputs": [
        {
          "output_type": "stream",
          "name": "stdout",
          "text": [
            "8\n"
          ]
        }
      ]
    },
    {
      "cell_type": "code",
      "source": [
        "#Reminder\n",
        "num1 = 2\n",
        "num2 = 3\n",
        "reminder = num1 % num2\n",
        "print(reminder)"
      ],
      "metadata": {
        "colab": {
          "base_uri": "https://localhost:8080/"
        },
        "id": "LzdJfp-vBs6u",
        "outputId": "6d9b1052-1234-4b29-ca2a-62f0b0989c93"
      },
      "execution_count": null,
      "outputs": [
        {
          "output_type": "stream",
          "name": "stdout",
          "text": [
            "2\n"
          ]
        }
      ]
    },
    {
      "cell_type": "code",
      "source": [
        "#SquareRoot\n",
        "num1 = 2\n",
        "square_root = num1 ** 0.5\n",
        "print(square_root)"
      ],
      "metadata": {
        "colab": {
          "base_uri": "https://localhost:8080/"
        },
        "id": "6BqZtHx7Bxie",
        "outputId": "500336e9-0266-4850-c7b2-550bfd33f6ba"
      },
      "execution_count": null,
      "outputs": [
        {
          "output_type": "stream",
          "name": "stdout",
          "text": [
            "1.4142135623730951\n"
          ]
        }
      ]
    },
    {
      "cell_type": "code",
      "source": [
        "#All in one\n",
        "num1 = int(input(\"Enter your first number here:\"))\n",
        "num2 = int(input(\"Enter your 2nd number here:\"))\n",
        "sum = num1 + num2\n",
        "sub = num1 - num2\n",
        "mul = num1 * num2\n",
        "div = num1 / num2\n",
        "floor_div = num1 // num2\n",
        "power = num1 ** num2\n",
        "reminder = num1 % num2\n",
        "print(f\"The sum of {num1} and {num2} is \",sum)\n",
        "print(f\"The sub of {num1} and {num2} is \",sub)\n",
        "print(f\"The mult of {num1} and {num2} is \",mul)\n",
        "print(f\"The division of {num1} and {num2} is \",div)\n",
        "print(f\"The floor division {num1} and {num2} is \",floor_div)\n",
        "print(f\"The power of {num1} and {num2} is \",power)\n",
        "print(f\"The reminder of {num1} and {num2} is \",reminder)"
      ],
      "metadata": {
        "colab": {
          "base_uri": "https://localhost:8080/"
        },
        "id": "ibiEr0chB71C",
        "outputId": "600a4d6d-f89f-45ce-bea1-6b7e706be323"
      },
      "execution_count": null,
      "outputs": [
        {
          "output_type": "stream",
          "name": "stdout",
          "text": [
            "Enter your first number here:5\n",
            "Enter your 2nd number here:2\n",
            "The sum of 5 and 2 is  7\n",
            "The sub of 5 and 2 is  3\n",
            "The mult of 5 and 2 is  10\n",
            "The division of 5 and 2 is  2.5\n",
            "The floor division 5 and 2 is  2\n",
            "The power of 5 and 2 is  25\n",
            "The reminder of 5 and 2 is  1\n"
          ]
        }
      ]
    }
  ]
}