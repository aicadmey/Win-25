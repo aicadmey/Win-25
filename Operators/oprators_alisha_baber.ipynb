{
  "nbformat": 4,
  "nbformat_minor": 0,
  "metadata": {
    "colab": {
      "provenance": []
    },
    "kernelspec": {
      "name": "python3",
      "display_name": "Python 3"
    },
    "language_info": {
      "name": "python"
    }
  },
  "cells": [
    {
      "cell_type": "markdown",
      "source": [
        "Arithicmatic operators\n",
        "\n",
        "5 addition codes"
      ],
      "metadata": {
        "id": "VP6biQ_a2BCn"
      }
    },
    {
      "cell_type": "code",
      "execution_count": null,
      "metadata": {
        "id": "NCO1niibvC1B",
        "colab": {
          "base_uri": "https://localhost:8080/"
        },
        "outputId": "dfc4f2f1-933c-4433-8ca9-aa59cdde8d46"
      },
      "outputs": [
        {
          "output_type": "stream",
          "name": "stdout",
          "text": [
            "9\n"
          ]
        }
      ],
      "source": [
        "a=6\n",
        "b=3\n",
        "c=(a+b)\n",
        "print(c)"
      ]
    },
    {
      "cell_type": "code",
      "source": [
        "e=int(input(\"enter first number\"))\n",
        "f=int(input(\"enter second number\"))\n",
        "g=e+f\n",
        "print(g)"
      ],
      "metadata": {
        "colab": {
          "base_uri": "https://localhost:8080/"
        },
        "id": "Lz-vGzTz3j10",
        "outputId": "9980ba8a-d345-42fc-faae-6e2dd5c9035b"
      },
      "execution_count": null,
      "outputs": [
        {
          "output_type": "stream",
          "name": "stdout",
          "text": [
            "enter first number55\n",
            "enter second number22\n",
            "77\n"
          ]
        }
      ]
    },
    {
      "cell_type": "code",
      "source": [
        "d=(\"Alisha\")\n",
        "f=(\"Babar\")\n",
        "print(d+f)\n"
      ],
      "metadata": {
        "colab": {
          "base_uri": "https://localhost:8080/"
        },
        "id": "jH74_RyY3pDe",
        "outputId": "26973971-bb1e-4028-ee8f-61f54a91102a"
      },
      "execution_count": null,
      "outputs": [
        {
          "output_type": "stream",
          "name": "stdout",
          "text": [
            "AlishaBabar\n"
          ]
        }
      ]
    },
    {
      "cell_type": "code",
      "source": [
        "t=float(input(\"enter first number\"))\n",
        "y=float(input(\"enter second number\"))\n",
        "u=t+y\n",
        "print(u)"
      ],
      "metadata": {
        "colab": {
          "base_uri": "https://localhost:8080/"
        },
        "id": "tt7eYqBt4Hkf",
        "outputId": "0d650c94-8d41-4937-a8ef-b73cc81a6614"
      },
      "execution_count": null,
      "outputs": [
        {
          "output_type": "stream",
          "name": "stdout",
          "text": [
            "enter first number55.5\n",
            "enter second number45.8\n",
            "101.3\n"
          ]
        }
      ]
    },
    {
      "cell_type": "code",
      "source": [
        "g=90\n",
        "f=33\n",
        "print(g+f)"
      ],
      "metadata": {
        "colab": {
          "base_uri": "https://localhost:8080/"
        },
        "id": "NhGs4Lpg4UiP",
        "outputId": "4ac63e1c-0ba3-4961-b612-6d091424d4db"
      },
      "execution_count": null,
      "outputs": [
        {
          "output_type": "stream",
          "name": "stdout",
          "text": [
            "123\n"
          ]
        }
      ]
    },
    {
      "cell_type": "markdown",
      "source": [
        "these are subract code"
      ],
      "metadata": {
        "id": "Blg-Z2DF4uDy"
      }
    },
    {
      "cell_type": "code",
      "source": [
        "n=8\n",
        "m=55\n",
        "print(m-n)"
      ],
      "metadata": {
        "colab": {
          "base_uri": "https://localhost:8080/"
        },
        "id": "L9htwD3M5Alk",
        "outputId": "41eb3682-5d05-485e-b72d-2e0abf5a35d1"
      },
      "execution_count": null,
      "outputs": [
        {
          "output_type": "stream",
          "name": "stdout",
          "text": [
            "47\n"
          ]
        }
      ]
    },
    {
      "cell_type": "code",
      "source": [
        "v=float(input(\"enter first number\"))\n",
        "b=float(input(\"enter second number\"))\n",
        "n=v-b\n",
        "print(n)"
      ],
      "metadata": {
        "colab": {
          "base_uri": "https://localhost:8080/"
        },
        "id": "l0HiGiTm5OFW",
        "outputId": "20fe852e-256d-42f8-db1f-cde1672bb7c7"
      },
      "execution_count": null,
      "outputs": [
        {
          "output_type": "stream",
          "name": "stdout",
          "text": [
            "enter first number66.6\n",
            "enter second number77.44\n",
            "-10.840000000000003\n"
          ]
        }
      ]
    },
    {
      "cell_type": "code",
      "source": [
        "num1=input(\"enter first number\")\n",
        "num2=input(\"enter second number\")\n",
        "sub=float(num1)-float(num2)\n",
        "print(sub)"
      ],
      "metadata": {
        "id": "cB20VMFA5WKT",
        "colab": {
          "base_uri": "https://localhost:8080/"
        },
        "outputId": "4a78d503-aa5d-4a90-f660-be19bd8d9208"
      },
      "execution_count": null,
      "outputs": [
        {
          "output_type": "stream",
          "name": "stdout",
          "text": [
            "enter first number33.9\n",
            "enter second number22.5\n",
            "11.399999999999999\n"
          ]
        }
      ]
    },
    {
      "cell_type": "code",
      "source": [
        "n=3\n",
        "c=8\n",
        "sub=n-c\n",
        "print(sub)"
      ],
      "metadata": {
        "colab": {
          "base_uri": "https://localhost:8080/"
        },
        "id": "Lc72ez63XRQc",
        "outputId": "5a63a05c-c2f6-4d26-c87e-9ac873767c14"
      },
      "execution_count": null,
      "outputs": [
        {
          "output_type": "stream",
          "name": "stdout",
          "text": [
            "-5\n"
          ]
        }
      ]
    },
    {
      "cell_type": "code",
      "source": [
        "men=55\n",
        "women=33\n",
        "sub=men-women\n",
        "print(sub)"
      ],
      "metadata": {
        "colab": {
          "base_uri": "https://localhost:8080/"
        },
        "id": "NvCsgsgvXcoY",
        "outputId": "10422b11-1068-4b46-d75f-4b0bb453cadb"
      },
      "execution_count": null,
      "outputs": [
        {
          "output_type": "stream",
          "name": "stdout",
          "text": [
            "22\n"
          ]
        }
      ]
    },
    {
      "cell_type": "markdown",
      "source": [
        "multiplication code"
      ],
      "metadata": {
        "id": "IpZfFivtXwDt"
      }
    },
    {
      "cell_type": "code",
      "source": [
        "dog=99\n",
        "cat=4\n",
        "mul=dog*cat\n",
        "print(mul)"
      ],
      "metadata": {
        "colab": {
          "base_uri": "https://localhost:8080/"
        },
        "id": "FiVXcj_mX-w5",
        "outputId": "230fc8e9-786d-44e0-a096-e443ba3b5d0f"
      },
      "execution_count": null,
      "outputs": [
        {
          "output_type": "stream",
          "name": "stdout",
          "text": [
            "396\n"
          ]
        }
      ]
    },
    {
      "cell_type": "code",
      "source": [
        "num=float(input(\"enter first number\"))\n",
        "num2=float(input(\"enter second number\"))\n",
        "mul=num*num2\n",
        "print(mul)"
      ],
      "metadata": {
        "colab": {
          "base_uri": "https://localhost:8080/"
        },
        "id": "e1z06Y6YYGNF",
        "outputId": "2aa5cad1-996e-406e-af5f-4d2bd0b5a592"
      },
      "execution_count": null,
      "outputs": [
        {
          "output_type": "stream",
          "name": "stdout",
          "text": [
            "enter first number7\n",
            "enter second number8\n",
            "56.0\n"
          ]
        }
      ]
    },
    {
      "cell_type": "code",
      "source": [
        "gun1=44\n",
        "gun2=33\n",
        "mul=gun1*gun2\n",
        "print(mul)"
      ],
      "metadata": {
        "id": "HUFYRqHuYLzK"
      },
      "execution_count": null,
      "outputs": []
    },
    {
      "cell_type": "code",
      "source": [
        "s=int(input(\"enter first number\"))\n",
        "d=int(input(\"enter second number\"))\n",
        "mul=s*d\n",
        "print(mul)"
      ],
      "metadata": {
        "colab": {
          "base_uri": "https://localhost:8080/"
        },
        "id": "5Uwv5PIXYVt8",
        "outputId": "cf9fbf18-4da7-427c-816a-ac15c9211df3"
      },
      "execution_count": null,
      "outputs": [
        {
          "output_type": "stream",
          "name": "stdout",
          "text": [
            "enter first number88\n",
            "enter second number8\n",
            "704\n"
          ]
        }
      ]
    },
    {
      "cell_type": "code",
      "source": [
        "num1=bool(input(\"enter first number\"))\n",
        "num2=bool(input(\"enter second number\"))\n",
        "mul=num1*num2\n",
        "print(mul)"
      ],
      "metadata": {
        "colab": {
          "base_uri": "https://localhost:8080/"
        },
        "id": "4wQXYHrdYelD",
        "outputId": "c0ffa07e-3c38-4bf1-afaf-88bd014b50e0"
      },
      "execution_count": null,
      "outputs": [
        {
          "output_type": "stream",
          "name": "stdout",
          "text": [
            "enter first number7\n",
            "enter second number9\n",
            "1\n"
          ]
        }
      ]
    },
    {
      "cell_type": "code",
      "source": [
        "fun1=99\n",
        "fun2=66\n",
        "fun3=44\n",
        "mul=fun1*fun2*fun3\n",
        "print(mul)"
      ],
      "metadata": {
        "colab": {
          "base_uri": "https://localhost:8080/"
        },
        "id": "NYLtg0-bYtJB",
        "outputId": "91908c1d-e2e7-403c-b4ef-20a0a106632a"
      },
      "execution_count": null,
      "outputs": [
        {
          "output_type": "stream",
          "name": "stdout",
          "text": [
            "287496\n"
          ]
        }
      ]
    },
    {
      "cell_type": "markdown",
      "source": [
        "Division codes"
      ],
      "metadata": {
        "id": "emHZVB_dZWBF"
      }
    },
    {
      "cell_type": "code",
      "source": [
        "i=99\n",
        "j=33\n",
        "div=i/j\n",
        "print(div)"
      ],
      "metadata": {
        "colab": {
          "base_uri": "https://localhost:8080/"
        },
        "id": "Ai45KUq8ZcEf",
        "outputId": "a583de89-d1f2-48bf-aef9-cbdce657f2a5"
      },
      "execution_count": null,
      "outputs": [
        {
          "output_type": "stream",
          "name": "stdout",
          "text": [
            "3.0\n"
          ]
        }
      ]
    },
    {
      "cell_type": "code",
      "source": [
        "hen=700\n",
        "hen2=1200\n",
        "div=hen/hen2\n",
        "print(div)"
      ],
      "metadata": {
        "colab": {
          "base_uri": "https://localhost:8080/"
        },
        "id": "m7saILNWZf1X",
        "outputId": "1aeb45fc-875c-4794-9fa5-63c12ed5f318"
      },
      "execution_count": null,
      "outputs": [
        {
          "output_type": "stream",
          "name": "stdout",
          "text": [
            "0.5833333333333334\n"
          ]
        }
      ]
    },
    {
      "cell_type": "code",
      "source": [
        "i=88\n",
        "l=77\n",
        "u=i/l\n",
        "print(u)"
      ],
      "metadata": {
        "colab": {
          "base_uri": "https://localhost:8080/"
        },
        "id": "BY4kpw-QafH7",
        "outputId": "74ba1126-3d12-4452-e85c-c5e18f13a9c5"
      },
      "execution_count": null,
      "outputs": [
        {
          "output_type": "stream",
          "name": "stdout",
          "text": [
            "1.1428571428571428\n"
          ]
        }
      ]
    },
    {
      "cell_type": "code",
      "source": [
        "g=44\n",
        "j=88\n",
        "c=44\n",
        "j=77\n",
        "div=g/j/c\n",
        "print(div)"
      ],
      "metadata": {
        "colab": {
          "base_uri": "https://localhost:8080/"
        },
        "id": "4CaivYXranPU",
        "outputId": "336e7f72-83a6-46e6-912b-541227220237"
      },
      "execution_count": null,
      "outputs": [
        {
          "output_type": "stream",
          "name": "stdout",
          "text": [
            "0.012987012987012986\n"
          ]
        }
      ]
    },
    {
      "cell_type": "code",
      "source": [
        "jin=8.44\n",
        "hin=7.7\n",
        "div=jin/hin\n",
        "print(div)"
      ],
      "metadata": {
        "id": "33hXYugxbHj-"
      },
      "execution_count": null,
      "outputs": []
    },
    {
      "cell_type": "markdown",
      "source": [
        "modulus codes\n",
        "\n"
      ],
      "metadata": {
        "id": "7pOUAvtbbcle"
      }
    },
    {
      "cell_type": "code",
      "source": [
        "hint1=int(input(\"enter first number\"))\n",
        "hint2=int(input(\"enter second number\"))\n",
        "mod=hint1%hint2\n",
        "print(mod)"
      ],
      "metadata": {
        "colab": {
          "base_uri": "https://localhost:8080/"
        },
        "id": "K7YScOcBbfp7",
        "outputId": "aa1d44dd-cc10-4fd0-f4a5-ba46aac23772"
      },
      "execution_count": null,
      "outputs": [
        {
          "output_type": "stream",
          "name": "stdout",
          "text": [
            "enter first number78\n",
            "enter second number4\n",
            "2\n"
          ]
        }
      ]
    },
    {
      "cell_type": "code",
      "source": [
        "m=3\n",
        "i=8\n",
        "mod=m%i\n",
        "print(mod)"
      ],
      "metadata": {
        "id": "-quXJ9jncPxG"
      },
      "execution_count": null,
      "outputs": []
    },
    {
      "cell_type": "code",
      "source": [
        "num1=int(input(\"enter first number\"))\n",
        "num2=int(input(\"enter second number\"))\n",
        "mod=num1%num2\n",
        "print(mod)"
      ],
      "metadata": {
        "colab": {
          "base_uri": "https://localhost:8080/"
        },
        "id": "lQTvYOrncVp0",
        "outputId": "f881c8fe-2197-49e5-f3ee-6877eb77fd1e"
      },
      "execution_count": null,
      "outputs": [
        {
          "output_type": "stream",
          "name": "stdout",
          "text": [
            "enter first number9\n",
            "enter second number6\n",
            "3\n"
          ]
        }
      ]
    },
    {
      "cell_type": "code",
      "source": [
        "d=int(input(\"enter first number\"))\n",
        "f=int(input(\"enter second number\"))\n",
        "m=int(input(\"enter third number\"))\n",
        "mod=d%f%m\n",
        "print(mod)"
      ],
      "metadata": {
        "colab": {
          "base_uri": "https://localhost:8080/"
        },
        "id": "9Oi49lLacdkY",
        "outputId": "2281a84e-87de-467b-fcb7-2944097e4875"
      },
      "execution_count": null,
      "outputs": [
        {
          "output_type": "stream",
          "name": "stdout",
          "text": [
            "enter first number8\n",
            "enter second number55\n",
            "enter third number4\n",
            "0\n"
          ]
        }
      ]
    },
    {
      "cell_type": "code",
      "source": [
        "tea=44\n",
        "tea2=55\n",
        "tea3=66\n",
        "mod=tea%tea2%tea3\n",
        "print(mod)\n"
      ],
      "metadata": {
        "id": "oZqV9Xq_dnHm"
      },
      "execution_count": null,
      "outputs": []
    },
    {
      "cell_type": "markdown",
      "source": [
        "Assignment operator\n",
        "\n"
      ],
      "metadata": {
        "id": "-SdN__42d-_w"
      }
    },
    {
      "cell_type": "markdown",
      "source": [
        "1 =+ operator"
      ],
      "metadata": {
        "id": "2C22-4tugIds"
      }
    },
    {
      "cell_type": "code",
      "source": [
        "i=88\n",
        "#x=x+88\n",
        "x=+i\n",
        "print(x)"
      ],
      "metadata": {
        "colab": {
          "base_uri": "https://localhost:8080/"
        },
        "id": "Taqw7ZIkee1r",
        "outputId": "924d24c3-6359-480a-982a-e93c85de30f1"
      },
      "execution_count": null,
      "outputs": [
        {
          "output_type": "stream",
          "name": "stdout",
          "text": [
            "88\n"
          ]
        }
      ]
    },
    {
      "cell_type": "code",
      "source": [
        "num1=99\n",
        "num2=33\n",
        "num3+=num1+num2\n",
        "print(num3)"
      ],
      "metadata": {
        "colab": {
          "base_uri": "https://localhost:8080/"
        },
        "id": "VNsInaa9gM_d",
        "outputId": "b74813b5-5b59-4703-bd8c-e6f86fb325e4"
      },
      "execution_count": null,
      "outputs": [
        {
          "output_type": "stream",
          "name": "stdout",
          "text": [
            "264\n"
          ]
        }
      ]
    },
    {
      "cell_type": "code",
      "source": [
        "w=800\n",
        "s+=w\n",
        "print(w)"
      ],
      "metadata": {
        "colab": {
          "base_uri": "https://localhost:8080/"
        },
        "id": "3PhA4KPGg_M_",
        "outputId": "161bbdc3-12a5-4958-eb7f-ed20d027c9d5"
      },
      "execution_count": null,
      "outputs": [
        {
          "output_type": "stream",
          "name": "stdout",
          "text": [
            "800\n"
          ]
        }
      ]
    },
    {
      "cell_type": "code",
      "source": [
        "h=50\n",
        "w=+h\n",
        "print(w)"
      ],
      "metadata": {
        "colab": {
          "base_uri": "https://localhost:8080/"
        },
        "id": "-aPgt2hqhde9",
        "outputId": "2deaf003-54cc-4f0c-e3fd-ecf523835116"
      },
      "execution_count": null,
      "outputs": [
        {
          "output_type": "stream",
          "name": "stdout",
          "text": [
            "50\n"
          ]
        }
      ]
    },
    {
      "cell_type": "code",
      "source": [
        "a=7\n",
        "s+=a\n",
        "print(s)"
      ],
      "metadata": {
        "id": "Zt7EHbkonQ11"
      },
      "execution_count": null,
      "outputs": []
    },
    {
      "cell_type": "markdown",
      "source": [
        "-= operator\n"
      ],
      "metadata": {
        "id": "sQmTNTfcnYdr"
      }
    },
    {
      "cell_type": "code",
      "source": [
        "u=88\n",
        "i-=u\n",
        "print(i)"
      ],
      "metadata": {
        "colab": {
          "base_uri": "https://localhost:8080/"
        },
        "id": "zJZMhAPfndVO",
        "outputId": "cecae57e-2d00-4ad4-d4f8-967bfde0ec27"
      },
      "execution_count": null,
      "outputs": [
        {
          "output_type": "stream",
          "name": "stdout",
          "text": [
            "0\n"
          ]
        }
      ]
    },
    {
      "cell_type": "code",
      "source": [
        "a=int(input(\"enter first number\"))\n",
        "b=int(input(\"enter second number\"))\n",
        "a-=b\n",
        "print(a)"
      ],
      "metadata": {
        "colab": {
          "base_uri": "https://localhost:8080/"
        },
        "id": "G7iiBMsInvhg",
        "outputId": "1baae2f4-fa7e-435e-d6a0-30a951e448ba"
      },
      "execution_count": null,
      "outputs": [
        {
          "output_type": "stream",
          "name": "stdout",
          "text": [
            "enter first number7\n",
            "enter second number88\n",
            "-81\n"
          ]
        }
      ]
    },
    {
      "cell_type": "code",
      "source": [
        "num=int(input(\"enter first number\"))\n",
        "num2=int(input(\"enter second number\"))\n",
        "num-=num2\n",
        "print(num)"
      ],
      "metadata": {
        "colab": {
          "base_uri": "https://localhost:8080/"
        },
        "id": "IJkiPfmQoDAW",
        "outputId": "eaaab7fa-6c89-45a6-dcce-999f74448fe0"
      },
      "execution_count": null,
      "outputs": [
        {
          "output_type": "stream",
          "name": "stdout",
          "text": [
            "enter first number3\n",
            "enter second number4\n",
            "-1\n"
          ]
        }
      ]
    },
    {
      "cell_type": "code",
      "source": [
        "b=55\n",
        "c=33\n",
        "b-=c\n",
        "print(b)"
      ],
      "metadata": {
        "colab": {
          "base_uri": "https://localhost:8080/"
        },
        "id": "hTGnzjchoKNe",
        "outputId": "7c4e7b31-5979-4cf9-fea4-c96697bb8578"
      },
      "execution_count": null,
      "outputs": [
        {
          "output_type": "stream",
          "name": "stdout",
          "text": [
            "22\n"
          ]
        }
      ]
    },
    {
      "cell_type": "code",
      "source": [
        "n=int(input(\"enter first alphabet\"))\n",
        "m=int(input(\"enter second alphabet\"))\n",
        "n-=m\n",
        "print(n)\n",
        "print(type(n))"
      ],
      "metadata": {
        "colab": {
          "base_uri": "https://localhost:8080/"
        },
        "id": "qBueXonFoRdL",
        "outputId": "246003ae-2cc5-4abd-f16b-458f19d6a718"
      },
      "execution_count": null,
      "outputs": [
        {
          "output_type": "stream",
          "name": "stdout",
          "text": [
            "enter first alphabet3\n",
            "enter second alphabet4\n",
            "-1\n",
            "<class 'int'>\n"
          ]
        }
      ]
    },
    {
      "cell_type": "code",
      "source": [
        "n=99\n",
        "m-=(n)\n",
        "print(m)"
      ],
      "metadata": {
        "colab": {
          "base_uri": "https://localhost:8080/"
        },
        "id": "SO_aIvN6o7rl",
        "outputId": "71bc325e-936d-457b-95c9-5aa9becb80c1"
      },
      "execution_count": null,
      "outputs": [
        {
          "output_type": "stream",
          "name": "stdout",
          "text": [
            "-293\n"
          ]
        }
      ]
    },
    {
      "cell_type": "markdown",
      "source": [
        "= operator\n"
      ],
      "metadata": {
        "id": "Ryhdm0PTpVpL"
      }
    },
    {
      "cell_type": "code",
      "source": [
        "u=7\n",
        "m=u\n",
        "print(m)"
      ],
      "metadata": {
        "colab": {
          "base_uri": "https://localhost:8080/"
        },
        "id": "b8RCy1nhpbQE",
        "outputId": "43021d88-ba2b-4f20-f1d3-683d35a12995"
      },
      "execution_count": null,
      "outputs": [
        {
          "output_type": "stream",
          "name": "stdout",
          "text": [
            "7\n"
          ]
        }
      ]
    },
    {
      "cell_type": "code",
      "source": [
        "b=8\n",
        "f=b\n",
        "print(f)"
      ],
      "metadata": {
        "colab": {
          "base_uri": "https://localhost:8080/"
        },
        "id": "ecKUMtmJpmBm",
        "outputId": "5ef795ec-a129-4db7-ee0e-ed6f3af10892"
      },
      "execution_count": null,
      "outputs": [
        {
          "output_type": "stream",
          "name": "stdout",
          "text": [
            "8\n"
          ]
        }
      ]
    },
    {
      "cell_type": "code",
      "source": [
        "m=5\n",
        "n=m\n",
        "print(n)"
      ],
      "metadata": {
        "colab": {
          "base_uri": "https://localhost:8080/"
        },
        "id": "hQ2AnPN7p5CG",
        "outputId": "92921c3d-8a40-43cc-d6a9-b7d5231b560a"
      },
      "execution_count": null,
      "outputs": [
        {
          "output_type": "stream",
          "name": "stdout",
          "text": [
            "5\n"
          ]
        }
      ]
    },
    {
      "cell_type": "code",
      "source": [
        "b=6\n",
        "n=b\n",
        "print(b)\n"
      ],
      "metadata": {
        "colab": {
          "base_uri": "https://localhost:8080/"
        },
        "id": "O9nxSVTsqPjC",
        "outputId": "46787798-2c62-461c-8ac0-db803ca7ed98"
      },
      "execution_count": null,
      "outputs": [
        {
          "output_type": "stream",
          "name": "stdout",
          "text": [
            "6\n"
          ]
        }
      ]
    },
    {
      "cell_type": "code",
      "source": [
        "c=1000\n",
        "v=c\n",
        "print(v)"
      ],
      "metadata": {
        "colab": {
          "base_uri": "https://localhost:8080/"
        },
        "id": "JwyNSzRiqboN",
        "outputId": "20cd44b8-86cb-4eb9-e550-5cb1069118e7"
      },
      "execution_count": null,
      "outputs": [
        {
          "output_type": "stream",
          "name": "stdout",
          "text": [
            "1000\n"
          ]
        }
      ]
    },
    {
      "cell_type": "markdown",
      "source": [
        "*=  operator\n"
      ],
      "metadata": {
        "id": "L04mogUFqkxp"
      }
    },
    {
      "cell_type": "code",
      "source": [
        "u=400\n",
        "n=m*u\n",
        "print(n)"
      ],
      "metadata": {
        "colab": {
          "base_uri": "https://localhost:8080/"
        },
        "id": "YaElZbusqpO4",
        "outputId": "b50f3e08-f4d2-4e89-e62b-898ef22ef987"
      },
      "execution_count": null,
      "outputs": [
        {
          "output_type": "stream",
          "name": "stdout",
          "text": [
            "2000\n"
          ]
        }
      ]
    },
    {
      "cell_type": "code",
      "source": [
        "num=int(input(\"enter first number\"))\n",
        "num2=int(input(\"enter second number\"))\n",
        "num*=num2\n",
        "print(num)"
      ],
      "metadata": {
        "colab": {
          "base_uri": "https://localhost:8080/"
        },
        "id": "ds3QDuLOrIQt",
        "outputId": "13904d0d-075e-408d-ce48-e10d5a17d3d8"
      },
      "execution_count": null,
      "outputs": [
        {
          "output_type": "stream",
          "name": "stdout",
          "text": [
            "enter first number7\n",
            "enter second number200\n",
            "1400\n"
          ]
        }
      ]
    },
    {
      "cell_type": "code",
      "source": [
        "x=(\"enter first number\")\n",
        "y=(\"enter second number\")\n",
        "m*=x\n",
        "print(m)\n"
      ],
      "metadata": {
        "colab": {
          "base_uri": "https://localhost:8080/"
        },
        "id": "lOzjj-LzrQTg",
        "outputId": "89648e47-009c-403b-9d79-46a5a41cd569"
      },
      "execution_count": null,
      "outputs": [
        {
          "output_type": "stream",
          "name": "stdout",
          "text": [
            "enter first numberenter first numberenter first numberenter first numberenter first number\n"
          ]
        }
      ]
    },
    {
      "cell_type": "code",
      "source": [
        "n=55\n",
        "m*=n\n",
        "print(m)"
      ],
      "metadata": {
        "colab": {
          "base_uri": "https://localhost:8080/"
        },
        "id": "nD4mxOGLvQfC",
        "outputId": "701f5cf2-c83e-4068-8af6-dc23969e7dc9"
      },
      "execution_count": null,
      "outputs": [
        {
          "output_type": "stream",
          "name": "stdout",
          "text": [
            "503284375\n"
          ]
        }
      ]
    },
    {
      "cell_type": "code",
      "source": [
        "h=33\n",
        "c*=h\n",
        "print(c)"
      ],
      "metadata": {
        "colab": {
          "base_uri": "https://localhost:8080/"
        },
        "id": "t6F4othtvVDD",
        "outputId": "2ca20bbe-e93c-4e62-9241-7580db8f2a70"
      },
      "execution_count": null,
      "outputs": [
        {
          "output_type": "stream",
          "name": "stdout",
          "text": [
            "33000\n"
          ]
        }
      ]
    },
    {
      "cell_type": "code",
      "source": [
        "g=44\n",
        "h*=7\n",
        "print(h)"
      ],
      "metadata": {
        "colab": {
          "base_uri": "https://localhost:8080/"
        },
        "id": "NKsHxHsOxQN-",
        "outputId": "ce94a902-a2c0-46c9-b3dd-08abb5d36073"
      },
      "execution_count": null,
      "outputs": [
        {
          "output_type": "stream",
          "name": "stdout",
          "text": [
            "10164\n"
          ]
        }
      ]
    },
    {
      "cell_type": "markdown",
      "source": [
        "%= operator\n"
      ],
      "metadata": {
        "id": "_Fpd636uxbHZ"
      }
    },
    {
      "cell_type": "code",
      "source": [
        "n=33\n",
        "m%=6\n",
        "print(m)"
      ],
      "metadata": {
        "colab": {
          "base_uri": "https://localhost:8080/"
        },
        "id": "OjUc0RnQxfoO",
        "outputId": "bb886a16-dece-45ce-cb03-b110da5b152f"
      },
      "execution_count": null,
      "outputs": [
        {
          "output_type": "stream",
          "name": "stdout",
          "text": [
            "1\n"
          ]
        }
      ]
    },
    {
      "cell_type": "code",
      "source": [
        "b=44\n",
        "c=b%6\n",
        "print(c)"
      ],
      "metadata": {
        "colab": {
          "base_uri": "https://localhost:8080/"
        },
        "id": "2Ivn0Zc7yu0I",
        "outputId": "3dc247ba-c918-457c-8992-db2d4134df86"
      },
      "execution_count": null,
      "outputs": [
        {
          "output_type": "stream",
          "name": "stdout",
          "text": [
            "2\n"
          ]
        }
      ]
    },
    {
      "cell_type": "code",
      "source": [
        "h=55\n",
        "m%=h\n",
        "print(m)\n"
      ],
      "metadata": {
        "colab": {
          "base_uri": "https://localhost:8080/"
        },
        "id": "Rtrx2bZ2zTpj",
        "outputId": "f6229f30-1714-4930-e07a-e28acaafab9c"
      },
      "execution_count": null,
      "outputs": [
        {
          "output_type": "stream",
          "name": "stdout",
          "text": [
            "1\n"
          ]
        }
      ]
    },
    {
      "cell_type": "code",
      "source": [
        "y=33\n",
        "n%=y\n",
        "print(y)\n"
      ],
      "metadata": {
        "colab": {
          "base_uri": "https://localhost:8080/"
        },
        "id": "WnLhEOGf0A6s",
        "outputId": "41b11e35-1739-4242-addd-cb5f0d365ddb"
      },
      "execution_count": null,
      "outputs": [
        {
          "output_type": "stream",
          "name": "stdout",
          "text": [
            "33\n"
          ]
        }
      ]
    },
    {
      "cell_type": "code",
      "source": [
        "f=36\n",
        "g%=f\n",
        "print(g)"
      ],
      "metadata": {
        "colab": {
          "base_uri": "https://localhost:8080/"
        },
        "id": "dktIOx-D0ce5",
        "outputId": "a53c6c97-fef8-4ff4-a758-78de9b405659"
      },
      "execution_count": null,
      "outputs": [
        {
          "output_type": "stream",
          "name": "stdout",
          "text": [
            "8\n"
          ]
        }
      ]
    },
    {
      "cell_type": "markdown",
      "source": [
        "/= operator\n"
      ],
      "metadata": {
        "id": "pHrPvOWH0lqN"
      }
    },
    {
      "cell_type": "code",
      "source": [
        "y=70\n",
        "u/=89\n",
        "print(u)"
      ],
      "metadata": {
        "colab": {
          "base_uri": "https://localhost:8080/"
        },
        "id": "9O6J25Hi0sda",
        "outputId": "4e5d4a3e-4ce6-48e3-c5c6-834b03cac214"
      },
      "execution_count": null,
      "outputs": [
        {
          "output_type": "stream",
          "name": "stdout",
          "text": [
            "4.49438202247191\n"
          ]
        }
      ]
    },
    {
      "cell_type": "code",
      "source": [
        "f=89\n",
        "g=f/89\n",
        "print(g)"
      ],
      "metadata": {
        "colab": {
          "base_uri": "https://localhost:8080/"
        },
        "id": "fon0z9dU1afw",
        "outputId": "67b74853-8183-4ed3-b0e3-a350fc1148e1"
      },
      "execution_count": null,
      "outputs": [
        {
          "output_type": "stream",
          "name": "stdout",
          "text": [
            "1.0\n"
          ]
        }
      ]
    },
    {
      "cell_type": "code",
      "source": [
        "g=50\n",
        "h=g/50\n",
        "print(h)\n"
      ],
      "metadata": {
        "colab": {
          "base_uri": "https://localhost:8080/"
        },
        "id": "3MQQX8uH1eVK",
        "outputId": "da4e7ae5-a3a6-408b-ba8a-3baf5204ba81"
      },
      "execution_count": null,
      "outputs": [
        {
          "output_type": "stream",
          "name": "stdout",
          "text": [
            "1.0\n"
          ]
        }
      ]
    },
    {
      "cell_type": "code",
      "source": [
        "b=88\n",
        "b/=56\n",
        "print(b)"
      ],
      "metadata": {
        "colab": {
          "base_uri": "https://localhost:8080/"
        },
        "id": "I83caa_b1iwV",
        "outputId": "fd2c1e39-9ea6-491b-adf8-0a6506f4314e"
      },
      "execution_count": null,
      "outputs": [
        {
          "output_type": "stream",
          "name": "stdout",
          "text": [
            "1.5714285714285714\n"
          ]
        }
      ]
    },
    {
      "cell_type": "code",
      "source": [
        "y=40\n",
        "h=y/40\n",
        "print(h)"
      ],
      "metadata": {
        "colab": {
          "base_uri": "https://localhost:8080/"
        },
        "id": "uIBfQzR_17Qu",
        "outputId": "69b6641b-8ea3-42b3-bdf4-66e027cf02c7"
      },
      "execution_count": null,
      "outputs": [
        {
          "output_type": "stream",
          "name": "stdout",
          "text": [
            "1.0\n"
          ]
        }
      ]
    }
  ]
}