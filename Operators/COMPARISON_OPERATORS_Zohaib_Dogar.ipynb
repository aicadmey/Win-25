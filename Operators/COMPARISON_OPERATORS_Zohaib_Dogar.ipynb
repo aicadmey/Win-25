{
  "nbformat": 4,
  "nbformat_minor": 0,
  "metadata": {
    "colab": {
      "provenance": [],
      "gpuType": "T4"
    },
    "kernelspec": {
      "name": "python3",
      "display_name": "Python 3"
    },
    "language_info": {
      "name": "python"
    },
    "accelerator": "GPU"
  },
  "cells": [
    {
      "cell_type": "code",
      "execution_count": null,
      "metadata": {
        "colab": {
          "base_uri": "https://localhost:8080/"
        },
        "id": "WNz0-G2QJQwj",
        "outputId": "d0158a9a-b15b-410c-cc27-8ed52a3fa99a"
      },
      "outputs": [
        {
          "output_type": "stream",
          "name": "stdout",
          "text": [
            "False\n",
            "True\n",
            "False\n",
            "True\n",
            "True\n"
          ]
        }
      ],
      "source": [
        "#EQUAL TO OPERATOR ==\n",
        "#variable 1\n",
        "num1=8\n",
        "num2=5\n",
        "print(num1==num2)\n",
        "\n",
        "#variable 2\n",
        "a=98\n",
        "b=98.0\n",
        "print(a==b)\n",
        "\n",
        "#variable 3\n",
        "name=\"zaibi\"\n",
        "cast=\"dogar\"\n",
        "print(name==cast)\n",
        "\n",
        "#variable 4\n",
        "name=\"zaibi\"\n",
        "cast=\"zaibi\"\n",
        "print(name==cast)\n",
        "\n",
        "#variable 5\n",
        "bol=True\n",
        "bool=1\n",
        "print(bol==bool)"
      ]
    },
    {
      "cell_type": "code",
      "source": [
        "#not equal to operator !=\n",
        "#variable 1\n",
        "x=5.6\n",
        "y=5.699\n",
        "print(x!=y)\n",
        "\n",
        "#variable 2\n",
        "a=\"zaibi\"\n",
        "b=\"Zaibi\"\n",
        "print(a!=b)\n",
        "\n",
        "#variable 3\n",
        "name=\"zaibi\"\n",
        "cast=\"zaibi\"\n",
        "print(name!=cast)\n",
        "\n",
        "#variable 4\n",
        "bol=True\n",
        "bool=0\n",
        "print(bol!=bool)\n",
        "\n",
        "#variable 5\n",
        "num=5\n",
        "num2=5.678\n",
        "print(num!=num2)"
      ],
      "metadata": {
        "colab": {
          "base_uri": "https://localhost:8080/"
        },
        "id": "-CREIljZOi-l",
        "outputId": "8b9be12c-1a15-4777-c5e2-2d6178ffb987"
      },
      "execution_count": null,
      "outputs": [
        {
          "output_type": "stream",
          "name": "stdout",
          "text": [
            "True\n",
            "True\n",
            "False\n",
            "True\n",
            "True\n"
          ]
        }
      ]
    },
    {
      "cell_type": "code",
      "source": [
        "#greater than operator >\n",
        "#variable 1\n",
        "num1=6\n",
        "num2=5\n",
        "print(num1>num2)\n",
        "\n",
        "#variable 2\n",
        "num3=76\n",
        "num4=76.98\n",
        "print(num3>num4)\n",
        "\n",
        "#variable 3\n",
        "num5=90\n",
        "num6=83\n",
        "print(num5>num6)\n",
        "\n",
        "#variable 4\n",
        "name=\"zaibi\"\n",
        "uni=\"iub\"\n",
        "print(name>uni)\n",
        "\n",
        "#variable 5\n",
        "bol=True\n",
        "bool=1\n",
        "print(bol>bool)\n"
      ],
      "metadata": {
        "colab": {
          "base_uri": "https://localhost:8080/"
        },
        "id": "idlKhhoaSPHi",
        "outputId": "64aabe90-f0b3-4c0f-b965-365be400f168"
      },
      "execution_count": null,
      "outputs": [
        {
          "output_type": "stream",
          "name": "stdout",
          "text": [
            "True\n",
            "False\n",
            "True\n",
            "True\n",
            "False\n"
          ]
        }
      ]
    },
    {
      "cell_type": "code",
      "source": [
        "#less than operator <\n",
        "#variable 1\n",
        "num1=7\n",
        "num2=9\n",
        "print(num1<num2)\n",
        "\n",
        "#variable 2\n",
        "num3=90\n",
        "num4=90.67\n",
        "print(num3<num4)\n",
        "\n",
        "#variable 3\n",
        "bol=False\n",
        "bool=1\n",
        "print(bol<bool)\n",
        "\n",
        "#variable 4\n",
        "nm=\"zaibi\"\n",
        "un=\"iub\"\n",
        "print(nm<un)\n",
        "\n",
        "#variable 5\n",
        "fl=9.89\n",
        "flt=9.79\n",
        "print(fl<flt)"
      ],
      "metadata": {
        "colab": {
          "base_uri": "https://localhost:8080/"
        },
        "id": "D9_qa1i0UiCv",
        "outputId": "23a6aed8-22c5-4c93-efd1-082887809d48"
      },
      "execution_count": null,
      "outputs": [
        {
          "output_type": "stream",
          "name": "stdout",
          "text": [
            "True\n",
            "True\n",
            "True\n",
            "False\n",
            "False\n"
          ]
        }
      ]
    },
    {
      "cell_type": "code",
      "source": [
        "#greater than equal to >=\n",
        "#variable 1\n",
        "num1=5\n",
        "num2=5.0\n",
        "print(num1>=num2)\n",
        "\n",
        "#variable 2\n",
        "name=\"zaibi dogar\"\n",
        "dept=\"Zaibi Dogar\"\n",
        "print(name>=dept)\n",
        "\n",
        "#variable 3\n",
        "bol=False\n",
        "bool=1\n",
        "print(bol>=bool)\n",
        "\n",
        "#variable 4\n",
        "num4=90\n",
        "num5=90.2\n",
        "print(num4>=num5)\n",
        "\n",
        "#variable 5\n",
        "fl=9.89\n",
        "flt=9.8\n",
        "print(fl>=flt)\n"
      ],
      "metadata": {
        "colab": {
          "base_uri": "https://localhost:8080/"
        },
        "id": "wVwJMNmvXRkS",
        "outputId": "30cc01ae-4017-4585-e27b-b9f5f3d0f311"
      },
      "execution_count": null,
      "outputs": [
        {
          "output_type": "stream",
          "name": "stdout",
          "text": [
            "True\n",
            "True\n",
            "False\n",
            "False\n",
            "True\n"
          ]
        }
      ]
    },
    {
      "cell_type": "code",
      "source": [
        "#smaller than or equal\n",
        "#variable 1\n",
        "num1 = 5\n",
        "num2 = 5.0\n",
        "print(num1 <= num2)\n",
        "\n",
        "#variable 2\n",
        "name = \"zaibi dogar\"\n",
        "dept = \"Zaibi Dogar\"\n",
        "print(name <= dept)\n",
        "\n",
        "#variable 3\n",
        "bol = True\n",
        "bool = 1\n",
        "print(bol <= bool)\n",
        "\n",
        "#variable 4\n",
        "fl = 9.89\n",
        "flt = 9.8\n",
        "print(fl <= flt)\n",
        "\n",
        "#variable 5\n",
        "num4 = 90\n",
        "num5 = 90\n",
        "print(num4 <= num5)\n",
        "\n"
      ],
      "metadata": {
        "colab": {
          "base_uri": "https://localhost:8080/"
        },
        "id": "Ft7b9CHeeqKJ",
        "outputId": "f5de3a9d-473f-4f6a-cba2-995c04138d59"
      },
      "execution_count": null,
      "outputs": [
        {
          "output_type": "stream",
          "name": "stdout",
          "text": [
            "True\n",
            "False\n",
            "True\n",
            "False\n",
            "True\n"
          ]
        }
      ]
    }
  ]
}