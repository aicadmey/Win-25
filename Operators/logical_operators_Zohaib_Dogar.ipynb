{
  "nbformat": 4,
  "nbformat_minor": 0,
  "metadata": {
    "colab": {
      "provenance": []
    },
    "kernelspec": {
      "name": "python3",
      "display_name": "Python 3"
    },
    "language_info": {
      "name": "python"
    }
  },
  "cells": [
    {
      "cell_type": "code",
      "execution_count": null,
      "metadata": {
        "colab": {
          "base_uri": "https://localhost:8080/"
        },
        "id": "jYKPsPyWgZ5R",
        "outputId": "d748b2ae-8545-4230-c02f-3491c015eef8"
      },
      "outputs": [
        {
          "output_type": "stream",
          "name": "stdout",
          "text": [
            "True\n",
            "False\n",
            "True\n",
            "False\n",
            "True\n"
          ]
        }
      ],
      "source": [
        "#AND opeator\n",
        "#variable 1\n",
        "x = 5\n",
        "print(x > 0 and x< 20)\n",
        "\n",
        "#variable 2\n",
        "st1 = \"iron man\"\n",
        "st2 = \"world war 3\"\n",
        "\n",
        "print(\"n\" in st1 and \"2\" in st2)\n",
        "\n",
        "#variable 3\n",
        "num1=67\n",
        "print(num1>56 and num1<70)\n",
        "\n",
        "#variable 4\n",
        "bol=True\n",
        "print(bol>0 and bol is False)\n",
        "\n",
        "#variable 5\n",
        "y=5\n",
        "print(y>4.9 and y==5.0)\n"
      ]
    },
    {
      "cell_type": "code",
      "source": [
        "#or operator\n",
        "#variable 1\n",
        "x=2\n",
        "print(x>0 or x<20)\n",
        "\n",
        "#variable 2\n",
        "a=6\n",
        "b=9\n",
        "print(a>8 or b==10)\n",
        "\n",
        "#variable 3\n",
        "num1=67\n",
        "print(num1<56 or num1<70)\n",
        "\n",
        "#variable 4\n",
        "bol=True\n",
        "print(bol<0 or bol is False)\n",
        "\n",
        "#variable 5\n",
        "y=5\n",
        "print(y<4.9 or y==5.0)\n"
      ],
      "metadata": {
        "colab": {
          "base_uri": "https://localhost:8080/"
        },
        "id": "zS14_UJYmEG4",
        "outputId": "c568f691-e933-4d88-f9ce-ec004beb2c3e"
      },
      "execution_count": null,
      "outputs": [
        {
          "output_type": "stream",
          "name": "stdout",
          "text": [
            "True\n",
            "False\n",
            "True\n",
            "False\n",
            "True\n"
          ]
        }
      ]
    },
    {
      "cell_type": "code",
      "source": [
        "#not operator\n",
        "#variable 1\n",
        "st1 = \"iron man\"\n",
        "print(not \"m\" in st1)\n",
        "\n",
        "#variable 2\n",
        "bol = True\n",
        "print(not 0)\n",
        "\n",
        "#variable 3\n",
        "x = 5\n",
        "print(not x > 10)\n",
        "\n",
        "#variable 4\n",
        "num1 = 67\n",
        "print(not (num1 > 60 and num1 < 70))\n",
        "\n",
        "#variable 5\n",
        "y = 5\n",
        "print(not y == 5)\n",
        "\n",
        "\n",
        "\n",
        "\n",
        "\n"
      ],
      "metadata": {
        "colab": {
          "base_uri": "https://localhost:8080/"
        },
        "id": "aeWGhCxNoKYg",
        "outputId": "039a61af-06ee-4ba8-bd55-c31a670394bd"
      },
      "execution_count": null,
      "outputs": [
        {
          "output_type": "stream",
          "name": "stdout",
          "text": [
            "False\n",
            "True\n",
            "True\n",
            "False\n",
            "False\n"
          ]
        }
      ]
    }
  ]
}