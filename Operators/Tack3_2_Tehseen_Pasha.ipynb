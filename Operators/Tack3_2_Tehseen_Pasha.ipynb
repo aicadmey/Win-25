{
  "nbformat": 4,
  "nbformat_minor": 0,
  "metadata": {
    "colab": {
      "provenance": []
    },
    "kernelspec": {
      "name": "python3",
      "display_name": "Python 3"
    },
    "language_info": {
      "name": "python"
    }
  },
  "cells": [
    {
      "cell_type": "code",
      "execution_count": null,
      "metadata": {
        "colab": {
          "base_uri": "https://localhost:8080/"
        },
        "id": "dS_fgLqu81Hm",
        "outputId": "4022566f-b7b2-4e0d-cd7c-c940951d23b3"
      },
      "outputs": [
        {
          "output_type": "stream",
          "name": "stdout",
          "text": [
            "True\n",
            "False\n",
            "False\n",
            "True\n",
            "False\n",
            "True\n",
            "False\n",
            "True\n",
            "True\n",
            "False\n",
            "False\n",
            "True\n",
            "False\n",
            "True\n",
            "False\n"
          ]
        }
      ],
      "source": [
        "# Logical Operators (AND, OR, NOT)\n",
        "\n",
        "#Examples 1to5 with AND Operator.\n",
        "\n",
        "Space_online, energy_change = True, True\n",
        "print(Space_online and energy_change)\n",
        "\n",
        "Space_time, data_available = True, False\n",
        "print(Space_time and data_available)\n",
        "\n",
        "Black_hole, stronggravity_avilable = False, True\n",
        "print(Black_hole and stronggravity_avilable)\n",
        "\n",
        "Nuralink_connected, server_operator = True, True\n",
        "print(Nuralink_connected and server_operator)\n",
        "\n",
        "Star_detected, observe_signal = True, False\n",
        "print(Star_detected and observe_signal)\n",
        "\n",
        "# Example 1to5  with OR Operator.\n",
        "\n",
        "Space_connected, connection_stage = False, True\n",
        "print(Space_connected or connection_stage)\n",
        "\n",
        "Spacetraining, data_loaded = False, False\n",
        "print(Spacetraining or data_loaded)\n",
        "\n",
        "spacestation_fault, maintenance = True, False\n",
        "print(spacestation_fault or maintenance)\n",
        "\n",
        "Mars_clear, low_gravity = True, True\n",
        "print(Mars_clear or low_gravity)\n",
        "\n",
        "damage_error, restart_required = False, False\n",
        "print(damage_error or restart_required)\n",
        "\n",
        "# Example 1to5 with NOT operator\n",
        "space_active = True\n",
        "print(not space_active)\n",
        "\n",
        "path_red = False\n",
        "print(not path_red)\n",
        "\n",
        "energy_low = True\n",
        "print(not energy_low)\n",
        "\n",
        "space_model = False\n",
        "print(not space_model)\n",
        "\n",
        "main_mode = True\n",
        "print(not main_mode)"
      ]
    }
  ]
}