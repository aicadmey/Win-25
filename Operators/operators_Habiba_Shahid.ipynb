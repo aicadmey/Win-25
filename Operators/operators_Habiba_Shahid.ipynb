{
  "nbformat": 4,
  "nbformat_minor": 0,
  "metadata": {
    "colab": {
      "provenance": []
    },
    "kernelspec": {
      "name": "python3",
      "display_name": "Python 3"
    },
    "language_info": {
      "name": "python"
    }
  },
  "cells": [
    {
      "cell_type": "code",
      "source": [
        "num1=5           #sum\n",
        "num2=1\n",
        "print(num1+num2)"
      ],
      "metadata": {
        "colab": {
          "base_uri": "https://localhost:8080/"
        },
        "id": "IRlY4tkl6r6Z",
        "outputId": "a4d22faa-e8dd-45d9-c7b7-b00496788850"
      },
      "execution_count": null,
      "outputs": [
        {
          "output_type": "stream",
          "name": "stdout",
          "text": [
            "6\n"
          ]
        }
      ]
    },
    {
      "cell_type": "code",
      "source": [
        "num1=3\n",
        "num2=1\n",
        "print(num1+num2)"
      ],
      "metadata": {
        "colab": {
          "base_uri": "https://localhost:8080/"
        },
        "id": "Ikdt-LR_7bO0",
        "outputId": "c6a73c55-a826-4002-a027-ddc82a7ea28a"
      },
      "execution_count": null,
      "outputs": [
        {
          "output_type": "stream",
          "name": "stdout",
          "text": [
            "4\n"
          ]
        }
      ]
    },
    {
      "cell_type": "code",
      "source": [
        "num1=11\n",
        "num2=11\n",
        "print(num1+num2)"
      ],
      "metadata": {
        "colab": {
          "base_uri": "https://localhost:8080/"
        },
        "id": "iYoVd0Ml67EQ",
        "outputId": "0a3365d6-fe3b-46bb-81a3-e4463b1a4046"
      },
      "execution_count": null,
      "outputs": [
        {
          "output_type": "stream",
          "name": "stdout",
          "text": [
            "22\n"
          ]
        }
      ]
    },
    {
      "cell_type": "code",
      "source": [
        "a=6\n",
        "b=8\n",
        "print(a+b)"
      ],
      "metadata": {
        "colab": {
          "base_uri": "https://localhost:8080/"
        },
        "id": "-vjdVdCx7Gvn",
        "outputId": "73de3965-ee36-493d-f4e3-b7ee94766685"
      },
      "execution_count": null,
      "outputs": [
        {
          "output_type": "stream",
          "name": "stdout",
          "text": [
            "14\n"
          ]
        }
      ]
    },
    {
      "cell_type": "code",
      "source": [
        "c=8\n",
        "d=9\n",
        "print(c+d)"
      ],
      "metadata": {
        "colab": {
          "base_uri": "https://localhost:8080/"
        },
        "id": "qL7Y4fAp7MAp",
        "outputId": "6427e8fb-256d-4e02-d20c-6f65df2fd824"
      },
      "execution_count": null,
      "outputs": [
        {
          "output_type": "stream",
          "name": "stdout",
          "text": [
            "17\n"
          ]
        }
      ]
    },
    {
      "cell_type": "code",
      "source": [
        "num1=1       #sub\n",
        "num2=1\n",
        "print(num1-num2)"
      ],
      "metadata": {
        "colab": {
          "base_uri": "https://localhost:8080/"
        },
        "id": "pucMRXX87mKT",
        "outputId": "7f981d80-2a25-4c28-bd4d-beadd1f63c17"
      },
      "execution_count": null,
      "outputs": [
        {
          "output_type": "stream",
          "name": "stdout",
          "text": [
            "0\n"
          ]
        }
      ]
    },
    {
      "cell_type": "code",
      "source": [
        "num1=6\n",
        "num2=5\n",
        "print(num1-num2)"
      ],
      "metadata": {
        "colab": {
          "base_uri": "https://localhost:8080/"
        },
        "id": "zUV_Elg17wWw",
        "outputId": "e55ab527-311b-4f2f-9427-fd8e7e033ac7"
      },
      "execution_count": null,
      "outputs": [
        {
          "output_type": "stream",
          "name": "stdout",
          "text": [
            "1\n"
          ]
        }
      ]
    },
    {
      "cell_type": "code",
      "source": [
        "num1=19\n",
        "num2=11\n",
        "print(num1-num2)"
      ],
      "metadata": {
        "colab": {
          "base_uri": "https://localhost:8080/"
        },
        "id": "CLBUSdhg7_pA",
        "outputId": "dd308572-0d2e-47de-e723-8c5ff92e59b4"
      },
      "execution_count": null,
      "outputs": [
        {
          "output_type": "stream",
          "name": "stdout",
          "text": [
            "8\n"
          ]
        }
      ]
    },
    {
      "cell_type": "code",
      "source": [
        "a=16\n",
        "b=12\n",
        "print(a-b)"
      ],
      "metadata": {
        "colab": {
          "base_uri": "https://localhost:8080/"
        },
        "id": "1UWILGZ58Hk7",
        "outputId": "b5c46d7e-4dcc-45d0-c04e-b8448891b144"
      },
      "execution_count": null,
      "outputs": [
        {
          "output_type": "stream",
          "name": "stdout",
          "text": [
            "4\n"
          ]
        }
      ]
    },
    {
      "cell_type": "code",
      "source": [
        "c=20\n",
        "d=20\n",
        "print(c-d)"
      ],
      "metadata": {
        "colab": {
          "base_uri": "https://localhost:8080/"
        },
        "id": "HEZvnX278P9j",
        "outputId": "6931dd2a-7607-4052-fe03-c220e8e98b57"
      },
      "execution_count": null,
      "outputs": [
        {
          "output_type": "stream",
          "name": "stdout",
          "text": [
            "0\n"
          ]
        }
      ]
    },
    {
      "cell_type": "code",
      "source": [
        "num1=6          # mul\n",
        "num2=6\n",
        "print(num1*num2)"
      ],
      "metadata": {
        "colab": {
          "base_uri": "https://localhost:8080/"
        },
        "id": "y7B4sVj38akl",
        "outputId": "c1c54798-88b2-45bd-c591-0610968db97e"
      },
      "execution_count": null,
      "outputs": [
        {
          "output_type": "stream",
          "name": "stdout",
          "text": [
            "36\n"
          ]
        }
      ]
    },
    {
      "cell_type": "code",
      "source": [
        "num1=5\n",
        "num2=3\n",
        "print(num1*num2)"
      ],
      "metadata": {
        "colab": {
          "base_uri": "https://localhost:8080/"
        },
        "id": "CP2gxlc28ndD",
        "outputId": "c7a6aefd-dec7-4c2f-e2b5-41d70805e8f5"
      },
      "execution_count": null,
      "outputs": [
        {
          "output_type": "stream",
          "name": "stdout",
          "text": [
            "15\n"
          ]
        }
      ]
    },
    {
      "cell_type": "code",
      "source": [
        "a=8\n",
        "b=9\n",
        "print(a*b)"
      ],
      "metadata": {
        "colab": {
          "base_uri": "https://localhost:8080/"
        },
        "id": "55a8eyL_8y4T",
        "outputId": "2511152a-6bc2-44d2-a354-e259fa39cd1b"
      },
      "execution_count": null,
      "outputs": [
        {
          "output_type": "stream",
          "name": "stdout",
          "text": [
            "72\n"
          ]
        }
      ]
    },
    {
      "cell_type": "code",
      "source": [
        "c=77\n",
        "d=99\n",
        "print(c*d)"
      ],
      "metadata": {
        "colab": {
          "base_uri": "https://localhost:8080/"
        },
        "id": "zCKE5Hy885TR",
        "outputId": "ecb6b116-6727-4da7-d0de-1543f57aa485"
      },
      "execution_count": null,
      "outputs": [
        {
          "output_type": "stream",
          "name": "stdout",
          "text": [
            "7623\n"
          ]
        }
      ]
    },
    {
      "cell_type": "code",
      "source": [
        "num1=10\n",
        "num2=10\n",
        "print(num1*num2)"
      ],
      "metadata": {
        "colab": {
          "base_uri": "https://localhost:8080/"
        },
        "id": "k5wcyQ-19EVX",
        "outputId": "d0649393-42e0-4b27-ef57-08ffe490704a"
      },
      "execution_count": null,
      "outputs": [
        {
          "output_type": "stream",
          "name": "stdout",
          "text": [
            "100\n"
          ]
        }
      ]
    },
    {
      "cell_type": "code",
      "source": [
        "num1=5          #div\n",
        "num2=5\n",
        "print(5/5)"
      ],
      "metadata": {
        "colab": {
          "base_uri": "https://localhost:8080/"
        },
        "id": "ejHMmbKZ9dI0",
        "outputId": "90372ac3-4295-42d0-dd31-5ea507cc6937"
      },
      "execution_count": null,
      "outputs": [
        {
          "output_type": "stream",
          "name": "stdout",
          "text": [
            "1.0\n"
          ]
        }
      ]
    },
    {
      "cell_type": "code",
      "source": [
        "num1=10\n",
        "num2=5\n",
        "print(num1/num2)"
      ],
      "metadata": {
        "colab": {
          "base_uri": "https://localhost:8080/"
        },
        "id": "0i7k0JWZ9sKS",
        "outputId": "3794edb0-3f5d-42c4-caea-c76495c962be"
      },
      "execution_count": null,
      "outputs": [
        {
          "output_type": "stream",
          "name": "stdout",
          "text": [
            "2.0\n"
          ]
        }
      ]
    },
    {
      "cell_type": "code",
      "source": [
        "a=20\n",
        "b=10\n",
        "print(a/b)"
      ],
      "metadata": {
        "colab": {
          "base_uri": "https://localhost:8080/"
        },
        "id": "hlly_GX993Nw",
        "outputId": "44e6712a-799b-43ab-bd12-dfa34db61271"
      },
      "execution_count": null,
      "outputs": [
        {
          "output_type": "stream",
          "name": "stdout",
          "text": [
            "2.0\n"
          ]
        }
      ]
    },
    {
      "cell_type": "code",
      "source": [
        "c=4\n",
        "d=2\n",
        "print(c/d)"
      ],
      "metadata": {
        "colab": {
          "base_uri": "https://localhost:8080/"
        },
        "id": "UUl-ry3L-MjH",
        "outputId": "0ee9d987-8e13-4a58-8907-b8db8b52f3ab"
      },
      "execution_count": null,
      "outputs": [
        {
          "output_type": "stream",
          "name": "stdout",
          "text": [
            "2.0\n"
          ]
        }
      ]
    },
    {
      "cell_type": "code",
      "source": [
        "num1=88\n",
        "num2=22\n",
        "print(num1/num2)"
      ],
      "metadata": {
        "colab": {
          "base_uri": "https://localhost:8080/"
        },
        "id": "J-uqLBSQ-UVW",
        "outputId": "1e8c76ab-aa4a-41ad-f197-243830940683"
      },
      "execution_count": null,
      "outputs": [
        {
          "output_type": "stream",
          "name": "stdout",
          "text": [
            "4.0\n"
          ]
        }
      ]
    },
    {
      "cell_type": "code",
      "source": [
        "num1=1        #modolus\n",
        "num2=1\n",
        "print(num1%num2)"
      ],
      "metadata": {
        "colab": {
          "base_uri": "https://localhost:8080/"
        },
        "id": "D_LX8F1n-hAx",
        "outputId": "e3fd1394-5eee-4dea-fe10-8dfb33fce299"
      },
      "execution_count": null,
      "outputs": [
        {
          "output_type": "stream",
          "name": "stdout",
          "text": [
            "0\n"
          ]
        }
      ]
    },
    {
      "cell_type": "code",
      "source": [
        "num1=5\n",
        "num2=3\n",
        "print(num1%num2)"
      ],
      "metadata": {
        "colab": {
          "base_uri": "https://localhost:8080/"
        },
        "id": "n7wqaqF1_RVt",
        "outputId": "ecd4468e-5681-4a13-e7d3-8526fbc611ab"
      },
      "execution_count": null,
      "outputs": [
        {
          "output_type": "stream",
          "name": "stdout",
          "text": [
            "2\n"
          ]
        }
      ]
    },
    {
      "cell_type": "code",
      "source": [
        "num1=10\n",
        "num2=10\n",
        "print(num1%num2)"
      ],
      "metadata": {
        "colab": {
          "base_uri": "https://localhost:8080/"
        },
        "id": "tovYcusO_pZQ",
        "outputId": "079b8156-4da7-4fa8-b702-a359591c5cc2"
      },
      "execution_count": null,
      "outputs": [
        {
          "output_type": "stream",
          "name": "stdout",
          "text": [
            "0\n"
          ]
        }
      ]
    },
    {
      "cell_type": "code",
      "source": [
        "a=6\n",
        "b=2\n",
        "print(a%b)"
      ],
      "metadata": {
        "colab": {
          "base_uri": "https://localhost:8080/"
        },
        "id": "JWbtAJNm_1_j",
        "outputId": "23b7e439-1cd6-49e4-df00-9f26ac05ebc7"
      },
      "execution_count": null,
      "outputs": [
        {
          "output_type": "stream",
          "name": "stdout",
          "text": [
            "0\n"
          ]
        }
      ]
    },
    {
      "cell_type": "code",
      "source": [
        "c=4\n",
        "d=1\n",
        "print(c%d)"
      ],
      "metadata": {
        "colab": {
          "base_uri": "https://localhost:8080/"
        },
        "id": "rdjFtjsoAB5C",
        "outputId": "2090227e-55a3-45d4-b9d7-01f8da16e2ab"
      },
      "execution_count": null,
      "outputs": [
        {
          "output_type": "stream",
          "name": "stdout",
          "text": [
            "0\n"
          ]
        }
      ]
    },
    {
      "cell_type": "code",
      "source": [
        "from ast import Str\n",
        "x=5              #assign = operator\n",
        "print(x)\n",
        "y=\"Apple\"\n",
        "print(y)\n",
        "z=\"habiba\"\n",
        "print(z)\n",
        "Str=\"bhawalpur\"\n",
        "print(str)\n",
        "fl=10.6\n",
        "print(fl)"
      ],
      "metadata": {
        "colab": {
          "base_uri": "https://localhost:8080/"
        },
        "id": "Wpr72tnQCXZ4",
        "outputId": "9fae4be5-1b7b-48ec-dc0d-b91e0165343c"
      },
      "execution_count": null,
      "outputs": [
        {
          "output_type": "stream",
          "name": "stdout",
          "text": [
            "5\n",
            "Apple\n",
            "habiba\n",
            "<class 'str'>\n",
            "10.6\n"
          ]
        }
      ]
    },
    {
      "cell_type": "code",
      "source": [
        "x=3     #  += operator\n",
        "x+=4\n",
        "print(x)"
      ],
      "metadata": {
        "colab": {
          "base_uri": "https://localhost:8080/"
        },
        "id": "TZTO8nHCCwTy",
        "outputId": "9fbb2c99-8f96-424a-815d-80743ffd25f5"
      },
      "execution_count": null,
      "outputs": [
        {
          "output_type": "stream",
          "name": "stdout",
          "text": [
            "7\n"
          ]
        }
      ]
    },
    {
      "cell_type": "code",
      "source": [
        "x=7\n",
        "x+=4\n",
        "print(x)\n",
        "y=3\n",
        "y+=5\n",
        "print(y)\n",
        "z=7\n",
        "z+=6\n",
        "print(z)\n",
        "w=8\n",
        "w+=9\n",
        "print(w)"
      ],
      "metadata": {
        "colab": {
          "base_uri": "https://localhost:8080/"
        },
        "id": "nzrC1ouSEGJn",
        "outputId": "41557ad3-4c04-4aff-ff02-03e82141c7ac"
      },
      "execution_count": null,
      "outputs": [
        {
          "output_type": "stream",
          "name": "stdout",
          "text": [
            "11\n",
            "8\n",
            "13\n",
            "17\n"
          ]
        }
      ]
    },
    {
      "cell_type": "code",
      "source": [
        "x=3       # -= operator\n",
        "x-=2\n",
        "print(x)\n",
        "y=7\n",
        "y-=4\n",
        "print(y)\n",
        "z=9\n",
        "z-=8\n",
        "print(z)\n",
        "w=10\n",
        "w-=6\n",
        "print(w)\n",
        "a=19\n",
        "a-=15\n",
        "print(a)"
      ],
      "metadata": {
        "colab": {
          "base_uri": "https://localhost:8080/"
        },
        "id": "msRz1IhNE1ZS",
        "outputId": "a743ccb0-cf48-46bf-d3f3-9e0b3c6b43f9"
      },
      "execution_count": null,
      "outputs": [
        {
          "output_type": "stream",
          "name": "stdout",
          "text": [
            "1\n",
            "3\n",
            "1\n",
            "4\n",
            "4\n"
          ]
        }
      ]
    },
    {
      "cell_type": "code",
      "source": [
        "x=7        #  /= operator\n",
        "x/=5\n",
        "print(x)\n",
        "y=6\n",
        "y/=3\n",
        "print(y)\n",
        "z=10\n",
        "z/=2\n",
        "print(z)\n",
        "a=20\n",
        "a/=10\n",
        "print(a)\n",
        "b=15\n",
        "b/=3\n",
        "print(b)"
      ],
      "metadata": {
        "colab": {
          "base_uri": "https://localhost:8080/"
        },
        "id": "h7ztkK_6GLud",
        "outputId": "ce89256d-a17d-4f08-b123-aee2c7c54aae"
      },
      "execution_count": null,
      "outputs": [
        {
          "output_type": "stream",
          "name": "stdout",
          "text": [
            "1.4\n",
            "2.0\n",
            "5.0\n",
            "2.0\n",
            "5.0\n"
          ]
        }
      ]
    },
    {
      "cell_type": "code",
      "source": [
        "x=5           # *+ operator\n",
        "x*=5\n",
        "print(x)\n",
        "y=8\n",
        "y*=6\n",
        "print(y)\n",
        "z=5\n",
        "z*=3\n",
        "print(z)\n",
        "a=5\n",
        "a*=3\n",
        "print(a)\n",
        "b=3\n",
        "b*=4\n",
        "print(b)"
      ],
      "metadata": {
        "colab": {
          "base_uri": "https://localhost:8080/"
        },
        "id": "-ZrPKSgNFdno",
        "outputId": "f45524b8-b772-419e-c20c-3cb47f4647e7"
      },
      "execution_count": null,
      "outputs": [
        {
          "output_type": "stream",
          "name": "stdout",
          "text": [
            "25\n",
            "48\n",
            "15\n",
            "15\n",
            "12\n"
          ]
        }
      ]
    },
    {
      "cell_type": "code",
      "source": [
        "x=10\n",
        "x%=2\n",
        "print(x)\n",
        "y=20\n",
        "y%=10\n",
        "print(y)\n",
        "z=14\n",
        "z%=7\n",
        "print(z)\n",
        "a=30\n",
        "a%=3\n",
        "print(a)\n",
        "b=100\n",
        "b%=10\n",
        "print(b)"
      ],
      "metadata": {
        "colab": {
          "base_uri": "https://localhost:8080/"
        },
        "id": "OpDa_SzoGyeY",
        "outputId": "14bb001e-f2af-4ec0-bd02-5ca545191fbf"
      },
      "execution_count": null,
      "outputs": [
        {
          "output_type": "stream",
          "name": "stdout",
          "text": [
            "0\n",
            "0\n",
            "0\n",
            "0\n",
            "0\n"
          ]
        }
      ]
    }
  ]
}