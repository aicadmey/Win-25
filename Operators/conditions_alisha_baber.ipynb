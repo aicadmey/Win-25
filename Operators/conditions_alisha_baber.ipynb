{
  "nbformat": 4,
  "nbformat_minor": 0,
  "metadata": {
    "colab": {
      "provenance": []
    },
    "kernelspec": {
      "name": "python3",
      "display_name": "Python 3"
    },
    "language_info": {
      "name": "python"
    }
  },
  "cells": [
    {
      "cell_type": "markdown",
      "source": [
        "# if statements\n"
      ],
      "metadata": {
        "id": "qzkLmra7x-d5"
      }
    },
    {
      "cell_type": "code",
      "source": [
        "x=3\n",
        "if x==3:\n",
        "   print(\"the number is equal to 3.\")"
      ],
      "metadata": {
        "colab": {
          "base_uri": "https://localhost:8080/"
        },
        "id": "YNBEqoB0yCsL",
        "outputId": "71783773-4b4a-4782-b67c-7289fe014ebc"
      },
      "execution_count": null,
      "outputs": [
        {
          "output_type": "stream",
          "name": "stdout",
          "text": [
            "the number is equal to 3.\n"
          ]
        }
      ]
    },
    {
      "cell_type": "code",
      "source": [
        "y=6\n",
        "if  y>5:\n",
        "    print(\"the number is greater than  5.\")"
      ],
      "metadata": {
        "colab": {
          "base_uri": "https://localhost:8080/"
        },
        "id": "k9smoaD-yzq2",
        "outputId": "f198863a-d138-433d-9780-92262f08c18c"
      },
      "execution_count": null,
      "outputs": [
        {
          "output_type": "stream",
          "name": "stdout",
          "text": [
            "the number is greater than  5.\n"
          ]
        }
      ]
    },
    {
      "cell_type": "code",
      "source": [
        "z=66\n",
        "if z<100:\n",
        "    print(\"the number is less than 100.\")"
      ],
      "metadata": {
        "colab": {
          "base_uri": "https://localhost:8080/"
        },
        "id": "UcF1LRpCzNn_",
        "outputId": "e4c30498-8224-462a-f923-56e762ce0ef9"
      },
      "execution_count": null,
      "outputs": [
        {
          "output_type": "stream",
          "name": "stdout",
          "text": [
            "the number is less than 100.\n"
          ]
        }
      ]
    },
    {
      "cell_type": "code",
      "source": [
        "a= 44\n",
        "if a != 45:\n",
        "    print(\"the number is not equal to 45.\")"
      ],
      "metadata": {
        "colab": {
          "base_uri": "https://localhost:8080/"
        },
        "id": "NIFK0m5nzk6l",
        "outputId": "a3b1b07c-e99a-4487-fc4f-17df8eb52232"
      },
      "execution_count": null,
      "outputs": [
        {
          "output_type": "stream",
          "name": "stdout",
          "text": [
            "the number is not equal to 45.\n"
          ]
        }
      ]
    },
    {
      "cell_type": "code",
      "source": [
        "b=88\n",
        "if b>=88:\n",
        "    print(\"the number is greater than or equal to 88.\")"
      ],
      "metadata": {
        "colab": {
          "base_uri": "https://localhost:8080/"
        },
        "id": "0Srkzcjwzxrk",
        "outputId": "b803f65a-4b8c-43d6-ce49-4a246324047a"
      },
      "execution_count": null,
      "outputs": [
        {
          "output_type": "stream",
          "name": "stdout",
          "text": [
            "the number is greater than or equal to 88.\n"
          ]
        }
      ]
    },
    {
      "cell_type": "code",
      "source": [
        "c=9000\n",
        "if c<=9000:\n",
        "    print(\"the number is less than or equal to 9000.\")"
      ],
      "metadata": {
        "colab": {
          "base_uri": "https://localhost:8080/"
        },
        "id": "XUuOIdaI4JmS",
        "outputId": "ed859c21-917c-471c-f2cb-9a4b832f28ec"
      },
      "execution_count": null,
      "outputs": [
        {
          "output_type": "stream",
          "name": "stdout",
          "text": [
            "the number is less than or equal to 9000.\n"
          ]
        }
      ]
    },
    {
      "cell_type": "code",
      "source": [
        "d=55000\n",
        "if d<=55000:\n",
        "   print(\" the number is less than orequal to 55000\")"
      ],
      "metadata": {
        "colab": {
          "base_uri": "https://localhost:8080/"
        },
        "id": "YDLQaY6X5Uvj",
        "outputId": "e8581e91-c2b5-4e1e-9311-1acd3b29a997"
      },
      "execution_count": null,
      "outputs": [
        {
          "output_type": "stream",
          "name": "stdout",
          "text": [
            " the number is less than orequal to 55000\n"
          ]
        }
      ]
    },
    {
      "cell_type": "code",
      "source": [
        "j=80\n",
        "if j==80:\n",
        "    print(\"the number is equal to 80.\")"
      ],
      "metadata": {
        "colab": {
          "base_uri": "https://localhost:8080/"
        },
        "id": "xzHbwNMu56nE",
        "outputId": "f99d9033-7a4b-440c-d182-73823b1ad24b"
      },
      "execution_count": null,
      "outputs": [
        {
          "output_type": "stream",
          "name": "stdout",
          "text": [
            "the number is equal to 80.\n"
          ]
        }
      ]
    },
    {
      "cell_type": "code",
      "source": [
        "a=70000\n",
        "if a>9000:\n",
        "    print(\"no more burger\")"
      ],
      "metadata": {
        "colab": {
          "base_uri": "https://localhost:8080/"
        },
        "id": "S7Kcgb4p7DU_",
        "outputId": "6a62f6e5-d178-481e-f027-c9aa3f797457"
      },
      "execution_count": null,
      "outputs": [
        {
          "output_type": "stream",
          "name": "stdout",
          "text": [
            "no more burger\n"
          ]
        }
      ]
    },
    {
      "cell_type": "code",
      "source": [
        "u=30\n",
        "if u>20:\n",
        "    print(\"u is greater than 20\")\n",
        "    print(\" you are old enough to vote\")"
      ],
      "metadata": {
        "colab": {
          "base_uri": "https://localhost:8080/"
        },
        "id": "jTRpaNTS8FdL",
        "outputId": "47bd38dd-82db-4147-df2f-cf32a18febb6"
      },
      "execution_count": null,
      "outputs": [
        {
          "output_type": "stream",
          "name": "stdout",
          "text": [
            "u is greater than 20\n",
            " you are old enough to vote\n"
          ]
        }
      ]
    },
    {
      "cell_type": "code",
      "source": [
        "g=20\n",
        "if g>18:\n",
        "    print(\"g is greater than 18\")\n"
      ],
      "metadata": {
        "colab": {
          "base_uri": "https://localhost:8080/"
        },
        "id": "DTou9VST-oEo",
        "outputId": "fd09c3a4-8a19-43c0-d09c-92ff92784347"
      },
      "execution_count": null,
      "outputs": [
        {
          "output_type": "stream",
          "name": "stdout",
          "text": [
            "g is greater than 18\n"
          ]
        }
      ]
    },
    {
      "cell_type": "markdown",
      "source": [
        "# if else statements\n"
      ],
      "metadata": {
        "id": "H8EsFro3_mPn"
      }
    },
    {
      "cell_type": "code",
      "source": [
        "u= 40\n",
        "if u>20:\n",
        "    print(\"u is greater than 20\")\n",
        "else:\n",
        "    print(\"u is less than 20\")"
      ],
      "metadata": {
        "colab": {
          "base_uri": "https://localhost:8080/"
        },
        "id": "-CK9Tn2H_qhD",
        "outputId": "3ee456c3-24a1-4d73-b34b-58b3fda4b442"
      },
      "execution_count": null,
      "outputs": [
        {
          "output_type": "stream",
          "name": "stdout",
          "text": [
            "u is greater than 20\n"
          ]
        }
      ]
    },
    {
      "cell_type": "code",
      "source": [
        "y=50\n",
        "if y>100:\n",
        "   print(\" i have money\")\n",
        "else:\n",
        "      print(\" i have no money\")"
      ],
      "metadata": {
        "colab": {
          "base_uri": "https://localhost:8080/"
        },
        "id": "RkHDu2BlBPZy",
        "outputId": "5c782949-dfed-47a6-9ca8-0fe8b5954622"
      },
      "execution_count": null,
      "outputs": [
        {
          "output_type": "stream",
          "name": "stdout",
          "text": [
            " i have no money\n"
          ]
        }
      ]
    },
    {
      "cell_type": "code",
      "source": [
        "t=90\n",
        "if t<100:\n",
        "   print(\" I am princess of my papa \")\n",
        "else:\n",
        "         print(\" I am not princess of my papa\")"
      ],
      "metadata": {
        "colab": {
          "base_uri": "https://localhost:8080/"
        },
        "id": "Aejbv109Bnmn",
        "outputId": "c1fbfd21-5bd4-4ba7-db7b-bb976b04142c"
      },
      "execution_count": null,
      "outputs": [
        {
          "output_type": "stream",
          "name": "stdout",
          "text": [
            " I am princess of my papa \n"
          ]
        }
      ]
    },
    {
      "cell_type": "code",
      "source": [
        "y=555555\n",
        "if y>1000000:\n",
        "    print(\"y is not equal to 66\")\n",
        "else:\n",
        "    print(\"y is equal to 66\")"
      ],
      "metadata": {
        "colab": {
          "base_uri": "https://localhost:8080/"
        },
        "id": "X1An92EpDLvw",
        "outputId": "7507060d-c2bb-42c0-ee5e-71809ed49ab8"
      },
      "execution_count": null,
      "outputs": [
        {
          "output_type": "stream",
          "name": "stdout",
          "text": [
            "y is equal to 66\n"
          ]
        }
      ]
    },
    {
      "cell_type": "code",
      "source": [
        "n=4555\n",
        "if n>8000:\n",
        "    print(\" n is greater than or equal to 8000\")\n",
        "else:\n",
        "    print(\" n is less than 8000\")\n"
      ],
      "metadata": {
        "colab": {
          "base_uri": "https://localhost:8080/"
        },
        "id": "lVKJGcGGDbuF",
        "outputId": "7e37874b-0077-4e5d-fd34-991a3fa8cd65"
      },
      "execution_count": null,
      "outputs": [
        {
          "output_type": "stream",
          "name": "stdout",
          "text": [
            " n is less than 8000\n"
          ]
        }
      ]
    },
    {
      "cell_type": "code",
      "source": [
        "num=33\n",
        "if num%2==0:\n",
        "    print(\"the number is even\")\n",
        "else:\n",
        "    print(\"the number is odd\")"
      ],
      "metadata": {
        "colab": {
          "base_uri": "https://localhost:8080/"
        },
        "id": "zQrrNkzTD-FD",
        "outputId": "c87f2b60-2423-4248-ae04-1ca7cb5fc32e"
      },
      "execution_count": null,
      "outputs": [
        {
          "output_type": "stream",
          "name": "stdout",
          "text": [
            "the number is odd\n"
          ]
        }
      ]
    },
    {
      "cell_type": "code",
      "source": [
        "alisha=20\n",
        "if alisha>19:\n",
        "    print(\" alisha is preety\")\n",
        "else:\n",
        "    print(\"alisha is beautiful\")"
      ],
      "metadata": {
        "colab": {
          "base_uri": "https://localhost:8080/"
        },
        "id": "gwaSEGNiESNo",
        "outputId": "8a723db2-deb9-41b8-8214-353f1b899eb8"
      },
      "execution_count": null,
      "outputs": [
        {
          "output_type": "stream",
          "name": "stdout",
          "text": [
            " alisha is preety\n"
          ]
        }
      ]
    },
    {
      "cell_type": "code",
      "source": [
        "d=30000\n",
        "if d>40000:\n",
        "    print(\" cash on delivery\")\n",
        "else:\n",
        "     print(\" online payment\")\n"
      ],
      "metadata": {
        "colab": {
          "base_uri": "https://localhost:8080/"
        },
        "id": "5sk5ZbdzElmK",
        "outputId": "3b467a22-f20a-4280-adcb-d13ac97e321f"
      },
      "execution_count": null,
      "outputs": [
        {
          "output_type": "stream",
          "name": "stdout",
          "text": [
            " online payment\n"
          ]
        }
      ]
    },
    {
      "cell_type": "code",
      "source": [
        "kid=4\n",
        "if kid<5:\n",
        "   print(\" kids are naughty\")\n",
        "else:\n",
        "     print(\" kids are shy\")\n"
      ],
      "metadata": {
        "colab": {
          "base_uri": "https://localhost:8080/"
        },
        "id": "ZiauC5BfFG-f",
        "outputId": "008a148c-1250-4dc6-90c8-4f90673ff42f"
      },
      "execution_count": null,
      "outputs": [
        {
          "output_type": "stream",
          "name": "stdout",
          "text": [
            " kids are naughty\n"
          ]
        }
      ]
    },
    {
      "cell_type": "code",
      "source": [
        "laptp=100000\n",
        "if laptp>90000:\n",
        "   print(\" is expensive \")\n",
        "else:\n",
        "     print(\" is very expensive \")"
      ],
      "metadata": {
        "colab": {
          "base_uri": "https://localhost:8080/"
        },
        "id": "pI90wSVRFkuW",
        "outputId": "1e5c64c8-198b-47c2-cf55-c44f45aea2a4"
      },
      "execution_count": null,
      "outputs": [
        {
          "output_type": "stream",
          "name": "stdout",
          "text": [
            " is expensive \n"
          ]
        }
      ]
    },
    {
      "cell_type": "code",
      "source": [
        "r=50\n",
        "if r>40:\n",
        "   print(\" rose is red\")\n",
        "else:\n",
        "     print(\" rose is white \")\n"
      ],
      "metadata": {
        "colab": {
          "base_uri": "https://localhost:8080/"
        },
        "id": "U3W-x3ZPF-G3",
        "outputId": "741792d8-379b-4a77-d697-b36129818e97"
      },
      "execution_count": null,
      "outputs": [
        {
          "output_type": "stream",
          "name": "stdout",
          "text": [
            " rose is red\n"
          ]
        }
      ]
    },
    {
      "cell_type": "code",
      "source": [
        "f=90\n",
        "if f>80:\n",
        "\n",
        "   print(\" duniya fani hai\")\n",
        "else:\n",
        "     print(\" duniya jase ban jao\")\n"
      ],
      "metadata": {
        "colab": {
          "base_uri": "https://localhost:8080/"
        },
        "id": "HvrDsISDGl38",
        "outputId": "6e92cee3-6548-4e64-d336-344ce6661084"
      },
      "execution_count": null,
      "outputs": [
        {
          "output_type": "stream",
          "name": "stdout",
          "text": [
            " duniya fani hai\n"
          ]
        }
      ]
    },
    {
      "cell_type": "markdown",
      "source": [
        "# if elif else statement\n"
      ],
      "metadata": {
        "id": "QfvI1lr9HCru"
      }
    },
    {
      "cell_type": "code",
      "source": [
        "marks=80\n",
        "if marks>=90:\n",
        "    print(\"excellent\")\n",
        "elif marks>=80:\n",
        "    print(\"very good\")\n",
        "elif marks>=70:\n",
        "    print(\"good\")\n",
        "elif marks>=60:\n",
        "    print(\"average\")\n",
        "else:\n",
        "     print(\" fail\")\n",
        "\n"
      ],
      "metadata": {
        "colab": {
          "base_uri": "https://localhost:8080/"
        },
        "id": "E6l4g51bHSca",
        "outputId": "3102031a-dddd-44b3-8b3d-09ea73dc46a8"
      },
      "execution_count": null,
      "outputs": [
        {
          "output_type": "stream",
          "name": "stdout",
          "text": [
            "very good\n"
          ]
        }
      ]
    },
    {
      "cell_type": "code",
      "source": [
        "marks = 100\n",
        "if marks>50:\n",
        "    print(\" A\")\n",
        "elif marks>80:\n",
        "    print(\" B\")\n",
        "elif marks>70:\n",
        "    print(\" C\")\n",
        "elif marks>60:\n",
        "     print(\"D\")\n",
        "else:\n",
        "     print(\" fail\")\n"
      ],
      "metadata": {
        "colab": {
          "base_uri": "https://localhost:8080/"
        },
        "id": "ye31w-UoLYi-",
        "outputId": "7fff950b-aa5a-44d7-b28d-3917eaa86e84"
      },
      "execution_count": null,
      "outputs": [
        {
          "output_type": "stream",
          "name": "stdout",
          "text": [
            " A\n"
          ]
        }
      ]
    },
    {
      "cell_type": "code",
      "source": [
        "marks = 60\n",
        "\n",
        "if marks>= 80:\n",
        "    print(\"excellent\")\n",
        "elif marks >= 70:\n",
        "    print(\"pass\")\n",
        "elif marks == 60:\n",
        "    print (\"muskil sa pass \")\n",
        "elif marks >= 50 and marks > 60 :\n",
        "    print(\" thori se mehnat kr ke pass ho sakty the\")\n",
        "else:\n",
        "    print(\" fail\")\n",
        "\n",
        "\n",
        "\n",
        "\n"
      ],
      "metadata": {
        "colab": {
          "base_uri": "https://localhost:8080/"
        },
        "id": "_VdOCeekNart",
        "outputId": "e5e70706-8255-45da-e19b-7d8848141af8"
      },
      "execution_count": null,
      "outputs": [
        {
          "output_type": "stream",
          "name": "stdout",
          "text": [
            "muskil sa pass \n"
          ]
        }
      ]
    },
    {
      "cell_type": "code",
      "source": [
        "bag = 90\n",
        "if bag>=70:\n",
        "  print(\"more bags\")\n",
        "elif bag <60:\n",
        "    print(\" less bags\")\n",
        "elif bag >= 90:\n",
        "    print (\" enough bags\")\n"
      ],
      "metadata": {
        "colab": {
          "base_uri": "https://localhost:8080/"
        },
        "id": "emCfG2XTPSdX",
        "outputId": "41f830a9-07b4-4ca5-dadc-2f929a4003f3"
      },
      "execution_count": null,
      "outputs": [
        {
          "output_type": "stream",
          "name": "stdout",
          "text": [
            "more bags\n"
          ]
        }
      ]
    },
    {
      "cell_type": "code",
      "source": [
        "num1=int(input(\"enter a number\"))\n",
        "if num1%3==0:\n",
        "     print(\" is odd number\")\n",
        "elif num1%2==0:\n",
        "     print(\" is even number\")"
      ],
      "metadata": {
        "colab": {
          "base_uri": "https://localhost:8080/"
        },
        "id": "o2tIqh5JRDkw",
        "outputId": "d776d7d5-e837-4e77-fc6f-822824030fee"
      },
      "execution_count": null,
      "outputs": [
        {
          "output_type": "stream",
          "name": "stdout",
          "text": [
            "enter a number3\n",
            " is odd number\n"
          ]
        }
      ]
    },
    {
      "cell_type": "code",
      "source": [
        "tea=50\n",
        "if tea>70 and tea==50:\n",
        "\n",
        "  print(\" tea is hot \")\n",
        "elif tea ==40 and tea !=50:\n",
        "       print(\"  suger free tea\")\n",
        "elif tea<=50:\n",
        "    print(\" tea is cold\")"
      ],
      "metadata": {
        "colab": {
          "base_uri": "https://localhost:8080/"
        },
        "id": "d2yRJzsvR2TC",
        "outputId": "39718772-c772-480b-d1b4-e3cac9d6dc11"
      },
      "execution_count": null,
      "outputs": [
        {
          "output_type": "stream",
          "name": "stdout",
          "text": [
            " tea is cold\n"
          ]
        }
      ]
    },
    {
      "cell_type": "code",
      "source": [
        "\n",
        "light=70\n",
        "if light>70 and light==40:\n",
        "\n",
        "  print(\" light has gone \")\n",
        "elif light ==40 and light !=50:\n",
        "       print(\"  light has come\")\n",
        "elif light<=50:\n",
        "    print(\" colorful lights\")\n",
        "else:\n",
        "    print(\" beautiful lights\")\n",
        "\n",
        "\n"
      ],
      "metadata": {
        "colab": {
          "base_uri": "https://localhost:8080/"
        },
        "id": "NYhY_wMBSv-x",
        "outputId": "aef65860-46d2-485e-e501-9c95485134b5"
      },
      "execution_count": null,
      "outputs": [
        {
          "output_type": "stream",
          "name": "stdout",
          "text": [
            " beautiful lights\n"
          ]
        }
      ]
    },
    {
      "cell_type": "code",
      "source": [
        "m1=80\n",
        "if m1>79:\n",
        "  print(\" you win \")\n",
        "elif m1 ==76:\n",
        "   print(\" you lost\")\n",
        "elif m1<=70:\n",
        "  print(\" har kr be jeet gay\")\n",
        "else:\n",
        "\n",
        "    print(\" yahooo we win \")\n",
        "\n"
      ],
      "metadata": {
        "colab": {
          "base_uri": "https://localhost:8080/"
        },
        "id": "h1YCH8gLTbXo",
        "outputId": "b5e2e3c5-aef3-4bed-9be3-59ca9552ae37"
      },
      "execution_count": null,
      "outputs": [
        {
          "output_type": "stream",
          "name": "stdout",
          "text": [
            " you win \n"
          ]
        }
      ]
    },
    {
      "cell_type": "code",
      "source": [
        "price = 50000\n",
        "if price >8000:\n",
        "  print(\" fee submitted\")\n",
        "elif price >=40000:\n",
        "  print(\" thora wait krin\")\n",
        "elif price <= 30000:\n",
        "  print(\"fee expended \")\n",
        "else :\n",
        "  print(\" return fee\")\n",
        "\n"
      ],
      "metadata": {
        "colab": {
          "base_uri": "https://localhost:8080/"
        },
        "id": "K4o0yBueVdKD",
        "outputId": "80c289c4-50ac-4d8f-f27c-f19b8b8a1a5f"
      },
      "execution_count": null,
      "outputs": [
        {
          "output_type": "stream",
          "name": "stdout",
          "text": [
            " fee submitted\n"
          ]
        }
      ]
    },
    {
      "cell_type": "code",
      "source": [
        "alisha= 5\n",
        "if alisha >4:\n",
        "  print(\" Allah dilo ke hal sa waqif hai\")\n",
        "elif alisha>5:\n",
        "     print(\" Allah ke siwa koi apna ni \")\n",
        "elif alisha == 5:\n",
        "    print(\" Allah hai na sub thk kr dega\")\n",
        "else :\n",
        "    print(\" sila niyaton ka milta hai\")\n"
      ],
      "metadata": {
        "colab": {
          "base_uri": "https://localhost:8080/"
        },
        "id": "YdbEoSPcWf8e",
        "outputId": "aab11a65-b87b-4aae-86c5-1ae264fef15b"
      },
      "execution_count": null,
      "outputs": [
        {
          "output_type": "stream",
          "name": "stdout",
          "text": [
            " Allah dilo ke hal sa waqif hai\n"
          ]
        }
      ]
    }
  ]
}