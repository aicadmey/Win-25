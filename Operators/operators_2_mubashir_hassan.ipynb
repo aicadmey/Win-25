{
  "cells": [
    {
      "cell_type": "code",
      "execution_count": null,
      "id": "306e454a-9e0f-41ce-98ea-f81a05a783d8",
      "metadata": {
        "id": "306e454a-9e0f-41ce-98ea-f81a05a783d8",
        "outputId": "c354ae78-62c9-4991-faa5-059e260fdaca"
      },
      "outputs": [
        {
          "name": "stdout",
          "output_type": "stream",
          "text": [
            " x is equal to y\n"
          ]
        }
      ],
      "source": [
        "#comparison operators\n",
        "# (==)\n",
        "a = 10\n",
        "b = 10\n",
        "if a == b:\n",
        "    print(\" x is equal to y\")"
      ]
    },
    {
      "cell_type": "code",
      "execution_count": null,
      "id": "6899c8e0-0b23-4e98-81f7-94d63ab4885c",
      "metadata": {
        "id": "6899c8e0-0b23-4e98-81f7-94d63ab4885c",
        "outputId": "66e2a53f-177e-49eb-e636-77293fe27c25"
      },
      "outputs": [
        {
          "name": "stdout",
          "output_type": "stream",
          "text": [
            " ali is equal to raza\n"
          ]
        }
      ],
      "source": [
        "ali = 52\n",
        "raza = 52\n",
        "if ali == raza:\n",
        "    print(\" ali is equal to raza\")"
      ]
    },
    {
      "cell_type": "code",
      "execution_count": null,
      "id": "d05a7e45-96d8-479d-9767-c341b29f2515",
      "metadata": {
        "id": "d05a7e45-96d8-479d-9767-c341b29f2515",
        "outputId": "0e3b12e5-8db9-409f-af93-8162be201843"
      },
      "outputs": [
        {
          "name": "stdout",
          "output_type": "stream",
          "text": [
            "both values are same\n"
          ]
        }
      ],
      "source": [
        "x = \"ai\"\n",
        "y = \"ai\"\n",
        "if x == y:\n",
        "    print(\"both values are same\")"
      ]
    },
    {
      "cell_type": "code",
      "execution_count": null,
      "id": "f2ccc6b3-b2d0-49b0-a52e-4f4478deb663",
      "metadata": {
        "id": "f2ccc6b3-b2d0-49b0-a52e-4f4478deb663",
        "outputId": "90eb1923-71ab-4ee5-b5f1-bfae6f85a8eb"
      },
      "outputs": [
        {
          "name": "stdout",
          "output_type": "stream",
          "text": [
            " boths are fans\n"
          ]
        }
      ],
      "source": [
        "XY = \"FANS\"\n",
        "YY = \"FANS\"\n",
        "if XY == YY:\n",
        "    print(\" boths are fans\")"
      ]
    },
    {
      "cell_type": "code",
      "execution_count": null,
      "id": "8c794441-6cbb-439d-8e93-cc0fe556158b",
      "metadata": {
        "id": "8c794441-6cbb-439d-8e93-cc0fe556158b",
        "outputId": "f99a27f8-3c4c-47df-ccc2-56304e2612ff"
      },
      "outputs": [
        {
          "name": "stdout",
          "output_type": "stream",
          "text": [
            "both names are same\n"
          ]
        }
      ],
      "source": [
        "a = \"ali\"\n",
        "b = \"ali\"\n",
        "if a == b:\n",
        "    print(\"both names are same\")"
      ]
    },
    {
      "cell_type": "code",
      "execution_count": null,
      "id": "67fd16ef-2db4-461e-b772-0f1492aa0d8d",
      "metadata": {
        "id": "67fd16ef-2db4-461e-b772-0f1492aa0d8d",
        "outputId": "9dc32e8c-6e5e-4f33-996a-d429b8418cb8"
      },
      "outputs": [
        {
          "name": "stdout",
          "output_type": "stream",
          "text": [
            "x is not equal to y\n"
          ]
        }
      ],
      "source": [
        "# != operator\n",
        "x = 10\n",
        "y = 5\n",
        "if x != y:\n",
        "    print(\"x is not equal to y\")"
      ]
    },
    {
      "cell_type": "code",
      "execution_count": null,
      "id": "a123b3d0-8a2a-4f96-aad5-29cbfe4bf262",
      "metadata": {
        "id": "a123b3d0-8a2a-4f96-aad5-29cbfe4bf262",
        "outputId": "736543a1-10dd-4ab7-dade-b4ec4111b548"
      },
      "outputs": [
        {
          "name": "stdout",
          "output_type": "stream",
          "text": [
            "a is not equal to B\n"
          ]
        }
      ],
      "source": [
        "a = 25\n",
        "b = 20\n",
        "if a != b:\n",
        "    print(\"a is not equal to B\")"
      ]
    },
    {
      "cell_type": "code",
      "execution_count": null,
      "id": "cfbc8ee3-9518-40fe-821f-92fca35eb5e6",
      "metadata": {
        "id": "cfbc8ee3-9518-40fe-821f-92fca35eb5e6",
        "outputId": "61cc0964-b5d5-4ab0-81fd-52fc018028af"
      },
      "outputs": [
        {
          "name": "stdout",
          "output_type": "stream",
          "text": [
            "ali is not equal to Raza\n"
          ]
        }
      ],
      "source": [
        "ali = \"AI\"\n",
        "Raza = \"CADMEY\"\n",
        "if ali != Raza:\n",
        "    print(\"ali is not equal to Raza\")"
      ]
    },
    {
      "cell_type": "code",
      "execution_count": null,
      "id": "e0bdb02c-2503-4b09-a56b-41726c0d93f6",
      "metadata": {
        "id": "e0bdb02c-2503-4b09-a56b-41726c0d93f6",
        "outputId": "6b53b0cf-3681-4839-9417-05f2c30f7968"
      },
      "outputs": [
        {
          "name": "stdout",
          "output_type": "stream",
          "text": [
            "The numbers are not equal\n"
          ]
        }
      ],
      "source": [
        "num1 = 10\n",
        "num2 = 5\n",
        "if num1 != num2:\n",
        "    print(\"The numbers are not equal\")"
      ]
    },
    {
      "cell_type": "code",
      "execution_count": null,
      "id": "88d51bc4-3bcc-4015-9dac-2d3ed115c115",
      "metadata": {
        "id": "88d51bc4-3bcc-4015-9dac-2d3ed115c115",
        "outputId": "c1dc2787-4e36-4334-ca85-4fd969d7acc5"
      },
      "outputs": [
        {
          "name": "stdout",
          "output_type": "stream",
          "text": [
            "The names are different\n"
          ]
        }
      ],
      "source": [
        "name1 = \"mubashir\"\n",
        "name2 = \"hassan\"\n",
        "if name1 != name2:\n",
        "    print(\"The names are different\")"
      ]
    },
    {
      "cell_type": "code",
      "execution_count": null,
      "id": "fac4768a-877b-40b7-a902-3798c3c85a43",
      "metadata": {
        "id": "fac4768a-877b-40b7-a902-3798c3c85a43",
        "outputId": "bf5086ce-48af-46af-b403-0c3a60cca869"
      },
      "outputs": [
        {
          "name": "stdout",
          "output_type": "stream",
          "text": [
            "x is less than y\n"
          ]
        }
      ],
      "source": [
        "# less than < operator\n",
        "x = 5\n",
        "y = 10\n",
        "if x < y:\n",
        "    print(\"x is less than y\")"
      ]
    },
    {
      "cell_type": "code",
      "execution_count": null,
      "id": "7bd404a4-b32f-4c36-8064-8e09340bbe5b",
      "metadata": {
        "id": "7bd404a4-b32f-4c36-8064-8e09340bbe5b",
        "outputId": "5f38b06f-87ea-4d56-e88a-81267cd7de98"
      },
      "outputs": [
        {
          "name": "stdout",
          "output_type": "stream",
          "text": [
            " a chota hai y sy\n"
          ]
        }
      ],
      "source": [
        "a = 6\n",
        "y = 7\n",
        "if a < y:\n",
        "    print(\" a chota hai y sy\")"
      ]
    },
    {
      "cell_type": "code",
      "execution_count": null,
      "id": "584eb018-1163-4ff4-8ecd-39c4197243b6",
      "metadata": {
        "id": "584eb018-1163-4ff4-8ecd-39c4197243b6",
        "outputId": "cfddf08c-a4c0-4730-8783-40ccc0b5047d"
      },
      "outputs": [
        {
          "name": "stdout",
          "output_type": "stream",
          "text": [
            " mera code meri marzi\n"
          ]
        }
      ],
      "source": [
        "ali = \"hassan\"\n",
        "Raza = \"hussain\"\n",
        "if ali < Raza:\n",
        "    print( \" mera code meri marzi\")"
      ]
    },
    {
      "cell_type": "code",
      "execution_count": null,
      "id": "36b4e358-23df-43b2-892e-d91b0b46c418",
      "metadata": {
        "id": "36b4e358-23df-43b2-892e-d91b0b46c418",
        "outputId": "2ee73c6c-bfa2-49ac-bb5c-8e4844dc3875"
      },
      "outputs": [
        {
          "name": "stdout",
          "output_type": "stream",
          "text": [
            "a is less than b\n"
          ]
        }
      ],
      "source": [
        "a = 15\n",
        "b = 20\n",
        "if a < b:\n",
        "    print(\"a is less than b\")"
      ]
    },
    {
      "cell_type": "code",
      "execution_count": null,
      "id": "d50f289a-3ed6-474f-9c37-de370235a252",
      "metadata": {
        "id": "d50f289a-3ed6-474f-9c37-de370235a252",
        "outputId": "dfadfa53-9c86-4bf7-879b-eb7f4fca400c"
      },
      "outputs": [
        {
          "name": "stdout",
          "output_type": "stream",
          "text": [
            " ab nikka hai bb sy\n"
          ]
        }
      ],
      "source": [
        "ab = 25\n",
        "bb = 25.5\n",
        "if ab < bb:\n",
        "    print(\" ab nikka hai bb sy\")"
      ]
    },
    {
      "cell_type": "code",
      "execution_count": null,
      "id": "d6bc604d-e42f-4b5d-9c22-6c58f13659a8",
      "metadata": {
        "id": "d6bc604d-e42f-4b5d-9c22-6c58f13659a8",
        "outputId": "672d047d-b76f-4c3a-b318-7feea1469c66"
      },
      "outputs": [
        {
          "name": "stdout",
          "output_type": "stream",
          "text": [
            "x is greater than y\n"
          ]
        }
      ],
      "source": [
        "# greater than > operator\n",
        "x = 10\n",
        "y = 5\n",
        "if x > y:\n",
        "    print(\"x is greater than y\")"
      ]
    },
    {
      "cell_type": "code",
      "execution_count": null,
      "id": "e2d77e39-fbbe-4328-abca-cd024130df97",
      "metadata": {
        "id": "e2d77e39-fbbe-4328-abca-cd024130df97",
        "outputId": "106980c1-1eb4-4004-af21-f4935733cdf9"
      },
      "outputs": [
        {
          "name": "stdout",
          "output_type": "stream",
          "text": [
            "a is greater than b\n"
          ]
        }
      ],
      "source": [
        "a = 20\n",
        "b = 15\n",
        "if a > b:\n",
        "    print(\"a is greater than b\")"
      ]
    },
    {
      "cell_type": "code",
      "execution_count": null,
      "id": "222ecf59-5de7-4e19-9dd4-893e75b9bc32",
      "metadata": {
        "id": "222ecf59-5de7-4e19-9dd4-893e75b9bc32",
        "outputId": "e21239de-1163-459c-8cbd-033738ae05ad"
      },
      "outputs": [
        {
          "name": "stdout",
          "output_type": "stream",
          "text": [
            "ali bra hogya\n"
          ]
        }
      ],
      "source": [
        "ali = 25\n",
        "if ali > 20:\n",
        "    print(\"ali bra hogya\")"
      ]
    },
    {
      "cell_type": "code",
      "execution_count": null,
      "id": "bcc37ab9-1576-4724-b1ac-e9c7870721c7",
      "metadata": {
        "id": "bcc37ab9-1576-4724-b1ac-e9c7870721c7",
        "outputId": "0433bfed-5040-4a79-f53f-7595b67bfcb9"
      },
      "outputs": [
        {
          "name": "stdout",
          "output_type": "stream",
          "text": [
            " mubashir waqae mehnti hai\n"
          ]
        }
      ],
      "source": [
        "mubashir = \"bht mehnti hai\"\n",
        "if mubashir > \"agr mehnat kry to\":\n",
        "    print(\" mubashir waqae mehnti hai\")"
      ]
    },
    {
      "cell_type": "code",
      "execution_count": null,
      "id": "42d89cc5-7b6d-4a67-921f-16fb3441f311",
      "metadata": {
        "id": "42d89cc5-7b6d-4a67-921f-16fb3441f311",
        "outputId": "95a4c6d5-50f1-4938-d24f-e2094cc630db"
      },
      "outputs": [
        {
          "name": "stdout",
          "output_type": "stream",
          "text": [
            "aa is greater than bb\n"
          ]
        }
      ],
      "source": [
        "aa = 3.14159\n",
        "bb = 2.71828\n",
        "if aa > bb:\n",
        "    print(\"aa is greater than bb\")"
      ]
    },
    {
      "cell_type": "code",
      "execution_count": null,
      "id": "e022b488-85cf-4491-988d-5ab9a878b896",
      "metadata": {
        "id": "e022b488-85cf-4491-988d-5ab9a878b896",
        "outputId": "1c736693-7b50-4d1e-e600-a9cf9b38bdcd"
      },
      "outputs": [
        {
          "name": "stdout",
          "output_type": "stream",
          "text": [
            "x is less than or equal to y\n"
          ]
        }
      ],
      "source": [
        "#<= less than equal to\n",
        "x = 10\n",
        "y = 10\n",
        "if x <= y:\n",
        "    print(\"x is less than or equal to y\")"
      ]
    },
    {
      "cell_type": "code",
      "execution_count": null,
      "id": "29171895-eea2-43cb-8c9a-3452a6bb4b60",
      "metadata": {
        "id": "29171895-eea2-43cb-8c9a-3452a6bb4b60",
        "outputId": "ce0367c5-979a-4e97-e4cf-02474a538ef9"
      },
      "outputs": [
        {
          "name": "stdout",
          "output_type": "stream",
          "text": [
            "a is less than or equal to b\n"
          ]
        }
      ],
      "source": [
        "a = 5\n",
        "b = 5\n",
        "if a <= b:\n",
        "    print(\"a is less than or equal to b\")"
      ]
    },
    {
      "cell_type": "code",
      "execution_count": null,
      "id": "3759a485-ce74-438c-958b-ff7d8923b195",
      "metadata": {
        "id": "3759a485-ce74-438c-958b-ff7d8923b195",
        "outputId": "37040760-3128-499d-be0b-0d88d98430bf"
      },
      "outputs": [
        {
          "name": "stdout",
          "output_type": "stream",
          "text": [
            "x is less than or equal to y\n"
          ]
        }
      ],
      "source": [
        "x = 10\n",
        "y = 20\n",
        "if x <= y:\n",
        "    print(\"x is less than or equal to y\")"
      ]
    },
    {
      "cell_type": "code",
      "execution_count": null,
      "id": "6c0cd871-1a7a-44d3-913f-69a8a001198e",
      "metadata": {
        "id": "6c0cd871-1a7a-44d3-913f-69a8a001198e",
        "outputId": "988b7840-9386-4938-d459-86ad99194219"
      },
      "outputs": [
        {
          "name": "stdout",
          "output_type": "stream",
          "text": [
            "chotiiii bachiii ho kya\n"
          ]
        }
      ],
      "source": [
        "age = 18\n",
        "if age <= 25:\n",
        "    print(\"chotiiii bachiii ho kya\")"
      ]
    },
    {
      "cell_type": "code",
      "execution_count": null,
      "id": "49a1f8c4-0931-4ce0-93b9-a4abbbdc2cf7",
      "metadata": {
        "id": "49a1f8c4-0931-4ce0-93b9-a4abbbdc2cf7",
        "outputId": "6b4b3972-d113-4c83-a3ab-176e72c74bb6"
      },
      "outputs": [
        {
          "name": "stdout",
          "output_type": "stream",
          "text": [
            "okay\n"
          ]
        }
      ],
      "source": [
        "score = 85\n",
        "if score <= 100:\n",
        "    print(\"okay\")"
      ]
    },
    {
      "cell_type": "code",
      "execution_count": null,
      "id": "038b6a51-75cc-40af-bfe8-ad4acc30e5b8",
      "metadata": {
        "id": "038b6a51-75cc-40af-bfe8-ad4acc30e5b8",
        "outputId": "60968fa7-7eb4-4f2f-8507-d82ec5f08c1c"
      },
      "outputs": [
        {
          "name": "stdout",
          "output_type": "stream",
          "text": [
            "x is greater than or equal to y\n"
          ]
        }
      ],
      "source": [
        "# >= operator\n",
        "x = 10\n",
        "y = 5\n",
        "if x >= y:\n",
        "    print(\"x is greater than or equal to y\")"
      ]
    },
    {
      "cell_type": "code",
      "execution_count": null,
      "id": "d6bba734-cb4b-46e9-a30f-a6c744fcbc6c",
      "metadata": {
        "id": "d6bba734-cb4b-46e9-a30f-a6c744fcbc6c",
        "outputId": "e3779fce-4dfe-404b-d507-cd2c45b3c0ee"
      },
      "outputs": [
        {
          "name": "stdout",
          "output_type": "stream",
          "text": [
            "x is greater than or equal to y\n"
          ]
        }
      ],
      "source": [
        "x = 20\n",
        "y = 10\n",
        "if x >= y:\n",
        "    print(\"x is greater than or equal to y\")"
      ]
    },
    {
      "cell_type": "code",
      "execution_count": null,
      "id": "626df856-cf97-446b-ad87-fdc88fe6543c",
      "metadata": {
        "id": "626df856-cf97-446b-ad87-fdc88fe6543c",
        "outputId": "05b6290b-e66a-4919-88db-c55e1ef34f67"
      },
      "outputs": [
        {
          "name": "stdout",
          "output_type": "stream",
          "text": [
            "a is greater than or equal to b\n"
          ]
        }
      ],
      "source": [
        "a = 7\n",
        "b = 7\n",
        "if a >= b:\n",
        "    print(\"a is greater than or equal to b\")"
      ]
    },
    {
      "cell_type": "code",
      "execution_count": null,
      "id": "c7a31947-1483-4b0e-88d6-46bf2ede4dfb",
      "metadata": {
        "id": "c7a31947-1483-4b0e-88d6-46bf2ede4dfb",
        "outputId": "d0217e49-dace-4e1b-ec6a-a0503ec7badc"
      },
      "outputs": [
        {
          "name": "stdout",
          "output_type": "stream",
          "text": [
            "ye b thk hai\n"
          ]
        }
      ],
      "source": [
        "score = 90\n",
        "if score >= 75:\n",
        "    print(\"ye b thk hai\")"
      ]
    },
    {
      "cell_type": "code",
      "execution_count": null,
      "id": "a30de517-450f-4d38-b778-e8735317f64c",
      "metadata": {
        "id": "a30de517-450f-4d38-b778-e8735317f64c",
        "outputId": "e4b9c781-6ea8-4e47-c25f-b141b0eda326"
      },
      "outputs": [
        {
          "name": "stdout",
          "output_type": "stream",
          "text": [
            "age thk hai\n"
          ]
        }
      ],
      "source": [
        "age = 30\n",
        "if age >= 18:\n",
        "    print(\"age thk hai\")"
      ]
    },
    {
      "cell_type": "code",
      "execution_count": null,
      "id": "3f045efe-ed79-432b-9c54-946ce1e0cf89",
      "metadata": {
        "id": "3f045efe-ed79-432b-9c54-946ce1e0cf89"
      },
      "outputs": [],
      "source": []
    },
    {
      "cell_type": "code",
      "execution_count": null,
      "id": "3619f712-427a-4e07-bff5-45e24a6965d0",
      "metadata": {
        "id": "3619f712-427a-4e07-bff5-45e24a6965d0",
        "outputId": "e68533e7-d637-4875-806b-60a548295bc5"
      },
      "outputs": [
        {
          "name": "stdout",
          "output_type": "stream",
          "text": [
            "Both conditions are true\n"
          ]
        }
      ],
      "source": [
        "#logical operators\n",
        "\n",
        "# AND Operator\n",
        "x = 10\n",
        "y = 5\n",
        "if x > 5 and y < 10:\n",
        "    print(\"Both conditions are true\")"
      ]
    },
    {
      "cell_type": "code",
      "execution_count": null,
      "id": "a752a79d-a8da-4348-8dc6-700c8a2d5e10",
      "metadata": {
        "id": "a752a79d-a8da-4348-8dc6-700c8a2d5e10",
        "outputId": "1ad91ffb-4f66-4c22-df14-58ef93944c03"
      },
      "outputs": [
        {
          "name": "stdout",
          "output_type": "stream",
          "text": [
            "You are a young adult\n"
          ]
        }
      ],
      "source": [
        "age = 25\n",
        "if age > 18 and age < 30:\n",
        "    print(\"You are a young adult\")"
      ]
    },
    {
      "cell_type": "code",
      "execution_count": null,
      "id": "59ccab17-02c6-4f46-9e74-457087585800",
      "metadata": {
        "id": "59ccab17-02c6-4f46-9e74-457087585800",
        "outputId": "121e1900-e0b9-43aa-ab78-d55dc228d747"
      },
      "outputs": [
        {
          "name": "stdout",
          "output_type": "stream",
          "text": [
            "The point is fine\n"
          ]
        }
      ],
      "source": [
        "x = 5\n",
        "y = -3\n",
        "if x > 0 and y < 0:\n",
        "    print(\"The point is fine\")"
      ]
    },
    {
      "cell_type": "code",
      "execution_count": null,
      "id": "6a1e3d0a-030a-4f36-bfd6-666d8ea9aece",
      "metadata": {
        "id": "6a1e3d0a-030a-4f36-bfd6-666d8ea9aece",
        "outputId": "163816d5-bda2-4761-ec7d-f85a3185d2d2"
      },
      "outputs": [
        {
          "name": "stdout",
          "output_type": "stream",
          "text": [
            "It's an uppercase letter\n"
          ]
        }
      ],
      "source": [
        "char = 'A'\n",
        "if char >= 'A' and char <= 'Z':\n",
        "    print(\"It's an uppercase letter\")"
      ]
    },
    {
      "cell_type": "code",
      "execution_count": null,
      "id": "f4f1607e-4153-40f6-a52e-24172b03a84f",
      "metadata": {
        "id": "f4f1607e-4153-40f6-a52e-24172b03a84f",
        "outputId": "878b0d30-a69b-4c6c-f24b-47c07dbbe247"
      },
      "outputs": [
        {
          "name": "stdout",
          "output_type": "stream",
          "text": [
            "Login successful\n"
          ]
        }
      ],
      "source": [
        "username = \"user123\"\n",
        "password = \"password123\"\n",
        "if username == \"user123\" and password == \"password123\":\n",
        "    print(\"Login successful\")"
      ]
    },
    {
      "cell_type": "code",
      "execution_count": null,
      "id": "1fca33b7-afab-4214-bf63-adda931d5377",
      "metadata": {
        "id": "1fca33b7-afab-4214-bf63-adda931d5377",
        "outputId": "2c045580-2cad-42a2-ad22-a2eb016d6ced"
      },
      "outputs": [
        {
          "name": "stdout",
          "output_type": "stream",
          "text": [
            "At least one condition is true\n"
          ]
        }
      ],
      "source": [
        "#OR OPERATOR\n",
        "x = 5\n",
        "y = 10\n",
        "if x > 5 or y > 5:\n",
        "    print(\"At least one condition is true\")"
      ]
    },
    {
      "cell_type": "code",
      "execution_count": null,
      "id": "d73baa42-75ad-49cf-9e95-759e2e610be5",
      "metadata": {
        "id": "d73baa42-75ad-49cf-9e95-759e2e610be5",
        "outputId": "c5ea41e5-967b-4e17-9e57-3a6ca392af00"
      },
      "outputs": [
        {
          "name": "stdout",
          "output_type": "stream",
          "text": [
            "At least one number is positive\n"
          ]
        }
      ],
      "source": [
        "num1 = -5\n",
        "num2 = 10\n",
        "if num1 > 0 or num2 > 0:\n",
        "    print(\"At least one number is positive\")"
      ]
    },
    {
      "cell_type": "code",
      "execution_count": null,
      "id": "a6ddcb1f-1bf0-4722-bc35-1165f8eb5bfc",
      "metadata": {
        "id": "a6ddcb1f-1bf0-4722-bc35-1165f8eb5bfc",
        "outputId": "bac91f02-e0e7-4f13-dbcd-0cb4bcbbe824"
      },
      "outputs": [
        {
          "name": "stdout",
          "output_type": "stream",
          "text": [
            "The number is divisible by 3 or 5\n"
          ]
        }
      ],
      "source": [
        "number = 15\n",
        "if number % 3 == 0 or number % 5 == 0:\n",
        "    print(\"The number is divisible by 3 or 5\")"
      ]
    },
    {
      "cell_type": "code",
      "execution_count": null,
      "id": "c88433aa-5b64-4d07-952c-0478318a3f75",
      "metadata": {
        "id": "c88433aa-5b64-4d07-952c-0478318a3f75",
        "outputId": "0c54a13f-12f5-49af-c94f-a29e61ae41e9"
      },
      "outputs": [
        {
          "name": "stdout",
          "output_type": "stream",
          "text": [
            "at least one is true\n"
          ]
        }
      ],
      "source": [
        "a = 10\n",
        "b = 15\n",
        "if a > 0 or b > 0:\n",
        "    print(\"at least one is true\")"
      ]
    },
    {
      "cell_type": "code",
      "execution_count": null,
      "id": "d1a3617c-2cba-49bb-aa0f-4e6a0d9efc31",
      "metadata": {
        "id": "d1a3617c-2cba-49bb-aa0f-4e6a0d9efc31",
        "outputId": "413ad353-e060-4806-f3f8-204a2f512719"
      },
      "outputs": [
        {
          "name": "stdout",
          "output_type": "stream",
          "text": [
            "least one number is positive\n"
          ]
        }
      ],
      "source": [
        "num1 = 50\n",
        "num2 = 10\n",
        "if num1 > 0 or num2 > 0:\n",
        "    print(\"least one number is positive\")"
      ]
    },
    {
      "cell_type": "code",
      "execution_count": null,
      "id": "2b3475c6-1987-4349-8706-a950dcc3acbf",
      "metadata": {
        "id": "2b3475c6-1987-4349-8706-a950dcc3acbf",
        "outputId": "61018f4a-180a-424d-a451-561836af54b5"
      },
      "outputs": [
        {
          "name": "stdout",
          "output_type": "stream",
          "text": [
            "x is not less than 5\n"
          ]
        }
      ],
      "source": [
        "#NOT Operator\n",
        "x = 10\n",
        "if not (x < 5):\n",
        "    print(\"x is not less than 5\")"
      ]
    },
    {
      "cell_type": "code",
      "execution_count": null,
      "id": "550e51df-16a9-44e6-a46a-e519345db16c",
      "metadata": {
        "id": "550e51df-16a9-44e6-a46a-e519345db16c",
        "outputId": "5c30b8f7-c438-4d49-83ff-bb0f5651c4d7"
      },
      "outputs": [
        {
          "name": "stdout",
          "output_type": "stream",
          "text": [
            "The number is not zero\n"
          ]
        }
      ],
      "source": [
        "number = 5\n",
        "if not (number == 0):\n",
        "    print(\"The number is not zero\")"
      ]
    },
    {
      "cell_type": "code",
      "execution_count": null,
      "id": "0aadfd2d-208c-45f9-a6d1-1c002a900080",
      "metadata": {
        "id": "0aadfd2d-208c-45f9-a6d1-1c002a900080",
        "outputId": "e983cb60-aece-4b9d-b943-3ff7b883b6a0"
      },
      "outputs": [
        {
          "name": "stdout",
          "output_type": "stream",
          "text": [
            "You are an adult\n"
          ]
        }
      ],
      "source": [
        "age = 18\n",
        "if not (age < 18):\n",
        "    print(\"You are an adult\")"
      ]
    },
    {
      "cell_type": "code",
      "execution_count": null,
      "id": "6ca13515-0362-4669-9812-0395ec656734",
      "metadata": {
        "id": "6ca13515-0362-4669-9812-0395ec656734"
      },
      "outputs": [],
      "source": [
        "is_raining = True\n",
        "if not is_raining:\n",
        "    print(\"It's not raining\")"
      ]
    },
    {
      "cell_type": "code",
      "execution_count": null,
      "id": "4491b895-7ff0-473f-a3a7-1a1e4c24efce",
      "metadata": {
        "id": "4491b895-7ff0-473f-a3a7-1a1e4c24efce",
        "outputId": "7495175c-8791-4bb8-cac3-98c56bd38569"
      },
      "outputs": [
        {
          "name": "stdout",
          "output_type": "stream",
          "text": [
            " a is 10\n"
          ]
        }
      ],
      "source": [
        "a = 10\n",
        "if not (a == 0):\n",
        "    print(\" a is 10\")"
      ]
    },
    {
      "cell_type": "code",
      "execution_count": null,
      "id": "a1461641-6e64-4547-ab1d-21d2a5e0324f",
      "metadata": {
        "id": "a1461641-6e64-4547-ab1d-21d2a5e0324f"
      },
      "outputs": [],
      "source": []
    }
  ],
  "metadata": {
    "kernelspec": {
      "display_name": "Python 3 (ipykernel)",
      "language": "python",
      "name": "python3"
    },
    "language_info": {
      "codemirror_mode": {
        "name": "ipython",
        "version": 3
      },
      "file_extension": ".py",
      "mimetype": "text/x-python",
      "name": "python",
      "nbconvert_exporter": "python",
      "pygments_lexer": "ipython3",
      "version": "3.13.0"
    },
    "colab": {
      "provenance": []
    }
  },
  "nbformat": 4,
  "nbformat_minor": 5
}