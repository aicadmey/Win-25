{
  "nbformat": 4,
  "nbformat_minor": 0,
  "metadata": {
    "colab": {
      "provenance": []
    },
    "kernelspec": {
      "name": "python3",
      "display_name": "Python 3"
    },
    "language_info": {
      "name": "python"
    }
  },
  "cells": [
    {
      "cell_type": "markdown",
      "source": [
        "Task 3\n",
        "Practice for arithmetic operation."
      ],
      "metadata": {
        "id": "u-45onuMQQp5"
      }
    },
    {
      "cell_type": "markdown",
      "source": [
        "\n",
        "● Sum operation:"
      ],
      "metadata": {
        "id": "W-rgMulAQsmz"
      }
    },
    {
      "cell_type": "code",
      "source": [
        "\n",
        "# sum two numbers\n",
        "def sum_integers(num1, num2):\n",
        "  \"\"\"Sums two integers.\"\"\"\n",
        "  return num1 + num2\n",
        "\n",
        "# Example usage:\n",
        "result = sum_integers(212, 313)\n",
        "print(result)"
      ],
      "metadata": {
        "colab": {
          "base_uri": "https://localhost:8080/"
        },
        "id": "TTXdKnByQqPp",
        "outputId": "4e400ca9-d927-4194-e8bf-e9e5ddd404f0"
      },
      "execution_count": null,
      "outputs": [
        {
          "output_type": "stream",
          "name": "stdout",
          "text": [
            "525\n"
          ]
        }
      ]
    },
    {
      "cell_type": "code",
      "source": [
        "\n",
        "#sum three  integers\n",
        "def sum_integers(num1, num2,num3):\n",
        "  \"\"\"Sums three integers.\"\"\"\n",
        "  return num1 + num2 + num3\n",
        "\n",
        "# Example usage:\n",
        "result = sum_integers(0, 3, 5)\n",
        "print(result)"
      ],
      "metadata": {
        "colab": {
          "base_uri": "https://localhost:8080/"
        },
        "id": "QltnIpUTTuGm",
        "outputId": "83b735ac-78c4-43d8-db8b-fcf1905a36a3"
      },
      "execution_count": null,
      "outputs": [
        {
          "output_type": "stream",
          "name": "stdout",
          "text": [
            "8\n"
          ]
        }
      ]
    },
    {
      "cell_type": "code",
      "source": [
        "def sum_integers(num1, num2):\n",
        "  \"\"\"Sums two integers.\"\"\"\n",
        "  return num1 + num2\n",
        "\n",
        "# Example usage:\n",
        "result = sum_integers(5, 3)\n",
        "print(result)"
      ],
      "metadata": {
        "colab": {
          "base_uri": "https://localhost:8080/"
        },
        "id": "WgG92GDycVle",
        "outputId": "784d0b87-a6c6-43ce-fa50-d0933787ffd5"
      },
      "execution_count": null,
      "outputs": [
        {
          "output_type": "stream",
          "name": "stdout",
          "text": [
            "8\n"
          ]
        }
      ]
    },
    {
      "cell_type": "markdown",
      "source": [
        "Sun of two floats:"
      ],
      "metadata": {
        "id": "QzLES1GJWyAg"
      }
    },
    {
      "cell_type": "code",
      "source": [
        "\n",
        "def main():\n",
        "\n",
        "    num1 = float(input(\"Enter the first number: \"))\n",
        "\n",
        "\n",
        "    num2 = float(input(\"Enter the second number: \"))\n",
        "\n",
        "    # Calculate the sum\n",
        "    total = num1 + num2\n",
        "\n",
        "\n",
        "    print(f\"The sum of {num1} and {num2} is: {total}\")\n",
        "\n",
        "\n",
        "if __name__ == \"__main__\":\n",
        "    main()"
      ],
      "metadata": {
        "colab": {
          "base_uri": "https://localhost:8080/"
        },
        "id": "H7XR2qBtVx-S",
        "outputId": "db655141-06a8-4e8b-abe8-19b809eae3ec"
      },
      "execution_count": null,
      "outputs": [
        {
          "output_type": "stream",
          "name": "stdout",
          "text": [
            "Enter the first number: 2.09\n",
            "Enter the second number: 67.4\n",
            "The sum of 2.09 and 67.4 is: 69.49000000000001\n"
          ]
        }
      ]
    },
    {
      "cell_type": "code",
      "source": [
        "a=int(input('enter the first number'))\n",
        "b=int(input('enter the second number'))\n",
        "c=int(input ('enter the third number'))\n",
        "print(a+b+c)"
      ],
      "metadata": {
        "colab": {
          "base_uri": "https://localhost:8080/"
        },
        "id": "1HBW1VDYWULS",
        "outputId": "f16624c1-e2a6-4fe7-ec3e-339e8d68eff3"
      },
      "execution_count": null,
      "outputs": [
        {
          "output_type": "stream",
          "name": "stdout",
          "text": [
            "enter the first number21\n",
            "enter the second number453\n",
            "enter the third number086\n",
            "560\n"
          ]
        }
      ]
    },
    {
      "cell_type": "markdown",
      "source": [
        "● Subtract operation:"
      ],
      "metadata": {
        "id": "nSFXwu2JXSFr"
      }
    },
    {
      "cell_type": "code",
      "source": [
        "#sub two integers\n",
        "\n",
        "def sub_integers(num1, num2):\n",
        "  \"\"\"Subs two integers.\"\"\"\n",
        "  return num1 - num2\n",
        "\n",
        "# Example usage:\n",
        "result = sub_integers(26642, 135897)\n",
        "print(result)"
      ],
      "metadata": {
        "colab": {
          "base_uri": "https://localhost:8080/"
        },
        "id": "kT3_WZA9XfpK",
        "outputId": "a9513967-8c19-45b9-b345-dcb83ff67eb6"
      },
      "execution_count": null,
      "outputs": [
        {
          "output_type": "stream",
          "name": "stdout",
          "text": [
            "-109255\n"
          ]
        }
      ]
    },
    {
      "cell_type": "code",
      "source": [
        "\n",
        "# sub two integers.\n",
        "a=int(input('enter the first number'))\n",
        "b=int(input('enter the second number'))\n",
        "print(a-b)"
      ],
      "metadata": {
        "colab": {
          "base_uri": "https://localhost:8080/"
        },
        "id": "T7COZxP9X7_h",
        "outputId": "2dec55ea-74d8-42b1-8aa6-dfe100f7fc61"
      },
      "execution_count": null,
      "outputs": [
        {
          "output_type": "stream",
          "name": "stdout",
          "text": [
            "enter the first number435\n",
            "enter the second number542\n",
            "-107\n"
          ]
        }
      ]
    },
    {
      "cell_type": "code",
      "source": [
        "def sub_integers(num1, num2,num3):\n",
        "  \"\"\"Subs three integers.\"\"\"\n",
        "  return num1 - num2 - num3\n",
        "\n",
        "# Example usage:\n",
        "result = sub_integers(110, 973, 53332)\n",
        "print(result)"
      ],
      "metadata": {
        "colab": {
          "base_uri": "https://localhost:8080/"
        },
        "id": "9PaOAFcGYJ_F",
        "outputId": "1ac2fbec-e8bb-4942-e13e-9b56279d9690"
      },
      "execution_count": null,
      "outputs": [
        {
          "output_type": "stream",
          "name": "stdout",
          "text": [
            "-54195\n"
          ]
        }
      ]
    },
    {
      "cell_type": "code",
      "source": [
        "# Program to sum two integers and subtract another integer\n",
        "def main():\n",
        "\n",
        "    num1 = int(input(\"Enter the first integer: \"))\n",
        "\n",
        "\n",
        "    num2 = int(input(\"Enter the second integer: \"))\n",
        "\n",
        "    # enter the integer to subtract from num1 and num2\n",
        "    num3 = int(input(\"Enter the integer to subtract: \"))\n",
        "\n",
        "    # Calculate the sum of the first two integers\n",
        "    sum_result = num1 + num2\n",
        "\n",
        "    # Subtract the third integer from the sum\n",
        "    final_result = sum_result - num3\n",
        "\n",
        "    # Display the results\n",
        "    print(f\"The sum of {num1} and {num2} is: {sum_result}\")\n",
        "    print(f\"The final result after subtracting {num3} is: {final_result}\")\n",
        "\n",
        "# Run the program\n",
        "if __name__ == \"__main__\":\n",
        "    main()"
      ],
      "metadata": {
        "colab": {
          "base_uri": "https://localhost:8080/"
        },
        "id": "sYKH7IQ6ZEJE",
        "outputId": "f988df12-828a-4b1e-95bf-b2ee2cb100cd"
      },
      "execution_count": null,
      "outputs": [
        {
          "output_type": "stream",
          "name": "stdout",
          "text": [
            "Enter the first integer: 7654\n",
            "Enter the second integer: 6548\n",
            "Enter the integer to subtract: 532245\n",
            "The sum of 7654 and 6548 is: 14202\n",
            "The final result after subtracting 532245 is: -518043\n"
          ]
        }
      ]
    },
    {
      "cell_type": "code",
      "source": [
        "# program to subtract two floats.\n",
        "def main():\n",
        "\n",
        "    num1 = float(input(\"Enter the first number: \"))\n",
        "\n",
        "\n",
        "    num2 = float(input(\"Enter the second number: \"))\n",
        "\n",
        "    # Calculate the sub\n",
        "    total = num1 - num2\n",
        "\n",
        "\n",
        "    print(f\"The sub of {num1} and {num2} is: {total}\")\n",
        "\n",
        "\n",
        "if __name__ == \"__main__\":\n",
        "    main()"
      ],
      "metadata": {
        "colab": {
          "base_uri": "https://localhost:8080/"
        },
        "id": "6Curv0UxZuUS",
        "outputId": "da5acbfc-1f62-4027-cd8f-bdd62a2dd7af"
      },
      "execution_count": null,
      "outputs": [
        {
          "output_type": "stream",
          "name": "stdout",
          "text": [
            "Enter the first number: 321.6\n",
            "Enter the second number: 6322.9\n",
            "The sub of 321.6 and 6322.9 is: -6001.299999999999\n"
          ]
        }
      ]
    },
    {
      "cell_type": "markdown",
      "source": [
        "● Multiple opration."
      ],
      "metadata": {
        "id": "PKcY2PK2aYdU"
      }
    },
    {
      "cell_type": "code",
      "source": [
        "# *ly two numbers.\n",
        "a=int(input('enter the first number'))\n",
        "b=int(input('enter the second number'))\n",
        "print(a*b)"
      ],
      "metadata": {
        "colab": {
          "base_uri": "https://localhost:8080/"
        },
        "id": "I7zO99npak_3",
        "outputId": "0af9ad6e-c15a-40a2-c9f7-c4591a94a15d"
      },
      "execution_count": null,
      "outputs": [
        {
          "output_type": "stream",
          "name": "stdout",
          "text": [
            "enter the first number7654\n",
            "enter the second number5666\n",
            "43367564\n"
          ]
        }
      ]
    },
    {
      "cell_type": "code",
      "source": [
        "\n",
        "# *ly two floats\n",
        "def main():\n",
        "\n",
        "    num1 = float(input(\"Enter the first number: \"))\n",
        "\n",
        "\n",
        "    num2 = float(input(\"Enter the second number: \"))\n",
        "\n",
        "    # Calculate the sum\n",
        "    total = num1 * num2\n",
        "\n",
        "\n",
        "    print(f\"The multiply of {num1} and {num2} is: {total}\")\n",
        "\n",
        "\n",
        "if __name__ == \"__main__\":\n",
        "    main()"
      ],
      "metadata": {
        "colab": {
          "base_uri": "https://localhost:8080/"
        },
        "id": "cow6FKS-awnC",
        "outputId": "f7298523-5aa5-4979-ff52-40372a96cdd3"
      },
      "execution_count": null,
      "outputs": [
        {
          "output_type": "stream",
          "name": "stdout",
          "text": [
            "Enter the first number: 4222.9\n",
            "Enter the second number: 6443\n",
            "The multiply of 4222.9 and 6443.0 is: 27208144.7\n"
          ]
        }
      ]
    },
    {
      "cell_type": "code",
      "source": [
        "def mul_integers(num1, num2,num3):\n",
        "  \"\"\"Mul three integers.\"\"\"\n",
        "  return num1 * num2 * num3\n",
        "\n",
        "# Example usage:\n",
        "result = mul_integers(10, 38, 5976)\n",
        "print(result)"
      ],
      "metadata": {
        "colab": {
          "base_uri": "https://localhost:8080/"
        },
        "id": "Q-MMt5WkbqZP",
        "outputId": "15552f40-4b8c-4d0a-cdf8-afe38e3b64e7"
      },
      "execution_count": null,
      "outputs": [
        {
          "output_type": "stream",
          "name": "stdout",
          "text": [
            "2270880\n"
          ]
        }
      ]
    },
    {
      "cell_type": "code",
      "source": [
        "\n",
        "\n",
        "# *ly two integers.\n",
        "def mul_integers(num1, num2):\n",
        "  \"\"\"Muls two integers.\"\"\"\n",
        "  return num1 * num2\n",
        "\n",
        "# Example usage:\n",
        "result = mul_integers(212, 313)\n",
        "print(result)"
      ],
      "metadata": {
        "colab": {
          "base_uri": "https://localhost:8080/"
        },
        "id": "5zblVptmceao",
        "outputId": "b53b678c-86bc-4b2f-896e-2418a2e33f7e"
      },
      "execution_count": null,
      "outputs": [
        {
          "output_type": "stream",
          "name": "stdout",
          "text": [
            "66356\n"
          ]
        }
      ]
    },
    {
      "cell_type": "code",
      "source": [
        "57a=int(input('enter the first number'))\n",
        "b=int(input('enter the second number'))\n",
        "c=int(input ('enter the third number'))\n",
        "print(a*b*c)"
      ],
      "metadata": {
        "colab": {
          "base_uri": "https://localhost:8080/"
        },
        "id": "nLchiGqvc1Jq",
        "outputId": "0f1816de-967b-4080-a3d2-704cd9b4e44a"
      },
      "execution_count": null,
      "outputs": [
        {
          "output_type": "stream",
          "name": "stdout",
          "text": [
            "enter the first number6533\n",
            "enter the second number3\n",
            "enter the third number67\n",
            "1313133\n"
          ]
        }
      ]
    },
    {
      "cell_type": "markdown",
      "source": [
        "● / operation:"
      ],
      "metadata": {
        "id": "Bz5x2cpJdCug"
      }
    },
    {
      "cell_type": "code",
      "source": [
        "7#Division of three numbers\n",
        "a=int(input('enter the first number'))\n",
        "b=int(input('enter the second number'))\n",
        "c=int(input ('enter the third number'))\n",
        "print(a/b/c)"
      ],
      "metadata": {
        "colab": {
          "base_uri": "https://localhost:8080/"
        },
        "id": "l-5lZok4dI5H",
        "outputId": "8efce43c-5323-4299-e4bd-93229813c0ac"
      },
      "execution_count": null,
      "outputs": [
        {
          "output_type": "stream",
          "name": "stdout",
          "text": [
            "enter the first number7644\n",
            "enter the second number655\n",
            "enter the third number87\n",
            "0.1341405633061332\n"
          ]
        }
      ]
    },
    {
      "cell_type": "code",
      "source": [
        "def div_integers(num1, num2):\n",
        "  \"\"\"divs two integers.\"\"\"\n",
        "  return num1 / num2\n",
        "\n",
        "# Example usage:\n",
        "result = div_integers(212, 313)\n",
        "print(result)"
      ],
      "metadata": {
        "colab": {
          "base_uri": "https://localhost:8080/"
        },
        "id": "mtoh0sytdNw9",
        "outputId": "0276f908-7b76-4919-e7af-7fd4cb4cd041"
      },
      "execution_count": null,
      "outputs": [
        {
          "output_type": "stream",
          "name": "stdout",
          "text": [
            "0.6773162939297125\n"
          ]
        }
      ]
    },
    {
      "cell_type": "code",
      "source": [
        "def main():\n",
        "\n",
        "    num1 = float(input(\"Enter the first number: \"))\n",
        "\n",
        "\n",
        "    num2 = float(input(\"Enter the second number: \"))\n",
        "\n",
        "    # Calculate the div\n",
        "    total = num1 / num2\n",
        "\n",
        "\n",
        "    print(f\"The div of {num1} and {num2} is: {total}\")\n",
        "\n",
        "\n",
        "if __name__ == \"__main__\":\n",
        "    main()"
      ],
      "metadata": {
        "colab": {
          "base_uri": "https://localhost:8080/"
        },
        "id": "o2QxMai0dPrr",
        "outputId": "d3759e99-36b9-4afd-de46-0211b7efe7a7"
      },
      "execution_count": null,
      "outputs": [
        {
          "output_type": "stream",
          "name": "stdout",
          "text": [
            "Enter the first number: 6533\n",
            "Enter the second number: 6544\n",
            "The div of 6533.0 and 6544.0 is: 0.9983190709046454\n"
          ]
        }
      ]
    },
    {
      "cell_type": "code",
      "source": [
        "def sum_integers(num1, num2,num3):\n",
        "  \"\"\"Sums three integers.\"\"\"\n",
        "  return num1 + num2 + num3\n",
        "\n",
        "# Example usage:\n",
        "result = sum_integers(0, 3, 5)\n",
        "print(result)"
      ],
      "metadata": {
        "id": "N2Wn7DkHdSCI"
      },
      "execution_count": null,
      "outputs": []
    },
    {
      "cell_type": "code",
      "source": [
        "a=int(input('enter the first number'))\n",
        "b=int(input('enter the second number'))\n",
        "print(a/b)"
      ],
      "metadata": {
        "colab": {
          "base_uri": "https://localhost:8080/"
        },
        "id": "OFxuTk8JdZz9",
        "outputId": "33fe1290-b698-450f-e487-20ea82dbd3aa"
      },
      "execution_count": null,
      "outputs": [
        {
          "output_type": "stream",
          "name": "stdout",
          "text": [
            "enter the first number5432\n",
            "enter the second number644\n",
            "8.434782608695652\n"
          ]
        }
      ]
    },
    {
      "cell_type": "code",
      "source": [
        "\n",
        "# how to remove error if we / it 1/0, it does not show infinity.\n",
        "a=int(input('enter the first number'))\n",
        "b=int(input('enter the second number'))\n",
        "print(a/b)"
      ],
      "metadata": {
        "colab": {
          "base_uri": "https://localhost:8080/",
          "height": 297
        },
        "id": "dkWVmre6eTcK",
        "outputId": "af3e0dbd-523f-4ed6-9807-a1bcda995d78"
      },
      "execution_count": null,
      "outputs": [
        {
          "name": "stdout",
          "output_type": "stream",
          "text": [
            "enter the first number1\n",
            "enter the second number0\n"
          ]
        },
        {
          "output_type": "error",
          "ename": "ZeroDivisionError",
          "evalue": "division by zero",
          "traceback": [
            "\u001b[0;31m---------------------------------------------------------------------------\u001b[0m",
            "\u001b[0;31mZeroDivisionError\u001b[0m                         Traceback (most recent call last)",
            "\u001b[0;32m<ipython-input-53-3fbfd7cc9c5f>\u001b[0m in \u001b[0;36m<cell line: 4>\u001b[0;34m()\u001b[0m\n\u001b[1;32m      2\u001b[0m \u001b[0ma\u001b[0m\u001b[0;34m=\u001b[0m\u001b[0mint\u001b[0m\u001b[0;34m(\u001b[0m\u001b[0minput\u001b[0m\u001b[0;34m(\u001b[0m\u001b[0;34m'enter the first number'\u001b[0m\u001b[0;34m)\u001b[0m\u001b[0;34m)\u001b[0m\u001b[0;34m\u001b[0m\u001b[0;34m\u001b[0m\u001b[0m\n\u001b[1;32m      3\u001b[0m \u001b[0mb\u001b[0m\u001b[0;34m=\u001b[0m\u001b[0mint\u001b[0m\u001b[0;34m(\u001b[0m\u001b[0minput\u001b[0m\u001b[0;34m(\u001b[0m\u001b[0;34m'enter the second number'\u001b[0m\u001b[0;34m)\u001b[0m\u001b[0;34m)\u001b[0m\u001b[0;34m\u001b[0m\u001b[0;34m\u001b[0m\u001b[0m\n\u001b[0;32m----> 4\u001b[0;31m \u001b[0mprint\u001b[0m\u001b[0;34m(\u001b[0m\u001b[0ma\u001b[0m\u001b[0;34m/\u001b[0m\u001b[0mb\u001b[0m\u001b[0;34m)\u001b[0m\u001b[0;34m\u001b[0m\u001b[0;34m\u001b[0m\u001b[0m\n\u001b[0m",
            "\u001b[0;31mZeroDivisionError\u001b[0m: division by zero"
          ]
        }
      ]
    },
    {
      "cell_type": "markdown",
      "source": [
        "● Module option."
      ],
      "metadata": {
        "id": "lZ5w86BqfIhv"
      }
    },
    {
      "cell_type": "code",
      "source": [
        "a=int(input('enter the first number'))\n",
        "b=int(input('enter the second number'))\n",
        "print(a%b)"
      ],
      "metadata": {
        "colab": {
          "base_uri": "https://localhost:8080/"
        },
        "id": "D0mJYQ7JfSHJ",
        "outputId": "1c3280af-3905-4921-cadc-5d81bf54376f"
      },
      "execution_count": null,
      "outputs": [
        {
          "output_type": "stream",
          "name": "stdout",
          "text": [
            "enter the first number754\n",
            "enter the second number86\n",
            "66\n"
          ]
        }
      ]
    },
    {
      "cell_type": "code",
      "source": [
        "5a=int(input('enter the first number'))\n",
        "b=int(input('enter the second number'))\n",
        "c=int(input ('enter the third number'))\n",
        "print(a+b%c) #helps me to find correct answer by calculator."
      ],
      "metadata": {
        "colab": {
          "base_uri": "https://localhost:8080/"
        },
        "id": "qXzFOoOYfePF",
        "outputId": "77f56c83-65be-4df6-e168-42986f95d49c"
      },
      "execution_count": null,
      "outputs": [
        {
          "output_type": "stream",
          "name": "stdout",
          "text": [
            "enter the first number664\n",
            "enter the second number567\n",
            "enter the third number9776\n",
            "1231\n"
          ]
        }
      ]
    },
    {
      "cell_type": "code",
      "source": [
        "def mod_integers(num1, num2,num3):\n",
        "  \"\"\"Mods three integers.\"\"\"\n",
        "  return num1 % num2 % num3\n",
        "\n",
        "# Example usage:\n",
        "result = mod_integers(77, 377, 58)\n",
        "print(result)"
      ],
      "metadata": {
        "colab": {
          "base_uri": "https://localhost:8080/"
        },
        "id": "FwQlXh2-gcgO",
        "outputId": "564bd0a6-65ad-4d0b-db3b-831dd1ec1bba"
      },
      "execution_count": null,
      "outputs": [
        {
          "output_type": "stream",
          "name": "stdout",
          "text": [
            "19\n"
          ]
        }
      ]
    },
    {
      "cell_type": "code",
      "source": [
        "def main():\n",
        "\n",
        "    num1 = float(input(\"Enter the first number: \"))\n",
        "\n",
        "\n",
        "    num2 = float(input(\"Enter the second number: \"))\n",
        "\n",
        "    # Calculate the mod\n",
        "    total = num1 % num2\n",
        "\n",
        "\n",
        "    print(f\"The mod of {num1} and {num2} is: {total}\")\n",
        "\n",
        "\n",
        "if __name__ == \"__main__\":\n",
        "    main()"
      ],
      "metadata": {
        "colab": {
          "base_uri": "https://localhost:8080/"
        },
        "id": "EEv8sX79g2A6",
        "outputId": "8c79aedc-3cc3-4c7d-a479-0fd2595b6fbd"
      },
      "execution_count": null,
      "outputs": [
        {
          "output_type": "stream",
          "name": "stdout",
          "text": [
            "Enter the first number: 65444\n",
            "Enter the second number: 65444\n",
            "The mod of 65444.0 and 65444.0 is: 0.0\n"
          ]
        }
      ]
    },
    {
      "cell_type": "code",
      "source": [
        "a=int(input('enter the first number'))\n",
        "b=int(input('enter the second number'))\n",
        "c=int(input ('enter the third number'))\n",
        "print(a-b%c)"
      ],
      "metadata": {
        "colab": {
          "base_uri": "https://localhost:8080/"
        },
        "id": "cid1791ahoTG",
        "outputId": "2f4dc832-b5af-4c0d-d35e-71d882cbdd59"
      },
      "execution_count": null,
      "outputs": [
        {
          "output_type": "stream",
          "name": "stdout",
          "text": [
            "enter the first number543\n",
            "enter the second number6544\n",
            "enter the third number65433\n",
            "7087\n"
          ]
        }
      ]
    },
    {
      "cell_type": "markdown",
      "source": [
        "● Assignment part (b)"
      ],
      "metadata": {
        "id": "S391jWvYkmLH"
      }
    },
    {
      "cell_type": "code",
      "source": [
        "#Simple Assignment(=)\n",
        "x = 10  # let assigns the value 10 to the variable x"
      ],
      "metadata": {
        "id": "ZltIMCkMkzrj"
      },
      "execution_count": null,
      "outputs": []
    },
    {
      "cell_type": "code",
      "source": [
        "#Addition Assignment (+=)\n",
        "x += 5  # Equivalent to x = x + 5"
      ],
      "metadata": {
        "id": "GNuah5qllLaA"
      },
      "execution_count": null,
      "outputs": []
    },
    {
      "cell_type": "code",
      "source": [
        "#Division Assignment (/=)\n",
        "x /= 4  # Equivalent to x = x / 4"
      ],
      "metadata": {
        "id": "LX6IM0JAlp_P"
      },
      "execution_count": null,
      "outputs": []
    },
    {
      "cell_type": "code",
      "source": [
        "#Modulus Assignment (%=)\n",
        "x %= 3  # Equivalent to x = x % 3"
      ],
      "metadata": {
        "id": "54kf2BGElxjY"
      },
      "execution_count": null,
      "outputs": []
    },
    {
      "cell_type": "code",
      "source": [
        "#Subtraction Assignment (-=)\n",
        "x -= 3  # Equivalent to x = x - 3"
      ],
      "metadata": {
        "id": "vuVzcN9el7iA"
      },
      "execution_count": null,
      "outputs": []
    }
  ]
}