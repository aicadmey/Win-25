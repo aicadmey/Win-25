{
  "nbformat": 4,
  "nbformat_minor": 0,
  "metadata": {
    "colab": {
      "provenance": []
    },
    "kernelspec": {
      "name": "python3",
      "display_name": "Python 3"
    },
    "language_info": {
      "name": "python"
    }
  },
  "cells": [
    {
      "cell_type": "code",
      "execution_count": null,
      "metadata": {
        "colab": {
          "base_uri": "https://localhost:8080/"
        },
        "id": "RNJHfttN1o60",
        "outputId": "8c80427d-3c84-4731-f08c-0ac90245053d"
      },
      "outputs": [
        {
          "output_type": "stream",
          "name": "stdout",
          "text": [
            "Enter a number: 10\n",
            "Enter a number: 20\n",
            "30\n"
          ]
        }
      ],
      "source": [
        "a= int(input(\"Enter a number: \"))\n",
        "b= int(input(\"Enter a number: \"))\n",
        "sum=a+b    # operator +\n",
        "print(sum)"
      ]
    },
    {
      "cell_type": "code",
      "source": [
        "sisters=int(input(\"Enter the number of sisters: \"))\n",
        "brothers=int(input(\"Enter the number of brothers: \"))\n",
        "siblings=sisters+brothers\n",
        "print(siblings)"
      ],
      "metadata": {
        "colab": {
          "base_uri": "https://localhost:8080/"
        },
        "id": "CNsiDvz457Ek",
        "outputId": "7b186db6-83f8-4bbe-c362-1dbf845bff2c"
      },
      "execution_count": null,
      "outputs": [
        {
          "output_type": "stream",
          "name": "stdout",
          "text": [
            "Enter the number of sisters: 3\n",
            "Enter the number of brothers: 2\n",
            "5\n"
          ]
        }
      ]
    },
    {
      "cell_type": "code",
      "source": [
        "No_of_teachers=int(input(\"Enter no of teachers:\"))\n",
        "No_of_students=int(input(\"Enter no of students:\"))\n",
        "No_of_persons=No_of_teachers+No_of_students\n",
        "print(No_of_persons)\n"
      ],
      "metadata": {
        "colab": {
          "base_uri": "https://localhost:8080/"
        },
        "id": "qe4pUKzP6gg7",
        "outputId": "dcabede5-ecf5-40d3-b672-03ab6f45815f"
      },
      "execution_count": null,
      "outputs": [
        {
          "output_type": "stream",
          "name": "stdout",
          "text": [
            "Enter no of teachers:3\n",
            "Enter no of students:55\n",
            "58\n"
          ]
        }
      ]
    },
    {
      "cell_type": "code",
      "source": [
        "No_of_patients=int(input(\"Enter no of patients:\"))\n",
        "No_of_attendents=int(input(\"Enter no of attendents:\"))\n",
        "No_of_doctors=int(input(\"Enter no of doctors:\"))\n",
        "No_of_persons=No_of_patients+No_of_attendents+No_of_doctors\n",
        "print(No_of_persons)"
      ],
      "metadata": {
        "colab": {
          "base_uri": "https://localhost:8080/"
        },
        "id": "ekCAGoJ27PwN",
        "outputId": "988ba1dc-0a38-4f6d-adcf-72e0e1e16c59"
      },
      "execution_count": null,
      "outputs": [
        {
          "output_type": "stream",
          "name": "stdout",
          "text": [
            "Enter no of patients:10\n",
            "Enter no of attendents:7\n",
            "Enter no of doctors:24\n",
            "41\n"
          ]
        }
      ]
    },
    {
      "cell_type": "code",
      "source": [
        "people_party=int(input(\"Enter no of people in party:\"))\n",
        "people_arriving=int(input(\"Enter no of people arriving:\"))\n",
        "total_people=people_party+people_arriving\n",
        "print(total_people)"
      ],
      "metadata": {
        "colab": {
          "base_uri": "https://localhost:8080/"
        },
        "id": "TGEYiKMj7wWm",
        "outputId": "aa46fc9c-c63e-4720-e289-ca0e828c01bb"
      },
      "execution_count": null,
      "outputs": [
        {
          "output_type": "stream",
          "name": "stdout",
          "text": [
            "Enter no of people in party:30\n",
            "Enter no of people arriving:20\n",
            "50\n"
          ]
        }
      ]
    },
    {
      "cell_type": "code",
      "source": [
        "shoes_purchased=int(input(\"Enter no of shoes purchased:\"))\n",
        "shoes_left=int(input(\"Enter no of shoes left:\"))\n",
        "remaining_shoes=shoes_purchased-shoes_left #operator-\n",
        "print(remaining_shoes)"
      ],
      "metadata": {
        "colab": {
          "base_uri": "https://localhost:8080/"
        },
        "id": "xoT_V_lT8hG8",
        "outputId": "9523aebe-c90f-4eaf-c599-d9a928e4bfb6"
      },
      "execution_count": null,
      "outputs": [
        {
          "output_type": "stream",
          "name": "stdout",
          "text": [
            "Enter no of shoes purchased:20\n",
            "Enter no of shoes left:30\n",
            "-10\n"
          ]
        }
      ]
    },
    {
      "cell_type": "code",
      "source": [
        "students_absent=int(input(\"Enter no of students absent:\"))\n",
        "total_students=int(input(\"Enter no of students present:\"))\n",
        "students_present=students_absent-total_students #operator-\n",
        "print(students_present)\n",
        "\n",
        "\n"
      ],
      "metadata": {
        "colab": {
          "base_uri": "https://localhost:8080/"
        },
        "id": "0ua0oJZl9FML",
        "outputId": "c40e9384-a9d1-48c6-f46f-47fce3989e5a"
      },
      "execution_count": null,
      "outputs": [
        {
          "output_type": "stream",
          "name": "stdout",
          "text": [
            "Enter no of students absent:5\n",
            "Enter no of students present:34\n",
            "-29\n"
          ]
        }
      ]
    },
    {
      "cell_type": "code",
      "source": [
        "no_of_usedpapers=int(input(\"Enter no of used papers:\"))\n",
        "total_papers=int(input(\"Enter no of total papers:\"))\n",
        "left_papers=no_of_usedpapers-total_papers\n",
        "print(left_papers)"
      ],
      "metadata": {
        "colab": {
          "base_uri": "https://localhost:8080/"
        },
        "id": "00CF9hiT_Ir_",
        "outputId": "ff99d5c6-840c-48fa-bd2d-1fda677ed4a5"
      },
      "execution_count": null,
      "outputs": [
        {
          "output_type": "stream",
          "name": "stdout",
          "text": [
            "Enter no of used papers:3\n",
            "Enter no of total papers:8\n",
            "-5\n"
          ]
        }
      ]
    },
    {
      "cell_type": "code",
      "source": [
        "doctors_hospital=int(input(\"Enter no of doctors in hospital:\"))\n",
        "doctors_left=int(input(\"Enter no of doctors left:\"))\n",
        "doctors_remaining=doctors_hospital-doctors_left\n",
        "print(doctors_remaining)\n"
      ],
      "metadata": {
        "colab": {
          "base_uri": "https://localhost:8080/"
        },
        "id": "8SnbXFHLHM-x",
        "outputId": "1c22ae55-1807-4be0-a06e-ff0412971e9e"
      },
      "execution_count": null,
      "outputs": [
        {
          "output_type": "stream",
          "name": "stdout",
          "text": [
            "Enter no of doctors in hospital:45\n",
            "Enter no of doctors left:10\n",
            "35\n"
          ]
        }
      ]
    },
    {
      "cell_type": "code",
      "source": [
        "total_students=int(input(\"Enter no of total students:\"))\n",
        "students_passed=int(input(\"Enter no of students passed:\"))\n",
        "student_failed=total_students-students_passed\n",
        "print(student_failed)"
      ],
      "metadata": {
        "colab": {
          "base_uri": "https://localhost:8080/"
        },
        "id": "LQ7nz4PuHtFZ",
        "outputId": "4695fee9-e571-4460-f2c5-c93b5b4af25c"
      },
      "execution_count": null,
      "outputs": [
        {
          "output_type": "stream",
          "name": "stdout",
          "text": [
            "Enter no of total students:54\n",
            "Enter no of students passed:45\n",
            "9\n"
          ]
        }
      ]
    },
    {
      "cell_type": "code",
      "source": [
        "a= int(input(\"Enter a number: \"))\n",
        "b= int(input(\"Enter a number: \"))\n",
        "multiply =a*b    # operator *\n",
        "print(multiply)"
      ],
      "metadata": {
        "colab": {
          "base_uri": "https://localhost:8080/"
        },
        "id": "zxfAGYcgIcfE",
        "outputId": "cdcbd5dd-61d9-4001-da7e-2e28e221d39c"
      },
      "execution_count": null,
      "outputs": [
        {
          "output_type": "stream",
          "name": "stdout",
          "text": [
            "Enter a number: 2\n",
            "Enter a number: 5\n",
            "10\n"
          ]
        }
      ]
    },
    {
      "cell_type": "code",
      "source": [
        "person=int(input(\"enter the number of persons:\"))\n",
        "crickter=int(input(\"enter the number of cricketers:\"))\n",
        "team=person*crickter\n",
        "print(team)"
      ],
      "metadata": {
        "colab": {
          "base_uri": "https://localhost:8080/"
        },
        "id": "9YjZ0RKVJaVy",
        "outputId": "8acf68cd-01aa-4f8e-9aff-7709d193428a"
      },
      "execution_count": null,
      "outputs": [
        {
          "output_type": "stream",
          "name": "stdout",
          "text": [
            "enter the number of persons:1\n",
            "enter the number of cricketers:12\n",
            "12\n"
          ]
        }
      ]
    },
    {
      "cell_type": "code",
      "source": [
        "length=float(input(\"enter the length:\"))\n",
        "width=float(input(\"enter the width:\"))\n",
        "area=length*width\n",
        "print(area)\n"
      ],
      "metadata": {
        "colab": {
          "base_uri": "https://localhost:8080/"
        },
        "id": "M-8hISWzMYDi",
        "outputId": "7480c89e-696c-4756-e215-9ca51eb6a154"
      },
      "execution_count": null,
      "outputs": [
        {
          "output_type": "stream",
          "name": "stdout",
          "text": [
            "enter the length:73.5\n",
            "enter the width:56.9\n",
            "4182.15\n"
          ]
        }
      ]
    },
    {
      "cell_type": "code",
      "source": [
        "num1=int(input(\"enter the number:\"))\n",
        "num2=int(input(\"enter the number:\"))\n",
        "num3=int(input(\"enter the number:\"))\n",
        "multiply=num1*num2*num3\n",
        "print(multiply)\n"
      ],
      "metadata": {
        "colab": {
          "base_uri": "https://localhost:8080/"
        },
        "id": "kJafb9teOzR3",
        "outputId": "af1298da-07b9-43ea-daa8-11709a68ce27"
      },
      "execution_count": null,
      "outputs": [
        {
          "output_type": "stream",
          "name": "stdout",
          "text": [
            "enter the number:2\n",
            "enter the number:3\n",
            "enter the number:2\n",
            "12\n"
          ]
        }
      ]
    },
    {
      "cell_type": "code",
      "source": [
        "candy_box=int(input(\"Enter the number of candies in the box:\"))\n",
        "no_of_boxes=int(input(\"Enter the number of boxes:\"))\n",
        "total_candies=candy_box*no_of_boxes\n",
        "print(total_candies)\n"
      ],
      "metadata": {
        "colab": {
          "base_uri": "https://localhost:8080/"
        },
        "id": "A4ZxmqATUiR0",
        "outputId": "02091c31-9404-4814-e8f0-69c464292984"
      },
      "execution_count": null,
      "outputs": [
        {
          "output_type": "stream",
          "name": "stdout",
          "text": [
            "Enter the number of candies in the box:43\n",
            "Enter the number of boxes:5\n",
            "215\n"
          ]
        }
      ]
    },
    {
      "cell_type": "code",
      "source": [
        "from __future__ import division\n",
        "a= int(input(\"Enter a number: \"))\n",
        "b= int(input(\"Enter a number: \"))\n",
        "division=a/b    # operator /\n",
        "print(division)"
      ],
      "metadata": {
        "colab": {
          "base_uri": "https://localhost:8080/"
        },
        "id": "M39uEjbsVOmz",
        "outputId": "25089658-1e67-422f-c55b-b6d1ca9e1061"
      },
      "execution_count": null,
      "outputs": [
        {
          "output_type": "stream",
          "name": "stdout",
          "text": [
            "Enter a number: 15\n",
            "Enter a number: 2\n",
            "7.5\n"
          ]
        }
      ]
    },
    {
      "cell_type": "code",
      "source": [
        "no_of_candies=int(input(\"Enter the number of candies:\"))\n",
        "no_of_people=int(input(\"Enter the number of people:\"))\n",
        "each_one_have=no_of_candies/no_of_people\n",
        "print(each_one_have)"
      ],
      "metadata": {
        "colab": {
          "base_uri": "https://localhost:8080/"
        },
        "id": "aquHicsGVzVK",
        "outputId": "4b2e8939-de4b-4002-a490-69b90537f9fd"
      },
      "execution_count": null,
      "outputs": [
        {
          "output_type": "stream",
          "name": "stdout",
          "text": [
            "Enter the number of candies:149\n",
            "Enter the number of people:4\n",
            "37.25\n"
          ]
        }
      ]
    },
    {
      "cell_type": "code",
      "source": [
        "ssignment_pages=float(input(\"Enter the number of ssignment pages:\"))\n",
        "members_group=float(input(\"Enter the number of members group:\"))\n",
        "individual_pages=ssignment_pages/members_group\n",
        "print(individual_pages)"
      ],
      "metadata": {
        "colab": {
          "base_uri": "https://localhost:8080/"
        },
        "id": "pjCJI-BpWfPz",
        "outputId": "ccfd905c-93c6-4b50-abd5-cfeed1f58d16"
      },
      "execution_count": null,
      "outputs": [
        {
          "output_type": "stream",
          "name": "stdout",
          "text": [
            "Enter the number of ssignment pages:20\n",
            "Enter the number of members group:4\n",
            "5.0\n"
          ]
        }
      ]
    },
    {
      "cell_type": "code",
      "source": [
        "money=int(input(\"Enter the amount of money:\"))\n",
        "siblings=int(input(\"Enter the number of siblings:\"))\n",
        "money_per_sibling=money/siblings\n",
        "print(money_per_sibling)"
      ],
      "metadata": {
        "colab": {
          "base_uri": "https://localhost:8080/"
        },
        "id": "YdvdX54tWccg",
        "outputId": "133291d0-502d-4621-a800-0bf5d1745e3f"
      },
      "execution_count": null,
      "outputs": [
        {
          "output_type": "stream",
          "name": "stdout",
          "text": [
            "Enter the amount of money:100\n",
            "Enter the number of siblings:2\n",
            "50.0\n"
          ]
        }
      ]
    },
    {
      "cell_type": "code",
      "source": [
        "people=int(input(\"Enter the number of people:\"))\n",
        "no_of_groups=int(input(\"Enter the number of groups:\"))\n",
        "each_group_have_people=people/no_of_groups\n",
        "print(each_group_have_people)"
      ],
      "metadata": {
        "colab": {
          "base_uri": "https://localhost:8080/"
        },
        "id": "xcukWW1yXiC5",
        "outputId": "3092dbba-28c7-492f-d7ec-76bafa5af79a"
      },
      "execution_count": null,
      "outputs": [
        {
          "output_type": "stream",
          "name": "stdout",
          "text": [
            "Enter the number of people:50\n",
            "Enter the number of groups:5\n",
            "10.0\n"
          ]
        }
      ]
    },
    {
      "cell_type": "code",
      "source": [
        "a= int(input(\"Enter a number: \"))\n",
        "b= int(input(\"Enter a number: \"))\n",
        "modulus=a%b    # operator %\n",
        "print(modulus)"
      ],
      "metadata": {
        "colab": {
          "base_uri": "https://localhost:8080/"
        },
        "id": "cwfQfMrfYZRA",
        "outputId": "fa88b90f-1702-4b77-dced-a9e2d768ffb8"
      },
      "execution_count": null,
      "outputs": [
        {
          "output_type": "stream",
          "name": "stdout",
          "text": [
            "Enter a number: 5\n",
            "Enter a number: 2\n",
            "1\n"
          ]
        }
      ]
    },
    {
      "cell_type": "code",
      "source": [
        "a= float(input(\"Enter a number: \"))\n",
        "b= float(input(\"Enter a number: \"))\n",
        "modulus=a%b    # operator %\n",
        "print(modulus)"
      ],
      "metadata": {
        "id": "K6Yp90RMYzqF",
        "colab": {
          "base_uri": "https://localhost:8080/"
        },
        "outputId": "4dbabd27-a19e-4b3f-d6d9-4b969e6409c9"
      },
      "execution_count": null,
      "outputs": [
        {
          "output_type": "stream",
          "name": "stdout",
          "text": [
            "Enter a number: 15\n",
            "Enter a number: 2\n",
            "1.0\n"
          ]
        }
      ]
    },
    {
      "cell_type": "code",
      "source": [
        "distance=int(input(\"Enter the distance:\"))\n",
        "coordinates=int(input(\"Enter the coordinates:\"))\n",
        "modulus=distance%coordinates\n",
        "print(modulus)\n"
      ],
      "metadata": {
        "id": "B1dtM1ftakz4",
        "colab": {
          "base_uri": "https://localhost:8080/"
        },
        "outputId": "3dd5648d-28dd-43c6-c115-e0dc6c59800c"
      },
      "execution_count": null,
      "outputs": [
        {
          "output_type": "stream",
          "name": "stdout",
          "text": [
            "Enter the distance:100\n",
            "Enter the coordinates:48\n",
            "4\n"
          ]
        }
      ]
    },
    {
      "cell_type": "code",
      "source": [
        "interest_rate=int(input(\"Enter the interest rate:\"))\n",
        "loan_payment=int(input(\"Enter the loan payment:\"))\n",
        "modulus=interest_rate%loan_payment\n",
        "print(modulus)"
      ],
      "metadata": {
        "id": "r5XErUb4alxd",
        "colab": {
          "base_uri": "https://localhost:8080/"
        },
        "outputId": "914f45ba-5391-45f9-e272-553e22b99ece"
      },
      "execution_count": null,
      "outputs": [
        {
          "output_type": "stream",
          "name": "stdout",
          "text": [
            "Enter the interest rate:5\n",
            "Enter the loan payment:10\n",
            "5\n"
          ]
        }
      ]
    },
    {
      "cell_type": "code",
      "source": [
        "level=int(input(\"Enter the level:\"))\n",
        "score=int(input(\"Enter the score:\"))\n",
        "modulus=level%score\n",
        "print(modulus)"
      ],
      "metadata": {
        "id": "E6hS4ixsamCo",
        "colab": {
          "base_uri": "https://localhost:8080/"
        },
        "outputId": "adaf833c-8fbf-4482-a1e5-a9650d4233af"
      },
      "execution_count": null,
      "outputs": [
        {
          "output_type": "stream",
          "name": "stdout",
          "text": [
            "Enter the level:8\n",
            "Enter the score:700\n",
            "8\n"
          ]
        }
      ]
    },
    {
      "cell_type": "code",
      "source": [
        "x=5 # assignment operator=\n",
        "print(x)"
      ],
      "metadata": {
        "colab": {
          "base_uri": "https://localhost:8080/"
        },
        "id": "2eE7rcrxdAN2",
        "outputId": "6b2cc321-4ba1-4a42-8187-2bc548f18844"
      },
      "execution_count": null,
      "outputs": [
        {
          "output_type": "stream",
          "name": "stdout",
          "text": [
            "5\n"
          ]
        }
      ]
    },
    {
      "cell_type": "code",
      "source": [
        "name=\"Nakhsheeb\"\n",
        "print(name)"
      ],
      "metadata": {
        "colab": {
          "base_uri": "https://localhost:8080/"
        },
        "id": "fincimwCdGxX",
        "outputId": "9bb643d3-9099-49ba-b76a-c0b00bb40ec8"
      },
      "execution_count": null,
      "outputs": [
        {
          "output_type": "stream",
          "name": "stdout",
          "text": [
            "Nakhsheeb\n"
          ]
        }
      ]
    },
    {
      "cell_type": "code",
      "source": [
        "age=19\n",
        "print(age)"
      ],
      "metadata": {
        "colab": {
          "base_uri": "https://localhost:8080/"
        },
        "id": "SzoD46PDdPhK",
        "outputId": "f1004305-c6d4-4c19-9e70-7f6fce4bcae5"
      },
      "execution_count": null,
      "outputs": [
        {
          "output_type": "stream",
          "name": "stdout",
          "text": [
            "19\n"
          ]
        }
      ]
    },
    {
      "cell_type": "code",
      "source": [
        "department=\"Artificial Intelligence\"\n",
        "print(department)"
      ],
      "metadata": {
        "colab": {
          "base_uri": "https://localhost:8080/"
        },
        "id": "x-uemc2JdT1G",
        "outputId": "497c1bc1-f00f-4ea7-f395-ae5e0da20ac0"
      },
      "execution_count": null,
      "outputs": [
        {
          "output_type": "stream",
          "name": "stdout",
          "text": [
            "Artificial Intelligence\n"
          ]
        }
      ]
    },
    {
      "cell_type": "code",
      "source": [
        "semester=3\n",
        "print(semester)"
      ],
      "metadata": {
        "colab": {
          "base_uri": "https://localhost:8080/"
        },
        "id": "6L7qS1e3da5A",
        "outputId": "96d8f30a-84e1-4a75-809b-54fa9589abff"
      },
      "execution_count": null,
      "outputs": [
        {
          "output_type": "stream",
          "name": "stdout",
          "text": [
            "3\n"
          ]
        }
      ]
    },
    {
      "cell_type": "code",
      "source": [
        "#assignment operators +=\n",
        "x=25\n",
        "#x=x+5\n",
        "x+=5\n",
        "print(x)"
      ],
      "metadata": {
        "colab": {
          "base_uri": "https://localhost:8080/"
        },
        "id": "hzY_zpcZamfm",
        "outputId": "b5b3024a-2b43-4bb9-e857-184c314fe025"
      },
      "execution_count": null,
      "outputs": [
        {
          "output_type": "stream",
          "name": "stdout",
          "text": [
            "30\n"
          ]
        }
      ]
    },
    {
      "cell_type": "code",
      "source": [
        "ali_age=30\n",
        "#another year passed so\n",
        "#ali_age=ali_age+1\n",
        "ali_age+=1\n",
        "print(ali_age)"
      ],
      "metadata": {
        "colab": {
          "base_uri": "https://localhost:8080/"
        },
        "id": "YV8UFnAhbQcg",
        "outputId": "b30d1bb7-7d4b-4a21-e4dc-34676710f080"
      },
      "execution_count": null,
      "outputs": [
        {
          "output_type": "stream",
          "name": "stdout",
          "text": [
            "31\n"
          ]
        }
      ]
    },
    {
      "cell_type": "code",
      "source": [
        "siblings=2\n",
        "#another two are born\n",
        "#siblings=siblings+2\n",
        "siblings+=2\n",
        "print(siblings)"
      ],
      "metadata": {
        "colab": {
          "base_uri": "https://localhost:8080/"
        },
        "id": "sJz3JhG4blWh",
        "outputId": "8abf933c-0db5-4384-8afd-a2c1bc450b47"
      },
      "execution_count": null,
      "outputs": [
        {
          "output_type": "stream",
          "name": "stdout",
          "text": [
            "4\n"
          ]
        }
      ]
    },
    {
      "cell_type": "code",
      "source": [
        "candies_in_jar=100\n",
        "#another 100 added\n",
        "#candies_in_jar=candies_in_jar+100\n",
        "candies_in_jar+=100\n",
        "print(candies_in_jar)\n"
      ],
      "metadata": {
        "colab": {
          "base_uri": "https://localhost:8080/"
        },
        "id": "xI1vAZHocBoy",
        "outputId": "54b62fcf-47a9-40ab-ce5a-85daeca1e9e9"
      },
      "execution_count": null,
      "outputs": [
        {
          "output_type": "stream",
          "name": "stdout",
          "text": [
            "200\n"
          ]
        }
      ]
    },
    {
      "cell_type": "code",
      "source": [
        "people_sleeping=4\n",
        "#another 3 just slept\n",
        "#people_sleeping=people_sleeping+3\n",
        "people_sleeping+=3\n",
        "print(people_sleeping)"
      ],
      "metadata": {
        "colab": {
          "base_uri": "https://localhost:8080/"
        },
        "id": "82jpU_6ocTmB",
        "outputId": "8fa93ae2-bf5a-41d4-8a0b-d9ab7f4e9584"
      },
      "execution_count": null,
      "outputs": [
        {
          "output_type": "stream",
          "name": "stdout",
          "text": [
            "7\n"
          ]
        }
      ]
    },
    {
      "cell_type": "code",
      "source": [
        "#-=\n",
        "x=25\n",
        "#x=x-5\n",
        "x-=5\n",
        "print(x)"
      ],
      "metadata": {
        "colab": {
          "base_uri": "https://localhost:8080/"
        },
        "id": "9XoWAt-Ocvuk",
        "outputId": "6337af29-60d5-4535-b2cf-235358f78c84"
      },
      "execution_count": null,
      "outputs": [
        {
          "output_type": "stream",
          "name": "stdout",
          "text": [
            "20\n"
          ]
        }
      ]
    },
    {
      "cell_type": "code",
      "source": [
        "people_sleeping=4\n",
        "# 3 just wake up\n",
        "#people_sleeping=people_sleeping-3\n",
        "people_sleeping-=3\n",
        "print(people_sleeping)"
      ],
      "metadata": {
        "colab": {
          "base_uri": "https://localhost:8080/"
        },
        "id": "bvwlF3K9eHr7",
        "outputId": "132fd075-67a6-4f27-cd0d-85221bc9c3fc"
      },
      "execution_count": null,
      "outputs": [
        {
          "output_type": "stream",
          "name": "stdout",
          "text": [
            "1\n"
          ]
        }
      ]
    },
    {
      "cell_type": "code",
      "source": [
        "candies_in_jar=500\n",
        "# 100 removed\n",
        "#candies_in_jar=candies_in_jar-100\n",
        "candies_in_jar-=100\n",
        "print(candies_in_jar)\n"
      ],
      "metadata": {
        "colab": {
          "base_uri": "https://localhost:8080/"
        },
        "id": "YVCT-dxUeZsu",
        "outputId": "aa13ac2c-cf9f-467b-aa7f-e9db2b0ab545"
      },
      "execution_count": null,
      "outputs": [
        {
          "output_type": "stream",
          "name": "stdout",
          "text": [
            "400\n"
          ]
        }
      ]
    },
    {
      "cell_type": "code",
      "source": [
        "players=8\n",
        "#two got injured\n",
        "#players=players-2\n",
        "players-=2\n",
        "print(players)"
      ],
      "metadata": {
        "colab": {
          "base_uri": "https://localhost:8080/"
        },
        "id": "oKEEgvsAewIV",
        "outputId": "b3f4729c-d212-4be7-ca06-152bb6de00ad"
      },
      "execution_count": null,
      "outputs": [
        {
          "output_type": "stream",
          "name": "stdout",
          "text": [
            "6\n"
          ]
        }
      ]
    },
    {
      "cell_type": "code",
      "source": [
        "mobiles=5\n",
        "#one's battery dead\n",
        "#mobiles=mobiles-1\n",
        "mobiles-=1\n",
        "print(mobiles)"
      ],
      "metadata": {
        "colab": {
          "base_uri": "https://localhost:8080/"
        },
        "id": "ljrMWesAfsEr",
        "outputId": "fb079128-1fca-41b2-d15e-828015ee9919"
      },
      "execution_count": null,
      "outputs": [
        {
          "output_type": "stream",
          "name": "stdout",
          "text": [
            "4\n"
          ]
        }
      ]
    },
    {
      "cell_type": "code",
      "source": [
        "#*=\n",
        "x=25\n",
        "#x=x*5\n",
        "x*=5\n",
        "print(x)"
      ],
      "metadata": {
        "colab": {
          "base_uri": "https://localhost:8080/"
        },
        "id": "22gOGYWYgAUM",
        "outputId": "b3449207-c894-4536-d373-7546f66cd67d"
      },
      "execution_count": null,
      "outputs": [
        {
          "output_type": "stream",
          "name": "stdout",
          "text": [
            "125\n"
          ]
        }
      ]
    },
    {
      "cell_type": "code",
      "source": [
        "team=8\n",
        "#just got doubled\n",
        "# team=team*2\n",
        "team*=2\n",
        "print(team)"
      ],
      "metadata": {
        "colab": {
          "base_uri": "https://localhost:8080/"
        },
        "id": "S3owJ3_sgf7A",
        "outputId": "0fe8cba9-d946-4609-a16d-480bd1e30d68"
      },
      "execution_count": null,
      "outputs": [
        {
          "output_type": "stream",
          "name": "stdout",
          "text": [
            "16\n"
          ]
        }
      ]
    },
    {
      "cell_type": "code",
      "source": [
        "codes=5\n",
        "#punishment got doubled\n",
        "#codes=codes*2\n",
        "codes*=2\n",
        "print(codes)"
      ],
      "metadata": {
        "colab": {
          "base_uri": "https://localhost:8080/"
        },
        "id": "MvF9dLKRg6kF",
        "outputId": "78b76748-524b-4e8f-c581-d5749b9947f2"
      },
      "execution_count": null,
      "outputs": [
        {
          "output_type": "stream",
          "name": "stdout",
          "text": [
            "10\n"
          ]
        }
      ]
    },
    {
      "cell_type": "code",
      "source": [
        "homework=2\n",
        "#punishment got trippled\n",
        "#homework=homework*3\n",
        "homework*=3\n",
        "print(homework)"
      ],
      "metadata": {
        "colab": {
          "base_uri": "https://localhost:8080/"
        },
        "id": "4tlKn8RuhPay",
        "outputId": "3a9ecf43-b7fd-4686-9679-8282657dc76c"
      },
      "execution_count": null,
      "outputs": [
        {
          "output_type": "stream",
          "name": "stdout",
          "text": [
            "6\n"
          ]
        }
      ]
    },
    {
      "cell_type": "code",
      "source": [
        "laptop_working=5\n",
        "# team got multiplied by 3 so more laptops\n",
        "#laptop_working=laptop_working*3\n",
        "laptop_working*=3\n",
        "print(laptop_working)\n"
      ],
      "metadata": {
        "colab": {
          "base_uri": "https://localhost:8080/"
        },
        "id": "UUylacbShmWi",
        "outputId": "f73eeede-be7f-4973-c4ed-c1d00d97db83"
      },
      "execution_count": null,
      "outputs": [
        {
          "output_type": "stream",
          "name": "stdout",
          "text": [
            "15\n"
          ]
        }
      ]
    },
    {
      "cell_type": "code",
      "source": [
        "#/=\n",
        "x=25\n",
        "#x=x/5\n",
        "x/=5\n",
        "print(x)\n"
      ],
      "metadata": {
        "colab": {
          "base_uri": "https://localhost:8080/"
        },
        "id": "P-uhjyo8iQYe",
        "outputId": "a652e667-b18b-4938-ca1a-cfac27b8a803"
      },
      "execution_count": null,
      "outputs": [
        {
          "output_type": "stream",
          "name": "stdout",
          "text": [
            "5.0\n"
          ]
        }
      ]
    },
    {
      "cell_type": "code",
      "source": [
        "team=10\n",
        "#divided in two parts\n",
        "#team=team/2\n",
        "team/=2\n",
        "print(team)"
      ],
      "metadata": {
        "colab": {
          "base_uri": "https://localhost:8080/"
        },
        "id": "UZUSrPjRikTw",
        "outputId": "7a992cd9-089e-4dac-bdd2-6c2412dca677"
      },
      "execution_count": null,
      "outputs": [
        {
          "output_type": "stream",
          "name": "stdout",
          "text": [
            "5.0\n"
          ]
        }
      ]
    },
    {
      "cell_type": "code",
      "source": [
        "candies=100\n",
        "#divide among 2 siblings\n",
        "#candies=candies/2\n",
        "candies/=2\n",
        "print(candies)"
      ],
      "metadata": {
        "colab": {
          "base_uri": "https://localhost:8080/"
        },
        "id": "S8i__2j8i7cP",
        "outputId": "0e158db9-c76a-42a0-ecb6-a375bc0221f3"
      },
      "execution_count": null,
      "outputs": [
        {
          "output_type": "stream",
          "name": "stdout",
          "text": [
            "50.0\n"
          ]
        }
      ]
    },
    {
      "cell_type": "code",
      "source": [
        "money=100\n",
        "#divide in 2 siblings\n",
        "#money=money/2\n",
        "money /=2\n",
        "print(money)"
      ],
      "metadata": {
        "colab": {
          "base_uri": "https://localhost:8080/"
        },
        "id": "UO4uu1f2jJcU",
        "outputId": "a61d99c0-321b-4554-a1b3-f5cc4a91a53f"
      },
      "execution_count": null,
      "outputs": [
        {
          "output_type": "stream",
          "name": "stdout",
          "text": [
            "50.0\n"
          ]
        }
      ]
    },
    {
      "cell_type": "code",
      "source": [
        "pizza_slices=12\n",
        "#divide in 6 family members\n",
        "#pizza_slices=pizza_slices/6\n",
        "pizza_slices/=6\n",
        "print(pizza_slices)"
      ],
      "metadata": {
        "colab": {
          "base_uri": "https://localhost:8080/"
        },
        "id": "JHzfNHMLjz3a",
        "outputId": "d605f643-f9d0-4f60-db6d-919633fee5c8"
      },
      "execution_count": null,
      "outputs": [
        {
          "output_type": "stream",
          "name": "stdout",
          "text": [
            "2.0\n"
          ]
        }
      ]
    },
    {
      "cell_type": "code",
      "source": [
        "#%=\n",
        "x=35\n",
        "#x=x%2\n",
        "x%=2\n",
        "print(x)\n",
        "\n"
      ],
      "metadata": {
        "colab": {
          "base_uri": "https://localhost:8080/"
        },
        "id": "P4nmYQpEkR73",
        "outputId": "ccca21d0-e9f8-49e6-feba-4ae34076598c"
      },
      "execution_count": null,
      "outputs": [
        {
          "output_type": "stream",
          "name": "stdout",
          "text": [
            "17.5\n"
          ]
        }
      ]
    },
    {
      "cell_type": "code",
      "source": [
        "x=50\n",
        "#x=x%5\n",
        "x%=2\n",
        "print(x)"
      ],
      "metadata": {
        "id": "i5p0_rPekwUD",
        "colab": {
          "base_uri": "https://localhost:8080/"
        },
        "outputId": "1938cbda-7d27-4a1f-f1fa-6166b4762a6e"
      },
      "execution_count": null,
      "outputs": [
        {
          "output_type": "stream",
          "name": "stdout",
          "text": [
            "0\n"
          ]
        }
      ]
    },
    {
      "cell_type": "code",
      "source": [
        "x=44\n",
        "#x=x%2\n",
        "x%=2\n",
        "print(x)"
      ],
      "metadata": {
        "id": "L6mY81mXkw7T",
        "colab": {
          "base_uri": "https://localhost:8080/"
        },
        "outputId": "e7ed6d0e-2e71-44f3-cbe3-2eea8f6b7890"
      },
      "execution_count": null,
      "outputs": [
        {
          "output_type": "stream",
          "name": "stdout",
          "text": [
            "0\n"
          ]
        }
      ]
    },
    {
      "cell_type": "code",
      "source": [
        "x=56\n",
        "#x=x%3\n",
        "x%=3\n",
        "print(x)"
      ],
      "metadata": {
        "id": "SMNxI5IhkxKL",
        "colab": {
          "base_uri": "https://localhost:8080/"
        },
        "outputId": "d6c282c3-3a98-424b-ad86-7f6eae6f1fe2"
      },
      "execution_count": null,
      "outputs": [
        {
          "output_type": "stream",
          "name": "stdout",
          "text": [
            "2\n"
          ]
        }
      ]
    },
    {
      "cell_type": "code",
      "source": [
        "x=108\n",
        "#x=x%33\n",
        "x%=33\n",
        "print(x)"
      ],
      "metadata": {
        "id": "0E7-QydvkxYG",
        "colab": {
          "base_uri": "https://localhost:8080/"
        },
        "outputId": "da4f4159-32dc-4361-ca9b-fddbe7f9a7b5"
      },
      "execution_count": null,
      "outputs": [
        {
          "output_type": "stream",
          "name": "stdout",
          "text": [
            "9\n"
          ]
        }
      ]
    }
  ]
}