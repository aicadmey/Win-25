{
  "nbformat": 4,
  "nbformat_minor": 0,
  "metadata": {
    "colab": {
      "provenance": []
    },
    "kernelspec": {
      "name": "python3",
      "display_name": "Python 3"
    },
    "language_info": {
      "name": "python"
    }
  },
  "cells": [
    {
      "cell_type": "code",
      "execution_count": null,
      "metadata": {
        "colab": {
          "base_uri": "https://localhost:8080/"
        },
        "id": "jYKPsPyWgZ5R",
        "outputId": "8bf2594a-e9ac-4273-ca4d-6ea722b51870"
      },
      "outputs": [
        {
          "output_type": "stream",
          "name": "stdout",
          "text": [
            "True\n",
            "True\n",
            "False\n",
            "False\n",
            "False\n"
          ]
        }
      ],
      "source": [
        "\n",
        "#Ex 1          #and ope\n",
        "x = 5\n",
        "print(x > 0 and x< 20)\n",
        "\n",
        "#Ex 2\n",
        "str1 = \"mango\"\n",
        "str2 = \"banana\"\n",
        "\n",
        "print(\"m\" in str1 and \"b\" in str2)\n",
        "\n",
        "#Ex 3\n",
        "num1=30\n",
        "print(num1>50 and num1<20)\n",
        "\n",
        "#Ex 4\n",
        "bol=True\n",
        "print(bol>0 and bol is False)\n",
        "\n",
        "#Ex 5\n",
        "y=4\n",
        "print(y>4.9 and y==5.0)\n"
      ]
    },
    {
      "cell_type": "code",
      "source": [
        "\n",
        "#Ex 1                 #oR ope\n",
        "x=3\n",
        "print(x>0 or x<10)\n",
        "\n",
        "#Ex 2\n",
        "a=5\n",
        "b=7\n",
        "print(a>6 or b==9)\n",
        "\n",
        "#Ex 3\n",
        "num1=50\n",
        "print(num1<40 or num1<70)\n",
        "\n",
        "#Ex 4\n",
        "bol=False\n",
        "print(bol<0 or bol is True)\n",
        "\n",
        "#Ex 5\n",
        "y=3\n",
        "print(y<2.9 or y==3.0)\n"
      ],
      "metadata": {
        "colab": {
          "base_uri": "https://localhost:8080/"
        },
        "id": "zS14_UJYmEG4",
        "outputId": "088d22b0-4604-48d1-bed5-097583ca6679"
      },
      "execution_count": null,
      "outputs": [
        {
          "output_type": "stream",
          "name": "stdout",
          "text": [
            "True\n",
            "False\n",
            "True\n",
            "False\n",
            "True\n"
          ]
        }
      ]
    },
    {
      "cell_type": "code",
      "source": [
        "\n",
        "#EX 1            #not ope\n",
        "st1 = \"apple\"\n",
        "print(not \"a\" in st1)\n",
        "\n",
        "#Ex 2\n",
        "bol = True\n",
        "print(not 0)\n",
        "\n",
        "#Ex 3\n",
        "x = 2\n",
        "print(not x > 10)\n",
        "\n",
        "#Ex 4\n",
        "num1 = 57\n",
        "print(not (num1 > 50 and num1 < 60))\n",
        "\n",
        "#Ex 5\n",
        "y = 4\n",
        "print(not y == 4)\n",
        "\n",
        "\n",
        "\n",
        "\n",
        "\n"
      ],
      "metadata": {
        "colab": {
          "base_uri": "https://localhost:8080/"
        },
        "id": "aeWGhCxNoKYg",
        "outputId": "f5a1ef25-f647-49f6-c5ef-4e7e7a28f82b"
      },
      "execution_count": null,
      "outputs": [
        {
          "output_type": "stream",
          "name": "stdout",
          "text": [
            "False\n",
            "True\n",
            "True\n",
            "False\n",
            "False\n"
          ]
        }
      ]
    }
  ]
}