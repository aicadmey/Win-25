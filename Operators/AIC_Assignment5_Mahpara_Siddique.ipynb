{
  "nbformat": 4,
  "nbformat_minor": 0,
  "metadata": {
    "colab": {
      "provenance": []
    },
    "kernelspec": {
      "name": "python3",
      "display_name": "Python 3"
    },
    "language_info": {
      "name": "python"
    }
  },
  "cells": [
    {
      "cell_type": "markdown",
      "source": [
        "**Conditions**"
      ],
      "metadata": {
        "id": "vzCPmgBc35Vf"
      }
    },
    {
      "cell_type": "markdown",
      "source": [
        "**If**"
      ],
      "metadata": {
        "id": "D4_CdKbP3_c1"
      }
    },
    {
      "cell_type": "code",
      "source": [
        "# example1\n",
        "num = 5\n",
        "if num > 0:\n",
        "  print(\"The number is positive\")"
      ],
      "metadata": {
        "colab": {
          "base_uri": "https://localhost:8080/"
        },
        "id": "GkZbnNHl4Bvs",
        "outputId": "fd170d9e-b2c9-45c7-a778-bb29f5c4f0b0"
      },
      "execution_count": null,
      "outputs": [
        {
          "output_type": "stream",
          "name": "stdout",
          "text": [
            "The number is positive\n"
          ]
        }
      ]
    },
    {
      "cell_type": "code",
      "source": [
        "# example2\n",
        "text = \"Hello Python\"\n",
        "if \"Hello\" in text:\n",
        "  print(\"Substring Found\")"
      ],
      "metadata": {
        "colab": {
          "base_uri": "https://localhost:8080/"
        },
        "id": "aOIXIsnw5CZR",
        "outputId": "4344eb87-c328-4a89-9f58-3df54e881b72"
      },
      "execution_count": null,
      "outputs": [
        {
          "output_type": "stream",
          "name": "stdout",
          "text": [
            "Substring Found\n"
          ]
        }
      ]
    },
    {
      "cell_type": "code",
      "source": [
        "# example3\n",
        "number = 10\n",
        "if number % 2 ==0:\n",
        "  print(\"The number is even\")"
      ],
      "metadata": {
        "colab": {
          "base_uri": "https://localhost:8080/"
        },
        "id": "SawMRZgk5S59",
        "outputId": "94a9b9c4-2a04-4b9b-a0f4-1f635a649ca7"
      },
      "execution_count": null,
      "outputs": [
        {
          "output_type": "stream",
          "name": "stdout",
          "text": [
            "The number is even\n"
          ]
        }
      ]
    },
    {
      "cell_type": "code",
      "source": [
        "# example4\n",
        "username = \"admin\"\n",
        "if username == \"admin\":\n",
        "  print(\"Welcome, admin\")"
      ],
      "metadata": {
        "colab": {
          "base_uri": "https://localhost:8080/"
        },
        "id": "yxUz3F5Y5mcs",
        "outputId": "51af3caf-e24d-47db-c216-72a45870fd84"
      },
      "execution_count": null,
      "outputs": [
        {
          "output_type": "stream",
          "name": "stdout",
          "text": [
            "Welcome, admin\n"
          ]
        }
      ]
    },
    {
      "cell_type": "code",
      "source": [
        "# example5\n",
        "items = [1, 2, 3]\n",
        "if items:\n",
        "  print(\"The list is not empty.\")"
      ],
      "metadata": {
        "colab": {
          "base_uri": "https://localhost:8080/"
        },
        "id": "GppGMlN-6MAW",
        "outputId": "3627303c-a31a-464f-8c85-a13ebc598609"
      },
      "execution_count": null,
      "outputs": [
        {
          "output_type": "stream",
          "name": "stdout",
          "text": [
            "The list is not empty.\n"
          ]
        }
      ]
    },
    {
      "cell_type": "code",
      "source": [
        "# example6\n",
        "age = 20\n",
        "if age >= 20:\n",
        "  print(\"Your are eligible to vote\")"
      ],
      "metadata": {
        "colab": {
          "base_uri": "https://localhost:8080/"
        },
        "id": "W9xTjemV6bow",
        "outputId": "528441e5-0b82-4027-e4c6-9a66876987ed"
      },
      "execution_count": null,
      "outputs": [
        {
          "output_type": "stream",
          "name": "stdout",
          "text": [
            "Your are eligible to vote\n"
          ]
        }
      ]
    },
    {
      "cell_type": "code",
      "source": [
        "# example7\n",
        "active = True\n",
        "if active:\n",
        "  print(\"The account is active\")"
      ],
      "metadata": {
        "colab": {
          "base_uri": "https://localhost:8080/"
        },
        "id": "ev0EHzJ46rlK",
        "outputId": "e2bb9609-0794-4c45-ef1c-8733e23a0583"
      },
      "execution_count": null,
      "outputs": [
        {
          "output_type": "stream",
          "name": "stdout",
          "text": [
            "The account is active\n"
          ]
        }
      ]
    },
    {
      "cell_type": "code",
      "source": [
        "# example8\n",
        "num = 7\n",
        "if num % 2 != 0:\n",
        "  print(\"The number is odd\")"
      ],
      "metadata": {
        "colab": {
          "base_uri": "https://localhost:8080/"
        },
        "id": "RSh0YIgq65H1",
        "outputId": "9f9dedc2-1a02-49d3-f0a6-70c6043de25e"
      },
      "execution_count": null,
      "outputs": [
        {
          "output_type": "stream",
          "name": "stdout",
          "text": [
            "The number is odd\n"
          ]
        }
      ]
    },
    {
      "cell_type": "code",
      "source": [
        "# example9\n",
        "num = 7\n",
        "if num > 1:\n",
        "  print(\"Everything is alright\")"
      ],
      "metadata": {
        "colab": {
          "base_uri": "https://localhost:8080/"
        },
        "id": "036sKr-E7h0r",
        "outputId": "fe4fc674-3289-4762-b5b5-8e5720423450"
      },
      "execution_count": null,
      "outputs": [
        {
          "output_type": "stream",
          "name": "stdout",
          "text": [
            "Everything is alright\n"
          ]
        }
      ]
    },
    {
      "cell_type": "code",
      "source": [
        "# example10\n",
        "pearson = True\n",
        "if pearson:\n",
        "  print(\"The user is off\")"
      ],
      "metadata": {
        "colab": {
          "base_uri": "https://localhost:8080/"
        },
        "id": "IpkTz2Yh8Ku9",
        "outputId": "dbff7198-fe79-4f14-8c38-de6ede21bb79"
      },
      "execution_count": null,
      "outputs": [
        {
          "output_type": "stream",
          "name": "stdout",
          "text": [
            "The user is off\n"
          ]
        }
      ]
    },
    {
      "cell_type": "markdown",
      "source": [
        "**else condition**"
      ],
      "metadata": {
        "id": "rmFBXa-f9LEK"
      }
    },
    {
      "cell_type": "code",
      "source": [
        "# example1\n",
        "num = 3\n",
        "if num % 2 == 0:\n",
        "  print(\"Even Number\")\n",
        "else:\n",
        "    print(\"Odd Number\")"
      ],
      "metadata": {
        "colab": {
          "base_uri": "https://localhost:8080/"
        },
        "id": "e7AzLV619RaC",
        "outputId": "db3ebc3f-00bf-4481-ed55-c3695d6fce3b"
      },
      "execution_count": null,
      "outputs": [
        {
          "output_type": "stream",
          "name": "stdout",
          "text": [
            "Odd Number\n"
          ]
        }
      ]
    },
    {
      "cell_type": "code",
      "source": [
        "# example2\n",
        "planet = -1\n",
        "if planet > 0:\n",
        "  print(\"Positive Number\")\n",
        "else:\n",
        "  print(\"Non-positive Number\")"
      ],
      "metadata": {
        "colab": {
          "base_uri": "https://localhost:8080/"
        },
        "id": "zONnZ236-Zml",
        "outputId": "56810e1d-f63c-41df-f8ca-4e0d5e87a937"
      },
      "execution_count": null,
      "outputs": [
        {
          "output_type": "stream",
          "name": "stdout",
          "text": [
            "Non-positive Number\n"
          ]
        }
      ]
    },
    {
      "cell_type": "code",
      "source": [
        "# example3\n",
        "username = \"guest\"\n",
        "if username == \"admin\":\n",
        "    print(\"Welcome, admin!\")\n",
        "else:\n",
        "    print(\"Access denied.\")"
      ],
      "metadata": {
        "colab": {
          "base_uri": "https://localhost:8080/"
        },
        "id": "6ico0U0D_FMv",
        "outputId": "d46a5231-0fe4-4172-e832-06bddb8c7b61"
      },
      "execution_count": null,
      "outputs": [
        {
          "output_type": "stream",
          "name": "stdout",
          "text": [
            "Access denied.\n"
          ]
        }
      ]
    },
    {
      "cell_type": "code",
      "source": [
        "# example4\n",
        "temperature = 15\n",
        "if temperature > 30:\n",
        "    print(\"Hot weather\")\n",
        "else:\n",
        "    print(\"Cool weather\")"
      ],
      "metadata": {
        "colab": {
          "base_uri": "https://localhost:8080/"
        },
        "id": "SDNFj_MM_PGZ",
        "outputId": "0b64732c-880f-45d4-8eae-e898d6747de2"
      },
      "execution_count": null,
      "outputs": [
        {
          "output_type": "stream",
          "name": "stdout",
          "text": [
            "Cool weather\n"
          ]
        }
      ]
    },
    {
      "cell_type": "code",
      "source": [
        "# example5\n",
        "time = 21\n",
        "if time < 18:\n",
        "    print(\"Daytime\")\n",
        "else:\n",
        "    print(\"Nighttime\")"
      ],
      "metadata": {
        "colab": {
          "base_uri": "https://localhost:8080/"
        },
        "id": "cqaxsKuk_pRp",
        "outputId": "acfb8d83-68c1-4d78-9cd4-13865b7e1936"
      },
      "execution_count": null,
      "outputs": [
        {
          "output_type": "stream",
          "name": "stdout",
          "text": [
            "Nighttime\n"
          ]
        }
      ]
    },
    {
      "cell_type": "code",
      "source": [
        "# example6\n",
        "marks = 45\n",
        "if marks >= 50:\n",
        "    print(\"Pass\")\n",
        "else:\n",
        "    print(\"Fail\")"
      ],
      "metadata": {
        "colab": {
          "base_uri": "https://localhost:8080/"
        },
        "id": "0CeUp1Sw_0E1",
        "outputId": "7e0fcda2-107d-4056-e98e-f34fd4646270"
      },
      "execution_count": null,
      "outputs": [
        {
          "output_type": "stream",
          "name": "stdout",
          "text": [
            "Fail\n"
          ]
        }
      ]
    },
    {
      "cell_type": "code",
      "source": [
        "# example7\n",
        "purchases = 10\n",
        "if purchases > 20:\n",
        "    print(\"Discount applied\")\n",
        "else:\n",
        "    print(\"No discount\")"
      ],
      "metadata": {
        "colab": {
          "base_uri": "https://localhost:8080/"
        },
        "id": "SArmrEa6_7bx",
        "outputId": "d19f3c9d-0460-4537-ed6a-2e5289fe14d7"
      },
      "execution_count": null,
      "outputs": [
        {
          "output_type": "stream",
          "name": "stdout",
          "text": [
            "No discount\n"
          ]
        }
      ]
    },
    {
      "cell_type": "code",
      "source": [
        "# example8\n",
        "text = \"HELLO\"\n",
        "if text.islower():\n",
        "    print(\"String is in lowercase\")\n",
        "else:\n",
        "    print(\"String is not in lowercase\")"
      ],
      "metadata": {
        "colab": {
          "base_uri": "https://localhost:8080/"
        },
        "id": "n4hZ0BIAADqp",
        "outputId": "493af750-5b1c-4335-da9a-e8d52fa807a2"
      },
      "execution_count": null,
      "outputs": [
        {
          "output_type": "stream",
          "name": "stdout",
          "text": [
            "String is not in lowercase\n"
          ]
        }
      ]
    },
    {
      "cell_type": "code",
      "source": [
        "# example9\n",
        "age = 12\n",
        "if age >= 18:\n",
        "    print(\"Adult\")\n",
        "else:\n",
        "    print(\"Minor\")"
      ],
      "metadata": {
        "colab": {
          "base_uri": "https://localhost:8080/"
        },
        "id": "e5z-SqLJALG1",
        "outputId": "6efc91d6-64ab-4662-9420-486ebcf5764c"
      },
      "execution_count": null,
      "outputs": [
        {
          "output_type": "stream",
          "name": "stdout",
          "text": [
            "Minor\n"
          ]
        }
      ]
    },
    {
      "cell_type": "code",
      "source": [
        "# example10\n",
        "num = 8\n",
        "if num > 10:\n",
        "    print(\"Greater than 10\")\n",
        "else:\n",
        "    print(\"10 or less\")"
      ],
      "metadata": {
        "colab": {
          "base_uri": "https://localhost:8080/"
        },
        "id": "Ur0dbYynBClt",
        "outputId": "4d22c2a1-98eb-4fc6-f310-2ca6298b5375"
      },
      "execution_count": null,
      "outputs": [
        {
          "output_type": "stream",
          "name": "stdout",
          "text": [
            "10 or less\n"
          ]
        }
      ]
    },
    {
      "cell_type": "markdown",
      "source": [
        "**elif condition**"
      ],
      "metadata": {
        "id": "CW_Bz1qgBMCQ"
      }
    },
    {
      "cell_type": "code",
      "source": [
        "# example1\n",
        "moon= -5\n",
        "if moon > 0:\n",
        "    print(\"Positive number\")\n",
        "elif moon < 0:\n",
        "    print(\"Negative number\")"
      ],
      "metadata": {
        "colab": {
          "base_uri": "https://localhost:8080/"
        },
        "id": "k8zF3qTvBOrS",
        "outputId": "080a60b0-252c-4861-8532-aae0a95e9c87"
      },
      "execution_count": null,
      "outputs": [
        {
          "output_type": "stream",
          "name": "stdout",
          "text": [
            "Negative number\n"
          ]
        }
      ]
    },
    {
      "cell_type": "code",
      "source": [
        "# example2\n",
        "marks = 85\n",
        "if marks >= 90:\n",
        "    print(\"Grade: A\")\n",
        "elif marks >= 75:\n",
        "    print(\"Grade: B\")"
      ],
      "metadata": {
        "colab": {
          "base_uri": "https://localhost:8080/"
        },
        "id": "YKoQ4rXsBjDV",
        "outputId": "8dd910cb-861c-4885-d9f9-844562a1dd39"
      },
      "execution_count": null,
      "outputs": [
        {
          "output_type": "stream",
          "name": "stdout",
          "text": [
            "Grade: B\n"
          ]
        }
      ]
    },
    {
      "cell_type": "code",
      "source": [
        "# example3\n",
        "temperature = 35\n",
        "if temperature > 40:\n",
        "    print(\"It's very hot!\")\n",
        "elif temperature > 20:\n",
        "    print(\"It's warm.\")"
      ],
      "metadata": {
        "colab": {
          "base_uri": "https://localhost:8080/"
        },
        "id": "Zmp3Fx4GBqNj",
        "outputId": "238f9bbd-0d01-4331-f754-030e3a643b1b"
      },
      "execution_count": null,
      "outputs": [
        {
          "output_type": "stream",
          "name": "stdout",
          "text": [
            "It's warm.\n"
          ]
        }
      ]
    },
    {
      "cell_type": "code",
      "source": [
        "# example4\n",
        "day = \"Wednesday\"\n",
        "if day == \"Monday\":\n",
        "    print(\"Start of the week.\")\n",
        "elif day == \"Wednesday\":\n",
        "    print(\"Midweek.\")"
      ],
      "metadata": {
        "colab": {
          "base_uri": "https://localhost:8080/"
        },
        "id": "qshjGBVCBvHb",
        "outputId": "eb9516eb-5f69-4c4f-8bee-d5a6aca9d628"
      },
      "execution_count": null,
      "outputs": [
        {
          "output_type": "stream",
          "name": "stdout",
          "text": [
            "Midweek.\n"
          ]
        }
      ]
    },
    {
      "cell_type": "code",
      "source": [
        "# example5\n",
        "age = 45\n",
        "if age < 18:\n",
        "    print(\"Minor\")\n",
        "elif age < 65:\n",
        "    print(\"Adult\")"
      ],
      "metadata": {
        "colab": {
          "base_uri": "https://localhost:8080/"
        },
        "id": "ymsRY45aB0Ox",
        "outputId": "995c5623-eb8b-4439-d044-404ba914e81d"
      },
      "execution_count": null,
      "outputs": [
        {
          "output_type": "stream",
          "name": "stdout",
          "text": [
            "Adult\n"
          ]
        }
      ]
    },
    {
      "cell_type": "code",
      "source": [
        "# example6\n",
        "light = \"yellow\"\n",
        "if light == \"green\":\n",
        "    print(\"Go!\")\n",
        "elif light == \"yellow\":\n",
        "    print(\"Slow down.\")"
      ],
      "metadata": {
        "id": "0rcXGKmOCKEP"
      },
      "execution_count": null,
      "outputs": []
    },
    {
      "cell_type": "code",
      "source": [
        "# examplr7\n",
        "age = 25\n",
        "if age < 13:\n",
        "    print(\"Child\")\n",
        "elif age < 20:\n",
        "    print(\"Teenager\")\n",
        "elif age < 60:\n",
        "    print(\"Adult\")\n",
        "else:\n",
        "    print(\"Senior\")"
      ],
      "metadata": {
        "colab": {
          "base_uri": "https://localhost:8080/"
        },
        "id": "2wyM2NL2Cid_",
        "outputId": "ef60611d-9174-40d9-a942-de19f8ee4a02"
      },
      "execution_count": null,
      "outputs": [
        {
          "output_type": "stream",
          "name": "stdout",
          "text": [
            "Adult\n"
          ]
        }
      ]
    },
    {
      "cell_type": "code",
      "source": [
        "# example8\n",
        "day = \"Friday\"\n",
        "if day == \"Monday\":\n",
        "    print(\"Start of the week\")\n",
        "elif day == \"Wednesday\":\n",
        "    print(\"Midweek\")\n",
        "elif day == \"Friday\":\n",
        "    print(\"Almost weekend!\")\n",
        "else:\n",
        "    print(\"Regular day\")"
      ],
      "metadata": {
        "colab": {
          "base_uri": "https://localhost:8080/"
        },
        "id": "QVrumNwOCo7K",
        "outputId": "ce1cb0ec-4d3c-4f14-c4a3-b888f38a8f83"
      },
      "execution_count": null,
      "outputs": [
        {
          "output_type": "stream",
          "name": "stdout",
          "text": [
            "Almost weekend!\n"
          ]
        }
      ]
    },
    {
      "cell_type": "code",
      "source": [
        "# example9\n",
        "num = 45\n",
        "if num < 10:\n",
        "    print(\"Number is less than 10\")\n",
        "elif num < 50:\n",
        "    print(\"Number is between 10 and 50\")\n",
        "elif num < 100:\n",
        "    print(\"Number is between 50 and 100\")"
      ],
      "metadata": {
        "colab": {
          "base_uri": "https://localhost:8080/"
        },
        "id": "eKPIxkfLCw9o",
        "outputId": "300c5081-98cf-4534-f538-5304193b8f52"
      },
      "execution_count": null,
      "outputs": [
        {
          "output_type": "stream",
          "name": "stdout",
          "text": [
            "Number is between 10 and 50\n"
          ]
        }
      ]
    },
    {
      "cell_type": "code",
      "source": [
        "# example10\n",
        "light = \"yellow\"\n",
        "if light == \"green\":\n",
        "    print(\"Go!\")\n",
        "elif light == \"yellow\":\n",
        "    print(\"Slow down.\")"
      ],
      "metadata": {
        "id": "1Laz4JecD8XD",
        "outputId": "923fe645-a12a-43ce-d95e-08486ddec1e1",
        "colab": {
          "base_uri": "https://localhost:8080/"
        }
      },
      "execution_count": null,
      "outputs": [
        {
          "output_type": "stream",
          "name": "stdout",
          "text": [
            "Slow down.\n"
          ]
        }
      ]
    }
  ]
}