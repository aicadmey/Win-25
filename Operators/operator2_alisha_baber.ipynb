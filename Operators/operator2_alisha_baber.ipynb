{
  "nbformat": 4,
  "nbformat_minor": 0,
  "metadata": {
    "colab": {
      "provenance": []
    },
    "kernelspec": {
      "name": "python3",
      "display_name": "Python 3"
    },
    "language_info": {
      "name": "python"
    }
  },
  "cells": [
    {
      "cell_type": "markdown",
      "source": [
        "comparison operators\n",
        "\n",
        "\n",
        "equal to==\n"
      ],
      "metadata": {
        "id": "6v3ZKipO2XJP"
      }
    },
    {
      "cell_type": "code",
      "source": [
        "x=5\n",
        "c=9\n",
        "print(x==c)"
      ],
      "metadata": {
        "colab": {
          "base_uri": "https://localhost:8080/"
        },
        "id": "ZVQYFAqM2jU4",
        "outputId": "bfa6bfdc-b524-4eec-9636-b30121b570ad"
      },
      "execution_count": null,
      "outputs": [
        {
          "output_type": "stream",
          "name": "stdout",
          "text": [
            "False\n"
          ]
        }
      ]
    },
    {
      "cell_type": "code",
      "source": [
        "num1=int(input(\"enter first number\"))\n",
        "num2=int(input(\"enter second number\"))\n",
        "print(num1==num2)\n"
      ],
      "metadata": {
        "colab": {
          "base_uri": "https://localhost:8080/"
        },
        "id": "lAX_nNDz2xlX",
        "outputId": "50bda874-3f91-4995-8047-d11e386b88c4"
      },
      "execution_count": null,
      "outputs": [
        {
          "output_type": "stream",
          "name": "stdout",
          "text": [
            "enter first number8\n",
            "enter second number8\n",
            "True\n"
          ]
        }
      ]
    },
    {
      "cell_type": "code",
      "source": [
        "y= input (\"your handwritting is nice\")\n",
        "h= input (\"your handwritting is bad\")\n",
        "print(y==h)\n"
      ],
      "metadata": {
        "colab": {
          "base_uri": "https://localhost:8080/"
        },
        "id": "baRDqfsb3GWt",
        "outputId": "725bd848-0c31-4886-e4e7-178e45f0fcca"
      },
      "execution_count": null,
      "outputs": [
        {
          "output_type": "stream",
          "name": "stdout",
          "text": [
            "your handwritting is nice20\n",
            "your handwritting is bad0\n",
            "False\n"
          ]
        }
      ]
    },
    {
      "cell_type": "code",
      "source": [
        "u=\"princess\"\n",
        "h=\"queen\"\n",
        "print(u==h)"
      ],
      "metadata": {
        "colab": {
          "base_uri": "https://localhost:8080/"
        },
        "id": "yO9TNhAG5NpU",
        "outputId": "bd9e15de-5e62-40ea-fb50-038abb11345c"
      },
      "execution_count": null,
      "outputs": [
        {
          "output_type": "stream",
          "name": "stdout",
          "text": [
            "False\n"
          ]
        }
      ]
    },
    {
      "cell_type": "code",
      "source": [
        "b=44\n",
        "o=44\n",
        "print(b==o)"
      ],
      "metadata": {
        "colab": {
          "base_uri": "https://localhost:8080/"
        },
        "id": "OO374xI78Czf",
        "outputId": "09a8b8e8-5f4e-4984-c362-45278f3793c8"
      },
      "execution_count": null,
      "outputs": [
        {
          "output_type": "stream",
          "name": "stdout",
          "text": [
            "True\n"
          ]
        }
      ]
    },
    {
      "cell_type": "markdown",
      "source": [
        "not equal =!"
      ],
      "metadata": {
        "id": "LvDYV6oX-FPb"
      }
    },
    {
      "cell_type": "code",
      "source": [
        "n=(\" ice cream\")\n",
        "b=(\"hot wings\")\n",
        "print(n != b)"
      ],
      "metadata": {
        "colab": {
          "base_uri": "https://localhost:8080/"
        },
        "id": "mCVxQJs1-KEN",
        "outputId": "3efb8ffd-6083-421d-9bb6-c225eadc3962"
      },
      "execution_count": null,
      "outputs": [
        {
          "output_type": "stream",
          "name": "stdout",
          "text": [
            "True\n"
          ]
        }
      ]
    },
    {
      "cell_type": "code",
      "source": [
        "i=5\n",
        "o=33\n",
        "print(i != o)"
      ],
      "metadata": {
        "colab": {
          "base_uri": "https://localhost:8080/"
        },
        "id": "4BzBs4DG-06A",
        "outputId": "028a4549-e2b9-479d-cec8-a87139c5b013"
      },
      "execution_count": null,
      "outputs": [
        {
          "output_type": "stream",
          "name": "stdout",
          "text": [
            "True\n"
          ]
        }
      ]
    },
    {
      "cell_type": "code",
      "source": [
        "b=44\n",
        "o=44\n",
        "print(b != o)"
      ],
      "metadata": {
        "colab": {
          "base_uri": "https://localhost:8080/"
        },
        "id": "wRLh3fSX_FHG",
        "outputId": "4916a833-30c3-40f5-c532-2c31f9d62cdb"
      },
      "execution_count": null,
      "outputs": [
        {
          "output_type": "stream",
          "name": "stdout",
          "text": [
            "False\n"
          ]
        }
      ]
    },
    {
      "cell_type": "code",
      "source": [
        "h=\"Alisha\"\n",
        "b=\"Alisha\"\n",
        "print(h != b)"
      ],
      "metadata": {
        "colab": {
          "base_uri": "https://localhost:8080/"
        },
        "id": "R9_9SZ06_QVV",
        "outputId": "28149898-cad2-4e73-f830-400ca57ba3d6"
      },
      "execution_count": null,
      "outputs": [
        {
          "output_type": "stream",
          "name": "stdout",
          "text": [
            "False\n"
          ]
        }
      ]
    },
    {
      "cell_type": "code",
      "source": [
        "b=\"mom loves me\"\n",
        "d= \" i love you mama \"\n",
        "print(b != d  )"
      ],
      "metadata": {
        "colab": {
          "base_uri": "https://localhost:8080/"
        },
        "id": "6nYrR12f_wX2",
        "outputId": "296c96a8-a906-495c-8f35-0c3ccce71b5d"
      },
      "execution_count": null,
      "outputs": [
        {
          "output_type": "stream",
          "name": "stdout",
          "text": [
            "True\n"
          ]
        }
      ]
    },
    {
      "cell_type": "markdown",
      "source": [
        "Greater than >\n"
      ],
      "metadata": {
        "id": "Odkv1SHUAJa5"
      }
    },
    {
      "cell_type": "code",
      "source": [
        "a=99\n",
        "b=00\n",
        "print(a>b)"
      ],
      "metadata": {
        "colab": {
          "base_uri": "https://localhost:8080/"
        },
        "id": "zZg_gsYGASNm",
        "outputId": "1c551340-b2e5-498d-82c6-06c877bdf97f"
      },
      "execution_count": null,
      "outputs": [
        {
          "output_type": "stream",
          "name": "stdout",
          "text": [
            "True\n"
          ]
        }
      ]
    },
    {
      "cell_type": "code",
      "source": [
        "name1=\"10\"\n",
        "NAME2 = \"100000\"\n",
        "print(name1>NAME2)"
      ],
      "metadata": {
        "colab": {
          "base_uri": "https://localhost:8080/"
        },
        "id": "F8fp3m15AYyJ",
        "outputId": "1360c7bb-8909-4d24-f486-714c4f3a71ad"
      },
      "execution_count": null,
      "outputs": [
        {
          "output_type": "stream",
          "name": "stdout",
          "text": [
            "False\n"
          ]
        }
      ]
    },
    {
      "cell_type": "code",
      "source": [
        "s=24\n",
        "a=20\n",
        "print(s>a)"
      ],
      "metadata": {
        "colab": {
          "base_uri": "https://localhost:8080/"
        },
        "id": "VOQcKeHMA4v-",
        "outputId": "9661963d-ae0d-4885-9323-ac909c94bc54"
      },
      "execution_count": null,
      "outputs": [
        {
          "output_type": "stream",
          "name": "stdout",
          "text": [
            "True\n"
          ]
        }
      ]
    },
    {
      "cell_type": "code",
      "source": [
        "b=int(\"89\")\n",
        "v=int(\"90\")\n",
        "print(b>v)"
      ],
      "metadata": {
        "colab": {
          "base_uri": "https://localhost:8080/"
        },
        "id": "yuN_IsG7BCSG",
        "outputId": "a09e44c4-c770-4b81-c4fd-df480e7f83e9"
      },
      "execution_count": null,
      "outputs": [
        {
          "output_type": "stream",
          "name": "stdout",
          "text": [
            "False\n"
          ]
        }
      ]
    },
    {
      "cell_type": "code",
      "source": [
        "g=7000000000000\n",
        "v=699\n",
        "print(g>v)"
      ],
      "metadata": {
        "colab": {
          "base_uri": "https://localhost:8080/"
        },
        "id": "1JUtz0EUCHq_",
        "outputId": "85978100-4fcb-4d78-d86d-dac379492dee"
      },
      "execution_count": null,
      "outputs": [
        {
          "output_type": "stream",
          "name": "stdout",
          "text": [
            "True\n"
          ]
        }
      ]
    },
    {
      "cell_type": "code",
      "source": [
        "b=40\n",
        "f=3000\n",
        "print(b>f)\n"
      ],
      "metadata": {
        "colab": {
          "base_uri": "https://localhost:8080/"
        },
        "id": "fYBD09zpC7Kt",
        "outputId": "c551b206-3309-4cb1-a0fd-c0a0b7bec14b"
      },
      "execution_count": null,
      "outputs": [
        {
          "output_type": "stream",
          "name": "stdout",
          "text": [
            "False\n"
          ]
        }
      ]
    },
    {
      "cell_type": "markdown",
      "source": [
        "less than <\n",
        "\n"
      ],
      "metadata": {
        "id": "urC5ofwaDWWe"
      }
    },
    {
      "cell_type": "code",
      "source": [
        "g= 55\n",
        "n=30\n",
        "print(g<n)"
      ],
      "metadata": {
        "colab": {
          "base_uri": "https://localhost:8080/"
        },
        "id": "mTnswKr2Dl1m",
        "outputId": "001673e8-9e86-46e6-e16e-e1cd8c1f286c"
      },
      "execution_count": null,
      "outputs": [
        {
          "output_type": "stream",
          "name": "stdout",
          "text": [
            "False\n"
          ]
        }
      ]
    },
    {
      "cell_type": "code",
      "source": [
        "price1=int(input(\"enter first price\"))\n",
        "price2=int(input(\"enter second price\"))\n",
        "print(price1<price2)"
      ],
      "metadata": {
        "colab": {
          "base_uri": "https://localhost:8080/"
        },
        "id": "IY_mQiHcEZnP",
        "outputId": "f592d4db-c100-4438-845b-023f0915cdd7"
      },
      "execution_count": null,
      "outputs": [
        {
          "output_type": "stream",
          "name": "stdout",
          "text": [
            "enter first price5000\n",
            "enter second price100000\n",
            "True\n"
          ]
        }
      ]
    },
    {
      "cell_type": "code",
      "source": [
        "x=90\n",
        "y=300\n",
        "print(x<y)"
      ],
      "metadata": {
        "colab": {
          "base_uri": "https://localhost:8080/"
        },
        "id": "u1a1OUkoEiVE",
        "outputId": "8ee9c0c6-fca5-4439-a72e-33e15e215c64"
      },
      "execution_count": null,
      "outputs": [
        {
          "output_type": "stream",
          "name": "stdout",
          "text": [
            "True\n"
          ]
        }
      ]
    },
    {
      "cell_type": "code",
      "source": [
        "a=int(input(\"enter first number\"))\n",
        "b=int(input(\"enter second number\"))\n",
        "print(a<b)"
      ],
      "metadata": {
        "colab": {
          "base_uri": "https://localhost:8080/"
        },
        "id": "I7n-Je86Er9F",
        "outputId": "82994a2c-6790-4b00-bb2e-e50606b7f8a5"
      },
      "execution_count": null,
      "outputs": [
        {
          "output_type": "stream",
          "name": "stdout",
          "text": [
            "enter first number88\n",
            "enter second number650\n",
            "True\n"
          ]
        }
      ]
    },
    {
      "cell_type": "code",
      "source": [
        "a=50\n",
        "s=100\n",
        "print(a<s)"
      ],
      "metadata": {
        "colab": {
          "base_uri": "https://localhost:8080/"
        },
        "id": "ciTiBvrkFXWB",
        "outputId": "ce3e7228-bbba-4a6d-cc81-69a78ba59d66"
      },
      "execution_count": null,
      "outputs": [
        {
          "output_type": "stream",
          "name": "stdout",
          "text": [
            "True\n"
          ]
        }
      ]
    },
    {
      "cell_type": "markdown",
      "source": [
        "**Greater than or equal to >=**"
      ],
      "metadata": {
        "id": "XdWQyscoGEW0"
      }
    },
    {
      "cell_type": "code",
      "source": [
        "w,r=3,4\n",
        "s,t=44,55\n",
        "print(w>=s)"
      ],
      "metadata": {
        "colab": {
          "base_uri": "https://localhost:8080/"
        },
        "id": "D1h9PTHTGP-b",
        "outputId": "0e0253dc-a091-4d5f-ea01-0370f6b71a79"
      },
      "execution_count": null,
      "outputs": [
        {
          "output_type": "stream",
          "name": "stdout",
          "text": [
            "False\n"
          ]
        }
      ]
    },
    {
      "cell_type": "code",
      "source": [
        "u=33\n",
        "t=33\n",
        "print(u>=t)"
      ],
      "metadata": {
        "colab": {
          "base_uri": "https://localhost:8080/"
        },
        "id": "pWfc05m6GrKr",
        "outputId": "9dcfd486-4ac3-4d37-d5fc-ae992a19a3c7"
      },
      "execution_count": null,
      "outputs": [
        {
          "output_type": "stream",
          "name": "stdout",
          "text": [
            "True\n"
          ]
        }
      ]
    },
    {
      "cell_type": "code",
      "source": [
        "e= 78\n",
        "d=34\n",
        "print(e>=d)\n"
      ],
      "metadata": {
        "colab": {
          "base_uri": "https://localhost:8080/"
        },
        "id": "vxMkOAAYICV1",
        "outputId": "734d7902-da4e-437a-e25b-500ba5ba5cbf"
      },
      "execution_count": null,
      "outputs": [
        {
          "output_type": "stream",
          "name": "stdout",
          "text": [
            "True\n"
          ]
        }
      ]
    },
    {
      "cell_type": "code",
      "source": [
        "f=23\n",
        "g=23\n",
        "print(f>=g)"
      ],
      "metadata": {
        "colab": {
          "base_uri": "https://localhost:8080/"
        },
        "id": "il0JYIPkIlGC",
        "outputId": "0912eb04-7199-4950-8cbf-60176a5e2329"
      },
      "execution_count": null,
      "outputs": [
        {
          "output_type": "stream",
          "name": "stdout",
          "text": [
            "True\n"
          ]
        }
      ]
    },
    {
      "cell_type": "code",
      "source": [
        "L = \" 66\"\n",
        "A =\" 40\"\n",
        "print( L>=A)\n"
      ],
      "metadata": {
        "colab": {
          "base_uri": "https://localhost:8080/"
        },
        "id": "jkcsIpK_Iv1I",
        "outputId": "187efbfa-1d82-41ba-f142-412bade7e556"
      },
      "execution_count": null,
      "outputs": [
        {
          "output_type": "stream",
          "name": "stdout",
          "text": [
            "True\n"
          ]
        }
      ]
    },
    {
      "cell_type": "markdown",
      "source": [
        "# less than equal to <="
      ],
      "metadata": {
        "id": "fVo3VHicKAom"
      }
    },
    {
      "cell_type": "code",
      "source": [
        "y=400\n",
        "w=333\n",
        "print(y<=w)"
      ],
      "metadata": {
        "colab": {
          "base_uri": "https://localhost:8080/"
        },
        "id": "EPS_2_-cKEZA",
        "outputId": "3f79efaa-1214-4550-e694-823e238ed066"
      },
      "execution_count": null,
      "outputs": [
        {
          "output_type": "stream",
          "name": "stdout",
          "text": [
            "False\n"
          ]
        }
      ]
    },
    {
      "cell_type": "code",
      "source": [
        "r=39\n",
        "h=33\n",
        "print(r<=h)"
      ],
      "metadata": {
        "id": "lonmujsuK5Bi"
      },
      "execution_count": null,
      "outputs": []
    },
    {
      "cell_type": "code",
      "source": [
        "s=int(\"88\")\n",
        "c=int(\"99\")\n",
        "print(s<=c)"
      ],
      "metadata": {
        "colab": {
          "base_uri": "https://localhost:8080/"
        },
        "id": "CLKridFRK_UW",
        "outputId": "beb2d0ae-e72b-4bfb-8502-c6b5c8a90011"
      },
      "execution_count": null,
      "outputs": [
        {
          "output_type": "stream",
          "name": "stdout",
          "text": [
            "True\n"
          ]
        }
      ]
    },
    {
      "cell_type": "code",
      "source": [
        "r=88\n",
        "h=99\n",
        "print(r<=h)"
      ],
      "metadata": {
        "id": "r9vLE1j5LRjA"
      },
      "execution_count": null,
      "outputs": []
    },
    {
      "cell_type": "code",
      "source": [
        "f=input(\"enter first number\")\n",
        "b=input(\"enter second number\")\n",
        "print(f<=b)\n"
      ],
      "metadata": {
        "colab": {
          "base_uri": "https://localhost:8080/"
        },
        "id": "Ea5sk6iuNgcq",
        "outputId": "d92c2819-b7de-48d2-f9b2-869be03f7282"
      },
      "execution_count": null,
      "outputs": [
        {
          "output_type": "stream",
          "name": "stdout",
          "text": [
            "enter first number60\n",
            "enter second number90\n",
            "True\n"
          ]
        }
      ]
    },
    {
      "cell_type": "markdown",
      "source": [
        "## logical operator\n",
        "\n"
      ],
      "metadata": {
        "id": "nWBHLe0WNwgG"
      }
    },
    {
      "cell_type": "markdown",
      "source": [
        "# And"
      ],
      "metadata": {
        "id": "OXogS1pQOMm4"
      }
    },
    {
      "cell_type": "code",
      "source": [
        "x= 5\n",
        "print(x>4 and x<6)"
      ],
      "metadata": {
        "colab": {
          "base_uri": "https://localhost:8080/"
        },
        "id": "qYYgqkOvOSRD",
        "outputId": "6dbd3d84-c753-4538-8455-2af4abc450e6"
      },
      "execution_count": null,
      "outputs": [
        {
          "output_type": "stream",
          "name": "stdout",
          "text": [
            "True\n"
          ]
        }
      ]
    },
    {
      "cell_type": "code",
      "source": [
        "c= 99\n",
        "d=33\n",
        "print(d>4 and c<55)"
      ],
      "metadata": {
        "colab": {
          "base_uri": "https://localhost:8080/"
        },
        "id": "4XBjWmizOwwn",
        "outputId": "148c180c-55af-4987-9dd1-f78e132e0e9c"
      },
      "execution_count": null,
      "outputs": [
        {
          "output_type": "stream",
          "name": "stdout",
          "text": [
            "False\n"
          ]
        }
      ]
    },
    {
      "cell_type": "code",
      "source": [
        "num1=66\n",
        "print(num1>50 and num1<100)"
      ],
      "metadata": {
        "colab": {
          "base_uri": "https://localhost:8080/"
        },
        "id": "xY4QCbbEPoPC",
        "outputId": "26f3d02e-79a2-456c-a027-7972655e0051"
      },
      "execution_count": null,
      "outputs": [
        {
          "output_type": "stream",
          "name": "stdout",
          "text": [
            "True\n"
          ]
        }
      ]
    },
    {
      "cell_type": "code",
      "source": [
        "d= 55\n",
        "print(d==55 and d>40)"
      ],
      "metadata": {
        "colab": {
          "base_uri": "https://localhost:8080/"
        },
        "id": "MByJj_8PQDUf",
        "outputId": "9fdbd7c5-37ca-4fb9-8bb8-33ca40df27f5"
      },
      "execution_count": null,
      "outputs": [
        {
          "output_type": "stream",
          "name": "stdout",
          "text": [
            "True\n"
          ]
        }
      ]
    },
    {
      "cell_type": "code",
      "source": [
        "name=\"Alisha\"\n",
        "print(name==\"Alisha\" and name==\"Alisha\")"
      ],
      "metadata": {
        "colab": {
          "base_uri": "https://localhost:8080/"
        },
        "id": "vNc7LAVfQPoc",
        "outputId": "63bb7c83-60f1-48b6-d5a8-9f7802e44331"
      },
      "execution_count": null,
      "outputs": [
        {
          "output_type": "stream",
          "name": "stdout",
          "text": [
            "True\n"
          ]
        }
      ]
    },
    {
      "cell_type": "markdown",
      "source": [
        "# or\n"
      ],
      "metadata": {
        "id": "qnML-yQqQVkY"
      }
    },
    {
      "cell_type": "code",
      "source": [
        "g=33\n",
        "print( g>66 and g<=33)"
      ],
      "metadata": {
        "colab": {
          "base_uri": "https://localhost:8080/"
        },
        "id": "pjEXvEnFQcvX",
        "outputId": "48876051-1ece-43d7-ef0a-c69bd033beb7"
      },
      "execution_count": null,
      "outputs": [
        {
          "output_type": "stream",
          "name": "stdout",
          "text": [
            "False\n"
          ]
        }
      ]
    },
    {
      "cell_type": "code",
      "source": [
        "v= 44\n",
        "fun = \" kidding\"\n",
        "print(v==44 or fun==\"kidding\")"
      ],
      "metadata": {
        "colab": {
          "base_uri": "https://localhost:8080/"
        },
        "id": "p5pxdXGJQ_XS",
        "outputId": "589239d1-53bd-4813-cfdf-8750dbb9fa82"
      },
      "execution_count": null,
      "outputs": [
        {
          "output_type": "stream",
          "name": "stdout",
          "text": [
            "True\n"
          ]
        }
      ]
    },
    {
      "cell_type": "code",
      "source": [
        "h=55\n",
        "print(h>=44 and h<=6)"
      ],
      "metadata": {
        "colab": {
          "base_uri": "https://localhost:8080/"
        },
        "id": "BJe2iu8gRMs1",
        "outputId": "fe6b69e4-8d68-48c4-a057-86901d3a403f"
      },
      "execution_count": null,
      "outputs": [
        {
          "output_type": "stream",
          "name": "stdout",
          "text": [
            "False\n"
          ]
        }
      ]
    },
    {
      "cell_type": "code",
      "source": [
        "x=\"88\"\n",
        "print(x==3 and x>=5)"
      ],
      "metadata": {
        "colab": {
          "base_uri": "https://localhost:8080/"
        },
        "id": "40Pg8kuIRVzz",
        "outputId": "954feb4c-6d0f-4460-f741-ec8696a3df6e"
      },
      "execution_count": null,
      "outputs": [
        {
          "output_type": "stream",
          "name": "stdout",
          "text": [
            "False\n"
          ]
        }
      ]
    },
    {
      "cell_type": "code",
      "source": [
        "bag=\"clean\"\n",
        "print (bag==\"clean\" or bag==\"dirty\")"
      ],
      "metadata": {
        "colab": {
          "base_uri": "https://localhost:8080/"
        },
        "id": "JcbgHw1_RoKB",
        "outputId": "0fec8339-3139-4115-e9e9-99ded1cb5e70"
      },
      "execution_count": null,
      "outputs": [
        {
          "output_type": "stream",
          "name": "stdout",
          "text": [
            "True\n"
          ]
        }
      ]
    },
    {
      "cell_type": "markdown",
      "source": [
        "## not\n"
      ],
      "metadata": {
        "id": "Df6mcyHkSCUB"
      }
    },
    {
      "cell_type": "code",
      "source": [
        "b= 44\n",
        "print ( not ( b>4 and b<=8))"
      ],
      "metadata": {
        "colab": {
          "base_uri": "https://localhost:8080/"
        },
        "id": "Ywt7zGgySJy5",
        "outputId": "38638b24-df5a-4f02-f0e5-2529654bc46a"
      },
      "execution_count": null,
      "outputs": [
        {
          "output_type": "stream",
          "name": "stdout",
          "text": [
            "True\n"
          ]
        }
      ]
    },
    {
      "cell_type": "code",
      "source": [
        "h= 44\n",
        "print (not ( h>4 and h<=8))"
      ],
      "metadata": {
        "colab": {
          "base_uri": "https://localhost:8080/"
        },
        "id": "-9FV0JZ4Tvrm",
        "outputId": "7bf40012-e43e-4aa1-97ef-fa9c973c41e6"
      },
      "execution_count": null,
      "outputs": [
        {
          "output_type": "stream",
          "name": "stdout",
          "text": [
            "True\n"
          ]
        }
      ]
    },
    {
      "cell_type": "code",
      "source": [
        "d= 900000\n",
        "print( not ( d==4 and d<=8))"
      ],
      "metadata": {
        "colab": {
          "base_uri": "https://localhost:8080/"
        },
        "id": "hUPNCxE5UCIR",
        "outputId": "63e61f74-e3fe-4945-bb9d-df66a9f68ec2"
      },
      "execution_count": null,
      "outputs": [
        {
          "output_type": "stream",
          "name": "stdout",
          "text": [
            "True\n"
          ]
        }
      ]
    },
    {
      "cell_type": "code",
      "source": [
        "int=(\"enter a number\")\n",
        "print(not (int==4 and int<=8))"
      ],
      "metadata": {
        "colab": {
          "base_uri": "https://localhost:8080/"
        },
        "id": "NgwvnRpMUk9r",
        "outputId": "9bb80721-2026-4433-de8c-85fd30ddb222"
      },
      "execution_count": null,
      "outputs": [
        {
          "output_type": "stream",
          "name": "stdout",
          "text": [
            "True\n"
          ]
        }
      ]
    },
    {
      "cell_type": "code",
      "source": [
        "i=\"enter a number\"\n",
        "print(not (i==4 and i<=8))"
      ],
      "metadata": {
        "id": "zZFx6SsBVWvU",
        "outputId": "383c8549-c48e-42ea-87b6-21dd1df33362",
        "colab": {
          "base_uri": "https://localhost:8080/"
        }
      },
      "execution_count": null,
      "outputs": [
        {
          "output_type": "stream",
          "name": "stdout",
          "text": [
            "True\n"
          ]
        }
      ]
    }
  ]
}