{
  "nbformat": 4,
  "nbformat_minor": 0,
  "metadata": {
    "colab": {
      "provenance": []
    },
    "kernelspec": {
      "name": "python3",
      "display_name": "Python 3"
    },
    "language_info": {
      "name": "python"
    }
  },
  "cells": [
    {
      "cell_type": "markdown",
      "source": [
        "# **Assignment Operators Example**"
      ],
      "metadata": {
        "id": "tH72F1Azg_Oz"
      }
    },
    {
      "cell_type": "code",
      "execution_count": null,
      "metadata": {
        "colab": {
          "base_uri": "https://localhost:8080/"
        },
        "id": "7GJJMe4Gg0E1",
        "outputId": "68a9fab5-37bb-478b-ba89-80533bbdffd6"
      },
      "outputs": [
        {
          "output_type": "stream",
          "name": "stdout",
          "text": [
            "original number:  10\n",
            "number after += assignment operator:  15\n",
            "number after -= assignment operator:  12\n",
            "number after *= assignment operator:  24\n",
            "number after /= assignment operator:  6.0\n",
            "number after %= assignment operator:  0.0\n",
            "number after //= assignment operator:  0.0\n",
            "number after **= assignment operator:  0.0\n"
          ]
        }
      ],
      "source": [
        "x = 10\n",
        "print(f\"original number: \", x)\n",
        "\n",
        "x += 5\n",
        "print(f\"number after += assignment operator: \", x)\n",
        "\n",
        "x -= 3\n",
        "print(f\"number after -= assignment operator: \", x)\n",
        "\n",
        "x *= 2\n",
        "print(f\"number after *= assignment operator: \", x)\n",
        "\n",
        "x /= 4\n",
        "print(f\"number after /= assignment operator: \", x)\n",
        "\n",
        "x %= 2\n",
        "print(f\"number after %= assignment operator: \", x)\n",
        "\n",
        "x //= 3\n",
        "print(f\"number after //= assignment operator: \", x)\n",
        "\n",
        "x **= 2\n",
        "print(f\"number after **= assignment operator: \", x)"
      ]
    }
  ]
}