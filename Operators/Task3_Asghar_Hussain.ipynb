{
  "nbformat": 4,
  "nbformat_minor": 0,
  "metadata": {
    "colab": {
      "provenance": []
    },
    "kernelspec": {
      "name": "python3",
      "display_name": "Python 3"
    },
    "language_info": {
      "name": "python"
    }
  },
  "cells": [
    {
      "cell_type": "markdown",
      "source": [
        "# **TASK #3**"
      ],
      "metadata": {
        "id": "oVHJrmZBd1mF"
      }
    },
    {
      "cell_type": "markdown",
      "source": [
        "# Comparison Operators"
      ],
      "metadata": {
        "id": "0Fn06jWRd6nJ"
      }
    },
    {
      "cell_type": "code",
      "execution_count": null,
      "metadata": {
        "colab": {
          "base_uri": "https://localhost:8080/"
        },
        "id": "2FuhDaOodx_r",
        "outputId": "94be7c06-b5c7-4d6e-da16-aa8db5263bf4"
      },
      "outputs": [
        {
          "output_type": "stream",
          "name": "stdout",
          "text": [
            "True\n",
            "True\n",
            "False\n",
            "True\n"
          ]
        }
      ],
      "source": [
        "# == (Equal to)\n",
        "x = 10\n",
        "y = 10\n",
        "print(x == y)\n",
        "\n",
        "a = \"Asghar\"\n",
        "b = \"Asghar\"\n",
        "print(a == b)\n",
        "\n",
        "x1 = \"asghar\"\n",
        "x2 = \"Asghar\"\n",
        "print(x1 == x2)\n",
        "\n",
        "x = 2.00\n",
        "y = 2\n",
        "print(x == y)\n",
        "\n"
      ]
    },
    {
      "cell_type": "code",
      "source": [
        "# != (Not equal to)\n",
        "a = 5\n",
        "b = 7\n",
        "print(a != b)\n",
        "\n",
        "a = \"Asghar\"\n",
        "b = \"Asghar\"\n",
        "print(a != b)\n",
        "\n",
        "x1 = \"asghar\"\n",
        "x2 = \"Asghar\"\n",
        "print(x1 != x2)\n",
        "\n",
        "x = 23.23\n",
        "y = 23\n",
        "print(x != y)\n"
      ],
      "metadata": {
        "colab": {
          "base_uri": "https://localhost:8080/"
        },
        "id": "u2AizMA7eNtH",
        "outputId": "9ab56ed4-5cc8-4786-ff25-9cecc48b50d6"
      },
      "execution_count": null,
      "outputs": [
        {
          "output_type": "stream",
          "name": "stdout",
          "text": [
            "True\n",
            "False\n",
            "True\n",
            "True\n"
          ]
        }
      ]
    },
    {
      "cell_type": "code",
      "source": [
        "\n",
        "# < (Less than)\n",
        "c = 20\n",
        "d = 30\n",
        "print(c < d)\n",
        "\n",
        "h = 34\n",
        "i = 34\n",
        "print(h < i)\n",
        "\n",
        "x = 2.001\n",
        "y = 2.00\n",
        "print(y < x)\n"
      ],
      "metadata": {
        "colab": {
          "base_uri": "https://localhost:8080/"
        },
        "id": "ZY29oT5xeRGP",
        "outputId": "4a340e50-faba-40ea-8d87-9295c3e4a445"
      },
      "execution_count": null,
      "outputs": [
        {
          "output_type": "stream",
          "name": "stdout",
          "text": [
            "True\n"
          ]
        }
      ]
    },
    {
      "cell_type": "code",
      "source": [
        "\n",
        "# > (Greater than)\n",
        "e = 45\n",
        "f = 35\n",
        "print(e > f)\n",
        "\n",
        "\n",
        "d = \"asghar\"\n",
        "e = \"Asgar\"\n",
        "print(d > e)\n",
        "\n",
        "x = 2.0212\n",
        "y = 2.00\n",
        "print(y > x)\n",
        "\n",
        "\n",
        "\n"
      ],
      "metadata": {
        "colab": {
          "base_uri": "https://localhost:8080/"
        },
        "id": "wonjfZJ1eWLW",
        "outputId": "88c4ad4c-ae9d-4494-96c1-62d0eafb4ae8"
      },
      "execution_count": null,
      "outputs": [
        {
          "output_type": "stream",
          "name": "stdout",
          "text": [
            "True\n",
            "True\n",
            "False\n"
          ]
        }
      ]
    },
    {
      "cell_type": "code",
      "source": [
        "# <= (Less than or equal to)\n",
        "g = 15\n",
        "h = 15\n",
        "print(g <= h)\n",
        "\n",
        "x = 2.001\n",
        "y = 2.00\n",
        "print(y <= x)\n",
        "\n",
        "a = \"P\"\n",
        "b = \"Q\"\n",
        "print(a <= b)\n"
      ],
      "metadata": {
        "colab": {
          "base_uri": "https://localhost:8080/"
        },
        "id": "j96BuNlpeZPS",
        "outputId": "08e64aad-a054-4aa3-9a9e-8f2ebdd7994b"
      },
      "execution_count": null,
      "outputs": [
        {
          "output_type": "stream",
          "name": "stdout",
          "text": [
            "True\n",
            "True\n",
            "True\n"
          ]
        }
      ]
    },
    {
      "cell_type": "code",
      "source": [
        "\n",
        "# >= (Greater than or equal to)\n",
        "i = 25\n",
        "j = 20\n",
        "print(i >= j)\n",
        "\n",
        "\n",
        "w = 3.21\n",
        "e = 3.20\n",
        "print(w >= e)\n",
        "\n",
        "e = 'A'\n",
        "f = 'a'\n",
        "print(e >= f)"
      ],
      "metadata": {
        "colab": {
          "base_uri": "https://localhost:8080/"
        },
        "id": "FkDE9ojnecGb",
        "outputId": "bb80e82c-4b56-4ead-c0b8-e8002fc1ff92"
      },
      "execution_count": null,
      "outputs": [
        {
          "output_type": "stream",
          "name": "stdout",
          "text": [
            "True\n",
            "True\n",
            "False\n"
          ]
        }
      ]
    },
    {
      "cell_type": "markdown",
      "source": [
        "## **Logical Operators**"
      ],
      "metadata": {
        "id": "xuYpthjcgtQ9"
      }
    },
    {
      "cell_type": "code",
      "source": [
        "# AND\n",
        "x = True\n",
        "y = False\n",
        "print(x and y)\n",
        "\n",
        "# 2. Different boolean values\n",
        "x = True\n",
        "y = False\n",
        "print(x and y)\n",
        "\n",
        "#Using numbers with comparison operators\n",
        "a = 10\n",
        "b = 20\n",
        "print(a > 5 and b < 30)\n",
        "\n",
        "#Using strings with comparison operators\n",
        "name1 = \"Alice\"\n",
        "name2 = \"Bob\"\n",
        "print(name1 == \"Alice\" and name2 == \"Bob\")\n",
        "\n",
        "\n",
        "age = 25\n",
        "height = 170\n",
        "weight = 70\n",
        "print(age >= 18 and height > 160 and weight > 60)\n",
        "\n",
        "x = 10\n",
        "y = 20\n",
        "if x > 5 and y < 30:\n",
        "    print(\"Both conditions are True\")\n"
      ],
      "metadata": {
        "colab": {
          "base_uri": "https://localhost:8080/"
        },
        "id": "c75ySzyagz9L",
        "outputId": "06eed5a5-f670-45ac-cbde-12ce13892ec3"
      },
      "execution_count": null,
      "outputs": [
        {
          "output_type": "stream",
          "name": "stdout",
          "text": [
            "False\n",
            "False\n",
            "True\n",
            "True\n",
            "True\n",
            "Both conditions are True\n"
          ]
        }
      ]
    },
    {
      "cell_type": "code",
      "source": [
        "# OR\n",
        "a = True\n",
        "b = False\n",
        "print(a or b)\n",
        "\n",
        "#Different boolean values\n",
        "x = True\n",
        "y = False\n",
        "print(x or y)\n",
        "\n",
        "#comparison operators\n",
        "a = 10\n",
        "b = 20\n",
        "print(a > 5 or b < 10)\n",
        "\n",
        "\n",
        "name1 = \"Alice\"\n",
        "name2 = \"Bob\"\n",
        "print(name1 == \"Alice\" or name2 == \"Charlie\")\n",
        "\n",
        "age = 25\n",
        "height = 170\n",
        "weight = 70\n",
        "print(age >= 18 or height > 180 or weight > 80)\n",
        "\n",
        "\n",
        "x = 10\n",
        "y = 20\n",
        "if x > 15 or y < 10:\n",
        "    print(\"At least one condition is True\")\n"
      ],
      "metadata": {
        "colab": {
          "base_uri": "https://localhost:8080/"
        },
        "id": "wCKyoR7Rg-d3",
        "outputId": "ef77b942-fdaf-4ba4-9834-d4f5af9fb36c"
      },
      "execution_count": null,
      "outputs": [
        {
          "output_type": "stream",
          "name": "stdout",
          "text": [
            "True\n",
            "True\n",
            "True\n",
            "True\n",
            "True\n"
          ]
        }
      ]
    },
    {
      "cell_type": "code",
      "source": [
        "\n",
        "# NOT\n",
        "c = True\n",
        "print(not c)\n",
        "\n",
        "a = 10\n",
        "b = 20\n",
        "print(not (a > b))\n",
        "\n",
        "x = 10\n",
        "if not (x > 20):\n",
        "    print(\"x is not greater than 20\")"
      ],
      "metadata": {
        "colab": {
          "base_uri": "https://localhost:8080/"
        },
        "id": "qjTEblF_hAEs",
        "outputId": "9b362fd3-6c6f-4bbb-f94d-58a9263377fd"
      },
      "execution_count": null,
      "outputs": [
        {
          "output_type": "stream",
          "name": "stdout",
          "text": [
            "False\n",
            "True\n",
            "x is not greater than 20\n"
          ]
        }
      ]
    },
    {
      "cell_type": "code",
      "source": [
        "# AND with numbers\n",
        "num1 = 10\n",
        "num2 = 20\n",
        "print(num1 > 5 and num2 < 30)\n"
      ],
      "metadata": {
        "colab": {
          "base_uri": "https://localhost:8080/"
        },
        "id": "WEFL8x54hDxQ",
        "outputId": "4ebac9ed-0c14-4ca3-86a4-1fdbf5d80220"
      },
      "execution_count": null,
      "outputs": [
        {
          "output_type": "stream",
          "name": "stdout",
          "text": [
            "True\n"
          ]
        }
      ]
    },
    {
      "cell_type": "code",
      "source": [
        "\n",
        "# OR with numbers\n",
        "num3 = 5\n",
        "num4 = 15\n",
        "print(num3 < 10 or num4 > 20)"
      ],
      "metadata": {
        "colab": {
          "base_uri": "https://localhost:8080/"
        },
        "id": "o8Z3vdhghFyB",
        "outputId": "eb5210fb-5566-421f-8e5d-94b4bc2ee4a0"
      },
      "execution_count": null,
      "outputs": [
        {
          "output_type": "stream",
          "name": "stdout",
          "text": [
            "True\n"
          ]
        }
      ]
    }
  ]
}