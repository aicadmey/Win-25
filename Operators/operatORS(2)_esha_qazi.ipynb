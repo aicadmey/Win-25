{
  "nbformat": 4,
  "nbformat_minor": 0,
  "metadata": {
    "colab": {
      "provenance": []
    },
    "kernelspec": {
      "name": "python3",
      "display_name": "Python 3"
    },
    "language_info": {
      "name": "python"
    }
  },
  "cells": [
    {
      "cell_type": "code",
      "execution_count": null,
      "metadata": {
        "colab": {
          "base_uri": "https://localhost:8080/"
        },
        "id": "TurcMVqKK9Pf",
        "outputId": "76e3a21b-1c85-44d4-ed66-fab944f245af"
      },
      "outputs": [
        {
          "output_type": "stream",
          "name": "stdout",
          "text": [
            "True\n",
            "True\n",
            "False\n",
            "True\n",
            "True\n"
          ]
        }
      ],
      "source": [
        "#equal to\n",
        "x=8\n",
        "y=8\n",
        "print(x==y)\n",
        "\n",
        "a=5\n",
        "b=5\n",
        "print(a==b)\n",
        "\n",
        "c=1\n",
        "d=2\n",
        "print(c==d)\n",
        "\n",
        "y=4\n",
        "z=4\n",
        "print(y==z)\n",
        "\n",
        "e=9\n",
        "p=9\n",
        "print (e==p)\n",
        "\n",
        "\n"
      ]
    },
    {
      "cell_type": "code",
      "source": [
        "# not equal to\n",
        "x=5\n",
        "y=8\n",
        "print(x!=y)\n",
        "\n",
        "x=6\n",
        "y=7\n",
        "print(x!=y)\n",
        "\n",
        "x=8\n",
        "y=9\n",
        "print(x!=y)\n",
        "\n",
        "x=10\n",
        "y=11\n",
        "print(x!=y)\n",
        "\n",
        "x=12\n",
        "y=13\n",
        "print(x!=y)"
      ],
      "metadata": {
        "colab": {
          "base_uri": "https://localhost:8080/"
        },
        "id": "ttNN0cLQX0FQ",
        "outputId": "83ed993a-363e-4554-c101-c26abbdde7e8"
      },
      "execution_count": null,
      "outputs": [
        {
          "output_type": "stream",
          "name": "stdout",
          "text": [
            "True\n",
            "True\n",
            "True\n",
            "True\n",
            "True\n"
          ]
        }
      ]
    },
    {
      "cell_type": "code",
      "source": [
        "num1=4\n",
        "num2=2\n",
        "print(num1>num2)\n",
        "\n",
        "num3=3\n",
        "num4=6\n",
        "print(num3>num4)\n",
        "\n",
        "num5=10\n",
        "num6=5\n",
        "print(num5>num6)\n",
        "\n",
        "num7=15\n",
        "num8=7\n",
        "print(num7<num8)\n",
        "\n",
        "num9=78.98\n",
        "num10=79\n",
        "print(num9<num10)\n",
        "\n",
        "\n",
        "\n",
        "\n"
      ],
      "metadata": {
        "colab": {
          "base_uri": "https://localhost:8080/"
        },
        "id": "3FMyi-uYZNHq",
        "outputId": "66ac12f0-1b7d-4646-bd88-ddebef289583"
      },
      "execution_count": null,
      "outputs": [
        {
          "output_type": "stream",
          "name": "stdout",
          "text": [
            "True\n",
            "False\n",
            "True\n",
            "False\n",
            "True\n"
          ]
        }
      ]
    },
    {
      "cell_type": "code",
      "source": [
        "num5=10\n",
        "num6=5\n",
        "print(num5>num6)\n",
        "\n",
        "num7=15\n",
        "num8=7\n",
        "print(num7<num8)"
      ],
      "metadata": {
        "colab": {
          "base_uri": "https://localhost:8080/"
        },
        "outputId": "4c3188ea-74f5-4e78-f696-98034acc679c",
        "id": "Z1aUudAdYELN"
      },
      "execution_count": null,
      "outputs": [
        {
          "output_type": "stream",
          "name": "stdout",
          "text": [
            "True\n",
            "False\n"
          ]
        }
      ]
    },
    {
      "cell_type": "code",
      "source": [
        "\n",
        "\n",
        "num11=17\n",
        "num12=16\n",
        "print(num11<num12)\n",
        "\n",
        "num13=19\n",
        "num14=18\n",
        "print(num13>num14)\n",
        "\n",
        "num15=20\n",
        "num16=21\n",
        "print(num15>num16)\n",
        "\n",
        "num17=22\n",
        "num18=21\n",
        "print(num17>num18)\n",
        "\n",
        "num19=23\n",
        "num20=22\n",
        "print(num19<num20)"
      ],
      "metadata": {
        "colab": {
          "base_uri": "https://localhost:8080/"
        },
        "id": "jjCdPjI5fge7",
        "outputId": "6662dfbf-3e2e-48d9-d9d7-49c16a2d3902"
      },
      "execution_count": null,
      "outputs": [
        {
          "output_type": "stream",
          "name": "stdout",
          "text": [
            "False\n",
            "True\n",
            "False\n",
            "True\n",
            "False\n"
          ]
        }
      ]
    },
    {
      "cell_type": "code",
      "source": [],
      "metadata": {
        "id": "IrB0a1uwgupo"
      },
      "execution_count": null,
      "outputs": []
    }
  ]
}