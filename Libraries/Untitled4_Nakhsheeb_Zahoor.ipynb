{
  "nbformat": 4,
  "nbformat_minor": 0,
  "metadata": {
    "colab": {
      "provenance": []
    },
    "kernelspec": {
      "name": "python3",
      "display_name": "Python 3"
    },
    "language_info": {
      "name": "python"
    }
  },
  "cells": [
    {
      "cell_type": "code",
      "execution_count": null,
      "metadata": {
        "id": "Qym2dk-q4bc8"
      },
      "outputs": [],
      "source": [
        "# libraty 1\n",
        "def add(a, b):\n",
        "    return a + b\n",
        "\n",
        "def subtract(a, b):\n",
        "    return a - b\n"
      ]
    },
    {
      "cell_type": "code",
      "source": [
        "# libraty 2\n",
        "def to_uppercase(s):\n",
        "    return s.upper()\n",
        "\n",
        "def to_lowercase(s):\n",
        "    return s.lower()\n"
      ],
      "metadata": {
        "id": "RUNOxtm-5Dbc"
      },
      "execution_count": null,
      "outputs": []
    },
    {
      "cell_type": "code",
      "source": [
        "# libraty 3\n",
        "def square_elements(numbers):\n",
        "    return [x**2 for x in numbers]\n",
        "\n",
        "def double_elements(numbers):\n",
        "    return [x*2 for x in numbers]\n"
      ],
      "metadata": {
        "id": "FlNxrCQB5Gdt"
      },
      "execution_count": null,
      "outputs": []
    },
    {
      "cell_type": "code",
      "source": [
        "# libraty 4\n",
        "def read_file(file_path):\n",
        "    with open(file_path, 'r') as file:\n",
        "        return file.read()\n",
        "\n",
        "def write_file(file_path, content):\n",
        "    with open(file_path, 'w') as file:\n",
        "        file.write(content)\n"
      ],
      "metadata": {
        "id": "OARf1CTb5JQ1"
      },
      "execution_count": null,
      "outputs": []
    },
    {
      "cell_type": "code",
      "source": [
        "# libraty 5\n",
        "import time\n",
        "\n",
        "def current_time():\n",
        "    return time.strftime(\"%Y-%m-%d %H:%M:%S\", time.localtime())\n",
        "\n",
        "def sleep_seconds(seconds):\n",
        "    time.sleep(seconds)\n"
      ],
      "metadata": {
        "id": "BGKhEWYB5NOR"
      },
      "execution_count": null,
      "outputs": []
    },
    {
      "cell_type": "code",
      "source": [
        "# main.py\n",
        "\n",
        "# Importing functions from different libraries\n",
        "from math_utils import add, subtract\n",
        "from string_utils import to_uppercase, to_lowercase\n",
        "from data_utils import square_elements, double_elements\n",
        "from file_utils import read_file, write_file\n",
        "from time_utils import current_time, sleep_seconds\n",
        "\n",
        "# Call two objects from each library\n",
        "\n",
        "\n",
        "result_add = add(5, 3)\n",
        "result_subtract = subtract(10, 4)\n",
        "\n",
        "upper_str = to_uppercase(\"hello world\")\n",
        "lower_str = to_lowercase(\"HELLO WORLD\")\n",
        "\n",
        "\n",
        "numbers = [1, 2, 3, 4]\n",
        "squared_numbers = square_elements(numbers)\n",
        "doubled_numbers = double_elements(numbers)\n",
        "\n",
        "\n",
        "write_file(\"test.txt\", \"This is a test file.\")\n",
        "file_content = read_file(\"test.txt\")\n",
        "\n",
        "\n",
        "current = current_time()\n",
        "print(f\"Current Time: {current}\")\n",
        "sleep_seconds(2)\n",
        "\n",
        "\n",
        "print(\"Math results:\", result_add, result_subtract)\n",
        "print(\"String results:\", upper_str, lower_str)\n",
        "print(\"Squared numbers:\", squared_numbers)\n",
        "print(\"Doubled numbers:\", doubled_numbers)\n",
        "print(\"File content:\", file_content)\n"
      ],
      "metadata": {
        "id": "wAJqrFvJ5TLU"
      },
      "execution_count": null,
      "outputs": []
    }
  ]
}