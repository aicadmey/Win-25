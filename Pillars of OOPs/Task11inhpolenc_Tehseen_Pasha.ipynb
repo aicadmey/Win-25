{
  "nbformat": 4,
  "nbformat_minor": 0,
  "metadata": {
    "colab": {
      "provenance": []
    },
    "kernelspec": {
      "name": "python3",
      "display_name": "Python 3"
    },
    "language_info": {
      "name": "python"
    }
  },
  "cells": [
    {
      "cell_type": "markdown",
      "source": [
        " Inheritance Example"
      ],
      "metadata": {
        "id": "u57fQ3VRm-V8"
      }
    },
    {
      "cell_type": "code",
      "execution_count": null,
      "metadata": {
        "id": "9gSBkbgyghSl",
        "colab": {
          "base_uri": "https://localhost:8080/"
        },
        "outputId": "0ce710c2-ccd5-45d7-fe97-89db6be9ba8d"
      },
      "outputs": [
        {
          "output_type": "stream",
          "name": "stdout",
          "text": [
            "Flying!\n",
            "Swimming!\n",
            "Quacking!\n"
          ]
        }
      ],
      "source": [
        "# Parent Class 1 (Example 1)\n",
        "class Bird:\n",
        "    def fly(self):\n",
        "        return \"Flying!\"\n",
        "\n",
        "# Parent Class 2\n",
        "class Fish:\n",
        "    def swim(self):\n",
        "        return \"Swimming!\"\n",
        "\n",
        "# Child Class\n",
        "class Duck(Bird, Fish):\n",
        "    def quack(self):\n",
        "        return \"Quacking!\"\n",
        "\n",
        "# Create an instance of Duck\n",
        "duck = Duck()\n",
        "print(duck.fly())\n",
        "print(duck.swim())\n",
        "print(duck.quack())"
      ]
    },
    {
      "cell_type": "code",
      "source": [
        "# Parent Class (Example 2)\n",
        "class Planet:\n",
        "    def __init__(self, name, diameter):\n",
        "        self.name = name\n",
        "        self.diameter = diameter  # Diameter in kilometers\n",
        "\n",
        "    def orbit(self):\n",
        "        return f\"{self.name} is orbiting the Sun.\"\n",
        "\n",
        "# Child Class\n",
        "class Earth(Planet):\n",
        "    def __init__(self, name, diameter, life):\n",
        "        super().__init__(name, diameter)\n",
        "        self.life = life\n",
        "\n",
        "    def support_life(self):\n",
        "        return f\"{self.name} supports life: {self.life}\"\n",
        "\n",
        "# Create an instance of Earth\n",
        "earth = Earth(\"Earth\", 12742, True)\n",
        "print(earth.orbit())\n",
        "print(earth.support_life())"
      ],
      "metadata": {
        "colab": {
          "base_uri": "https://localhost:8080/"
        },
        "id": "g2tGH464mmmX",
        "outputId": "a3a58151-0713-455b-dd94-f3d85d15aa11"
      },
      "execution_count": null,
      "outputs": [
        {
          "output_type": "stream",
          "name": "stdout",
          "text": [
            "Earth is orbiting the Sun.\n",
            "Earth supports life: True\n"
          ]
        }
      ]
    },
    {
      "cell_type": "markdown",
      "source": [
        "Polymorphism example."
      ],
      "metadata": {
        "id": "MF4GH8HynMAs"
      }
    },
    {
      "cell_type": "code",
      "source": [
        "\n",
        "# example 1.\n",
        "class Planet:\n",
        "    def describe(self):\n",
        "        return \"I am a planet orbiting a star.\"\n",
        "\n",
        "class Moon:\n",
        "    def describe(self):\n",
        "        return \"I am a moon orbiting a planet.\"\n",
        "\n",
        "class Star:\n",
        "    def describe(self):\n",
        "        return \"I am a star, providing light and energy.\"\n",
        "\n",
        "# Polymorphism in action\n",
        "bodies = [Planet(), Moon(), Star()]\n",
        "\n",
        "for body in bodies:\n",
        "    print(body.describe())"
      ],
      "metadata": {
        "colab": {
          "base_uri": "https://localhost:8080/"
        },
        "id": "RaLBfc-9nLCj",
        "outputId": "360b12f7-af7e-45e7-e56b-fccf1772b5db"
      },
      "execution_count": null,
      "outputs": [
        {
          "output_type": "stream",
          "name": "stdout",
          "text": [
            "I am a planet orbiting a star.\n",
            "I am a moon orbiting a planet.\n",
            "I am a star, providing light and energy.\n"
          ]
        }
      ]
    },
    {
      "cell_type": "code",
      "source": [
        "class Planet:\n",
        "    def orbit(self):\n",
        "        return \"Orbiting the Sun.\"\n",
        "\n",
        "class Moon:\n",
        "    def orbit(self):\n",
        "        return \"Orbiting a planet.\"\n",
        "\n",
        "class Star:\n",
        "    def orbit(self):\n",
        "        return \"I don't orbit, but I have planets orbiting me!\"\n",
        "\n",
        "# Polymorphic function\n",
        "def celestial_orbit(body):\n",
        "    return body.orbit()\n",
        "\n",
        "# Different objects\n",
        "earth = Planet()\n",
        "moon = Moon()\n",
        "sun = Star()\n",
        "\n",
        "print(celestial_orbit(earth))\n",
        "print(celestial_orbit(moon))\n",
        "print(celestial_orbit(sun))"
      ],
      "metadata": {
        "colab": {
          "base_uri": "https://localhost:8080/"
        },
        "id": "SsJJHwMeoiSg",
        "outputId": "48e3660f-209b-461f-ab74-dd97bfa76665"
      },
      "execution_count": null,
      "outputs": [
        {
          "output_type": "stream",
          "name": "stdout",
          "text": [
            "Orbiting the Sun.\n",
            "Orbiting a planet.\n",
            "I don't orbit, but I have planets orbiting me!\n"
          ]
        }
      ]
    },
    {
      "cell_type": "markdown",
      "source": [
        "Encapsulation"
      ],
      "metadata": {
        "id": "qRz63jH4pFra"
      }
    },
    {
      "cell_type": "code",
      "source": [
        "\n",
        "# Example 1\n",
        "class NervousSystem:\n",
        "    def __init__(self):\n",
        "        self.__impulse_signal = False  # Private attribute\n",
        "\n",
        "    # Public method to send impulses\n",
        "    def send_impulse(self):\n",
        "        self.__impulse_signal = True\n",
        "        return \"Impulse signal sent.\"\n",
        "\n",
        "    # Public method to check impulse status\n",
        "    def check_impulse(self):\n",
        "        return \"Impulse active.\" if self.__impulse_signal else \"No impulse.\"\n",
        "\n",
        "# Create an instance of NervousSystem\n",
        "nervous_system = NervousSystem()\n",
        "print(nervous_system.check_impulse())\n",
        "print(nervous_system.send_impulse())\n",
        "print(nervous_system.check_impulse())"
      ],
      "metadata": {
        "colab": {
          "base_uri": "https://localhost:8080/"
        },
        "id": "LbCVD4fopFN3",
        "outputId": "2f7971b5-195a-4f1a-9f64-103428f3e525"
      },
      "execution_count": null,
      "outputs": [
        {
          "output_type": "stream",
          "name": "stdout",
          "text": [
            "No impulse.\n",
            "Impulse signal sent.\n",
            "Impulse active.\n"
          ]
        }
      ]
    },
    {
      "cell_type": "code",
      "source": [
        "\n",
        "#Example 2\n",
        "class CirculatorySystem:\n",
        "    def __init__(self):\n",
        "        self.__blood_type = \"O+\"  # Private attribute\n",
        "\n",
        "    # Getter method\n",
        "    def get_blood_type(self):\n",
        "        return self.__blood_type\n",
        "\n",
        "    # Setter method\n",
        "    def set_blood_type(self, new_type):\n",
        "        if new_type in [\"A+\", \"A-\", \"B+\", \"B-\", \"O+\", \"O-\", \"AB+\", \"AB-\"]:\n",
        "            self.__blood_type = new_type\n",
        "        else:\n",
        "            return \"Invalid blood type.\"\n",
        "\n",
        "# Create an instance of CirculatorySystem\n",
        "system = CirculatorySystem()\n",
        "print(\"Original Blood Type:\", system.get_blood_type())\n",
        "system.set_blood_type(\"AB-\")\n",
        "print(\"Updated Blood Type:\", system.get_blood_type())"
      ],
      "metadata": {
        "colab": {
          "base_uri": "https://localhost:8080/"
        },
        "id": "awtVPy7npqPz",
        "outputId": "426ebc4f-d494-495b-b256-4d3b6f94216a"
      },
      "execution_count": null,
      "outputs": [
        {
          "output_type": "stream",
          "name": "stdout",
          "text": [
            "Original Blood Type: O+\n",
            "Updated Blood Type: AB-\n"
          ]
        }
      ]
    }
  ]
}