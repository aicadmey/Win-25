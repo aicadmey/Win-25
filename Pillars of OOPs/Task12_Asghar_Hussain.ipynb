{
  "nbformat": 4,
  "nbformat_minor": 0,
  "metadata": {
    "colab": {
      "provenance": []
    },
    "kernelspec": {
      "name": "python3",
      "display_name": "Python 3"
    },
    "language_info": {
      "name": "python"
    }
  },
  "cells": [
    {
      "cell_type": "markdown",
      "source": [
        "# **Pillars of OOPs in Python**"
      ],
      "metadata": {
        "id": "2o4KVGVPGO-p"
      }
    },
    {
      "cell_type": "markdown",
      "source": [
        "**Encapsulation**"
      ],
      "metadata": {
        "id": "Bnm68TpFGdTp"
      }
    },
    {
      "cell_type": "code",
      "execution_count": null,
      "metadata": {
        "colab": {
          "base_uri": "https://localhost:8080/"
        },
        "id": "Hp1TBF2BGLq_",
        "outputId": "80bf930e-946b-4026-a677-e24773616fbc"
      },
      "outputs": [
        {
          "output_type": "stream",
          "name": "stdout",
          "text": [
            "Original Sequence: ATGCGATCG\n",
            "Length of sequence: 9\n"
          ]
        }
      ],
      "source": [
        "#Encasulation\n",
        "\n",
        "class DNA:\n",
        "    def __init__(self, sequence):\n",
        "        self.__sequence = sequence  # Private attribute (encapsulated)\n",
        "\n",
        "    def get_sequence(self):\n",
        "        return self.__sequence\n",
        "\n",
        "    def get_length(self):\n",
        "        return len(self.__sequence)\n",
        "\n",
        "\n",
        "\n",
        "# Example usage\n",
        "my_dna = DNA(\"ATGCGATCG\")\n",
        "print(f\"Original Sequence: {my_dna.get_sequence()}\")\n",
        "print(f\"Length of sequence: {my_dna.get_length()}\")\n",
        "\n"
      ]
    },
    {
      "cell_type": "code",
      "source": [
        "#\n",
        "\n",
        "class Organism:\n",
        "    def __init__(self, species, traits):\n",
        "        self._species = species  # (encapsulated)\n",
        "        self._traits = traits    # (encapsulated)\n",
        "\n",
        "    def get_species(self):\n",
        "        return self._species\n",
        "\n",
        "    def get_traits(self):\n",
        "        return self._traits.copy()\n",
        "\n",
        "\n",
        "# Example usage\n",
        "organism1 = Organism(\"Human\", {\"height\": 1.75, \"strength\": 80})\n",
        "\n",
        "print(f\"Species: {organism1.get_species()}\")\n",
        "print(\"Traits:\", organism1.get_traits())"
      ],
      "metadata": {
        "colab": {
          "base_uri": "https://localhost:8080/"
        },
        "id": "zdf5n7mbHlWp",
        "outputId": "2c65c5b7-4749-492c-8f16-6c97ba6be510"
      },
      "execution_count": null,
      "outputs": [
        {
          "output_type": "stream",
          "name": "stdout",
          "text": [
            "Species: Human\n",
            "Traits: {'height': 1.75, 'strength': 80}\n"
          ]
        }
      ]
    },
    {
      "cell_type": "markdown",
      "source": [
        "## **Inheritance**"
      ],
      "metadata": {
        "id": "I0fXaXGUGOwx"
      }
    },
    {
      "cell_type": "code",
      "source": [
        "\n",
        "\n",
        "class Animal(Organism):\n",
        "    def __init__(self, species, traits, habitat):\n",
        "        super().__init__(species, traits)  # Call the parent class constructor\n",
        "        self.habitat = habitat\n",
        "\n",
        "    def display_info(self):\n",
        "        print(f\"Species: {self.get_species()}\")\n",
        "        print(\"Traits:\", self.get_traits())\n",
        "        print(f\"Habitat: {self.habitat}\")\n",
        "\n",
        "# Example usage\n",
        "lion = Animal(\"Lion\", {\"color\": \"golden\", \"speed\": 80}, \"Savannah\")\n",
        "lion.display_info()"
      ],
      "metadata": {
        "colab": {
          "base_uri": "https://localhost:8080/"
        },
        "id": "ZtnuNaVuIkGu",
        "outputId": "f13f5e5d-391b-4e27-df06-a319423625dc"
      },
      "execution_count": null,
      "outputs": [
        {
          "output_type": "stream",
          "name": "stdout",
          "text": [
            "Species: Lion\n",
            "Traits: {'color': 'golden', 'speed': 80}\n",
            "Habitat: Savannah\n"
          ]
        }
      ]
    },
    {
      "cell_type": "code",
      "source": [
        "class Vehicle:\n",
        "    def __init__(self, make, model, year):\n",
        "        self.make = make\n",
        "        self.model = model\n",
        "        self.year = year\n",
        "\n",
        "    def display_info(self):\n",
        "        print(f\"Make: {self.make}\")\n",
        "        print(f\"Model: {self.model}\")\n",
        "        print(f\"Year: {self.year}\")\n",
        "\n",
        "\n",
        "class Car(Vehicle):\n",
        "    def __init__(self, make, model, year, num_doors):\n",
        "        super().__init__(make, model, year)\n",
        "        self.num_doors = num_doors\n",
        "\n",
        "    def display_info(self):\n",
        "        super().display_info()\n",
        "        print(f\"Number of Doors: {self.num_doors}\")\n",
        "\n",
        "\n",
        "# Example usage\n",
        "my_car = Car(\"Toyota\", \"Camry\", 2023, 4)\n",
        "my_car.display_info()"
      ],
      "metadata": {
        "colab": {
          "base_uri": "https://localhost:8080/"
        },
        "id": "qwu1yipDOJJm",
        "outputId": "d02d06b3-2915-4c62-bd7b-c6941965249b"
      },
      "execution_count": null,
      "outputs": [
        {
          "output_type": "stream",
          "name": "stdout",
          "text": [
            "Make: Toyota\n",
            "Model: Camry\n",
            "Year: 2023\n",
            "Number of Doors: 4\n"
          ]
        }
      ]
    },
    {
      "cell_type": "markdown",
      "source": [
        "## **Polymorphism**"
      ],
      "metadata": {
        "id": "WQYpC209GO2p"
      }
    },
    {
      "cell_type": "code",
      "source": [
        "\n",
        "class Spacecraft:\n",
        "    def move(self):\n",
        "        print(\"Spacecraft is moving through space.\")\n",
        "\n",
        "class Rocket(Spacecraft):\n",
        "    def move(self):\n",
        "        print(\"Rocket is launching and accelerating.\")\n",
        "\n",
        "class SpaceShuttle(Spacecraft):\n",
        "    def move(self):\n",
        "        print(\"Space shuttle is maneuvering in orbit.\")\n",
        "\n",
        "# Example usage\n",
        "spacecraft = Spacecraft()\n",
        "rocket = Rocket()\n",
        "shuttle = SpaceShuttle()\n",
        "\n",
        "\n",
        "spacecraft.move()\n",
        "rocket.move()\n",
        "shuttle.move()"
      ],
      "metadata": {
        "colab": {
          "base_uri": "https://localhost:8080/"
        },
        "id": "Tft5Ld0gOVHa",
        "outputId": "bec5935c-336b-429b-d1a7-208c14973f2e"
      },
      "execution_count": null,
      "outputs": [
        {
          "output_type": "stream",
          "name": "stdout",
          "text": [
            "Spacecraft is moving through space.\n",
            "Rocket is launching and accelerating.\n",
            "Space shuttle is maneuvering in orbit.\n"
          ]
        }
      ]
    },
    {
      "cell_type": "code",
      "source": [
        "\n",
        "class Bird:\n",
        "    def fly(self):\n",
        "        print(\"Bird is flying.\")\n",
        "\n",
        "class Airplane:\n",
        "    def fly(self):\n",
        "        print(\"Airplane is flying.\")\n",
        "\n",
        "\n",
        "# Example usage\n",
        "bird = Bird()\n",
        "airplane = Airplane()\n",
        "\n",
        "bird.fly()\n",
        "airplane.fly()\n"
      ],
      "metadata": {
        "colab": {
          "base_uri": "https://localhost:8080/"
        },
        "id": "ay8i56L8OsVs",
        "outputId": "8f236eed-deba-47f5-f43d-f1ad9c4c272a"
      },
      "execution_count": null,
      "outputs": [
        {
          "output_type": "stream",
          "name": "stdout",
          "text": [
            "Bird is flying.\n",
            "Airplane is flying.\n"
          ]
        }
      ]
    }
  ]
}