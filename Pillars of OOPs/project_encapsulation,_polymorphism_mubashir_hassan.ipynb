{
  "nbformat": 4,
  "nbformat_minor": 0,
  "metadata": {
    "colab": {
      "provenance": []
    },
    "kernelspec": {
      "name": "python3",
      "display_name": "Python 3"
    },
    "language_info": {
      "name": "python"
    }
  },
  "cells": [
    {
      "cell_type": "markdown",
      "source": [
        "inheretance"
      ],
      "metadata": {
        "id": "E6lXktnUQ93i"
      }
    },
    {
      "cell_type": "code",
      "execution_count": null,
      "metadata": {
        "colab": {
          "base_uri": "https://localhost:8080/"
        },
        "id": "q-bi4XWDP0-n",
        "outputId": "e5853b21-3325-4e96-a119-9f8e1eaab89b"
      },
      "outputs": [
        {
          "output_type": "stream",
          "name": "stdout",
          "text": [
            "kutta says: Woof!\n",
            "billi says: Meow!\n"
          ]
        }
      ],
      "source": [
        "class Animal:\n",
        "    def __init__(self, name):\n",
        "        self.name = name\n",
        "\n",
        "    def speak(self):\n",
        "        pass\n",
        "\n",
        "class Dog(Animal):\n",
        "    def speak(self):\n",
        "        return \"Woof!\"\n",
        "\n",
        "class Cat(Animal):\n",
        "    def speak(self):\n",
        "        return \"Meow!\"\n",
        "dog = Dog(\"kutta\")\n",
        "cat = Cat(\"billi\")\n",
        "\n",
        "print(dog.name, \"says:\", dog.speak())\n",
        "print(cat.name, \"says:\", cat.speak())"
      ]
    },
    {
      "cell_type": "code",
      "source": [
        "class Shape:\n",
        "  def __init__(self, color):\n",
        "    self.color = color\n",
        "\n",
        "class Rectangle(Shape):\n",
        "  def __init__(self, color, width, height):\n",
        "    super().__init__(color)\n",
        "    self.width = width\n",
        "    self.height = height\n",
        "\n",
        "my_rectangle = Rectangle(\"blue\", 5, 3)\n",
        "\n",
        "print(\"Rectangle color:\", my_rectangle.color)"
      ],
      "metadata": {
        "colab": {
          "base_uri": "https://localhost:8080/"
        },
        "id": "NY0txhO-RZBV",
        "outputId": "f6c0ec6b-ee72-4f65-fb71-38679b2d5959"
      },
      "execution_count": null,
      "outputs": [
        {
          "output_type": "stream",
          "name": "stdout",
          "text": [
            "Rectangle color: blue\n"
          ]
        }
      ]
    },
    {
      "cell_type": "markdown",
      "source": [
        "polymorphism"
      ],
      "metadata": {
        "id": "Q2YD5cKpRviA"
      }
    },
    {
      "cell_type": "code",
      "source": [
        "class Instrument:\n",
        "    def play(self):\n",
        "        pass\n",
        "\n",
        "class Guitar(Instrument):\n",
        "    def play(self):\n",
        "        return \"Strumming...\"\n",
        "\n",
        "class Piano(Instrument):\n",
        "    def play(self):\n",
        "        return \"Playing keys...\"\n",
        "\n",
        "def make_music(instrument):\n",
        "    return instrument.play()\n",
        "\n",
        "guitar = Guitar()\n",
        "piano = Piano()\n",
        "\n",
        "print(\"Guitar:\", make_music(guitar))\n",
        "print(\"Piano:\", make_music(piano))"
      ],
      "metadata": {
        "colab": {
          "base_uri": "https://localhost:8080/"
        },
        "id": "AvrBIbsZSM3B",
        "outputId": "21028ba7-823d-4be4-a634-398e5e484914"
      },
      "execution_count": null,
      "outputs": [
        {
          "output_type": "stream",
          "name": "stdout",
          "text": [
            "Guitar: Strumming...\n",
            "Piano: Playing keys...\n"
          ]
        }
      ]
    },
    {
      "cell_type": "code",
      "source": [
        "class Shape:\n",
        "    def area(self):\n",
        "        pass\n",
        "\n",
        "class Rectangle(Shape):\n",
        "    def __init__(self, width, height):\n",
        "        self.width = width\n",
        "        self.height = height\n",
        "\n",
        "    def area(self):\n",
        "        return self.width * self.height\n",
        "\n",
        "# Create a Rectangle object\n",
        "rectangle = Rectangle(5, 3)\n",
        "\n",
        "# Calculate the area (polymorphism in action)\n",
        "print(\"Rectangle area:\", rectangle.area())  # Output: Rectangle area: 15.0"
      ],
      "metadata": {
        "id": "WXPSVqNcSgUR"
      },
      "execution_count": null,
      "outputs": []
    },
    {
      "cell_type": "markdown",
      "source": [
        "encapsulation"
      ],
      "metadata": {
        "id": "DS-I9QassfOU"
      }
    },
    {
      "cell_type": "code",
      "source": [
        "class Rectangle:\n",
        "    def __init__(self, width, height):\n",
        "        self.__width = width\n",
        "        self.__height = height\n",
        "\n",
        "    def set_width(self, width):\n",
        "        if width > 0:\n",
        "            self.__width = width\n",
        "\n",
        "    def set_height(self, height):\n",
        "        if height > 0:\n",
        "            self.__height = height\n",
        "\n",
        "    def get_width(self):\n",
        "        return self.__width\n",
        "\n",
        "    def get_height(self):\n",
        "        return self.__height\n",
        "\n",
        "    def calculate_area(self):\n",
        "        return self.__width * self.__height\n",
        "\n",
        "rectangle = Rectangle(5, 3)\n",
        "\n",
        "rectangle.set_width(10)\n",
        "rectangle.set_height(7)\n",
        "\n",
        "\n",
        "print(\"Rectangle area:\", rectangle.calculate_area())"
      ],
      "metadata": {
        "colab": {
          "base_uri": "https://localhost:8080/"
        },
        "id": "06rRHSlRtcR6",
        "outputId": "0465d874-4dc8-4eed-cfbf-b5506def4155"
      },
      "execution_count": null,
      "outputs": [
        {
          "output_type": "stream",
          "name": "stdout",
          "text": [
            "Rectangle area: 70\n"
          ]
        }
      ]
    },
    {
      "cell_type": "code",
      "source": [
        "class Rectangle:\n",
        "    def __init__(self, width, height):\n",
        "        self.__width = width\n",
        "        self.__height = height\n",
        "\n",
        "    def set_width(self, width):\n",
        "        if width > 0:\n",
        "            self.__width = width\n",
        "\n",
        "    def set_height(self, height):\n",
        "        if height > 0:\n",
        "            self.__height = height\n",
        "\n",
        "    def get_width(self):\n",
        "        return self.__width\n",
        "\n",
        "    def get_height(self):\n",
        "        return self.__height\n",
        "\n",
        "    def calculate_area(self):\n",
        "        return self.__width * self.__height\n",
        "\n",
        "rectangle = Rectangle(5, 3)\n",
        "\n",
        "\n",
        "rectangle.set_width(10)\n",
        "rectangle.set_height(7)\n",
        "\n",
        "# Calculate the area\n",
        "print(\"Rectangle area:\", rectangle.calculate_area())"
      ],
      "metadata": {
        "colab": {
          "base_uri": "https://localhost:8080/"
        },
        "id": "fWMNvXlDtxYR",
        "outputId": "61abd675-338f-465d-9113-38fc4a2019d7"
      },
      "execution_count": null,
      "outputs": [
        {
          "output_type": "stream",
          "name": "stdout",
          "text": [
            "Rectangle area: 70\n"
          ]
        }
      ]
    }
  ]
}