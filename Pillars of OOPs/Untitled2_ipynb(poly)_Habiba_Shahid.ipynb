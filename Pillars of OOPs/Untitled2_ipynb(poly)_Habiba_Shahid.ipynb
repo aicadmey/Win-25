{
  "nbformat": 4,
  "nbformat_minor": 0,
  "metadata": {
    "colab": {
      "provenance": []
    },
    "kernelspec": {
      "name": "python3",
      "display_name": "Python 3"
    },
    "language_info": {
      "name": "python"
    }
  },
  "cells": [
    {
      "cell_type": "code",
      "execution_count": null,
      "metadata": {
        "id": "wTy2k0CUwOGq"
      },
      "outputs": [],
      "source": [
        "#polymorphysism\n",
        "# Base class (Parent)\n",
        "class Animal:\n",
        "    def __init__(self, name):\n",
        "        self.name = name\n",
        "\n",
        "    def speak(self):\n",
        "        return f\"{self.name} makes a sound.\"\n",
        "\n",
        "# Derived class (Child)\n",
        "class Dog(Animal):\n",
        "    def speak(self):\n",
        "        return f\"{self.name} barks.\"\n",
        "\n",
        "# Usage\n",
        "animal = Animal(\"Generic Animal\")\n",
        "dog = Dog(\"Buddy\")\n",
        "\n",
        "print(animal.speak())  # Output: Generic Animal makes a sound.\n",
        "print(dog.speak())     # Output: Buddy barks.\n"
      ]
    },
    {
      "cell_type": "code",
      "source": [
        "class Animal:             # with inheritance\n",
        "    def speak(self):\n",
        "        return \"Some generic sound\"\n",
        "\n",
        "class Dog(Animal):\n",
        "    def speak(self):\n",
        "        return \"Woof!\"\n",
        "\n",
        "class Cat(Animal):\n",
        "    def speak(self):\n",
        "        return \"Meow!\"\n",
        "\n",
        "# Polymorphism in action\n",
        "animals = [Dog(), Cat(), Animal()]\n",
        "\n",
        "for animal in animals:\n",
        "    print(animal.speak())\n",
        "\n",
        "# Output:\n",
        "# Woof!\n",
        "# Meow!\n",
        "# Some generic sound\n"
      ],
      "metadata": {
        "id": "yGufjblvwcAU"
      },
      "execution_count": null,
      "outputs": []
    }
  ]
}