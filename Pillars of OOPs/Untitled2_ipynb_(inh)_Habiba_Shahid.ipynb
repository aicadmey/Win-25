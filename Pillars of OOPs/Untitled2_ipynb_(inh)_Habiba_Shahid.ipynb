{
  "nbformat": 4,
  "nbformat_minor": 0,
  "metadata": {
    "colab": {
      "provenance": []
    },
    "kernelspec": {
      "name": "python3",
      "display_name": "Python 3"
    },
    "language_info": {
      "name": "python"
    }
  },
  "cells": [
    {
      "cell_type": "code",
      "execution_count": null,
      "metadata": {
        "colab": {
          "base_uri": "https://localhost:8080/",
          "height": 106
        },
        "id": "U-2rR9JiiP02",
        "outputId": "6c6c2c6c-13b8-45a0-a022-b625bd1a338d"
      },
      "outputs": [
        {
          "output_type": "error",
          "ename": "IndentationError",
          "evalue": "unindent does not match any outer indentation level (<tokenize>, line 5)",
          "traceback": [
            "\u001b[0;36m  File \u001b[0;32m\"<tokenize>\"\u001b[0;36m, line \u001b[0;32m5\u001b[0m\n\u001b[0;31m    return \"The vehicle moves.\"\u001b[0m\n\u001b[0m    ^\u001b[0m\n\u001b[0;31mIndentationError\u001b[0m\u001b[0;31m:\u001b[0m unindent does not match any outer indentation level\n"
          ]
        }
      ],
      "source": [
        "      # inheritence\n",
        "    # Base class 1\n",
        "class Vehicle:\n",
        "    def move(self):\n",
        "        return \"The vehicle moves.\"\n",
        "\n",
        "# Base class 2\n",
        "class Machine:\n",
        "    def operate(self):\n",
        "        return \"The machine operates.\"\n",
        "\n",
        "# Derived class\n",
        "class Car(Vehicle, Machine):\n",
        "    def move(self):\n",
        "        return \"The car drives on the road.\"\n",
        "\n",
        "# Usage\n",
        "car = Car()\n",
        "\n",
        "print(car.move())     # Output: The car drives on the road.\n",
        "print(car.operate())  # Output: The machine operates.\n"
      ]
    },
    {
      "cell_type": "code",
      "source": [
        "# Base class (Parent)\n",
        "class Animal:\n",
        "    def __init__(self, name):\n",
        "        self.name = name\n",
        "\n",
        "    def speak(self):\n",
        "        return f\"{self.name} makes a sound.\"\n",
        "\n",
        "# Derived class (Child)\n",
        "class Dog(Animal):\n",
        "    def speak(self):\n",
        "        return f\"{self.name} barks.\"\n",
        "\n",
        "# Usage\n",
        "animal = Animal(\"Generic Animal\")\n",
        "dog = Dog(\"Buddy\")\n",
        "\n",
        "print(animal.speak())  # Output: Generic Animal makes a sound.\n",
        "print(dog.speak())     # Output: Buddy barks.\n"
      ],
      "metadata": {
        "id": "IWND6ZD-vAU2"
      },
      "execution_count": null,
      "outputs": []
    }
  ]
}