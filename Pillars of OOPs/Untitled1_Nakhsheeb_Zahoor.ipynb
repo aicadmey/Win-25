{
  "nbformat": 4,
  "nbformat_minor": 0,
  "metadata": {
    "colab": {
      "provenance": []
    },
    "kernelspec": {
      "name": "python3",
      "display_name": "Python 3"
    },
    "language_info": {
      "name": "python"
    }
  },
  "cells": [
    {
      "cell_type": "code",
      "execution_count": null,
      "metadata": {
        "colab": {
          "base_uri": "https://localhost:8080/"
        },
        "id": "EOO-oEKx8Mtq",
        "outputId": "51c2e767-3227-44f2-bb1e-d1f948aa7ebc"
      },
      "outputs": [
        {
          "output_type": "stream",
          "name": "stdout",
          "text": [
            "Generic Animal makes a sound\n",
            "Buddy barks\n"
          ]
        }
      ],
      "source": [
        "# inheretence\n",
        "class Animal:\n",
        "    def speak(self):\n",
        "        print(\"Animal sound\")\n",
        "\n",
        "class Dog(Animal):\n",
        "    def speak(self):\n",
        "        print(\"Bark\")\n",
        "\n",
        "dog = Dog()\n",
        "dog.speak()\n"
      ]
    },
    {
      "cell_type": "code",
      "source": [
        "class Vehicle:\n",
        "    def __init__(self, brand):\n",
        "        self.brand = brand\n",
        "\n",
        "    def info(self):\n",
        "        print(f\"This is a vehicle made by {self.brand}.\")\n",
        "\n",
        "class Car(Vehicle):\n",
        "    def __init__(self, brand, model):\n",
        "        super().__init__(brand)\n",
        "        self.model = model\n",
        "\n",
        "    def info(self):\n",
        "        print(f\"This is a car, model {self.model}, made by {self.brand}.\")\n",
        "\n",
        "car = Car(\"Toyota\", \"Corolla\")\n",
        "car.info()\n"
      ],
      "metadata": {
        "colab": {
          "base_uri": "https://localhost:8080/"
        },
        "id": "WN0YghzZ9c5b",
        "outputId": "d98ce242-2698-4858-9829-8f88c369c7a1"
      },
      "execution_count": null,
      "outputs": [
        {
          "output_type": "stream",
          "name": "stdout",
          "text": [
            "This is a car, model Corolla, made by Toyota.\n"
          ]
        }
      ]
    },
    {
      "cell_type": "code",
      "source": [
        "#encapsulation\n",
        "class BankAccount:\n",
        "    def __init__(self, owner, balance=0):\n",
        "        self.owner = owner\n",
        "        self.__balance = balance  # private attribute\n",
        "\n",
        "    def deposit(self, amount):\n",
        "        if amount > 0:\n",
        "            self.__balance += amount\n",
        "\n",
        "    def withdraw(self, amount):\n",
        "        if 0 < amount <= self.__balance:\n",
        "            self.__balance -= amount\n",
        "\n",
        "    def get_balance(self):\n",
        "        return self.__balance\n",
        "\n",
        "\n",
        "account = BankAccount(\"Alice\", 1000)\n",
        "\n",
        "\n",
        "account.deposit(500)\n",
        "account.withdraw(200)\n",
        "\n",
        "\n",
        "print(account.get_balance())\n"
      ],
      "metadata": {
        "colab": {
          "base_uri": "https://localhost:8080/"
        },
        "id": "ZAqzSrP1-JXq",
        "outputId": "357b7dea-659f-4f62-a766-beb523c29258"
      },
      "execution_count": null,
      "outputs": [
        {
          "output_type": "stream",
          "name": "stdout",
          "text": [
            "1300\n"
          ]
        }
      ]
    },
    {
      "cell_type": "code",
      "source": [
        "class Person:\n",
        "    def __init__(self, name, age):\n",
        "        self.name = name\n",
        "        self.__age = age  # private attribute\n",
        "\n",
        "    def set_age(self, age):\n",
        "        if age >= 0:\n",
        "            self.__age = age\n",
        "        else:\n",
        "            print(\"Age cannot be negative.\")\n",
        "\n",
        "    def get_age(self):\n",
        "        return self.__age\n",
        "\n",
        "\n",
        "person = Person(\"John\", 25)\n",
        "person.set_age(30)\n",
        "print(person.get_age())\n",
        "person.set_age(-5)\n"
      ],
      "metadata": {
        "colab": {
          "base_uri": "https://localhost:8080/"
        },
        "id": "SAKy9OUD_KUT",
        "outputId": "fa07892d-0442-45f2-c804-653a78e1ce51"
      },
      "execution_count": null,
      "outputs": [
        {
          "output_type": "stream",
          "name": "stdout",
          "text": [
            "30\n",
            "Age cannot be negative.\n"
          ]
        }
      ]
    },
    {
      "cell_type": "code",
      "source": [
        "#polymorphism\n",
        "class Shape:\n",
        "    def area(self):\n",
        "        pass\n",
        "\n",
        "class Circle(Shape):\n",
        "    def __init__(self, radius):\n",
        "        self.radius = radius\n",
        "\n",
        "    def area(self):\n",
        "        return 3.14 * self.radius * self.radius\n",
        "\n",
        "class Rectangle(Shape):\n",
        "    def __init__(self, width, height):\n",
        "        self.width = width\n",
        "        self.height = height\n",
        "\n",
        "    def area(self):\n",
        "        return self.width * self.height\n",
        "\n",
        "\n",
        "shapes = [Circle(5), Rectangle(4, 6)]\n",
        "\n",
        "for shape in shapes:\n",
        "    print(f\"Area: {shape.area()}\")\n"
      ],
      "metadata": {
        "colab": {
          "base_uri": "https://localhost:8080/"
        },
        "id": "qEZM5RZJ_v7z",
        "outputId": "881a5ad1-519d-4a8a-b2ac-d3ceec88235f"
      },
      "execution_count": null,
      "outputs": [
        {
          "output_type": "stream",
          "name": "stdout",
          "text": [
            "Area: 78.5\n",
            "Area: 24\n"
          ]
        }
      ]
    },
    {
      "cell_type": "code",
      "source": [
        "class Bird:\n",
        "    def sound(self):\n",
        "        print(\"Tweet\")\n",
        "\n",
        "class Duck(Bird):\n",
        "    def sound(self):\n",
        "        print(\"Quack\")\n",
        "\n",
        "#  both classes have the same method name `sound`\n",
        "def make_sound(bird):\n",
        "    bird.sound()\n",
        "\n",
        "#  instances\n",
        "bird = Bird()\n",
        "duck = Duck()\n",
        "\n",
        "\n",
        "make_sound(bird)\n",
        "make_sound(duck)\n"
      ],
      "metadata": {
        "colab": {
          "base_uri": "https://localhost:8080/"
        },
        "id": "DLxMt-66AU3N",
        "outputId": "f6d629cb-560a-4ad5-de74-b430f64a40bb"
      },
      "execution_count": null,
      "outputs": [
        {
          "output_type": "stream",
          "name": "stdout",
          "text": [
            "Tweet\n",
            "Quack\n"
          ]
        }
      ]
    }
  ]
}