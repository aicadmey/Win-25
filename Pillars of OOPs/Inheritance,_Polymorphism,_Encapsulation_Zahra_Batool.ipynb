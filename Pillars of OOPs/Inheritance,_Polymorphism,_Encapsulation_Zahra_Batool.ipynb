{
  "cells": [
    {
      "cell_type": "markdown",
      "id": "904ab8b6-26f1-4080-a6de-c66f1e62b73f",
      "metadata": {
        "id": "904ab8b6-26f1-4080-a6de-c66f1e62b73f"
      },
      "source": [
        "INHERITANCE"
      ]
    },
    {
      "cell_type": "code",
      "execution_count": null,
      "id": "bf544756-e87f-44fc-835a-8ebe14f8ccd2",
      "metadata": {
        "id": "bf544756-e87f-44fc-835a-8ebe14f8ccd2",
        "outputId": "ab75a9f7-5b1a-4a8d-c5f1-ee8b7dcb72c2"
      },
      "outputs": [
        {
          "name": "stdout",
          "output_type": "stream",
          "text": [
            "30\n",
            "200\n",
            "2.0\n"
          ]
        }
      ],
      "source": [
        "class Addition:\n",
        "    def sum(self, a, b):\n",
        "        return a+b\n",
        "class Multiplication:\n",
        "    def multiply(self, a, b):\n",
        "        return a*b\n",
        "class Calculation(Addition, Multiplication):\n",
        "    def divide(self, a, b):\n",
        "        return a/b\n",
        "c = Calculation()\n",
        "print(c.sum(20, 10))\n",
        "print(c.multiply(20, 10))\n",
        "print(c.divide(20, 10))"
      ]
    },
    {
      "cell_type": "code",
      "execution_count": null,
      "id": "ff1e70c8-1339-47b5-8bb2-c86b5186101e",
      "metadata": {
        "id": "ff1e70c8-1339-47b5-8bb2-c86b5186101e",
        "outputId": "b0f737ed-7632-47d7-c4d7-950ed7648ea8"
      },
      "outputs": [
        {
          "name": "stdout",
          "output_type": "stream",
          "text": [
            "Mango\n",
            "Yellow\n",
            "Apple\n",
            "Red\n"
          ]
        }
      ],
      "source": [
        "class Fruit:\n",
        "    def description(self):\n",
        "        self.name=\"Name\"\n",
        "        self.color=\"Color\"\n",
        "class Mango(Fruit):\n",
        "    def description(self):\n",
        "        self.name= \"Mango\"\n",
        "        self.color=\"Yellow\"\n",
        "        print(self.name)\n",
        "        print(self.color)\n",
        "class Apple(Fruit):\n",
        "    def description(self):\n",
        "        self.name=\"Apple\"\n",
        "        self.color=\"Red\"\n",
        "        print(self.name)\n",
        "        print(self.color)\n",
        "mango=Mango()\n",
        "mango.description()\n",
        "apple=Apple()\n",
        "apple.description()"
      ]
    },
    {
      "cell_type": "markdown",
      "id": "43c1fd4c-3a2b-4c9b-b76d-61b3a60e36fe",
      "metadata": {
        "id": "43c1fd4c-3a2b-4c9b-b76d-61b3a60e36fe"
      },
      "source": [
        "POLYMORPHISM"
      ]
    },
    {
      "cell_type": "code",
      "execution_count": null,
      "id": "9f266e98-5d53-471a-a203-478a2b177bde",
      "metadata": {
        "id": "9f266e98-5d53-471a-a203-478a2b177bde",
        "outputId": "c26eb62e-8eef-42d0-c579-37d67cd57769"
      },
      "outputs": [
        {
          "name": "stdout",
          "output_type": "stream",
          "text": [
            "structure of diamond is hexagonal\n",
            "structure of graphite is layered hexagonal ring\n"
          ]
        }
      ],
      "source": [
        "class Carbon:\n",
        "    def structure(self):\n",
        "        print(structure)\n",
        "class Diamond(Carbon):\n",
        "    def structure(self):\n",
        "        print(\"structure of diamond is hexagonal\")\n",
        "class Graphite(Carbon):\n",
        "    def structure(self):\n",
        "        print(\"structure of graphite is layered hexagonal ring\")\n",
        "def carbon_structure(carbon):\n",
        "    carbon.structure()\n",
        "diamond = Diamond()\n",
        "graphite = Graphite()\n",
        "carbon_structure(diamond)\n",
        "carbon_structure(graphite)"
      ]
    },
    {
      "cell_type": "code",
      "execution_count": null,
      "id": "000d4c57-f962-4430-bff5-f3d904b52d81",
      "metadata": {
        "id": "000d4c57-f962-4430-bff5-f3d904b52d81",
        "outputId": "9d5d28f9-162c-42a2-fdfa-c5c1c07d756b"
      },
      "outputs": [
        {
          "name": "stdout",
          "output_type": "stream",
          "text": [
            "O\n",
            "A\n"
          ]
        }
      ],
      "source": [
        "class Group:\n",
        "    def blood(self):\n",
        "        return \"Blood group\"\n",
        "class A(Group):\n",
        "    def blood(self):\n",
        "        return \"A\"\n",
        "class B(Group):\n",
        "    def blood(self):\n",
        "        return \"B\"\n",
        "class AB(Group):\n",
        "    def blood(self):\n",
        "        return \"AB\"\n",
        "class O(Group):\n",
        "    def blood(self):\n",
        "        return \"O\"\n",
        "def blood_group(group):\n",
        "    print(group.blood())\n",
        "zaka=O()\n",
        "ali=A()\n",
        "blood_group(zaka)\n",
        "blood_group(ali)"
      ]
    },
    {
      "cell_type": "markdown",
      "id": "114db6a5-73fb-4ca0-afb6-aac20c7e0330",
      "metadata": {
        "id": "114db6a5-73fb-4ca0-afb6-aac20c7e0330"
      },
      "source": [
        "ENCAPSULATION"
      ]
    },
    {
      "cell_type": "code",
      "execution_count": null,
      "id": "4f09b2ef-9d09-449f-84ac-a939595d4e52",
      "metadata": {
        "id": "4f09b2ef-9d09-449f-84ac-a939595d4e52",
        "outputId": "57e5fd07-667d-4210-ea3e-f6ce1fa67da4"
      },
      "outputs": [
        {
          "name": "stdout",
          "output_type": "stream",
          "text": [
            "John\n",
            "50000\n"
          ]
        }
      ],
      "source": [
        "class Employee:\n",
        "    def __init__(self, name, salary):\n",
        "        self.name = name\n",
        "        self.__salary = salary\n",
        "    def get_salary(self):\n",
        "        return self.__salary\n",
        "emp = Employee(\"John\", 50000)\n",
        "print(emp.name)\n",
        "print(emp.get_salary())\n"
      ]
    },
    {
      "cell_type": "code",
      "execution_count": null,
      "id": "6d5c86aa-c1dd-4b65-bdf3-e9f06039efd6",
      "metadata": {
        "id": "6d5c86aa-c1dd-4b65-bdf3-e9f06039efd6",
        "outputId": "32b43588-40de-465f-a53c-b20f5b491a93"
      },
      "outputs": [
        {
          "name": "stdout",
          "output_type": "stream",
          "text": [
            "XYZ\n",
            "The chat of XYZ is locked\n"
          ]
        }
      ],
      "source": [
        "class Whatsapp:\n",
        "    def __init__(self, name, locked_message):\n",
        "        self.name = name\n",
        "        self.__locked_message = locked_message\n",
        "    def chat_locked(self):\n",
        "        return self.__locked_message\n",
        "chat = Whatsapp(\"XYZ\", \"The chat of XYZ is locked\")\n",
        "print(chat.name)\n",
        "print(chat.chat_locked())\n"
      ]
    },
    {
      "cell_type": "code",
      "execution_count": null,
      "id": "51d237ef-b1a9-4066-8498-7214245931d1",
      "metadata": {
        "id": "51d237ef-b1a9-4066-8498-7214245931d1"
      },
      "outputs": [],
      "source": []
    }
  ],
  "metadata": {
    "kernelspec": {
      "display_name": "Python 3 (ipykernel)",
      "language": "python",
      "name": "python3"
    },
    "language_info": {
      "codemirror_mode": {
        "name": "ipython",
        "version": 3
      },
      "file_extension": ".py",
      "mimetype": "text/x-python",
      "name": "python",
      "nbconvert_exporter": "python",
      "pygments_lexer": "ipython3",
      "version": "3.11.7"
    },
    "colab": {
      "provenance": []
    }
  },
  "nbformat": 4,
  "nbformat_minor": 5
}