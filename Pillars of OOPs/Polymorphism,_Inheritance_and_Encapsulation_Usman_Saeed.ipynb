{
  "nbformat": 4,
  "nbformat_minor": 0,
  "metadata": {
    "colab": {
      "provenance": []
    },
    "kernelspec": {
      "name": "python3",
      "display_name": "Python 3"
    },
    "language_info": {
      "name": "python"
    }
  },
  "cells": [
    {
      "cell_type": "markdown",
      "source": [
        "# **Polymorphism**"
      ],
      "metadata": {
        "id": "t26kebo8_LQP"
      }
    },
    {
      "cell_type": "code",
      "execution_count": null,
      "metadata": {
        "colab": {
          "base_uri": "https://localhost:8080/"
        },
        "id": "hMf1y3a9-yAR",
        "outputId": "4aec436e-d4e4-4903-99b3-a6d63dc43b7b"
      },
      "outputs": [
        {
          "output_type": "stream",
          "name": "stdout",
          "text": [
            "Bow Bow!\n",
            "Caw Caw!\n",
            "Quack Quack!\n"
          ]
        }
      ],
      "source": [
        "class Dog:\n",
        "  def speak(self):\n",
        "    return \"Bow Bow!\"\n",
        "\n",
        "class Crow:\n",
        "  def speak(self):\n",
        "    return \"Caw Caw!\"\n",
        "\n",
        "class Duck:\n",
        "  def speak(self):\n",
        "    return \"Quack Quack!\"\n",
        "\n",
        "def animal_speak(animal):\n",
        "  return animal.speak()\n",
        "\n",
        "dog= Dog()\n",
        "crow= Crow()\n",
        "duck= Duck()\n",
        "\n",
        "print(animal_speak(dog))\n",
        "print(animal_speak(crow))\n",
        "print(animal_speak(duck))"
      ]
    },
    {
      "cell_type": "code",
      "source": [
        "class Instrument:\n",
        "    def play(self):\n",
        "        raise NotImplementedError(\"Subclasses must implement this method\")\n",
        "\n",
        "    def describe(self):\n",
        "        return \"This is a musical instrument.\"\n",
        "\n",
        "\n",
        "class Piano(Instrument):\n",
        "    def play(self):\n",
        "        return \"Playing a beautiful piano melody.\"\n",
        "\n",
        "    def describe(self):\n",
        "        return \"This is a piano, known for its wide range of tones.\"\n",
        "\n",
        "\n",
        "class Guitar(Instrument):\n",
        "    def play(self):\n",
        "        return \"Strumming a lively guitar tune.\"\n",
        "\n",
        "    def describe(self):\n",
        "        return \"This is a guitar, often used in rock and pop music.\"\n",
        "\n",
        "\n",
        "class Violin(Instrument):\n",
        "    def play(self):\n",
        "        return \"Playing a soulful violin piece.\"\n",
        "\n",
        "    def describe(self):\n",
        "        return \"This is a violin, famous for its rich and emotional sound.\"\n",
        "\n",
        "\n",
        "\n",
        "def perform_concert(instrument):\n",
        "    print(instrument.describe())\n",
        "    print(instrument.play())\n",
        "    print()\n",
        "\n",
        "\n",
        "\n",
        "piano = Piano()\n",
        "guitar = Guitar()\n",
        "violin = Violin()\n",
        "\n",
        "\n",
        "perform_concert(piano)\n",
        "perform_concert(guitar)\n",
        "perform_concert(violin)"
      ],
      "metadata": {
        "colab": {
          "base_uri": "https://localhost:8080/"
        },
        "id": "FU8c2vRHCeEG",
        "outputId": "3558dc7a-9a43-4269-c241-ec26dc7092ed"
      },
      "execution_count": null,
      "outputs": [
        {
          "output_type": "stream",
          "name": "stdout",
          "text": [
            "This is a piano, known for its wide range of tones.\n",
            "Playing a beautiful piano melody.\n",
            "\n",
            "This is a guitar, often used in rock and pop music.\n",
            "Strumming a lively guitar tune.\n",
            "\n",
            "This is a violin, famous for its rich and emotional sound.\n",
            "Playing a soulful violin piece.\n",
            "\n"
          ]
        }
      ]
    },
    {
      "cell_type": "markdown",
      "source": [
        "# **Inheritance**"
      ],
      "metadata": {
        "id": "0NxoSfhvDMAM"
      }
    },
    {
      "cell_type": "code",
      "source": [
        "class Instrument:\n",
        "    def __init__(self, name, type_of_instrument):\n",
        "        self.name = name\n",
        "        self.type_of_instrument = type_of_instrument\n",
        "\n",
        "    def play(self):\n",
        "        print(f\"Playing the {self.name}...\")\n",
        "\n",
        "    def tune(self):\n",
        "        print(f\"Tuning the {self.name}...\")\n",
        "\n",
        "    def info(self):\n",
        "        return f\"{self.name} is a {self.type_of_instrument}.\"\n",
        "\n",
        "\n",
        "class StringInstrument(Instrument):\n",
        "    def __init__(self, name, number_of_strings):\n",
        "        super().__init__(name, \"String Instrument\")\n",
        "        self.number_of_strings = number_of_strings\n",
        "\n",
        "    def play(self):\n",
        "        print(f\"Playing the {self.name} with {self.number_of_strings} strings...\")\n",
        "\n",
        "    def tune(self):\n",
        "        print(f\"Tuning the {self.name} with {self.number_of_strings} strings...\")\n",
        "\n",
        "\n",
        "class WindInstrument(Instrument):\n",
        "    def __init__(self, name, mouthpiece_type):\n",
        "        super().__init__(name, \"Wind Instrument\")\n",
        "        self.mouthpiece_type = mouthpiece_type\n",
        "\n",
        "    def play(self):\n",
        "        print(f\"Playing the {self.name} using a {self.mouthpiece_type} mouthpiece...\")\n",
        "\n",
        "\n",
        "class PercussionInstrument(Instrument):\n",
        "    def __init__(self, name, material):\n",
        "        super().__init__(name, \"Percussion Instrument\")\n",
        "        self.material = material\n",
        "\n",
        "    def play(self):\n",
        "        print(f\"Playing the {self.name} made of {self.material}...\")\n",
        "\n",
        "\n",
        "def main():\n",
        "\n",
        "    guitar = StringInstrument(\"Guitar\", 6)\n",
        "    flute = WindInstrument(\"Flute\", \"embouchure\")\n",
        "    drum = PercussionInstrument(\"Drum\", \"wood\")\n",
        "\n",
        "\n",
        "    print(guitar.info())\n",
        "    guitar.play()\n",
        "    guitar.tune()\n",
        "\n",
        "    print(\"\\n\" + flute.info())\n",
        "    flute.play()\n",
        "    flute.tune()\n",
        "\n",
        "    print(\"\\n\" + drum.info())\n",
        "    drum.play()\n",
        "    drum.tune()\n",
        "\n",
        "if __name__ == \"__main__\":\n",
        "    main()"
      ],
      "metadata": {
        "colab": {
          "base_uri": "https://localhost:8080/"
        },
        "id": "kiU-UfgMDQQa",
        "outputId": "027ac0cd-679e-48ef-d400-8218eb9a0b41"
      },
      "execution_count": null,
      "outputs": [
        {
          "output_type": "stream",
          "name": "stdout",
          "text": [
            "Guitar is a String Instrument.\n",
            "Playing the Guitar with 6 strings...\n",
            "Tuning the Guitar with 6 strings...\n",
            "\n",
            "Flute is a Wind Instrument.\n",
            "Playing the Flute using a embouchure mouthpiece...\n",
            "Tuning the Flute...\n",
            "\n",
            "Drum is a Percussion Instrument.\n",
            "Playing the Drum made of wood...\n",
            "Tuning the Drum...\n"
          ]
        }
      ]
    },
    {
      "cell_type": "code",
      "source": [
        "class Car:\n",
        "    def __init__(self, make, model, year):\n",
        "        self.make = make\n",
        "        self.model = model\n",
        "        self.year = year\n",
        "\n",
        "    def start_engine(self):\n",
        "        return f\"The engine of the {self.year} {self.make} {self.model} starts.\"\n",
        "\n",
        "    def stop_engine(self):\n",
        "        return f\"The engine of the {self.year} {self.make} {self.model} stops.\"\n",
        "\n",
        "    def get_info(self):\n",
        "        return f\"{self.year} {self.make} {self.model}\"\n",
        "\n",
        "\n",
        "class ElectricCar(Car):\n",
        "    def __init__(self, make, model, year, battery_size):\n",
        "\n",
        "        super().__init__(make, model, year)\n",
        "        self.battery_size = battery_size\n",
        "\n",
        "    def charge(self):\n",
        "        return f\"The {self.make} {self.model} is charging with a {self.battery_size}-kWh battery.\"\n",
        "\n",
        "    def get_info(self):\n",
        "        return f\"{self.year} {self.make} {self.model} (Electric Car with {self.battery_size}-kWh battery)\"\n",
        "\n",
        "\n",
        "class SportsCar(Car):\n",
        "    def __init__(self, make, model, year, top_speed):\n",
        "\n",
        "        super().__init__(make, model, year)\n",
        "        self.top_speed = top_speed\n",
        "\n",
        "    def accelerate(self):\n",
        "        return f\"The {self.year} {self.make} {self.model} accelerates to {self.top_speed} mph.\"\n",
        "\n",
        "    def get_info(self):\n",
        "        return f\"{self.year} {self.make} {self.model} (Sports Car with top speed of {self.top_speed} mph)\"\n",
        "\n",
        "\n",
        "car1 = Car(\"Toyota\", \"Corolla\", 2020)\n",
        "electric_car1 = ElectricCar(\"Tesla\", \"Model 3\", 2023, 75)\n",
        "sports_car1 = SportsCar(\"Ferrari\", \"488 GTB\", 2021, 211)\n",
        "\n",
        "\n",
        "print(car1.get_info())\n",
        "print(car1.start_engine())\n",
        "\n",
        "print(electric_car1.get_info())\n",
        "print(electric_car1.charge())\n",
        "\n",
        "print(sports_car1.get_info())\n",
        "print(sports_car1.accelerate())"
      ],
      "metadata": {
        "colab": {
          "base_uri": "https://localhost:8080/"
        },
        "id": "wiR1fI27EsGW",
        "outputId": "44e5d8b7-9713-4064-a83f-bdd7deffe1fc"
      },
      "execution_count": null,
      "outputs": [
        {
          "output_type": "stream",
          "name": "stdout",
          "text": [
            "2020 Toyota Corolla\n",
            "The engine of the 2020 Toyota Corolla starts.\n",
            "2023 Tesla Model 3 (Electric Car with 75-kWh battery)\n",
            "The Tesla Model 3 is charging with a 75-kWh battery.\n",
            "2021 Ferrari 488 GTB (Sports Car with top speed of 211 mph)\n",
            "The 2021 Ferrari 488 GTB accelerates to 211 mph.\n"
          ]
        }
      ]
    },
    {
      "cell_type": "markdown",
      "source": [
        "# **Encapsulation**"
      ],
      "metadata": {
        "id": "cg6ON5ybE9Ow"
      }
    },
    {
      "cell_type": "code",
      "source": [
        "class Car:\n",
        "    def __init__(self, make, model, year, color):\n",
        "\n",
        "        self.__make = make\n",
        "        self.__model = model\n",
        "        self.__year = year\n",
        "        self.__color = color\n",
        "        self.__speed = 0\n",
        "\n",
        "\n",
        "    def get_make(self):\n",
        "        return self.__make\n",
        "\n",
        "    def get_model(self):\n",
        "        return self.__model\n",
        "\n",
        "    def get_year(self):\n",
        "        return self.__year\n",
        "\n",
        "    def get_color(self):\n",
        "        return self.__color\n",
        "\n",
        "    def get_speed(self):\n",
        "        return self.__speed\n",
        "\n",
        "\n",
        "    def set_make(self, make):\n",
        "        self.__make = make\n",
        "\n",
        "    def set_model(self, model):\n",
        "        self.__model = model\n",
        "\n",
        "    def set_color(self, color):\n",
        "        self.__color = color\n",
        "\n",
        "\n",
        "    def accelerate(self, increment):\n",
        "        if increment > 0:\n",
        "            self.__speed += increment\n",
        "            print(f\"The car has accelerated to {self.__speed} km/h.\")\n",
        "        else:\n",
        "            print(\"Please provide a positive increment value.\")\n",
        "\n",
        "\n",
        "    def brake(self, decrement):\n",
        "        if decrement > 0 and self.__speed >= decrement:\n",
        "            self.__speed -= decrement\n",
        "            print(f\"The car has slowed down to {self.__speed} km/h.\")\n",
        "        elif self.__speed < decrement:\n",
        "            print(\"The car cannot slow down that much.\")\n",
        "        else:\n",
        "            print(\"Please provide a positive decrement value.\")\n",
        "\n",
        "\n",
        "    def display_car_details(self):\n",
        "        print(f\"Car Details: {self.__year} {self.__make} {self.__model} in {self.__color} color.\")\n",
        "\n",
        "\n",
        "my_car = Car(\"Toyota\", \"Camry\", 2020, \"blue\")\n",
        "\n",
        "my_car.display_car_details()\n",
        "\n",
        "my_car.accelerate(30)\n",
        "\n",
        "my_car.brake(10)"
      ],
      "metadata": {
        "colab": {
          "base_uri": "https://localhost:8080/"
        },
        "id": "IMimyJJRFCGS",
        "outputId": "a9bd7e97-a2d3-4ef5-c00f-f682b56c755f"
      },
      "execution_count": null,
      "outputs": [
        {
          "output_type": "stream",
          "name": "stdout",
          "text": [
            "Car Details: 2020 Toyota Camry in blue color.\n",
            "The car has accelerated to 30 km/h.\n",
            "The car has slowed down to 20 km/h.\n"
          ]
        }
      ]
    },
    {
      "cell_type": "code",
      "source": [
        "class Watch:\n",
        "    def __init__(self, brand, model, time):\n",
        "\n",
        "        self.__brand = brand\n",
        "        self.__model = model\n",
        "        self.__time = time\n",
        "\n",
        "\n",
        "    def get_brand(self):\n",
        "        return self.__brand\n",
        "\n",
        "    def get_model(self):\n",
        "        return self.__model\n",
        "\n",
        "    def get_time(self):\n",
        "        return self.__time\n",
        "\n",
        "\n",
        "    def set_time(self, new_time):\n",
        "        self.__time = new_time\n",
        "\n",
        "\n",
        "    def display_watch_info(self):\n",
        "        print(f\"Brand: {self.__brand}\")\n",
        "        print(f\"Model: {self.__model}\")\n",
        "        print(f\"Current Time: {self.__time}\")\n",
        "\n",
        "my_watch = Watch(\"Rolex\", \"Submariner\", \"10:30 AM\")\n",
        "\n",
        "my_watch.display_watch_info()\n",
        "\n",
        "my_watch.set_time(\"12:00 PM\")\n",
        "\n",
        "print(f\"Updated Time: {my_watch.get_time()}\")"
      ],
      "metadata": {
        "colab": {
          "base_uri": "https://localhost:8080/"
        },
        "id": "fBWRtBNsFl47",
        "outputId": "3eff8dc5-146e-4ea7-e8c4-dc719cdfc9ac"
      },
      "execution_count": null,
      "outputs": [
        {
          "output_type": "stream",
          "name": "stdout",
          "text": [
            "Brand: Rolex\n",
            "Model: Submariner\n",
            "Current Time: 10:30 AM\n",
            "Updated Time: 12:00 PM\n"
          ]
        }
      ]
    }
  ]
}