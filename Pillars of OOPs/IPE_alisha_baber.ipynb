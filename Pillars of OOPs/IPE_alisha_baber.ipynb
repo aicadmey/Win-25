{
  "nbformat": 4,
  "nbformat_minor": 0,
  "metadata": {
    "colab": {
      "provenance": []
    },
    "kernelspec": {
      "name": "python3",
      "display_name": "Python 3"
    },
    "language_info": {
      "name": "python"
    }
  },
  "cells": [
    {
      "cell_type": "markdown",
      "source": [
        "# **Inheritance**"
      ],
      "metadata": {
        "id": "15GCOF4KLE-k"
      }
    },
    {
      "cell_type": "code",
      "source": [
        "#Parent Class\n",
        "class person:\n",
        "  def __init__(self,name):\n",
        "    self.name=name\n",
        "  def walk(self):\n",
        "    print(f\"{self.name}do walks.\")\n",
        "\n",
        "# Child class\n",
        "    class female(person):\n",
        "      def walk(self):\n",
        "        print(f\"{self.name}smothly walks\")\n",
        "\n",
        "\n",
        "Person=person(\"living thing\")\n",
        "Person.walk()\n",
        "\n",
        "Female = female(\"Alisha\")\n",
        "Female.walk()\n",
        "\n",
        "\n",
        "\n",
        "\n",
        "\n",
        "\n",
        "\n",
        "\n"
      ],
      "metadata": {
        "colab": {
          "base_uri": "https://localhost:8080/",
          "height": 228
        },
        "id": "VsQjKS2TLLPN",
        "outputId": "249ab6f4-6f0b-4035-b310-8423cfb004f1"
      },
      "execution_count": null,
      "outputs": [
        {
          "output_type": "stream",
          "name": "stdout",
          "text": [
            "living thingdo walks.\n"
          ]
        },
        {
          "output_type": "error",
          "ename": "NameError",
          "evalue": "name 'female' is not defined",
          "traceback": [
            "\u001b[0;31m---------------------------------------------------------------------------\u001b[0m",
            "\u001b[0;31mNameError\u001b[0m                                 Traceback (most recent call last)",
            "\u001b[0;32m<ipython-input-7-a4238368e5a7>\u001b[0m in \u001b[0;36m<cell line: 17>\u001b[0;34m()\u001b[0m\n\u001b[1;32m     15\u001b[0m \u001b[0mPerson\u001b[0m\u001b[0;34m.\u001b[0m\u001b[0mwalk\u001b[0m\u001b[0;34m(\u001b[0m\u001b[0;34m)\u001b[0m\u001b[0;34m\u001b[0m\u001b[0;34m\u001b[0m\u001b[0m\n\u001b[1;32m     16\u001b[0m \u001b[0;34m\u001b[0m\u001b[0m\n\u001b[0;32m---> 17\u001b[0;31m \u001b[0mFemale\u001b[0m \u001b[0;34m=\u001b[0m \u001b[0mfemale\u001b[0m\u001b[0;34m(\u001b[0m\u001b[0;34m\"Alisha\"\u001b[0m\u001b[0;34m)\u001b[0m\u001b[0;34m\u001b[0m\u001b[0;34m\u001b[0m\u001b[0m\n\u001b[0m\u001b[1;32m     18\u001b[0m \u001b[0mFemale\u001b[0m\u001b[0;34m.\u001b[0m\u001b[0mwalk\u001b[0m\u001b[0;34m(\u001b[0m\u001b[0;34m)\u001b[0m\u001b[0;34m\u001b[0m\u001b[0;34m\u001b[0m\u001b[0m\n\u001b[1;32m     19\u001b[0m \u001b[0;34m\u001b[0m\u001b[0m\n",
            "\u001b[0;31mNameError\u001b[0m: name 'female' is not defined"
          ]
        }
      ]
    },
    {
      "cell_type": "code",
      "source": [
        "# Parent Class\n",
        "class Animal:\n",
        "    def __init__(self, name):\n",
        "        self.name = name\n",
        "\n",
        "    def speak(self):\n",
        "        print(f\"{self.name} makes a sound.\")\n",
        "\n",
        "# Child Class\n",
        "class Dog(Animal):\n",
        "    def speak(self):  # Overriding the parent class method\n",
        "        print(f\"{self.name} barks.\")\n",
        "\n",
        "# Using the classes\n",
        "animal = Animal(\"Generic Animal\")\n",
        "animal.speak()\n",
        "\n",
        "dog = Dog(\"Buddy\")\n",
        "dog.speak()\n"
      ],
      "metadata": {
        "colab": {
          "base_uri": "https://localhost:8080/"
        },
        "id": "kEqfXoM2S4M5",
        "outputId": "d20d5771-98ea-4a61-d403-1d86299f9dc6"
      },
      "execution_count": null,
      "outputs": [
        {
          "output_type": "stream",
          "name": "stdout",
          "text": [
            "Generic Animal makes a sound.\n",
            "Buddy barks.\n"
          ]
        }
      ]
    },
    {
      "cell_type": "markdown",
      "source": [
        "# **Polymorphism**"
      ],
      "metadata": {
        "id": "ykwmlerWWFg1"
      }
    },
    {
      "cell_type": "code",
      "source": [
        "class Animal:\n",
        "    def sound(self):\n",
        "        print(\"Some generic animal sound\")\n",
        "\n",
        "class Dog(Animal):\n",
        "    def sound(self):  # Overriding the parent method\n",
        "        print(\"Woof! Woof!\")\n",
        "\n",
        "class Cat(Animal):\n",
        "    def sound(self):  # Overriding the parent method\n",
        "        print(\"Meow! Meow!\")\n",
        "\n",
        "# Using polymorphism\n",
        "animals = [Dog(), Cat(), Animal()]\n",
        "for animal in animals:\n",
        "    animal.sound()"
      ],
      "metadata": {
        "colab": {
          "base_uri": "https://localhost:8080/"
        },
        "id": "uOxrUCaoWLFU",
        "outputId": "22041b8f-233d-440d-ec58-f68095dfd769"
      },
      "execution_count": null,
      "outputs": [
        {
          "output_type": "stream",
          "name": "stdout",
          "text": [
            "Woof! Woof!\n",
            "Meow! Meow!\n",
            "Some generic animal sound\n"
          ]
        }
      ]
    },
    {
      "cell_type": "code",
      "source": [
        "# Parent class\n",
        "class Vehicle:\n",
        "    def start(self):\n",
        "        print(\"Vehicle is starting...\")\n",
        "\n",
        "# Child class 1: Car\n",
        "class Car(Vehicle):\n",
        "    def start(self):\n",
        "        print(\"Car is starting with a key...\")\n",
        "\n",
        "# Child class 2: Bike\n",
        "class Bike(Vehicle):\n",
        "    def start(self):\n",
        "        print(\"Bike is starting with a button...\")\n",
        "\n",
        "# Polymorphism in action\n",
        "vehicles = [Car(), Bike()]\n",
        "\n",
        "for vehicle in vehicles:\n",
        "    vehicle.start()"
      ],
      "metadata": {
        "colab": {
          "base_uri": "https://localhost:8080/"
        },
        "id": "5QenF_MGXjV6",
        "outputId": "f793bbf1-73bd-45f8-b515-46930e6c7b9a"
      },
      "execution_count": null,
      "outputs": [
        {
          "output_type": "stream",
          "name": "stdout",
          "text": [
            "Car is starting with a key...\n",
            "Bike is starting with a button...\n"
          ]
        }
      ]
    },
    {
      "cell_type": "markdown",
      "source": [
        "# **Encapsulation**"
      ],
      "metadata": {
        "id": "q7Q95LYoX75L"
      }
    },
    {
      "cell_type": "code",
      "source": [
        "class Person:\n",
        "    def __init__(self, name, age):\n",
        "        self.__name = name  # Private attribute\n",
        "        self.__age = age    # Private attribute\n",
        "\n",
        "    def display_info(self):\n",
        "        print(f\"Name: {self.__name}, Age: {self.__age}\")\n",
        "\n",
        "# Create an object of Person class\n",
        "person = Person(\"Alisha\", 20)\n",
        "\n",
        "# Access the display_info method to view the details\n",
        "person.display_info()\n",
        "\n"
      ],
      "metadata": {
        "colab": {
          "base_uri": "https://localhost:8080/"
        },
        "id": "htEBVBpFX_QH",
        "outputId": "fafd1ab3-3f4a-448e-c425-c5676e471062"
      },
      "execution_count": null,
      "outputs": [
        {
          "output_type": "stream",
          "name": "stdout",
          "text": [
            "Name: Alisha, Age: 20\n"
          ]
        }
      ]
    },
    {
      "cell_type": "code",
      "source": [
        "class Bank:\n",
        "    def __init__(self, name, balance):\n",
        "        self.__name = name\n",
        "        self.__balance = balance  # private attribute\n",
        "\n",
        "    def display_info(self):\n",
        "        print(f\"Name: {self.__name}, Balance: {self.__balance}\")\n",
        "\n",
        "# Create an object of the Bank class\n",
        "Bank = Bank(\"Alisha Babar\", 100000)\n",
        "\n",
        "# Call the display_info method\n",
        "Bank.display_info()"
      ],
      "metadata": {
        "colab": {
          "base_uri": "https://localhost:8080/"
        },
        "id": "aLKg6d0HY-Mc",
        "outputId": "d021d6e6-1be5-4f7b-9e69-f647ac0de906"
      },
      "execution_count": null,
      "outputs": [
        {
          "output_type": "stream",
          "name": "stdout",
          "text": [
            "Name: Alisha Babar, Balance: 100000\n"
          ]
        }
      ]
    }
  ]
}