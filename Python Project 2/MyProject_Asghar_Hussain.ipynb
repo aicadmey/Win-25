{
  "nbformat": 4,
  "nbformat_minor": 0,
  "metadata": {
    "colab": {
      "provenance": []
    },
    "kernelspec": {
      "name": "python3",
      "display_name": "Python 3"
    },
    "language_info": {
      "name": "python"
    }
  },
  "cells": [
    {
      "cell_type": "code",
      "execution_count": null,
      "metadata": {
        "colab": {
          "base_uri": "https://localhost:8080/"
        },
        "id": "bNJPXArB0r3H",
        "outputId": "e041d0a5-02be-406c-f19f-0836e083e596"
      },
      "outputs": [
        {
          "output_type": "stream",
          "name": "stdout",
          "text": [
            "Enter mother's blood type (e.g., A+, O-, B+): O+\n",
            "Enter baby's blood type (e.g., A+, O-, B+): B-\n",
            "Prediction: Moderate risk of Hemolytic Disease of the Newborn\n",
            "Risk Factors: {'ABO incompatibility': True, 'Rh incompatibility': False}\n"
          ]
        }
      ],
      "source": [
        "\"\"\"Python code for predicting Hemolytic Disease of the Newborn (HDN) based on blood\n",
        "incompatibility between mother and baby:\"\"\"\n",
        "\n",
        "\n",
        "class Patient:\n",
        "    def __init__(self, mother_blood_type, baby_blood_type):\n",
        "        self.mother_blood_type = mother_blood_type\n",
        "        self.baby_blood_type = baby_blood_type\n",
        "        self.risk_factors = self.calculate_risk_factors()\n",
        "\n",
        "    def calculate_risk_factors(self):\n",
        "        risk_factors = {}\n",
        "        if self.mother_blood_type in [\"O+\",\"O-\"]  and self.baby_blood_type in [\"A+\",\"A-\",\"B+\", \"B-\", \"AB+\",\"AB-\"]:\n",
        "            risk_factors[\"ABO incompatibility\"] = True\n",
        "        else:\n",
        "            risk_factors[\"ABO incompatibility\"] = False\n",
        "\n",
        "        if \"-\" in self.mother_blood_type  and \"+\" in self.baby_blood_type:\n",
        "            risk_factors[\"Rh incompatibility\"] = True\n",
        "        else:\n",
        "          risk_factors[\"Rh incompatibility\"] = False\n",
        "        return risk_factors\n",
        "\n",
        "    def predict_disease(self):\n",
        "        if self.risk_factors[\"ABO incompatibility\"] and self.risk_factors[\"Rh incompatibility\"]:\n",
        "            return \"High risk of Hemolytic Disease of the Newborn\"\n",
        "        elif self.risk_factors[\"ABO incompatibility\"]:\n",
        "            return \"Moderate risk of Hemolytic Disease of the Newborn\"\n",
        "        elif self.risk_factors[\"Rh incompatibility\"]:\n",
        "            return \"Moderate risk of Hemolytic Disease of the Newborn\"\n",
        "        else:\n",
        "            return \"Low risk of Hemolytic Disease of the Newborn\"\n",
        "\n",
        "\n",
        "def main():\n",
        "    mother_blood_type = input(\"Enter mother's blood type (e.g., A+, O-, B+): \").upper()\n",
        "    baby_blood_type = input(\"Enter baby's blood type (e.g., A+, O-, B+): \").upper()\n",
        "\n",
        "    patient = Patient(mother_blood_type, baby_blood_type)\n",
        "    prediction = patient.predict_disease()\n",
        "    Risk_factors = patient.calculate_risk_factors()\n",
        "    print(f\"Prediction: {prediction}\")\n",
        "    print(f\"Risk Factors: {Risk_factors}\")\n",
        "\n",
        "if __name__ == \"__main__\":\n",
        "    main()\n"
      ]
    }
  ]
}