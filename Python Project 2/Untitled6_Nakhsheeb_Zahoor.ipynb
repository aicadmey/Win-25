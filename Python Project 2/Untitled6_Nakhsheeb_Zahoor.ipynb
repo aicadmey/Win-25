{
  "nbformat": 4,
  "nbformat_minor": 0,
  "metadata": {
    "colab": {
      "provenance": []
    },
    "kernelspec": {
      "name": "python3",
      "display_name": "Python 3"
    },
    "language_info": {
      "name": "python"
    }
  },
  "cells": [
    {
      "cell_type": "code",
      "execution_count": null,
      "metadata": {
        "id": "NsOJz3qZgFQV"
      },
      "outputs": [],
      "source": [
        "def ask_question(question, options):\n",
        "    print(question)\n",
        "    for i, option in enumerate(options, 1):\n",
        "        print(f\"{i}. {option}\")\n",
        "    answer = int(input(\"Enter the number of your choice: \"))\n",
        "    return options[answer - 1]\n",
        "\n",
        "def main():\n",
        "    questions = [\n",
        "        (\"What imaginary power would you choose?\", [\"Invisibility\", \"Telepathy\", \"Super Strength\", \"Flying\"]),\n",
        "    ]\n",
        "\n",
        "    psychology_link = {\n",
        "        \"Invisibility\": \"People who choose invisibility might value privacy and introspection. They might enjoy observing situations from the outside.\",\n",
        "        \"Telepathy\": \"Those who opt for telepathy often have a strong interest in understanding others' thoughts and emotions, and may be highly empathetic.\",\n",
        "        \"Super Strength\": \"Choosing super strength could indicate a desire for resilience and the ability to overcome obstacles. These individuals might be determined and ambitious.\",\n",
        "        \"Flying\": \"People who choose flying might have a sense of adventure and a desire for freedom. They may enjoy exploring new horizons and feeling unrestrained.\"\n",
        "    }\n",
        "\n",
        "    for question, options in questions:\n",
        "        choice = ask_question(question, options)\n",
        "        print(f\"You chose: {choice}\")\n",
        "        print(f\"Psychological insight: {psychology_link[choice]}\")\n",
        "\n",
        "if __name__ == \"__main__\":\n",
        "    main()\n"
      ]
    },
    {
      "cell_type": "code",
      "source": [
        "\n",
        "def ask_question(question):\n",
        "    print(question)\n",
        "    answer = input(\"Enter your answer (Yes/No): \")\n",
        "    return answer.lower() == 'yes'\n",
        "\n",
        "def calculate_score(answers):\n",
        "    score = sum(answers) / len(answers) * 100\n",
        "    return score\n",
        "\n",
        "def main():\n",
        "    questions = [\n",
        "        \"Do you often feel a lack of empathy towards others?\",\n",
        "        \"Do you find it easy to manipulate others to get what you want?\",\n",
        "        \"Are you often impulsive or engage in risky behaviors?\",\n",
        "        \"Do you rarely feel guilt or remorse for your actions?\",\n",
        "        \"Do you consider yourself charming or charismatic?\"\n",
        "    ]\n",
        "    answers = []\n",
        "    for question in questions:\n",
        "        answer = ask_question(question)\n",
        "        answers.append(answer)\n",
        "\n",
        "    score = calculate_score(answers)\n",
        "    print(f\"Your psychopathic trait percentage is: {score}%\")\n",
        "\n",
        "if __name__ == \"__main__\":\n",
        "    main()\n"
      ],
      "metadata": {
        "colab": {
          "base_uri": "https://localhost:8080/"
        },
        "id": "AmdGXyXFgKfl",
        "outputId": "4f84eacc-01dc-44da-dd0f-fecc505dd5b0"
      },
      "execution_count": null,
      "outputs": [
        {
          "output_type": "stream",
          "name": "stdout",
          "text": [
            "Do you often feel a lack of empathy towards others?\n"
          ]
        }
      ]
    }
  ]
}