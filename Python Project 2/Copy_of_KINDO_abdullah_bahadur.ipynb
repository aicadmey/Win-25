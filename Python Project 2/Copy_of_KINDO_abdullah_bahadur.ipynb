{
  "nbformat": 4,
  "nbformat_minor": 0,
  "metadata": {
    "colab": {
      "provenance": []
    },
    "kernelspec": {
      "name": "python3",
      "display_name": "Python 3"
    },
    "language_info": {
      "name": "python"
    }
  },
  "cells": [
    {
      "cell_type": "code",
      "execution_count": null,
      "metadata": {
        "id": "imxGAGlMbT6q"
      },
      "outputs": [],
      "source": [
        "import os\n",
        "import pyttsx3\n",
        "\n",
        "def speak(text):\n",
        "    engine = pyttsx3.init()\n",
        "    try:\n",
        "        engine.say(text)\n",
        "        engine.runAndWait()\n",
        "    except Exception as e:\n",
        "        print(f\"Error with text-to-speech engine: {e}\")\n",
        "\n",
        "def kindo_startup():\n",
        "    startup_message = \"Hello, I am KINDO. I am developed by MR. ABDULLAH BAHADUR.\"\n",
        "    print(startup_message)\n",
        "    speak(startup_message)\n",
        "\n",
        "def main():\n",
        "    kindo_startup()\n",
        "\n",
        "    while True:\n",
        "        try:\n",
        "            user_input = input(\"You: \").strip().lower()\n",
        "\n",
        "            if user_input in [\"hello\", \"hi\"]:\n",
        "                response = \"Hello! How can I assist you today?\"\n",
        "            elif user_input in [\"how are you\", \"how are you doing\"]:\n",
        "                response = \"I'm just a program, but I'm here to help! How can I assist you?\"\n",
        "            elif user_input in [\"exit\", \"quit\", \"bye\"]:\n",
        "                response = \"Goodbye! Have a great day!\"\n",
        "                print(f\"KINDO: {response}\")\n",
        "                speak(response)\n",
        "                break\n",
        "            else:\n",
        "                response = \"I'm sorry, I don't understand that yet. Can you rephrase?\"\n",
        "\n",
        "            print(f\"KINDO: {response}\")\n",
        "            speak(response)\n",
        "        except KeyboardInterrupt:\n",
        "            print(\"\\nKINDO: Goodbye! Have a great day!\")\n",
        "            speak(\"Goodbye! Have a great day!\")\n",
        "            break\n",
        "        except Exception as e:\n",
        "            print(f\"KINDO: An error occurred: {e}\")\n",
        "\n",
        "if __name__ == \"__main__\":\n",
        "    main()\n"
      ]
    }
  ]
}