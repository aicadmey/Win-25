{
  "nbformat": 4,
  "nbformat_minor": 0,
  "metadata": {
    "colab": {
      "provenance": []
    },
    "kernelspec": {
      "name": "python3",
      "display_name": "Python 3"
    },
    "language_info": {
      "name": "python"
    }
  },
  "cells": [
    {
      "cell_type": "code",
      "execution_count": null,
      "metadata": {
        "id": "mBEJbWCac2-6"
      },
      "outputs": [],
      "source": [
        "# W25-PAK-INP-AI-01\n",
        "# SYEDA ZAINAB FATIMA"
      ]
    },
    {
      "cell_type": "code",
      "source": [
        "# PYTHON COMPLETE PROJECT"
      ],
      "metadata": {
        "id": "pTjxfnmBc4o1"
      },
      "execution_count": null,
      "outputs": []
    },
    {
      "cell_type": "code",
      "source": [
        "# TOPIC : Cosmic Discovery: Modeling Space Missions and Astronomical Events in Python"
      ],
      "metadata": {
        "id": "vna6QAJoc4rP"
      },
      "execution_count": null,
      "outputs": []
    },
    {
      "cell_type": "code",
      "source": [
        "# Variables to store space mission data\n",
        "mission_name = \"Mars Rover Mission\"\n",
        "launch_date = \"2024-08-15\"\n",
        "destination = \"Mars\"\n",
        "mission_status = \"Active\"\n",
        "\n",
        "# Variables for astronomical event\n",
        "event_name = \"Solar Eclipse\"\n",
        "event_date = \"2025-06-12\"\n",
        "event_location = \"Earth\"\n",
        "\n",
        "# Variables to store space mission data\n",
        "print(\"Mission Name:\", mission_name)\n",
        "print(\"Launch Date:\", launch_date)\n",
        "print(\"Destination:\", destination)\n",
        "print(\"Mission Status:\", mission_status)\n",
        "\n",
        "# Variables for astronomical event\n",
        "print(event_name)\n",
        "print(event_date)\n",
        "print(event_location)\n",
        "\n"
      ],
      "metadata": {
        "colab": {
          "base_uri": "https://localhost:8080/"
        },
        "id": "cqc9HwTUc46E",
        "outputId": "e5562293-e470-4956-d25d-d3b781ab5b2f"
      },
      "execution_count": null,
      "outputs": [
        {
          "output_type": "stream",
          "name": "stdout",
          "text": [
            "Mission Name: Mars Rover Mission\n",
            "Launch Date: 2024-08-15\n",
            "Destination: Mars\n",
            "Mission Status: Active\n",
            "Solar Eclipse\n",
            "2025-06-12\n",
            "Earth\n"
          ]
        }
      ]
    },
    {
      "cell_type": "code",
      "source": [
        "# INPUT\n",
        "# Taking user input for space mission\n",
        "mission_name = input(\"Enter Space Mission Name: \")\n",
        "launch_date = input(\"Enter Launch Date (YYYY-MM-DD): \")\n",
        "destination = input(\"Enter Mission Destination: \")\n",
        "mission_status = input(\"Enter Mission Status (Active/Inactive): \")\n",
        "\n",
        "# Taking user input for astronomical event\n",
        "event_name = input(\"Enter Event Name: \")\n",
        "event_date = input(\"Enter Event Date (YYYY-MM-DD): \")\n",
        "event_location = input(\"Enter Event Location: \")\n",
        "\n",
        "print(\"Mission Name:\", mission_name)\n",
        "print(\"Launch Date:\", launch_date)\n",
        "print(\"Destination:\", destination)\n",
        "print(\"Mission Status:\", mission_status)\n",
        "print(event_name)\n",
        "print(event_date)\n",
        "print(event_location)"
      ],
      "metadata": {
        "colab": {
          "base_uri": "https://localhost:8080/"
        },
        "id": "-1h9rhjCc48e",
        "outputId": "127ffdda-c4b6-4f8b-acf5-04618f0701b5"
      },
      "execution_count": null,
      "outputs": [
        {
          "output_type": "stream",
          "name": "stdout",
          "text": [
            "Enter Space Mission Name: Mars Rover Mission\n",
            "Enter Launch Date (YYYY-MM-DD): 2024-08-15\n",
            "Enter Mission Destination: Mars\n",
            "Enter Mission Status (Active/Inactive): Active\n",
            "Enter Event Name: Solar Eclipse\n",
            "Enter Event Date (YYYY-MM-DD): 2025-06-12\n",
            "Enter Event Location: Earth\n",
            "Mission Name: Mars Rover Mission\n",
            "Launch Date: 2024-08-15\n",
            "Destination: Mars\n",
            "Mission Status: Active\n",
            "Solar Eclipse\n",
            "2025-06-12\n",
            "Earth\n"
          ]
        }
      ]
    },
    {
      "cell_type": "code",
      "source": [
        "# CONDITIONS\n",
        "# Check the mission status\n",
        "if mission_status.lower() == \"active\":\n",
        "    print(\"The mission is currently active and in progress!\")\n",
        "else:\n",
        "    print(\"The mission is inactive or completed.\")"
      ],
      "metadata": {
        "colab": {
          "base_uri": "https://localhost:8080/"
        },
        "id": "p4m3a5tNc4-z",
        "outputId": "ecee9075-5c6a-404b-fe38-b2adb3dce2b5"
      },
      "execution_count": null,
      "outputs": [
        {
          "output_type": "stream",
          "name": "stdout",
          "text": [
            "The mission is currently active and in progress!\n"
          ]
        }
      ]
    },
    {
      "cell_type": "code",
      "source": [
        "# LOOPS\n",
        "\n",
        "def add_mission_event():\n",
        "    mission_name = input(\"Enter Space Mission Name: \")\n",
        "    launch_date = input(\"Enter Launch Date (YYYY-MM-DD): \")\n",
        "    destination = input(\"Enter Mission Destination: \")\n",
        "    mission_status = input(\"Enter Mission Status (Active/Inactive): \")\n",
        "\n",
        "    event_name = input(\"Enter Event Name: \")\n",
        "    event_date = input(\"Enter Event Date (YYYY-MM-DD): \")\n",
        "    event_location = input(\"Enter Event Location: \")\n",
        "\n",
        "    # Displaying the mission and event details\n",
        "    print(\"\\n--- Space Mission Details ---\")\n",
        "    print(f\"Mission Name: {mission_name}\")\n",
        "    print(f\"Launch Date: {launch_date}\")\n",
        "    print(f\"Destination: {destination}\")\n",
        "    print(f\"Mission Status: {mission_status}\")\n",
        "\n",
        "    print(\"\\n--- Astronomical Event Details ---\")\n",
        "    print(f\"Event Name: {event_name}\")\n",
        "    print(f\"Event Date: {event_date}\")\n",
        "    print(f\"Event Location: {event_location}\")\n",
        "\n",
        "# Loop to add multiple missions and events\n",
        "while True:\n",
        "    add_mission_event()\n",
        "    continue_input = input(\"\\nDo you want to add another mission/event? (yes/no): \").lower()\n",
        "    if continue_input != 'yes':\n",
        "        break"
      ],
      "metadata": {
        "colab": {
          "base_uri": "https://localhost:8080/"
        },
        "id": "OQSD1Lmbc5BY",
        "outputId": "51c8f260-2ae0-4ba3-ec6c-1b19be6f5607"
      },
      "execution_count": null,
      "outputs": [
        {
          "name": "stdout",
          "output_type": "stream",
          "text": [
            "Enter Space Mission Name: Mars Rover Mission\n",
            "Enter Launch Date (YYYY-MM-DD): 2024-08-15\n",
            "Enter Mission Destination: Mars\n",
            "Enter Mission Status (Active/Inactive): Active\n",
            "Enter Event Name: Solar Eclipse\n",
            "Enter Event Date (YYYY-MM-DD): 2025-06-12\n",
            "Enter Event Location: Earth\n",
            "\n",
            "--- Space Mission Details ---\n",
            "Mission Name: Mars Rover Mission\n",
            "Launch Date: 2024-08-15\n",
            "Destination: Mars\n",
            "Mission Status: Active\n",
            "\n",
            "--- Astronomical Event Details ---\n",
            "Event Name: Solar Eclipse\n",
            "Event Date: 2025-06-12\n",
            "Event Location: Earth\n",
            "\n",
            "Do you want to add another mission/event? (yes/no): no\n"
          ]
        }
      ]
    },
    {
      "cell_type": "code",
      "source": [
        "# Class to represent a Space Mission\n",
        "class SpaceMission:\n",
        "    def __init__(self, mission_name, launch_date, destination, mission_status):\n",
        "        self.mission_name = mission_name\n",
        "        self.launch_date = launch_date\n",
        "        self.destination = destination\n",
        "        self.mission_status = mission_status\n",
        "\n",
        "    def display_details(self):\n",
        "        print(\"\\n--- Space Mission Details ---\")\n",
        "        print(f\"Mission Name: {self.mission_name}\")\n",
        "        print(f\"Launch Date: {self.launch_date}\")\n",
        "        print(f\"Destination: {self.destination}\")\n",
        "        print(f\"Mission Status: {self.mission_status}\")\n",
        "\n",
        "# Class to represent an Astronomical Event\n",
        "class AstronomicalEvent:\n",
        "    def __init__(self, event_name, event_date, event_location):\n",
        "        self.event_name = event_name\n",
        "        self.event_date = event_date\n",
        "        self.event_location = event_location\n",
        "\n",
        "    def display_details(self):\n",
        "        print(\"\\n--- Astronomical Event Details ---\")\n",
        "        print(f\"Event Name: {self.event_name}\")\n",
        "        print(f\"Event Date: {self.event_date}\")\n",
        "        print(f\"Event Location: {self.event_location}\")\n",
        "\n",
        "# Creating an object for SpaceMission\n",
        "mission1 = SpaceMission(\"Mars Rover\", \"2024-08-15\", \"Mars\", \"Active\")\n",
        "mission1.display_details()\n",
        "\n",
        "# Creating an object for AstronomicalEvent\n",
        "event1 = AstronomicalEvent(\"Solar Eclipse\", \"2025-06-12\", \"Earth\")\n",
        "event1.display_details()"
      ],
      "metadata": {
        "colab": {
          "base_uri": "https://localhost:8080/"
        },
        "id": "XhbJJF04c5D1",
        "outputId": "58bd3424-0551-44de-bf35-6d111c7f780b"
      },
      "execution_count": null,
      "outputs": [
        {
          "output_type": "stream",
          "name": "stdout",
          "text": [
            "\n",
            "--- Space Mission Details ---\n",
            "Mission Name: Mars Rover\n",
            "Launch Date: 2024-08-15\n",
            "Destination: Mars\n",
            "Mission Status: Active\n",
            "\n",
            "--- Astronomical Event Details ---\n",
            "Event Name: Solar Eclipse\n",
            "Event Date: 2025-06-12\n",
            "Event Location: Earth\n"
          ]
        }
      ]
    },
    {
      "cell_type": "code",
      "source": [
        "# Function to save space mission and event details to a file\n",
        "def save_to_file(mission, event):\n",
        "    with open(\"missions_and_events.txt\", \"a\") as file:\n",
        "        file.write(f\"Mission Name: {mission.mission_name}, Launch Date: {mission.launch_date}, Destination: {mission.destination}, Status: {mission.mission_status}\\n\")\n",
        "        file.write(f\"Event Name: {event.event_name}, Event Date: {event.event_date}, Location: {event.event_location}\\n\")\n",
        "\n",
        "# Function to read saved data from file\n",
        "def read_from_file():\n",
        "    try:\n",
        "        with open(\"missions_and_events.txt\", \"r\") as file:\n",
        "            data = file.read()\n",
        "            print(\"\\n--- Saved Data ---\")\n",
        "            print(data)\n",
        "    except FileNotFoundError:\n",
        "        print(\"No saved data found.\")\n",
        "\n",
        "# Testing the file saving and reading functions\n",
        "mission1 = SpaceMission(\"Mars Rover\", \"2024-08-15\", \"Mars\", \"Active\")\n",
        "event1 = AstronomicalEvent(\"Solar Eclipse\", \"2025-06-12\", \"Earth\")\n",
        "save_to_file(mission1, event1)\n",
        "read_from_file()"
      ],
      "metadata": {
        "colab": {
          "base_uri": "https://localhost:8080/"
        },
        "id": "axsE8f50c5GG",
        "outputId": "b88f4b2b-88bd-43f4-a129-3c40c00d052f"
      },
      "execution_count": null,
      "outputs": [
        {
          "output_type": "stream",
          "name": "stdout",
          "text": [
            "\n",
            "--- Saved Data ---\n",
            "mission and eventsMission Name: Mars Rover, Launch Date: 2024-08-15, Destination: Mars, Status: Active\n",
            "Event Name: Solar Eclipse, Event Date: 2025-06-12, Location: Earth\n",
            "\n"
          ]
        }
      ]
    },
    {
      "cell_type": "code",
      "source": [
        "# ERROR HANDLING\n",
        "def get_valid_date():\n",
        "    while True:\n",
        "        try:\n",
        "            date_input = input(\"Enter a valid date (YYYY-MM-DD): \")\n",
        "            year, month, day = map(int, date_input.split('-'))\n",
        "            if month < 1 or month > 12 or day < 1 or day > 31:\n",
        "                raise ValueError(\"Invalid date. Please enter a valid date.\")\n",
        "            return date_input\n",
        "        except ValueError as e:\n",
        "            print(e)\n",
        "\n",
        "# Example usage\n",
        "date = get_valid_date()\n",
        "print(f\"Valid date entered: {date}\")"
      ],
      "metadata": {
        "colab": {
          "base_uri": "https://localhost:8080/"
        },
        "id": "_moFuhAEc5Im",
        "outputId": "6565299b-a6a5-4fbb-c144-f96979cb7fec"
      },
      "execution_count": null,
      "outputs": [
        {
          "output_type": "stream",
          "name": "stdout",
          "text": [
            "Enter a valid date (YYYY-MM-DD): 2024-08-15\n",
            "Valid date entered: 2024-08-15\n"
          ]
        }
      ]
    },
    {
      "cell_type": "code",
      "source": [
        "# LIBRARIES\n",
        "import matplotlib.pyplot as plt\n",
        "from datetime import datetime\n",
        "def plot_mission_event_dates(mission_dates, event_dates):\n",
        "    plt.figure(figsize=(10, 6))\n",
        "\n",
        "    # Plotting the space mission launch dates\n",
        "    plt.scatter(mission_dates, [1]*len(mission_dates), color='blue', label='Space Missions')\n",
        "\n",
        "    # Plotting the astronomical event dates\n",
        "    plt.scatter(event_dates, [2]*len(event_dates), color='red', label='Astronomical Events')\n",
        "\n",
        "    # Adding labels and title\n",
        "    plt.title(\"Space Mission Launches and Astronomical Events\")\n",
        "    plt.xlabel(\"Date\")\n",
        "    plt.ylabel(\"Event Type\")\n",
        "    plt.yticks([1, 2], ['Space Missions', 'Astronomical Events'])\n",
        "\n",
        "    plt.legend()\n",
        "    plt.grid(True)\n",
        "    plt.show()\n",
        "\n",
        "# Example data for plotting\n",
        "mission_dates = [datetime(2024, 8, 15), datetime(2025, 5, 10)]\n",
        "event_dates = [datetime(2025, 6, 12), datetime(2026, 12, 25)]\n",
        "\n",
        "# Plot the data\n",
        "plot_mission_event_dates(mission_dates, event_dates)"
      ],
      "metadata": {
        "colab": {
          "base_uri": "https://localhost:8080/",
          "height": 550
        },
        "id": "vKPF_bPvc5Kz",
        "outputId": "e8ce0154-e0ee-43c0-b838-26030b1c4cb6"
      },
      "execution_count": null,
      "outputs": [
        {
          "output_type": "display_data",
          "data": {
            "text/plain": [
              "<Figure size 1000x600 with 1 Axes>"
            ],
            "image/png": "[encoded data removed]"
          },
          "metadata": {}
        }
      ]
    },
    {
      "cell_type": "code",
      "source": [],
      "metadata": {
        "id": "_tgaUMm0c5NU"
      },
      "execution_count": null,
      "outputs": []
    },
    {
      "cell_type": "code",
      "source": [],
      "metadata": {
        "id": "ZFqzIODWc5P2"
      },
      "execution_count": null,
      "outputs": []
    },
    {
      "cell_type": "code",
      "source": [],
      "metadata": {
        "id": "MHocMm97c5SU"
      },
      "execution_count": null,
      "outputs": []
    },
    {
      "cell_type": "code",
      "source": [],
      "metadata": {
        "id": "CbrDJekjc5U5"
      },
      "execution_count": null,
      "outputs": []
    },
    {
      "cell_type": "code",
      "source": [],
      "metadata": {
        "id": "FaSiVirnc5Xa"
      },
      "execution_count": null,
      "outputs": []
    },
    {
      "cell_type": "code",
      "source": [],
      "metadata": {
        "id": "3sl7ttCJc5Zx"
      },
      "execution_count": null,
      "outputs": []
    },
    {
      "cell_type": "code",
      "source": [],
      "metadata": {
        "id": "vKQ3m9bWc5cd"
      },
      "execution_count": null,
      "outputs": []
    },
    {
      "cell_type": "code",
      "source": [],
      "metadata": {
        "id": "KMKY5S5Yc5f0"
      },
      "execution_count": null,
      "outputs": []
    }
  ]
}